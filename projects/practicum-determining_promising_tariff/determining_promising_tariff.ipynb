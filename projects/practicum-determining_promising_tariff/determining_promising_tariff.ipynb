{
 "cells": [
  {
   "cell_type": "markdown",
   "metadata": {
    "id": "M6BWwO45DW8P"
   },
   "source": [
    "# Determining a promising tariff for a telecom company\n",
    "\n",
    "## Project Description\n",
    "\n",
    "As an analyst at \"Megaline,\" a national mobile network operator, your task is to perform an initial analysis of the two tariff plans offered to customers: \"Smart\" and \"Ultra.\" The commercial department requires this analysis to help adjust the advertising budget and determine which tariff generates more revenue.\n",
    "\n",
    "To conduct the analysis, you'll use a sample of 500 \"Megaline\" users, analyzing data such as their demographics, location, and usage patterns, including the number of calls and messages sent during 2018. By studying customer behavior, you'll need to arrive at a conclusion regarding which tariff plan is more favorable."
   ]
  },
  {
   "cell_type": "markdown",
   "metadata": {
    "id": "5FirbGz0Pyf8"
   },
   "source": [
    "# Table of contents\n",
    "\n",
    "---\n",
    "\n",
    "1. [Data overview](#data-overview)\n",
    "    * [Conclusion](#overview-conclusion)\n",
    "2. [Data preparation](#data-preparation)\n",
    "    * [Conclusion](#preparation-conclusion)\n",
    "3. [Data analysis](#data-analysis)\n",
    "    * [Histograms](#analysis-histograms)\n",
    "4. [Hypothesis testing](#hypothesis-testing)\n",
    "    * [Hypothesis #1](#hypothesis-1)\n",
    "    * [Hypothesis #2](#hypothesis-2)\n",
    "5. [General conclusion](#conclusion)\n",
    "\n",
    "\n",
    "---\n",
    "\n"
   ]
  },
  {
   "cell_type": "markdown",
   "metadata": {
    "id": "accimKFNDW8Q"
   },
   "source": [
    "## Data overview <a class=\"anchor\" id=\"data-overview\"></a>\n",
    "\n",
    "**Importing libraries, reading data**\n",
    "\n",
    "Importing necessary libraries and modules:"
   ]
  },
  {
   "cell_type": "code",
   "execution_count": 1,
   "metadata": {
    "id": "VHw-4PvODW8R"
   },
   "outputs": [],
   "source": [
    "import matplotlib.pyplot as plt\n",
    "import numpy as np\n",
    "import pandas as pd\n",
    "import seaborn as sns\n",
    "import warnings\n",
    "from scipy import stats as st"
   ]
  },
  {
   "cell_type": "markdown",
   "metadata": {
    "id": "oemBsdWsDW8T"
   },
   "source": [
    "Opening the data with `try` and `except` with different paths."
   ]
  },
  {
   "cell_type": "code",
   "execution_count": 2,
   "metadata": {
    "id": "HKAIQQUADW8T"
   },
   "outputs": [],
   "source": [
    "try:\n",
    "    calls = pd.read_csv(\"/datasets/calls.csv\")\n",
    "    internet = pd.read_csv(\"/datasets/internet.csv\")\n",
    "    messages = pd.read_csv(\"/datasets/messages.csv\")\n",
    "    tariffs = pd.read_csv(\"/datasets/tariffs.csv\")\n",
    "    users = pd.read_csv(\"/datasets/users.csv\")\n",
    "except FileNotFoundError:\n",
    "    try:\n",
    "        calls = pd.read_csv(\"calls.csv\")\n",
    "        internet = pd.read_csv(\"internet.csv\")\n",
    "        messages = pd.read_csv(\"messages.csv\")\n",
    "        tariffs = pd.read_csv(\"tariffs.csv\")\n",
    "        users = pd.read_csv(\"users.csv\")\n",
    "    except FileNotFoundError:\n",
    "        try:\n",
    "            calls = pd.read_csv(r\"calls.csv\")\n",
    "            internet = pd.read_csv(r\"internet.csv\")\n",
    "            messages = pd.read_csv(r\"messages.csv\")\n",
    "            tariffs = pd.read_csv(r\"tariffs.csv\")\n",
    "            users = pd.read_csv(r\"users.csv\")\n",
    "        except FileNotFoundError:\n",
    "            print(\"File not found\")\n",
    "\n",
    "warnings.filterwarnings(\"ignore\")\n",
    "pd.set_option(\"display.max_columns\", None)\n",
    "pd.options.display.float_format = \"{:.2f}\".format"
   ]
  },
  {
   "cell_type": "markdown",
   "metadata": {
    "id": "eyCq9_GFDW8U"
   },
   "source": [
    "**Data information**\n",
    "    \n",
    "**Calls**"
   ]
  },
  {
   "cell_type": "code",
   "execution_count": 3,
   "metadata": {
    "colab": {
     "base_uri": "https://localhost:8080/"
    },
    "id": "HbAW-4FXDW8V",
    "outputId": "c4b252be-6793-4f6b-83e0-730cfbdc3dd9",
    "scrolled": true
   },
   "outputs": [
    {
     "name": "stdout",
     "output_type": "stream",
     "text": [
      "<class 'pandas.core.frame.DataFrame'>\n",
      "RangeIndex: 202607 entries, 0 to 202606\n",
      "Data columns (total 4 columns):\n",
      " #   Column     Non-Null Count   Dtype  \n",
      "---  ------     --------------   -----  \n",
      " 0   id         202607 non-null  object \n",
      " 1   call_date  202607 non-null  object \n",
      " 2   duration   202607 non-null  float64\n",
      " 3   user_id    202607 non-null  int64  \n",
      "dtypes: float64(1), int64(1), object(2)\n",
      "memory usage: 6.2+ MB\n"
     ]
    }
   ],
   "source": [
    "calls.info()"
   ]
  },
  {
   "cell_type": "code",
   "execution_count": 4,
   "metadata": {
    "colab": {
     "base_uri": "https://localhost:8080/",
     "height": 206
    },
    "id": "WOcAORodDW8W",
    "outputId": "8a7dfa08-6911-4a6b-ad4d-8431fb2c75c0"
   },
   "outputs": [
    {
     "data": {
      "text/html": [
       "\n",
       "  <div id=\"df-45b8e443-bd22-4d7a-9853-926bb12f96b6\">\n",
       "    <div class=\"colab-df-container\">\n",
       "      <div>\n",
       "<style scoped>\n",
       "    .dataframe tbody tr th:only-of-type {\n",
       "        vertical-align: middle;\n",
       "    }\n",
       "\n",
       "    .dataframe tbody tr th {\n",
       "        vertical-align: top;\n",
       "    }\n",
       "\n",
       "    .dataframe thead th {\n",
       "        text-align: right;\n",
       "    }\n",
       "</style>\n",
       "<table border=\"1\" class=\"dataframe\">\n",
       "  <thead>\n",
       "    <tr style=\"text-align: right;\">\n",
       "      <th></th>\n",
       "      <th>id</th>\n",
       "      <th>call_date</th>\n",
       "      <th>duration</th>\n",
       "      <th>user_id</th>\n",
       "    </tr>\n",
       "  </thead>\n",
       "  <tbody>\n",
       "    <tr>\n",
       "      <th>0</th>\n",
       "      <td>1000_0</td>\n",
       "      <td>2018-07-25</td>\n",
       "      <td>0.00</td>\n",
       "      <td>1000</td>\n",
       "    </tr>\n",
       "    <tr>\n",
       "      <th>1</th>\n",
       "      <td>1000_1</td>\n",
       "      <td>2018-08-17</td>\n",
       "      <td>0.00</td>\n",
       "      <td>1000</td>\n",
       "    </tr>\n",
       "    <tr>\n",
       "      <th>2</th>\n",
       "      <td>1000_2</td>\n",
       "      <td>2018-06-11</td>\n",
       "      <td>2.85</td>\n",
       "      <td>1000</td>\n",
       "    </tr>\n",
       "    <tr>\n",
       "      <th>3</th>\n",
       "      <td>1000_3</td>\n",
       "      <td>2018-09-21</td>\n",
       "      <td>13.80</td>\n",
       "      <td>1000</td>\n",
       "    </tr>\n",
       "    <tr>\n",
       "      <th>4</th>\n",
       "      <td>1000_4</td>\n",
       "      <td>2018-12-15</td>\n",
       "      <td>5.18</td>\n",
       "      <td>1000</td>\n",
       "    </tr>\n",
       "  </tbody>\n",
       "</table>\n",
       "</div>\n",
       "      <button class=\"colab-df-convert\" onclick=\"convertToInteractive('df-45b8e443-bd22-4d7a-9853-926bb12f96b6')\"\n",
       "              title=\"Convert this dataframe to an interactive table.\"\n",
       "              style=\"display:none;\">\n",
       "        \n",
       "  <svg xmlns=\"http://www.w3.org/2000/svg\" height=\"24px\"viewBox=\"0 0 24 24\"\n",
       "       width=\"24px\">\n",
       "    <path d=\"M0 0h24v24H0V0z\" fill=\"none\"/>\n",
       "    <path d=\"M18.56 5.44l.94 2.06.94-2.06 2.06-.94-2.06-.94-.94-2.06-.94 2.06-2.06.94zm-11 1L8.5 8.5l.94-2.06 2.06-.94-2.06-.94L8.5 2.5l-.94 2.06-2.06.94zm10 10l.94 2.06.94-2.06 2.06-.94-2.06-.94-.94-2.06-.94 2.06-2.06.94z\"/><path d=\"M17.41 7.96l-1.37-1.37c-.4-.4-.92-.59-1.43-.59-.52 0-1.04.2-1.43.59L10.3 9.45l-7.72 7.72c-.78.78-.78 2.05 0 2.83L4 21.41c.39.39.9.59 1.41.59.51 0 1.02-.2 1.41-.59l7.78-7.78 2.81-2.81c.8-.78.8-2.07 0-2.86zM5.41 20L4 18.59l7.72-7.72 1.47 1.35L5.41 20z\"/>\n",
       "  </svg>\n",
       "      </button>\n",
       "      \n",
       "  <style>\n",
       "    .colab-df-container {\n",
       "      display:flex;\n",
       "      flex-wrap:wrap;\n",
       "      gap: 12px;\n",
       "    }\n",
       "\n",
       "    .colab-df-convert {\n",
       "      background-color: #E8F0FE;\n",
       "      border: none;\n",
       "      border-radius: 50%;\n",
       "      cursor: pointer;\n",
       "      display: none;\n",
       "      fill: #1967D2;\n",
       "      height: 32px;\n",
       "      padding: 0 0 0 0;\n",
       "      width: 32px;\n",
       "    }\n",
       "\n",
       "    .colab-df-convert:hover {\n",
       "      background-color: #E2EBFA;\n",
       "      box-shadow: 0px 1px 2px rgba(60, 64, 67, 0.3), 0px 1px 3px 1px rgba(60, 64, 67, 0.15);\n",
       "      fill: #174EA6;\n",
       "    }\n",
       "\n",
       "    [theme=dark] .colab-df-convert {\n",
       "      background-color: #3B4455;\n",
       "      fill: #D2E3FC;\n",
       "    }\n",
       "\n",
       "    [theme=dark] .colab-df-convert:hover {\n",
       "      background-color: #434B5C;\n",
       "      box-shadow: 0px 1px 3px 1px rgba(0, 0, 0, 0.15);\n",
       "      filter: drop-shadow(0px 1px 2px rgba(0, 0, 0, 0.3));\n",
       "      fill: #FFFFFF;\n",
       "    }\n",
       "  </style>\n",
       "\n",
       "      <script>\n",
       "        const buttonEl =\n",
       "          document.querySelector('#df-45b8e443-bd22-4d7a-9853-926bb12f96b6 button.colab-df-convert');\n",
       "        buttonEl.style.display =\n",
       "          google.colab.kernel.accessAllowed ? 'block' : 'none';\n",
       "\n",
       "        async function convertToInteractive(key) {\n",
       "          const element = document.querySelector('#df-45b8e443-bd22-4d7a-9853-926bb12f96b6');\n",
       "          const dataTable =\n",
       "            await google.colab.kernel.invokeFunction('convertToInteractive',\n",
       "                                                     [key], {});\n",
       "          if (!dataTable) return;\n",
       "\n",
       "          const docLinkHtml = 'Like what you see? Visit the ' +\n",
       "            '<a target=\"_blank\" href=https://colab.research.google.com/notebooks/data_table.ipynb>data table notebook</a>'\n",
       "            + ' to learn more about interactive tables.';\n",
       "          element.innerHTML = '';\n",
       "          dataTable['output_type'] = 'display_data';\n",
       "          await google.colab.output.renderOutput(dataTable, element);\n",
       "          const docLink = document.createElement('div');\n",
       "          docLink.innerHTML = docLinkHtml;\n",
       "          element.appendChild(docLink);\n",
       "        }\n",
       "      </script>\n",
       "    </div>\n",
       "  </div>\n",
       "  "
      ],
      "text/plain": [
       "       id   call_date  duration  user_id\n",
       "0  1000_0  2018-07-25      0.00     1000\n",
       "1  1000_1  2018-08-17      0.00     1000\n",
       "2  1000_2  2018-06-11      2.85     1000\n",
       "3  1000_3  2018-09-21     13.80     1000\n",
       "4  1000_4  2018-12-15      5.18     1000"
      ]
     },
     "execution_count": 4,
     "metadata": {},
     "output_type": "execute_result"
    }
   ],
   "source": [
    "calls.head()"
   ]
  },
  {
   "cell_type": "code",
   "execution_count": 5,
   "metadata": {
    "colab": {
     "base_uri": "https://localhost:8080/"
    },
    "id": "rxr7xeDnDW8W",
    "outputId": "68563c55-b8e9-4315-9b5d-51e70b9604e0"
   },
   "outputs": [
    {
     "data": {
      "text/plain": [
       "0"
      ]
     },
     "execution_count": 5,
     "metadata": {},
     "output_type": "execute_result"
    }
   ],
   "source": [
    "calls.duplicated().sum()"
   ]
  },
  {
   "cell_type": "markdown",
   "metadata": {
    "id": "BqaCjOLTDW8W"
   },
   "source": [
    "From the introductory data, it is known that there are calls with zero duration - these are missed calls:"
   ]
  },
  {
   "cell_type": "code",
   "execution_count": 6,
   "metadata": {
    "colab": {
     "base_uri": "https://localhost:8080/"
    },
    "id": "uQSrnWBgDW8W",
    "outputId": "666d13df-44b0-47e4-e6c3-a689134d6ee3"
   },
   "outputs": [
    {
     "data": {
      "text/plain": [
       "39613"
      ]
     },
     "execution_count": 6,
     "metadata": {},
     "output_type": "execute_result"
    }
   ],
   "source": [
    "calls_zero = calls[calls[\"duration\"] == 0]\n",
    "len(calls_zero)"
   ]
  },
  {
   "cell_type": "markdown",
   "metadata": {
    "id": "5TIr9A9EDW8X"
   },
   "source": [
    "Description:\n",
    "-   `id`: unique call identifier\n",
    "-   `call_date`: date of the call\n",
    "-   `duration`: call duration in minutes\n",
    "-   `user_id`: identifier of the user who made the call"
   ]
  },
  {
   "cell_type": "markdown",
   "metadata": {
    "id": "xusr4BmsDW8X"
   },
   "source": [
    "**Internet**"
   ]
  },
  {
   "cell_type": "code",
   "execution_count": 7,
   "metadata": {
    "colab": {
     "base_uri": "https://localhost:8080/"
    },
    "id": "X_ajTy-wDW8X",
    "outputId": "58676f00-28a3-431d-9c3f-cd5cf1d3ba6b",
    "scrolled": true
   },
   "outputs": [
    {
     "name": "stdout",
     "output_type": "stream",
     "text": [
      "<class 'pandas.core.frame.DataFrame'>\n",
      "RangeIndex: 149396 entries, 0 to 149395\n",
      "Data columns (total 5 columns):\n",
      " #   Column        Non-Null Count   Dtype  \n",
      "---  ------        --------------   -----  \n",
      " 0   Unnamed: 0    149396 non-null  int64  \n",
      " 1   id            149396 non-null  object \n",
      " 2   mb_used       149396 non-null  float64\n",
      " 3   session_date  149396 non-null  object \n",
      " 4   user_id       149396 non-null  int64  \n",
      "dtypes: float64(1), int64(2), object(2)\n",
      "memory usage: 5.7+ MB\n"
     ]
    }
   ],
   "source": [
    "internet.info()"
   ]
  },
  {
   "cell_type": "code",
   "execution_count": 8,
   "metadata": {
    "colab": {
     "base_uri": "https://localhost:8080/",
     "height": 206
    },
    "id": "pUTZDedKDW8X",
    "outputId": "9b37090b-4e1c-44b6-a8d1-147c2f997423"
   },
   "outputs": [
    {
     "data": {
      "text/html": [
       "\n",
       "  <div id=\"df-208b9009-b21f-48ee-b86b-2a2a6c6e16d4\">\n",
       "    <div class=\"colab-df-container\">\n",
       "      <div>\n",
       "<style scoped>\n",
       "    .dataframe tbody tr th:only-of-type {\n",
       "        vertical-align: middle;\n",
       "    }\n",
       "\n",
       "    .dataframe tbody tr th {\n",
       "        vertical-align: top;\n",
       "    }\n",
       "\n",
       "    .dataframe thead th {\n",
       "        text-align: right;\n",
       "    }\n",
       "</style>\n",
       "<table border=\"1\" class=\"dataframe\">\n",
       "  <thead>\n",
       "    <tr style=\"text-align: right;\">\n",
       "      <th></th>\n",
       "      <th>Unnamed: 0</th>\n",
       "      <th>id</th>\n",
       "      <th>mb_used</th>\n",
       "      <th>session_date</th>\n",
       "      <th>user_id</th>\n",
       "    </tr>\n",
       "  </thead>\n",
       "  <tbody>\n",
       "    <tr>\n",
       "      <th>0</th>\n",
       "      <td>0</td>\n",
       "      <td>1000_0</td>\n",
       "      <td>112.95</td>\n",
       "      <td>2018-11-25</td>\n",
       "      <td>1000</td>\n",
       "    </tr>\n",
       "    <tr>\n",
       "      <th>1</th>\n",
       "      <td>1</td>\n",
       "      <td>1000_1</td>\n",
       "      <td>1052.81</td>\n",
       "      <td>2018-09-07</td>\n",
       "      <td>1000</td>\n",
       "    </tr>\n",
       "    <tr>\n",
       "      <th>2</th>\n",
       "      <td>2</td>\n",
       "      <td>1000_2</td>\n",
       "      <td>1197.26</td>\n",
       "      <td>2018-06-25</td>\n",
       "      <td>1000</td>\n",
       "    </tr>\n",
       "    <tr>\n",
       "      <th>3</th>\n",
       "      <td>3</td>\n",
       "      <td>1000_3</td>\n",
       "      <td>550.27</td>\n",
       "      <td>2018-08-22</td>\n",
       "      <td>1000</td>\n",
       "    </tr>\n",
       "    <tr>\n",
       "      <th>4</th>\n",
       "      <td>4</td>\n",
       "      <td>1000_4</td>\n",
       "      <td>302.56</td>\n",
       "      <td>2018-09-24</td>\n",
       "      <td>1000</td>\n",
       "    </tr>\n",
       "  </tbody>\n",
       "</table>\n",
       "</div>\n",
       "      <button class=\"colab-df-convert\" onclick=\"convertToInteractive('df-208b9009-b21f-48ee-b86b-2a2a6c6e16d4')\"\n",
       "              title=\"Convert this dataframe to an interactive table.\"\n",
       "              style=\"display:none;\">\n",
       "        \n",
       "  <svg xmlns=\"http://www.w3.org/2000/svg\" height=\"24px\"viewBox=\"0 0 24 24\"\n",
       "       width=\"24px\">\n",
       "    <path d=\"M0 0h24v24H0V0z\" fill=\"none\"/>\n",
       "    <path d=\"M18.56 5.44l.94 2.06.94-2.06 2.06-.94-2.06-.94-.94-2.06-.94 2.06-2.06.94zm-11 1L8.5 8.5l.94-2.06 2.06-.94-2.06-.94L8.5 2.5l-.94 2.06-2.06.94zm10 10l.94 2.06.94-2.06 2.06-.94-2.06-.94-.94-2.06-.94 2.06-2.06.94z\"/><path d=\"M17.41 7.96l-1.37-1.37c-.4-.4-.92-.59-1.43-.59-.52 0-1.04.2-1.43.59L10.3 9.45l-7.72 7.72c-.78.78-.78 2.05 0 2.83L4 21.41c.39.39.9.59 1.41.59.51 0 1.02-.2 1.41-.59l7.78-7.78 2.81-2.81c.8-.78.8-2.07 0-2.86zM5.41 20L4 18.59l7.72-7.72 1.47 1.35L5.41 20z\"/>\n",
       "  </svg>\n",
       "      </button>\n",
       "      \n",
       "  <style>\n",
       "    .colab-df-container {\n",
       "      display:flex;\n",
       "      flex-wrap:wrap;\n",
       "      gap: 12px;\n",
       "    }\n",
       "\n",
       "    .colab-df-convert {\n",
       "      background-color: #E8F0FE;\n",
       "      border: none;\n",
       "      border-radius: 50%;\n",
       "      cursor: pointer;\n",
       "      display: none;\n",
       "      fill: #1967D2;\n",
       "      height: 32px;\n",
       "      padding: 0 0 0 0;\n",
       "      width: 32px;\n",
       "    }\n",
       "\n",
       "    .colab-df-convert:hover {\n",
       "      background-color: #E2EBFA;\n",
       "      box-shadow: 0px 1px 2px rgba(60, 64, 67, 0.3), 0px 1px 3px 1px rgba(60, 64, 67, 0.15);\n",
       "      fill: #174EA6;\n",
       "    }\n",
       "\n",
       "    [theme=dark] .colab-df-convert {\n",
       "      background-color: #3B4455;\n",
       "      fill: #D2E3FC;\n",
       "    }\n",
       "\n",
       "    [theme=dark] .colab-df-convert:hover {\n",
       "      background-color: #434B5C;\n",
       "      box-shadow: 0px 1px 3px 1px rgba(0, 0, 0, 0.15);\n",
       "      filter: drop-shadow(0px 1px 2px rgba(0, 0, 0, 0.3));\n",
       "      fill: #FFFFFF;\n",
       "    }\n",
       "  </style>\n",
       "\n",
       "      <script>\n",
       "        const buttonEl =\n",
       "          document.querySelector('#df-208b9009-b21f-48ee-b86b-2a2a6c6e16d4 button.colab-df-convert');\n",
       "        buttonEl.style.display =\n",
       "          google.colab.kernel.accessAllowed ? 'block' : 'none';\n",
       "\n",
       "        async function convertToInteractive(key) {\n",
       "          const element = document.querySelector('#df-208b9009-b21f-48ee-b86b-2a2a6c6e16d4');\n",
       "          const dataTable =\n",
       "            await google.colab.kernel.invokeFunction('convertToInteractive',\n",
       "                                                     [key], {});\n",
       "          if (!dataTable) return;\n",
       "\n",
       "          const docLinkHtml = 'Like what you see? Visit the ' +\n",
       "            '<a target=\"_blank\" href=https://colab.research.google.com/notebooks/data_table.ipynb>data table notebook</a>'\n",
       "            + ' to learn more about interactive tables.';\n",
       "          element.innerHTML = '';\n",
       "          dataTable['output_type'] = 'display_data';\n",
       "          await google.colab.output.renderOutput(dataTable, element);\n",
       "          const docLink = document.createElement('div');\n",
       "          docLink.innerHTML = docLinkHtml;\n",
       "          element.appendChild(docLink);\n",
       "        }\n",
       "      </script>\n",
       "    </div>\n",
       "  </div>\n",
       "  "
      ],
      "text/plain": [
       "   Unnamed: 0      id  mb_used session_date  user_id\n",
       "0           0  1000_0   112.95   2018-11-25     1000\n",
       "1           1  1000_1  1052.81   2018-09-07     1000\n",
       "2           2  1000_2  1197.26   2018-06-25     1000\n",
       "3           3  1000_3   550.27   2018-08-22     1000\n",
       "4           4  1000_4   302.56   2018-09-24     1000"
      ]
     },
     "execution_count": 8,
     "metadata": {},
     "output_type": "execute_result"
    }
   ],
   "source": [
    "internet.head()"
   ]
  },
  {
   "cell_type": "code",
   "execution_count": 9,
   "metadata": {
    "colab": {
     "base_uri": "https://localhost:8080/"
    },
    "id": "57IT8UvhDW8X",
    "outputId": "0d9f9644-657a-4c07-9ca7-991b37269215"
   },
   "outputs": [
    {
     "data": {
      "text/plain": [
       "0"
      ]
     },
     "execution_count": 9,
     "metadata": {},
     "output_type": "execute_result"
    }
   ],
   "source": [
    "internet.duplicated().sum()"
   ]
  },
  {
   "cell_type": "code",
   "execution_count": 10,
   "metadata": {
    "colab": {
     "base_uri": "https://localhost:8080/"
    },
    "id": "D-cG035mDW8Y",
    "outputId": "7cbf3614-a95b-4017-ea26-2b3156719f27"
   },
   "outputs": [
    {
     "data": {
      "text/plain": [
       "array([     0,      1,      2, ..., 149393, 149394, 149395])"
      ]
     },
     "execution_count": 10,
     "metadata": {},
     "output_type": "execute_result"
    }
   ],
   "source": [
    "internet[\"Unnamed: 0\"].unique()"
   ]
  },
  {
   "cell_type": "markdown",
   "metadata": {
    "id": "rp5-ns0zDW8Y"
   },
   "source": [
    "Description:\n",
    "-   `id`: unique session identifier\n",
    "-   `mb_used`: volume of internet traffic used during the session (in megabytes)\n",
    "-   `session_date`: date of the internet session\n",
    "-   `user_id`: identifier of the user"
   ]
  },
  {
   "cell_type": "markdown",
   "metadata": {
    "id": "2tO6qbBZDW8Y"
   },
   "source": [
    "**Messages**"
   ]
  },
  {
   "cell_type": "code",
   "execution_count": 11,
   "metadata": {
    "colab": {
     "base_uri": "https://localhost:8080/"
    },
    "id": "h0EHMRvZDW8Y",
    "outputId": "2f49a5bd-ac46-4057-ee65-68adaf47b24f"
   },
   "outputs": [
    {
     "name": "stdout",
     "output_type": "stream",
     "text": [
      "<class 'pandas.core.frame.DataFrame'>\n",
      "RangeIndex: 123036 entries, 0 to 123035\n",
      "Data columns (total 3 columns):\n",
      " #   Column        Non-Null Count   Dtype \n",
      "---  ------        --------------   ----- \n",
      " 0   id            123036 non-null  object\n",
      " 1   message_date  123036 non-null  object\n",
      " 2   user_id       123036 non-null  int64 \n",
      "dtypes: int64(1), object(2)\n",
      "memory usage: 2.8+ MB\n"
     ]
    }
   ],
   "source": [
    "messages.info()"
   ]
  },
  {
   "cell_type": "code",
   "execution_count": 12,
   "metadata": {
    "colab": {
     "base_uri": "https://localhost:8080/",
     "height": 206
    },
    "id": "8ELUuZHrDW8Y",
    "outputId": "57e1254f-4b08-49d8-e619-4f275f984e69"
   },
   "outputs": [
    {
     "data": {
      "text/html": [
       "\n",
       "  <div id=\"df-05994791-e479-4c9f-899b-a00787453bc6\">\n",
       "    <div class=\"colab-df-container\">\n",
       "      <div>\n",
       "<style scoped>\n",
       "    .dataframe tbody tr th:only-of-type {\n",
       "        vertical-align: middle;\n",
       "    }\n",
       "\n",
       "    .dataframe tbody tr th {\n",
       "        vertical-align: top;\n",
       "    }\n",
       "\n",
       "    .dataframe thead th {\n",
       "        text-align: right;\n",
       "    }\n",
       "</style>\n",
       "<table border=\"1\" class=\"dataframe\">\n",
       "  <thead>\n",
       "    <tr style=\"text-align: right;\">\n",
       "      <th></th>\n",
       "      <th>id</th>\n",
       "      <th>message_date</th>\n",
       "      <th>user_id</th>\n",
       "    </tr>\n",
       "  </thead>\n",
       "  <tbody>\n",
       "    <tr>\n",
       "      <th>0</th>\n",
       "      <td>1000_0</td>\n",
       "      <td>2018-06-27</td>\n",
       "      <td>1000</td>\n",
       "    </tr>\n",
       "    <tr>\n",
       "      <th>1</th>\n",
       "      <td>1000_1</td>\n",
       "      <td>2018-10-08</td>\n",
       "      <td>1000</td>\n",
       "    </tr>\n",
       "    <tr>\n",
       "      <th>2</th>\n",
       "      <td>1000_2</td>\n",
       "      <td>2018-08-04</td>\n",
       "      <td>1000</td>\n",
       "    </tr>\n",
       "    <tr>\n",
       "      <th>3</th>\n",
       "      <td>1000_3</td>\n",
       "      <td>2018-06-16</td>\n",
       "      <td>1000</td>\n",
       "    </tr>\n",
       "    <tr>\n",
       "      <th>4</th>\n",
       "      <td>1000_4</td>\n",
       "      <td>2018-12-05</td>\n",
       "      <td>1000</td>\n",
       "    </tr>\n",
       "  </tbody>\n",
       "</table>\n",
       "</div>\n",
       "      <button class=\"colab-df-convert\" onclick=\"convertToInteractive('df-05994791-e479-4c9f-899b-a00787453bc6')\"\n",
       "              title=\"Convert this dataframe to an interactive table.\"\n",
       "              style=\"display:none;\">\n",
       "        \n",
       "  <svg xmlns=\"http://www.w3.org/2000/svg\" height=\"24px\"viewBox=\"0 0 24 24\"\n",
       "       width=\"24px\">\n",
       "    <path d=\"M0 0h24v24H0V0z\" fill=\"none\"/>\n",
       "    <path d=\"M18.56 5.44l.94 2.06.94-2.06 2.06-.94-2.06-.94-.94-2.06-.94 2.06-2.06.94zm-11 1L8.5 8.5l.94-2.06 2.06-.94-2.06-.94L8.5 2.5l-.94 2.06-2.06.94zm10 10l.94 2.06.94-2.06 2.06-.94-2.06-.94-.94-2.06-.94 2.06-2.06.94z\"/><path d=\"M17.41 7.96l-1.37-1.37c-.4-.4-.92-.59-1.43-.59-.52 0-1.04.2-1.43.59L10.3 9.45l-7.72 7.72c-.78.78-.78 2.05 0 2.83L4 21.41c.39.39.9.59 1.41.59.51 0 1.02-.2 1.41-.59l7.78-7.78 2.81-2.81c.8-.78.8-2.07 0-2.86zM5.41 20L4 18.59l7.72-7.72 1.47 1.35L5.41 20z\"/>\n",
       "  </svg>\n",
       "      </button>\n",
       "      \n",
       "  <style>\n",
       "    .colab-df-container {\n",
       "      display:flex;\n",
       "      flex-wrap:wrap;\n",
       "      gap: 12px;\n",
       "    }\n",
       "\n",
       "    .colab-df-convert {\n",
       "      background-color: #E8F0FE;\n",
       "      border: none;\n",
       "      border-radius: 50%;\n",
       "      cursor: pointer;\n",
       "      display: none;\n",
       "      fill: #1967D2;\n",
       "      height: 32px;\n",
       "      padding: 0 0 0 0;\n",
       "      width: 32px;\n",
       "    }\n",
       "\n",
       "    .colab-df-convert:hover {\n",
       "      background-color: #E2EBFA;\n",
       "      box-shadow: 0px 1px 2px rgba(60, 64, 67, 0.3), 0px 1px 3px 1px rgba(60, 64, 67, 0.15);\n",
       "      fill: #174EA6;\n",
       "    }\n",
       "\n",
       "    [theme=dark] .colab-df-convert {\n",
       "      background-color: #3B4455;\n",
       "      fill: #D2E3FC;\n",
       "    }\n",
       "\n",
       "    [theme=dark] .colab-df-convert:hover {\n",
       "      background-color: #434B5C;\n",
       "      box-shadow: 0px 1px 3px 1px rgba(0, 0, 0, 0.15);\n",
       "      filter: drop-shadow(0px 1px 2px rgba(0, 0, 0, 0.3));\n",
       "      fill: #FFFFFF;\n",
       "    }\n",
       "  </style>\n",
       "\n",
       "      <script>\n",
       "        const buttonEl =\n",
       "          document.querySelector('#df-05994791-e479-4c9f-899b-a00787453bc6 button.colab-df-convert');\n",
       "        buttonEl.style.display =\n",
       "          google.colab.kernel.accessAllowed ? 'block' : 'none';\n",
       "\n",
       "        async function convertToInteractive(key) {\n",
       "          const element = document.querySelector('#df-05994791-e479-4c9f-899b-a00787453bc6');\n",
       "          const dataTable =\n",
       "            await google.colab.kernel.invokeFunction('convertToInteractive',\n",
       "                                                     [key], {});\n",
       "          if (!dataTable) return;\n",
       "\n",
       "          const docLinkHtml = 'Like what you see? Visit the ' +\n",
       "            '<a target=\"_blank\" href=https://colab.research.google.com/notebooks/data_table.ipynb>data table notebook</a>'\n",
       "            + ' to learn more about interactive tables.';\n",
       "          element.innerHTML = '';\n",
       "          dataTable['output_type'] = 'display_data';\n",
       "          await google.colab.output.renderOutput(dataTable, element);\n",
       "          const docLink = document.createElement('div');\n",
       "          docLink.innerHTML = docLinkHtml;\n",
       "          element.appendChild(docLink);\n",
       "        }\n",
       "      </script>\n",
       "    </div>\n",
       "  </div>\n",
       "  "
      ],
      "text/plain": [
       "       id message_date  user_id\n",
       "0  1000_0   2018-06-27     1000\n",
       "1  1000_1   2018-10-08     1000\n",
       "2  1000_2   2018-08-04     1000\n",
       "3  1000_3   2018-06-16     1000\n",
       "4  1000_4   2018-12-05     1000"
      ]
     },
     "execution_count": 12,
     "metadata": {},
     "output_type": "execute_result"
    }
   ],
   "source": [
    "messages.head()"
   ]
  },
  {
   "cell_type": "code",
   "execution_count": 13,
   "metadata": {
    "colab": {
     "base_uri": "https://localhost:8080/"
    },
    "id": "rxvozGjkDW8Z",
    "outputId": "8c8f6426-f25b-48ce-93e6-d767a0720ce0"
   },
   "outputs": [
    {
     "data": {
      "text/plain": [
       "0"
      ]
     },
     "execution_count": 13,
     "metadata": {},
     "output_type": "execute_result"
    }
   ],
   "source": [
    "messages.duplicated().sum()"
   ]
  },
  {
   "cell_type": "markdown",
   "metadata": {
    "id": "WmyeJ_UMDW8Z"
   },
   "source": [
    "Description:\n",
    "-   `id`: unique message identifier\n",
    "-   `message_date`: date of the message\n",
    "-   `user_id`: identifier of the user who sent the message"
   ]
  },
  {
   "cell_type": "markdown",
   "metadata": {
    "id": "iCC_Ixo7DW8Z"
   },
   "source": [
    "**Tariffs**"
   ]
  },
  {
   "cell_type": "code",
   "execution_count": 14,
   "metadata": {
    "colab": {
     "base_uri": "https://localhost:8080/"
    },
    "id": "-o71wLE9DW8Z",
    "outputId": "04bdbab9-0195-4852-fe41-9b020b16cd2e"
   },
   "outputs": [
    {
     "name": "stdout",
     "output_type": "stream",
     "text": [
      "<class 'pandas.core.frame.DataFrame'>\n",
      "RangeIndex: 2 entries, 0 to 1\n",
      "Data columns (total 8 columns):\n",
      " #   Column                 Non-Null Count  Dtype \n",
      "---  ------                 --------------  ----- \n",
      " 0   messages_included      2 non-null      int64 \n",
      " 1   mb_per_month_included  2 non-null      int64 \n",
      " 2   minutes_included       2 non-null      int64 \n",
      " 3   rub_monthly_fee        2 non-null      int64 \n",
      " 4   rub_per_gb             2 non-null      int64 \n",
      " 5   rub_per_message        2 non-null      int64 \n",
      " 6   rub_per_minute         2 non-null      int64 \n",
      " 7   tariff_name            2 non-null      object\n",
      "dtypes: int64(7), object(1)\n",
      "memory usage: 256.0+ bytes\n"
     ]
    }
   ],
   "source": [
    "tariffs.info()"
   ]
  },
  {
   "cell_type": "code",
   "execution_count": 15,
   "metadata": {
    "colab": {
     "base_uri": "https://localhost:8080/"
    },
    "id": "DaSLkFyIDW8Z",
    "outputId": "4571ce8b-0c9b-4a49-d359-fb8d720e7bba",
    "scrolled": true
   },
   "outputs": [
    {
     "data": {
      "text/plain": [
       "0"
      ]
     },
     "execution_count": 15,
     "metadata": {},
     "output_type": "execute_result"
    }
   ],
   "source": [
    "tariffs.duplicated().sum()"
   ]
  },
  {
   "cell_type": "code",
   "execution_count": 16,
   "metadata": {
    "colab": {
     "base_uri": "https://localhost:8080/",
     "height": 112
    },
    "id": "IESmv5C3DW8a",
    "outputId": "0b865925-bb1b-4773-ce6d-4ea9481ed794",
    "scrolled": false
   },
   "outputs": [
    {
     "data": {
      "text/html": [
       "\n",
       "  <div id=\"df-a345970f-d944-4017-9d7f-5565233ef3a3\">\n",
       "    <div class=\"colab-df-container\">\n",
       "      <div>\n",
       "<style scoped>\n",
       "    .dataframe tbody tr th:only-of-type {\n",
       "        vertical-align: middle;\n",
       "    }\n",
       "\n",
       "    .dataframe tbody tr th {\n",
       "        vertical-align: top;\n",
       "    }\n",
       "\n",
       "    .dataframe thead th {\n",
       "        text-align: right;\n",
       "    }\n",
       "</style>\n",
       "<table border=\"1\" class=\"dataframe\">\n",
       "  <thead>\n",
       "    <tr style=\"text-align: right;\">\n",
       "      <th></th>\n",
       "      <th>messages_included</th>\n",
       "      <th>mb_per_month_included</th>\n",
       "      <th>minutes_included</th>\n",
       "      <th>rub_monthly_fee</th>\n",
       "      <th>rub_per_gb</th>\n",
       "      <th>rub_per_message</th>\n",
       "      <th>rub_per_minute</th>\n",
       "      <th>tariff_name</th>\n",
       "    </tr>\n",
       "  </thead>\n",
       "  <tbody>\n",
       "    <tr>\n",
       "      <th>0</th>\n",
       "      <td>50</td>\n",
       "      <td>15360</td>\n",
       "      <td>500</td>\n",
       "      <td>550</td>\n",
       "      <td>200</td>\n",
       "      <td>3</td>\n",
       "      <td>3</td>\n",
       "      <td>smart</td>\n",
       "    </tr>\n",
       "    <tr>\n",
       "      <th>1</th>\n",
       "      <td>1000</td>\n",
       "      <td>30720</td>\n",
       "      <td>3000</td>\n",
       "      <td>1950</td>\n",
       "      <td>150</td>\n",
       "      <td>1</td>\n",
       "      <td>1</td>\n",
       "      <td>ultra</td>\n",
       "    </tr>\n",
       "  </tbody>\n",
       "</table>\n",
       "</div>\n",
       "      <button class=\"colab-df-convert\" onclick=\"convertToInteractive('df-a345970f-d944-4017-9d7f-5565233ef3a3')\"\n",
       "              title=\"Convert this dataframe to an interactive table.\"\n",
       "              style=\"display:none;\">\n",
       "        \n",
       "  <svg xmlns=\"http://www.w3.org/2000/svg\" height=\"24px\"viewBox=\"0 0 24 24\"\n",
       "       width=\"24px\">\n",
       "    <path d=\"M0 0h24v24H0V0z\" fill=\"none\"/>\n",
       "    <path d=\"M18.56 5.44l.94 2.06.94-2.06 2.06-.94-2.06-.94-.94-2.06-.94 2.06-2.06.94zm-11 1L8.5 8.5l.94-2.06 2.06-.94-2.06-.94L8.5 2.5l-.94 2.06-2.06.94zm10 10l.94 2.06.94-2.06 2.06-.94-2.06-.94-.94-2.06-.94 2.06-2.06.94z\"/><path d=\"M17.41 7.96l-1.37-1.37c-.4-.4-.92-.59-1.43-.59-.52 0-1.04.2-1.43.59L10.3 9.45l-7.72 7.72c-.78.78-.78 2.05 0 2.83L4 21.41c.39.39.9.59 1.41.59.51 0 1.02-.2 1.41-.59l7.78-7.78 2.81-2.81c.8-.78.8-2.07 0-2.86zM5.41 20L4 18.59l7.72-7.72 1.47 1.35L5.41 20z\"/>\n",
       "  </svg>\n",
       "      </button>\n",
       "      \n",
       "  <style>\n",
       "    .colab-df-container {\n",
       "      display:flex;\n",
       "      flex-wrap:wrap;\n",
       "      gap: 12px;\n",
       "    }\n",
       "\n",
       "    .colab-df-convert {\n",
       "      background-color: #E8F0FE;\n",
       "      border: none;\n",
       "      border-radius: 50%;\n",
       "      cursor: pointer;\n",
       "      display: none;\n",
       "      fill: #1967D2;\n",
       "      height: 32px;\n",
       "      padding: 0 0 0 0;\n",
       "      width: 32px;\n",
       "    }\n",
       "\n",
       "    .colab-df-convert:hover {\n",
       "      background-color: #E2EBFA;\n",
       "      box-shadow: 0px 1px 2px rgba(60, 64, 67, 0.3), 0px 1px 3px 1px rgba(60, 64, 67, 0.15);\n",
       "      fill: #174EA6;\n",
       "    }\n",
       "\n",
       "    [theme=dark] .colab-df-convert {\n",
       "      background-color: #3B4455;\n",
       "      fill: #D2E3FC;\n",
       "    }\n",
       "\n",
       "    [theme=dark] .colab-df-convert:hover {\n",
       "      background-color: #434B5C;\n",
       "      box-shadow: 0px 1px 3px 1px rgba(0, 0, 0, 0.15);\n",
       "      filter: drop-shadow(0px 1px 2px rgba(0, 0, 0, 0.3));\n",
       "      fill: #FFFFFF;\n",
       "    }\n",
       "  </style>\n",
       "\n",
       "      <script>\n",
       "        const buttonEl =\n",
       "          document.querySelector('#df-a345970f-d944-4017-9d7f-5565233ef3a3 button.colab-df-convert');\n",
       "        buttonEl.style.display =\n",
       "          google.colab.kernel.accessAllowed ? 'block' : 'none';\n",
       "\n",
       "        async function convertToInteractive(key) {\n",
       "          const element = document.querySelector('#df-a345970f-d944-4017-9d7f-5565233ef3a3');\n",
       "          const dataTable =\n",
       "            await google.colab.kernel.invokeFunction('convertToInteractive',\n",
       "                                                     [key], {});\n",
       "          if (!dataTable) return;\n",
       "\n",
       "          const docLinkHtml = 'Like what you see? Visit the ' +\n",
       "            '<a target=\"_blank\" href=https://colab.research.google.com/notebooks/data_table.ipynb>data table notebook</a>'\n",
       "            + ' to learn more about interactive tables.';\n",
       "          element.innerHTML = '';\n",
       "          dataTable['output_type'] = 'display_data';\n",
       "          await google.colab.output.renderOutput(dataTable, element);\n",
       "          const docLink = document.createElement('div');\n",
       "          docLink.innerHTML = docLinkHtml;\n",
       "          element.appendChild(docLink);\n",
       "        }\n",
       "      </script>\n",
       "    </div>\n",
       "  </div>\n",
       "  "
      ],
      "text/plain": [
       "   messages_included  mb_per_month_included  minutes_included  \\\n",
       "0                 50                  15360               500   \n",
       "1               1000                  30720              3000   \n",
       "\n",
       "   rub_monthly_fee  rub_per_gb  rub_per_message  rub_per_minute tariff_name  \n",
       "0              550         200                3               3       smart  \n",
       "1             1950         150                1               1       ultra  "
      ]
     },
     "execution_count": 16,
     "metadata": {},
     "output_type": "execute_result"
    }
   ],
   "source": [
    "tariffs.head()"
   ]
  },
  {
   "cell_type": "markdown",
   "metadata": {
    "id": "JnyLLvSsDW8a"
   },
   "source": [
    "Description:\n",
    "-   `tariff_name`: tariff name\n",
    "-   `rub_monthly_fee`: monthly subscription fee in rubles\n",
    "-   `minutes_included`: number of minutes included in the monthly subscription fee\n",
    "-   `messages_included`: number of messages included in the monthly subscription fee\n",
    "-   `mb_per_month_included`: volume of internet traffic included in the monthly subscription fee (in megabytes)\n",
    "-   `rub_per_minute`: cost of a minute of conversation above the tariff package (for example, if the tariff includes 100 minutes of conversation per month, then a fee will be charged for minutes beyond the 100th)\n",
    "-   `rub_per_message`: cost of sending a message above the tariff package\n",
    "-   `rub_per_gb`: cost of an additional gigabyte of internet traffic above the tariff package (1 gigabyte = 1024 megabytes)"
   ]
  },
  {
   "cell_type": "markdown",
   "metadata": {
    "id": "T60BGr-KDW8a"
   },
   "source": [
    "**Users**"
   ]
  },
  {
   "cell_type": "code",
   "execution_count": 17,
   "metadata": {
    "colab": {
     "base_uri": "https://localhost:8080/"
    },
    "id": "7UUoDFcLDW8a",
    "outputId": "461469b6-c743-4e7d-dff8-947c983b1672",
    "scrolled": true
   },
   "outputs": [
    {
     "name": "stdout",
     "output_type": "stream",
     "text": [
      "<class 'pandas.core.frame.DataFrame'>\n",
      "RangeIndex: 500 entries, 0 to 499\n",
      "Data columns (total 8 columns):\n",
      " #   Column      Non-Null Count  Dtype \n",
      "---  ------      --------------  ----- \n",
      " 0   user_id     500 non-null    int64 \n",
      " 1   age         500 non-null    int64 \n",
      " 2   churn_date  38 non-null     object\n",
      " 3   city        500 non-null    object\n",
      " 4   first_name  500 non-null    object\n",
      " 5   last_name   500 non-null    object\n",
      " 6   reg_date    500 non-null    object\n",
      " 7   tariff      500 non-null    object\n",
      "dtypes: int64(2), object(6)\n",
      "memory usage: 31.4+ KB\n"
     ]
    }
   ],
   "source": [
    "users.info()"
   ]
  },
  {
   "cell_type": "code",
   "execution_count": 18,
   "metadata": {
    "colab": {
     "base_uri": "https://localhost:8080/",
     "height": 206
    },
    "id": "BSOg7gOiDW8b",
    "outputId": "6d893900-cb4d-4c1e-b6a1-5c0c6a512c46"
   },
   "outputs": [
    {
     "data": {
      "text/html": [
       "\n",
       "  <div id=\"df-0981e3e4-bf67-42f2-9b0f-c5dcc204d467\">\n",
       "    <div class=\"colab-df-container\">\n",
       "      <div>\n",
       "<style scoped>\n",
       "    .dataframe tbody tr th:only-of-type {\n",
       "        vertical-align: middle;\n",
       "    }\n",
       "\n",
       "    .dataframe tbody tr th {\n",
       "        vertical-align: top;\n",
       "    }\n",
       "\n",
       "    .dataframe thead th {\n",
       "        text-align: right;\n",
       "    }\n",
       "</style>\n",
       "<table border=\"1\" class=\"dataframe\">\n",
       "  <thead>\n",
       "    <tr style=\"text-align: right;\">\n",
       "      <th></th>\n",
       "      <th>user_id</th>\n",
       "      <th>age</th>\n",
       "      <th>churn_date</th>\n",
       "      <th>city</th>\n",
       "      <th>first_name</th>\n",
       "      <th>last_name</th>\n",
       "      <th>reg_date</th>\n",
       "      <th>tariff</th>\n",
       "    </tr>\n",
       "  </thead>\n",
       "  <tbody>\n",
       "    <tr>\n",
       "      <th>0</th>\n",
       "      <td>1000</td>\n",
       "      <td>52</td>\n",
       "      <td>NaN</td>\n",
       "      <td>Краснодар</td>\n",
       "      <td>Рафаил</td>\n",
       "      <td>Верещагин</td>\n",
       "      <td>2018-05-25</td>\n",
       "      <td>ultra</td>\n",
       "    </tr>\n",
       "    <tr>\n",
       "      <th>1</th>\n",
       "      <td>1001</td>\n",
       "      <td>41</td>\n",
       "      <td>NaN</td>\n",
       "      <td>Москва</td>\n",
       "      <td>Иван</td>\n",
       "      <td>Ежов</td>\n",
       "      <td>2018-11-01</td>\n",
       "      <td>smart</td>\n",
       "    </tr>\n",
       "    <tr>\n",
       "      <th>2</th>\n",
       "      <td>1002</td>\n",
       "      <td>59</td>\n",
       "      <td>NaN</td>\n",
       "      <td>Стерлитамак</td>\n",
       "      <td>Евгений</td>\n",
       "      <td>Абрамович</td>\n",
       "      <td>2018-06-17</td>\n",
       "      <td>smart</td>\n",
       "    </tr>\n",
       "    <tr>\n",
       "      <th>3</th>\n",
       "      <td>1003</td>\n",
       "      <td>23</td>\n",
       "      <td>NaN</td>\n",
       "      <td>Москва</td>\n",
       "      <td>Белла</td>\n",
       "      <td>Белякова</td>\n",
       "      <td>2018-08-17</td>\n",
       "      <td>ultra</td>\n",
       "    </tr>\n",
       "    <tr>\n",
       "      <th>4</th>\n",
       "      <td>1004</td>\n",
       "      <td>68</td>\n",
       "      <td>NaN</td>\n",
       "      <td>Новокузнецк</td>\n",
       "      <td>Татьяна</td>\n",
       "      <td>Авдеенко</td>\n",
       "      <td>2018-05-14</td>\n",
       "      <td>ultra</td>\n",
       "    </tr>\n",
       "  </tbody>\n",
       "</table>\n",
       "</div>\n",
       "      <button class=\"colab-df-convert\" onclick=\"convertToInteractive('df-0981e3e4-bf67-42f2-9b0f-c5dcc204d467')\"\n",
       "              title=\"Convert this dataframe to an interactive table.\"\n",
       "              style=\"display:none;\">\n",
       "        \n",
       "  <svg xmlns=\"http://www.w3.org/2000/svg\" height=\"24px\"viewBox=\"0 0 24 24\"\n",
       "       width=\"24px\">\n",
       "    <path d=\"M0 0h24v24H0V0z\" fill=\"none\"/>\n",
       "    <path d=\"M18.56 5.44l.94 2.06.94-2.06 2.06-.94-2.06-.94-.94-2.06-.94 2.06-2.06.94zm-11 1L8.5 8.5l.94-2.06 2.06-.94-2.06-.94L8.5 2.5l-.94 2.06-2.06.94zm10 10l.94 2.06.94-2.06 2.06-.94-2.06-.94-.94-2.06-.94 2.06-2.06.94z\"/><path d=\"M17.41 7.96l-1.37-1.37c-.4-.4-.92-.59-1.43-.59-.52 0-1.04.2-1.43.59L10.3 9.45l-7.72 7.72c-.78.78-.78 2.05 0 2.83L4 21.41c.39.39.9.59 1.41.59.51 0 1.02-.2 1.41-.59l7.78-7.78 2.81-2.81c.8-.78.8-2.07 0-2.86zM5.41 20L4 18.59l7.72-7.72 1.47 1.35L5.41 20z\"/>\n",
       "  </svg>\n",
       "      </button>\n",
       "      \n",
       "  <style>\n",
       "    .colab-df-container {\n",
       "      display:flex;\n",
       "      flex-wrap:wrap;\n",
       "      gap: 12px;\n",
       "    }\n",
       "\n",
       "    .colab-df-convert {\n",
       "      background-color: #E8F0FE;\n",
       "      border: none;\n",
       "      border-radius: 50%;\n",
       "      cursor: pointer;\n",
       "      display: none;\n",
       "      fill: #1967D2;\n",
       "      height: 32px;\n",
       "      padding: 0 0 0 0;\n",
       "      width: 32px;\n",
       "    }\n",
       "\n",
       "    .colab-df-convert:hover {\n",
       "      background-color: #E2EBFA;\n",
       "      box-shadow: 0px 1px 2px rgba(60, 64, 67, 0.3), 0px 1px 3px 1px rgba(60, 64, 67, 0.15);\n",
       "      fill: #174EA6;\n",
       "    }\n",
       "\n",
       "    [theme=dark] .colab-df-convert {\n",
       "      background-color: #3B4455;\n",
       "      fill: #D2E3FC;\n",
       "    }\n",
       "\n",
       "    [theme=dark] .colab-df-convert:hover {\n",
       "      background-color: #434B5C;\n",
       "      box-shadow: 0px 1px 3px 1px rgba(0, 0, 0, 0.15);\n",
       "      filter: drop-shadow(0px 1px 2px rgba(0, 0, 0, 0.3));\n",
       "      fill: #FFFFFF;\n",
       "    }\n",
       "  </style>\n",
       "\n",
       "      <script>\n",
       "        const buttonEl =\n",
       "          document.querySelector('#df-0981e3e4-bf67-42f2-9b0f-c5dcc204d467 button.colab-df-convert');\n",
       "        buttonEl.style.display =\n",
       "          google.colab.kernel.accessAllowed ? 'block' : 'none';\n",
       "\n",
       "        async function convertToInteractive(key) {\n",
       "          const element = document.querySelector('#df-0981e3e4-bf67-42f2-9b0f-c5dcc204d467');\n",
       "          const dataTable =\n",
       "            await google.colab.kernel.invokeFunction('convertToInteractive',\n",
       "                                                     [key], {});\n",
       "          if (!dataTable) return;\n",
       "\n",
       "          const docLinkHtml = 'Like what you see? Visit the ' +\n",
       "            '<a target=\"_blank\" href=https://colab.research.google.com/notebooks/data_table.ipynb>data table notebook</a>'\n",
       "            + ' to learn more about interactive tables.';\n",
       "          element.innerHTML = '';\n",
       "          dataTable['output_type'] = 'display_data';\n",
       "          await google.colab.output.renderOutput(dataTable, element);\n",
       "          const docLink = document.createElement('div');\n",
       "          docLink.innerHTML = docLinkHtml;\n",
       "          element.appendChild(docLink);\n",
       "        }\n",
       "      </script>\n",
       "    </div>\n",
       "  </div>\n",
       "  "
      ],
      "text/plain": [
       "   user_id  age churn_date         city first_name  last_name    reg_date  \\\n",
       "0     1000   52        NaN    Краснодар     Рафаил  Верещагин  2018-05-25   \n",
       "1     1001   41        NaN       Москва       Иван       Ежов  2018-11-01   \n",
       "2     1002   59        NaN  Стерлитамак    Евгений  Абрамович  2018-06-17   \n",
       "3     1003   23        NaN       Москва      Белла   Белякова  2018-08-17   \n",
       "4     1004   68        NaN  Новокузнецк    Татьяна   Авдеенко  2018-05-14   \n",
       "\n",
       "  tariff  \n",
       "0  ultra  \n",
       "1  smart  \n",
       "2  smart  \n",
       "3  ultra  \n",
       "4  ultra  "
      ]
     },
     "execution_count": 18,
     "metadata": {},
     "output_type": "execute_result"
    }
   ],
   "source": [
    "users.head()"
   ]
  },
  {
   "cell_type": "code",
   "execution_count": 19,
   "metadata": {
    "colab": {
     "base_uri": "https://localhost:8080/"
    },
    "id": "n-Y7GLShDW8b",
    "outputId": "f3537a7d-096f-4a95-83bd-ae80c58c6835"
   },
   "outputs": [
    {
     "data": {
      "text/plain": [
       "user_id      0.00\n",
       "age          0.00\n",
       "churn_date   0.92\n",
       "city         0.00\n",
       "first_name   0.00\n",
       "last_name    0.00\n",
       "reg_date     0.00\n",
       "tariff       0.00\n",
       "dtype: float64"
      ]
     },
     "execution_count": 19,
     "metadata": {},
     "output_type": "execute_result"
    }
   ],
   "source": [
    "users.isna().mean()"
   ]
  },
  {
   "cell_type": "code",
   "execution_count": 20,
   "metadata": {
    "colab": {
     "base_uri": "https://localhost:8080/"
    },
    "id": "20rtr-_YDW8b",
    "outputId": "c27a7b29-866c-4432-d90e-482e4879dc1c"
   },
   "outputs": [
    {
     "data": {
      "text/plain": [
       "0"
      ]
     },
     "execution_count": 20,
     "metadata": {},
     "output_type": "execute_result"
    }
   ],
   "source": [
    "users.duplicated().sum()"
   ]
  },
  {
   "cell_type": "markdown",
   "metadata": {
    "id": "imw0WymMDW8b"
   },
   "source": [
    "Users who stopped using the tariff:"
   ]
  },
  {
   "cell_type": "code",
   "execution_count": 21,
   "metadata": {
    "colab": {
     "base_uri": "https://localhost:8080/"
    },
    "id": "R1olfoHODW8b",
    "outputId": "96953f9a-f599-4dac-ec21-0f241273340e"
   },
   "outputs": [
    {
     "data": {
      "text/plain": [
       "38"
      ]
     },
     "execution_count": 21,
     "metadata": {},
     "output_type": "execute_result"
    }
   ],
   "source": [
    "users[\"churn_date\"].value_counts().sum()"
   ]
  },
  {
   "cell_type": "code",
   "execution_count": 22,
   "metadata": {
    "colab": {
     "base_uri": "https://localhost:8080/",
     "height": 206
    },
    "id": "axeaMqs1DW8c",
    "outputId": "3afb1a04-145f-4c95-cdad-6909716498ef",
    "scrolled": false
   },
   "outputs": [
    {
     "data": {
      "text/html": [
       "\n",
       "  <div id=\"df-1a042d50-1156-4161-a1c2-b5e97846fc4b\">\n",
       "    <div class=\"colab-df-container\">\n",
       "      <div>\n",
       "<style scoped>\n",
       "    .dataframe tbody tr th:only-of-type {\n",
       "        vertical-align: middle;\n",
       "    }\n",
       "\n",
       "    .dataframe tbody tr th {\n",
       "        vertical-align: top;\n",
       "    }\n",
       "\n",
       "    .dataframe thead th {\n",
       "        text-align: right;\n",
       "    }\n",
       "</style>\n",
       "<table border=\"1\" class=\"dataframe\">\n",
       "  <thead>\n",
       "    <tr style=\"text-align: right;\">\n",
       "      <th></th>\n",
       "      <th>user_id</th>\n",
       "      <th>age</th>\n",
       "      <th>churn_date</th>\n",
       "      <th>city</th>\n",
       "      <th>first_name</th>\n",
       "      <th>last_name</th>\n",
       "      <th>reg_date</th>\n",
       "      <th>tariff</th>\n",
       "    </tr>\n",
       "  </thead>\n",
       "  <tbody>\n",
       "    <tr>\n",
       "      <th>0</th>\n",
       "      <td>1000</td>\n",
       "      <td>52</td>\n",
       "      <td>NaN</td>\n",
       "      <td>Краснодар</td>\n",
       "      <td>Рафаил</td>\n",
       "      <td>Верещагин</td>\n",
       "      <td>2018-05-25</td>\n",
       "      <td>ultra</td>\n",
       "    </tr>\n",
       "    <tr>\n",
       "      <th>1</th>\n",
       "      <td>1001</td>\n",
       "      <td>41</td>\n",
       "      <td>NaN</td>\n",
       "      <td>Москва</td>\n",
       "      <td>Иван</td>\n",
       "      <td>Ежов</td>\n",
       "      <td>2018-11-01</td>\n",
       "      <td>smart</td>\n",
       "    </tr>\n",
       "    <tr>\n",
       "      <th>2</th>\n",
       "      <td>1002</td>\n",
       "      <td>59</td>\n",
       "      <td>NaN</td>\n",
       "      <td>Стерлитамак</td>\n",
       "      <td>Евгений</td>\n",
       "      <td>Абрамович</td>\n",
       "      <td>2018-06-17</td>\n",
       "      <td>smart</td>\n",
       "    </tr>\n",
       "    <tr>\n",
       "      <th>3</th>\n",
       "      <td>1003</td>\n",
       "      <td>23</td>\n",
       "      <td>NaN</td>\n",
       "      <td>Москва</td>\n",
       "      <td>Белла</td>\n",
       "      <td>Белякова</td>\n",
       "      <td>2018-08-17</td>\n",
       "      <td>ultra</td>\n",
       "    </tr>\n",
       "    <tr>\n",
       "      <th>4</th>\n",
       "      <td>1004</td>\n",
       "      <td>68</td>\n",
       "      <td>NaN</td>\n",
       "      <td>Новокузнецк</td>\n",
       "      <td>Татьяна</td>\n",
       "      <td>Авдеенко</td>\n",
       "      <td>2018-05-14</td>\n",
       "      <td>ultra</td>\n",
       "    </tr>\n",
       "  </tbody>\n",
       "</table>\n",
       "</div>\n",
       "      <button class=\"colab-df-convert\" onclick=\"convertToInteractive('df-1a042d50-1156-4161-a1c2-b5e97846fc4b')\"\n",
       "              title=\"Convert this dataframe to an interactive table.\"\n",
       "              style=\"display:none;\">\n",
       "        \n",
       "  <svg xmlns=\"http://www.w3.org/2000/svg\" height=\"24px\"viewBox=\"0 0 24 24\"\n",
       "       width=\"24px\">\n",
       "    <path d=\"M0 0h24v24H0V0z\" fill=\"none\"/>\n",
       "    <path d=\"M18.56 5.44l.94 2.06.94-2.06 2.06-.94-2.06-.94-.94-2.06-.94 2.06-2.06.94zm-11 1L8.5 8.5l.94-2.06 2.06-.94-2.06-.94L8.5 2.5l-.94 2.06-2.06.94zm10 10l.94 2.06.94-2.06 2.06-.94-2.06-.94-.94-2.06-.94 2.06-2.06.94z\"/><path d=\"M17.41 7.96l-1.37-1.37c-.4-.4-.92-.59-1.43-.59-.52 0-1.04.2-1.43.59L10.3 9.45l-7.72 7.72c-.78.78-.78 2.05 0 2.83L4 21.41c.39.39.9.59 1.41.59.51 0 1.02-.2 1.41-.59l7.78-7.78 2.81-2.81c.8-.78.8-2.07 0-2.86zM5.41 20L4 18.59l7.72-7.72 1.47 1.35L5.41 20z\"/>\n",
       "  </svg>\n",
       "      </button>\n",
       "      \n",
       "  <style>\n",
       "    .colab-df-container {\n",
       "      display:flex;\n",
       "      flex-wrap:wrap;\n",
       "      gap: 12px;\n",
       "    }\n",
       "\n",
       "    .colab-df-convert {\n",
       "      background-color: #E8F0FE;\n",
       "      border: none;\n",
       "      border-radius: 50%;\n",
       "      cursor: pointer;\n",
       "      display: none;\n",
       "      fill: #1967D2;\n",
       "      height: 32px;\n",
       "      padding: 0 0 0 0;\n",
       "      width: 32px;\n",
       "    }\n",
       "\n",
       "    .colab-df-convert:hover {\n",
       "      background-color: #E2EBFA;\n",
       "      box-shadow: 0px 1px 2px rgba(60, 64, 67, 0.3), 0px 1px 3px 1px rgba(60, 64, 67, 0.15);\n",
       "      fill: #174EA6;\n",
       "    }\n",
       "\n",
       "    [theme=dark] .colab-df-convert {\n",
       "      background-color: #3B4455;\n",
       "      fill: #D2E3FC;\n",
       "    }\n",
       "\n",
       "    [theme=dark] .colab-df-convert:hover {\n",
       "      background-color: #434B5C;\n",
       "      box-shadow: 0px 1px 3px 1px rgba(0, 0, 0, 0.15);\n",
       "      filter: drop-shadow(0px 1px 2px rgba(0, 0, 0, 0.3));\n",
       "      fill: #FFFFFF;\n",
       "    }\n",
       "  </style>\n",
       "\n",
       "      <script>\n",
       "        const buttonEl =\n",
       "          document.querySelector('#df-1a042d50-1156-4161-a1c2-b5e97846fc4b button.colab-df-convert');\n",
       "        buttonEl.style.display =\n",
       "          google.colab.kernel.accessAllowed ? 'block' : 'none';\n",
       "\n",
       "        async function convertToInteractive(key) {\n",
       "          const element = document.querySelector('#df-1a042d50-1156-4161-a1c2-b5e97846fc4b');\n",
       "          const dataTable =\n",
       "            await google.colab.kernel.invokeFunction('convertToInteractive',\n",
       "                                                     [key], {});\n",
       "          if (!dataTable) return;\n",
       "\n",
       "          const docLinkHtml = 'Like what you see? Visit the ' +\n",
       "            '<a target=\"_blank\" href=https://colab.research.google.com/notebooks/data_table.ipynb>data table notebook</a>'\n",
       "            + ' to learn more about interactive tables.';\n",
       "          element.innerHTML = '';\n",
       "          dataTable['output_type'] = 'display_data';\n",
       "          await google.colab.output.renderOutput(dataTable, element);\n",
       "          const docLink = document.createElement('div');\n",
       "          docLink.innerHTML = docLinkHtml;\n",
       "          element.appendChild(docLink);\n",
       "        }\n",
       "      </script>\n",
       "    </div>\n",
       "  </div>\n",
       "  "
      ],
      "text/plain": [
       "   user_id  age churn_date         city first_name  last_name    reg_date  \\\n",
       "0     1000   52        NaN    Краснодар     Рафаил  Верещагин  2018-05-25   \n",
       "1     1001   41        NaN       Москва       Иван       Ежов  2018-11-01   \n",
       "2     1002   59        NaN  Стерлитамак    Евгений  Абрамович  2018-06-17   \n",
       "3     1003   23        NaN       Москва      Белла   Белякова  2018-08-17   \n",
       "4     1004   68        NaN  Новокузнецк    Татьяна   Авдеенко  2018-05-14   \n",
       "\n",
       "  tariff  \n",
       "0  ultra  \n",
       "1  smart  \n",
       "2  smart  \n",
       "3  ultra  \n",
       "4  ultra  "
      ]
     },
     "execution_count": 22,
     "metadata": {},
     "output_type": "execute_result"
    }
   ],
   "source": [
    "users.head()"
   ]
  },
  {
   "cell_type": "markdown",
   "metadata": {
    "id": "cb3Sqqj2DW8c"
   },
   "source": [
    "Description:\n",
    "-   `user_id`: unique user identifier\n",
    "-   `first_name`: user's first name\n",
    "-   `last_name`: user's last name\n",
    "-   `age`: user's age (years)\n",
    "-   `reg_date`: date of tariff activation (day, month, year)\n",
    "-   `churn_date`: date of discontinuation of using the tariff (if the value is missing, the tariff was still active at the time of data extraction)\n",
    "-   `city`: user's city of residence\n",
    "-   `tariff`: name of the tariff plan"
   ]
  },
  {
   "cell_type": "markdown",
   "metadata": {
    "id": "nWqcSXZfDW8c"
   },
   "source": [
    "### Conclusion <a class=\"anchor\" id=\"overview-conclusion\">\n",
    "\n",
    "What needs to be done:\n",
    "\n",
    "Data on **calls**, **internet sessions**, and **messages**: convert dates to the correct format and add columns with months.\n",
    "Data on **calls**: the duration column needs to be rounded up to the nearest integer value.\n",
    "Data on **users**: convert dates to the correct format.\n",
    "Other findings:\n",
    "\n",
    "Known zeros: 39613 missed calls (duration=0.00) in `calls[\"duration\"]`.\n",
    "Suspicious column `internet[\"Unnamed: 0\"]` - it has no information and no description.\n",
    "Missing values found: 38 NaN's in `users[\"churn_date\"]`."
   ]
  },
  {
   "cell_type": "markdown",
   "metadata": {
    "id": "DZFlwnRkDW8c"
   },
   "source": [
    "## Data preparation <a class=\"anchor\" id=\"data-preparation\"></a>\n",
    "\n",
    "**Data preprocessing**\n",
    "\n",
    "I will delete the column `internet[\"Unnamed: 0\"]`, as it contains no useful information."
   ]
  },
  {
   "cell_type": "code",
   "execution_count": 23,
   "metadata": {
    "id": "IAg2MfqLDW8d"
   },
   "outputs": [],
   "source": [
    "internet = internet.drop(\"Unnamed: 0\", axis=1)"
   ]
  },
  {
   "cell_type": "markdown",
   "metadata": {
    "id": "mCBg_Bp9IGOX"
   },
   "source": [
    "Renaming the column `tariffs[\"tariff_name\"]` will be useful to \"hook onto\" it when merging with `users` later."
   ]
  },
  {
   "cell_type": "code",
   "execution_count": 24,
   "metadata": {
    "colab": {
     "base_uri": "https://localhost:8080/",
     "height": 144
    },
    "id": "7YWKXMW0DW8d",
    "outputId": "d1bf13fb-a379-46d0-f67e-7d41c6fe4330",
    "scrolled": true
   },
   "outputs": [
    {
     "data": {
      "text/html": [
       "\n",
       "  <div id=\"df-7c6ee51d-6397-4d52-a5dc-3389004b09ba\">\n",
       "    <div class=\"colab-df-container\">\n",
       "      <div>\n",
       "<style scoped>\n",
       "    .dataframe tbody tr th:only-of-type {\n",
       "        vertical-align: middle;\n",
       "    }\n",
       "\n",
       "    .dataframe tbody tr th {\n",
       "        vertical-align: top;\n",
       "    }\n",
       "\n",
       "    .dataframe thead th {\n",
       "        text-align: right;\n",
       "    }\n",
       "</style>\n",
       "<table border=\"1\" class=\"dataframe\">\n",
       "  <thead>\n",
       "    <tr style=\"text-align: right;\">\n",
       "      <th></th>\n",
       "      <th>user_id</th>\n",
       "      <th>age</th>\n",
       "      <th>churn_date</th>\n",
       "      <th>city</th>\n",
       "      <th>first_name</th>\n",
       "      <th>last_name</th>\n",
       "      <th>reg_date</th>\n",
       "      <th>tariff</th>\n",
       "    </tr>\n",
       "  </thead>\n",
       "  <tbody>\n",
       "    <tr>\n",
       "      <th>0</th>\n",
       "      <td>1000</td>\n",
       "      <td>52</td>\n",
       "      <td>NaN</td>\n",
       "      <td>Краснодар</td>\n",
       "      <td>Рафаил</td>\n",
       "      <td>Верещагин</td>\n",
       "      <td>2018-05-25</td>\n",
       "      <td>ultra</td>\n",
       "    </tr>\n",
       "  </tbody>\n",
       "</table>\n",
       "</div>\n",
       "      <button class=\"colab-df-convert\" onclick=\"convertToInteractive('df-7c6ee51d-6397-4d52-a5dc-3389004b09ba')\"\n",
       "              title=\"Convert this dataframe to an interactive table.\"\n",
       "              style=\"display:none;\">\n",
       "        \n",
       "  <svg xmlns=\"http://www.w3.org/2000/svg\" height=\"24px\"viewBox=\"0 0 24 24\"\n",
       "       width=\"24px\">\n",
       "    <path d=\"M0 0h24v24H0V0z\" fill=\"none\"/>\n",
       "    <path d=\"M18.56 5.44l.94 2.06.94-2.06 2.06-.94-2.06-.94-.94-2.06-.94 2.06-2.06.94zm-11 1L8.5 8.5l.94-2.06 2.06-.94-2.06-.94L8.5 2.5l-.94 2.06-2.06.94zm10 10l.94 2.06.94-2.06 2.06-.94-2.06-.94-.94-2.06-.94 2.06-2.06.94z\"/><path d=\"M17.41 7.96l-1.37-1.37c-.4-.4-.92-.59-1.43-.59-.52 0-1.04.2-1.43.59L10.3 9.45l-7.72 7.72c-.78.78-.78 2.05 0 2.83L4 21.41c.39.39.9.59 1.41.59.51 0 1.02-.2 1.41-.59l7.78-7.78 2.81-2.81c.8-.78.8-2.07 0-2.86zM5.41 20L4 18.59l7.72-7.72 1.47 1.35L5.41 20z\"/>\n",
       "  </svg>\n",
       "      </button>\n",
       "      \n",
       "  <style>\n",
       "    .colab-df-container {\n",
       "      display:flex;\n",
       "      flex-wrap:wrap;\n",
       "      gap: 12px;\n",
       "    }\n",
       "\n",
       "    .colab-df-convert {\n",
       "      background-color: #E8F0FE;\n",
       "      border: none;\n",
       "      border-radius: 50%;\n",
       "      cursor: pointer;\n",
       "      display: none;\n",
       "      fill: #1967D2;\n",
       "      height: 32px;\n",
       "      padding: 0 0 0 0;\n",
       "      width: 32px;\n",
       "    }\n",
       "\n",
       "    .colab-df-convert:hover {\n",
       "      background-color: #E2EBFA;\n",
       "      box-shadow: 0px 1px 2px rgba(60, 64, 67, 0.3), 0px 1px 3px 1px rgba(60, 64, 67, 0.15);\n",
       "      fill: #174EA6;\n",
       "    }\n",
       "\n",
       "    [theme=dark] .colab-df-convert {\n",
       "      background-color: #3B4455;\n",
       "      fill: #D2E3FC;\n",
       "    }\n",
       "\n",
       "    [theme=dark] .colab-df-convert:hover {\n",
       "      background-color: #434B5C;\n",
       "      box-shadow: 0px 1px 3px 1px rgba(0, 0, 0, 0.15);\n",
       "      filter: drop-shadow(0px 1px 2px rgba(0, 0, 0, 0.3));\n",
       "      fill: #FFFFFF;\n",
       "    }\n",
       "  </style>\n",
       "\n",
       "      <script>\n",
       "        const buttonEl =\n",
       "          document.querySelector('#df-7c6ee51d-6397-4d52-a5dc-3389004b09ba button.colab-df-convert');\n",
       "        buttonEl.style.display =\n",
       "          google.colab.kernel.accessAllowed ? 'block' : 'none';\n",
       "\n",
       "        async function convertToInteractive(key) {\n",
       "          const element = document.querySelector('#df-7c6ee51d-6397-4d52-a5dc-3389004b09ba');\n",
       "          const dataTable =\n",
       "            await google.colab.kernel.invokeFunction('convertToInteractive',\n",
       "                                                     [key], {});\n",
       "          if (!dataTable) return;\n",
       "\n",
       "          const docLinkHtml = 'Like what you see? Visit the ' +\n",
       "            '<a target=\"_blank\" href=https://colab.research.google.com/notebooks/data_table.ipynb>data table notebook</a>'\n",
       "            + ' to learn more about interactive tables.';\n",
       "          element.innerHTML = '';\n",
       "          dataTable['output_type'] = 'display_data';\n",
       "          await google.colab.output.renderOutput(dataTable, element);\n",
       "          const docLink = document.createElement('div');\n",
       "          docLink.innerHTML = docLinkHtml;\n",
       "          element.appendChild(docLink);\n",
       "        }\n",
       "      </script>\n",
       "    </div>\n",
       "  </div>\n",
       "  "
      ],
      "text/plain": [
       "   user_id  age churn_date       city first_name  last_name    reg_date tariff\n",
       "0     1000   52        NaN  Краснодар     Рафаил  Верещагин  2018-05-25  ultra"
      ]
     },
     "metadata": {},
     "output_type": "display_data"
    },
    {
     "data": {
      "text/html": [
       "\n",
       "  <div id=\"df-65be869c-b818-43a0-9662-2de9ac88091e\">\n",
       "    <div class=\"colab-df-container\">\n",
       "      <div>\n",
       "<style scoped>\n",
       "    .dataframe tbody tr th:only-of-type {\n",
       "        vertical-align: middle;\n",
       "    }\n",
       "\n",
       "    .dataframe tbody tr th {\n",
       "        vertical-align: top;\n",
       "    }\n",
       "\n",
       "    .dataframe thead th {\n",
       "        text-align: right;\n",
       "    }\n",
       "</style>\n",
       "<table border=\"1\" class=\"dataframe\">\n",
       "  <thead>\n",
       "    <tr style=\"text-align: right;\">\n",
       "      <th></th>\n",
       "      <th>messages_included</th>\n",
       "      <th>mb_per_month_included</th>\n",
       "      <th>minutes_included</th>\n",
       "      <th>rub_monthly_fee</th>\n",
       "      <th>rub_per_gb</th>\n",
       "      <th>rub_per_message</th>\n",
       "      <th>rub_per_minute</th>\n",
       "      <th>tariff</th>\n",
       "    </tr>\n",
       "  </thead>\n",
       "  <tbody>\n",
       "    <tr>\n",
       "      <th>0</th>\n",
       "      <td>50</td>\n",
       "      <td>15360</td>\n",
       "      <td>500</td>\n",
       "      <td>550</td>\n",
       "      <td>200</td>\n",
       "      <td>3</td>\n",
       "      <td>3</td>\n",
       "      <td>smart</td>\n",
       "    </tr>\n",
       "  </tbody>\n",
       "</table>\n",
       "</div>\n",
       "      <button class=\"colab-df-convert\" onclick=\"convertToInteractive('df-65be869c-b818-43a0-9662-2de9ac88091e')\"\n",
       "              title=\"Convert this dataframe to an interactive table.\"\n",
       "              style=\"display:none;\">\n",
       "        \n",
       "  <svg xmlns=\"http://www.w3.org/2000/svg\" height=\"24px\"viewBox=\"0 0 24 24\"\n",
       "       width=\"24px\">\n",
       "    <path d=\"M0 0h24v24H0V0z\" fill=\"none\"/>\n",
       "    <path d=\"M18.56 5.44l.94 2.06.94-2.06 2.06-.94-2.06-.94-.94-2.06-.94 2.06-2.06.94zm-11 1L8.5 8.5l.94-2.06 2.06-.94-2.06-.94L8.5 2.5l-.94 2.06-2.06.94zm10 10l.94 2.06.94-2.06 2.06-.94-2.06-.94-.94-2.06-.94 2.06-2.06.94z\"/><path d=\"M17.41 7.96l-1.37-1.37c-.4-.4-.92-.59-1.43-.59-.52 0-1.04.2-1.43.59L10.3 9.45l-7.72 7.72c-.78.78-.78 2.05 0 2.83L4 21.41c.39.39.9.59 1.41.59.51 0 1.02-.2 1.41-.59l7.78-7.78 2.81-2.81c.8-.78.8-2.07 0-2.86zM5.41 20L4 18.59l7.72-7.72 1.47 1.35L5.41 20z\"/>\n",
       "  </svg>\n",
       "      </button>\n",
       "      \n",
       "  <style>\n",
       "    .colab-df-container {\n",
       "      display:flex;\n",
       "      flex-wrap:wrap;\n",
       "      gap: 12px;\n",
       "    }\n",
       "\n",
       "    .colab-df-convert {\n",
       "      background-color: #E8F0FE;\n",
       "      border: none;\n",
       "      border-radius: 50%;\n",
       "      cursor: pointer;\n",
       "      display: none;\n",
       "      fill: #1967D2;\n",
       "      height: 32px;\n",
       "      padding: 0 0 0 0;\n",
       "      width: 32px;\n",
       "    }\n",
       "\n",
       "    .colab-df-convert:hover {\n",
       "      background-color: #E2EBFA;\n",
       "      box-shadow: 0px 1px 2px rgba(60, 64, 67, 0.3), 0px 1px 3px 1px rgba(60, 64, 67, 0.15);\n",
       "      fill: #174EA6;\n",
       "    }\n",
       "\n",
       "    [theme=dark] .colab-df-convert {\n",
       "      background-color: #3B4455;\n",
       "      fill: #D2E3FC;\n",
       "    }\n",
       "\n",
       "    [theme=dark] .colab-df-convert:hover {\n",
       "      background-color: #434B5C;\n",
       "      box-shadow: 0px 1px 3px 1px rgba(0, 0, 0, 0.15);\n",
       "      filter: drop-shadow(0px 1px 2px rgba(0, 0, 0, 0.3));\n",
       "      fill: #FFFFFF;\n",
       "    }\n",
       "  </style>\n",
       "\n",
       "      <script>\n",
       "        const buttonEl =\n",
       "          document.querySelector('#df-65be869c-b818-43a0-9662-2de9ac88091e button.colab-df-convert');\n",
       "        buttonEl.style.display =\n",
       "          google.colab.kernel.accessAllowed ? 'block' : 'none';\n",
       "\n",
       "        async function convertToInteractive(key) {\n",
       "          const element = document.querySelector('#df-65be869c-b818-43a0-9662-2de9ac88091e');\n",
       "          const dataTable =\n",
       "            await google.colab.kernel.invokeFunction('convertToInteractive',\n",
       "                                                     [key], {});\n",
       "          if (!dataTable) return;\n",
       "\n",
       "          const docLinkHtml = 'Like what you see? Visit the ' +\n",
       "            '<a target=\"_blank\" href=https://colab.research.google.com/notebooks/data_table.ipynb>data table notebook</a>'\n",
       "            + ' to learn more about interactive tables.';\n",
       "          element.innerHTML = '';\n",
       "          dataTable['output_type'] = 'display_data';\n",
       "          await google.colab.output.renderOutput(dataTable, element);\n",
       "          const docLink = document.createElement('div');\n",
       "          docLink.innerHTML = docLinkHtml;\n",
       "          element.appendChild(docLink);\n",
       "        }\n",
       "      </script>\n",
       "    </div>\n",
       "  </div>\n",
       "  "
      ],
      "text/plain": [
       "   messages_included  mb_per_month_included  minutes_included  \\\n",
       "0                 50                  15360               500   \n",
       "\n",
       "   rub_monthly_fee  rub_per_gb  rub_per_message  rub_per_minute tariff  \n",
       "0              550         200                3               3  smart  "
      ]
     },
     "execution_count": 24,
     "metadata": {},
     "output_type": "execute_result"
    }
   ],
   "source": [
    "tariffs.rename(columns={\"tariff_name\":\"tariff\"},inplace=True)\n",
    "display(users.head(1))\n",
    "tariffs.head(1)"
   ]
  },
  {
   "cell_type": "markdown",
   "metadata": {
    "id": "8TNwOPllDW8d"
   },
   "source": [
    "The `*_date` columns are in object format. They need to be converted to datetime format. The `for` loop will be used so if new dataframes will appear they just need to be added in the list `date_columns`."
   ]
  },
  {
   "cell_type": "code",
   "execution_count": 25,
   "metadata": {
    "id": "uqWwyMupAgml"
   },
   "outputs": [],
   "source": [
    "date_columns = [\n",
    "    \"call_date\", \"session_date\",\n",
    "    \"message_date\", \"churn_date\",\n",
    "    \"reg_date\"\n",
    "]\n",
    "dataframes = [calls, internet, messages, users]\n",
    "\n",
    "for df_name in dataframes:\n",
    "    for col in date_columns:\n",
    "        if col in df_name.columns:\n",
    "            df_name[col] = pd.to_datetime(df_name[col], format=\"%Y-%m-%d\")"
   ]
  },
  {
   "cell_type": "markdown",
   "metadata": {
    "id": "BM5ti8oiDW8e"
   },
   "source": [
    "Processing the call duration by rounding up to the nearest whole number."
   ]
  },
  {
   "cell_type": "code",
   "execution_count": 26,
   "metadata": {
    "id": "LglgNknmDW8e"
   },
   "outputs": [],
   "source": [
    "calls[\"duration\"] = np.ceil(calls[\"duration\"]).astype(\"int\")"
   ]
  },
  {
   "cell_type": "markdown",
   "metadata": {
    "id": "sCfQYfwuDW8e"
   },
   "source": [
    "Adding columns with months to the tables."
   ]
  },
  {
   "cell_type": "code",
   "execution_count": 27,
   "metadata": {
    "id": "OOGvaHfaCuZM"
   },
   "outputs": [],
   "source": [
    "calls[\"month\"] = calls[\"call_date\"].apply(lambda x: x.month)\n",
    "internet[\"month\"] = internet[\"session_date\"].apply(lambda x: x.month)\n",
    "messages[\"month\"] = messages[\"message_date\"].apply(lambda x: x.month)"
   ]
  },
  {
   "cell_type": "markdown",
   "metadata": {
    "id": "UvLXXUXuI78B"
   },
   "source": [
    "Grouping the data by calls."
   ]
  },
  {
   "cell_type": "code",
   "execution_count": 28,
   "metadata": {
    "id": "qkAe0ucoDW8f"
   },
   "outputs": [],
   "source": [
    "calls_grouped = calls.pivot_table(\n",
    "    index=[\"user_id\", \"month\"],\n",
    "    values=\"duration\",\n",
    "    aggfunc=[\"sum\",\"count\"]\n",
    ").reset_index()\n",
    "calls_grouped.columns = [\"user_id\", \"month\", \"duration_sum\", \"duration_count\"]"
   ]
  },
  {
   "cell_type": "markdown",
   "metadata": {
    "id": "38aF8QtuJAa2"
   },
   "source": [
    "Grouping the data by messages."
   ]
  },
  {
   "cell_type": "code",
   "execution_count": 29,
   "metadata": {
    "id": "DomobS17DW8f"
   },
   "outputs": [],
   "source": [
    "messages_grouped = messages.pivot_table(\n",
    "    index=[\"user_id\",\"month\"],\n",
    "    values=\"message_date\",\n",
    "    aggfunc=\"count\"\n",
    ").reset_index()\n",
    "messages_grouped.columns = [\"user_id\", \"month\", \"messages_number\"]"
   ]
  },
  {
   "cell_type": "markdown",
   "metadata": {
    "id": "_aijur9sJDHQ"
   },
   "source": [
    "Grouping the data by internet traffic."
   ]
  },
  {
   "cell_type": "code",
   "execution_count": 30,
   "metadata": {
    "id": "MgdIli5DDW8f",
    "scrolled": false
   },
   "outputs": [],
   "source": [
    "internet_grouped = internet.pivot_table(\n",
    "    index=[\"user_id\", \"month\"],\n",
    "    values=\"mb_used\",\n",
    "    aggfunc=\"sum\"\n",
    ").reset_index()"
   ]
  },
  {
   "cell_type": "markdown",
   "metadata": {
    "id": "829uPpDTJHEA"
   },
   "source": [
    "Adding a column with gigabytes rounded up to the nearest whole number."
   ]
  },
  {
   "cell_type": "code",
   "execution_count": 31,
   "metadata": {
    "id": "1v-gbShqDW8f"
   },
   "outputs": [],
   "source": [
    "internet_grouped[\"gb_used_rounded\"] = internet_grouped[\"mb_used\"] / 1024\n",
    "internet_grouped[\"gb_used_rounded\"] = np.ceil(internet_grouped[\"gb_used_rounded\"])"
   ]
  },
  {
   "cell_type": "markdown",
   "metadata": {
    "id": "KPC8JxBcDW8g"
   },
   "source": [
    "**Merging data**\n",
    "\n",
    "Merging `users` and `tariffs` based on the tariff name."
   ]
  },
  {
   "cell_type": "code",
   "execution_count": 32,
   "metadata": {
    "colab": {
     "base_uri": "https://localhost:8080/",
     "height": 661
    },
    "id": "HjefN3RHDW8h",
    "outputId": "99adb05f-064a-4aca-d172-c6bfdfea80e9"
   },
   "outputs": [
    {
     "data": {
      "text/html": [
       "\n",
       "  <div id=\"df-c956533c-2320-4a37-a658-d32cabd45cc6\">\n",
       "    <div class=\"colab-df-container\">\n",
       "      <div>\n",
       "<style scoped>\n",
       "    .dataframe tbody tr th:only-of-type {\n",
       "        vertical-align: middle;\n",
       "    }\n",
       "\n",
       "    .dataframe tbody tr th {\n",
       "        vertical-align: top;\n",
       "    }\n",
       "\n",
       "    .dataframe thead th {\n",
       "        text-align: right;\n",
       "    }\n",
       "</style>\n",
       "<table border=\"1\" class=\"dataframe\">\n",
       "  <thead>\n",
       "    <tr style=\"text-align: right;\">\n",
       "      <th></th>\n",
       "      <th>user_id</th>\n",
       "      <th>age</th>\n",
       "      <th>churn_date</th>\n",
       "      <th>city</th>\n",
       "      <th>first_name</th>\n",
       "      <th>last_name</th>\n",
       "      <th>reg_date</th>\n",
       "      <th>tariff</th>\n",
       "      <th>messages_included</th>\n",
       "      <th>mb_per_month_included</th>\n",
       "      <th>minutes_included</th>\n",
       "      <th>rub_monthly_fee</th>\n",
       "      <th>rub_per_gb</th>\n",
       "      <th>rub_per_message</th>\n",
       "      <th>rub_per_minute</th>\n",
       "    </tr>\n",
       "  </thead>\n",
       "  <tbody>\n",
       "    <tr>\n",
       "      <th>0</th>\n",
       "      <td>1000</td>\n",
       "      <td>52</td>\n",
       "      <td>NaT</td>\n",
       "      <td>Краснодар</td>\n",
       "      <td>Рафаил</td>\n",
       "      <td>Верещагин</td>\n",
       "      <td>2018-05-25</td>\n",
       "      <td>ultra</td>\n",
       "      <td>1000</td>\n",
       "      <td>30720</td>\n",
       "      <td>3000</td>\n",
       "      <td>1950</td>\n",
       "      <td>150</td>\n",
       "      <td>1</td>\n",
       "      <td>1</td>\n",
       "    </tr>\n",
       "    <tr>\n",
       "      <th>1</th>\n",
       "      <td>1001</td>\n",
       "      <td>41</td>\n",
       "      <td>NaT</td>\n",
       "      <td>Москва</td>\n",
       "      <td>Иван</td>\n",
       "      <td>Ежов</td>\n",
       "      <td>2018-11-01</td>\n",
       "      <td>smart</td>\n",
       "      <td>50</td>\n",
       "      <td>15360</td>\n",
       "      <td>500</td>\n",
       "      <td>550</td>\n",
       "      <td>200</td>\n",
       "      <td>3</td>\n",
       "      <td>3</td>\n",
       "    </tr>\n",
       "    <tr>\n",
       "      <th>2</th>\n",
       "      <td>1002</td>\n",
       "      <td>59</td>\n",
       "      <td>NaT</td>\n",
       "      <td>Стерлитамак</td>\n",
       "      <td>Евгений</td>\n",
       "      <td>Абрамович</td>\n",
       "      <td>2018-06-17</td>\n",
       "      <td>smart</td>\n",
       "      <td>50</td>\n",
       "      <td>15360</td>\n",
       "      <td>500</td>\n",
       "      <td>550</td>\n",
       "      <td>200</td>\n",
       "      <td>3</td>\n",
       "      <td>3</td>\n",
       "    </tr>\n",
       "    <tr>\n",
       "      <th>3</th>\n",
       "      <td>1003</td>\n",
       "      <td>23</td>\n",
       "      <td>NaT</td>\n",
       "      <td>Москва</td>\n",
       "      <td>Белла</td>\n",
       "      <td>Белякова</td>\n",
       "      <td>2018-08-17</td>\n",
       "      <td>ultra</td>\n",
       "      <td>1000</td>\n",
       "      <td>30720</td>\n",
       "      <td>3000</td>\n",
       "      <td>1950</td>\n",
       "      <td>150</td>\n",
       "      <td>1</td>\n",
       "      <td>1</td>\n",
       "    </tr>\n",
       "    <tr>\n",
       "      <th>4</th>\n",
       "      <td>1004</td>\n",
       "      <td>68</td>\n",
       "      <td>NaT</td>\n",
       "      <td>Новокузнецк</td>\n",
       "      <td>Татьяна</td>\n",
       "      <td>Авдеенко</td>\n",
       "      <td>2018-05-14</td>\n",
       "      <td>ultra</td>\n",
       "      <td>1000</td>\n",
       "      <td>30720</td>\n",
       "      <td>3000</td>\n",
       "      <td>1950</td>\n",
       "      <td>150</td>\n",
       "      <td>1</td>\n",
       "      <td>1</td>\n",
       "    </tr>\n",
       "    <tr>\n",
       "      <th>...</th>\n",
       "      <td>...</td>\n",
       "      <td>...</td>\n",
       "      <td>...</td>\n",
       "      <td>...</td>\n",
       "      <td>...</td>\n",
       "      <td>...</td>\n",
       "      <td>...</td>\n",
       "      <td>...</td>\n",
       "      <td>...</td>\n",
       "      <td>...</td>\n",
       "      <td>...</td>\n",
       "      <td>...</td>\n",
       "      <td>...</td>\n",
       "      <td>...</td>\n",
       "      <td>...</td>\n",
       "    </tr>\n",
       "    <tr>\n",
       "      <th>495</th>\n",
       "      <td>1495</td>\n",
       "      <td>65</td>\n",
       "      <td>NaT</td>\n",
       "      <td>Иркутск</td>\n",
       "      <td>Авксентий</td>\n",
       "      <td>Фокин</td>\n",
       "      <td>2018-08-28</td>\n",
       "      <td>ultra</td>\n",
       "      <td>1000</td>\n",
       "      <td>30720</td>\n",
       "      <td>3000</td>\n",
       "      <td>1950</td>\n",
       "      <td>150</td>\n",
       "      <td>1</td>\n",
       "      <td>1</td>\n",
       "    </tr>\n",
       "    <tr>\n",
       "      <th>496</th>\n",
       "      <td>1496</td>\n",
       "      <td>36</td>\n",
       "      <td>NaT</td>\n",
       "      <td>Вологда</td>\n",
       "      <td>Трифон</td>\n",
       "      <td>Блохин</td>\n",
       "      <td>2018-01-27</td>\n",
       "      <td>smart</td>\n",
       "      <td>50</td>\n",
       "      <td>15360</td>\n",
       "      <td>500</td>\n",
       "      <td>550</td>\n",
       "      <td>200</td>\n",
       "      <td>3</td>\n",
       "      <td>3</td>\n",
       "    </tr>\n",
       "    <tr>\n",
       "      <th>497</th>\n",
       "      <td>1497</td>\n",
       "      <td>32</td>\n",
       "      <td>NaT</td>\n",
       "      <td>Челябинск</td>\n",
       "      <td>Каролина</td>\n",
       "      <td>Агеева</td>\n",
       "      <td>2018-10-09</td>\n",
       "      <td>smart</td>\n",
       "      <td>50</td>\n",
       "      <td>15360</td>\n",
       "      <td>500</td>\n",
       "      <td>550</td>\n",
       "      <td>200</td>\n",
       "      <td>3</td>\n",
       "      <td>3</td>\n",
       "    </tr>\n",
       "    <tr>\n",
       "      <th>498</th>\n",
       "      <td>1498</td>\n",
       "      <td>68</td>\n",
       "      <td>2018-10-25</td>\n",
       "      <td>Владикавказ</td>\n",
       "      <td>Всеволод</td>\n",
       "      <td>Акимчин</td>\n",
       "      <td>2018-07-19</td>\n",
       "      <td>smart</td>\n",
       "      <td>50</td>\n",
       "      <td>15360</td>\n",
       "      <td>500</td>\n",
       "      <td>550</td>\n",
       "      <td>200</td>\n",
       "      <td>3</td>\n",
       "      <td>3</td>\n",
       "    </tr>\n",
       "    <tr>\n",
       "      <th>499</th>\n",
       "      <td>1499</td>\n",
       "      <td>35</td>\n",
       "      <td>NaT</td>\n",
       "      <td>Пермь</td>\n",
       "      <td>Гектор</td>\n",
       "      <td>Корнилов</td>\n",
       "      <td>2018-09-27</td>\n",
       "      <td>smart</td>\n",
       "      <td>50</td>\n",
       "      <td>15360</td>\n",
       "      <td>500</td>\n",
       "      <td>550</td>\n",
       "      <td>200</td>\n",
       "      <td>3</td>\n",
       "      <td>3</td>\n",
       "    </tr>\n",
       "  </tbody>\n",
       "</table>\n",
       "<p>500 rows × 15 columns</p>\n",
       "</div>\n",
       "      <button class=\"colab-df-convert\" onclick=\"convertToInteractive('df-c956533c-2320-4a37-a658-d32cabd45cc6')\"\n",
       "              title=\"Convert this dataframe to an interactive table.\"\n",
       "              style=\"display:none;\">\n",
       "        \n",
       "  <svg xmlns=\"http://www.w3.org/2000/svg\" height=\"24px\"viewBox=\"0 0 24 24\"\n",
       "       width=\"24px\">\n",
       "    <path d=\"M0 0h24v24H0V0z\" fill=\"none\"/>\n",
       "    <path d=\"M18.56 5.44l.94 2.06.94-2.06 2.06-.94-2.06-.94-.94-2.06-.94 2.06-2.06.94zm-11 1L8.5 8.5l.94-2.06 2.06-.94-2.06-.94L8.5 2.5l-.94 2.06-2.06.94zm10 10l.94 2.06.94-2.06 2.06-.94-2.06-.94-.94-2.06-.94 2.06-2.06.94z\"/><path d=\"M17.41 7.96l-1.37-1.37c-.4-.4-.92-.59-1.43-.59-.52 0-1.04.2-1.43.59L10.3 9.45l-7.72 7.72c-.78.78-.78 2.05 0 2.83L4 21.41c.39.39.9.59 1.41.59.51 0 1.02-.2 1.41-.59l7.78-7.78 2.81-2.81c.8-.78.8-2.07 0-2.86zM5.41 20L4 18.59l7.72-7.72 1.47 1.35L5.41 20z\"/>\n",
       "  </svg>\n",
       "      </button>\n",
       "      \n",
       "  <style>\n",
       "    .colab-df-container {\n",
       "      display:flex;\n",
       "      flex-wrap:wrap;\n",
       "      gap: 12px;\n",
       "    }\n",
       "\n",
       "    .colab-df-convert {\n",
       "      background-color: #E8F0FE;\n",
       "      border: none;\n",
       "      border-radius: 50%;\n",
       "      cursor: pointer;\n",
       "      display: none;\n",
       "      fill: #1967D2;\n",
       "      height: 32px;\n",
       "      padding: 0 0 0 0;\n",
       "      width: 32px;\n",
       "    }\n",
       "\n",
       "    .colab-df-convert:hover {\n",
       "      background-color: #E2EBFA;\n",
       "      box-shadow: 0px 1px 2px rgba(60, 64, 67, 0.3), 0px 1px 3px 1px rgba(60, 64, 67, 0.15);\n",
       "      fill: #174EA6;\n",
       "    }\n",
       "\n",
       "    [theme=dark] .colab-df-convert {\n",
       "      background-color: #3B4455;\n",
       "      fill: #D2E3FC;\n",
       "    }\n",
       "\n",
       "    [theme=dark] .colab-df-convert:hover {\n",
       "      background-color: #434B5C;\n",
       "      box-shadow: 0px 1px 3px 1px rgba(0, 0, 0, 0.15);\n",
       "      filter: drop-shadow(0px 1px 2px rgba(0, 0, 0, 0.3));\n",
       "      fill: #FFFFFF;\n",
       "    }\n",
       "  </style>\n",
       "\n",
       "      <script>\n",
       "        const buttonEl =\n",
       "          document.querySelector('#df-c956533c-2320-4a37-a658-d32cabd45cc6 button.colab-df-convert');\n",
       "        buttonEl.style.display =\n",
       "          google.colab.kernel.accessAllowed ? 'block' : 'none';\n",
       "\n",
       "        async function convertToInteractive(key) {\n",
       "          const element = document.querySelector('#df-c956533c-2320-4a37-a658-d32cabd45cc6');\n",
       "          const dataTable =\n",
       "            await google.colab.kernel.invokeFunction('convertToInteractive',\n",
       "                                                     [key], {});\n",
       "          if (!dataTable) return;\n",
       "\n",
       "          const docLinkHtml = 'Like what you see? Visit the ' +\n",
       "            '<a target=\"_blank\" href=https://colab.research.google.com/notebooks/data_table.ipynb>data table notebook</a>'\n",
       "            + ' to learn more about interactive tables.';\n",
       "          element.innerHTML = '';\n",
       "          dataTable['output_type'] = 'display_data';\n",
       "          await google.colab.output.renderOutput(dataTable, element);\n",
       "          const docLink = document.createElement('div');\n",
       "          docLink.innerHTML = docLinkHtml;\n",
       "          element.appendChild(docLink);\n",
       "        }\n",
       "      </script>\n",
       "    </div>\n",
       "  </div>\n",
       "  "
      ],
      "text/plain": [
       "     user_id  age churn_date         city first_name  last_name   reg_date  \\\n",
       "0       1000   52        NaT    Краснодар     Рафаил  Верещагин 2018-05-25   \n",
       "1       1001   41        NaT       Москва       Иван       Ежов 2018-11-01   \n",
       "2       1002   59        NaT  Стерлитамак    Евгений  Абрамович 2018-06-17   \n",
       "3       1003   23        NaT       Москва      Белла   Белякова 2018-08-17   \n",
       "4       1004   68        NaT  Новокузнецк    Татьяна   Авдеенко 2018-05-14   \n",
       "..       ...  ...        ...          ...        ...        ...        ...   \n",
       "495     1495   65        NaT      Иркутск  Авксентий      Фокин 2018-08-28   \n",
       "496     1496   36        NaT      Вологда     Трифон     Блохин 2018-01-27   \n",
       "497     1497   32        NaT    Челябинск   Каролина     Агеева 2018-10-09   \n",
       "498     1498   68 2018-10-25  Владикавказ   Всеволод    Акимчин 2018-07-19   \n",
       "499     1499   35        NaT        Пермь     Гектор   Корнилов 2018-09-27   \n",
       "\n",
       "    tariff  messages_included  mb_per_month_included  minutes_included  \\\n",
       "0    ultra               1000                  30720              3000   \n",
       "1    smart                 50                  15360               500   \n",
       "2    smart                 50                  15360               500   \n",
       "3    ultra               1000                  30720              3000   \n",
       "4    ultra               1000                  30720              3000   \n",
       "..     ...                ...                    ...               ...   \n",
       "495  ultra               1000                  30720              3000   \n",
       "496  smart                 50                  15360               500   \n",
       "497  smart                 50                  15360               500   \n",
       "498  smart                 50                  15360               500   \n",
       "499  smart                 50                  15360               500   \n",
       "\n",
       "     rub_monthly_fee  rub_per_gb  rub_per_message  rub_per_minute  \n",
       "0               1950         150                1               1  \n",
       "1                550         200                3               3  \n",
       "2                550         200                3               3  \n",
       "3               1950         150                1               1  \n",
       "4               1950         150                1               1  \n",
       "..               ...         ...              ...             ...  \n",
       "495             1950         150                1               1  \n",
       "496              550         200                3               3  \n",
       "497              550         200                3               3  \n",
       "498              550         200                3               3  \n",
       "499              550         200                3               3  \n",
       "\n",
       "[500 rows x 15 columns]"
      ]
     },
     "execution_count": 32,
     "metadata": {},
     "output_type": "execute_result"
    }
   ],
   "source": [
    "users = users.merge(tariffs, on=\"tariff\", how=\"left\")\n",
    "users"
   ]
  },
  {
   "cell_type": "markdown",
   "metadata": {
    "id": "Y4bnXGYJDW8h"
   },
   "source": [
    "Combining data into one dataframe."
   ]
  },
  {
   "cell_type": "code",
   "execution_count": 33,
   "metadata": {
    "colab": {
     "base_uri": "https://localhost:8080/",
     "height": 661
    },
    "id": "i_YWTg6LDW8h",
    "outputId": "b886666a-accd-4a55-cb77-b182f42c80f1"
   },
   "outputs": [
    {
     "data": {
      "text/html": [
       "\n",
       "  <div id=\"df-aaacf718-c23e-4494-a49f-b378fd9d9f7e\">\n",
       "    <div class=\"colab-df-container\">\n",
       "      <div>\n",
       "<style scoped>\n",
       "    .dataframe tbody tr th:only-of-type {\n",
       "        vertical-align: middle;\n",
       "    }\n",
       "\n",
       "    .dataframe tbody tr th {\n",
       "        vertical-align: top;\n",
       "    }\n",
       "\n",
       "    .dataframe thead th {\n",
       "        text-align: right;\n",
       "    }\n",
       "</style>\n",
       "<table border=\"1\" class=\"dataframe\">\n",
       "  <thead>\n",
       "    <tr style=\"text-align: right;\">\n",
       "      <th></th>\n",
       "      <th>user_id</th>\n",
       "      <th>month</th>\n",
       "      <th>mb_used</th>\n",
       "      <th>gb_used_rounded</th>\n",
       "      <th>messages_number</th>\n",
       "      <th>duration_sum</th>\n",
       "      <th>duration_count</th>\n",
       "      <th>age</th>\n",
       "      <th>churn_date</th>\n",
       "      <th>city</th>\n",
       "      <th>first_name</th>\n",
       "      <th>last_name</th>\n",
       "      <th>reg_date</th>\n",
       "      <th>tariff</th>\n",
       "      <th>messages_included</th>\n",
       "      <th>mb_per_month_included</th>\n",
       "      <th>minutes_included</th>\n",
       "      <th>rub_monthly_fee</th>\n",
       "      <th>rub_per_gb</th>\n",
       "      <th>rub_per_message</th>\n",
       "      <th>rub_per_minute</th>\n",
       "    </tr>\n",
       "  </thead>\n",
       "  <tbody>\n",
       "    <tr>\n",
       "      <th>0</th>\n",
       "      <td>1000</td>\n",
       "      <td>5.00</td>\n",
       "      <td>2253.49</td>\n",
       "      <td>3.00</td>\n",
       "      <td>22.00</td>\n",
       "      <td>159.00</td>\n",
       "      <td>22.00</td>\n",
       "      <td>52</td>\n",
       "      <td>NaT</td>\n",
       "      <td>Краснодар</td>\n",
       "      <td>Рафаил</td>\n",
       "      <td>Верещагин</td>\n",
       "      <td>2018-05-25</td>\n",
       "      <td>ultra</td>\n",
       "      <td>1000</td>\n",
       "      <td>30720</td>\n",
       "      <td>3000</td>\n",
       "      <td>1950</td>\n",
       "      <td>150</td>\n",
       "      <td>1</td>\n",
       "      <td>1</td>\n",
       "    </tr>\n",
       "    <tr>\n",
       "      <th>1</th>\n",
       "      <td>1000</td>\n",
       "      <td>6.00</td>\n",
       "      <td>23233.77</td>\n",
       "      <td>23.00</td>\n",
       "      <td>60.00</td>\n",
       "      <td>172.00</td>\n",
       "      <td>43.00</td>\n",
       "      <td>52</td>\n",
       "      <td>NaT</td>\n",
       "      <td>Краснодар</td>\n",
       "      <td>Рафаил</td>\n",
       "      <td>Верещагин</td>\n",
       "      <td>2018-05-25</td>\n",
       "      <td>ultra</td>\n",
       "      <td>1000</td>\n",
       "      <td>30720</td>\n",
       "      <td>3000</td>\n",
       "      <td>1950</td>\n",
       "      <td>150</td>\n",
       "      <td>1</td>\n",
       "      <td>1</td>\n",
       "    </tr>\n",
       "    <tr>\n",
       "      <th>2</th>\n",
       "      <td>1000</td>\n",
       "      <td>7.00</td>\n",
       "      <td>14003.64</td>\n",
       "      <td>14.00</td>\n",
       "      <td>75.00</td>\n",
       "      <td>340.00</td>\n",
       "      <td>47.00</td>\n",
       "      <td>52</td>\n",
       "      <td>NaT</td>\n",
       "      <td>Краснодар</td>\n",
       "      <td>Рафаил</td>\n",
       "      <td>Верещагин</td>\n",
       "      <td>2018-05-25</td>\n",
       "      <td>ultra</td>\n",
       "      <td>1000</td>\n",
       "      <td>30720</td>\n",
       "      <td>3000</td>\n",
       "      <td>1950</td>\n",
       "      <td>150</td>\n",
       "      <td>1</td>\n",
       "      <td>1</td>\n",
       "    </tr>\n",
       "    <tr>\n",
       "      <th>3</th>\n",
       "      <td>1000</td>\n",
       "      <td>8.00</td>\n",
       "      <td>14055.93</td>\n",
       "      <td>14.00</td>\n",
       "      <td>81.00</td>\n",
       "      <td>408.00</td>\n",
       "      <td>52.00</td>\n",
       "      <td>52</td>\n",
       "      <td>NaT</td>\n",
       "      <td>Краснодар</td>\n",
       "      <td>Рафаил</td>\n",
       "      <td>Верещагин</td>\n",
       "      <td>2018-05-25</td>\n",
       "      <td>ultra</td>\n",
       "      <td>1000</td>\n",
       "      <td>30720</td>\n",
       "      <td>3000</td>\n",
       "      <td>1950</td>\n",
       "      <td>150</td>\n",
       "      <td>1</td>\n",
       "      <td>1</td>\n",
       "    </tr>\n",
       "    <tr>\n",
       "      <th>4</th>\n",
       "      <td>1000</td>\n",
       "      <td>9.00</td>\n",
       "      <td>14568.91</td>\n",
       "      <td>15.00</td>\n",
       "      <td>57.00</td>\n",
       "      <td>466.00</td>\n",
       "      <td>58.00</td>\n",
       "      <td>52</td>\n",
       "      <td>NaT</td>\n",
       "      <td>Краснодар</td>\n",
       "      <td>Рафаил</td>\n",
       "      <td>Верещагин</td>\n",
       "      <td>2018-05-25</td>\n",
       "      <td>ultra</td>\n",
       "      <td>1000</td>\n",
       "      <td>30720</td>\n",
       "      <td>3000</td>\n",
       "      <td>1950</td>\n",
       "      <td>150</td>\n",
       "      <td>1</td>\n",
       "      <td>1</td>\n",
       "    </tr>\n",
       "    <tr>\n",
       "      <th>...</th>\n",
       "      <td>...</td>\n",
       "      <td>...</td>\n",
       "      <td>...</td>\n",
       "      <td>...</td>\n",
       "      <td>...</td>\n",
       "      <td>...</td>\n",
       "      <td>...</td>\n",
       "      <td>...</td>\n",
       "      <td>...</td>\n",
       "      <td>...</td>\n",
       "      <td>...</td>\n",
       "      <td>...</td>\n",
       "      <td>...</td>\n",
       "      <td>...</td>\n",
       "      <td>...</td>\n",
       "      <td>...</td>\n",
       "      <td>...</td>\n",
       "      <td>...</td>\n",
       "      <td>...</td>\n",
       "      <td>...</td>\n",
       "      <td>...</td>\n",
       "    </tr>\n",
       "    <tr>\n",
       "      <th>3211</th>\n",
       "      <td>1273</td>\n",
       "      <td>10.00</td>\n",
       "      <td>NaN</td>\n",
       "      <td>NaN</td>\n",
       "      <td>35.00</td>\n",
       "      <td>315.00</td>\n",
       "      <td>40.00</td>\n",
       "      <td>46</td>\n",
       "      <td>NaT</td>\n",
       "      <td>Курган</td>\n",
       "      <td>Рэм</td>\n",
       "      <td>Корнилов</td>\n",
       "      <td>2018-05-15</td>\n",
       "      <td>ultra</td>\n",
       "      <td>1000</td>\n",
       "      <td>30720</td>\n",
       "      <td>3000</td>\n",
       "      <td>1950</td>\n",
       "      <td>150</td>\n",
       "      <td>1</td>\n",
       "      <td>1</td>\n",
       "    </tr>\n",
       "    <tr>\n",
       "      <th>3212</th>\n",
       "      <td>1273</td>\n",
       "      <td>11.00</td>\n",
       "      <td>NaN</td>\n",
       "      <td>NaN</td>\n",
       "      <td>29.00</td>\n",
       "      <td>272.00</td>\n",
       "      <td>45.00</td>\n",
       "      <td>46</td>\n",
       "      <td>NaT</td>\n",
       "      <td>Курган</td>\n",
       "      <td>Рэм</td>\n",
       "      <td>Корнилов</td>\n",
       "      <td>2018-05-15</td>\n",
       "      <td>ultra</td>\n",
       "      <td>1000</td>\n",
       "      <td>30720</td>\n",
       "      <td>3000</td>\n",
       "      <td>1950</td>\n",
       "      <td>150</td>\n",
       "      <td>1</td>\n",
       "      <td>1</td>\n",
       "    </tr>\n",
       "    <tr>\n",
       "      <th>3213</th>\n",
       "      <td>1273</td>\n",
       "      <td>12.00</td>\n",
       "      <td>NaN</td>\n",
       "      <td>NaN</td>\n",
       "      <td>39.00</td>\n",
       "      <td>260.00</td>\n",
       "      <td>41.00</td>\n",
       "      <td>46</td>\n",
       "      <td>NaT</td>\n",
       "      <td>Курган</td>\n",
       "      <td>Рэм</td>\n",
       "      <td>Корнилов</td>\n",
       "      <td>2018-05-15</td>\n",
       "      <td>ultra</td>\n",
       "      <td>1000</td>\n",
       "      <td>30720</td>\n",
       "      <td>3000</td>\n",
       "      <td>1950</td>\n",
       "      <td>150</td>\n",
       "      <td>1</td>\n",
       "      <td>1</td>\n",
       "    </tr>\n",
       "    <tr>\n",
       "      <th>3214</th>\n",
       "      <td>1128</td>\n",
       "      <td>NaN</td>\n",
       "      <td>NaN</td>\n",
       "      <td>NaN</td>\n",
       "      <td>NaN</td>\n",
       "      <td>NaN</td>\n",
       "      <td>NaN</td>\n",
       "      <td>51</td>\n",
       "      <td>2018-12-23</td>\n",
       "      <td>Волжский</td>\n",
       "      <td>Ксения</td>\n",
       "      <td>Агаева</td>\n",
       "      <td>2018-12-15</td>\n",
       "      <td>ultra</td>\n",
       "      <td>1000</td>\n",
       "      <td>30720</td>\n",
       "      <td>3000</td>\n",
       "      <td>1950</td>\n",
       "      <td>150</td>\n",
       "      <td>1</td>\n",
       "      <td>1</td>\n",
       "    </tr>\n",
       "    <tr>\n",
       "      <th>3215</th>\n",
       "      <td>1371</td>\n",
       "      <td>NaN</td>\n",
       "      <td>NaN</td>\n",
       "      <td>NaN</td>\n",
       "      <td>NaN</td>\n",
       "      <td>NaN</td>\n",
       "      <td>NaN</td>\n",
       "      <td>50</td>\n",
       "      <td>2018-12-30</td>\n",
       "      <td>Омск</td>\n",
       "      <td>Ириней</td>\n",
       "      <td>Трофимов</td>\n",
       "      <td>2018-12-25</td>\n",
       "      <td>smart</td>\n",
       "      <td>50</td>\n",
       "      <td>15360</td>\n",
       "      <td>500</td>\n",
       "      <td>550</td>\n",
       "      <td>200</td>\n",
       "      <td>3</td>\n",
       "      <td>3</td>\n",
       "    </tr>\n",
       "  </tbody>\n",
       "</table>\n",
       "<p>3216 rows × 21 columns</p>\n",
       "</div>\n",
       "      <button class=\"colab-df-convert\" onclick=\"convertToInteractive('df-aaacf718-c23e-4494-a49f-b378fd9d9f7e')\"\n",
       "              title=\"Convert this dataframe to an interactive table.\"\n",
       "              style=\"display:none;\">\n",
       "        \n",
       "  <svg xmlns=\"http://www.w3.org/2000/svg\" height=\"24px\"viewBox=\"0 0 24 24\"\n",
       "       width=\"24px\">\n",
       "    <path d=\"M0 0h24v24H0V0z\" fill=\"none\"/>\n",
       "    <path d=\"M18.56 5.44l.94 2.06.94-2.06 2.06-.94-2.06-.94-.94-2.06-.94 2.06-2.06.94zm-11 1L8.5 8.5l.94-2.06 2.06-.94-2.06-.94L8.5 2.5l-.94 2.06-2.06.94zm10 10l.94 2.06.94-2.06 2.06-.94-2.06-.94-.94-2.06-.94 2.06-2.06.94z\"/><path d=\"M17.41 7.96l-1.37-1.37c-.4-.4-.92-.59-1.43-.59-.52 0-1.04.2-1.43.59L10.3 9.45l-7.72 7.72c-.78.78-.78 2.05 0 2.83L4 21.41c.39.39.9.59 1.41.59.51 0 1.02-.2 1.41-.59l7.78-7.78 2.81-2.81c.8-.78.8-2.07 0-2.86zM5.41 20L4 18.59l7.72-7.72 1.47 1.35L5.41 20z\"/>\n",
       "  </svg>\n",
       "      </button>\n",
       "      \n",
       "  <style>\n",
       "    .colab-df-container {\n",
       "      display:flex;\n",
       "      flex-wrap:wrap;\n",
       "      gap: 12px;\n",
       "    }\n",
       "\n",
       "    .colab-df-convert {\n",
       "      background-color: #E8F0FE;\n",
       "      border: none;\n",
       "      border-radius: 50%;\n",
       "      cursor: pointer;\n",
       "      display: none;\n",
       "      fill: #1967D2;\n",
       "      height: 32px;\n",
       "      padding: 0 0 0 0;\n",
       "      width: 32px;\n",
       "    }\n",
       "\n",
       "    .colab-df-convert:hover {\n",
       "      background-color: #E2EBFA;\n",
       "      box-shadow: 0px 1px 2px rgba(60, 64, 67, 0.3), 0px 1px 3px 1px rgba(60, 64, 67, 0.15);\n",
       "      fill: #174EA6;\n",
       "    }\n",
       "\n",
       "    [theme=dark] .colab-df-convert {\n",
       "      background-color: #3B4455;\n",
       "      fill: #D2E3FC;\n",
       "    }\n",
       "\n",
       "    [theme=dark] .colab-df-convert:hover {\n",
       "      background-color: #434B5C;\n",
       "      box-shadow: 0px 1px 3px 1px rgba(0, 0, 0, 0.15);\n",
       "      filter: drop-shadow(0px 1px 2px rgba(0, 0, 0, 0.3));\n",
       "      fill: #FFFFFF;\n",
       "    }\n",
       "  </style>\n",
       "\n",
       "      <script>\n",
       "        const buttonEl =\n",
       "          document.querySelector('#df-aaacf718-c23e-4494-a49f-b378fd9d9f7e button.colab-df-convert');\n",
       "        buttonEl.style.display =\n",
       "          google.colab.kernel.accessAllowed ? 'block' : 'none';\n",
       "\n",
       "        async function convertToInteractive(key) {\n",
       "          const element = document.querySelector('#df-aaacf718-c23e-4494-a49f-b378fd9d9f7e');\n",
       "          const dataTable =\n",
       "            await google.colab.kernel.invokeFunction('convertToInteractive',\n",
       "                                                     [key], {});\n",
       "          if (!dataTable) return;\n",
       "\n",
       "          const docLinkHtml = 'Like what you see? Visit the ' +\n",
       "            '<a target=\"_blank\" href=https://colab.research.google.com/notebooks/data_table.ipynb>data table notebook</a>'\n",
       "            + ' to learn more about interactive tables.';\n",
       "          element.innerHTML = '';\n",
       "          dataTable['output_type'] = 'display_data';\n",
       "          await google.colab.output.renderOutput(dataTable, element);\n",
       "          const docLink = document.createElement('div');\n",
       "          docLink.innerHTML = docLinkHtml;\n",
       "          element.appendChild(docLink);\n",
       "        }\n",
       "      </script>\n",
       "    </div>\n",
       "  </div>\n",
       "  "
      ],
      "text/plain": [
       "      user_id  month  mb_used  gb_used_rounded  messages_number  duration_sum  \\\n",
       "0        1000   5.00  2253.49             3.00            22.00        159.00   \n",
       "1        1000   6.00 23233.77            23.00            60.00        172.00   \n",
       "2        1000   7.00 14003.64            14.00            75.00        340.00   \n",
       "3        1000   8.00 14055.93            14.00            81.00        408.00   \n",
       "4        1000   9.00 14568.91            15.00            57.00        466.00   \n",
       "...       ...    ...      ...              ...              ...           ...   \n",
       "3211     1273  10.00      NaN              NaN            35.00        315.00   \n",
       "3212     1273  11.00      NaN              NaN            29.00        272.00   \n",
       "3213     1273  12.00      NaN              NaN            39.00        260.00   \n",
       "3214     1128    NaN      NaN              NaN              NaN           NaN   \n",
       "3215     1371    NaN      NaN              NaN              NaN           NaN   \n",
       "\n",
       "      duration_count  age churn_date       city first_name  last_name  \\\n",
       "0              22.00   52        NaT  Краснодар     Рафаил  Верещагин   \n",
       "1              43.00   52        NaT  Краснодар     Рафаил  Верещагин   \n",
       "2              47.00   52        NaT  Краснодар     Рафаил  Верещагин   \n",
       "3              52.00   52        NaT  Краснодар     Рафаил  Верещагин   \n",
       "4              58.00   52        NaT  Краснодар     Рафаил  Верещагин   \n",
       "...              ...  ...        ...        ...        ...        ...   \n",
       "3211           40.00   46        NaT     Курган        Рэм   Корнилов   \n",
       "3212           45.00   46        NaT     Курган        Рэм   Корнилов   \n",
       "3213           41.00   46        NaT     Курган        Рэм   Корнилов   \n",
       "3214             NaN   51 2018-12-23   Волжский     Ксения     Агаева   \n",
       "3215             NaN   50 2018-12-30       Омск     Ириней   Трофимов   \n",
       "\n",
       "       reg_date tariff  messages_included  mb_per_month_included  \\\n",
       "0    2018-05-25  ultra               1000                  30720   \n",
       "1    2018-05-25  ultra               1000                  30720   \n",
       "2    2018-05-25  ultra               1000                  30720   \n",
       "3    2018-05-25  ultra               1000                  30720   \n",
       "4    2018-05-25  ultra               1000                  30720   \n",
       "...         ...    ...                ...                    ...   \n",
       "3211 2018-05-15  ultra               1000                  30720   \n",
       "3212 2018-05-15  ultra               1000                  30720   \n",
       "3213 2018-05-15  ultra               1000                  30720   \n",
       "3214 2018-12-15  ultra               1000                  30720   \n",
       "3215 2018-12-25  smart                 50                  15360   \n",
       "\n",
       "      minutes_included  rub_monthly_fee  rub_per_gb  rub_per_message  \\\n",
       "0                 3000             1950         150                1   \n",
       "1                 3000             1950         150                1   \n",
       "2                 3000             1950         150                1   \n",
       "3                 3000             1950         150                1   \n",
       "4                 3000             1950         150                1   \n",
       "...                ...              ...         ...              ...   \n",
       "3211              3000             1950         150                1   \n",
       "3212              3000             1950         150                1   \n",
       "3213              3000             1950         150                1   \n",
       "3214              3000             1950         150                1   \n",
       "3215               500              550         200                3   \n",
       "\n",
       "      rub_per_minute  \n",
       "0                  1  \n",
       "1                  1  \n",
       "2                  1  \n",
       "3                  1  \n",
       "4                  1  \n",
       "...              ...  \n",
       "3211               1  \n",
       "3212               1  \n",
       "3213               1  \n",
       "3214               1  \n",
       "3215               3  \n",
       "\n",
       "[3216 rows x 21 columns]"
      ]
     },
     "execution_count": 33,
     "metadata": {},
     "output_type": "execute_result"
    }
   ],
   "source": [
    "df = internet_grouped.merge(\n",
    "    messages_grouped, on=[\"user_id\", \"month\"], how=\"outer\"\n",
    ")\n",
    "df = df.merge(\n",
    "    calls_grouped, on=[\"user_id\", \"month\"], how=\"outer\"\n",
    ")\n",
    "df = df.merge(\n",
    "    users, on=\"user_id\", how=\"outer\"\n",
    ")\n",
    "len(df)\n",
    "df"
   ]
  },
  {
   "cell_type": "markdown",
   "metadata": {
    "id": "xR64dxlUjjut"
   },
   "source": [
    "Adding a column for excess gigabytes."
   ]
  },
  {
   "cell_type": "code",
   "execution_count": 34,
   "metadata": {
    "id": "hD_6w4SrDW8h"
   },
   "outputs": [],
   "source": [
    "df[\"gb_overrun\"] = (df[\"mb_used\"] - df[\"mb_per_month_included\"]) / 1024\n",
    "df[\"gb_overrun\"] = np.ceil(df[\"gb_overrun\"]).apply(lambda x: 0 if x < 0 else x)"
   ]
  },
  {
   "cell_type": "markdown",
   "metadata": {
    "id": "SuGVgrIVDW8h"
   },
   "source": [
    "It is necessary to put the data and appearance in order."
   ]
  },
  {
   "cell_type": "code",
   "execution_count": 35,
   "metadata": {
    "colab": {
     "base_uri": "https://localhost:8080/"
    },
    "id": "GO0FEBk0DW8h",
    "outputId": "aa6905f6-465e-41cd-f737-ca3c37a80d0c",
    "scrolled": false
   },
   "outputs": [
    {
     "data": {
      "text/plain": [
       "3216"
      ]
     },
     "execution_count": 35,
     "metadata": {},
     "output_type": "execute_result"
    }
   ],
   "source": [
    "# Fill NaN values with 0\n",
    "df = df.fillna(0)\n",
    "\n",
    "# Convert columns to integer type\n",
    "cols_to_int = [\n",
    "    \"month\", \"mb_used\", \"gb_used_rounded\", \"gb_overrun\",\n",
    "    \"messages_number\", \"duration_sum\", \"duration_count\"]\n",
    "df[cols_to_int] = df[cols_to_int].astype(int)\n",
    "\n",
    "# Reorder columns\n",
    "cols_order = [\n",
    "    \"user_id\", \"city\", \"first_name\", \"last_name\", \"age\", \"reg_date\",\n",
    "    \"churn_date\", \"month\", \"tariff\", \"minutes_included\", \"messages_included\",\n",
    "    \"mb_per_month_included\", \"duration_sum\", \"duration_count\",\n",
    "    \"messages_number\", \"mb_used\", \"gb_used_rounded\", \"gb_overrun\",\n",
    "    \"rub_per_minute\", \"rub_per_message\", \"rub_per_gb\", \"rub_monthly_fee\"]\n",
    "df = df[cols_order]\n",
    "\n",
    "len(df)"
   ]
  },
  {
   "cell_type": "code",
   "execution_count": 36,
   "metadata": {
    "colab": {
     "base_uri": "https://localhost:8080/",
     "height": 210
    },
    "id": "D7v4u5mXDW8i",
    "outputId": "07746fa2-cd51-48cf-ce4e-7d2a5f457686"
   },
   "outputs": [
    {
     "data": {
      "text/html": [
       "\n",
       "  <div id=\"df-42c98893-c642-4a45-bd76-d7f53296b53f\">\n",
       "    <div class=\"colab-df-container\">\n",
       "      <div>\n",
       "<style scoped>\n",
       "    .dataframe tbody tr th:only-of-type {\n",
       "        vertical-align: middle;\n",
       "    }\n",
       "\n",
       "    .dataframe tbody tr th {\n",
       "        vertical-align: top;\n",
       "    }\n",
       "\n",
       "    .dataframe thead th {\n",
       "        text-align: right;\n",
       "    }\n",
       "</style>\n",
       "<table border=\"1\" class=\"dataframe\">\n",
       "  <thead>\n",
       "    <tr style=\"text-align: right;\">\n",
       "      <th></th>\n",
       "      <th>user_id</th>\n",
       "      <th>city</th>\n",
       "      <th>first_name</th>\n",
       "      <th>last_name</th>\n",
       "      <th>age</th>\n",
       "      <th>reg_date</th>\n",
       "      <th>churn_date</th>\n",
       "      <th>month</th>\n",
       "      <th>tariff</th>\n",
       "      <th>minutes_included</th>\n",
       "      <th>messages_included</th>\n",
       "      <th>mb_per_month_included</th>\n",
       "      <th>duration_sum</th>\n",
       "      <th>duration_count</th>\n",
       "      <th>messages_number</th>\n",
       "      <th>mb_used</th>\n",
       "      <th>gb_used_rounded</th>\n",
       "      <th>gb_overrun</th>\n",
       "      <th>rub_per_minute</th>\n",
       "      <th>rub_per_message</th>\n",
       "      <th>rub_per_gb</th>\n",
       "      <th>rub_monthly_fee</th>\n",
       "    </tr>\n",
       "  </thead>\n",
       "  <tbody>\n",
       "    <tr>\n",
       "      <th>3214</th>\n",
       "      <td>1128</td>\n",
       "      <td>Волжский</td>\n",
       "      <td>Ксения</td>\n",
       "      <td>Агаева</td>\n",
       "      <td>51</td>\n",
       "      <td>2018-12-15</td>\n",
       "      <td>2018-12-23 00:00:00</td>\n",
       "      <td>0</td>\n",
       "      <td>ultra</td>\n",
       "      <td>3000</td>\n",
       "      <td>1000</td>\n",
       "      <td>30720</td>\n",
       "      <td>0</td>\n",
       "      <td>0</td>\n",
       "      <td>0</td>\n",
       "      <td>0</td>\n",
       "      <td>0</td>\n",
       "      <td>0</td>\n",
       "      <td>1</td>\n",
       "      <td>1</td>\n",
       "      <td>150</td>\n",
       "      <td>1950</td>\n",
       "    </tr>\n",
       "    <tr>\n",
       "      <th>3215</th>\n",
       "      <td>1371</td>\n",
       "      <td>Омск</td>\n",
       "      <td>Ириней</td>\n",
       "      <td>Трофимов</td>\n",
       "      <td>50</td>\n",
       "      <td>2018-12-25</td>\n",
       "      <td>2018-12-30 00:00:00</td>\n",
       "      <td>0</td>\n",
       "      <td>smart</td>\n",
       "      <td>500</td>\n",
       "      <td>50</td>\n",
       "      <td>15360</td>\n",
       "      <td>0</td>\n",
       "      <td>0</td>\n",
       "      <td>0</td>\n",
       "      <td>0</td>\n",
       "      <td>0</td>\n",
       "      <td>0</td>\n",
       "      <td>3</td>\n",
       "      <td>3</td>\n",
       "      <td>200</td>\n",
       "      <td>550</td>\n",
       "    </tr>\n",
       "  </tbody>\n",
       "</table>\n",
       "</div>\n",
       "      <button class=\"colab-df-convert\" onclick=\"convertToInteractive('df-42c98893-c642-4a45-bd76-d7f53296b53f')\"\n",
       "              title=\"Convert this dataframe to an interactive table.\"\n",
       "              style=\"display:none;\">\n",
       "        \n",
       "  <svg xmlns=\"http://www.w3.org/2000/svg\" height=\"24px\"viewBox=\"0 0 24 24\"\n",
       "       width=\"24px\">\n",
       "    <path d=\"M0 0h24v24H0V0z\" fill=\"none\"/>\n",
       "    <path d=\"M18.56 5.44l.94 2.06.94-2.06 2.06-.94-2.06-.94-.94-2.06-.94 2.06-2.06.94zm-11 1L8.5 8.5l.94-2.06 2.06-.94-2.06-.94L8.5 2.5l-.94 2.06-2.06.94zm10 10l.94 2.06.94-2.06 2.06-.94-2.06-.94-.94-2.06-.94 2.06-2.06.94z\"/><path d=\"M17.41 7.96l-1.37-1.37c-.4-.4-.92-.59-1.43-.59-.52 0-1.04.2-1.43.59L10.3 9.45l-7.72 7.72c-.78.78-.78 2.05 0 2.83L4 21.41c.39.39.9.59 1.41.59.51 0 1.02-.2 1.41-.59l7.78-7.78 2.81-2.81c.8-.78.8-2.07 0-2.86zM5.41 20L4 18.59l7.72-7.72 1.47 1.35L5.41 20z\"/>\n",
       "  </svg>\n",
       "      </button>\n",
       "      \n",
       "  <style>\n",
       "    .colab-df-container {\n",
       "      display:flex;\n",
       "      flex-wrap:wrap;\n",
       "      gap: 12px;\n",
       "    }\n",
       "\n",
       "    .colab-df-convert {\n",
       "      background-color: #E8F0FE;\n",
       "      border: none;\n",
       "      border-radius: 50%;\n",
       "      cursor: pointer;\n",
       "      display: none;\n",
       "      fill: #1967D2;\n",
       "      height: 32px;\n",
       "      padding: 0 0 0 0;\n",
       "      width: 32px;\n",
       "    }\n",
       "\n",
       "    .colab-df-convert:hover {\n",
       "      background-color: #E2EBFA;\n",
       "      box-shadow: 0px 1px 2px rgba(60, 64, 67, 0.3), 0px 1px 3px 1px rgba(60, 64, 67, 0.15);\n",
       "      fill: #174EA6;\n",
       "    }\n",
       "\n",
       "    [theme=dark] .colab-df-convert {\n",
       "      background-color: #3B4455;\n",
       "      fill: #D2E3FC;\n",
       "    }\n",
       "\n",
       "    [theme=dark] .colab-df-convert:hover {\n",
       "      background-color: #434B5C;\n",
       "      box-shadow: 0px 1px 3px 1px rgba(0, 0, 0, 0.15);\n",
       "      filter: drop-shadow(0px 1px 2px rgba(0, 0, 0, 0.3));\n",
       "      fill: #FFFFFF;\n",
       "    }\n",
       "  </style>\n",
       "\n",
       "      <script>\n",
       "        const buttonEl =\n",
       "          document.querySelector('#df-42c98893-c642-4a45-bd76-d7f53296b53f button.colab-df-convert');\n",
       "        buttonEl.style.display =\n",
       "          google.colab.kernel.accessAllowed ? 'block' : 'none';\n",
       "\n",
       "        async function convertToInteractive(key) {\n",
       "          const element = document.querySelector('#df-42c98893-c642-4a45-bd76-d7f53296b53f');\n",
       "          const dataTable =\n",
       "            await google.colab.kernel.invokeFunction('convertToInteractive',\n",
       "                                                     [key], {});\n",
       "          if (!dataTable) return;\n",
       "\n",
       "          const docLinkHtml = 'Like what you see? Visit the ' +\n",
       "            '<a target=\"_blank\" href=https://colab.research.google.com/notebooks/data_table.ipynb>data table notebook</a>'\n",
       "            + ' to learn more about interactive tables.';\n",
       "          element.innerHTML = '';\n",
       "          dataTable['output_type'] = 'display_data';\n",
       "          await google.colab.output.renderOutput(dataTable, element);\n",
       "          const docLink = document.createElement('div');\n",
       "          docLink.innerHTML = docLinkHtml;\n",
       "          element.appendChild(docLink);\n",
       "        }\n",
       "      </script>\n",
       "    </div>\n",
       "  </div>\n",
       "  "
      ],
      "text/plain": [
       "      user_id      city first_name last_name  age   reg_date  \\\n",
       "3214     1128  Волжский     Ксения    Агаева   51 2018-12-15   \n",
       "3215     1371      Омск     Ириней  Трофимов   50 2018-12-25   \n",
       "\n",
       "               churn_date  month tariff  minutes_included  messages_included  \\\n",
       "3214  2018-12-23 00:00:00      0  ultra              3000               1000   \n",
       "3215  2018-12-30 00:00:00      0  smart               500                 50   \n",
       "\n",
       "      mb_per_month_included  duration_sum  duration_count  messages_number  \\\n",
       "3214                  30720             0               0                0   \n",
       "3215                  15360             0               0                0   \n",
       "\n",
       "      mb_used  gb_used_rounded  gb_overrun  rub_per_minute  rub_per_message  \\\n",
       "3214        0                0           0               1                1   \n",
       "3215        0                0           0               3                3   \n",
       "\n",
       "      rub_per_gb  rub_monthly_fee  \n",
       "3214         150             1950  \n",
       "3215         200              550  "
      ]
     },
     "execution_count": 36,
     "metadata": {},
     "output_type": "execute_result"
    }
   ],
   "source": [
    "df[df[\"month\"] == 0]"
   ]
  },
  {
   "cell_type": "markdown",
   "metadata": {
    "id": "8xjaXwytDW8i"
   },
   "source": [
    "There are two users with zero value in the month column. The usage period for the tariff is 8 and 5 days. It is unclear what to do with them at this stage.\n",
    "\n",
    "**Monthly revenue**\n",
    "\n",
    "Adding columns for revenue from calls, messages, and traffic. Removing negative values with a lambda function."
   ]
  },
  {
   "cell_type": "code",
   "execution_count": 37,
   "metadata": {
    "colab": {
     "base_uri": "https://localhost:8080/"
    },
    "id": "_tcg8HbMDW8i",
    "outputId": "6db72fea-9bbb-4020-9537-5c3fd0c57fee",
    "scrolled": true
   },
   "outputs": [
    {
     "data": {
      "text/plain": [
       "3216"
      ]
     },
     "execution_count": 37,
     "metadata": {},
     "output_type": "execute_result"
    }
   ],
   "source": [
    "# Column for revenue from calls:\n",
    "df[\"calls_prof\"] = (\n",
    "    df[\"duration_sum\"] - df[\"minutes_included\"]\n",
    ") * df[\"rub_per_minute\"]\n",
    "df[\"calls_prof\"] = df[\"calls_prof\"].apply(lambda x: 0 if x < 0 else x)\n",
    "\n",
    "# Column for revenue from messages:\n",
    "df[\"messages_prof\"] = (\n",
    "    df[\"messages_number\"] - df[\"messages_included\"]\n",
    ") * df[\"rub_per_message\"]\n",
    "df[\"messages_prof\"] = df[\"messages_prof\"].apply(lambda x: 0 if x < 0 else x)\n",
    "\n",
    "# Column for revenue from traffic:\n",
    "df[\"internet_prof\"] = df[\"gb_overrun\"] * df[\"rub_per_gb\"]\n",
    "df[\"internet_prof\"] = df[\"internet_prof\"].apply(lambda x: 0 if x < 0 else x)\n",
    "\n",
    "# Total revenue:\n",
    "df[\"month_prof\"] = (\n",
    "    df[\"calls_prof\"] + df[\"messages_prof\"] +\n",
    "    df[\"internet_prof\"] + df[\"rub_monthly_fee\"]\n",
    ")\n",
    "len(df)"
   ]
  },
  {
   "cell_type": "code",
   "execution_count": 38,
   "metadata": {
    "colab": {
     "base_uri": "https://localhost:8080/",
     "height": 143
    },
    "id": "AyeMgVa1DW8k",
    "outputId": "62542ffb-dbae-492b-92db-5dcd6c8327a8"
   },
   "outputs": [
    {
     "data": {
      "text/html": [
       "\n",
       "  <div id=\"df-aac804c4-0c81-4543-84a8-6c9671b2943b\">\n",
       "    <div class=\"colab-df-container\">\n",
       "      <div>\n",
       "<style scoped>\n",
       "    .dataframe tbody tr th:only-of-type {\n",
       "        vertical-align: middle;\n",
       "    }\n",
       "\n",
       "    .dataframe tbody tr th {\n",
       "        vertical-align: top;\n",
       "    }\n",
       "\n",
       "    .dataframe thead th {\n",
       "        text-align: right;\n",
       "    }\n",
       "</style>\n",
       "<table border=\"1\" class=\"dataframe\">\n",
       "  <thead>\n",
       "    <tr style=\"text-align: right;\">\n",
       "      <th></th>\n",
       "      <th>user_id</th>\n",
       "      <th>month</th>\n",
       "      <th>mb_used</th>\n",
       "      <th>gb_used</th>\n",
       "    </tr>\n",
       "  </thead>\n",
       "  <tbody>\n",
       "    <tr>\n",
       "      <th>0</th>\n",
       "      <td>1000</td>\n",
       "      <td>5</td>\n",
       "      <td>2253.49</td>\n",
       "      <td>3.00</td>\n",
       "    </tr>\n",
       "    <tr>\n",
       "      <th>1</th>\n",
       "      <td>1000</td>\n",
       "      <td>6</td>\n",
       "      <td>23233.77</td>\n",
       "      <td>23.00</td>\n",
       "    </tr>\n",
       "    <tr>\n",
       "      <th>2</th>\n",
       "      <td>1000</td>\n",
       "      <td>7</td>\n",
       "      <td>14003.64</td>\n",
       "      <td>14.00</td>\n",
       "    </tr>\n",
       "  </tbody>\n",
       "</table>\n",
       "</div>\n",
       "      <button class=\"colab-df-convert\" onclick=\"convertToInteractive('df-aac804c4-0c81-4543-84a8-6c9671b2943b')\"\n",
       "              title=\"Convert this dataframe to an interactive table.\"\n",
       "              style=\"display:none;\">\n",
       "        \n",
       "  <svg xmlns=\"http://www.w3.org/2000/svg\" height=\"24px\"viewBox=\"0 0 24 24\"\n",
       "       width=\"24px\">\n",
       "    <path d=\"M0 0h24v24H0V0z\" fill=\"none\"/>\n",
       "    <path d=\"M18.56 5.44l.94 2.06.94-2.06 2.06-.94-2.06-.94-.94-2.06-.94 2.06-2.06.94zm-11 1L8.5 8.5l.94-2.06 2.06-.94-2.06-.94L8.5 2.5l-.94 2.06-2.06.94zm10 10l.94 2.06.94-2.06 2.06-.94-2.06-.94-.94-2.06-.94 2.06-2.06.94z\"/><path d=\"M17.41 7.96l-1.37-1.37c-.4-.4-.92-.59-1.43-.59-.52 0-1.04.2-1.43.59L10.3 9.45l-7.72 7.72c-.78.78-.78 2.05 0 2.83L4 21.41c.39.39.9.59 1.41.59.51 0 1.02-.2 1.41-.59l7.78-7.78 2.81-2.81c.8-.78.8-2.07 0-2.86zM5.41 20L4 18.59l7.72-7.72 1.47 1.35L5.41 20z\"/>\n",
       "  </svg>\n",
       "      </button>\n",
       "      \n",
       "  <style>\n",
       "    .colab-df-container {\n",
       "      display:flex;\n",
       "      flex-wrap:wrap;\n",
       "      gap: 12px;\n",
       "    }\n",
       "\n",
       "    .colab-df-convert {\n",
       "      background-color: #E8F0FE;\n",
       "      border: none;\n",
       "      border-radius: 50%;\n",
       "      cursor: pointer;\n",
       "      display: none;\n",
       "      fill: #1967D2;\n",
       "      height: 32px;\n",
       "      padding: 0 0 0 0;\n",
       "      width: 32px;\n",
       "    }\n",
       "\n",
       "    .colab-df-convert:hover {\n",
       "      background-color: #E2EBFA;\n",
       "      box-shadow: 0px 1px 2px rgba(60, 64, 67, 0.3), 0px 1px 3px 1px rgba(60, 64, 67, 0.15);\n",
       "      fill: #174EA6;\n",
       "    }\n",
       "\n",
       "    [theme=dark] .colab-df-convert {\n",
       "      background-color: #3B4455;\n",
       "      fill: #D2E3FC;\n",
       "    }\n",
       "\n",
       "    [theme=dark] .colab-df-convert:hover {\n",
       "      background-color: #434B5C;\n",
       "      box-shadow: 0px 1px 3px 1px rgba(0, 0, 0, 0.15);\n",
       "      filter: drop-shadow(0px 1px 2px rgba(0, 0, 0, 0.3));\n",
       "      fill: #FFFFFF;\n",
       "    }\n",
       "  </style>\n",
       "\n",
       "      <script>\n",
       "        const buttonEl =\n",
       "          document.querySelector('#df-aac804c4-0c81-4543-84a8-6c9671b2943b button.colab-df-convert');\n",
       "        buttonEl.style.display =\n",
       "          google.colab.kernel.accessAllowed ? 'block' : 'none';\n",
       "\n",
       "        async function convertToInteractive(key) {\n",
       "          const element = document.querySelector('#df-aac804c4-0c81-4543-84a8-6c9671b2943b');\n",
       "          const dataTable =\n",
       "            await google.colab.kernel.invokeFunction('convertToInteractive',\n",
       "                                                     [key], {});\n",
       "          if (!dataTable) return;\n",
       "\n",
       "          const docLinkHtml = 'Like what you see? Visit the ' +\n",
       "            '<a target=\"_blank\" href=https://colab.research.google.com/notebooks/data_table.ipynb>data table notebook</a>'\n",
       "            + ' to learn more about interactive tables.';\n",
       "          element.innerHTML = '';\n",
       "          dataTable['output_type'] = 'display_data';\n",
       "          await google.colab.output.renderOutput(dataTable, element);\n",
       "          const docLink = document.createElement('div');\n",
       "          docLink.innerHTML = docLinkHtml;\n",
       "          element.appendChild(docLink);\n",
       "        }\n",
       "      </script>\n",
       "    </div>\n",
       "  </div>\n",
       "  "
      ],
      "text/plain": [
       "   user_id  month  mb_used  gb_used\n",
       "0     1000      5  2253.49     3.00\n",
       "1     1000      6 23233.77    23.00\n",
       "2     1000      7 14003.64    14.00"
      ]
     },
     "execution_count": 38,
     "metadata": {},
     "output_type": "execute_result"
    }
   ],
   "source": [
    "# Aggregation of internet sessions:\n",
    "internet_grouped = internet.groupby(\n",
    "    [\"user_id\", \"month\"]\n",
    ")[\"mb_used\"].sum().reset_index()\n",
    "\n",
    "# A column with rounded GB\n",
    "internet_grouped[\"gb_used\"] = np.ceil(internet_grouped[\"mb_used\"] / 1024)\n",
    "internet_grouped.head(3)"
   ]
  },
  {
   "cell_type": "markdown",
   "metadata": {
    "id": "OFBiJKtEDW8k"
   },
   "source": [
    "### Conclusion <a class=\"anchor\" id=\"preparation-conclusion\"></a>\n",
    "\n",
    "During the data preparation, the following steps were taken:\n",
    "\n",
    "- The format in all date columns was converted to the standard datetime format.\n",
    "- Numeric values were converted to integers where necessary.\n",
    "- Missing values were removed and replaced.\n",
    "- A final table was assembled that shows the revenue:\n",
    "    1. From calls;\n",
    "    2. From messages;\n",
    "    3. From internet traffic;\n",
    "    4. Total revenue, which sums up all three revenues and the subscription fee."
   ]
  },
  {
   "cell_type": "markdown",
   "metadata": {
    "id": "b9SRD3xPDW8l"
   },
   "source": [
    "## Data analysis <a class=\"anchor\" id=\"data-analysis\"></a>\n",
    "\n",
    "**Minutes, megabytes, and messages per month**\n",
    "\n",
    "Pivot table by month with average values for:\n",
    "- Minutes of calls\n",
    "- Megabytes of mobile data usage\n",
    "- Number of sent messages"
   ]
  },
  {
   "cell_type": "code",
   "execution_count": 39,
   "metadata": {
    "colab": {
     "base_uri": "https://localhost:8080/",
     "height": 519
    },
    "id": "948gKFY5DW8l",
    "outputId": "588dc2a4-0a93-43b8-c51c-3195d98545fd",
    "scrolled": false
   },
   "outputs": [
    {
     "data": {
      "text/html": [
       "\n",
       "  <div id=\"df-ec4946b3-07ce-4260-8ed1-6deca357c655\">\n",
       "    <div class=\"colab-df-container\">\n",
       "      <div>\n",
       "<style scoped>\n",
       "    .dataframe tbody tr th:only-of-type {\n",
       "        vertical-align: middle;\n",
       "    }\n",
       "\n",
       "    .dataframe tbody tr th {\n",
       "        vertical-align: top;\n",
       "    }\n",
       "\n",
       "    .dataframe thead tr th {\n",
       "        text-align: left;\n",
       "    }\n",
       "\n",
       "    .dataframe thead tr:last-of-type th {\n",
       "        text-align: right;\n",
       "    }\n",
       "</style>\n",
       "<table border=\"1\" class=\"dataframe\">\n",
       "  <thead>\n",
       "    <tr>\n",
       "      <th></th>\n",
       "      <th colspan=\"2\" halign=\"left\">duration_sum</th>\n",
       "      <th colspan=\"2\" halign=\"left\">gb_used_rounded</th>\n",
       "      <th colspan=\"2\" halign=\"left\">messages_number</th>\n",
       "      <th colspan=\"2\" halign=\"left\">month_prof</th>\n",
       "    </tr>\n",
       "    <tr>\n",
       "      <th>tariff</th>\n",
       "      <th>smart</th>\n",
       "      <th>ultra</th>\n",
       "      <th>smart</th>\n",
       "      <th>ultra</th>\n",
       "      <th>smart</th>\n",
       "      <th>ultra</th>\n",
       "      <th>smart</th>\n",
       "      <th>ultra</th>\n",
       "    </tr>\n",
       "    <tr>\n",
       "      <th>month</th>\n",
       "      <th></th>\n",
       "      <th></th>\n",
       "      <th></th>\n",
       "      <th></th>\n",
       "      <th></th>\n",
       "      <th></th>\n",
       "      <th></th>\n",
       "      <th></th>\n",
       "    </tr>\n",
       "  </thead>\n",
       "  <tbody>\n",
       "    <tr>\n",
       "      <th>0</th>\n",
       "      <td>0.00</td>\n",
       "      <td>0.00</td>\n",
       "      <td>0.00</td>\n",
       "      <td>0.00</td>\n",
       "      <td>0.00</td>\n",
       "      <td>0.00</td>\n",
       "      <td>550.00</td>\n",
       "      <td>1950.00</td>\n",
       "    </tr>\n",
       "    <tr>\n",
       "      <th>1</th>\n",
       "      <td>203.85</td>\n",
       "      <td>428.11</td>\n",
       "      <td>8.74</td>\n",
       "      <td>13.22</td>\n",
       "      <td>18.24</td>\n",
       "      <td>33.78</td>\n",
       "      <td>721.32</td>\n",
       "      <td>1950.00</td>\n",
       "    </tr>\n",
       "    <tr>\n",
       "      <th>2</th>\n",
       "      <td>298.69</td>\n",
       "      <td>297.12</td>\n",
       "      <td>11.84</td>\n",
       "      <td>12.00</td>\n",
       "      <td>24.09</td>\n",
       "      <td>21.96</td>\n",
       "      <td>827.60</td>\n",
       "      <td>1975.00</td>\n",
       "    </tr>\n",
       "    <tr>\n",
       "      <th>3</th>\n",
       "      <td>390.05</td>\n",
       "      <td>489.65</td>\n",
       "      <td>15.23</td>\n",
       "      <td>17.65</td>\n",
       "      <td>31.86</td>\n",
       "      <td>32.30</td>\n",
       "      <td>1164.62</td>\n",
       "      <td>2014.86</td>\n",
       "    </tr>\n",
       "    <tr>\n",
       "      <th>4</th>\n",
       "      <td>367.13</td>\n",
       "      <td>458.02</td>\n",
       "      <td>13.62</td>\n",
       "      <td>16.96</td>\n",
       "      <td>30.74</td>\n",
       "      <td>31.56</td>\n",
       "      <td>963.09</td>\n",
       "      <td>2001.82</td>\n",
       "    </tr>\n",
       "    <tr>\n",
       "      <th>5</th>\n",
       "      <td>387.36</td>\n",
       "      <td>510.33</td>\n",
       "      <td>15.91</td>\n",
       "      <td>19.37</td>\n",
       "      <td>33.77</td>\n",
       "      <td>37.85</td>\n",
       "      <td>1197.51</td>\n",
       "      <td>2059.70</td>\n",
       "    </tr>\n",
       "    <tr>\n",
       "      <th>6</th>\n",
       "      <td>395.64</td>\n",
       "      <td>479.70</td>\n",
       "      <td>15.95</td>\n",
       "      <td>18.94</td>\n",
       "      <td>33.40</td>\n",
       "      <td>41.73</td>\n",
       "      <td>1204.02</td>\n",
       "      <td>2039.29</td>\n",
       "    </tr>\n",
       "    <tr>\n",
       "      <th>7</th>\n",
       "      <td>408.35</td>\n",
       "      <td>545.79</td>\n",
       "      <td>15.88</td>\n",
       "      <td>20.51</td>\n",
       "      <td>33.75</td>\n",
       "      <td>49.85</td>\n",
       "      <td>1223.95</td>\n",
       "      <td>2118.13</td>\n",
       "    </tr>\n",
       "    <tr>\n",
       "      <th>8</th>\n",
       "      <td>421.47</td>\n",
       "      <td>510.78</td>\n",
       "      <td>16.74</td>\n",
       "      <td>19.60</td>\n",
       "      <td>33.64</td>\n",
       "      <td>48.44</td>\n",
       "      <td>1320.60</td>\n",
       "      <td>2083.18</td>\n",
       "    </tr>\n",
       "    <tr>\n",
       "      <th>9</th>\n",
       "      <td>428.61</td>\n",
       "      <td>539.44</td>\n",
       "      <td>16.39</td>\n",
       "      <td>19.24</td>\n",
       "      <td>33.64</td>\n",
       "      <td>52.29</td>\n",
       "      <td>1249.95</td>\n",
       "      <td>2024.35</td>\n",
       "    </tr>\n",
       "    <tr>\n",
       "      <th>10</th>\n",
       "      <td>426.14</td>\n",
       "      <td>558.08</td>\n",
       "      <td>16.88</td>\n",
       "      <td>20.07</td>\n",
       "      <td>33.77</td>\n",
       "      <td>58.43</td>\n",
       "      <td>1364.85</td>\n",
       "      <td>2065.85</td>\n",
       "    </tr>\n",
       "    <tr>\n",
       "      <th>11</th>\n",
       "      <td>435.27</td>\n",
       "      <td>541.38</td>\n",
       "      <td>17.00</td>\n",
       "      <td>19.81</td>\n",
       "      <td>34.08</td>\n",
       "      <td>55.79</td>\n",
       "      <td>1343.05</td>\n",
       "      <td>2092.16</td>\n",
       "    </tr>\n",
       "    <tr>\n",
       "      <th>12</th>\n",
       "      <td>478.56</td>\n",
       "      <td>592.81</td>\n",
       "      <td>18.20</td>\n",
       "      <td>21.74</td>\n",
       "      <td>35.99</td>\n",
       "      <td>60.61</td>\n",
       "      <td>1578.53</td>\n",
       "      <td>2138.85</td>\n",
       "    </tr>\n",
       "  </tbody>\n",
       "</table>\n",
       "</div>\n",
       "      <button class=\"colab-df-convert\" onclick=\"convertToInteractive('df-ec4946b3-07ce-4260-8ed1-6deca357c655')\"\n",
       "              title=\"Convert this dataframe to an interactive table.\"\n",
       "              style=\"display:none;\">\n",
       "        \n",
       "  <svg xmlns=\"http://www.w3.org/2000/svg\" height=\"24px\"viewBox=\"0 0 24 24\"\n",
       "       width=\"24px\">\n",
       "    <path d=\"M0 0h24v24H0V0z\" fill=\"none\"/>\n",
       "    <path d=\"M18.56 5.44l.94 2.06.94-2.06 2.06-.94-2.06-.94-.94-2.06-.94 2.06-2.06.94zm-11 1L8.5 8.5l.94-2.06 2.06-.94-2.06-.94L8.5 2.5l-.94 2.06-2.06.94zm10 10l.94 2.06.94-2.06 2.06-.94-2.06-.94-.94-2.06-.94 2.06-2.06.94z\"/><path d=\"M17.41 7.96l-1.37-1.37c-.4-.4-.92-.59-1.43-.59-.52 0-1.04.2-1.43.59L10.3 9.45l-7.72 7.72c-.78.78-.78 2.05 0 2.83L4 21.41c.39.39.9.59 1.41.59.51 0 1.02-.2 1.41-.59l7.78-7.78 2.81-2.81c.8-.78.8-2.07 0-2.86zM5.41 20L4 18.59l7.72-7.72 1.47 1.35L5.41 20z\"/>\n",
       "  </svg>\n",
       "      </button>\n",
       "      \n",
       "  <style>\n",
       "    .colab-df-container {\n",
       "      display:flex;\n",
       "      flex-wrap:wrap;\n",
       "      gap: 12px;\n",
       "    }\n",
       "\n",
       "    .colab-df-convert {\n",
       "      background-color: #E8F0FE;\n",
       "      border: none;\n",
       "      border-radius: 50%;\n",
       "      cursor: pointer;\n",
       "      display: none;\n",
       "      fill: #1967D2;\n",
       "      height: 32px;\n",
       "      padding: 0 0 0 0;\n",
       "      width: 32px;\n",
       "    }\n",
       "\n",
       "    .colab-df-convert:hover {\n",
       "      background-color: #E2EBFA;\n",
       "      box-shadow: 0px 1px 2px rgba(60, 64, 67, 0.3), 0px 1px 3px 1px rgba(60, 64, 67, 0.15);\n",
       "      fill: #174EA6;\n",
       "    }\n",
       "\n",
       "    [theme=dark] .colab-df-convert {\n",
       "      background-color: #3B4455;\n",
       "      fill: #D2E3FC;\n",
       "    }\n",
       "\n",
       "    [theme=dark] .colab-df-convert:hover {\n",
       "      background-color: #434B5C;\n",
       "      box-shadow: 0px 1px 3px 1px rgba(0, 0, 0, 0.15);\n",
       "      filter: drop-shadow(0px 1px 2px rgba(0, 0, 0, 0.3));\n",
       "      fill: #FFFFFF;\n",
       "    }\n",
       "  </style>\n",
       "\n",
       "      <script>\n",
       "        const buttonEl =\n",
       "          document.querySelector('#df-ec4946b3-07ce-4260-8ed1-6deca357c655 button.colab-df-convert');\n",
       "        buttonEl.style.display =\n",
       "          google.colab.kernel.accessAllowed ? 'block' : 'none';\n",
       "\n",
       "        async function convertToInteractive(key) {\n",
       "          const element = document.querySelector('#df-ec4946b3-07ce-4260-8ed1-6deca357c655');\n",
       "          const dataTable =\n",
       "            await google.colab.kernel.invokeFunction('convertToInteractive',\n",
       "                                                     [key], {});\n",
       "          if (!dataTable) return;\n",
       "\n",
       "          const docLinkHtml = 'Like what you see? Visit the ' +\n",
       "            '<a target=\"_blank\" href=https://colab.research.google.com/notebooks/data_table.ipynb>data table notebook</a>'\n",
       "            + ' to learn more about interactive tables.';\n",
       "          element.innerHTML = '';\n",
       "          dataTable['output_type'] = 'display_data';\n",
       "          await google.colab.output.renderOutput(dataTable, element);\n",
       "          const docLink = document.createElement('div');\n",
       "          docLink.innerHTML = docLinkHtml;\n",
       "          element.appendChild(docLink);\n",
       "        }\n",
       "      </script>\n",
       "    </div>\n",
       "  </div>\n",
       "  "
      ],
      "text/plain": [
       "       duration_sum        gb_used_rounded       messages_number        \\\n",
       "tariff        smart  ultra           smart ultra           smart ultra   \n",
       "month                                                                    \n",
       "0              0.00   0.00            0.00  0.00            0.00  0.00   \n",
       "1            203.85 428.11            8.74 13.22           18.24 33.78   \n",
       "2            298.69 297.12           11.84 12.00           24.09 21.96   \n",
       "3            390.05 489.65           15.23 17.65           31.86 32.30   \n",
       "4            367.13 458.02           13.62 16.96           30.74 31.56   \n",
       "5            387.36 510.33           15.91 19.37           33.77 37.85   \n",
       "6            395.64 479.70           15.95 18.94           33.40 41.73   \n",
       "7            408.35 545.79           15.88 20.51           33.75 49.85   \n",
       "8            421.47 510.78           16.74 19.60           33.64 48.44   \n",
       "9            428.61 539.44           16.39 19.24           33.64 52.29   \n",
       "10           426.14 558.08           16.88 20.07           33.77 58.43   \n",
       "11           435.27 541.38           17.00 19.81           34.08 55.79   \n",
       "12           478.56 592.81           18.20 21.74           35.99 60.61   \n",
       "\n",
       "       month_prof          \n",
       "tariff      smart   ultra  \n",
       "month                      \n",
       "0          550.00 1950.00  \n",
       "1          721.32 1950.00  \n",
       "2          827.60 1975.00  \n",
       "3         1164.62 2014.86  \n",
       "4          963.09 2001.82  \n",
       "5         1197.51 2059.70  \n",
       "6         1204.02 2039.29  \n",
       "7         1223.95 2118.13  \n",
       "8         1320.60 2083.18  \n",
       "9         1249.95 2024.35  \n",
       "10        1364.85 2065.85  \n",
       "11        1343.05 2092.16  \n",
       "12        1578.53 2138.85  "
      ]
     },
     "execution_count": 39,
     "metadata": {},
     "output_type": "execute_result"
    }
   ],
   "source": [
    "df_pivot = df.pivot_table(\n",
    "    index=\"month\", columns=\"tariff\",\n",
    "    values=[\n",
    "        \"duration_sum\", \"messages_number\",\n",
    "        \"gb_used_rounded\", \"month_prof\"\n",
    "    ],\n",
    "    aggfunc=\"mean\"\n",
    ")\n",
    "\n",
    "df_pivot"
   ]
  },
  {
   "cell_type": "markdown",
   "metadata": {
    "id": "zruNeCOEDW8l"
   },
   "source": [
    "**Mean, variance, and standard deviation**\n",
    "\n",
    "**\"Ultra\" tariff**:\n",
    "- Monthly fee: 1950 rubles\n",
    "- Includes 3000 minutes of calls, 1000 messages, and 30 GB of mobile data\n",
    "- Cost of services beyond the tariff package:\n",
    "    1. 1 minute of call: 1 ruble\n",
    "    2. 1 message: 1 ruble\n",
    "    3. 1 GB of mobile data: 150 rubles"
   ]
  },
  {
   "cell_type": "code",
   "execution_count": 40,
   "metadata": {
    "colab": {
     "base_uri": "https://localhost:8080/",
     "height": 279
    },
    "id": "jGtOBcyCDW8m",
    "outputId": "6298e9c5-1a94-42d3-fa93-d6aa972ff500",
    "scrolled": true
   },
   "outputs": [
    {
     "data": {
      "application/vnd.google.colaboratory.intrinsic+json": {
       "type": "string"
      },
      "text/plain": [
       "'Average values for the \"Ultra\" tariff:'"
      ]
     },
     "metadata": {},
     "output_type": "display_data"
    },
    {
     "data": {
      "text/plain": [
       "duration_sum      526.09\n",
       "messages_number    49.31\n",
       "gb_used_rounded    19.47\n",
       "dtype: float64"
      ]
     },
     "metadata": {},
     "output_type": "display_data"
    },
    {
     "data": {
      "application/vnd.google.colaboratory.intrinsic+json": {
       "type": "string"
      },
      "text/plain": [
       "'Standard deviation for the \"Ultra\" tariff:'"
      ]
     },
     "metadata": {},
     "output_type": "display_data"
    },
    {
     "data": {
      "text/plain": [
       "duration_sum      317.89\n",
       "messages_number    47.81\n",
       "gb_used_rounded     9.87\n",
       "dtype: float64"
      ]
     },
     "metadata": {},
     "output_type": "display_data"
    },
    {
     "data": {
      "application/vnd.google.colaboratory.intrinsic+json": {
       "type": "string"
      },
      "text/plain": [
       "'Variance for the \"Ultra\" tariff:'"
      ]
     },
     "metadata": {},
     "output_type": "display_data"
    },
    {
     "data": {
      "text/plain": [
       "duration_sum      101052.49\n",
       "messages_number     2285.42\n",
       "gb_used_rounded       97.38\n",
       "dtype: float64"
      ]
     },
     "metadata": {},
     "output_type": "display_data"
    }
   ],
   "source": [
    "df_ultra = df.query('tariff in \"ultra\"')[\n",
    "    [\"duration_sum\", \"messages_number\", \"gb_used_rounded\"]\n",
    "]\n",
    "pd.options.display.float_format = \"{:.2f}\".format\n",
    "variance_ultra = np.var(df_ultra, ddof=1)\n",
    "display('Average values for the \"Ultra\" tariff:', df_ultra.mean())\n",
    "display('Standard deviation for the \"Ultra\" tariff:', df_ultra.std())\n",
    "display('Variance for the \"Ultra\" tariff:', variance_ultra)"
   ]
  },
  {
   "cell_type": "markdown",
   "metadata": {
    "id": "0Uftpwv1DW8m"
   },
   "source": [
    "**\"Smart\" tariff:**\n",
    "- Monthly fee: 550 rubles\n",
    "- Includes 500 minutes of calls, 50 messages, and 15 GB of mobile data\n",
    "- Cost of services beyond the tariff package:\n",
    "\n",
    "    1. 1 minute of call: 3 rubles\n",
    "    2. 1 message: 3 rubles\n",
    "    3. 1 GB of mobile data: 200 rubles"
   ]
  },
  {
   "cell_type": "code",
   "execution_count": 41,
   "metadata": {
    "colab": {
     "base_uri": "https://localhost:8080/",
     "height": 279
    },
    "id": "czrvdy_TDW8m",
    "outputId": "50131447-f9e3-45e5-faa6-525480b0c97b"
   },
   "outputs": [
    {
     "data": {
      "application/vnd.google.colaboratory.intrinsic+json": {
       "type": "string"
      },
      "text/plain": [
       "'Average values for the \"Smart\" tariff:'"
      ]
     },
     "metadata": {},
     "output_type": "display_data"
    },
    {
     "data": {
      "text/plain": [
       "duration_sum      417.75\n",
       "messages_number    33.37\n",
       "gb_used_rounded    16.32\n",
       "dtype: float64"
      ]
     },
     "metadata": {},
     "output_type": "display_data"
    },
    {
     "data": {
      "application/vnd.google.colaboratory.intrinsic+json": {
       "type": "string"
      },
      "text/plain": [
       "'Standard deviation for the \"Smart\" tariff:'"
      ]
     },
     "metadata": {},
     "output_type": "display_data"
    },
    {
     "data": {
      "text/plain": [
       "duration_sum      190.48\n",
       "messages_number    28.23\n",
       "gb_used_rounded     5.76\n",
       "dtype: float64"
      ]
     },
     "metadata": {},
     "output_type": "display_data"
    },
    {
     "data": {
      "application/vnd.google.colaboratory.intrinsic+json": {
       "type": "string"
      },
      "text/plain": [
       "'Variance for the \"Smart\" tariff:'"
      ]
     },
     "metadata": {},
     "output_type": "display_data"
    },
    {
     "data": {
      "text/plain": [
       "duration_sum      36281.39\n",
       "messages_number     796.96\n",
       "gb_used_rounded      33.13\n",
       "dtype: float64"
      ]
     },
     "metadata": {},
     "output_type": "display_data"
    }
   ],
   "source": [
    "df_smart = df.query('tariff in \"smart\"')[\n",
    "    [\"duration_sum\", \"messages_number\", \"gb_used_rounded\"]\n",
    "]\n",
    "pd.options.display.float_format = \"{:.2f}\".format\n",
    "variance_smart = np.var(df_smart, ddof=1)\n",
    "display('Average values for the \"Smart\" tariff:', df_smart.mean())\n",
    "display('Standard deviation for the \"Smart\" tariff:', df_smart.std())\n",
    "display('Variance for the \"Smart\" tariff:', variance_smart)"
   ]
  },
  {
   "cell_type": "markdown",
   "metadata": {
    "id": "YjZOILNpDW8m"
   },
   "source": [
    "### Histograms <a class=\"anchor\" id=\"analysis-histograms\"></a>"
   ]
  },
  {
   "cell_type": "code",
   "execution_count": 42,
   "metadata": {
    "id": "AQY3WCzAKva8"
   },
   "outputs": [],
   "source": [
    "def plot_hist(df, col, title):\n",
    "    \"\"\"\n",
    "    Function takes dataframe, column name and title and\n",
    "    then creates the histograms\n",
    "    \"\"\"\n",
    "    sns.histplot(data=df, x=col, bins=20, kde=True)\n",
    "    plt.title(title)\n",
    "    plt.show()"
   ]
  },
  {
   "cell_type": "code",
   "execution_count": 43,
   "metadata": {
    "colab": {
     "base_uri": "https://localhost:8080/",
     "height": 575
    },
    "id": "5ZSfXZ0JDW8m",
    "outputId": "156ad555-7414-4b90-e875-2c3cbd7f3474",
    "scrolled": false
   },
   "outputs": [
    {
     "data": {
      "image/png": "[encoded data removed]",
      "text/plain": [
       "<Figure size 432x288 with 1 Axes>"
      ]
     },
     "metadata": {
      "needs_background": "light"
     },
     "output_type": "display_data"
    },
    {
     "data": {
      "image/png": "[encoded data removed]",
      "text/plain": [
       "<Figure size 432x288 with 1 Axes>"
      ]
     },
     "metadata": {
      "needs_background": "light"
     },
     "output_type": "display_data"
    }
   ],
   "source": [
    "plot_hist(df_ultra, \"duration_sum\", \"call_used_ultra\")\n",
    "plot_hist(df_smart, \"duration_sum\", \"call_used_ultra\")"
   ]
  },
  {
   "cell_type": "markdown",
   "metadata": {
    "id": "e-g7yvDEDW8n"
   },
   "source": [
    "**Conclusion for calls:** the number of calls on the \"Ultra\" tariff is more evenly distributed and in total exceeds the number of calls made by users on the \"Smart\" tariff."
   ]
  },
  {
   "cell_type": "code",
   "execution_count": 44,
   "metadata": {
    "colab": {
     "base_uri": "https://localhost:8080/",
     "height": 575
    },
    "id": "vF90R1BPDW8n",
    "outputId": "b68fc4e0-c862-4e70-8700-7dc07b992961",
    "scrolled": false
   },
   "outputs": [
    {
     "data": {
      "image/png": "[encoded data removed]",
      "text/plain": [
       "<Figure size 432x288 with 1 Axes>"
      ]
     },
     "metadata": {
      "needs_background": "light"
     },
     "output_type": "display_data"
    },
    {
     "data": {
      "image/png": "[encoded data removed]",
      "text/plain": [
       "<Figure size 432x288 with 1 Axes>"
      ]
     },
     "metadata": {
      "needs_background": "light"
     },
     "output_type": "display_data"
    }
   ],
   "source": [
    "plot_hist(df_ultra, \"messages_number\", \"messages_used_ultra\")\n",
    "plot_hist(df_smart, \"messages_number\", \"messages_used_smart\")"
   ]
  },
  {
   "cell_type": "markdown",
   "metadata": {
    "id": "dbaoe8PrDW8n"
   },
   "source": [
    "**Conclusion for messages:** from the histograms, it can be seen that the majority of users on both tariffs do not send messages. Among those who send messages, users on the \"Smart\" tariff exceed the included limit, while there is no exceeding of included messages on the \"Ultra\" tariff."
   ]
  },
  {
   "cell_type": "code",
   "execution_count": 45,
   "metadata": {
    "colab": {
     "base_uri": "https://localhost:8080/",
     "height": 575
    },
    "id": "cVf04k1hDW8n",
    "outputId": "0709fd30-ec5d-4ee4-d2eb-ec7cb58c1e70"
   },
   "outputs": [
    {
     "data": {
      "image/png": "[encoded data removed]",
      "text/plain": [
       "<Figure size 432x288 with 1 Axes>"
      ]
     },
     "metadata": {
      "needs_background": "light"
     },
     "output_type": "display_data"
    },
    {
     "data": {
      "image/png": "[encoded data removed]",
      "text/plain": [
       "<Figure size 432x288 with 1 Axes>"
      ]
     },
     "metadata": {
      "needs_background": "light"
     },
     "output_type": "display_data"
    }
   ],
   "source": [
    "plot_hist(df_ultra, \"gb_used_rounded\", \"gb_used_ultra\")\n",
    "plot_hist(df_smart, \"gb_used_rounded\", \"gb_used_smart\")"
   ]
  },
  {
   "cell_type": "markdown",
   "metadata": {
    "id": "hK9iY9DfDW8n"
   },
   "source": [
    "**Conclusion for mobile data usage:** users on the \"Ultra\" tariff mostly do not exceed the limit of 30 GB. In the \"Smart\" tariff, users exceed the limit more often and use an average of 16 GB of mobile data, despite the limit being 15 GB."
   ]
  },
  {
   "cell_type": "markdown",
   "metadata": {
    "id": "zaSTVS-KDW8o"
   },
   "source": [
    "## Hypothesis testing <a class=\"anchor\" id=\"hypothesis-testing\"></a>\n",
    "\n",
    "1. The average revenue of users on the \"Ultra\" and \"Smart\" tariffs is different.\n",
    "2. The average revenue of users from Moscow differs from the revenue of users from other regions."
   ]
  },
  {
   "cell_type": "markdown",
   "metadata": {
    "id": "qKwqVTNzDW8o"
   },
   "source": [
    "### Hypothesis #1 <a class=\"anchor\" id=\"hypothesis-1\"></a>\n",
    "\n",
    "- Null hypothesis H<sub>0</sub>: The average revenue for all users is the same.\n",
    "- Alternative hypothesis H<sub>1</sub>: The average revenue is different.\n",
    "\n",
    "Critical level of statistical significance 5%."
   ]
  },
  {
   "cell_type": "code",
   "execution_count": 46,
   "metadata": {
    "colab": {
     "base_uri": "https://localhost:8080/"
    },
    "id": "r1HHSda7DW8o",
    "outputId": "dfcc68c4-2670-451f-c07a-09a1570fc3fe"
   },
   "outputs": [
    {
     "name": "stdout",
     "output_type": "stream",
     "text": [
      "Reject the null hypothesis\n",
      "p-value: 8.081909555489933e-161\n"
     ]
    }
   ],
   "source": [
    "smart_test = df.query('tariff == \"smart\"')[\"month_prof\"]\n",
    "ultra_test =  df.query('tariff == \"ultra\"')[\"month_prof\"]\n",
    "alpha = 0.05\n",
    "\n",
    "results = st.ttest_ind(\n",
    "    smart_test, \n",
    "    ultra_test)\n",
    "\n",
    "if (results.pvalue < alpha):\n",
    "    print(\"Reject the null hypothesis\")\n",
    "else:\n",
    "    print(\"Fail to reject the null hypothesis\")\n",
    "    \n",
    "print(\"p-value:\", results.pvalue)"
   ]
  },
  {
   "cell_type": "markdown",
   "metadata": {
    "id": "YiK-c70HDW8p"
   },
   "source": [
    "**Conclusion:**\n",
    "Based on the results of the t-test, I conclude that the null hypothesis H<sub>0</sub> is **rejected**. Therefore, the hypothesis proposed in the task H<sub>1</sub>: \"the average revenue of users on the 'Ultra' and 'Smart' tariffs is different\" is confirmed."
   ]
  },
  {
   "cell_type": "markdown",
   "metadata": {
    "id": "1UPWPszKDW8p"
   },
   "source": [
    "### Hypothesis #2 <a class=\"anchor\" id=\"hypothesis-2\"></a>\n",
    "\n",
    "- Null hypothesis H<sub>0</sub>: The average revenue of users from Moscow is equal to the revenue of users from other regions.\n",
    "- Alternative hypothesis H<sub>1</sub>: The average revenue of users from Moscow differs from the revenue of users from other regions.\n",
    "\n",
    "Critical level of statistical significance 5%."
   ]
  },
  {
   "cell_type": "code",
   "execution_count": 47,
   "metadata": {
    "colab": {
     "base_uri": "https://localhost:8080/"
    },
    "id": "GptkbAEGDW8p",
    "outputId": "1e8cfd20-eae5-4bf9-d620-308e20ccd7ee"
   },
   "outputs": [
    {
     "name": "stdout",
     "output_type": "stream",
     "text": [
      "Fail to reject the null hypothesis\n",
      "p-value: 0.5400751614511182\n"
     ]
    }
   ],
   "source": [
    "moscow = df.query('city == \"Москва\"')[\"month_prof\"]\n",
    "regions =  df.query('city != \"Москва\"')[\"month_prof\"]\n",
    "alpha = 0.05\n",
    "\n",
    "results = st.ttest_ind(\n",
    "    regions, \n",
    "    moscow)\n",
    "    \n",
    "if (results.pvalue < alpha):\n",
    "    print(\"Reject the null hypothesis\")\n",
    "else:\n",
    "    print(\"Fail to reject the null hypothesis\")\n",
    "        \n",
    "print(\"p-value:\", results.pvalue)"
   ]
  },
  {
   "cell_type": "markdown",
   "metadata": {
    "id": "ATYArzSqDW8q"
   },
   "source": [
    "**Conclusion:**\n",
    "Based on the results of the t-test, I conclude that the null hypothesis H<sub>0</sub> is **not rejected**. Therefore, the hypothesis proposed in the task H<sub>1</sub>: \"the average revenue of users from Moscow differs from the revenue of users from other regions\" is not confirmed."
   ]
  },
  {
   "cell_type": "markdown",
   "metadata": {
    "id": "3FoXfXYODW8q"
   },
   "source": [
    "## General conclusion <a class=\"anchor\" id=\"conclusion\"></a>\n",
    "During the study of a sample of 500 users of the \"Megaline\" company and two tariffs, \"Ultra\" and \"Smart,\" the following was established:\n",
    "\n",
    "1. \"Ultra\" tariff users make more and more frequent calls than \"Smart\" tariff users. However, \"Smart\" users overpay more than \"Ultra\" users over the tariff limit.\n",
    "2. Messages are not very popular on both tariffs, on average no more than 50 are sent per month, which is covered by both tariffs.\n",
    "3. Internet traffic turned out to be the most indicative when choosing the most profitable tariff for the \"Megaline\" company. \"Ultra\" users mostly do not exceed the 30 GB limit. In the \"Smart\" tariff, users exceed the limit more often and use an average of 16 GB of traffic, with a limit of 15.\n",
    "4. Hypothesis testing showed the following results (95% probability):\n",
    "    - \"the average revenue of users on the 'Ultra' and 'Smart' tariffs is different\" - **confirmed**;\n",
    "    - \"the average revenue of users from Moscow differs from the revenue of users from other regions.\" - **not confirmed**. Therefore, the null hypothesis \"the average revenue of users from Moscow is equal to the revenue of users from other regions\" holds true.\n",
    "5. The \"Ultra\" tariff is definitely the most profitable for the \"Megaline\" company."
   ]
  }
 ],
 "metadata": {
  "ExecuteTimeLog": [
   {
    "duration": 5,
    "start_time": "2022-03-25T13:12:16.356Z"
   },
   {
    "duration": 670,
    "start_time": "2022-03-25T13:12:41.015Z"
   },
   {
    "duration": 164,
    "start_time": "2022-03-25T13:14:05.348Z"
   },
   {
    "duration": 586,
    "start_time": "2022-03-25T13:15:18.906Z"
   },
   {
    "duration": 92,
    "start_time": "2022-03-25T13:22:49.773Z"
   },
   {
    "duration": 17531,
    "start_time": "2022-03-25T13:27:50.077Z"
   },
   {
    "duration": 16,
    "start_time": "2022-03-25T13:28:19.322Z"
   },
   {
    "duration": 3,
    "start_time": "2022-03-25T13:28:48.456Z"
   },
   {
    "duration": 44,
    "start_time": "2022-03-25T13:29:26.980Z"
   },
   {
    "duration": 50,
    "start_time": "2022-03-25T13:29:58.074Z"
   },
   {
    "duration": 33,
    "start_time": "2022-03-25T13:30:03.136Z"
   },
   {
    "duration": 33,
    "start_time": "2022-03-25T13:30:18.818Z"
   },
   {
    "duration": 29,
    "start_time": "2022-03-25T13:30:32.408Z"
   },
   {
    "duration": 15,
    "start_time": "2022-03-25T13:30:45.910Z"
   },
   {
    "duration": 18,
    "start_time": "2022-03-25T13:30:50.439Z"
   },
   {
    "duration": 12,
    "start_time": "2022-03-25T13:31:07.705Z"
   },
   {
    "duration": 13,
    "start_time": "2022-03-25T13:31:38.879Z"
   },
   {
    "duration": 15,
    "start_time": "2022-03-25T13:35:50.411Z"
   },
   {
    "duration": 14,
    "start_time": "2022-03-25T13:36:05.277Z"
   },
   {
    "duration": 13,
    "start_time": "2022-03-25T13:36:20.715Z"
   },
   {
    "duration": 49,
    "start_time": "2022-03-25T13:37:33.518Z"
   },
   {
    "duration": 35,
    "start_time": "2022-03-25T13:39:07.085Z"
   },
   {
    "duration": 19,
    "start_time": "2022-03-25T13:40:00.901Z"
   },
   {
    "duration": 5,
    "start_time": "2022-03-25T13:40:25.118Z"
   },
   {
    "duration": 39,
    "start_time": "2022-03-25T13:40:42.771Z"
   },
   {
    "duration": 20,
    "start_time": "2022-03-25T13:41:43.466Z"
   },
   {
    "duration": 73,
    "start_time": "2022-03-27T07:45:03.383Z"
   },
   {
    "duration": 524,
    "start_time": "2022-03-27T07:45:12.649Z"
   },
   {
    "duration": 473,
    "start_time": "2022-03-27T07:45:13.176Z"
   },
   {
    "duration": 52,
    "start_time": "2022-03-27T07:45:13.652Z"
   },
   {
    "duration": 28,
    "start_time": "2022-03-27T07:45:13.707Z"
   },
   {
    "duration": 69,
    "start_time": "2022-03-27T07:45:13.739Z"
   },
   {
    "duration": 41,
    "start_time": "2022-03-27T07:45:13.822Z"
   },
   {
    "duration": 21,
    "start_time": "2022-03-27T07:45:13.866Z"
   },
   {
    "duration": 40,
    "start_time": "2022-03-27T07:45:13.890Z"
   },
   {
    "duration": 24,
    "start_time": "2022-03-27T07:45:13.932Z"
   },
   {
    "duration": 13,
    "start_time": "2022-03-27T07:45:13.982Z"
   },
   {
    "duration": 19,
    "start_time": "2022-03-27T07:45:13.997Z"
   },
   {
    "duration": 19,
    "start_time": "2022-03-27T07:45:14.019Z"
   },
   {
    "duration": 53,
    "start_time": "2022-03-27T07:45:14.040Z"
   },
   {
    "duration": 50,
    "start_time": "2022-03-27T07:45:14.098Z"
   },
   {
    "duration": 41,
    "start_time": "2022-03-27T07:45:14.150Z"
   },
   {
    "duration": 23,
    "start_time": "2022-03-27T07:45:14.194Z"
   },
   {
    "duration": 22,
    "start_time": "2022-03-27T07:45:14.221Z"
   },
   {
    "duration": 13,
    "start_time": "2022-03-27T07:45:22.149Z"
   },
   {
    "duration": 47,
    "start_time": "2022-03-27T09:08:45.315Z"
   },
   {
    "duration": 63,
    "start_time": "2022-03-27T09:09:02.012Z"
   },
   {
    "duration": 10,
    "start_time": "2022-03-27T09:09:47.066Z"
   },
   {
    "duration": 41,
    "start_time": "2022-03-27T09:09:52.770Z"
   },
   {
    "duration": 18,
    "start_time": "2022-03-27T09:10:25.203Z"
   },
   {
    "duration": 24,
    "start_time": "2022-03-27T09:10:26.528Z"
   },
   {
    "duration": 26,
    "start_time": "2022-03-27T09:13:50.817Z"
   },
   {
    "duration": 492,
    "start_time": "2022-03-27T09:16:05.095Z"
   },
   {
    "duration": 485,
    "start_time": "2022-03-27T09:16:05.590Z"
   },
   {
    "duration": 43,
    "start_time": "2022-03-27T09:16:06.077Z"
   },
   {
    "duration": 28,
    "start_time": "2022-03-27T09:16:06.123Z"
   },
   {
    "duration": 50,
    "start_time": "2022-03-27T09:16:06.153Z"
   },
   {
    "duration": 28,
    "start_time": "2022-03-27T09:16:06.205Z"
   },
   {
    "duration": 12,
    "start_time": "2022-03-27T09:16:06.235Z"
   },
   {
    "duration": 68,
    "start_time": "2022-03-27T09:16:06.249Z"
   },
   {
    "duration": 26,
    "start_time": "2022-03-27T09:16:06.320Z"
   },
   {
    "duration": 42,
    "start_time": "2022-03-27T09:16:06.351Z"
   },
   {
    "duration": 38,
    "start_time": "2022-03-27T09:16:06.396Z"
   },
   {
    "duration": 14,
    "start_time": "2022-03-27T09:16:06.436Z"
   },
   {
    "duration": 31,
    "start_time": "2022-03-27T09:16:06.452Z"
   },
   {
    "duration": 46,
    "start_time": "2022-03-27T09:16:06.487Z"
   },
   {
    "duration": 15,
    "start_time": "2022-03-27T09:16:06.536Z"
   },
   {
    "duration": 38,
    "start_time": "2022-03-27T09:16:06.553Z"
   },
   {
    "duration": 44,
    "start_time": "2022-03-27T09:16:06.593Z"
   },
   {
    "duration": 114,
    "start_time": "2022-03-27T09:16:06.639Z"
   },
   {
    "duration": 32,
    "start_time": "2022-03-27T09:16:06.755Z"
   },
   {
    "duration": 97,
    "start_time": "2022-03-27T09:24:59.978Z"
   },
   {
    "duration": 3,
    "start_time": "2022-03-27T09:25:11.649Z"
   },
   {
    "duration": 5,
    "start_time": "2022-03-27T09:25:15.339Z"
   },
   {
    "duration": 5,
    "start_time": "2022-03-27T09:25:37.554Z"
   },
   {
    "duration": 14,
    "start_time": "2022-03-27T09:25:39.195Z"
   },
   {
    "duration": 5,
    "start_time": "2022-03-27T09:25:45.216Z"
   },
   {
    "duration": 15,
    "start_time": "2022-03-27T09:27:55.134Z"
   },
   {
    "duration": 20,
    "start_time": "2022-03-27T09:28:09.419Z"
   },
   {
    "duration": 12,
    "start_time": "2022-03-27T09:31:07.375Z"
   },
   {
    "duration": 18,
    "start_time": "2022-03-27T09:31:29.111Z"
   },
   {
    "duration": 20,
    "start_time": "2022-03-27T09:31:33.246Z"
   },
   {
    "duration": 83,
    "start_time": "2022-03-27T09:31:36.706Z"
   },
   {
    "duration": 28,
    "start_time": "2022-03-27T09:31:38.338Z"
   },
   {
    "duration": 13,
    "start_time": "2022-03-27T09:31:43.472Z"
   },
   {
    "duration": 16,
    "start_time": "2022-03-27T09:31:49.488Z"
   },
   {
    "duration": 17,
    "start_time": "2022-03-27T09:31:52.052Z"
   },
   {
    "duration": 24,
    "start_time": "2022-03-27T09:40:42.322Z"
   },
   {
    "duration": 486,
    "start_time": "2022-03-27T09:45:54.015Z"
   },
   {
    "duration": 481,
    "start_time": "2022-03-27T09:45:54.504Z"
   },
   {
    "duration": 37,
    "start_time": "2022-03-27T09:45:54.987Z"
   },
   {
    "duration": 42,
    "start_time": "2022-03-27T09:45:55.026Z"
   },
   {
    "duration": 51,
    "start_time": "2022-03-27T09:45:55.072Z"
   },
   {
    "duration": 14,
    "start_time": "2022-03-27T09:45:55.126Z"
   },
   {
    "duration": 55,
    "start_time": "2022-03-27T09:45:55.143Z"
   },
   {
    "duration": 39,
    "start_time": "2022-03-27T09:45:55.201Z"
   },
   {
    "duration": 37,
    "start_time": "2022-03-27T09:45:55.243Z"
   },
   {
    "duration": 38,
    "start_time": "2022-03-27T09:45:55.283Z"
   },
   {
    "duration": 41,
    "start_time": "2022-03-27T09:45:55.324Z"
   },
   {
    "duration": 44,
    "start_time": "2022-03-27T09:45:55.367Z"
   },
   {
    "duration": 131,
    "start_time": "2022-03-27T09:45:55.413Z"
   },
   {
    "duration": 6,
    "start_time": "2022-03-27T09:45:55.548Z"
   },
   {
    "duration": 94,
    "start_time": "2022-03-27T09:45:55.556Z"
   },
   {
    "duration": 13,
    "start_time": "2022-03-27T09:46:04.838Z"
   },
   {
    "duration": 195,
    "start_time": "2022-03-27T09:46:28.123Z"
   },
   {
    "duration": 13,
    "start_time": "2022-03-27T09:46:29.029Z"
   },
   {
    "duration": 276,
    "start_time": "2022-03-27T09:46:31.506Z"
   },
   {
    "duration": 73,
    "start_time": "2022-03-27T09:46:48.412Z"
   },
   {
    "duration": 16,
    "start_time": "2022-03-27T09:46:49.534Z"
   },
   {
    "duration": 13,
    "start_time": "2022-03-27T09:54:23.589Z"
   },
   {
    "duration": 14,
    "start_time": "2022-03-27T09:54:28.227Z"
   },
   {
    "duration": 9,
    "start_time": "2022-03-27T09:55:24.475Z"
   },
   {
    "duration": 16,
    "start_time": "2022-03-27T09:55:25.665Z"
   },
   {
    "duration": 28,
    "start_time": "2022-03-27T09:59:21.183Z"
   },
   {
    "duration": 12,
    "start_time": "2022-03-27T09:59:27.242Z"
   },
   {
    "duration": 23,
    "start_time": "2022-03-27T09:59:54.169Z"
   },
   {
    "duration": 22,
    "start_time": "2022-03-27T10:00:16.724Z"
   },
   {
    "duration": 98,
    "start_time": "2022-03-27T10:03:47.327Z"
   },
   {
    "duration": 89,
    "start_time": "2022-03-27T10:04:23.307Z"
   },
   {
    "duration": 22,
    "start_time": "2022-03-27T10:04:52.441Z"
   },
   {
    "duration": 116,
    "start_time": "2022-03-27T10:06:15.147Z"
   },
   {
    "duration": 14,
    "start_time": "2022-03-27T10:06:23.987Z"
   },
   {
    "duration": 8,
    "start_time": "2022-03-27T10:11:07.744Z"
   },
   {
    "duration": 117,
    "start_time": "2022-03-27T10:12:24.701Z"
   },
   {
    "duration": 9,
    "start_time": "2022-03-27T10:12:41.787Z"
   },
   {
    "duration": 12,
    "start_time": "2022-03-27T10:12:52.056Z"
   },
   {
    "duration": 1943,
    "start_time": "2022-03-27T10:12:53.226Z"
   },
   {
    "duration": 43,
    "start_time": "2022-03-27T10:14:08.355Z"
   },
   {
    "duration": 9,
    "start_time": "2022-03-27T10:14:18.465Z"
   },
   {
    "duration": 63,
    "start_time": "2022-03-27T10:14:40.736Z"
   },
   {
    "duration": 68,
    "start_time": "2022-03-27T11:07:17.835Z"
   },
   {
    "duration": 516,
    "start_time": "2022-03-27T11:07:23.443Z"
   },
   {
    "duration": 440,
    "start_time": "2022-03-27T11:07:23.963Z"
   },
   {
    "duration": 34,
    "start_time": "2022-03-27T11:07:24.405Z"
   },
   {
    "duration": 20,
    "start_time": "2022-03-27T11:07:24.442Z"
   },
   {
    "duration": 36,
    "start_time": "2022-03-27T11:07:24.464Z"
   },
   {
    "duration": 12,
    "start_time": "2022-03-27T11:07:24.502Z"
   },
   {
    "duration": 27,
    "start_time": "2022-03-27T11:07:24.516Z"
   },
   {
    "duration": 42,
    "start_time": "2022-03-27T11:07:24.545Z"
   },
   {
    "duration": 17,
    "start_time": "2022-03-27T11:07:24.589Z"
   },
   {
    "duration": 11,
    "start_time": "2022-03-27T11:07:24.609Z"
   },
   {
    "duration": 15,
    "start_time": "2022-03-27T11:07:24.622Z"
   },
   {
    "duration": 48,
    "start_time": "2022-03-27T11:07:24.639Z"
   },
   {
    "duration": 117,
    "start_time": "2022-03-27T11:07:24.689Z"
   },
   {
    "duration": 7,
    "start_time": "2022-03-27T11:07:24.808Z"
   },
   {
    "duration": 75,
    "start_time": "2022-03-27T11:07:24.817Z"
   },
   {
    "duration": 32,
    "start_time": "2022-03-27T11:07:24.895Z"
   },
   {
    "duration": 22,
    "start_time": "2022-03-27T11:07:24.929Z"
   },
   {
    "duration": 47,
    "start_time": "2022-03-27T11:07:24.953Z"
   },
   {
    "duration": 14,
    "start_time": "2022-03-27T11:07:25.002Z"
   },
   {
    "duration": 12,
    "start_time": "2022-03-27T11:07:25.018Z"
   },
   {
    "duration": 11,
    "start_time": "2022-03-27T11:07:25.032Z"
   },
   {
    "duration": 40,
    "start_time": "2022-03-27T11:07:25.045Z"
   },
   {
    "duration": 108,
    "start_time": "2022-03-27T11:07:25.088Z"
   },
   {
    "duration": 0,
    "start_time": "2022-03-27T11:07:25.198Z"
   },
   {
    "duration": 0,
    "start_time": "2022-03-27T11:07:25.200Z"
   },
   {
    "duration": 0,
    "start_time": "2022-03-27T11:07:25.202Z"
   },
   {
    "duration": 466,
    "start_time": "2022-03-27T11:07:43.100Z"
   },
   {
    "duration": 441,
    "start_time": "2022-03-27T11:07:43.569Z"
   },
   {
    "duration": 33,
    "start_time": "2022-03-27T11:07:44.012Z"
   },
   {
    "duration": 21,
    "start_time": "2022-03-27T11:07:44.048Z"
   },
   {
    "duration": 36,
    "start_time": "2022-03-27T11:07:44.072Z"
   },
   {
    "duration": 11,
    "start_time": "2022-03-27T11:07:44.110Z"
   },
   {
    "duration": 26,
    "start_time": "2022-03-27T11:07:44.123Z"
   },
   {
    "duration": 34,
    "start_time": "2022-03-27T11:07:44.152Z"
   },
   {
    "duration": 18,
    "start_time": "2022-03-27T11:07:44.188Z"
   },
   {
    "duration": 15,
    "start_time": "2022-03-27T11:07:44.208Z"
   },
   {
    "duration": 15,
    "start_time": "2022-03-27T11:07:44.225Z"
   },
   {
    "duration": 53,
    "start_time": "2022-03-27T11:07:44.242Z"
   },
   {
    "duration": 118,
    "start_time": "2022-03-27T11:07:44.297Z"
   },
   {
    "duration": 6,
    "start_time": "2022-03-27T11:07:44.419Z"
   },
   {
    "duration": 81,
    "start_time": "2022-03-27T11:07:44.427Z"
   },
   {
    "duration": 28,
    "start_time": "2022-03-27T11:07:44.510Z"
   },
   {
    "duration": 21,
    "start_time": "2022-03-27T11:07:44.540Z"
   },
   {
    "duration": 37,
    "start_time": "2022-03-27T11:07:44.563Z"
   },
   {
    "duration": 13,
    "start_time": "2022-03-27T11:07:44.602Z"
   },
   {
    "duration": 10,
    "start_time": "2022-03-27T11:07:44.617Z"
   },
   {
    "duration": 10,
    "start_time": "2022-03-27T11:07:44.630Z"
   },
   {
    "duration": 43,
    "start_time": "2022-03-27T11:07:44.642Z"
   },
   {
    "duration": 12,
    "start_time": "2022-03-27T11:07:44.687Z"
   },
   {
    "duration": 110,
    "start_time": "2022-03-27T11:07:44.701Z"
   },
   {
    "duration": 0,
    "start_time": "2022-03-27T11:07:44.813Z"
   },
   {
    "duration": 8,
    "start_time": "2022-03-27T11:07:50.092Z"
   },
   {
    "duration": 9,
    "start_time": "2022-03-27T11:09:42.975Z"
   },
   {
    "duration": 54,
    "start_time": "2022-03-27T11:11:01.082Z"
   },
   {
    "duration": 471,
    "start_time": "2022-03-27T11:12:04.646Z"
   },
   {
    "duration": 47,
    "start_time": "2022-03-27T11:12:14.467Z"
   },
   {
    "duration": 31,
    "start_time": "2022-03-27T11:12:23.716Z"
   },
   {
    "duration": 37,
    "start_time": "2022-03-27T11:12:54.130Z"
   },
   {
    "duration": 31,
    "start_time": "2022-03-27T11:13:01.258Z"
   },
   {
    "duration": 19,
    "start_time": "2022-03-27T11:13:29.885Z"
   },
   {
    "duration": 17,
    "start_time": "2022-03-27T11:13:59.107Z"
   },
   {
    "duration": 7,
    "start_time": "2022-03-27T11:14:02.626Z"
   },
   {
    "duration": 19,
    "start_time": "2022-03-27T11:14:03.777Z"
   },
   {
    "duration": 31,
    "start_time": "2022-03-27T11:14:16.901Z"
   },
   {
    "duration": 5,
    "start_time": "2022-03-27T11:14:42.878Z"
   },
   {
    "duration": 18,
    "start_time": "2022-03-27T11:14:47.114Z"
   },
   {
    "duration": 16,
    "start_time": "2022-03-27T11:14:50.794Z"
   },
   {
    "duration": 491,
    "start_time": "2022-03-27T11:15:03.184Z"
   },
   {
    "duration": 459,
    "start_time": "2022-03-27T11:15:03.678Z"
   },
   {
    "duration": 36,
    "start_time": "2022-03-27T11:15:04.139Z"
   },
   {
    "duration": 21,
    "start_time": "2022-03-27T11:15:04.178Z"
   },
   {
    "duration": 29,
    "start_time": "2022-03-27T11:15:04.201Z"
   },
   {
    "duration": 11,
    "start_time": "2022-03-27T11:15:04.233Z"
   },
   {
    "duration": 24,
    "start_time": "2022-03-27T11:15:04.282Z"
   },
   {
    "duration": 36,
    "start_time": "2022-03-27T11:15:04.308Z"
   },
   {
    "duration": 17,
    "start_time": "2022-03-27T11:15:04.346Z"
   },
   {
    "duration": 21,
    "start_time": "2022-03-27T11:15:04.367Z"
   },
   {
    "duration": 17,
    "start_time": "2022-03-27T11:15:04.390Z"
   },
   {
    "duration": 17,
    "start_time": "2022-03-27T11:15:04.410Z"
   },
   {
    "duration": 134,
    "start_time": "2022-03-27T11:15:04.429Z"
   },
   {
    "duration": 4,
    "start_time": "2022-03-27T11:15:04.565Z"
   },
   {
    "duration": 3,
    "start_time": "2022-03-27T11:15:04.583Z"
   },
   {
    "duration": 20,
    "start_time": "2022-03-27T11:15:04.589Z"
   },
   {
    "duration": 95,
    "start_time": "2022-03-27T11:15:04.611Z"
   },
   {
    "duration": 28,
    "start_time": "2022-03-27T11:15:04.708Z"
   },
   {
    "duration": 22,
    "start_time": "2022-03-27T11:15:04.738Z"
   },
   {
    "duration": 37,
    "start_time": "2022-03-27T11:15:04.762Z"
   },
   {
    "duration": 13,
    "start_time": "2022-03-27T11:15:04.802Z"
   },
   {
    "duration": 12,
    "start_time": "2022-03-27T11:15:04.816Z"
   },
   {
    "duration": 11,
    "start_time": "2022-03-27T11:15:04.830Z"
   },
   {
    "duration": 41,
    "start_time": "2022-03-27T11:15:04.843Z"
   },
   {
    "duration": 16,
    "start_time": "2022-03-27T11:15:04.887Z"
   },
   {
    "duration": 8,
    "start_time": "2022-03-27T11:15:04.905Z"
   },
   {
    "duration": 31,
    "start_time": "2022-03-27T11:15:04.915Z"
   },
   {
    "duration": 45,
    "start_time": "2022-03-27T11:15:04.950Z"
   },
   {
    "duration": 23,
    "start_time": "2022-03-27T11:15:16.204Z"
   },
   {
    "duration": 13,
    "start_time": "2022-03-27T11:15:20.675Z"
   },
   {
    "duration": 5,
    "start_time": "2022-03-27T11:15:24.048Z"
   },
   {
    "duration": 13,
    "start_time": "2022-03-27T11:15:25.612Z"
   },
   {
    "duration": 13,
    "start_time": "2022-03-27T11:15:27.929Z"
   },
   {
    "duration": 11,
    "start_time": "2022-03-27T11:15:31.601Z"
   },
   {
    "duration": 5,
    "start_time": "2022-03-27T11:15:35.270Z"
   },
   {
    "duration": 12,
    "start_time": "2022-03-27T11:15:36.914Z"
   },
   {
    "duration": 13,
    "start_time": "2022-03-27T11:15:41.054Z"
   },
   {
    "duration": 7,
    "start_time": "2022-03-27T11:16:14.493Z"
   },
   {
    "duration": 12,
    "start_time": "2022-03-27T11:16:17.011Z"
   },
   {
    "duration": 14,
    "start_time": "2022-03-27T11:16:21.798Z"
   },
   {
    "duration": 7,
    "start_time": "2022-03-27T11:16:24.416Z"
   },
   {
    "duration": 11,
    "start_time": "2022-03-27T11:16:26.135Z"
   },
   {
    "duration": 32,
    "start_time": "2022-03-27T11:16:32.414Z"
   },
   {
    "duration": 32,
    "start_time": "2022-03-27T11:16:45.409Z"
   },
   {
    "duration": 13,
    "start_time": "2022-03-27T11:17:01.594Z"
   },
   {
    "duration": 26,
    "start_time": "2022-03-27T11:17:08.478Z"
   },
   {
    "duration": 13,
    "start_time": "2022-03-27T11:17:09.880Z"
   },
   {
    "duration": 519,
    "start_time": "2022-03-27T11:17:17.534Z"
   },
   {
    "duration": 438,
    "start_time": "2022-03-27T11:17:18.057Z"
   },
   {
    "duration": 33,
    "start_time": "2022-03-27T11:17:18.497Z"
   },
   {
    "duration": 20,
    "start_time": "2022-03-27T11:17:18.533Z"
   },
   {
    "duration": 38,
    "start_time": "2022-03-27T11:17:18.556Z"
   },
   {
    "duration": 17,
    "start_time": "2022-03-27T11:17:18.597Z"
   },
   {
    "duration": 34,
    "start_time": "2022-03-27T11:17:18.616Z"
   },
   {
    "duration": 15,
    "start_time": "2022-03-27T11:17:18.652Z"
   },
   {
    "duration": 22,
    "start_time": "2022-03-27T11:17:18.669Z"
   },
   {
    "duration": 28,
    "start_time": "2022-03-27T11:17:18.693Z"
   },
   {
    "duration": 21,
    "start_time": "2022-03-27T11:17:18.723Z"
   },
   {
    "duration": 26,
    "start_time": "2022-03-27T11:17:18.746Z"
   },
   {
    "duration": 111,
    "start_time": "2022-03-27T11:17:18.774Z"
   },
   {
    "duration": 6,
    "start_time": "2022-03-27T11:17:18.891Z"
   },
   {
    "duration": 20,
    "start_time": "2022-03-27T11:17:18.899Z"
   },
   {
    "duration": 24,
    "start_time": "2022-03-27T11:17:18.922Z"
   },
   {
    "duration": 88,
    "start_time": "2022-03-27T11:17:18.948Z"
   },
   {
    "duration": 30,
    "start_time": "2022-03-27T11:17:19.038Z"
   },
   {
    "duration": 31,
    "start_time": "2022-03-27T11:17:19.070Z"
   },
   {
    "duration": 28,
    "start_time": "2022-03-27T11:17:19.103Z"
   },
   {
    "duration": 14,
    "start_time": "2022-03-27T11:17:19.133Z"
   },
   {
    "duration": 33,
    "start_time": "2022-03-27T11:17:19.149Z"
   },
   {
    "duration": 11,
    "start_time": "2022-03-27T11:17:19.184Z"
   },
   {
    "duration": 10,
    "start_time": "2022-03-27T11:17:19.197Z"
   },
   {
    "duration": 16,
    "start_time": "2022-03-27T11:17:19.209Z"
   },
   {
    "duration": 15,
    "start_time": "2022-03-27T11:17:19.227Z"
   },
   {
    "duration": 44,
    "start_time": "2022-03-27T11:17:19.244Z"
   },
   {
    "duration": 30,
    "start_time": "2022-03-27T11:17:19.290Z"
   },
   {
    "duration": 37,
    "start_time": "2022-03-27T11:18:12.435Z"
   },
   {
    "duration": 13,
    "start_time": "2022-03-27T11:18:38.726Z"
   },
   {
    "duration": 35,
    "start_time": "2022-03-27T11:18:43.943Z"
   },
   {
    "duration": 36,
    "start_time": "2022-03-27T11:18:52.862Z"
   },
   {
    "duration": 20,
    "start_time": "2022-03-27T11:19:05.614Z"
   },
   {
    "duration": 34,
    "start_time": "2022-03-27T11:19:11.820Z"
   },
   {
    "duration": 5,
    "start_time": "2022-03-27T11:19:42.705Z"
   },
   {
    "duration": 38,
    "start_time": "2022-03-27T11:19:45.666Z"
   },
   {
    "duration": 9,
    "start_time": "2022-03-27T11:19:54.280Z"
   },
   {
    "duration": 34,
    "start_time": "2022-03-27T11:19:55.438Z"
   },
   {
    "duration": 22,
    "start_time": "2022-03-27T11:20:04.939Z"
   },
   {
    "duration": 21,
    "start_time": "2022-03-27T11:20:09.243Z"
   },
   {
    "duration": 6,
    "start_time": "2022-03-27T11:20:18.320Z"
   },
   {
    "duration": 23,
    "start_time": "2022-03-27T11:20:20.086Z"
   },
   {
    "duration": 7,
    "start_time": "2022-03-27T11:20:43.848Z"
   },
   {
    "duration": 5,
    "start_time": "2022-03-27T11:20:46.358Z"
   },
   {
    "duration": 26,
    "start_time": "2022-03-27T11:20:50.029Z"
   },
   {
    "duration": 32,
    "start_time": "2022-03-27T11:20:56.366Z"
   },
   {
    "duration": 6,
    "start_time": "2022-03-27T11:21:15.602Z"
   },
   {
    "duration": 13,
    "start_time": "2022-03-27T11:21:16.836Z"
   },
   {
    "duration": 11,
    "start_time": "2022-03-27T11:21:17.946Z"
   },
   {
    "duration": 28,
    "start_time": "2022-03-27T11:21:19.205Z"
   },
   {
    "duration": 17,
    "start_time": "2022-03-27T11:21:52.363Z"
   },
   {
    "duration": 16,
    "start_time": "2022-03-27T11:22:41.951Z"
   },
   {
    "duration": 15,
    "start_time": "2022-03-27T11:25:10.576Z"
   },
   {
    "duration": 6,
    "start_time": "2022-03-27T11:26:26.152Z"
   },
   {
    "duration": 28,
    "start_time": "2022-03-27T11:28:58.979Z"
   },
   {
    "duration": 522,
    "start_time": "2022-03-27T11:35:33.753Z"
   },
   {
    "duration": 471,
    "start_time": "2022-03-27T11:35:34.278Z"
   },
   {
    "duration": 33,
    "start_time": "2022-03-27T11:35:34.751Z"
   },
   {
    "duration": 41,
    "start_time": "2022-03-27T11:35:34.787Z"
   },
   {
    "duration": 38,
    "start_time": "2022-03-27T11:35:34.830Z"
   },
   {
    "duration": 33,
    "start_time": "2022-03-27T11:35:34.870Z"
   },
   {
    "duration": 59,
    "start_time": "2022-03-27T11:35:34.905Z"
   },
   {
    "duration": 51,
    "start_time": "2022-03-27T11:35:34.966Z"
   },
   {
    "duration": 31,
    "start_time": "2022-03-27T11:35:35.019Z"
   },
   {
    "duration": 47,
    "start_time": "2022-03-27T11:35:35.055Z"
   },
   {
    "duration": 31,
    "start_time": "2022-03-27T11:35:35.105Z"
   },
   {
    "duration": 41,
    "start_time": "2022-03-27T11:35:35.138Z"
   },
   {
    "duration": 132,
    "start_time": "2022-03-27T11:35:35.189Z"
   },
   {
    "duration": 6,
    "start_time": "2022-03-27T11:35:35.323Z"
   },
   {
    "duration": 46,
    "start_time": "2022-03-27T11:35:35.331Z"
   },
   {
    "duration": 35,
    "start_time": "2022-03-27T11:35:35.380Z"
   },
   {
    "duration": 108,
    "start_time": "2022-03-27T11:35:35.417Z"
   },
   {
    "duration": 27,
    "start_time": "2022-03-27T11:35:35.527Z"
   },
   {
    "duration": 42,
    "start_time": "2022-03-27T11:35:35.556Z"
   },
   {
    "duration": 35,
    "start_time": "2022-03-27T11:35:35.600Z"
   },
   {
    "duration": 17,
    "start_time": "2022-03-27T11:35:35.637Z"
   },
   {
    "duration": 38,
    "start_time": "2022-03-27T11:35:35.656Z"
   },
   {
    "duration": 32,
    "start_time": "2022-03-27T11:35:35.696Z"
   },
   {
    "duration": 35,
    "start_time": "2022-03-27T11:35:35.730Z"
   },
   {
    "duration": 40,
    "start_time": "2022-03-27T11:35:35.767Z"
   },
   {
    "duration": 33,
    "start_time": "2022-03-27T11:35:35.809Z"
   },
   {
    "duration": 29,
    "start_time": "2022-03-27T11:35:35.844Z"
   },
   {
    "duration": 38,
    "start_time": "2022-03-27T11:35:35.877Z"
   },
   {
    "duration": 32,
    "start_time": "2022-03-27T11:35:35.918Z"
   },
   {
    "duration": 642,
    "start_time": "2022-03-27T11:36:20.754Z"
   },
   {
    "duration": 47,
    "start_time": "2022-03-27T11:37:40.685Z"
   },
   {
    "duration": 39,
    "start_time": "2022-03-27T11:38:07.328Z"
   },
   {
    "duration": 487,
    "start_time": "2022-03-27T11:39:06.384Z"
   },
   {
    "duration": 50,
    "start_time": "2022-03-27T11:39:09.571Z"
   },
   {
    "duration": 653,
    "start_time": "2022-03-27T11:42:23.345Z"
   },
   {
    "duration": 158,
    "start_time": "2022-03-27T11:52:49.095Z"
   },
   {
    "duration": 39,
    "start_time": "2022-03-27T11:53:39.031Z"
   },
   {
    "duration": 99,
    "start_time": "2022-03-27T11:53:45.268Z"
   },
   {
    "duration": 85,
    "start_time": "2022-03-27T11:54:49.665Z"
   },
   {
    "duration": 87,
    "start_time": "2022-03-27T11:54:56.538Z"
   },
   {
    "duration": 34,
    "start_time": "2022-03-27T11:56:19.237Z"
   },
   {
    "duration": 182,
    "start_time": "2022-03-27T12:00:18.145Z"
   },
   {
    "duration": 90,
    "start_time": "2022-03-27T12:00:23.439Z"
   },
   {
    "duration": 46,
    "start_time": "2022-03-27T12:01:14.996Z"
   },
   {
    "duration": 44,
    "start_time": "2022-03-27T12:01:23.212Z"
   },
   {
    "duration": 139,
    "start_time": "2022-03-27T12:01:42.462Z"
   },
   {
    "duration": 51,
    "start_time": "2022-03-27T12:01:51.533Z"
   },
   {
    "duration": 151,
    "start_time": "2022-03-27T12:02:36.518Z"
   },
   {
    "duration": 156,
    "start_time": "2022-03-27T12:02:45.480Z"
   },
   {
    "duration": 159,
    "start_time": "2022-03-27T12:02:59.237Z"
   },
   {
    "duration": 86,
    "start_time": "2022-03-27T12:03:19.334Z"
   },
   {
    "duration": 127,
    "start_time": "2022-03-27T12:03:36.036Z"
   },
   {
    "duration": 39,
    "start_time": "2022-03-27T12:05:20.203Z"
   },
   {
    "duration": 99,
    "start_time": "2022-03-27T12:06:19.433Z"
   },
   {
    "duration": 1300,
    "start_time": "2022-03-27T15:23:59.152Z"
   },
   {
    "duration": 366,
    "start_time": "2022-03-27T15:24:01.560Z"
   },
   {
    "duration": 1057,
    "start_time": "2022-03-27T15:24:13.401Z"
   },
   {
    "duration": 338,
    "start_time": "2022-03-27T15:24:14.460Z"
   },
   {
    "duration": 25,
    "start_time": "2022-03-27T15:24:14.800Z"
   },
   {
    "duration": 9,
    "start_time": "2022-03-27T15:24:14.827Z"
   },
   {
    "duration": 25,
    "start_time": "2022-03-27T15:24:14.838Z"
   },
   {
    "duration": 7,
    "start_time": "2022-03-27T15:24:14.864Z"
   },
   {
    "duration": 20,
    "start_time": "2022-03-27T15:24:14.873Z"
   },
   {
    "duration": 8,
    "start_time": "2022-03-27T15:24:14.894Z"
   },
   {
    "duration": 13,
    "start_time": "2022-03-27T15:24:14.903Z"
   },
   {
    "duration": 8,
    "start_time": "2022-03-27T15:24:14.917Z"
   },
   {
    "duration": 11,
    "start_time": "2022-03-27T15:24:14.926Z"
   },
   {
    "duration": 31,
    "start_time": "2022-03-27T15:24:14.938Z"
   },
   {
    "duration": 79,
    "start_time": "2022-03-27T15:24:14.971Z"
   },
   {
    "duration": 4,
    "start_time": "2022-03-27T15:24:15.065Z"
   },
   {
    "duration": 7,
    "start_time": "2022-03-27T15:24:15.071Z"
   },
   {
    "duration": 8,
    "start_time": "2022-03-27T15:24:15.079Z"
   },
   {
    "duration": 54,
    "start_time": "2022-03-27T15:24:15.089Z"
   },
   {
    "duration": 33,
    "start_time": "2022-03-27T15:24:15.145Z"
   },
   {
    "duration": 17,
    "start_time": "2022-03-27T15:24:15.179Z"
   },
   {
    "duration": 15,
    "start_time": "2022-03-27T15:24:15.198Z"
   },
   {
    "duration": 9,
    "start_time": "2022-03-27T15:24:15.214Z"
   },
   {
    "duration": 14,
    "start_time": "2022-03-27T15:24:15.225Z"
   },
   {
    "duration": 28,
    "start_time": "2022-03-27T15:24:15.241Z"
   },
   {
    "duration": 7,
    "start_time": "2022-03-27T15:24:15.271Z"
   },
   {
    "duration": 8,
    "start_time": "2022-03-27T15:24:15.280Z"
   },
   {
    "duration": 13,
    "start_time": "2022-03-27T15:24:15.290Z"
   },
   {
    "duration": 5,
    "start_time": "2022-03-27T15:24:15.305Z"
   },
   {
    "duration": 6,
    "start_time": "2022-03-27T15:24:15.312Z"
   },
   {
    "duration": 12,
    "start_time": "2022-03-27T15:24:15.319Z"
   },
   {
    "duration": 101,
    "start_time": "2022-03-27T15:24:15.332Z"
   },
   {
    "duration": 56,
    "start_time": "2022-03-27T15:26:07.022Z"
   },
   {
    "duration": 103,
    "start_time": "2022-03-27T15:26:33.044Z"
   },
   {
    "duration": 52,
    "start_time": "2022-03-27T15:26:40.088Z"
   },
   {
    "duration": 53,
    "start_time": "2022-03-27T15:27:06.622Z"
   },
   {
    "duration": 112,
    "start_time": "2022-03-27T15:27:29.633Z"
   },
   {
    "duration": 52,
    "start_time": "2022-03-27T15:27:38.044Z"
   },
   {
    "duration": 29,
    "start_time": "2022-03-27T15:29:09.508Z"
   },
   {
    "duration": 839,
    "start_time": "2022-03-27T15:29:35.834Z"
   },
   {
    "duration": 677,
    "start_time": "2022-03-27T15:29:43.270Z"
   },
   {
    "duration": 12,
    "start_time": "2022-03-27T15:32:02.058Z"
   },
   {
    "duration": 3,
    "start_time": "2022-03-27T15:32:18.970Z"
   },
   {
    "duration": 16,
    "start_time": "2022-03-27T15:32:25.833Z"
   },
   {
    "duration": 12,
    "start_time": "2022-03-27T15:33:31.515Z"
   },
   {
    "duration": 12,
    "start_time": "2022-03-27T15:34:07.743Z"
   },
   {
    "duration": 12,
    "start_time": "2022-03-27T15:34:31.348Z"
   },
   {
    "duration": 20,
    "start_time": "2022-03-27T15:34:58.579Z"
   },
   {
    "duration": 106,
    "start_time": "2022-03-27T15:35:03.090Z"
   },
   {
    "duration": 12,
    "start_time": "2022-03-27T15:35:57.813Z"
   },
   {
    "duration": 13,
    "start_time": "2022-03-27T15:37:22.403Z"
   },
   {
    "duration": 3,
    "start_time": "2022-03-27T15:38:40.018Z"
   },
   {
    "duration": 5,
    "start_time": "2022-03-27T15:40:43.663Z"
   },
   {
    "duration": 10,
    "start_time": "2022-03-27T15:40:45.059Z"
   },
   {
    "duration": 20,
    "start_time": "2022-03-27T15:46:25.725Z"
   },
   {
    "duration": 18,
    "start_time": "2022-03-27T15:47:16.061Z"
   },
   {
    "duration": 6,
    "start_time": "2022-03-27T15:47:49.529Z"
   },
   {
    "duration": 97,
    "start_time": "2022-03-27T15:48:13.552Z"
   },
   {
    "duration": 7,
    "start_time": "2022-03-27T15:49:39.519Z"
   },
   {
    "duration": 12,
    "start_time": "2022-03-27T15:50:55.221Z"
   },
   {
    "duration": 11,
    "start_time": "2022-03-27T15:51:12.948Z"
   },
   {
    "duration": 11,
    "start_time": "2022-03-27T15:51:16.210Z"
   },
   {
    "duration": 11,
    "start_time": "2022-03-27T15:51:26.200Z"
   },
   {
    "duration": 12,
    "start_time": "2022-03-27T15:52:07.730Z"
   },
   {
    "duration": 16,
    "start_time": "2022-03-27T15:53:18.924Z"
   },
   {
    "duration": 17,
    "start_time": "2022-03-27T15:53:20.548Z"
   },
   {
    "duration": 15,
    "start_time": "2022-03-27T15:53:39.957Z"
   },
   {
    "duration": 15,
    "start_time": "2022-03-27T15:54:29.961Z"
   },
   {
    "duration": 15,
    "start_time": "2022-03-27T15:54:48.891Z"
   },
   {
    "duration": 16,
    "start_time": "2022-03-27T15:55:09.157Z"
   },
   {
    "duration": 680,
    "start_time": "2022-03-27T15:55:45.343Z"
   },
   {
    "duration": 19,
    "start_time": "2022-03-27T15:57:18.167Z"
   },
   {
    "duration": 18,
    "start_time": "2022-03-27T15:57:47.007Z"
   },
   {
    "duration": 17,
    "start_time": "2022-03-27T15:57:48.590Z"
   },
   {
    "duration": 3,
    "start_time": "2022-03-27T16:01:07.816Z"
   },
   {
    "duration": 169,
    "start_time": "2022-03-27T16:01:19.340Z"
   },
   {
    "duration": 130,
    "start_time": "2022-03-27T16:01:52.989Z"
   },
   {
    "duration": 125,
    "start_time": "2022-03-27T16:02:07.983Z"
   },
   {
    "duration": 130,
    "start_time": "2022-03-27T16:02:13.830Z"
   },
   {
    "duration": 130,
    "start_time": "2022-03-27T16:02:18.792Z"
   },
   {
    "duration": 129,
    "start_time": "2022-03-27T16:02:21.781Z"
   },
   {
    "duration": 134,
    "start_time": "2022-03-27T16:02:41.178Z"
   },
   {
    "duration": 231,
    "start_time": "2022-03-27T16:02:58.153Z"
   },
   {
    "duration": 140,
    "start_time": "2022-03-27T16:03:03.587Z"
   },
   {
    "duration": 1766,
    "start_time": "2022-03-28T06:23:37.324Z"
   },
   {
    "duration": 526,
    "start_time": "2022-03-28T06:23:39.093Z"
   },
   {
    "duration": 41,
    "start_time": "2022-03-28T06:23:39.621Z"
   },
   {
    "duration": 17,
    "start_time": "2022-03-28T06:23:39.664Z"
   },
   {
    "duration": 32,
    "start_time": "2022-03-28T06:23:39.684Z"
   },
   {
    "duration": 11,
    "start_time": "2022-03-28T06:23:39.719Z"
   },
   {
    "duration": 60,
    "start_time": "2022-03-28T06:23:39.733Z"
   },
   {
    "duration": 15,
    "start_time": "2022-03-28T06:23:39.796Z"
   },
   {
    "duration": 18,
    "start_time": "2022-03-28T06:23:39.814Z"
   },
   {
    "duration": 45,
    "start_time": "2022-03-28T06:23:39.836Z"
   },
   {
    "duration": 15,
    "start_time": "2022-03-28T06:23:39.883Z"
   },
   {
    "duration": 16,
    "start_time": "2022-03-28T06:23:39.899Z"
   },
   {
    "duration": 146,
    "start_time": "2022-03-28T06:23:39.917Z"
   },
   {
    "duration": 11,
    "start_time": "2022-03-28T06:23:40.066Z"
   },
   {
    "duration": 11,
    "start_time": "2022-03-28T06:23:40.079Z"
   },
   {
    "duration": 30,
    "start_time": "2022-03-28T06:23:40.093Z"
   },
   {
    "duration": 88,
    "start_time": "2022-03-28T06:23:40.125Z"
   },
   {
    "duration": 29,
    "start_time": "2022-03-28T06:23:40.215Z"
   },
   {
    "duration": 40,
    "start_time": "2022-03-28T06:23:40.246Z"
   },
   {
    "duration": 21,
    "start_time": "2022-03-28T06:23:40.288Z"
   },
   {
    "duration": 14,
    "start_time": "2022-03-28T06:23:40.311Z"
   },
   {
    "duration": 19,
    "start_time": "2022-03-28T06:23:40.327Z"
   },
   {
    "duration": 36,
    "start_time": "2022-03-28T06:23:40.348Z"
   },
   {
    "duration": 9,
    "start_time": "2022-03-28T06:23:40.387Z"
   },
   {
    "duration": 7,
    "start_time": "2022-03-28T06:23:40.398Z"
   },
   {
    "duration": 14,
    "start_time": "2022-03-28T06:23:40.407Z"
   },
   {
    "duration": 9,
    "start_time": "2022-03-28T06:23:40.423Z"
   },
   {
    "duration": 39,
    "start_time": "2022-03-28T06:23:40.437Z"
   },
   {
    "duration": 26,
    "start_time": "2022-03-28T06:23:40.478Z"
   },
   {
    "duration": 35,
    "start_time": "2022-03-28T06:23:40.509Z"
   },
   {
    "duration": 55,
    "start_time": "2022-03-28T06:23:40.547Z"
   },
   {
    "duration": 29,
    "start_time": "2022-03-28T06:23:40.605Z"
   },
   {
    "duration": 326,
    "start_time": "2022-03-28T06:23:40.675Z"
   },
   {
    "duration": 1749,
    "start_time": "2022-03-28T06:23:41.003Z"
   },
   {
    "duration": 2139,
    "start_time": "2022-03-28T12:58:32.741Z"
   },
   {
    "duration": 699,
    "start_time": "2022-03-28T12:58:34.884Z"
   },
   {
    "duration": 36,
    "start_time": "2022-03-28T12:58:35.585Z"
   },
   {
    "duration": 17,
    "start_time": "2022-03-28T12:58:35.624Z"
   },
   {
    "duration": 45,
    "start_time": "2022-03-28T12:58:35.643Z"
   },
   {
    "duration": 11,
    "start_time": "2022-03-28T12:58:35.690Z"
   },
   {
    "duration": 25,
    "start_time": "2022-03-28T12:58:35.703Z"
   },
   {
    "duration": 42,
    "start_time": "2022-03-28T12:58:35.731Z"
   },
   {
    "duration": 15,
    "start_time": "2022-03-28T12:58:35.776Z"
   },
   {
    "duration": 11,
    "start_time": "2022-03-28T12:58:35.796Z"
   },
   {
    "duration": 17,
    "start_time": "2022-03-28T12:58:35.809Z"
   },
   {
    "duration": 14,
    "start_time": "2022-03-28T12:58:35.868Z"
   },
   {
    "duration": 134,
    "start_time": "2022-03-28T12:58:35.884Z"
   },
   {
    "duration": 8,
    "start_time": "2022-03-28T12:58:36.020Z"
   },
   {
    "duration": 7,
    "start_time": "2022-03-28T12:58:36.030Z"
   },
   {
    "duration": 35,
    "start_time": "2022-03-28T12:58:36.040Z"
   },
   {
    "duration": 107,
    "start_time": "2022-03-28T12:58:36.078Z"
   },
   {
    "duration": 32,
    "start_time": "2022-03-28T12:58:36.188Z"
   },
   {
    "duration": 24,
    "start_time": "2022-03-28T12:58:36.222Z"
   },
   {
    "duration": 26,
    "start_time": "2022-03-28T12:58:36.268Z"
   },
   {
    "duration": 16,
    "start_time": "2022-03-28T12:58:36.296Z"
   },
   {
    "duration": 12,
    "start_time": "2022-03-28T12:58:36.314Z"
   },
   {
    "duration": 40,
    "start_time": "2022-03-28T12:58:36.328Z"
   },
   {
    "duration": 8,
    "start_time": "2022-03-28T12:58:36.371Z"
   },
   {
    "duration": 7,
    "start_time": "2022-03-28T12:58:36.382Z"
   },
   {
    "duration": 17,
    "start_time": "2022-03-28T12:58:36.392Z"
   },
   {
    "duration": 9,
    "start_time": "2022-03-28T12:58:36.412Z"
   },
   {
    "duration": 7,
    "start_time": "2022-03-28T12:58:36.469Z"
   },
   {
    "duration": 22,
    "start_time": "2022-03-28T12:58:36.478Z"
   },
   {
    "duration": 36,
    "start_time": "2022-03-28T12:58:36.502Z"
   },
   {
    "duration": 51,
    "start_time": "2022-03-28T12:58:36.540Z"
   },
   {
    "duration": 75,
    "start_time": "2022-03-28T12:58:36.594Z"
   },
   {
    "duration": 591,
    "start_time": "2022-03-28T12:58:36.671Z"
   },
   {
    "duration": 1035,
    "start_time": "2022-03-28T12:58:37.268Z"
   },
   {
    "duration": 354,
    "start_time": "2022-03-28T12:58:41.852Z"
   },
   {
    "duration": 361,
    "start_time": "2022-03-28T12:58:46.901Z"
   },
   {
    "duration": 380,
    "start_time": "2022-03-28T12:58:50.801Z"
   },
   {
    "duration": 555,
    "start_time": "2022-03-28T12:59:24.625Z"
   },
   {
    "duration": 417,
    "start_time": "2022-03-28T12:59:53.008Z"
   },
   {
    "duration": 284,
    "start_time": "2022-03-28T13:00:16.400Z"
   },
   {
    "duration": 644,
    "start_time": "2022-03-28T13:00:21.528Z"
   },
   {
    "duration": 721,
    "start_time": "2022-03-28T13:00:37.393Z"
   },
   {
    "duration": 749,
    "start_time": "2022-03-28T13:01:42.019Z"
   },
   {
    "duration": 756,
    "start_time": "2022-03-28T13:02:01.915Z"
   },
   {
    "duration": 818,
    "start_time": "2022-03-28T13:02:06.486Z"
   },
   {
    "duration": 93,
    "start_time": "2022-03-28T13:02:35.785Z"
   },
   {
    "duration": 322,
    "start_time": "2022-03-28T13:02:49.172Z"
   },
   {
    "duration": 496,
    "start_time": "2022-03-28T13:03:40.098Z"
   },
   {
    "duration": 498,
    "start_time": "2022-03-28T13:03:58.123Z"
   },
   {
    "duration": 366,
    "start_time": "2022-03-28T13:04:09.189Z"
   },
   {
    "duration": 770,
    "start_time": "2022-03-28T13:04:17.044Z"
   },
   {
    "duration": 1277,
    "start_time": "2022-03-28T13:05:05.144Z"
   },
   {
    "duration": 1532,
    "start_time": "2022-03-28T13:05:43.139Z"
   },
   {
    "duration": 773,
    "start_time": "2022-03-28T13:06:17.207Z"
   },
   {
    "duration": 340,
    "start_time": "2022-03-28T13:06:25.393Z"
   },
   {
    "duration": 604,
    "start_time": "2022-03-28T13:06:38.201Z"
   },
   {
    "duration": 515,
    "start_time": "2022-03-28T13:06:40.661Z"
   },
   {
    "duration": 525,
    "start_time": "2022-03-28T13:07:13.997Z"
   },
   {
    "duration": 643,
    "start_time": "2022-03-28T13:07:40.694Z"
   },
   {
    "duration": 283,
    "start_time": "2022-03-28T13:08:05.835Z"
   },
   {
    "duration": 274,
    "start_time": "2022-03-28T13:08:10.010Z"
   },
   {
    "duration": 293,
    "start_time": "2022-03-28T13:08:14.661Z"
   },
   {
    "duration": 381,
    "start_time": "2022-03-28T13:08:24.021Z"
   },
   {
    "duration": 509,
    "start_time": "2022-03-28T13:09:48.173Z"
   },
   {
    "duration": 410,
    "start_time": "2022-03-28T13:09:51.968Z"
   },
   {
    "duration": 505,
    "start_time": "2022-03-28T13:09:56.855Z"
   },
   {
    "duration": 513,
    "start_time": "2022-03-28T13:10:01.844Z"
   },
   {
    "duration": 522,
    "start_time": "2022-03-28T13:10:06.580Z"
   },
   {
    "duration": 885,
    "start_time": "2022-03-28T13:10:16.913Z"
   },
   {
    "duration": 556,
    "start_time": "2022-03-28T13:10:24.175Z"
   },
   {
    "duration": 14,
    "start_time": "2022-03-28T13:21:11.726Z"
   },
   {
    "duration": 4,
    "start_time": "2022-03-28T13:21:55.542Z"
   },
   {
    "duration": 13,
    "start_time": "2022-03-28T13:22:25.361Z"
   },
   {
    "duration": 16,
    "start_time": "2022-03-28T13:23:46.703Z"
   },
   {
    "duration": 21,
    "start_time": "2022-03-28T13:28:12.848Z"
   },
   {
    "duration": 16,
    "start_time": "2022-03-28T13:28:19.556Z"
   },
   {
    "duration": 1486,
    "start_time": "2022-03-28T13:33:47.261Z"
   },
   {
    "duration": 764,
    "start_time": "2022-03-28T13:33:48.749Z"
   },
   {
    "duration": 61,
    "start_time": "2022-03-28T13:33:49.516Z"
   },
   {
    "duration": 23,
    "start_time": "2022-03-28T13:33:49.581Z"
   },
   {
    "duration": 31,
    "start_time": "2022-03-28T13:33:49.607Z"
   },
   {
    "duration": 37,
    "start_time": "2022-03-28T13:33:49.640Z"
   },
   {
    "duration": 51,
    "start_time": "2022-03-28T13:33:49.680Z"
   },
   {
    "duration": 44,
    "start_time": "2022-03-28T13:33:49.734Z"
   },
   {
    "duration": 21,
    "start_time": "2022-03-28T13:33:49.781Z"
   },
   {
    "duration": 17,
    "start_time": "2022-03-28T13:33:49.807Z"
   },
   {
    "duration": 53,
    "start_time": "2022-03-28T13:33:49.827Z"
   },
   {
    "duration": 19,
    "start_time": "2022-03-28T13:33:49.882Z"
   },
   {
    "duration": 199,
    "start_time": "2022-03-28T13:33:49.904Z"
   },
   {
    "duration": 7,
    "start_time": "2022-03-28T13:33:50.107Z"
   },
   {
    "duration": 13,
    "start_time": "2022-03-28T13:33:50.116Z"
   },
   {
    "duration": 35,
    "start_time": "2022-03-28T13:33:50.132Z"
   },
   {
    "duration": 72,
    "start_time": "2022-03-28T13:33:50.170Z"
   },
   {
    "duration": 51,
    "start_time": "2022-03-28T13:33:50.244Z"
   },
   {
    "duration": 27,
    "start_time": "2022-03-28T13:33:50.297Z"
   },
   {
    "duration": 48,
    "start_time": "2022-03-28T13:33:50.326Z"
   },
   {
    "duration": 20,
    "start_time": "2022-03-28T13:33:50.377Z"
   },
   {
    "duration": 15,
    "start_time": "2022-03-28T13:33:50.400Z"
   },
   {
    "duration": 16,
    "start_time": "2022-03-28T13:33:50.418Z"
   },
   {
    "duration": 37,
    "start_time": "2022-03-28T13:33:50.437Z"
   },
   {
    "duration": 11,
    "start_time": "2022-03-28T13:33:50.476Z"
   },
   {
    "duration": 14,
    "start_time": "2022-03-28T13:33:50.489Z"
   },
   {
    "duration": 9,
    "start_time": "2022-03-28T13:33:50.505Z"
   },
   {
    "duration": 50,
    "start_time": "2022-03-28T13:33:50.518Z"
   },
   {
    "duration": 23,
    "start_time": "2022-03-28T13:33:50.570Z"
   },
   {
    "duration": 42,
    "start_time": "2022-03-28T13:33:50.596Z"
   },
   {
    "duration": 29,
    "start_time": "2022-03-28T13:33:50.668Z"
   },
   {
    "duration": 73,
    "start_time": "2022-03-28T13:33:50.700Z"
   },
   {
    "duration": 757,
    "start_time": "2022-03-28T13:33:50.775Z"
   },
   {
    "duration": 815,
    "start_time": "2022-03-28T13:33:51.535Z"
   },
   {
    "duration": 849,
    "start_time": "2022-03-28T13:33:52.352Z"
   },
   {
    "duration": 22,
    "start_time": "2022-03-28T13:33:53.204Z"
   },
   {
    "duration": 41,
    "start_time": "2022-03-28T13:33:53.228Z"
   },
   {
    "duration": 10,
    "start_time": "2022-03-28T13:38:09.424Z"
   },
   {
    "duration": 7,
    "start_time": "2022-03-28T13:38:22.760Z"
   },
   {
    "duration": 1528,
    "start_time": "2022-03-28T13:38:31.839Z"
   },
   {
    "duration": 505,
    "start_time": "2022-03-28T13:38:33.371Z"
   },
   {
    "duration": 36,
    "start_time": "2022-03-28T13:38:33.878Z"
   },
   {
    "duration": 15,
    "start_time": "2022-03-28T13:38:33.917Z"
   },
   {
    "duration": 52,
    "start_time": "2022-03-28T13:38:33.935Z"
   },
   {
    "duration": 13,
    "start_time": "2022-03-28T13:38:33.990Z"
   },
   {
    "duration": 28,
    "start_time": "2022-03-28T13:38:34.005Z"
   },
   {
    "duration": 41,
    "start_time": "2022-03-28T13:38:34.035Z"
   },
   {
    "duration": 19,
    "start_time": "2022-03-28T13:38:34.079Z"
   },
   {
    "duration": 15,
    "start_time": "2022-03-28T13:38:34.100Z"
   },
   {
    "duration": 50,
    "start_time": "2022-03-28T13:38:34.118Z"
   },
   {
    "duration": 16,
    "start_time": "2022-03-28T13:38:34.171Z"
   },
   {
    "duration": 122,
    "start_time": "2022-03-28T13:38:34.189Z"
   },
   {
    "duration": 9,
    "start_time": "2022-03-28T13:38:34.315Z"
   },
   {
    "duration": 5,
    "start_time": "2022-03-28T13:38:34.326Z"
   },
   {
    "duration": 7,
    "start_time": "2022-03-28T13:38:34.333Z"
   },
   {
    "duration": 32,
    "start_time": "2022-03-28T13:38:34.342Z"
   },
   {
    "duration": 69,
    "start_time": "2022-03-28T13:38:34.376Z"
   },
   {
    "duration": 45,
    "start_time": "2022-03-28T13:38:34.447Z"
   },
   {
    "duration": 24,
    "start_time": "2022-03-28T13:38:34.495Z"
   },
   {
    "duration": 46,
    "start_time": "2022-03-28T13:38:34.521Z"
   },
   {
    "duration": 13,
    "start_time": "2022-03-28T13:38:34.570Z"
   },
   {
    "duration": 12,
    "start_time": "2022-03-28T13:38:34.585Z"
   },
   {
    "duration": 10,
    "start_time": "2022-03-28T13:38:34.599Z"
   },
   {
    "duration": 9,
    "start_time": "2022-03-28T13:38:34.611Z"
   },
   {
    "duration": 8,
    "start_time": "2022-03-28T13:38:34.621Z"
   },
   {
    "duration": 15,
    "start_time": "2022-03-28T13:38:34.667Z"
   },
   {
    "duration": 10,
    "start_time": "2022-03-28T13:38:34.684Z"
   },
   {
    "duration": 8,
    "start_time": "2022-03-28T13:38:34.697Z"
   },
   {
    "duration": 19,
    "start_time": "2022-03-28T13:38:34.708Z"
   },
   {
    "duration": 38,
    "start_time": "2022-03-28T13:38:34.768Z"
   },
   {
    "duration": 61,
    "start_time": "2022-03-28T13:38:34.808Z"
   },
   {
    "duration": 26,
    "start_time": "2022-03-28T13:38:34.871Z"
   },
   {
    "duration": 538,
    "start_time": "2022-03-28T13:38:34.899Z"
   },
   {
    "duration": 509,
    "start_time": "2022-03-28T13:38:35.440Z"
   },
   {
    "duration": 554,
    "start_time": "2022-03-28T13:38:35.952Z"
   },
   {
    "duration": 15,
    "start_time": "2022-03-28T13:38:36.509Z"
   },
   {
    "duration": 18,
    "start_time": "2022-03-28T13:38:36.526Z"
   },
   {
    "duration": 9,
    "start_time": "2022-03-28T13:39:15.317Z"
   },
   {
    "duration": 1516,
    "start_time": "2022-03-28T13:39:20.304Z"
   },
   {
    "duration": 514,
    "start_time": "2022-03-28T13:39:21.823Z"
   },
   {
    "duration": 35,
    "start_time": "2022-03-28T13:39:22.367Z"
   },
   {
    "duration": 68,
    "start_time": "2022-03-28T13:39:22.405Z"
   },
   {
    "duration": 101,
    "start_time": "2022-03-28T13:39:22.475Z"
   },
   {
    "duration": 16,
    "start_time": "2022-03-28T13:39:22.579Z"
   },
   {
    "duration": 87,
    "start_time": "2022-03-28T13:39:22.597Z"
   },
   {
    "duration": 19,
    "start_time": "2022-03-28T13:39:22.686Z"
   },
   {
    "duration": 69,
    "start_time": "2022-03-28T13:39:22.709Z"
   },
   {
    "duration": 11,
    "start_time": "2022-03-28T13:39:22.783Z"
   },
   {
    "duration": 14,
    "start_time": "2022-03-28T13:39:22.797Z"
   },
   {
    "duration": 14,
    "start_time": "2022-03-28T13:39:22.868Z"
   },
   {
    "duration": 215,
    "start_time": "2022-03-28T13:39:22.885Z"
   },
   {
    "duration": 9,
    "start_time": "2022-03-28T13:39:23.102Z"
   },
   {
    "duration": 5,
    "start_time": "2022-03-28T13:39:23.167Z"
   },
   {
    "duration": 8,
    "start_time": "2022-03-28T13:39:23.174Z"
   },
   {
    "duration": 12,
    "start_time": "2022-03-28T13:39:23.184Z"
   },
   {
    "duration": 171,
    "start_time": "2022-03-28T13:39:23.199Z"
   },
   {
    "duration": 28,
    "start_time": "2022-03-28T13:39:23.373Z"
   },
   {
    "duration": 71,
    "start_time": "2022-03-28T13:39:23.404Z"
   },
   {
    "duration": 23,
    "start_time": "2022-03-28T13:39:23.477Z"
   },
   {
    "duration": 68,
    "start_time": "2022-03-28T13:39:23.503Z"
   },
   {
    "duration": 12,
    "start_time": "2022-03-28T13:39:23.573Z"
   },
   {
    "duration": 11,
    "start_time": "2022-03-28T13:39:23.587Z"
   },
   {
    "duration": 8,
    "start_time": "2022-03-28T13:39:23.600Z"
   },
   {
    "duration": 60,
    "start_time": "2022-03-28T13:39:23.610Z"
   },
   {
    "duration": 14,
    "start_time": "2022-03-28T13:39:23.672Z"
   },
   {
    "duration": 8,
    "start_time": "2022-03-28T13:39:23.690Z"
   },
   {
    "duration": 8,
    "start_time": "2022-03-28T13:39:23.700Z"
   },
   {
    "duration": 70,
    "start_time": "2022-03-28T13:39:23.711Z"
   },
   {
    "duration": 86,
    "start_time": "2022-03-28T13:39:23.783Z"
   },
   {
    "duration": 26,
    "start_time": "2022-03-28T13:39:23.871Z"
   },
   {
    "duration": 83,
    "start_time": "2022-03-28T13:39:23.899Z"
   },
   {
    "duration": 996,
    "start_time": "2022-03-28T13:39:23.984Z"
   },
   {
    "duration": 1000,
    "start_time": "2022-03-28T13:39:24.982Z"
   },
   {
    "duration": 1018,
    "start_time": "2022-03-28T13:39:25.985Z"
   },
   {
    "duration": 71,
    "start_time": "2022-03-28T13:39:27.006Z"
   },
   {
    "duration": 21,
    "start_time": "2022-03-28T13:39:27.080Z"
   },
   {
    "duration": 1372,
    "start_time": "2022-03-28T17:45:17.253Z"
   },
   {
    "duration": 2811,
    "start_time": "2022-03-28T17:45:19.487Z"
   },
   {
    "duration": 46,
    "start_time": "2022-03-28T17:45:23.127Z"
   },
   {
    "duration": 47,
    "start_time": "2022-03-28T17:45:24.727Z"
   },
   {
    "duration": 23,
    "start_time": "2022-03-28T17:45:35.049Z"
   },
   {
    "duration": 23,
    "start_time": "2022-03-28T17:48:38.396Z"
   },
   {
    "duration": 105,
    "start_time": "2022-03-28T17:49:30.451Z"
   },
   {
    "duration": 471,
    "start_time": "2022-03-28T17:49:39.408Z"
   },
   {
    "duration": 21,
    "start_time": "2022-03-28T17:50:03.546Z"
   },
   {
    "duration": 53,
    "start_time": "2022-03-28T17:51:04.793Z"
   },
   {
    "duration": 52,
    "start_time": "2022-03-28T17:51:11.670Z"
   },
   {
    "duration": 142,
    "start_time": "2022-03-28T17:53:18.343Z"
   },
   {
    "duration": 143,
    "start_time": "2022-03-28T17:53:39.772Z"
   },
   {
    "duration": 57,
    "start_time": "2022-03-28T17:53:49.440Z"
   },
   {
    "duration": 11,
    "start_time": "2022-03-28T17:53:59.455Z"
   },
   {
    "duration": 15,
    "start_time": "2022-03-28T17:54:12.026Z"
   },
   {
    "duration": 1455,
    "start_time": "2022-03-28T17:54:56.384Z"
   },
   {
    "duration": 551,
    "start_time": "2022-03-28T17:54:57.841Z"
   },
   {
    "duration": 44,
    "start_time": "2022-03-28T17:54:58.394Z"
   },
   {
    "duration": 135,
    "start_time": "2022-03-28T17:54:58.440Z"
   },
   {
    "duration": 10,
    "start_time": "2022-03-28T17:54:58.577Z"
   },
   {
    "duration": 23,
    "start_time": "2022-03-28T17:54:58.600Z"
   },
   {
    "duration": 104,
    "start_time": "2022-03-28T17:54:58.624Z"
   },
   {
    "duration": 7,
    "start_time": "2022-03-28T17:54:58.730Z"
   },
   {
    "duration": 40,
    "start_time": "2022-03-28T17:54:58.739Z"
   },
   {
    "duration": 74,
    "start_time": "2022-03-28T17:54:58.783Z"
   },
   {
    "duration": 10,
    "start_time": "2022-03-28T17:54:58.859Z"
   },
   {
    "duration": 36,
    "start_time": "2022-03-28T17:54:58.871Z"
   },
   {
    "duration": 13,
    "start_time": "2022-03-28T17:54:58.909Z"
   },
   {
    "duration": 36,
    "start_time": "2022-03-28T17:54:58.923Z"
   },
   {
    "duration": 28,
    "start_time": "2022-03-28T17:54:58.960Z"
   },
   {
    "duration": 21,
    "start_time": "2022-03-28T17:54:58.990Z"
   },
   {
    "duration": 21,
    "start_time": "2022-03-28T17:54:59.013Z"
   },
   {
    "duration": 127,
    "start_time": "2022-03-28T17:54:59.036Z"
   },
   {
    "duration": 8,
    "start_time": "2022-03-28T17:54:59.165Z"
   },
   {
    "duration": 5,
    "start_time": "2022-03-28T17:54:59.174Z"
   },
   {
    "duration": 21,
    "start_time": "2022-03-28T17:54:59.181Z"
   },
   {
    "duration": 9,
    "start_time": "2022-03-28T17:54:59.203Z"
   },
   {
    "duration": 54,
    "start_time": "2022-03-28T17:54:59.214Z"
   },
   {
    "duration": 45,
    "start_time": "2022-03-28T17:54:59.270Z"
   },
   {
    "duration": 17,
    "start_time": "2022-03-28T17:54:59.318Z"
   },
   {
    "duration": 17,
    "start_time": "2022-03-28T17:54:59.337Z"
   },
   {
    "duration": 9,
    "start_time": "2022-03-28T17:54:59.356Z"
   },
   {
    "duration": 38,
    "start_time": "2022-03-28T17:54:59.369Z"
   },
   {
    "duration": 9,
    "start_time": "2022-03-28T17:54:59.408Z"
   },
   {
    "duration": 6,
    "start_time": "2022-03-28T17:54:59.419Z"
   },
   {
    "duration": 6,
    "start_time": "2022-03-28T17:54:59.426Z"
   },
   {
    "duration": 9,
    "start_time": "2022-03-28T17:54:59.434Z"
   },
   {
    "duration": 6,
    "start_time": "2022-03-28T17:54:59.445Z"
   },
   {
    "duration": 7,
    "start_time": "2022-03-28T17:54:59.453Z"
   },
   {
    "duration": 40,
    "start_time": "2022-03-28T17:54:59.462Z"
   },
   {
    "duration": 36,
    "start_time": "2022-03-28T17:54:59.504Z"
   },
   {
    "duration": 25,
    "start_time": "2022-03-28T17:54:59.543Z"
   },
   {
    "duration": 49,
    "start_time": "2022-03-28T17:54:59.570Z"
   },
   {
    "duration": 361,
    "start_time": "2022-03-28T17:54:59.621Z"
   },
   {
    "duration": 333,
    "start_time": "2022-03-28T17:54:59.984Z"
   },
   {
    "duration": 328,
    "start_time": "2022-03-28T17:55:00.319Z"
   },
   {
    "duration": 11,
    "start_time": "2022-03-28T17:55:00.648Z"
   },
   {
    "duration": 19,
    "start_time": "2022-03-28T17:55:00.660Z"
   },
   {
    "duration": 1232,
    "start_time": "2022-03-28T17:56:08.231Z"
   },
   {
    "duration": 467,
    "start_time": "2022-03-28T17:56:09.465Z"
   },
   {
    "duration": 28,
    "start_time": "2022-03-28T17:56:09.934Z"
   },
   {
    "duration": 189,
    "start_time": "2022-03-28T17:56:09.964Z"
   },
   {
    "duration": 10,
    "start_time": "2022-03-28T17:56:10.156Z"
   },
   {
    "duration": 40,
    "start_time": "2022-03-28T17:56:10.169Z"
   },
   {
    "duration": 116,
    "start_time": "2022-03-28T17:56:10.211Z"
   },
   {
    "duration": 10,
    "start_time": "2022-03-28T17:56:10.328Z"
   },
   {
    "duration": 22,
    "start_time": "2022-03-28T17:56:10.339Z"
   },
   {
    "duration": 123,
    "start_time": "2022-03-28T17:56:10.362Z"
   },
   {
    "duration": 24,
    "start_time": "2022-03-28T17:56:10.487Z"
   },
   {
    "duration": 21,
    "start_time": "2022-03-28T17:56:10.512Z"
   },
   {
    "duration": 27,
    "start_time": "2022-03-28T17:56:10.536Z"
   },
   {
    "duration": 16,
    "start_time": "2022-03-28T17:56:10.568Z"
   },
   {
    "duration": 28,
    "start_time": "2022-03-28T17:56:10.586Z"
   },
   {
    "duration": 17,
    "start_time": "2022-03-28T17:56:10.617Z"
   },
   {
    "duration": 15,
    "start_time": "2022-03-28T17:56:10.636Z"
   },
   {
    "duration": 113,
    "start_time": "2022-03-28T17:56:10.653Z"
   },
   {
    "duration": 5,
    "start_time": "2022-03-28T17:56:10.768Z"
   },
   {
    "duration": 8,
    "start_time": "2022-03-28T17:56:10.775Z"
   },
   {
    "duration": 34,
    "start_time": "2022-03-28T17:56:10.785Z"
   },
   {
    "duration": 72,
    "start_time": "2022-03-28T17:56:10.821Z"
   },
   {
    "duration": 25,
    "start_time": "2022-03-28T17:56:10.901Z"
   },
   {
    "duration": 23,
    "start_time": "2022-03-28T17:56:10.929Z"
   },
   {
    "duration": 19,
    "start_time": "2022-03-28T17:56:10.955Z"
   },
   {
    "duration": 34,
    "start_time": "2022-03-28T17:56:10.977Z"
   },
   {
    "duration": 13,
    "start_time": "2022-03-28T17:56:11.013Z"
   },
   {
    "duration": 11,
    "start_time": "2022-03-28T17:56:11.028Z"
   },
   {
    "duration": 14,
    "start_time": "2022-03-28T17:56:11.042Z"
   },
   {
    "duration": 11,
    "start_time": "2022-03-28T17:56:11.058Z"
   },
   {
    "duration": 37,
    "start_time": "2022-03-28T17:56:11.071Z"
   },
   {
    "duration": 8,
    "start_time": "2022-03-28T17:56:11.111Z"
   },
   {
    "duration": 9,
    "start_time": "2022-03-28T17:56:11.121Z"
   },
   {
    "duration": 28,
    "start_time": "2022-03-28T17:56:11.132Z"
   },
   {
    "duration": 50,
    "start_time": "2022-03-28T17:56:11.163Z"
   },
   {
    "duration": 27,
    "start_time": "2022-03-28T17:56:11.215Z"
   },
   {
    "duration": 25,
    "start_time": "2022-03-28T17:56:11.244Z"
   },
   {
    "duration": 525,
    "start_time": "2022-03-28T17:56:11.302Z"
   },
   {
    "duration": 413,
    "start_time": "2022-03-28T17:56:11.829Z"
   },
   {
    "duration": 345,
    "start_time": "2022-03-28T17:56:12.244Z"
   },
   {
    "duration": 14,
    "start_time": "2022-03-28T17:56:12.592Z"
   },
   {
    "duration": 12,
    "start_time": "2022-03-28T17:56:12.607Z"
   },
   {
    "duration": 17,
    "start_time": "2022-03-28T17:56:46.389Z"
   },
   {
    "duration": 130,
    "start_time": "2022-03-28T17:56:58.040Z"
   },
   {
    "duration": 130,
    "start_time": "2022-03-28T17:57:01.758Z"
   },
   {
    "duration": 111,
    "start_time": "2022-03-28T17:59:10.610Z"
   },
   {
    "duration": 6,
    "start_time": "2022-03-28T17:59:15.166Z"
   },
   {
    "duration": 7,
    "start_time": "2022-03-28T17:59:20.836Z"
   },
   {
    "duration": 21,
    "start_time": "2022-03-28T18:05:37.397Z"
   },
   {
    "duration": 17,
    "start_time": "2022-03-28T18:05:43.459Z"
   },
   {
    "duration": 12,
    "start_time": "2022-03-28T18:05:55.013Z"
   },
   {
    "duration": 14,
    "start_time": "2022-03-28T18:08:51.512Z"
   },
   {
    "duration": 26,
    "start_time": "2022-03-28T18:09:10.009Z"
   },
   {
    "duration": 11,
    "start_time": "2022-03-28T18:09:19.122Z"
   },
   {
    "duration": 1309,
    "start_time": "2022-03-28T18:09:31.127Z"
   },
   {
    "duration": 815,
    "start_time": "2022-03-28T18:09:32.439Z"
   },
   {
    "duration": 56,
    "start_time": "2022-03-28T18:09:33.256Z"
   },
   {
    "duration": 290,
    "start_time": "2022-03-28T18:09:33.314Z"
   },
   {
    "duration": 13,
    "start_time": "2022-03-28T18:09:33.607Z"
   },
   {
    "duration": 21,
    "start_time": "2022-03-28T18:09:33.621Z"
   },
   {
    "duration": 76,
    "start_time": "2022-03-28T18:09:33.643Z"
   },
   {
    "duration": 140,
    "start_time": "2022-03-28T18:09:33.721Z"
   },
   {
    "duration": 10,
    "start_time": "2022-03-28T18:09:33.863Z"
   },
   {
    "duration": 34,
    "start_time": "2022-03-28T18:09:33.874Z"
   },
   {
    "duration": 23,
    "start_time": "2022-03-28T18:09:33.910Z"
   },
   {
    "duration": 78,
    "start_time": "2022-03-28T18:09:33.935Z"
   },
   {
    "duration": 10,
    "start_time": "2022-03-28T18:09:34.015Z"
   },
   {
    "duration": 21,
    "start_time": "2022-03-28T18:09:34.028Z"
   },
   {
    "duration": 17,
    "start_time": "2022-03-28T18:09:34.051Z"
   },
   {
    "duration": 32,
    "start_time": "2022-03-28T18:09:34.069Z"
   },
   {
    "duration": 24,
    "start_time": "2022-03-28T18:09:34.103Z"
   },
   {
    "duration": 37,
    "start_time": "2022-03-28T18:09:34.129Z"
   },
   {
    "duration": 9,
    "start_time": "2022-03-28T18:09:34.168Z"
   },
   {
    "duration": 32,
    "start_time": "2022-03-28T18:09:34.179Z"
   },
   {
    "duration": 152,
    "start_time": "2022-03-28T18:09:34.212Z"
   },
   {
    "duration": 0,
    "start_time": "2022-03-28T18:09:34.366Z"
   },
   {
    "duration": 0,
    "start_time": "2022-03-28T18:09:34.368Z"
   },
   {
    "duration": 0,
    "start_time": "2022-03-28T18:09:34.370Z"
   },
   {
    "duration": 0,
    "start_time": "2022-03-28T18:09:34.371Z"
   },
   {
    "duration": 0,
    "start_time": "2022-03-28T18:09:34.373Z"
   },
   {
    "duration": 0,
    "start_time": "2022-03-28T18:09:34.374Z"
   },
   {
    "duration": 0,
    "start_time": "2022-03-28T18:09:34.376Z"
   },
   {
    "duration": 0,
    "start_time": "2022-03-28T18:09:34.377Z"
   },
   {
    "duration": 0,
    "start_time": "2022-03-28T18:09:34.379Z"
   },
   {
    "duration": 0,
    "start_time": "2022-03-28T18:09:34.380Z"
   },
   {
    "duration": 0,
    "start_time": "2022-03-28T18:09:34.401Z"
   },
   {
    "duration": 0,
    "start_time": "2022-03-28T18:09:34.402Z"
   },
   {
    "duration": 0,
    "start_time": "2022-03-28T18:09:34.404Z"
   },
   {
    "duration": 0,
    "start_time": "2022-03-28T18:09:34.405Z"
   },
   {
    "duration": 1,
    "start_time": "2022-03-28T18:09:34.406Z"
   },
   {
    "duration": 0,
    "start_time": "2022-03-28T18:09:34.408Z"
   },
   {
    "duration": 0,
    "start_time": "2022-03-28T18:09:34.409Z"
   },
   {
    "duration": 0,
    "start_time": "2022-03-28T18:09:34.411Z"
   },
   {
    "duration": 0,
    "start_time": "2022-03-28T18:09:34.412Z"
   },
   {
    "duration": 0,
    "start_time": "2022-03-28T18:09:34.413Z"
   },
   {
    "duration": 0,
    "start_time": "2022-03-28T18:09:34.415Z"
   },
   {
    "duration": 0,
    "start_time": "2022-03-28T18:09:34.416Z"
   },
   {
    "duration": 0,
    "start_time": "2022-03-28T18:09:34.417Z"
   },
   {
    "duration": 15,
    "start_time": "2022-03-28T18:09:42.651Z"
   },
   {
    "duration": 13,
    "start_time": "2022-03-28T18:09:52.162Z"
   },
   {
    "duration": 1250,
    "start_time": "2022-03-28T18:09:58.377Z"
   },
   {
    "duration": 423,
    "start_time": "2022-03-28T18:09:59.628Z"
   },
   {
    "duration": 27,
    "start_time": "2022-03-28T18:10:00.053Z"
   },
   {
    "duration": 143,
    "start_time": "2022-03-28T18:10:00.082Z"
   },
   {
    "duration": 11,
    "start_time": "2022-03-28T18:10:00.227Z"
   },
   {
    "duration": 9,
    "start_time": "2022-03-28T18:10:00.240Z"
   },
   {
    "duration": 21,
    "start_time": "2022-03-28T18:10:00.251Z"
   },
   {
    "duration": 127,
    "start_time": "2022-03-28T18:10:00.274Z"
   },
   {
    "duration": 10,
    "start_time": "2022-03-28T18:10:00.403Z"
   },
   {
    "duration": 8,
    "start_time": "2022-03-28T18:10:00.416Z"
   },
   {
    "duration": 34,
    "start_time": "2022-03-28T18:10:00.426Z"
   },
   {
    "duration": 84,
    "start_time": "2022-03-28T18:10:00.462Z"
   },
   {
    "duration": 11,
    "start_time": "2022-03-28T18:10:00.602Z"
   },
   {
    "duration": 12,
    "start_time": "2022-03-28T18:10:00.615Z"
   },
   {
    "duration": 16,
    "start_time": "2022-03-28T18:10:00.629Z"
   },
   {
    "duration": 60,
    "start_time": "2022-03-28T18:10:00.646Z"
   },
   {
    "duration": 23,
    "start_time": "2022-03-28T18:10:00.708Z"
   },
   {
    "duration": 16,
    "start_time": "2022-03-28T18:10:00.733Z"
   },
   {
    "duration": 53,
    "start_time": "2022-03-28T18:10:00.751Z"
   },
   {
    "duration": 15,
    "start_time": "2022-03-28T18:10:00.806Z"
   },
   {
    "duration": 14,
    "start_time": "2022-03-28T18:10:00.823Z"
   },
   {
    "duration": 184,
    "start_time": "2022-03-28T18:10:00.839Z"
   },
   {
    "duration": 7,
    "start_time": "2022-03-28T18:10:01.025Z"
   },
   {
    "duration": 107,
    "start_time": "2022-03-28T18:10:01.034Z"
   },
   {
    "duration": 74,
    "start_time": "2022-03-28T18:10:01.143Z"
   },
   {
    "duration": 19,
    "start_time": "2022-03-28T18:10:01.218Z"
   },
   {
    "duration": 70,
    "start_time": "2022-03-28T18:10:01.239Z"
   },
   {
    "duration": 10,
    "start_time": "2022-03-28T18:10:01.313Z"
   },
   {
    "duration": 11,
    "start_time": "2022-03-28T18:10:01.325Z"
   },
   {
    "duration": 65,
    "start_time": "2022-03-28T18:10:01.338Z"
   },
   {
    "duration": 6,
    "start_time": "2022-03-28T18:10:01.405Z"
   },
   {
    "duration": 11,
    "start_time": "2022-03-28T18:10:01.413Z"
   },
   {
    "duration": 14,
    "start_time": "2022-03-28T18:10:01.426Z"
   },
   {
    "duration": 8,
    "start_time": "2022-03-28T18:10:01.442Z"
   },
   {
    "duration": 50,
    "start_time": "2022-03-28T18:10:01.451Z"
   },
   {
    "duration": 12,
    "start_time": "2022-03-28T18:10:01.503Z"
   },
   {
    "duration": 32,
    "start_time": "2022-03-28T18:10:01.517Z"
   },
   {
    "duration": 69,
    "start_time": "2022-03-28T18:10:01.551Z"
   },
   {
    "duration": 16,
    "start_time": "2022-03-28T18:10:01.622Z"
   },
   {
    "duration": 1066,
    "start_time": "2022-03-28T18:10:01.641Z"
   },
   {
    "duration": 334,
    "start_time": "2022-03-28T18:10:02.708Z"
   },
   {
    "duration": 309,
    "start_time": "2022-03-28T18:10:03.043Z"
   },
   {
    "duration": 10,
    "start_time": "2022-03-28T18:10:03.354Z"
   },
   {
    "duration": 10,
    "start_time": "2022-03-28T18:10:03.366Z"
   },
   {
    "duration": 4,
    "start_time": "2022-03-28T18:10:48.711Z"
   },
   {
    "duration": 6,
    "start_time": "2022-03-28T18:26:09.804Z"
   },
   {
    "duration": 7,
    "start_time": "2022-03-28T18:26:17.261Z"
   },
   {
    "duration": 5,
    "start_time": "2022-03-28T18:26:31.033Z"
   },
   {
    "duration": 5,
    "start_time": "2022-03-28T18:26:57.308Z"
   },
   {
    "duration": 94,
    "start_time": "2022-03-28T18:27:05.423Z"
   },
   {
    "duration": 5,
    "start_time": "2022-03-28T18:27:10.466Z"
   },
   {
    "duration": 6,
    "start_time": "2022-03-28T18:27:18.306Z"
   },
   {
    "duration": 9,
    "start_time": "2022-03-28T18:27:31.390Z"
   },
   {
    "duration": 10,
    "start_time": "2022-03-28T18:27:39.771Z"
   },
   {
    "duration": 4,
    "start_time": "2022-03-28T18:27:43.612Z"
   },
   {
    "duration": 5,
    "start_time": "2022-03-28T18:28:30.213Z"
   },
   {
    "duration": 11,
    "start_time": "2022-03-28T18:28:43.053Z"
   },
   {
    "duration": 5,
    "start_time": "2022-03-28T18:28:48.422Z"
   },
   {
    "duration": 10,
    "start_time": "2022-03-28T18:31:36.691Z"
   },
   {
    "duration": 3,
    "start_time": "2022-03-28T18:33:21.482Z"
   },
   {
    "duration": 6,
    "start_time": "2022-03-28T18:33:28.804Z"
   },
   {
    "duration": 3,
    "start_time": "2022-03-28T18:35:53.966Z"
   },
   {
    "duration": 5,
    "start_time": "2022-03-28T18:36:00.384Z"
   },
   {
    "duration": 9,
    "start_time": "2022-03-28T18:36:18.650Z"
   },
   {
    "duration": 5,
    "start_time": "2022-03-28T18:38:25.756Z"
   },
   {
    "duration": 1104,
    "start_time": "2022-04-11T07:49:03.844Z"
   },
   {
    "duration": 171,
    "start_time": "2022-04-11T07:49:04.950Z"
   },
   {
    "duration": 0,
    "start_time": "2022-04-11T07:49:05.123Z"
   },
   {
    "duration": 0,
    "start_time": "2022-04-11T07:49:05.125Z"
   },
   {
    "duration": 0,
    "start_time": "2022-04-11T07:49:05.125Z"
   },
   {
    "duration": 0,
    "start_time": "2022-04-11T07:49:05.126Z"
   },
   {
    "duration": 0,
    "start_time": "2022-04-11T07:49:05.127Z"
   },
   {
    "duration": 0,
    "start_time": "2022-04-11T07:49:05.128Z"
   },
   {
    "duration": 0,
    "start_time": "2022-04-11T07:49:05.129Z"
   },
   {
    "duration": 0,
    "start_time": "2022-04-11T07:49:05.130Z"
   },
   {
    "duration": 0,
    "start_time": "2022-04-11T07:49:05.131Z"
   },
   {
    "duration": 0,
    "start_time": "2022-04-11T07:49:05.131Z"
   },
   {
    "duration": 0,
    "start_time": "2022-04-11T07:49:05.132Z"
   },
   {
    "duration": 0,
    "start_time": "2022-04-11T07:49:05.133Z"
   },
   {
    "duration": 0,
    "start_time": "2022-04-11T07:49:05.134Z"
   },
   {
    "duration": 0,
    "start_time": "2022-04-11T07:49:05.134Z"
   },
   {
    "duration": 0,
    "start_time": "2022-04-11T07:49:05.136Z"
   },
   {
    "duration": 0,
    "start_time": "2022-04-11T07:49:05.137Z"
   },
   {
    "duration": 0,
    "start_time": "2022-04-11T07:49:05.138Z"
   },
   {
    "duration": 0,
    "start_time": "2022-04-11T07:49:05.139Z"
   },
   {
    "duration": 0,
    "start_time": "2022-04-11T07:49:05.140Z"
   },
   {
    "duration": 0,
    "start_time": "2022-04-11T07:49:05.141Z"
   },
   {
    "duration": 0,
    "start_time": "2022-04-11T07:49:05.143Z"
   },
   {
    "duration": 0,
    "start_time": "2022-04-11T07:49:05.171Z"
   },
   {
    "duration": 0,
    "start_time": "2022-04-11T07:49:05.172Z"
   },
   {
    "duration": 0,
    "start_time": "2022-04-11T07:49:05.173Z"
   },
   {
    "duration": 0,
    "start_time": "2022-04-11T07:49:05.174Z"
   },
   {
    "duration": 0,
    "start_time": "2022-04-11T07:49:05.176Z"
   },
   {
    "duration": 0,
    "start_time": "2022-04-11T07:49:05.177Z"
   },
   {
    "duration": 0,
    "start_time": "2022-04-11T07:49:05.178Z"
   },
   {
    "duration": 0,
    "start_time": "2022-04-11T07:49:05.180Z"
   },
   {
    "duration": 0,
    "start_time": "2022-04-11T07:49:05.180Z"
   },
   {
    "duration": 0,
    "start_time": "2022-04-11T07:49:05.182Z"
   },
   {
    "duration": 0,
    "start_time": "2022-04-11T07:49:05.183Z"
   },
   {
    "duration": 0,
    "start_time": "2022-04-11T07:49:05.184Z"
   },
   {
    "duration": 0,
    "start_time": "2022-04-11T07:49:05.186Z"
   },
   {
    "duration": 0,
    "start_time": "2022-04-11T07:49:05.187Z"
   },
   {
    "duration": 0,
    "start_time": "2022-04-11T07:49:05.188Z"
   },
   {
    "duration": 0,
    "start_time": "2022-04-11T07:49:05.189Z"
   },
   {
    "duration": 0,
    "start_time": "2022-04-11T07:49:05.191Z"
   },
   {
    "duration": 0,
    "start_time": "2022-04-11T07:49:05.192Z"
   },
   {
    "duration": 0,
    "start_time": "2022-04-11T07:49:05.193Z"
   },
   {
    "duration": 0,
    "start_time": "2022-04-11T07:49:05.194Z"
   },
   {
    "duration": 0,
    "start_time": "2022-04-11T07:49:05.196Z"
   },
   {
    "duration": 0,
    "start_time": "2022-04-11T07:49:05.197Z"
   },
   {
    "duration": 0,
    "start_time": "2022-04-11T07:49:05.199Z"
   },
   {
    "duration": 313,
    "start_time": "2022-04-11T07:50:37.165Z"
   },
   {
    "duration": 1047,
    "start_time": "2022-04-11T07:50:41.592Z"
   },
   {
    "duration": 326,
    "start_time": "2022-04-11T07:50:42.641Z"
   },
   {
    "duration": 21,
    "start_time": "2022-04-11T07:50:42.968Z"
   },
   {
    "duration": 115,
    "start_time": "2022-04-11T07:50:42.991Z"
   },
   {
    "duration": 11,
    "start_time": "2022-04-11T07:50:43.107Z"
   },
   {
    "duration": 8,
    "start_time": "2022-04-11T07:50:43.120Z"
   },
   {
    "duration": 16,
    "start_time": "2022-04-11T07:50:43.129Z"
   },
   {
    "duration": 97,
    "start_time": "2022-04-11T07:50:43.147Z"
   },
   {
    "duration": 9,
    "start_time": "2022-04-11T07:50:43.245Z"
   },
   {
    "duration": 7,
    "start_time": "2022-04-11T07:50:43.270Z"
   },
   {
    "duration": 21,
    "start_time": "2022-04-11T07:50:43.278Z"
   },
   {
    "duration": 52,
    "start_time": "2022-04-11T07:50:43.300Z"
   },
   {
    "duration": 25,
    "start_time": "2022-04-11T07:50:43.353Z"
   },
   {
    "duration": 11,
    "start_time": "2022-04-11T07:50:43.380Z"
   },
   {
    "duration": 10,
    "start_time": "2022-04-11T07:50:43.393Z"
   },
   {
    "duration": 6,
    "start_time": "2022-04-11T07:50:43.405Z"
   },
   {
    "duration": 11,
    "start_time": "2022-04-11T07:50:43.413Z"
   },
   {
    "duration": 10,
    "start_time": "2022-04-11T07:50:43.425Z"
   },
   {
    "duration": 35,
    "start_time": "2022-04-11T07:50:43.436Z"
   },
   {
    "duration": 5,
    "start_time": "2022-04-11T07:50:43.473Z"
   },
   {
    "duration": 10,
    "start_time": "2022-04-11T07:50:43.480Z"
   },
   {
    "duration": 7,
    "start_time": "2022-04-11T07:50:43.491Z"
   },
   {
    "duration": 3,
    "start_time": "2022-04-11T07:50:43.500Z"
   },
   {
    "duration": 86,
    "start_time": "2022-04-11T07:50:43.504Z"
   },
   {
    "duration": 6,
    "start_time": "2022-04-11T07:50:43.592Z"
   },
   {
    "duration": 44,
    "start_time": "2022-04-11T07:50:43.599Z"
   },
   {
    "duration": 33,
    "start_time": "2022-04-11T07:50:43.644Z"
   },
   {
    "duration": 16,
    "start_time": "2022-04-11T07:50:43.680Z"
   },
   {
    "duration": 14,
    "start_time": "2022-04-11T07:50:43.698Z"
   },
   {
    "duration": 8,
    "start_time": "2022-04-11T07:50:43.714Z"
   },
   {
    "duration": 6,
    "start_time": "2022-04-11T07:50:43.723Z"
   },
   {
    "duration": 9,
    "start_time": "2022-04-11T07:50:43.730Z"
   },
   {
    "duration": 31,
    "start_time": "2022-04-11T07:50:43.740Z"
   },
   {
    "duration": 8,
    "start_time": "2022-04-11T07:50:43.772Z"
   },
   {
    "duration": 10,
    "start_time": "2022-04-11T07:50:43.781Z"
   },
   {
    "duration": 5,
    "start_time": "2022-04-11T07:50:43.793Z"
   },
   {
    "duration": 9,
    "start_time": "2022-04-11T07:50:43.799Z"
   },
   {
    "duration": 12,
    "start_time": "2022-04-11T07:50:43.809Z"
   },
   {
    "duration": 20,
    "start_time": "2022-04-11T07:50:43.823Z"
   },
   {
    "duration": 35,
    "start_time": "2022-04-11T07:50:43.844Z"
   },
   {
    "duration": 15,
    "start_time": "2022-04-11T07:50:43.881Z"
   },
   {
    "duration": 297,
    "start_time": "2022-04-11T07:50:43.897Z"
   },
   {
    "duration": 304,
    "start_time": "2022-04-11T07:50:44.196Z"
   },
   {
    "duration": 299,
    "start_time": "2022-04-11T07:50:44.502Z"
   },
   {
    "duration": 10,
    "start_time": "2022-04-11T07:50:44.803Z"
   },
   {
    "duration": 19,
    "start_time": "2022-04-11T07:50:44.815Z"
   },
   {
    "duration": 9,
    "start_time": "2022-04-11T07:59:17.673Z"
   },
   {
    "duration": 4,
    "start_time": "2022-04-11T07:59:35.617Z"
   },
   {
    "duration": 1082,
    "start_time": "2022-04-11T08:01:28.267Z"
   },
   {
    "duration": 331,
    "start_time": "2022-04-11T08:01:29.351Z"
   },
   {
    "duration": 22,
    "start_time": "2022-04-11T08:01:29.683Z"
   },
   {
    "duration": 124,
    "start_time": "2022-04-11T08:01:29.707Z"
   },
   {
    "duration": 11,
    "start_time": "2022-04-11T08:01:29.833Z"
   },
   {
    "duration": 26,
    "start_time": "2022-04-11T08:01:29.845Z"
   },
   {
    "duration": 17,
    "start_time": "2022-04-11T08:01:29.873Z"
   },
   {
    "duration": 93,
    "start_time": "2022-04-11T08:01:29.891Z"
   },
   {
    "duration": 8,
    "start_time": "2022-04-11T08:01:29.986Z"
   },
   {
    "duration": 8,
    "start_time": "2022-04-11T08:01:29.996Z"
   },
   {
    "duration": 22,
    "start_time": "2022-04-11T08:01:30.005Z"
   },
   {
    "duration": 73,
    "start_time": "2022-04-11T08:01:30.028Z"
   },
   {
    "duration": 9,
    "start_time": "2022-04-11T08:01:30.102Z"
   },
   {
    "duration": 10,
    "start_time": "2022-04-11T08:01:30.113Z"
   },
   {
    "duration": 11,
    "start_time": "2022-04-11T08:01:30.125Z"
   },
   {
    "duration": 6,
    "start_time": "2022-04-11T08:01:30.138Z"
   },
   {
    "duration": 34,
    "start_time": "2022-04-11T08:01:30.145Z"
   },
   {
    "duration": 11,
    "start_time": "2022-04-11T08:01:30.180Z"
   },
   {
    "duration": 4,
    "start_time": "2022-04-11T08:01:30.193Z"
   },
   {
    "duration": 9,
    "start_time": "2022-04-11T08:01:30.199Z"
   },
   {
    "duration": 11,
    "start_time": "2022-04-11T08:01:30.209Z"
   },
   {
    "duration": 9,
    "start_time": "2022-04-11T08:01:30.221Z"
   },
   {
    "duration": 3,
    "start_time": "2022-04-11T08:01:30.231Z"
   },
   {
    "duration": 91,
    "start_time": "2022-04-11T08:01:30.235Z"
   },
   {
    "duration": 6,
    "start_time": "2022-04-11T08:01:30.327Z"
   },
   {
    "duration": 57,
    "start_time": "2022-04-11T08:01:30.335Z"
   },
   {
    "duration": 19,
    "start_time": "2022-04-11T08:01:30.394Z"
   },
   {
    "duration": 16,
    "start_time": "2022-04-11T08:01:30.417Z"
   },
   {
    "duration": 15,
    "start_time": "2022-04-11T08:01:30.434Z"
   },
   {
    "duration": 26,
    "start_time": "2022-04-11T08:01:30.451Z"
   },
   {
    "duration": 6,
    "start_time": "2022-04-11T08:01:30.478Z"
   },
   {
    "duration": 25,
    "start_time": "2022-04-11T08:01:30.486Z"
   },
   {
    "duration": 33,
    "start_time": "2022-04-11T08:01:30.512Z"
   },
   {
    "duration": 37,
    "start_time": "2022-04-11T08:01:30.546Z"
   },
   {
    "duration": 14,
    "start_time": "2022-04-11T08:01:30.585Z"
   },
   {
    "duration": 19,
    "start_time": "2022-04-11T08:01:30.601Z"
   },
   {
    "duration": 22,
    "start_time": "2022-04-11T08:01:30.621Z"
   },
   {
    "duration": 13,
    "start_time": "2022-04-11T08:01:30.644Z"
   },
   {
    "duration": 17,
    "start_time": "2022-04-11T08:01:30.658Z"
   },
   {
    "duration": 28,
    "start_time": "2022-04-11T08:01:30.676Z"
   },
   {
    "duration": 27,
    "start_time": "2022-04-11T08:01:30.705Z"
   },
   {
    "duration": 32,
    "start_time": "2022-04-11T08:01:30.734Z"
   },
   {
    "duration": 66,
    "start_time": "2022-04-11T08:01:30.768Z"
   },
   {
    "duration": 18,
    "start_time": "2022-04-11T08:01:30.835Z"
   },
   {
    "duration": 35,
    "start_time": "2022-04-11T08:01:30.855Z"
   },
   {
    "duration": 296,
    "start_time": "2022-04-11T08:01:30.892Z"
   },
   {
    "duration": 294,
    "start_time": "2022-04-11T08:01:31.190Z"
   },
   {
    "duration": 286,
    "start_time": "2022-04-11T08:01:31.486Z"
   },
   {
    "duration": 9,
    "start_time": "2022-04-11T08:01:31.774Z"
   },
   {
    "duration": 23,
    "start_time": "2022-04-11T08:01:31.784Z"
   },
   {
    "duration": 47,
    "start_time": "2022-04-13T13:56:25.178Z"
   },
   {
    "duration": 1409,
    "start_time": "2022-04-13T13:56:37.887Z"
   },
   {
    "duration": 388,
    "start_time": "2022-04-13T13:56:39.298Z"
   },
   {
    "duration": 34,
    "start_time": "2022-04-13T13:56:39.688Z"
   },
   {
    "duration": 140,
    "start_time": "2022-04-13T13:56:39.725Z"
   },
   {
    "duration": 11,
    "start_time": "2022-04-13T13:56:39.867Z"
   },
   {
    "duration": 10,
    "start_time": "2022-04-13T13:56:39.879Z"
   },
   {
    "duration": 36,
    "start_time": "2022-04-13T13:56:39.908Z"
   },
   {
    "duration": 119,
    "start_time": "2022-04-13T13:56:39.945Z"
   },
   {
    "duration": 9,
    "start_time": "2022-04-13T13:56:40.066Z"
   },
   {
    "duration": 8,
    "start_time": "2022-04-13T13:56:40.077Z"
   },
   {
    "duration": 43,
    "start_time": "2022-04-13T13:56:40.087Z"
   },
   {
    "duration": 57,
    "start_time": "2022-04-13T13:56:40.132Z"
   },
   {
    "duration": 26,
    "start_time": "2022-04-13T13:56:40.191Z"
   },
   {
    "duration": 14,
    "start_time": "2022-04-13T13:56:40.220Z"
   },
   {
    "duration": 12,
    "start_time": "2022-04-13T13:56:40.236Z"
   },
   {
    "duration": 62,
    "start_time": "2022-04-13T13:56:40.250Z"
   },
   {
    "duration": 16,
    "start_time": "2022-04-13T13:56:40.315Z"
   },
   {
    "duration": 16,
    "start_time": "2022-04-13T13:56:40.333Z"
   },
   {
    "duration": 9,
    "start_time": "2022-04-13T13:56:40.410Z"
   },
   {
    "duration": 9,
    "start_time": "2022-04-13T13:56:40.421Z"
   },
   {
    "duration": 15,
    "start_time": "2022-04-13T13:56:40.432Z"
   },
   {
    "duration": 8,
    "start_time": "2022-04-13T13:56:40.448Z"
   },
   {
    "duration": 56,
    "start_time": "2022-04-13T13:56:40.458Z"
   },
   {
    "duration": 201,
    "start_time": "2022-04-13T13:56:40.517Z"
   },
   {
    "duration": 8,
    "start_time": "2022-04-13T13:56:40.720Z"
   },
   {
    "duration": 111,
    "start_time": "2022-04-13T13:56:40.729Z"
   },
   {
    "duration": 84,
    "start_time": "2022-04-13T13:56:40.842Z"
   },
   {
    "duration": 17,
    "start_time": "2022-04-13T13:56:40.932Z"
   },
   {
    "duration": 71,
    "start_time": "2022-04-13T13:56:40.950Z"
   },
   {
    "duration": 12,
    "start_time": "2022-04-13T13:56:41.024Z"
   },
   {
    "duration": 5,
    "start_time": "2022-04-13T13:56:41.038Z"
   },
   {
    "duration": 64,
    "start_time": "2022-04-13T13:56:41.044Z"
   },
   {
    "duration": 16,
    "start_time": "2022-04-13T13:56:41.110Z"
   },
   {
    "duration": 6,
    "start_time": "2022-04-13T13:56:41.128Z"
   },
   {
    "duration": 8,
    "start_time": "2022-04-13T13:56:41.137Z"
   },
   {
    "duration": 3,
    "start_time": "2022-04-13T13:56:41.147Z"
   },
   {
    "duration": 15,
    "start_time": "2022-04-13T13:56:41.209Z"
   },
   {
    "duration": 5,
    "start_time": "2022-04-13T13:56:41.227Z"
   },
   {
    "duration": 7,
    "start_time": "2022-04-13T13:56:41.234Z"
   },
   {
    "duration": 6,
    "start_time": "2022-04-13T13:56:41.243Z"
   },
   {
    "duration": 20,
    "start_time": "2022-04-13T13:56:41.307Z"
   },
   {
    "duration": 90,
    "start_time": "2022-04-13T13:56:41.330Z"
   },
   {
    "duration": 24,
    "start_time": "2022-04-13T13:56:41.422Z"
   },
   {
    "duration": 75,
    "start_time": "2022-04-13T13:56:41.448Z"
   },
   {
    "duration": 920,
    "start_time": "2022-04-13T13:56:41.525Z"
   },
   {
    "duration": 422,
    "start_time": "2022-04-13T13:56:42.446Z"
   },
   {
    "duration": 374,
    "start_time": "2022-04-13T13:56:42.870Z"
   },
   {
    "duration": 10,
    "start_time": "2022-04-13T13:56:43.245Z"
   },
   {
    "duration": 10,
    "start_time": "2022-04-13T13:56:43.256Z"
   },
   {
    "duration": 1286,
    "start_time": "2022-04-13T14:15:25.112Z"
   },
   {
    "duration": 425,
    "start_time": "2022-04-13T14:15:27.495Z"
   },
   {
    "duration": 25,
    "start_time": "2022-04-13T14:15:39.074Z"
   },
   {
    "duration": 124,
    "start_time": "2022-04-13T14:15:41.342Z"
   },
   {
    "duration": 10,
    "start_time": "2022-04-13T14:15:43.239Z"
   },
   {
    "duration": 10,
    "start_time": "2022-04-13T14:15:45.030Z"
   },
   {
    "duration": 8,
    "start_time": "2022-04-13T14:16:13.764Z"
   },
   {
    "duration": 22,
    "start_time": "2022-04-13T14:16:16.961Z"
   },
   {
    "duration": 91,
    "start_time": "2022-04-13T14:16:19.358Z"
   },
   {
    "duration": 17,
    "start_time": "2022-04-13T14:16:21.006Z"
   },
   {
    "duration": 8,
    "start_time": "2022-04-13T14:16:22.551Z"
   },
   {
    "duration": 18,
    "start_time": "2022-04-13T14:16:31.582Z"
   },
   {
    "duration": 68,
    "start_time": "2022-04-13T14:16:32.715Z"
   },
   {
    "duration": 10,
    "start_time": "2022-04-13T14:16:34.244Z"
   },
   {
    "duration": 12,
    "start_time": "2022-04-13T14:16:36.373Z"
   },
   {
    "duration": 17,
    "start_time": "2022-04-13T14:16:37.817Z"
   },
   {
    "duration": 8,
    "start_time": "2022-04-13T14:16:40.059Z"
   },
   {
    "duration": 9,
    "start_time": "2022-04-13T14:16:41.688Z"
   },
   {
    "duration": 8,
    "start_time": "2022-04-13T14:16:42.627Z"
   },
   {
    "duration": 5,
    "start_time": "2022-04-13T14:16:43.646Z"
   },
   {
    "duration": 15,
    "start_time": "2022-04-13T14:16:44.707Z"
   },
   {
    "duration": 10,
    "start_time": "2022-04-13T14:16:45.785Z"
   },
   {
    "duration": 10,
    "start_time": "2022-04-13T14:16:52.072Z"
   },
   {
    "duration": 6,
    "start_time": "2022-04-13T14:17:07.168Z"
   },
   {
    "duration": 7,
    "start_time": "2022-04-13T14:17:08.729Z"
   },
   {
    "duration": 73,
    "start_time": "2022-04-13T14:17:11.628Z"
   },
   {
    "duration": 6,
    "start_time": "2022-04-13T14:17:15.744Z"
   },
   {
    "duration": 5,
    "start_time": "2022-04-13T14:17:39.083Z"
   },
   {
    "duration": 16,
    "start_time": "2022-04-13T14:18:41.125Z"
   },
   {
    "duration": 53,
    "start_time": "2022-04-13T14:20:16.784Z"
   },
   {
    "duration": 22,
    "start_time": "2022-04-13T14:20:18.141Z"
   },
   {
    "duration": 19,
    "start_time": "2022-04-13T14:20:19.861Z"
   },
   {
    "duration": 18,
    "start_time": "2022-04-13T14:20:21.472Z"
   },
   {
    "duration": 71,
    "start_time": "2022-04-13T18:07:34.576Z"
   },
   {
    "duration": 1892,
    "start_time": "2022-04-13T18:07:53.325Z"
   },
   {
    "duration": 524,
    "start_time": "2022-04-13T18:07:55.220Z"
   },
   {
    "duration": 27,
    "start_time": "2022-04-13T18:08:02.294Z"
   },
   {
    "duration": 18,
    "start_time": "2022-04-13T18:10:25.590Z"
   },
   {
    "duration": 140,
    "start_time": "2022-04-13T18:13:06.362Z"
   },
   {
    "duration": 12,
    "start_time": "2022-04-13T18:13:12.122Z"
   },
   {
    "duration": 20,
    "start_time": "2022-04-13T18:13:15.055Z"
   },
   {
    "duration": 115,
    "start_time": "2022-04-13T18:13:24.229Z"
   },
   {
    "duration": 72,
    "start_time": "2022-04-13T18:13:26.809Z"
   },
   {
    "duration": 27,
    "start_time": "2022-04-13T18:13:27.992Z"
   },
   {
    "duration": 23,
    "start_time": "2022-04-13T18:13:29.246Z"
   },
   {
    "duration": 23,
    "start_time": "2022-04-13T18:13:30.032Z"
   },
   {
    "duration": 14,
    "start_time": "2022-04-13T18:18:06.471Z"
   },
   {
    "duration": 6,
    "start_time": "2022-04-13T18:18:08.228Z"
   },
   {
    "duration": 19,
    "start_time": "2022-04-13T18:18:10.164Z"
   },
   {
    "duration": 11,
    "start_time": "2022-04-13T18:18:14.936Z"
   },
   {
    "duration": 5,
    "start_time": "2022-04-13T18:18:15.994Z"
   },
   {
    "duration": 8,
    "start_time": "2022-04-13T18:18:16.884Z"
   },
   {
    "duration": 44,
    "start_time": "2022-04-13T18:18:28.127Z"
   },
   {
    "duration": 5,
    "start_time": "2022-04-13T18:18:52.057Z"
   },
   {
    "duration": 40,
    "start_time": "2022-04-13T18:19:01.394Z"
   },
   {
    "duration": 6,
    "start_time": "2022-04-13T18:29:44.179Z"
   },
   {
    "duration": 5,
    "start_time": "2022-04-13T18:29:46.035Z"
   },
   {
    "duration": 42,
    "start_time": "2022-04-13T18:29:47.842Z"
   },
   {
    "duration": 9,
    "start_time": "2022-04-13T18:29:55.539Z"
   },
   {
    "duration": 6,
    "start_time": "2022-04-13T18:29:59.502Z"
   },
   {
    "duration": 40,
    "start_time": "2022-04-13T18:30:00.912Z"
   },
   {
    "duration": 11,
    "start_time": "2022-04-13T18:30:16.418Z"
   },
   {
    "duration": 12,
    "start_time": "2022-04-13T18:30:17.912Z"
   },
   {
    "duration": 6,
    "start_time": "2022-04-13T18:30:19.106Z"
   },
   {
    "duration": 9,
    "start_time": "2022-04-13T18:31:01.597Z"
   },
   {
    "duration": 9,
    "start_time": "2022-04-13T18:31:02.727Z"
   },
   {
    "duration": 20,
    "start_time": "2022-04-13T18:31:03.837Z"
   },
   {
    "duration": 1804,
    "start_time": "2022-04-14T09:09:55.644Z"
   },
   {
    "duration": 466,
    "start_time": "2022-04-14T09:09:57.452Z"
   },
   {
    "duration": 35,
    "start_time": "2022-04-14T09:09:57.920Z"
   },
   {
    "duration": 183,
    "start_time": "2022-04-14T09:09:57.957Z"
   },
   {
    "duration": 15,
    "start_time": "2022-04-14T09:09:58.145Z"
   },
   {
    "duration": 15,
    "start_time": "2022-04-14T09:09:58.183Z"
   },
   {
    "duration": 30,
    "start_time": "2022-04-14T09:09:58.201Z"
   },
   {
    "duration": 166,
    "start_time": "2022-04-14T09:09:58.233Z"
   },
   {
    "duration": 13,
    "start_time": "2022-04-14T09:09:58.401Z"
   },
   {
    "duration": 11,
    "start_time": "2022-04-14T09:09:58.416Z"
   },
   {
    "duration": 54,
    "start_time": "2022-04-14T09:09:58.429Z"
   },
   {
    "duration": 78,
    "start_time": "2022-04-14T09:09:58.485Z"
   },
   {
    "duration": 14,
    "start_time": "2022-04-14T09:09:58.582Z"
   },
   {
    "duration": 16,
    "start_time": "2022-04-14T09:09:58.600Z"
   },
   {
    "duration": 21,
    "start_time": "2022-04-14T09:09:58.619Z"
   },
   {
    "duration": 13,
    "start_time": "2022-04-14T09:09:58.682Z"
   },
   {
    "duration": 19,
    "start_time": "2022-04-14T09:09:58.698Z"
   },
   {
    "duration": 22,
    "start_time": "2022-04-14T09:09:58.720Z"
   },
   {
    "duration": 41,
    "start_time": "2022-04-14T09:09:58.745Z"
   },
   {
    "duration": 7,
    "start_time": "2022-04-14T09:09:58.789Z"
   },
   {
    "duration": 15,
    "start_time": "2022-04-14T09:09:58.798Z"
   },
   {
    "duration": 13,
    "start_time": "2022-04-14T09:09:58.815Z"
   },
   {
    "duration": 6,
    "start_time": "2022-04-14T09:09:58.830Z"
   },
   {
    "duration": 155,
    "start_time": "2022-04-14T09:09:58.838Z"
   },
   {
    "duration": 6,
    "start_time": "2022-04-14T09:09:58.995Z"
   },
   {
    "duration": 21,
    "start_time": "2022-04-14T09:09:59.003Z"
   },
   {
    "duration": 98,
    "start_time": "2022-04-14T09:09:59.027Z"
   },
   {
    "duration": 28,
    "start_time": "2022-04-14T09:09:59.127Z"
   },
   {
    "duration": 34,
    "start_time": "2022-04-14T09:09:59.158Z"
   },
   {
    "duration": 25,
    "start_time": "2022-04-14T09:09:59.194Z"
   },
   {
    "duration": 16,
    "start_time": "2022-04-14T09:09:59.221Z"
   },
   {
    "duration": 44,
    "start_time": "2022-04-14T09:09:59.240Z"
   },
   {
    "duration": 11,
    "start_time": "2022-04-14T09:09:59.286Z"
   },
   {
    "duration": 13,
    "start_time": "2022-04-14T09:09:59.299Z"
   },
   {
    "duration": 5,
    "start_time": "2022-04-14T09:09:59.315Z"
   },
   {
    "duration": 11,
    "start_time": "2022-04-14T09:09:59.323Z"
   },
   {
    "duration": 7,
    "start_time": "2022-04-14T09:09:59.381Z"
   },
   {
    "duration": 42,
    "start_time": "2022-04-14T09:09:59.390Z"
   },
   {
    "duration": 12,
    "start_time": "2022-04-14T09:09:59.435Z"
   },
   {
    "duration": 34,
    "start_time": "2022-04-14T09:09:59.449Z"
   },
   {
    "duration": 9,
    "start_time": "2022-04-14T09:09:59.488Z"
   },
   {
    "duration": 10,
    "start_time": "2022-04-14T09:09:59.499Z"
   },
   {
    "duration": 18,
    "start_time": "2022-04-14T09:09:59.512Z"
   },
   {
    "duration": 68,
    "start_time": "2022-04-14T09:09:59.532Z"
   },
   {
    "duration": 30,
    "start_time": "2022-04-14T09:09:59.603Z"
   },
   {
    "duration": 62,
    "start_time": "2022-04-14T09:09:59.635Z"
   },
   {
    "duration": 547,
    "start_time": "2022-04-14T09:09:59.699Z"
   },
   {
    "duration": 535,
    "start_time": "2022-04-14T09:10:00.249Z"
   },
   {
    "duration": 997,
    "start_time": "2022-04-14T09:10:00.787Z"
   },
   {
    "duration": 16,
    "start_time": "2022-04-14T09:10:01.787Z"
   },
   {
    "duration": 15,
    "start_time": "2022-04-14T09:10:01.805Z"
   },
   {
    "duration": 16,
    "start_time": "2022-04-14T09:14:37.673Z"
   },
   {
    "duration": 35,
    "start_time": "2022-04-14T09:19:40.147Z"
   },
   {
    "duration": 36,
    "start_time": "2022-04-14T09:20:02.243Z"
   },
   {
    "duration": 28,
    "start_time": "2022-04-14T09:20:26.262Z"
   },
   {
    "duration": 16,
    "start_time": "2022-04-14T09:20:42.054Z"
   },
   {
    "duration": 18,
    "start_time": "2022-04-14T09:20:53.411Z"
   },
   {
    "duration": 1563,
    "start_time": "2022-04-14T09:20:59.623Z"
   },
   {
    "duration": 1011,
    "start_time": "2022-04-14T09:21:01.189Z"
   },
   {
    "duration": 104,
    "start_time": "2022-04-14T09:21:02.204Z"
   },
   {
    "duration": 411,
    "start_time": "2022-04-14T09:21:02.313Z"
   },
   {
    "duration": 75,
    "start_time": "2022-04-14T09:21:02.727Z"
   },
   {
    "duration": 19,
    "start_time": "2022-04-14T09:21:02.805Z"
   },
   {
    "duration": 101,
    "start_time": "2022-04-14T09:21:02.882Z"
   },
   {
    "duration": 401,
    "start_time": "2022-04-14T09:21:02.986Z"
   },
   {
    "duration": 20,
    "start_time": "2022-04-14T09:21:03.390Z"
   },
   {
    "duration": 12,
    "start_time": "2022-04-14T09:21:03.413Z"
   },
   {
    "duration": 27,
    "start_time": "2022-04-14T09:21:03.482Z"
   },
   {
    "duration": 187,
    "start_time": "2022-04-14T09:21:03.511Z"
   },
   {
    "duration": 16,
    "start_time": "2022-04-14T09:21:03.700Z"
   },
   {
    "duration": 73,
    "start_time": "2022-04-14T09:21:03.720Z"
   },
   {
    "duration": 20,
    "start_time": "2022-04-14T09:21:03.795Z"
   },
   {
    "duration": 70,
    "start_time": "2022-04-14T09:21:03.818Z"
   },
   {
    "duration": 19,
    "start_time": "2022-04-14T09:21:03.890Z"
   },
   {
    "duration": 74,
    "start_time": "2022-04-14T09:21:03.912Z"
   },
   {
    "duration": 9,
    "start_time": "2022-04-14T09:21:03.990Z"
   },
   {
    "duration": 9,
    "start_time": "2022-04-14T09:21:04.002Z"
   },
   {
    "duration": 75,
    "start_time": "2022-04-14T09:21:04.014Z"
   },
   {
    "duration": 12,
    "start_time": "2022-04-14T09:21:04.092Z"
   },
   {
    "duration": 6,
    "start_time": "2022-04-14T09:21:04.107Z"
   },
   {
    "duration": 209,
    "start_time": "2022-04-14T09:21:04.115Z"
   },
   {
    "duration": 58,
    "start_time": "2022-04-14T09:21:04.327Z"
   },
   {
    "duration": 22,
    "start_time": "2022-04-14T09:21:04.388Z"
   },
   {
    "duration": 125,
    "start_time": "2022-04-14T09:21:04.412Z"
   },
   {
    "duration": 63,
    "start_time": "2022-04-14T09:21:04.539Z"
   },
   {
    "duration": 20,
    "start_time": "2022-04-14T09:21:04.605Z"
   },
   {
    "duration": 55,
    "start_time": "2022-04-14T09:21:04.628Z"
   },
   {
    "duration": 34,
    "start_time": "2022-04-14T09:21:04.686Z"
   },
   {
    "duration": 11,
    "start_time": "2022-04-14T09:21:04.723Z"
   },
   {
    "duration": 52,
    "start_time": "2022-04-14T09:21:04.737Z"
   },
   {
    "duration": 156,
    "start_time": "2022-04-14T09:21:04.791Z"
   },
   {
    "duration": 0,
    "start_time": "2022-04-14T09:21:04.950Z"
   },
   {
    "duration": 0,
    "start_time": "2022-04-14T09:21:04.952Z"
   },
   {
    "duration": 0,
    "start_time": "2022-04-14T09:21:04.954Z"
   },
   {
    "duration": 0,
    "start_time": "2022-04-14T09:21:04.955Z"
   },
   {
    "duration": 0,
    "start_time": "2022-04-14T09:21:04.957Z"
   },
   {
    "duration": 0,
    "start_time": "2022-04-14T09:21:04.959Z"
   },
   {
    "duration": 0,
    "start_time": "2022-04-14T09:21:04.960Z"
   },
   {
    "duration": 0,
    "start_time": "2022-04-14T09:21:04.982Z"
   },
   {
    "duration": 0,
    "start_time": "2022-04-14T09:21:04.984Z"
   },
   {
    "duration": 0,
    "start_time": "2022-04-14T09:21:04.986Z"
   },
   {
    "duration": 0,
    "start_time": "2022-04-14T09:21:04.987Z"
   },
   {
    "duration": 0,
    "start_time": "2022-04-14T09:21:04.988Z"
   },
   {
    "duration": 1,
    "start_time": "2022-04-14T09:21:04.990Z"
   },
   {
    "duration": 1,
    "start_time": "2022-04-14T09:21:04.991Z"
   },
   {
    "duration": 0,
    "start_time": "2022-04-14T09:21:04.993Z"
   },
   {
    "duration": 0,
    "start_time": "2022-04-14T09:21:04.995Z"
   },
   {
    "duration": 0,
    "start_time": "2022-04-14T09:21:04.997Z"
   },
   {
    "duration": 0,
    "start_time": "2022-04-14T09:21:04.998Z"
   },
   {
    "duration": 0,
    "start_time": "2022-04-14T09:21:04.999Z"
   },
   {
    "duration": 0,
    "start_time": "2022-04-14T09:21:05.001Z"
   },
   {
    "duration": 0,
    "start_time": "2022-04-14T09:21:05.002Z"
   },
   {
    "duration": 0,
    "start_time": "2022-04-14T09:21:05.004Z"
   },
   {
    "duration": 26,
    "start_time": "2022-04-14T09:21:37.407Z"
   },
   {
    "duration": 14,
    "start_time": "2022-04-14T09:21:56.497Z"
   },
   {
    "duration": 15,
    "start_time": "2022-04-14T09:22:05.276Z"
   },
   {
    "duration": 53,
    "start_time": "2022-04-14T09:22:08.623Z"
   },
   {
    "duration": 5,
    "start_time": "2022-04-14T09:24:04.439Z"
   },
   {
    "duration": 9,
    "start_time": "2022-04-14T09:24:23.796Z"
   },
   {
    "duration": 43,
    "start_time": "2022-04-14T09:24:28.056Z"
   },
   {
    "duration": 13,
    "start_time": "2022-04-14T09:24:38.586Z"
   },
   {
    "duration": 5,
    "start_time": "2022-04-14T09:24:39.898Z"
   },
   {
    "duration": 39,
    "start_time": "2022-04-14T09:24:44.420Z"
   },
   {
    "duration": 14,
    "start_time": "2022-04-14T09:25:15.435Z"
   },
   {
    "duration": 39,
    "start_time": "2022-04-14T09:25:17.597Z"
   },
   {
    "duration": 13,
    "start_time": "2022-04-14T09:25:38.095Z"
   },
   {
    "duration": 36,
    "start_time": "2022-04-14T09:25:39.823Z"
   },
   {
    "duration": 6,
    "start_time": "2022-04-14T09:27:46.365Z"
   },
   {
    "duration": 36,
    "start_time": "2022-04-14T09:27:47.861Z"
   },
   {
    "duration": 8,
    "start_time": "2022-04-14T09:27:59.787Z"
   },
   {
    "duration": 36,
    "start_time": "2022-04-14T09:28:02.068Z"
   },
   {
    "duration": 37,
    "start_time": "2022-04-14T09:28:45.777Z"
   },
   {
    "duration": 7,
    "start_time": "2022-04-14T09:28:47.143Z"
   },
   {
    "duration": 37,
    "start_time": "2022-04-14T09:28:48.662Z"
   },
   {
    "duration": 14,
    "start_time": "2022-04-14T09:28:54.152Z"
   },
   {
    "duration": 34,
    "start_time": "2022-04-14T09:28:55.680Z"
   },
   {
    "duration": 11,
    "start_time": "2022-04-14T09:29:05.875Z"
   },
   {
    "duration": 45,
    "start_time": "2022-04-14T09:29:07.484Z"
   },
   {
    "duration": 12,
    "start_time": "2022-04-14T09:29:51.664Z"
   },
   {
    "duration": 7,
    "start_time": "2022-04-14T09:29:53.509Z"
   },
   {
    "duration": 56,
    "start_time": "2022-04-14T09:29:54.530Z"
   },
   {
    "duration": 13,
    "start_time": "2022-04-14T09:30:00.881Z"
   },
   {
    "duration": 6,
    "start_time": "2022-04-14T09:30:02.424Z"
   },
   {
    "duration": 13,
    "start_time": "2022-04-14T09:30:28.405Z"
   },
   {
    "duration": 5,
    "start_time": "2022-04-14T09:30:29.966Z"
   },
   {
    "duration": 48,
    "start_time": "2022-04-14T09:31:31.081Z"
   },
   {
    "duration": 43,
    "start_time": "2022-04-14T09:31:44.232Z"
   },
   {
    "duration": 21,
    "start_time": "2022-04-14T09:36:43.615Z"
   },
   {
    "duration": 18,
    "start_time": "2022-04-14T09:36:51.837Z"
   },
   {
    "duration": 18,
    "start_time": "2022-04-14T09:36:58.117Z"
   },
   {
    "duration": 19,
    "start_time": "2022-04-14T09:37:51.853Z"
   },
   {
    "duration": 20,
    "start_time": "2022-04-14T09:37:57.361Z"
   },
   {
    "duration": 20,
    "start_time": "2022-04-14T09:37:59.522Z"
   },
   {
    "duration": 12,
    "start_time": "2022-04-14T09:38:23.747Z"
   },
   {
    "duration": 11,
    "start_time": "2022-04-14T09:38:53.949Z"
   },
   {
    "duration": 12,
    "start_time": "2022-04-14T09:39:06.974Z"
   },
   {
    "duration": 1612,
    "start_time": "2022-04-14T12:32:10.880Z"
   },
   {
    "duration": 464,
    "start_time": "2022-04-14T12:32:12.495Z"
   },
   {
    "duration": 37,
    "start_time": "2022-04-14T12:32:12.962Z"
   },
   {
    "duration": 189,
    "start_time": "2022-04-14T12:32:13.002Z"
   },
   {
    "duration": 16,
    "start_time": "2022-04-14T12:32:13.195Z"
   },
   {
    "duration": 15,
    "start_time": "2022-04-14T12:32:13.214Z"
   },
   {
    "duration": 63,
    "start_time": "2022-04-14T12:32:13.231Z"
   },
   {
    "duration": 142,
    "start_time": "2022-04-14T12:32:13.296Z"
   },
   {
    "duration": 13,
    "start_time": "2022-04-14T12:32:13.440Z"
   },
   {
    "duration": 36,
    "start_time": "2022-04-14T12:32:13.455Z"
   },
   {
    "duration": 25,
    "start_time": "2022-04-14T12:32:13.493Z"
   },
   {
    "duration": 107,
    "start_time": "2022-04-14T12:32:13.522Z"
   },
   {
    "duration": 14,
    "start_time": "2022-04-14T12:32:13.632Z"
   },
   {
    "duration": 39,
    "start_time": "2022-04-14T12:32:13.650Z"
   },
   {
    "duration": 15,
    "start_time": "2022-04-14T12:32:13.691Z"
   },
   {
    "duration": 12,
    "start_time": "2022-04-14T12:32:13.708Z"
   },
   {
    "duration": 15,
    "start_time": "2022-04-14T12:32:13.722Z"
   },
   {
    "duration": 54,
    "start_time": "2022-04-14T12:32:13.740Z"
   },
   {
    "duration": 7,
    "start_time": "2022-04-14T12:32:13.797Z"
   },
   {
    "duration": 8,
    "start_time": "2022-04-14T12:32:13.806Z"
   },
   {
    "duration": 14,
    "start_time": "2022-04-14T12:32:13.817Z"
   },
   {
    "duration": 54,
    "start_time": "2022-04-14T12:32:13.833Z"
   },
   {
    "duration": 5,
    "start_time": "2022-04-14T12:32:13.889Z"
   },
   {
    "duration": 121,
    "start_time": "2022-04-14T12:32:13.897Z"
   },
   {
    "duration": 6,
    "start_time": "2022-04-14T12:32:14.020Z"
   },
   {
    "duration": 30,
    "start_time": "2022-04-14T12:32:14.028Z"
   },
   {
    "duration": 79,
    "start_time": "2022-04-14T12:32:14.060Z"
   },
   {
    "duration": 43,
    "start_time": "2022-04-14T12:32:14.142Z"
   },
   {
    "duration": 13,
    "start_time": "2022-04-14T12:32:14.187Z"
   },
   {
    "duration": 26,
    "start_time": "2022-04-14T12:32:14.202Z"
   },
   {
    "duration": 21,
    "start_time": "2022-04-14T12:32:14.230Z"
   },
   {
    "duration": 36,
    "start_time": "2022-04-14T12:32:14.254Z"
   },
   {
    "duration": 25,
    "start_time": "2022-04-14T12:32:14.292Z"
   },
   {
    "duration": 13,
    "start_time": "2022-04-14T12:32:14.319Z"
   },
   {
    "duration": 52,
    "start_time": "2022-04-14T12:32:14.334Z"
   },
   {
    "duration": 33,
    "start_time": "2022-04-14T12:32:14.388Z"
   },
   {
    "duration": 6,
    "start_time": "2022-04-14T12:32:14.423Z"
   },
   {
    "duration": 8,
    "start_time": "2022-04-14T12:32:14.431Z"
   },
   {
    "duration": 61,
    "start_time": "2022-04-14T12:32:14.441Z"
   },
   {
    "duration": 12,
    "start_time": "2022-04-14T12:32:14.504Z"
   },
   {
    "duration": 11,
    "start_time": "2022-04-14T12:32:14.521Z"
   },
   {
    "duration": 61,
    "start_time": "2022-04-14T12:32:14.535Z"
   },
   {
    "duration": 6,
    "start_time": "2022-04-14T12:32:14.599Z"
   },
   {
    "duration": 11,
    "start_time": "2022-04-14T12:32:14.607Z"
   },
   {
    "duration": 7,
    "start_time": "2022-04-14T12:32:14.620Z"
   },
   {
    "duration": 71,
    "start_time": "2022-04-14T12:32:14.629Z"
   },
   {
    "duration": 46,
    "start_time": "2022-04-14T12:32:14.703Z"
   },
   {
    "duration": 32,
    "start_time": "2022-04-14T12:32:14.752Z"
   },
   {
    "duration": 11,
    "start_time": "2022-04-14T12:32:14.787Z"
   },
   {
    "duration": 12,
    "start_time": "2022-04-14T12:32:14.801Z"
   },
   {
    "duration": 19,
    "start_time": "2022-04-14T12:32:14.815Z"
   },
   {
    "duration": 74,
    "start_time": "2022-04-14T12:32:14.837Z"
   },
   {
    "duration": 69,
    "start_time": "2022-04-14T12:32:14.913Z"
   },
   {
    "duration": 30,
    "start_time": "2022-04-14T12:32:14.984Z"
   },
   {
    "duration": 546,
    "start_time": "2022-04-14T12:32:15.017Z"
   },
   {
    "duration": 505,
    "start_time": "2022-04-14T12:32:15.565Z"
   },
   {
    "duration": 517,
    "start_time": "2022-04-14T12:32:16.072Z"
   },
   {
    "duration": 16,
    "start_time": "2022-04-14T12:32:16.591Z"
   },
   {
    "duration": 14,
    "start_time": "2022-04-14T12:32:16.609Z"
   },
   {
    "duration": 1483,
    "start_time": "2022-04-14T12:37:16.035Z"
   },
   {
    "duration": 475,
    "start_time": "2022-04-14T12:37:17.521Z"
   },
   {
    "duration": 35,
    "start_time": "2022-04-14T12:37:17.998Z"
   },
   {
    "duration": 189,
    "start_time": "2022-04-14T12:37:18.035Z"
   },
   {
    "duration": 14,
    "start_time": "2022-04-14T12:37:18.227Z"
   },
   {
    "duration": 13,
    "start_time": "2022-04-14T12:37:18.243Z"
   },
   {
    "duration": 29,
    "start_time": "2022-04-14T12:37:18.282Z"
   },
   {
    "duration": 153,
    "start_time": "2022-04-14T12:37:18.313Z"
   },
   {
    "duration": 23,
    "start_time": "2022-04-14T12:37:18.468Z"
   },
   {
    "duration": 12,
    "start_time": "2022-04-14T12:37:18.493Z"
   },
   {
    "duration": 28,
    "start_time": "2022-04-14T12:37:18.506Z"
   },
   {
    "duration": 112,
    "start_time": "2022-04-14T12:37:18.537Z"
   },
   {
    "duration": 32,
    "start_time": "2022-04-14T12:37:18.651Z"
   },
   {
    "duration": 16,
    "start_time": "2022-04-14T12:37:18.687Z"
   },
   {
    "duration": 16,
    "start_time": "2022-04-14T12:37:18.705Z"
   },
   {
    "duration": 12,
    "start_time": "2022-04-14T12:37:18.723Z"
   },
   {
    "duration": 57,
    "start_time": "2022-04-14T12:37:18.737Z"
   },
   {
    "duration": 20,
    "start_time": "2022-04-14T12:37:18.796Z"
   },
   {
    "duration": 8,
    "start_time": "2022-04-14T12:37:18.819Z"
   },
   {
    "duration": 52,
    "start_time": "2022-04-14T12:37:18.830Z"
   },
   {
    "duration": 16,
    "start_time": "2022-04-14T12:37:18.885Z"
   },
   {
    "duration": 12,
    "start_time": "2022-04-14T12:37:18.904Z"
   },
   {
    "duration": 8,
    "start_time": "2022-04-14T12:37:18.918Z"
   },
   {
    "duration": 153,
    "start_time": "2022-04-14T12:37:18.929Z"
   },
   {
    "duration": 7,
    "start_time": "2022-04-14T12:37:19.084Z"
   },
   {
    "duration": 27,
    "start_time": "2022-04-14T12:37:19.093Z"
   },
   {
    "duration": 95,
    "start_time": "2022-04-14T12:37:19.123Z"
   },
   {
    "duration": 26,
    "start_time": "2022-04-14T12:37:19.220Z"
   },
   {
    "duration": 13,
    "start_time": "2022-04-14T12:37:19.248Z"
   },
   {
    "duration": 22,
    "start_time": "2022-04-14T12:37:19.282Z"
   },
   {
    "duration": 23,
    "start_time": "2022-04-14T12:37:19.307Z"
   },
   {
    "duration": 11,
    "start_time": "2022-04-14T12:37:19.332Z"
   },
   {
    "duration": 54,
    "start_time": "2022-04-14T12:37:19.346Z"
   },
   {
    "duration": 16,
    "start_time": "2022-04-14T12:37:19.402Z"
   },
   {
    "duration": 14,
    "start_time": "2022-04-14T12:37:19.420Z"
   },
   {
    "duration": 66,
    "start_time": "2022-04-14T12:37:19.436Z"
   },
   {
    "duration": 5,
    "start_time": "2022-04-14T12:37:19.504Z"
   },
   {
    "duration": 10,
    "start_time": "2022-04-14T12:37:19.511Z"
   },
   {
    "duration": 64,
    "start_time": "2022-04-14T12:37:19.523Z"
   },
   {
    "duration": 13,
    "start_time": "2022-04-14T12:37:19.590Z"
   },
   {
    "duration": 11,
    "start_time": "2022-04-14T12:37:19.609Z"
   },
   {
    "duration": 69,
    "start_time": "2022-04-14T12:37:19.623Z"
   },
   {
    "duration": 5,
    "start_time": "2022-04-14T12:37:19.695Z"
   },
   {
    "duration": 10,
    "start_time": "2022-04-14T12:37:19.702Z"
   },
   {
    "duration": 6,
    "start_time": "2022-04-14T12:37:19.714Z"
   },
   {
    "duration": 65,
    "start_time": "2022-04-14T12:37:19.722Z"
   },
   {
    "duration": 48,
    "start_time": "2022-04-14T12:37:19.789Z"
   },
   {
    "duration": 5,
    "start_time": "2022-04-14T12:37:19.839Z"
   },
   {
    "duration": 39,
    "start_time": "2022-04-14T12:37:19.846Z"
   },
   {
    "duration": 11,
    "start_time": "2022-04-14T12:37:19.888Z"
   },
   {
    "duration": 21,
    "start_time": "2022-04-14T12:37:19.902Z"
   },
   {
    "duration": 62,
    "start_time": "2022-04-14T12:37:19.926Z"
   },
   {
    "duration": 31,
    "start_time": "2022-04-14T12:37:19.990Z"
   },
   {
    "duration": 65,
    "start_time": "2022-04-14T12:37:20.023Z"
   },
   {
    "duration": 662,
    "start_time": "2022-04-14T12:37:20.090Z"
   },
   {
    "duration": 506,
    "start_time": "2022-04-14T12:37:20.754Z"
   },
   {
    "duration": 534,
    "start_time": "2022-04-14T12:37:21.262Z"
   },
   {
    "duration": 17,
    "start_time": "2022-04-14T12:37:21.799Z"
   },
   {
    "duration": 17,
    "start_time": "2022-04-14T12:37:21.819Z"
   },
   {
    "duration": 16,
    "start_time": "2022-04-14T12:45:06.952Z"
   },
   {
    "duration": 16,
    "start_time": "2022-04-14T12:45:39.681Z"
   },
   {
    "duration": 7,
    "start_time": "2022-04-14T13:10:33.844Z"
   },
   {
    "duration": 6,
    "start_time": "2022-04-14T13:10:55.999Z"
   },
   {
    "duration": 6,
    "start_time": "2022-04-14T13:11:19.311Z"
   },
   {
    "duration": 18,
    "start_time": "2022-04-14T13:15:16.908Z"
   },
   {
    "duration": 6,
    "start_time": "2022-04-14T13:15:18.241Z"
   },
   {
    "duration": 9,
    "start_time": "2022-04-14T13:15:24.527Z"
   },
   {
    "duration": 36,
    "start_time": "2022-04-14T13:15:26.728Z"
   },
   {
    "duration": 12,
    "start_time": "2022-04-14T13:15:33.062Z"
   },
   {
    "duration": 38,
    "start_time": "2022-04-14T13:15:36.202Z"
   },
   {
    "duration": 15,
    "start_time": "2022-04-14T13:15:42.607Z"
   },
   {
    "duration": 49,
    "start_time": "2022-04-14T13:15:44.864Z"
   },
   {
    "duration": 15,
    "start_time": "2022-04-14T13:15:56.437Z"
   },
   {
    "duration": 53,
    "start_time": "2022-04-14T13:15:57.803Z"
   },
   {
    "duration": 14,
    "start_time": "2022-04-14T13:16:02.360Z"
   },
   {
    "duration": 53,
    "start_time": "2022-04-14T13:16:06.769Z"
   },
   {
    "duration": 9,
    "start_time": "2022-04-14T13:16:14.657Z"
   },
   {
    "duration": 198,
    "start_time": "2022-04-14T13:16:16.520Z"
   },
   {
    "duration": 60,
    "start_time": "2022-04-14T13:17:32.841Z"
   },
   {
    "duration": 48,
    "start_time": "2022-04-14T13:17:40.070Z"
   },
   {
    "duration": 6,
    "start_time": "2022-04-14T13:17:56.727Z"
   },
   {
    "duration": 8,
    "start_time": "2022-04-14T13:17:58.225Z"
   },
   {
    "duration": 27,
    "start_time": "2022-04-14T13:17:59.829Z"
   },
   {
    "duration": 8,
    "start_time": "2022-04-14T13:18:21.723Z"
   },
   {
    "duration": 18,
    "start_time": "2022-04-14T13:18:30.184Z"
   },
   {
    "duration": 10,
    "start_time": "2022-04-14T13:18:33.830Z"
   },
   {
    "duration": 18,
    "start_time": "2022-04-14T13:18:41.167Z"
   },
   {
    "duration": 16,
    "start_time": "2022-04-14T13:18:45.918Z"
   },
   {
    "duration": 12,
    "start_time": "2022-04-14T13:19:08.142Z"
   },
   {
    "duration": 20,
    "start_time": "2022-04-14T13:19:09.496Z"
   },
   {
    "duration": 15,
    "start_time": "2022-04-14T13:19:30.898Z"
   },
   {
    "duration": 24,
    "start_time": "2022-04-14T13:19:45.500Z"
   },
   {
    "duration": 35,
    "start_time": "2022-04-14T13:19:49.294Z"
   },
   {
    "duration": 7,
    "start_time": "2022-04-14T13:20:03.553Z"
   },
   {
    "duration": 44,
    "start_time": "2022-04-14T13:20:06.786Z"
   },
   {
    "duration": 58,
    "start_time": "2022-04-14T13:20:24.987Z"
   },
   {
    "duration": 58,
    "start_time": "2022-04-14T13:20:31.977Z"
   },
   {
    "duration": 70,
    "start_time": "2022-04-14T13:21:05.901Z"
   },
   {
    "duration": 6,
    "start_time": "2022-04-14T13:21:15.933Z"
   },
   {
    "duration": 7,
    "start_time": "2022-04-14T13:21:17.804Z"
   },
   {
    "duration": 7,
    "start_time": "2022-04-14T13:21:19.140Z"
   },
   {
    "duration": 6,
    "start_time": "2022-04-14T13:21:24.778Z"
   },
   {
    "duration": 10,
    "start_time": "2022-04-14T13:21:37.528Z"
   },
   {
    "duration": 22,
    "start_time": "2022-04-14T13:21:39.493Z"
   },
   {
    "duration": 7,
    "start_time": "2022-04-14T13:21:55.329Z"
   },
   {
    "duration": 19,
    "start_time": "2022-04-14T13:21:57.039Z"
   },
   {
    "duration": 17,
    "start_time": "2022-04-14T13:22:02.827Z"
   },
   {
    "duration": 58,
    "start_time": "2022-04-14T13:22:10.765Z"
   },
   {
    "duration": 40,
    "start_time": "2022-04-14T13:22:30.508Z"
   },
   {
    "duration": 29,
    "start_time": "2022-04-14T13:22:37.851Z"
   },
   {
    "duration": 31,
    "start_time": "2022-04-14T13:22:41.212Z"
   },
   {
    "duration": 647,
    "start_time": "2022-04-14T13:22:42.912Z"
   },
   {
    "duration": 562,
    "start_time": "2022-04-14T13:22:45.849Z"
   },
   {
    "duration": 649,
    "start_time": "2022-04-14T13:22:52.990Z"
   },
   {
    "duration": 535,
    "start_time": "2022-04-14T13:22:57.807Z"
   },
   {
    "duration": 39,
    "start_time": "2022-04-14T13:23:33.173Z"
   },
   {
    "duration": 50,
    "start_time": "2022-04-14T13:23:41.838Z"
   },
   {
    "duration": 5,
    "start_time": "2022-04-14T13:23:46.536Z"
   },
   {
    "duration": 2317,
    "start_time": "2022-04-14T13:23:57.659Z"
   },
   {
    "duration": 6,
    "start_time": "2022-04-14T13:24:07.648Z"
   },
   {
    "duration": 6,
    "start_time": "2022-04-14T13:24:08.799Z"
   },
   {
    "duration": 6,
    "start_time": "2022-04-14T13:24:09.854Z"
   },
   {
    "duration": 1581,
    "start_time": "2022-04-14T13:24:18.593Z"
   },
   {
    "duration": 502,
    "start_time": "2022-04-14T13:24:20.177Z"
   },
   {
    "duration": 43,
    "start_time": "2022-04-14T13:24:20.682Z"
   },
   {
    "duration": 206,
    "start_time": "2022-04-14T13:24:20.728Z"
   },
   {
    "duration": 16,
    "start_time": "2022-04-14T13:24:20.937Z"
   },
   {
    "duration": 39,
    "start_time": "2022-04-14T13:24:20.956Z"
   },
   {
    "duration": 30,
    "start_time": "2022-04-14T13:24:20.998Z"
   },
   {
    "duration": 180,
    "start_time": "2022-04-14T13:24:21.031Z"
   },
   {
    "duration": 16,
    "start_time": "2022-04-14T13:24:21.213Z"
   },
   {
    "duration": 12,
    "start_time": "2022-04-14T13:24:21.231Z"
   },
   {
    "duration": 56,
    "start_time": "2022-04-14T13:24:21.245Z"
   },
   {
    "duration": 115,
    "start_time": "2022-04-14T13:24:21.304Z"
   },
   {
    "duration": 15,
    "start_time": "2022-04-14T13:24:21.422Z"
   },
   {
    "duration": 15,
    "start_time": "2022-04-14T13:24:21.444Z"
   },
   {
    "duration": 22,
    "start_time": "2022-04-14T13:24:21.483Z"
   },
   {
    "duration": 19,
    "start_time": "2022-04-14T13:24:21.514Z"
   },
   {
    "duration": 47,
    "start_time": "2022-04-14T13:24:21.536Z"
   },
   {
    "duration": 22,
    "start_time": "2022-04-14T13:24:21.586Z"
   },
   {
    "duration": 7,
    "start_time": "2022-04-14T13:24:21.610Z"
   },
   {
    "duration": 11,
    "start_time": "2022-04-14T13:24:21.623Z"
   },
   {
    "duration": 61,
    "start_time": "2022-04-14T13:24:21.637Z"
   },
   {
    "duration": 17,
    "start_time": "2022-04-14T13:24:21.701Z"
   },
   {
    "duration": 6,
    "start_time": "2022-04-14T13:24:21.720Z"
   },
   {
    "duration": 158,
    "start_time": "2022-04-14T13:24:21.729Z"
   },
   {
    "duration": 7,
    "start_time": "2022-04-14T13:24:21.889Z"
   },
   {
    "duration": 40,
    "start_time": "2022-04-14T13:24:21.898Z"
   },
   {
    "duration": 90,
    "start_time": "2022-04-14T13:24:21.941Z"
   },
   {
    "duration": 28,
    "start_time": "2022-04-14T13:24:22.033Z"
   },
   {
    "duration": 26,
    "start_time": "2022-04-14T13:24:22.063Z"
   },
   {
    "duration": 33,
    "start_time": "2022-04-14T13:24:22.092Z"
   },
   {
    "duration": 21,
    "start_time": "2022-04-14T13:24:22.127Z"
   },
   {
    "duration": 37,
    "start_time": "2022-04-14T13:24:22.150Z"
   },
   {
    "duration": 13,
    "start_time": "2022-04-14T13:24:22.190Z"
   },
   {
    "duration": 9,
    "start_time": "2022-04-14T13:24:22.206Z"
   },
   {
    "duration": 42,
    "start_time": "2022-04-14T13:24:22.217Z"
   },
   {
    "duration": 69,
    "start_time": "2022-04-14T13:24:22.261Z"
   },
   {
    "duration": 64,
    "start_time": "2022-04-14T13:24:22.332Z"
   },
   {
    "duration": 6,
    "start_time": "2022-04-14T13:24:22.399Z"
   },
   {
    "duration": 16,
    "start_time": "2022-04-14T13:24:22.408Z"
   },
   {
    "duration": 11,
    "start_time": "2022-04-14T13:24:22.427Z"
   },
   {
    "duration": 81,
    "start_time": "2022-04-14T13:24:22.444Z"
   },
   {
    "duration": 57,
    "start_time": "2022-04-14T13:24:22.528Z"
   },
   {
    "duration": 10,
    "start_time": "2022-04-14T13:24:22.588Z"
   },
   {
    "duration": 7,
    "start_time": "2022-04-14T13:24:22.601Z"
   },
   {
    "duration": 6,
    "start_time": "2022-04-14T13:24:22.611Z"
   },
   {
    "duration": 7,
    "start_time": "2022-04-14T13:24:22.620Z"
   },
   {
    "duration": 61,
    "start_time": "2022-04-14T13:24:22.630Z"
   },
   {
    "duration": 11,
    "start_time": "2022-04-14T13:24:22.695Z"
   },
   {
    "duration": 21,
    "start_time": "2022-04-14T13:24:22.708Z"
   },
   {
    "duration": 76,
    "start_time": "2022-04-14T13:24:22.731Z"
   },
   {
    "duration": 32,
    "start_time": "2022-04-14T13:24:22.809Z"
   },
   {
    "duration": 66,
    "start_time": "2022-04-14T13:24:22.844Z"
   },
   {
    "duration": 625,
    "start_time": "2022-04-14T13:24:22.913Z"
   },
   {
    "duration": 581,
    "start_time": "2022-04-14T13:24:23.541Z"
   },
   {
    "duration": 615,
    "start_time": "2022-04-14T13:24:24.125Z"
   },
   {
    "duration": 706,
    "start_time": "2022-04-14T13:24:24.743Z"
   },
   {
    "duration": 0,
    "start_time": "2022-04-14T13:24:25.452Z"
   },
   {
    "duration": 49,
    "start_time": "2022-04-14T13:25:45.732Z"
   },
   {
    "duration": 51,
    "start_time": "2022-04-14T13:26:02.195Z"
   },
   {
    "duration": 29,
    "start_time": "2022-04-14T13:27:07.440Z"
   },
   {
    "duration": 51,
    "start_time": "2022-04-14T13:27:14.525Z"
   },
   {
    "duration": 52,
    "start_time": "2022-04-14T13:27:31.716Z"
   },
   {
    "duration": 56,
    "start_time": "2022-04-14T13:27:40.781Z"
   },
   {
    "duration": 54,
    "start_time": "2022-04-14T13:28:18.401Z"
   },
   {
    "duration": 54,
    "start_time": "2022-04-14T13:28:25.888Z"
   },
   {
    "duration": 51,
    "start_time": "2022-04-14T13:28:43.794Z"
   },
   {
    "duration": 32,
    "start_time": "2022-04-14T13:28:58.652Z"
   },
   {
    "duration": 29,
    "start_time": "2022-04-14T13:29:01.634Z"
   },
   {
    "duration": 8,
    "start_time": "2022-04-14T13:29:04.704Z"
   },
   {
    "duration": 72,
    "start_time": "2022-04-14T13:29:37.162Z"
   },
   {
    "duration": 42,
    "start_time": "2022-04-14T13:29:41.302Z"
   },
   {
    "duration": 21,
    "start_time": "2022-04-14T13:29:53.238Z"
   },
   {
    "duration": 39,
    "start_time": "2022-04-14T13:29:56.246Z"
   },
   {
    "duration": 6,
    "start_time": "2022-04-14T13:30:02.455Z"
   },
   {
    "duration": 1563,
    "start_time": "2022-04-14T13:30:37.619Z"
   },
   {
    "duration": 627,
    "start_time": "2022-04-14T13:30:39.185Z"
   },
   {
    "duration": 83,
    "start_time": "2022-04-14T13:30:39.815Z"
   },
   {
    "duration": 486,
    "start_time": "2022-04-14T13:30:39.900Z"
   },
   {
    "duration": 17,
    "start_time": "2022-04-14T13:30:40.389Z"
   },
   {
    "duration": 15,
    "start_time": "2022-04-14T13:30:40.409Z"
   },
   {
    "duration": 32,
    "start_time": "2022-04-14T13:30:40.483Z"
   },
   {
    "duration": 480,
    "start_time": "2022-04-14T13:30:40.517Z"
   },
   {
    "duration": 20,
    "start_time": "2022-04-14T13:30:41.000Z"
   },
   {
    "duration": 62,
    "start_time": "2022-04-14T13:30:41.023Z"
   },
   {
    "duration": 26,
    "start_time": "2022-04-14T13:30:41.087Z"
   },
   {
    "duration": 197,
    "start_time": "2022-04-14T13:30:41.115Z"
   },
   {
    "duration": 15,
    "start_time": "2022-04-14T13:30:41.314Z"
   },
   {
    "duration": 17,
    "start_time": "2022-04-14T13:30:41.385Z"
   },
   {
    "duration": 20,
    "start_time": "2022-04-14T13:30:41.405Z"
   },
   {
    "duration": 11,
    "start_time": "2022-04-14T13:30:41.483Z"
   },
   {
    "duration": 18,
    "start_time": "2022-04-14T13:30:41.497Z"
   },
   {
    "duration": 72,
    "start_time": "2022-04-14T13:30:41.518Z"
   },
   {
    "duration": 6,
    "start_time": "2022-04-14T13:30:41.593Z"
   },
   {
    "duration": 8,
    "start_time": "2022-04-14T13:30:41.601Z"
   },
   {
    "duration": 70,
    "start_time": "2022-04-14T13:30:41.611Z"
   },
   {
    "duration": 10,
    "start_time": "2022-04-14T13:30:41.684Z"
   },
   {
    "duration": 9,
    "start_time": "2022-04-14T13:30:41.696Z"
   },
   {
    "duration": 274,
    "start_time": "2022-04-14T13:30:41.708Z"
   },
   {
    "duration": 9,
    "start_time": "2022-04-14T13:30:41.985Z"
   },
   {
    "duration": 26,
    "start_time": "2022-04-14T13:30:41.997Z"
   },
   {
    "duration": 142,
    "start_time": "2022-04-14T13:30:42.081Z"
   },
   {
    "duration": 92,
    "start_time": "2022-04-14T13:30:42.226Z"
   },
   {
    "duration": 75,
    "start_time": "2022-04-14T13:30:42.321Z"
   },
   {
    "duration": 85,
    "start_time": "2022-04-14T13:30:42.399Z"
   },
   {
    "duration": 34,
    "start_time": "2022-04-14T13:30:42.487Z"
   },
   {
    "duration": 65,
    "start_time": "2022-04-14T13:30:42.524Z"
   },
   {
    "duration": 7,
    "start_time": "2022-04-14T13:30:42.592Z"
   },
   {
    "duration": 13,
    "start_time": "2022-04-14T13:30:42.601Z"
   },
   {
    "duration": 165,
    "start_time": "2022-04-14T13:30:42.617Z"
   },
   {
    "duration": 20,
    "start_time": "2022-04-14T13:30:42.785Z"
   },
   {
    "duration": 114,
    "start_time": "2022-04-14T13:30:42.808Z"
   },
   {
    "duration": 59,
    "start_time": "2022-04-14T13:30:42.925Z"
   },
   {
    "duration": 11,
    "start_time": "2022-04-14T13:30:42.986Z"
   },
   {
    "duration": 9,
    "start_time": "2022-04-14T13:30:42.999Z"
   },
   {
    "duration": 95,
    "start_time": "2022-04-14T13:30:43.014Z"
   },
   {
    "duration": 104,
    "start_time": "2022-04-14T13:30:43.111Z"
   },
   {
    "duration": 6,
    "start_time": "2022-04-14T13:30:43.217Z"
   },
   {
    "duration": 8,
    "start_time": "2022-04-14T13:30:43.281Z"
   },
   {
    "duration": 8,
    "start_time": "2022-04-14T13:30:43.292Z"
   },
   {
    "duration": 8,
    "start_time": "2022-04-14T13:30:43.302Z"
   },
   {
    "duration": 12,
    "start_time": "2022-04-14T13:30:43.313Z"
   },
   {
    "duration": 11,
    "start_time": "2022-04-14T13:30:43.383Z"
   },
   {
    "duration": 85,
    "start_time": "2022-04-14T13:30:43.397Z"
   },
   {
    "duration": 106,
    "start_time": "2022-04-14T13:30:43.485Z"
   },
   {
    "duration": 96,
    "start_time": "2022-04-14T13:30:43.594Z"
   },
   {
    "duration": 35,
    "start_time": "2022-04-14T13:30:43.693Z"
   },
   {
    "duration": 953,
    "start_time": "2022-04-14T13:30:43.731Z"
   },
   {
    "duration": 1031,
    "start_time": "2022-04-14T13:30:44.687Z"
   },
   {
    "duration": 1085,
    "start_time": "2022-04-14T13:30:45.721Z"
   },
   {
    "duration": 775,
    "start_time": "2022-04-14T13:30:46.809Z"
   },
   {
    "duration": 0,
    "start_time": "2022-04-14T13:30:47.587Z"
   },
   {
    "duration": 15,
    "start_time": "2022-04-14T13:31:08.635Z"
   },
   {
    "duration": 57,
    "start_time": "2022-04-14T13:31:10.151Z"
   },
   {
    "duration": 40,
    "start_time": "2022-04-14T13:31:26.012Z"
   },
   {
    "duration": 6,
    "start_time": "2022-04-14T13:31:28.413Z"
   },
   {
    "duration": 1467,
    "start_time": "2022-04-14T13:33:21.025Z"
   },
   {
    "duration": 489,
    "start_time": "2022-04-14T13:33:22.495Z"
   },
   {
    "duration": 35,
    "start_time": "2022-04-14T13:33:22.987Z"
   },
   {
    "duration": 217,
    "start_time": "2022-04-14T13:33:23.025Z"
   },
   {
    "duration": 15,
    "start_time": "2022-04-14T13:33:23.247Z"
   },
   {
    "duration": 17,
    "start_time": "2022-04-14T13:33:23.283Z"
   },
   {
    "duration": 31,
    "start_time": "2022-04-14T13:33:23.302Z"
   },
   {
    "duration": 195,
    "start_time": "2022-04-14T13:33:23.335Z"
   },
   {
    "duration": 14,
    "start_time": "2022-04-14T13:33:23.533Z"
   },
   {
    "duration": 11,
    "start_time": "2022-04-14T13:33:23.549Z"
   },
   {
    "duration": 26,
    "start_time": "2022-04-14T13:33:23.583Z"
   },
   {
    "duration": 126,
    "start_time": "2022-04-14T13:33:23.611Z"
   },
   {
    "duration": 14,
    "start_time": "2022-04-14T13:33:23.740Z"
   },
   {
    "duration": 37,
    "start_time": "2022-04-14T13:33:23.759Z"
   },
   {
    "duration": 23,
    "start_time": "2022-04-14T13:33:23.799Z"
   },
   {
    "duration": 11,
    "start_time": "2022-04-14T13:33:23.825Z"
   },
   {
    "duration": 58,
    "start_time": "2022-04-14T13:33:23.839Z"
   },
   {
    "duration": 25,
    "start_time": "2022-04-14T13:33:23.901Z"
   },
   {
    "duration": 10,
    "start_time": "2022-04-14T13:33:23.928Z"
   },
   {
    "duration": 43,
    "start_time": "2022-04-14T13:33:23.940Z"
   },
   {
    "duration": 15,
    "start_time": "2022-04-14T13:33:23.985Z"
   },
   {
    "duration": 18,
    "start_time": "2022-04-14T13:33:24.002Z"
   },
   {
    "duration": 7,
    "start_time": "2022-04-14T13:33:24.023Z"
   },
   {
    "duration": 142,
    "start_time": "2022-04-14T13:33:24.032Z"
   },
   {
    "duration": 8,
    "start_time": "2022-04-14T13:33:24.181Z"
   },
   {
    "duration": 30,
    "start_time": "2022-04-14T13:33:24.192Z"
   },
   {
    "duration": 99,
    "start_time": "2022-04-14T13:33:24.225Z"
   },
   {
    "duration": 29,
    "start_time": "2022-04-14T13:33:24.327Z"
   },
   {
    "duration": 32,
    "start_time": "2022-04-14T13:33:24.358Z"
   },
   {
    "duration": 33,
    "start_time": "2022-04-14T13:33:24.392Z"
   },
   {
    "duration": 25,
    "start_time": "2022-04-14T13:33:24.427Z"
   },
   {
    "duration": 38,
    "start_time": "2022-04-14T13:33:24.455Z"
   },
   {
    "duration": 8,
    "start_time": "2022-04-14T13:33:24.495Z"
   },
   {
    "duration": 26,
    "start_time": "2022-04-14T13:33:24.506Z"
   },
   {
    "duration": 48,
    "start_time": "2022-04-14T13:33:24.535Z"
   },
   {
    "duration": 12,
    "start_time": "2022-04-14T13:33:24.585Z"
   },
   {
    "duration": 43,
    "start_time": "2022-04-14T13:33:24.599Z"
   },
   {
    "duration": 5,
    "start_time": "2022-04-14T13:33:24.644Z"
   },
   {
    "duration": 32,
    "start_time": "2022-04-14T13:33:24.651Z"
   },
   {
    "duration": 11,
    "start_time": "2022-04-14T13:33:24.685Z"
   },
   {
    "duration": 14,
    "start_time": "2022-04-14T13:33:24.702Z"
   },
   {
    "duration": 15,
    "start_time": "2022-04-14T13:33:24.717Z"
   },
   {
    "duration": 11,
    "start_time": "2022-04-14T13:33:24.734Z"
   },
   {
    "duration": 11,
    "start_time": "2022-04-14T13:33:24.747Z"
   },
   {
    "duration": 6,
    "start_time": "2022-04-14T13:33:24.781Z"
   },
   {
    "duration": 17,
    "start_time": "2022-04-14T13:33:24.789Z"
   },
   {
    "duration": 19,
    "start_time": "2022-04-14T13:33:24.808Z"
   },
   {
    "duration": 24,
    "start_time": "2022-04-14T13:33:24.829Z"
   },
   {
    "duration": 45,
    "start_time": "2022-04-14T13:33:24.856Z"
   },
   {
    "duration": 28,
    "start_time": "2022-04-14T13:33:24.904Z"
   },
   {
    "duration": 63,
    "start_time": "2022-04-14T13:33:24.934Z"
   },
   {
    "duration": 656,
    "start_time": "2022-04-14T13:33:24.999Z"
   },
   {
    "duration": 539,
    "start_time": "2022-04-14T13:33:25.657Z"
   },
   {
    "duration": 536,
    "start_time": "2022-04-14T13:33:26.199Z"
   },
   {
    "duration": 15,
    "start_time": "2022-04-14T13:33:26.738Z"
   },
   {
    "duration": 33,
    "start_time": "2022-04-14T13:33:26.756Z"
   },
   {
    "duration": 7,
    "start_time": "2022-04-14T13:35:21.290Z"
   },
   {
    "duration": 12,
    "start_time": "2022-04-14T13:35:26.909Z"
   },
   {
    "duration": 6,
    "start_time": "2022-04-14T13:35:28.191Z"
   },
   {
    "duration": 6,
    "start_time": "2022-04-14T13:35:29.330Z"
   },
   {
    "duration": 6,
    "start_time": "2022-04-14T13:35:30.638Z"
   },
   {
    "duration": 5,
    "start_time": "2022-04-14T13:35:32.574Z"
   },
   {
    "duration": 1736,
    "start_time": "2022-04-14T13:35:39.565Z"
   },
   {
    "duration": 1280,
    "start_time": "2022-04-14T13:35:41.306Z"
   },
   {
    "duration": 112,
    "start_time": "2022-04-14T13:35:42.589Z"
   },
   {
    "duration": 516,
    "start_time": "2022-04-14T13:35:42.705Z"
   },
   {
    "duration": 65,
    "start_time": "2022-04-14T13:35:43.224Z"
   },
   {
    "duration": 17,
    "start_time": "2022-04-14T13:35:43.291Z"
   },
   {
    "duration": 105,
    "start_time": "2022-04-14T13:35:43.311Z"
   },
   {
    "duration": 393,
    "start_time": "2022-04-14T13:35:43.419Z"
   },
   {
    "duration": 70,
    "start_time": "2022-04-14T13:35:43.815Z"
   },
   {
    "duration": 16,
    "start_time": "2022-04-14T13:35:43.891Z"
   },
   {
    "duration": 83,
    "start_time": "2022-04-14T13:35:43.910Z"
   },
   {
    "duration": 290,
    "start_time": "2022-04-14T13:35:43.996Z"
   },
   {
    "duration": 20,
    "start_time": "2022-04-14T13:35:44.289Z"
   },
   {
    "duration": 76,
    "start_time": "2022-04-14T13:35:44.311Z"
   },
   {
    "duration": 17,
    "start_time": "2022-04-14T13:35:44.389Z"
   },
   {
    "duration": 17,
    "start_time": "2022-04-14T13:35:44.409Z"
   },
   {
    "duration": 15,
    "start_time": "2022-04-14T13:35:44.483Z"
   },
   {
    "duration": 17,
    "start_time": "2022-04-14T13:35:44.500Z"
   },
   {
    "duration": 62,
    "start_time": "2022-04-14T13:35:44.519Z"
   },
   {
    "duration": 9,
    "start_time": "2022-04-14T13:35:44.584Z"
   },
   {
    "duration": 21,
    "start_time": "2022-04-14T13:35:44.595Z"
   },
   {
    "duration": 68,
    "start_time": "2022-04-14T13:35:44.618Z"
   },
   {
    "duration": 6,
    "start_time": "2022-04-14T13:35:44.689Z"
   },
   {
    "duration": 198,
    "start_time": "2022-04-14T13:35:44.697Z"
   },
   {
    "duration": 7,
    "start_time": "2022-04-14T13:35:44.897Z"
   },
   {
    "duration": 26,
    "start_time": "2022-04-14T13:35:44.906Z"
   },
   {
    "duration": 90,
    "start_time": "2022-04-14T13:35:44.934Z"
   },
   {
    "duration": 25,
    "start_time": "2022-04-14T13:35:45.030Z"
   },
   {
    "duration": 39,
    "start_time": "2022-04-14T13:35:45.057Z"
   },
   {
    "duration": 23,
    "start_time": "2022-04-14T13:35:45.098Z"
   },
   {
    "duration": 13,
    "start_time": "2022-04-14T13:35:45.124Z"
   },
   {
    "duration": 5,
    "start_time": "2022-04-14T13:35:45.139Z"
   },
   {
    "duration": 38,
    "start_time": "2022-04-14T13:35:45.146Z"
   },
   {
    "duration": 37,
    "start_time": "2022-04-14T13:35:45.186Z"
   },
   {
    "duration": 12,
    "start_time": "2022-04-14T13:35:45.225Z"
   },
   {
    "duration": 63,
    "start_time": "2022-04-14T13:35:45.239Z"
   },
   {
    "duration": 5,
    "start_time": "2022-04-14T13:35:45.304Z"
   },
   {
    "duration": 9,
    "start_time": "2022-04-14T13:35:45.311Z"
   },
   {
    "duration": 8,
    "start_time": "2022-04-14T13:35:45.322Z"
   },
   {
    "duration": 14,
    "start_time": "2022-04-14T13:35:45.332Z"
   },
   {
    "duration": 35,
    "start_time": "2022-04-14T13:35:45.349Z"
   },
   {
    "duration": 7,
    "start_time": "2022-04-14T13:35:45.387Z"
   },
   {
    "duration": 8,
    "start_time": "2022-04-14T13:35:45.397Z"
   },
   {
    "duration": 6,
    "start_time": "2022-04-14T13:35:45.408Z"
   },
   {
    "duration": 10,
    "start_time": "2022-04-14T13:35:45.417Z"
   },
   {
    "duration": 56,
    "start_time": "2022-04-14T13:35:45.429Z"
   },
   {
    "duration": 19,
    "start_time": "2022-04-14T13:35:45.487Z"
   },
   {
    "duration": 40,
    "start_time": "2022-04-14T13:35:45.509Z"
   },
   {
    "duration": 31,
    "start_time": "2022-04-14T13:35:45.582Z"
   },
   {
    "duration": 67,
    "start_time": "2022-04-14T13:35:45.615Z"
   },
   {
    "duration": 534,
    "start_time": "2022-04-14T13:35:45.685Z"
   },
   {
    "duration": 527,
    "start_time": "2022-04-14T13:35:46.221Z"
   },
   {
    "duration": 566,
    "start_time": "2022-04-14T13:35:46.750Z"
   },
   {
    "duration": 17,
    "start_time": "2022-04-14T13:35:47.320Z"
   },
   {
    "duration": 43,
    "start_time": "2022-04-14T13:35:47.339Z"
   },
   {
    "duration": 1633,
    "start_time": "2022-04-16T04:48:42.495Z"
   },
   {
    "duration": 504,
    "start_time": "2022-04-16T04:48:45.730Z"
   },
   {
    "duration": 36,
    "start_time": "2022-04-16T04:55:06.970Z"
   },
   {
    "duration": 183,
    "start_time": "2022-04-16T04:55:08.649Z"
   },
   {
    "duration": 18,
    "start_time": "2022-04-16T04:55:10.615Z"
   },
   {
    "duration": 11,
    "start_time": "2022-04-16T04:55:26.995Z"
   },
   {
    "duration": 13,
    "start_time": "2022-04-16T04:55:28.609Z"
   },
   {
    "duration": 29,
    "start_time": "2022-04-16T04:55:30.753Z"
   },
   {
    "duration": 129,
    "start_time": "2022-04-16T04:55:32.466Z"
   },
   {
    "duration": 15,
    "start_time": "2022-04-16T04:55:36.528Z"
   },
   {
    "duration": 11,
    "start_time": "2022-04-16T04:55:41.216Z"
   },
   {
    "duration": 25,
    "start_time": "2022-04-16T04:55:43.105Z"
   },
   {
    "duration": 80,
    "start_time": "2022-04-16T04:55:44.423Z"
   },
   {
    "duration": 13,
    "start_time": "2022-04-16T04:55:46.612Z"
   },
   {
    "duration": 15,
    "start_time": "2022-04-16T04:55:48.376Z"
   },
   {
    "duration": 14,
    "start_time": "2022-04-16T04:55:50.089Z"
   },
   {
    "duration": 11,
    "start_time": "2022-04-16T04:55:51.912Z"
   },
   {
    "duration": 15,
    "start_time": "2022-04-16T04:55:53.833Z"
   },
   {
    "duration": 15,
    "start_time": "2022-04-16T04:55:55.519Z"
   },
   {
    "duration": 7,
    "start_time": "2022-04-16T04:55:57.720Z"
   },
   {
    "duration": 6,
    "start_time": "2022-04-16T04:56:01.354Z"
   },
   {
    "duration": 15,
    "start_time": "2022-04-16T04:56:02.953Z"
   },
   {
    "duration": 10,
    "start_time": "2022-04-16T04:56:12.576Z"
   },
   {
    "duration": 6,
    "start_time": "2022-04-16T04:56:14.763Z"
   },
   {
    "duration": 113,
    "start_time": "2022-04-16T04:56:21.740Z"
   },
   {
    "duration": 9,
    "start_time": "2022-04-16T04:57:24.729Z"
   },
   {
    "duration": 139,
    "start_time": "2022-04-16T04:59:49.623Z"
   },
   {
    "duration": 8,
    "start_time": "2022-04-16T04:59:57.767Z"
   },
   {
    "duration": 9,
    "start_time": "2022-04-16T05:01:16.090Z"
   },
   {
    "duration": 12,
    "start_time": "2022-04-16T05:02:24.640Z"
   },
   {
    "duration": 12,
    "start_time": "2022-04-16T05:02:33.052Z"
   },
   {
    "duration": 16,
    "start_time": "2022-04-16T05:03:15.036Z"
   },
   {
    "duration": 17,
    "start_time": "2022-04-16T05:03:35.571Z"
   },
   {
    "duration": 10,
    "start_time": "2022-04-16T05:04:11.682Z"
   },
   {
    "duration": 15,
    "start_time": "2022-04-16T05:04:15.870Z"
   },
   {
    "duration": 6,
    "start_time": "2022-04-16T05:07:48.155Z"
   },
   {
    "duration": 16,
    "start_time": "2022-04-16T05:07:52.986Z"
   },
   {
    "duration": 8,
    "start_time": "2022-04-16T05:08:30.005Z"
   },
   {
    "duration": 72,
    "start_time": "2022-04-16T05:08:33.095Z"
   },
   {
    "duration": 13,
    "start_time": "2022-04-16T05:11:59.416Z"
   },
   {
    "duration": 3,
    "start_time": "2022-04-16T05:12:04.736Z"
   },
   {
    "duration": 4,
    "start_time": "2022-04-16T05:16:29.632Z"
   },
   {
    "duration": 140,
    "start_time": "2022-04-16T05:16:34.680Z"
   },
   {
    "duration": 66,
    "start_time": "2022-04-16T05:16:54.450Z"
   },
   {
    "duration": 65,
    "start_time": "2022-04-16T05:17:05.431Z"
   },
   {
    "duration": 7,
    "start_time": "2022-04-16T05:17:25.291Z"
   },
   {
    "duration": 11,
    "start_time": "2022-04-16T05:18:00.434Z"
   },
   {
    "duration": 8,
    "start_time": "2022-04-16T05:18:05.058Z"
   },
   {
    "duration": 8,
    "start_time": "2022-04-16T05:18:08.564Z"
   },
   {
    "duration": 6,
    "start_time": "2022-04-16T05:18:12.894Z"
   },
   {
    "duration": 15,
    "start_time": "2022-04-16T05:18:28.342Z"
   },
   {
    "duration": 11,
    "start_time": "2022-04-16T05:21:09.358Z"
   },
   {
    "duration": 68,
    "start_time": "2022-04-16T05:21:11.274Z"
   },
   {
    "duration": 6,
    "start_time": "2022-04-16T05:21:13.386Z"
   },
   {
    "duration": 68,
    "start_time": "2022-04-16T05:21:16.700Z"
   },
   {
    "duration": 25,
    "start_time": "2022-04-16T05:21:18.137Z"
   },
   {
    "duration": 12,
    "start_time": "2022-04-16T05:21:19.079Z"
   },
   {
    "duration": 36,
    "start_time": "2022-04-16T05:21:32.831Z"
   },
   {
    "duration": 26,
    "start_time": "2022-04-16T05:21:44.234Z"
   },
   {
    "duration": 3,
    "start_time": "2022-04-16T05:29:16.008Z"
   },
   {
    "duration": 123,
    "start_time": "2022-04-16T05:31:56.602Z"
   },
   {
    "duration": 11,
    "start_time": "2022-04-16T05:32:08.957Z"
   },
   {
    "duration": 83,
    "start_time": "2022-04-16T05:34:54.883Z"
   },
   {
    "duration": 26,
    "start_time": "2022-04-16T05:36:09.467Z"
   },
   {
    "duration": 8,
    "start_time": "2022-04-16T05:36:30.834Z"
   },
   {
    "duration": 6,
    "start_time": "2022-04-16T05:36:37.099Z"
   },
   {
    "duration": 24,
    "start_time": "2022-04-16T05:36:47.563Z"
   },
   {
    "duration": 6,
    "start_time": "2022-04-16T05:36:58.294Z"
   },
   {
    "duration": 151,
    "start_time": "2022-04-16T05:38:34.224Z"
   },
   {
    "duration": 4,
    "start_time": "2022-04-16T07:11:39.184Z"
   },
   {
    "duration": 472,
    "start_time": "2022-04-16T07:11:46.436Z"
   },
   {
    "duration": 62,
    "start_time": "2022-04-16T07:11:50.821Z"
   },
   {
    "duration": 8,
    "start_time": "2022-04-16T07:11:54.823Z"
   },
   {
    "duration": 10,
    "start_time": "2022-04-16T07:11:58.963Z"
   },
   {
    "duration": 9,
    "start_time": "2022-04-16T07:12:00.105Z"
   },
   {
    "duration": 2267,
    "start_time": "2022-04-16T07:12:26.011Z"
   },
   {
    "duration": 6,
    "start_time": "2022-04-16T07:24:34.784Z"
   },
   {
    "duration": 12,
    "start_time": "2022-04-16T07:26:24.520Z"
   },
   {
    "duration": 6,
    "start_time": "2022-04-16T07:26:30.360Z"
   },
   {
    "duration": 13,
    "start_time": "2022-04-16T07:26:45.696Z"
   },
   {
    "duration": 23,
    "start_time": "2022-04-16T07:27:12.391Z"
   },
   {
    "duration": 32,
    "start_time": "2022-04-16T07:27:22.380Z"
   },
   {
    "duration": 25,
    "start_time": "2022-04-16T07:27:55.592Z"
   },
   {
    "duration": 28,
    "start_time": "2022-04-16T07:28:01.311Z"
   },
   {
    "duration": 34,
    "start_time": "2022-04-16T07:28:09.225Z"
   },
   {
    "duration": 33,
    "start_time": "2022-04-16T07:28:15.243Z"
   },
   {
    "duration": 26,
    "start_time": "2022-04-16T07:28:21.795Z"
   },
   {
    "duration": 23,
    "start_time": "2022-04-16T07:28:27.855Z"
   },
   {
    "duration": 33,
    "start_time": "2022-04-16T07:28:59.714Z"
   },
   {
    "duration": 9,
    "start_time": "2022-04-16T07:29:35.544Z"
   },
   {
    "duration": 41,
    "start_time": "2022-04-16T07:29:40.508Z"
   },
   {
    "duration": 1497,
    "start_time": "2022-04-16T07:30:47.153Z"
   },
   {
    "duration": 491,
    "start_time": "2022-04-16T07:30:49.306Z"
   },
   {
    "duration": 14,
    "start_time": "2022-04-16T07:31:03.000Z"
   },
   {
    "duration": 28,
    "start_time": "2022-04-16T07:31:03.987Z"
   },
   {
    "duration": 113,
    "start_time": "2022-04-16T07:31:07.709Z"
   },
   {
    "duration": 7,
    "start_time": "2022-04-16T07:31:09.636Z"
   },
   {
    "duration": 72,
    "start_time": "2022-04-16T07:31:11.562Z"
   },
   {
    "duration": 15,
    "start_time": "2022-04-16T07:31:13.656Z"
   },
   {
    "duration": 26,
    "start_time": "2022-04-16T07:31:17.606Z"
   },
   {
    "duration": 5,
    "start_time": "2022-04-16T07:32:15.065Z"
   },
   {
    "duration": 27,
    "start_time": "2022-04-16T07:33:07.550Z"
   },
   {
    "duration": 127,
    "start_time": "2022-04-16T07:33:10.684Z"
   },
   {
    "duration": 23,
    "start_time": "2022-04-16T07:33:12.266Z"
   },
   {
    "duration": 13,
    "start_time": "2022-04-16T07:33:39.108Z"
   },
   {
    "duration": 145,
    "start_time": "2022-04-16T07:34:09.831Z"
   },
   {
    "duration": 18,
    "start_time": "2022-04-16T07:34:17.861Z"
   },
   {
    "duration": 11,
    "start_time": "2022-04-16T07:34:24.537Z"
   },
   {
    "duration": 11,
    "start_time": "2022-04-16T07:34:30.949Z"
   },
   {
    "duration": 9,
    "start_time": "2022-04-16T07:34:41.068Z"
   },
   {
    "duration": 12,
    "start_time": "2022-04-16T07:34:49.084Z"
   },
   {
    "duration": 41,
    "start_time": "2022-04-16T07:37:24.823Z"
   },
   {
    "duration": 17,
    "start_time": "2022-04-16T07:39:45.508Z"
   },
   {
    "duration": 18,
    "start_time": "2022-04-16T07:40:08.616Z"
   },
   {
    "duration": 35,
    "start_time": "2022-04-16T07:40:23.749Z"
   },
   {
    "duration": 47,
    "start_time": "2022-04-16T07:40:27.789Z"
   },
   {
    "duration": 42,
    "start_time": "2022-04-16T07:41:11.392Z"
   },
   {
    "duration": 532,
    "start_time": "2022-04-16T07:41:14.980Z"
   },
   {
    "duration": 45,
    "start_time": "2022-04-16T07:41:25.284Z"
   },
   {
    "duration": 37,
    "start_time": "2022-04-16T07:41:40.101Z"
   },
   {
    "duration": 53,
    "start_time": "2022-04-16T07:42:15.615Z"
   },
   {
    "duration": 46,
    "start_time": "2022-04-16T07:42:34.698Z"
   },
   {
    "duration": 48,
    "start_time": "2022-04-16T07:43:48.621Z"
   },
   {
    "duration": 19,
    "start_time": "2022-04-16T07:44:34.641Z"
   },
   {
    "duration": 46,
    "start_time": "2022-04-16T07:44:48.122Z"
   },
   {
    "duration": 39,
    "start_time": "2022-04-16T07:44:52.220Z"
   },
   {
    "duration": 18,
    "start_time": "2022-04-16T07:46:19.959Z"
   },
   {
    "duration": 23,
    "start_time": "2022-04-16T07:47:29.489Z"
   },
   {
    "duration": 4,
    "start_time": "2022-04-16T07:47:40.762Z"
   },
   {
    "duration": 20,
    "start_time": "2022-04-16T07:47:45.186Z"
   },
   {
    "duration": 32,
    "start_time": "2022-04-16T07:48:07.401Z"
   },
   {
    "duration": 18,
    "start_time": "2022-04-16T07:48:31.167Z"
   },
   {
    "duration": 1496,
    "start_time": "2022-04-16T07:53:01.153Z"
   },
   {
    "duration": 537,
    "start_time": "2022-04-16T07:53:02.652Z"
   },
   {
    "duration": 89,
    "start_time": "2022-04-16T07:53:03.191Z"
   },
   {
    "duration": 70,
    "start_time": "2022-04-16T07:53:03.284Z"
   },
   {
    "duration": 421,
    "start_time": "2022-04-16T07:53:03.357Z"
   },
   {
    "duration": 72,
    "start_time": "2022-04-16T07:53:03.781Z"
   },
   {
    "duration": 102,
    "start_time": "2022-04-16T07:53:03.856Z"
   },
   {
    "duration": 16,
    "start_time": "2022-04-16T07:53:03.960Z"
   },
   {
    "duration": 301,
    "start_time": "2022-04-16T07:53:03.979Z"
   },
   {
    "duration": 73,
    "start_time": "2022-04-16T07:53:04.287Z"
   },
   {
    "duration": 89,
    "start_time": "2022-04-16T07:53:04.363Z"
   },
   {
    "duration": 15,
    "start_time": "2022-04-16T07:53:04.455Z"
   },
   {
    "duration": 203,
    "start_time": "2022-04-16T07:53:04.473Z"
   },
   {
    "duration": 73,
    "start_time": "2022-04-16T07:53:04.679Z"
   },
   {
    "duration": 11,
    "start_time": "2022-04-16T07:53:04.755Z"
   },
   {
    "duration": 18,
    "start_time": "2022-04-16T07:53:04.768Z"
   },
   {
    "duration": 66,
    "start_time": "2022-04-16T07:53:04.788Z"
   },
   {
    "duration": 23,
    "start_time": "2022-04-16T07:53:04.857Z"
   },
   {
    "duration": 11,
    "start_time": "2022-04-16T07:53:04.882Z"
   },
   {
    "duration": 66,
    "start_time": "2022-04-16T07:53:04.896Z"
   },
   {
    "duration": 3,
    "start_time": "2022-04-16T07:53:04.965Z"
   },
   {
    "duration": 11,
    "start_time": "2022-04-16T07:53:04.971Z"
   },
   {
    "duration": 73,
    "start_time": "2022-04-16T07:53:04.985Z"
   },
   {
    "duration": 18,
    "start_time": "2022-04-16T07:53:05.061Z"
   },
   {
    "duration": 5,
    "start_time": "2022-04-16T07:53:05.082Z"
   },
   {
    "duration": 90,
    "start_time": "2022-04-16T07:53:05.089Z"
   },
   {
    "duration": 273,
    "start_time": "2022-04-16T07:53:05.182Z"
   },
   {
    "duration": 4,
    "start_time": "2022-04-16T07:53:05.460Z"
   },
   {
    "duration": 15,
    "start_time": "2022-04-16T07:53:05.466Z"
   },
   {
    "duration": 173,
    "start_time": "2022-04-16T07:53:05.483Z"
   },
   {
    "duration": 94,
    "start_time": "2022-04-16T07:53:05.658Z"
   },
   {
    "duration": 106,
    "start_time": "2022-04-16T07:53:05.754Z"
   },
   {
    "duration": 107,
    "start_time": "2022-04-16T07:53:05.862Z"
   },
   {
    "duration": 17,
    "start_time": "2022-04-16T07:53:05.971Z"
   },
   {
    "duration": 368,
    "start_time": "2022-04-16T07:53:05.990Z"
   },
   {
    "duration": 0,
    "start_time": "2022-04-16T07:53:06.361Z"
   },
   {
    "duration": 0,
    "start_time": "2022-04-16T07:53:06.364Z"
   },
   {
    "duration": 0,
    "start_time": "2022-04-16T07:53:06.366Z"
   },
   {
    "duration": 0,
    "start_time": "2022-04-16T07:53:06.368Z"
   },
   {
    "duration": 1,
    "start_time": "2022-04-16T07:53:06.370Z"
   },
   {
    "duration": 0,
    "start_time": "2022-04-16T07:53:06.373Z"
   },
   {
    "duration": 0,
    "start_time": "2022-04-16T07:53:06.375Z"
   },
   {
    "duration": 0,
    "start_time": "2022-04-16T07:53:06.377Z"
   },
   {
    "duration": 21,
    "start_time": "2022-04-16T07:54:43.043Z"
   },
   {
    "duration": 1850,
    "start_time": "2022-04-16T07:58:20.704Z"
   },
   {
    "duration": 920,
    "start_time": "2022-04-16T07:58:22.556Z"
   },
   {
    "duration": 74,
    "start_time": "2022-04-16T07:58:23.478Z"
   },
   {
    "duration": 15,
    "start_time": "2022-04-16T07:58:23.555Z"
   },
   {
    "duration": 310,
    "start_time": "2022-04-16T07:58:23.572Z"
   },
   {
    "duration": 68,
    "start_time": "2022-04-16T07:58:23.884Z"
   },
   {
    "duration": 28,
    "start_time": "2022-04-16T07:58:23.954Z"
   },
   {
    "duration": 67,
    "start_time": "2022-04-16T07:58:23.984Z"
   },
   {
    "duration": 228,
    "start_time": "2022-04-16T07:58:24.054Z"
   },
   {
    "duration": 66,
    "start_time": "2022-04-16T07:58:24.287Z"
   },
   {
    "duration": 24,
    "start_time": "2022-04-16T07:58:24.355Z"
   },
   {
    "duration": 10,
    "start_time": "2022-04-16T07:58:24.381Z"
   },
   {
    "duration": 172,
    "start_time": "2022-04-16T07:58:24.393Z"
   },
   {
    "duration": 14,
    "start_time": "2022-04-16T07:58:24.567Z"
   },
   {
    "duration": 19,
    "start_time": "2022-04-16T07:58:24.583Z"
   },
   {
    "duration": 57,
    "start_time": "2022-04-16T07:58:24.604Z"
   },
   {
    "duration": 20,
    "start_time": "2022-04-16T07:58:24.663Z"
   },
   {
    "duration": 19,
    "start_time": "2022-04-16T07:58:24.685Z"
   },
   {
    "duration": 9,
    "start_time": "2022-04-16T07:58:24.706Z"
   },
   {
    "duration": 37,
    "start_time": "2022-04-16T07:58:24.717Z"
   },
   {
    "duration": 6,
    "start_time": "2022-04-16T07:58:24.756Z"
   },
   {
    "duration": 15,
    "start_time": "2022-04-16T07:58:24.764Z"
   },
   {
    "duration": 23,
    "start_time": "2022-04-16T07:58:24.781Z"
   },
   {
    "duration": 16,
    "start_time": "2022-04-16T07:58:24.806Z"
   },
   {
    "duration": 28,
    "start_time": "2022-04-16T07:58:24.824Z"
   },
   {
    "duration": 25,
    "start_time": "2022-04-16T07:58:24.854Z"
   },
   {
    "duration": 119,
    "start_time": "2022-04-16T07:58:24.882Z"
   },
   {
    "duration": 4,
    "start_time": "2022-04-16T07:58:25.006Z"
   },
   {
    "duration": 13,
    "start_time": "2022-04-16T07:58:25.012Z"
   },
   {
    "duration": 83,
    "start_time": "2022-04-16T07:58:25.027Z"
   },
   {
    "duration": 54,
    "start_time": "2022-04-16T07:58:25.113Z"
   },
   {
    "duration": 51,
    "start_time": "2022-04-16T07:58:25.169Z"
   },
   {
    "duration": 62,
    "start_time": "2022-04-16T07:58:25.222Z"
   },
   {
    "duration": 16,
    "start_time": "2022-04-16T07:58:25.287Z"
   },
   {
    "duration": 26,
    "start_time": "2022-04-16T07:58:25.305Z"
   },
   {
    "duration": 165,
    "start_time": "2022-04-16T07:58:25.333Z"
   },
   {
    "duration": 0,
    "start_time": "2022-04-16T07:58:25.500Z"
   },
   {
    "duration": 0,
    "start_time": "2022-04-16T07:58:25.502Z"
   },
   {
    "duration": 0,
    "start_time": "2022-04-16T07:58:25.503Z"
   },
   {
    "duration": 0,
    "start_time": "2022-04-16T07:58:25.505Z"
   },
   {
    "duration": 0,
    "start_time": "2022-04-16T07:58:25.507Z"
   },
   {
    "duration": 0,
    "start_time": "2022-04-16T07:58:25.508Z"
   },
   {
    "duration": 0,
    "start_time": "2022-04-16T07:58:25.510Z"
   },
   {
    "duration": 32,
    "start_time": "2022-04-16T07:58:54.473Z"
   },
   {
    "duration": 42,
    "start_time": "2022-04-16T07:59:00.636Z"
   },
   {
    "duration": 22,
    "start_time": "2022-04-16T07:59:52.018Z"
   },
   {
    "duration": 30,
    "start_time": "2022-04-16T07:59:56.261Z"
   },
   {
    "duration": 29,
    "start_time": "2022-04-16T08:00:25.365Z"
   },
   {
    "duration": 42,
    "start_time": "2022-04-16T08:01:06.232Z"
   },
   {
    "duration": 44,
    "start_time": "2022-04-16T08:02:32.577Z"
   },
   {
    "duration": 45,
    "start_time": "2022-04-16T08:03:22.810Z"
   },
   {
    "duration": 41,
    "start_time": "2022-04-16T08:03:34.272Z"
   },
   {
    "duration": 32,
    "start_time": "2022-04-16T08:03:43.093Z"
   },
   {
    "duration": 75,
    "start_time": "2022-04-16T08:05:48.547Z"
   },
   {
    "duration": 11,
    "start_time": "2022-04-16T08:08:39.336Z"
   },
   {
    "duration": 19,
    "start_time": "2022-04-16T08:08:46.251Z"
   },
   {
    "duration": 19,
    "start_time": "2022-04-16T08:08:53.534Z"
   },
   {
    "duration": 34,
    "start_time": "2022-04-16T08:09:52.523Z"
   },
   {
    "duration": 46,
    "start_time": "2022-04-16T08:10:55.754Z"
   },
   {
    "duration": 4,
    "start_time": "2022-04-16T08:12:04.927Z"
   },
   {
    "duration": 45,
    "start_time": "2022-04-16T08:12:10.093Z"
   },
   {
    "duration": 57,
    "start_time": "2022-04-16T08:13:17.391Z"
   },
   {
    "duration": 8,
    "start_time": "2022-04-16T08:17:07.599Z"
   },
   {
    "duration": 36,
    "start_time": "2022-04-16T08:17:13.096Z"
   },
   {
    "duration": 8,
    "start_time": "2022-04-16T08:17:30.467Z"
   },
   {
    "duration": 38,
    "start_time": "2022-04-16T08:17:35.519Z"
   },
   {
    "duration": 4,
    "start_time": "2022-04-16T08:18:17.288Z"
   },
   {
    "duration": 34,
    "start_time": "2022-04-16T08:18:18.858Z"
   },
   {
    "duration": 35,
    "start_time": "2022-04-16T08:18:25.817Z"
   },
   {
    "duration": 35,
    "start_time": "2022-04-16T08:20:35.303Z"
   },
   {
    "duration": 58,
    "start_time": "2022-04-16T08:20:42.375Z"
   },
   {
    "duration": 37,
    "start_time": "2022-04-16T08:21:07.581Z"
   },
   {
    "duration": 13,
    "start_time": "2022-04-16T08:21:27.531Z"
   },
   {
    "duration": 12,
    "start_time": "2022-04-16T08:21:37.270Z"
   },
   {
    "duration": 37,
    "start_time": "2022-04-16T08:21:47.349Z"
   },
   {
    "duration": 75,
    "start_time": "2022-04-16T08:22:42.990Z"
   },
   {
    "duration": 38,
    "start_time": "2022-04-16T08:22:53.772Z"
   },
   {
    "duration": 52,
    "start_time": "2022-04-16T08:22:56.920Z"
   },
   {
    "duration": 37,
    "start_time": "2022-04-16T08:22:58.912Z"
   },
   {
    "duration": 37,
    "start_time": "2022-04-16T08:23:28.621Z"
   },
   {
    "duration": 40,
    "start_time": "2022-04-16T08:23:40.323Z"
   },
   {
    "duration": 14,
    "start_time": "2022-04-16T08:23:49.602Z"
   },
   {
    "duration": 37,
    "start_time": "2022-04-16T08:23:56.407Z"
   },
   {
    "duration": 15,
    "start_time": "2022-04-16T08:23:59.312Z"
   },
   {
    "duration": 41,
    "start_time": "2022-04-16T08:25:35.636Z"
   },
   {
    "duration": 41,
    "start_time": "2022-04-16T08:25:48.502Z"
   },
   {
    "duration": 41,
    "start_time": "2022-04-16T08:26:23.726Z"
   },
   {
    "duration": 40,
    "start_time": "2022-04-16T08:26:43.751Z"
   },
   {
    "duration": 3,
    "start_time": "2022-04-16T08:27:44.638Z"
   },
   {
    "duration": 6,
    "start_time": "2022-04-16T08:27:47.779Z"
   },
   {
    "duration": 26,
    "start_time": "2022-04-16T08:33:21.388Z"
   },
   {
    "duration": 57,
    "start_time": "2022-04-16T08:33:34.579Z"
   },
   {
    "duration": 41,
    "start_time": "2022-04-16T08:34:14.299Z"
   },
   {
    "duration": 11,
    "start_time": "2022-04-16T08:35:14.472Z"
   },
   {
    "duration": 21,
    "start_time": "2022-04-16T08:35:26.377Z"
   },
   {
    "duration": 33,
    "start_time": "2022-04-16T08:35:55.099Z"
   },
   {
    "duration": 3,
    "start_time": "2022-04-16T08:36:53.740Z"
   },
   {
    "duration": 25,
    "start_time": "2022-04-16T08:39:11.038Z"
   },
   {
    "duration": 43,
    "start_time": "2022-04-16T08:39:37.218Z"
   },
   {
    "duration": 21,
    "start_time": "2022-04-16T08:40:07.143Z"
   },
   {
    "duration": 10,
    "start_time": "2022-04-16T08:45:42.993Z"
   },
   {
    "duration": 8,
    "start_time": "2022-04-16T08:45:48.328Z"
   },
   {
    "duration": 4,
    "start_time": "2022-04-16T08:46:30.039Z"
   },
   {
    "duration": 4,
    "start_time": "2022-04-16T08:46:35.467Z"
   },
   {
    "duration": 6,
    "start_time": "2022-04-16T08:47:22.176Z"
   },
   {
    "duration": 9,
    "start_time": "2022-04-16T08:49:20.312Z"
   },
   {
    "duration": 17,
    "start_time": "2022-04-16T08:51:08.967Z"
   },
   {
    "duration": 48,
    "start_time": "2022-04-16T08:51:12.145Z"
   },
   {
    "duration": 64,
    "start_time": "2022-04-16T08:51:46.152Z"
   },
   {
    "duration": 47,
    "start_time": "2022-04-16T08:52:28.210Z"
   },
   {
    "duration": 50,
    "start_time": "2022-04-16T08:52:43.519Z"
   },
   {
    "duration": 15,
    "start_time": "2022-04-16T08:53:10.072Z"
   },
   {
    "duration": 36,
    "start_time": "2022-04-16T08:56:23.093Z"
   },
   {
    "duration": 44,
    "start_time": "2022-04-16T08:56:38.054Z"
   },
   {
    "duration": 48,
    "start_time": "2022-04-16T08:59:59.113Z"
   },
   {
    "duration": 48,
    "start_time": "2022-04-16T09:00:36.212Z"
   },
   {
    "duration": 50,
    "start_time": "2022-04-16T09:00:45.077Z"
   },
   {
    "duration": 49,
    "start_time": "2022-04-16T09:00:53.732Z"
   },
   {
    "duration": 49,
    "start_time": "2022-04-16T09:02:41.452Z"
   },
   {
    "duration": 17,
    "start_time": "2022-04-16T09:03:03.930Z"
   },
   {
    "duration": 128,
    "start_time": "2022-04-16T09:03:50.160Z"
   },
   {
    "duration": 7,
    "start_time": "2022-04-16T09:04:55.895Z"
   },
   {
    "duration": 16,
    "start_time": "2022-04-16T09:05:05.299Z"
   },
   {
    "duration": 39,
    "start_time": "2022-04-16T09:05:09.555Z"
   },
   {
    "duration": 16,
    "start_time": "2022-04-16T09:05:51.162Z"
   },
   {
    "duration": 23,
    "start_time": "2022-04-16T09:06:14.539Z"
   },
   {
    "duration": 39,
    "start_time": "2022-04-16T09:06:28.057Z"
   },
   {
    "duration": 118,
    "start_time": "2022-04-16T09:07:31.485Z"
   },
   {
    "duration": 15,
    "start_time": "2022-04-16T09:12:30.566Z"
   },
   {
    "duration": 14,
    "start_time": "2022-04-16T09:12:46.955Z"
   },
   {
    "duration": 37,
    "start_time": "2022-04-16T09:15:00.013Z"
   },
   {
    "duration": 29,
    "start_time": "2022-04-16T09:27:35.796Z"
   },
   {
    "duration": 28,
    "start_time": "2022-04-16T09:27:46.597Z"
   },
   {
    "duration": 21,
    "start_time": "2022-04-16T09:27:58.847Z"
   },
   {
    "duration": 17,
    "start_time": "2022-04-16T09:28:44.623Z"
   },
   {
    "duration": 32,
    "start_time": "2022-04-16T09:30:54.209Z"
   },
   {
    "duration": 29,
    "start_time": "2022-04-16T09:31:22.469Z"
   },
   {
    "duration": 559,
    "start_time": "2022-04-16T09:32:12.109Z"
   },
   {
    "duration": 504,
    "start_time": "2022-04-16T09:32:37.966Z"
   },
   {
    "duration": 641,
    "start_time": "2022-04-16T09:32:41.814Z"
   },
   {
    "duration": 14,
    "start_time": "2022-04-16T09:34:19.400Z"
   },
   {
    "duration": 2140,
    "start_time": "2022-04-16T09:34:35.016Z"
   },
   {
    "duration": 2524,
    "start_time": "2022-04-16T09:35:00.710Z"
   },
   {
    "duration": 37,
    "start_time": "2022-04-16T09:35:25.480Z"
   },
   {
    "duration": 2085,
    "start_time": "2022-04-16T09:35:43.183Z"
   },
   {
    "duration": 1574,
    "start_time": "2022-04-16T09:36:01.054Z"
   },
   {
    "duration": 496,
    "start_time": "2022-04-16T09:36:02.631Z"
   },
   {
    "duration": 34,
    "start_time": "2022-04-16T09:36:03.129Z"
   },
   {
    "duration": 15,
    "start_time": "2022-04-16T09:36:03.165Z"
   },
   {
    "duration": 178,
    "start_time": "2022-04-16T09:36:03.183Z"
   },
   {
    "duration": 18,
    "start_time": "2022-04-16T09:36:03.363Z"
   },
   {
    "duration": 68,
    "start_time": "2022-04-16T09:36:03.384Z"
   },
   {
    "duration": 15,
    "start_time": "2022-04-16T09:36:03.455Z"
   },
   {
    "duration": 131,
    "start_time": "2022-04-16T09:36:03.472Z"
   },
   {
    "duration": 14,
    "start_time": "2022-04-16T09:36:03.606Z"
   },
   {
    "duration": 40,
    "start_time": "2022-04-16T09:36:03.622Z"
   },
   {
    "duration": 10,
    "start_time": "2022-04-16T09:36:03.664Z"
   },
   {
    "duration": 94,
    "start_time": "2022-04-16T09:36:03.676Z"
   },
   {
    "duration": 16,
    "start_time": "2022-04-16T09:36:03.774Z"
   },
   {
    "duration": 14,
    "start_time": "2022-04-16T09:36:03.792Z"
   },
   {
    "duration": 16,
    "start_time": "2022-04-16T09:36:03.808Z"
   },
   {
    "duration": 34,
    "start_time": "2022-04-16T09:36:03.826Z"
   },
   {
    "duration": 17,
    "start_time": "2022-04-16T09:36:03.862Z"
   },
   {
    "duration": 11,
    "start_time": "2022-04-16T09:36:03.882Z"
   },
   {
    "duration": 11,
    "start_time": "2022-04-16T09:36:03.895Z"
   },
   {
    "duration": 4,
    "start_time": "2022-04-16T09:36:03.951Z"
   },
   {
    "duration": 13,
    "start_time": "2022-04-16T09:36:03.957Z"
   },
   {
    "duration": 15,
    "start_time": "2022-04-16T09:36:03.973Z"
   },
   {
    "duration": 12,
    "start_time": "2022-04-16T09:36:03.991Z"
   },
   {
    "duration": 4,
    "start_time": "2022-04-16T09:36:04.005Z"
   },
   {
    "duration": 56,
    "start_time": "2022-04-16T09:36:04.012Z"
   },
   {
    "duration": 119,
    "start_time": "2022-04-16T09:36:04.071Z"
   },
   {
    "duration": 3,
    "start_time": "2022-04-16T09:36:04.192Z"
   },
   {
    "duration": 12,
    "start_time": "2022-04-16T09:36:04.198Z"
   },
   {
    "duration": 90,
    "start_time": "2022-04-16T09:36:04.213Z"
   },
   {
    "duration": 92,
    "start_time": "2022-04-16T09:36:04.305Z"
   },
   {
    "duration": 58,
    "start_time": "2022-04-16T09:36:04.400Z"
   },
   {
    "duration": 32,
    "start_time": "2022-04-16T09:36:04.460Z"
   },
   {
    "duration": 59,
    "start_time": "2022-04-16T09:36:04.494Z"
   },
   {
    "duration": 27,
    "start_time": "2022-04-16T09:36:04.555Z"
   },
   {
    "duration": 18,
    "start_time": "2022-04-16T09:36:04.584Z"
   },
   {
    "duration": 52,
    "start_time": "2022-04-16T09:36:04.604Z"
   },
   {
    "duration": 20,
    "start_time": "2022-04-16T09:36:04.659Z"
   },
   {
    "duration": 40,
    "start_time": "2022-04-16T09:36:04.681Z"
   },
   {
    "duration": 64,
    "start_time": "2022-04-16T09:36:04.723Z"
   },
   {
    "duration": 27,
    "start_time": "2022-04-16T09:36:04.793Z"
   },
   {
    "duration": 26,
    "start_time": "2022-04-16T09:36:04.851Z"
   },
   {
    "duration": 594,
    "start_time": "2022-04-16T09:36:04.879Z"
   },
   {
    "duration": 563,
    "start_time": "2022-04-16T09:36:05.475Z"
   },
   {
    "duration": 829,
    "start_time": "2022-04-16T09:36:06.041Z"
   },
   {
    "duration": 21,
    "start_time": "2022-04-16T09:36:06.873Z"
   },
   {
    "duration": 504,
    "start_time": "2022-04-16T09:36:06.953Z"
   },
   {
    "duration": 16,
    "start_time": "2022-04-16T09:36:31.851Z"
   },
   {
    "duration": 15,
    "start_time": "2022-04-16T09:39:49.253Z"
   },
   {
    "duration": 18,
    "start_time": "2022-04-16T09:39:55.315Z"
   },
   {
    "duration": 16,
    "start_time": "2022-04-16T09:40:02.770Z"
   },
   {
    "duration": 528,
    "start_time": "2022-04-16T09:40:58.430Z"
   },
   {
    "duration": 13,
    "start_time": "2022-04-16T09:45:28.057Z"
   },
   {
    "duration": 16,
    "start_time": "2022-04-16T09:55:48.543Z"
   },
   {
    "duration": 6,
    "start_time": "2022-04-16T09:59:02.634Z"
   },
   {
    "duration": 19,
    "start_time": "2022-04-16T09:59:06.043Z"
   },
   {
    "duration": 227,
    "start_time": "2022-04-16T09:59:26.277Z"
   },
   {
    "duration": 24,
    "start_time": "2022-04-16T09:59:31.155Z"
   },
   {
    "duration": 18,
    "start_time": "2022-04-16T09:59:32.533Z"
   },
   {
    "duration": 24,
    "start_time": "2022-04-16T09:59:42.917Z"
   },
   {
    "duration": 17,
    "start_time": "2022-04-16T09:59:44.673Z"
   },
   {
    "duration": 23,
    "start_time": "2022-04-16T10:00:22.090Z"
   },
   {
    "duration": 18,
    "start_time": "2022-04-16T10:00:23.072Z"
   },
   {
    "duration": 1852,
    "start_time": "2022-04-16T10:00:47.490Z"
   },
   {
    "duration": 13,
    "start_time": "2022-04-16T10:01:01.851Z"
   },
   {
    "duration": 11,
    "start_time": "2022-04-16T10:01:07.855Z"
   },
   {
    "duration": 175,
    "start_time": "2022-04-16T10:06:55.348Z"
   },
   {
    "duration": 1567,
    "start_time": "2022-04-16T10:34:59.715Z"
   },
   {
    "duration": 526,
    "start_time": "2022-04-16T10:35:01.285Z"
   },
   {
    "duration": 37,
    "start_time": "2022-04-16T10:35:01.813Z"
   },
   {
    "duration": 16,
    "start_time": "2022-04-16T10:35:01.855Z"
   },
   {
    "duration": 189,
    "start_time": "2022-04-16T10:35:01.874Z"
   },
   {
    "duration": 17,
    "start_time": "2022-04-16T10:35:02.065Z"
   },
   {
    "duration": 31,
    "start_time": "2022-04-16T10:35:02.085Z"
   },
   {
    "duration": 43,
    "start_time": "2022-04-16T10:35:02.119Z"
   },
   {
    "duration": 133,
    "start_time": "2022-04-16T10:35:02.164Z"
   },
   {
    "duration": 15,
    "start_time": "2022-04-16T10:35:02.303Z"
   },
   {
    "duration": 48,
    "start_time": "2022-04-16T10:35:02.320Z"
   },
   {
    "duration": 10,
    "start_time": "2022-04-16T10:35:02.371Z"
   },
   {
    "duration": 97,
    "start_time": "2022-04-16T10:35:02.384Z"
   },
   {
    "duration": 16,
    "start_time": "2022-04-16T10:35:02.484Z"
   },
   {
    "duration": 21,
    "start_time": "2022-04-16T10:35:02.502Z"
   },
   {
    "duration": 31,
    "start_time": "2022-04-16T10:35:02.525Z"
   },
   {
    "duration": 16,
    "start_time": "2022-04-16T10:35:02.559Z"
   },
   {
    "duration": 16,
    "start_time": "2022-04-16T10:35:02.577Z"
   },
   {
    "duration": 10,
    "start_time": "2022-04-16T10:35:02.596Z"
   },
   {
    "duration": 20,
    "start_time": "2022-04-16T10:35:02.608Z"
   },
   {
    "duration": 6,
    "start_time": "2022-04-16T10:35:02.652Z"
   },
   {
    "duration": 18,
    "start_time": "2022-04-16T10:35:02.660Z"
   },
   {
    "duration": 23,
    "start_time": "2022-04-16T10:35:02.681Z"
   },
   {
    "duration": 22,
    "start_time": "2022-04-16T10:35:02.705Z"
   },
   {
    "duration": 6,
    "start_time": "2022-04-16T10:35:02.729Z"
   },
   {
    "duration": 31,
    "start_time": "2022-04-16T10:35:02.737Z"
   },
   {
    "duration": 119,
    "start_time": "2022-04-16T10:35:02.771Z"
   },
   {
    "duration": 3,
    "start_time": "2022-04-16T10:35:02.895Z"
   },
   {
    "duration": 9,
    "start_time": "2022-04-16T10:35:02.900Z"
   },
   {
    "duration": 91,
    "start_time": "2022-04-16T10:35:02.911Z"
   },
   {
    "duration": 90,
    "start_time": "2022-04-16T10:35:03.004Z"
   },
   {
    "duration": 41,
    "start_time": "2022-04-16T10:35:03.096Z"
   },
   {
    "duration": 31,
    "start_time": "2022-04-16T10:35:03.152Z"
   },
   {
    "duration": 35,
    "start_time": "2022-04-16T10:35:03.186Z"
   },
   {
    "duration": 51,
    "start_time": "2022-04-16T10:35:03.223Z"
   },
   {
    "duration": 20,
    "start_time": "2022-04-16T10:35:03.276Z"
   },
   {
    "duration": 22,
    "start_time": "2022-04-16T10:35:03.298Z"
   },
   {
    "duration": 20,
    "start_time": "2022-04-16T10:35:03.352Z"
   },
   {
    "duration": 43,
    "start_time": "2022-04-16T10:35:03.374Z"
   },
   {
    "duration": 60,
    "start_time": "2022-04-16T10:35:03.419Z"
   },
   {
    "duration": 8,
    "start_time": "2022-04-16T10:35:03.481Z"
   },
   {
    "duration": 36,
    "start_time": "2022-04-16T10:35:03.492Z"
   },
   {
    "duration": 26,
    "start_time": "2022-04-16T10:35:03.552Z"
   },
   {
    "duration": 574,
    "start_time": "2022-04-16T10:35:03.580Z"
   },
   {
    "duration": 510,
    "start_time": "2022-04-16T10:35:04.156Z"
   },
   {
    "duration": 547,
    "start_time": "2022-04-16T10:35:04.670Z"
   },
   {
    "duration": 16,
    "start_time": "2022-04-16T10:35:05.220Z"
   },
   {
    "duration": 17,
    "start_time": "2022-04-16T10:35:05.253Z"
   },
   {
    "duration": 112,
    "start_time": "2022-04-16T10:36:28.957Z"
   },
   {
    "duration": 1513,
    "start_time": "2022-04-16T10:39:43.826Z"
   },
   {
    "duration": 494,
    "start_time": "2022-04-16T10:39:45.341Z"
   },
   {
    "duration": 36,
    "start_time": "2022-04-16T10:39:45.838Z"
   },
   {
    "duration": 17,
    "start_time": "2022-04-16T10:39:45.877Z"
   },
   {
    "duration": 181,
    "start_time": "2022-04-16T10:39:45.898Z"
   },
   {
    "duration": 16,
    "start_time": "2022-04-16T10:39:46.082Z"
   },
   {
    "duration": 60,
    "start_time": "2022-04-16T10:39:46.100Z"
   },
   {
    "duration": 13,
    "start_time": "2022-04-16T10:39:46.162Z"
   },
   {
    "duration": 133,
    "start_time": "2022-04-16T10:39:46.177Z"
   },
   {
    "duration": 16,
    "start_time": "2022-04-16T10:39:46.313Z"
   },
   {
    "duration": 39,
    "start_time": "2022-04-16T10:39:46.331Z"
   },
   {
    "duration": 10,
    "start_time": "2022-04-16T10:39:46.373Z"
   },
   {
    "duration": 106,
    "start_time": "2022-04-16T10:39:46.386Z"
   },
   {
    "duration": 15,
    "start_time": "2022-04-16T10:39:46.498Z"
   },
   {
    "duration": 36,
    "start_time": "2022-04-16T10:39:46.516Z"
   },
   {
    "duration": 13,
    "start_time": "2022-04-16T10:39:46.554Z"
   },
   {
    "duration": 18,
    "start_time": "2022-04-16T10:39:46.569Z"
   },
   {
    "duration": 16,
    "start_time": "2022-04-16T10:39:46.590Z"
   },
   {
    "duration": 44,
    "start_time": "2022-04-16T10:39:46.609Z"
   },
   {
    "duration": 11,
    "start_time": "2022-04-16T10:39:46.656Z"
   },
   {
    "duration": 4,
    "start_time": "2022-04-16T10:39:46.669Z"
   },
   {
    "duration": 10,
    "start_time": "2022-04-16T10:39:46.675Z"
   },
   {
    "duration": 18,
    "start_time": "2022-04-16T10:39:46.687Z"
   },
   {
    "duration": 13,
    "start_time": "2022-04-16T10:39:46.751Z"
   },
   {
    "duration": 26,
    "start_time": "2022-04-16T10:39:46.766Z"
   },
   {
    "duration": 136,
    "start_time": "2022-04-16T10:39:46.794Z"
   },
   {
    "duration": 7,
    "start_time": "2022-04-16T10:39:46.932Z"
   },
   {
    "duration": 82,
    "start_time": "2022-04-16T10:39:46.941Z"
   },
   {
    "duration": 98,
    "start_time": "2022-04-16T10:39:47.026Z"
   },
   {
    "duration": 61,
    "start_time": "2022-04-16T10:39:47.127Z"
   },
   {
    "duration": 32,
    "start_time": "2022-04-16T10:39:47.190Z"
   },
   {
    "duration": 59,
    "start_time": "2022-04-16T10:39:47.224Z"
   },
   {
    "duration": 31,
    "start_time": "2022-04-16T10:39:47.285Z"
   },
   {
    "duration": 45,
    "start_time": "2022-04-16T10:39:47.318Z"
   },
   {
    "duration": 22,
    "start_time": "2022-04-16T10:39:47.365Z"
   },
   {
    "duration": 65,
    "start_time": "2022-04-16T10:39:47.390Z"
   },
   {
    "duration": 114,
    "start_time": "2022-04-16T10:39:47.458Z"
   },
   {
    "duration": 92,
    "start_time": "2022-04-16T10:39:47.574Z"
   },
   {
    "duration": 9,
    "start_time": "2022-04-16T10:39:47.668Z"
   },
   {
    "duration": 92,
    "start_time": "2022-04-16T10:39:47.680Z"
   },
   {
    "duration": 77,
    "start_time": "2022-04-16T10:39:47.777Z"
   },
   {
    "duration": 1041,
    "start_time": "2022-04-16T10:39:47.856Z"
   },
   {
    "duration": 1199,
    "start_time": "2022-04-16T10:39:48.953Z"
   },
   {
    "duration": 842,
    "start_time": "2022-04-16T10:39:50.154Z"
   },
   {
    "duration": 21,
    "start_time": "2022-04-16T10:39:50.999Z"
   },
   {
    "duration": 42,
    "start_time": "2022-04-16T10:39:51.022Z"
   },
   {
    "duration": 15,
    "start_time": "2022-04-16T10:44:54.042Z"
   },
   {
    "duration": 1498,
    "start_time": "2022-04-16T12:53:16.605Z"
   },
   {
    "duration": 455,
    "start_time": "2022-04-16T12:53:18.105Z"
   },
   {
    "duration": 31,
    "start_time": "2022-04-16T12:53:18.561Z"
   },
   {
    "duration": 13,
    "start_time": "2022-04-16T12:53:18.595Z"
   },
   {
    "duration": 136,
    "start_time": "2022-04-16T12:53:18.610Z"
   },
   {
    "duration": 11,
    "start_time": "2022-04-16T12:53:18.749Z"
   },
   {
    "duration": 24,
    "start_time": "2022-04-16T12:53:18.762Z"
   },
   {
    "duration": 8,
    "start_time": "2022-04-16T12:53:18.788Z"
   },
   {
    "duration": 111,
    "start_time": "2022-04-16T12:53:18.798Z"
   },
   {
    "duration": 24,
    "start_time": "2022-04-16T12:53:18.912Z"
   },
   {
    "duration": 28,
    "start_time": "2022-04-16T12:53:18.938Z"
   },
   {
    "duration": 8,
    "start_time": "2022-04-16T12:53:18.968Z"
   },
   {
    "duration": 89,
    "start_time": "2022-04-16T12:53:18.977Z"
   },
   {
    "duration": 16,
    "start_time": "2022-04-16T12:53:19.068Z"
   },
   {
    "duration": 9,
    "start_time": "2022-04-16T12:53:19.087Z"
   },
   {
    "duration": 9,
    "start_time": "2022-04-16T12:53:19.098Z"
   },
   {
    "duration": 39,
    "start_time": "2022-04-16T12:53:19.109Z"
   },
   {
    "duration": 18,
    "start_time": "2022-04-16T12:53:19.151Z"
   },
   {
    "duration": 9,
    "start_time": "2022-04-16T12:53:19.171Z"
   },
   {
    "duration": 9,
    "start_time": "2022-04-16T12:53:19.182Z"
   },
   {
    "duration": 3,
    "start_time": "2022-04-16T12:53:19.192Z"
   },
   {
    "duration": 40,
    "start_time": "2022-04-16T12:53:19.197Z"
   },
   {
    "duration": 12,
    "start_time": "2022-04-16T12:53:19.239Z"
   },
   {
    "duration": 9,
    "start_time": "2022-04-16T12:53:19.253Z"
   },
   {
    "duration": 20,
    "start_time": "2022-04-16T12:53:19.263Z"
   },
   {
    "duration": 120,
    "start_time": "2022-04-16T12:53:19.285Z"
   },
   {
    "duration": 5,
    "start_time": "2022-04-16T12:53:19.407Z"
   },
   {
    "duration": 58,
    "start_time": "2022-04-16T12:53:19.436Z"
   },
   {
    "duration": 82,
    "start_time": "2022-04-16T12:53:19.495Z"
   },
   {
    "duration": 34,
    "start_time": "2022-04-16T12:53:19.579Z"
   },
   {
    "duration": 37,
    "start_time": "2022-04-16T12:53:19.615Z"
   },
   {
    "duration": 39,
    "start_time": "2022-04-16T12:53:19.655Z"
   },
   {
    "duration": 52,
    "start_time": "2022-04-16T12:53:19.696Z"
   },
   {
    "duration": 16,
    "start_time": "2022-04-16T12:53:19.750Z"
   },
   {
    "duration": 20,
    "start_time": "2022-04-16T12:53:19.768Z"
   },
   {
    "duration": 43,
    "start_time": "2022-04-16T12:53:19.790Z"
   },
   {
    "duration": 28,
    "start_time": "2022-04-16T12:53:19.835Z"
   },
   {
    "duration": 29,
    "start_time": "2022-04-16T12:53:19.865Z"
   },
   {
    "duration": 7,
    "start_time": "2022-04-16T12:53:19.896Z"
   },
   {
    "duration": 26,
    "start_time": "2022-04-16T12:53:19.934Z"
   },
   {
    "duration": 29,
    "start_time": "2022-04-16T12:53:19.961Z"
   },
   {
    "duration": 426,
    "start_time": "2022-04-16T12:53:19.991Z"
   },
   {
    "duration": 371,
    "start_time": "2022-04-16T12:53:20.419Z"
   },
   {
    "duration": 384,
    "start_time": "2022-04-16T12:53:20.792Z"
   },
   {
    "duration": 12,
    "start_time": "2022-04-16T12:53:21.177Z"
   },
   {
    "duration": 15,
    "start_time": "2022-04-16T12:53:21.191Z"
   },
   {
    "duration": 11,
    "start_time": "2022-04-16T13:00:30.145Z"
   },
   {
    "duration": 1368,
    "start_time": "2022-04-17T05:41:20.994Z"
   },
   {
    "duration": 398,
    "start_time": "2022-04-17T05:41:22.364Z"
   },
   {
    "duration": 29,
    "start_time": "2022-04-17T05:41:22.763Z"
   },
   {
    "duration": 11,
    "start_time": "2022-04-17T05:41:22.794Z"
   },
   {
    "duration": 124,
    "start_time": "2022-04-17T05:41:22.808Z"
   },
   {
    "duration": 10,
    "start_time": "2022-04-17T05:41:22.934Z"
   },
   {
    "duration": 26,
    "start_time": "2022-04-17T05:41:22.945Z"
   },
   {
    "duration": 25,
    "start_time": "2022-04-17T05:41:22.972Z"
   },
   {
    "duration": 67,
    "start_time": "2022-04-17T05:41:22.999Z"
   },
   {
    "duration": 28,
    "start_time": "2022-04-17T05:41:23.067Z"
   },
   {
    "duration": 20,
    "start_time": "2022-04-17T05:41:23.096Z"
   },
   {
    "duration": 8,
    "start_time": "2022-04-17T05:41:23.117Z"
   },
   {
    "duration": 65,
    "start_time": "2022-04-17T05:41:23.127Z"
   },
   {
    "duration": 10,
    "start_time": "2022-04-17T05:41:23.196Z"
   },
   {
    "duration": 7,
    "start_time": "2022-04-17T05:41:23.208Z"
   },
   {
    "duration": 9,
    "start_time": "2022-04-17T05:41:23.217Z"
   },
   {
    "duration": 11,
    "start_time": "2022-04-17T05:41:23.228Z"
   },
   {
    "duration": 10,
    "start_time": "2022-04-17T05:41:23.241Z"
   },
   {
    "duration": 44,
    "start_time": "2022-04-17T05:41:23.253Z"
   },
   {
    "duration": 7,
    "start_time": "2022-04-17T05:41:23.300Z"
   },
   {
    "duration": 3,
    "start_time": "2022-04-17T05:41:23.309Z"
   },
   {
    "duration": 8,
    "start_time": "2022-04-17T05:41:23.313Z"
   },
   {
    "duration": 12,
    "start_time": "2022-04-17T05:41:23.322Z"
   },
   {
    "duration": 8,
    "start_time": "2022-04-17T05:41:23.336Z"
   },
   {
    "duration": 54,
    "start_time": "2022-04-17T05:41:23.345Z"
   },
   {
    "duration": 74,
    "start_time": "2022-04-17T05:41:23.400Z"
   },
   {
    "duration": 17,
    "start_time": "2022-04-17T05:41:23.476Z"
   },
   {
    "duration": 52,
    "start_time": "2022-04-17T05:41:23.495Z"
   },
   {
    "duration": 73,
    "start_time": "2022-04-17T05:41:23.549Z"
   },
   {
    "duration": 28,
    "start_time": "2022-04-17T05:41:23.623Z"
   },
   {
    "duration": 20,
    "start_time": "2022-04-17T05:41:23.653Z"
   },
   {
    "duration": 22,
    "start_time": "2022-04-17T05:41:23.692Z"
   },
   {
    "duration": 17,
    "start_time": "2022-04-17T05:41:23.715Z"
   },
   {
    "duration": 14,
    "start_time": "2022-04-17T05:41:23.733Z"
   },
   {
    "duration": 14,
    "start_time": "2022-04-17T05:41:23.749Z"
   },
   {
    "duration": 14,
    "start_time": "2022-04-17T05:41:23.793Z"
   },
   {
    "duration": 25,
    "start_time": "2022-04-17T05:41:23.809Z"
   },
   {
    "duration": 25,
    "start_time": "2022-04-17T05:41:23.835Z"
   },
   {
    "duration": 35,
    "start_time": "2022-04-17T05:41:23.862Z"
   },
   {
    "duration": 24,
    "start_time": "2022-04-17T05:41:23.898Z"
   },
   {
    "duration": 19,
    "start_time": "2022-04-17T05:41:23.925Z"
   },
   {
    "duration": 366,
    "start_time": "2022-04-17T05:41:23.945Z"
   },
   {
    "duration": 305,
    "start_time": "2022-04-17T05:41:24.313Z"
   },
   {
    "duration": 310,
    "start_time": "2022-04-17T05:41:24.620Z"
   },
   {
    "duration": 11,
    "start_time": "2022-04-17T05:41:24.931Z"
   },
   {
    "duration": 11,
    "start_time": "2022-04-17T05:41:24.944Z"
   },
   {
    "duration": 22,
    "start_time": "2022-04-17T05:43:24.126Z"
   },
   {
    "duration": 4,
    "start_time": "2022-04-17T05:48:16.618Z"
   },
   {
    "duration": 12,
    "start_time": "2022-04-17T05:48:21.436Z"
   },
   {
    "duration": 11,
    "start_time": "2022-04-17T05:49:41.997Z"
   },
   {
    "duration": 12,
    "start_time": "2022-04-17T05:49:44.978Z"
   },
   {
    "duration": 13,
    "start_time": "2022-04-17T05:50:36.271Z"
   },
   {
    "duration": 22,
    "start_time": "2022-04-17T05:50:38.510Z"
   },
   {
    "duration": 14,
    "start_time": "2022-04-17T05:50:40.437Z"
   },
   {
    "duration": 18,
    "start_time": "2022-04-17T05:50:59.530Z"
   },
   {
    "duration": 35,
    "start_time": "2022-04-17T05:51:03.960Z"
   },
   {
    "duration": 19,
    "start_time": "2022-04-17T05:51:16.096Z"
   },
   {
    "duration": 15,
    "start_time": "2022-04-17T05:52:05.843Z"
   },
   {
    "duration": 24,
    "start_time": "2022-04-17T05:52:09.666Z"
   },
   {
    "duration": 14,
    "start_time": "2022-04-17T05:52:10.784Z"
   },
   {
    "duration": 26,
    "start_time": "2022-04-17T05:52:19.610Z"
   },
   {
    "duration": 20,
    "start_time": "2022-04-17T05:52:29.257Z"
   },
   {
    "duration": 108,
    "start_time": "2022-04-17T05:52:55.856Z"
   },
   {
    "duration": 20,
    "start_time": "2022-04-17T05:53:01.298Z"
   },
   {
    "duration": 28,
    "start_time": "2022-04-17T05:53:04.934Z"
   },
   {
    "duration": 12,
    "start_time": "2022-04-17T05:53:12.543Z"
   },
   {
    "duration": 1085,
    "start_time": "2022-04-17T05:53:20.824Z"
   },
   {
    "duration": 582,
    "start_time": "2022-04-17T05:53:21.911Z"
   },
   {
    "duration": 29,
    "start_time": "2022-04-17T05:53:22.497Z"
   },
   {
    "duration": 11,
    "start_time": "2022-04-17T05:53:22.528Z"
   },
   {
    "duration": 222,
    "start_time": "2022-04-17T05:53:22.593Z"
   },
   {
    "duration": 12,
    "start_time": "2022-04-17T05:53:22.817Z"
   },
   {
    "duration": 72,
    "start_time": "2022-04-17T05:53:22.830Z"
   },
   {
    "duration": 8,
    "start_time": "2022-04-17T05:53:22.903Z"
   },
   {
    "duration": 113,
    "start_time": "2022-04-17T05:53:22.913Z"
   },
   {
    "duration": 8,
    "start_time": "2022-04-17T05:53:23.028Z"
   },
   {
    "duration": 72,
    "start_time": "2022-04-17T05:53:23.038Z"
   },
   {
    "duration": 7,
    "start_time": "2022-04-17T05:53:23.112Z"
   },
   {
    "duration": 106,
    "start_time": "2022-04-17T05:53:23.122Z"
   },
   {
    "duration": 67,
    "start_time": "2022-04-17T05:53:23.230Z"
   },
   {
    "duration": 8,
    "start_time": "2022-04-17T05:53:23.298Z"
   },
   {
    "duration": 8,
    "start_time": "2022-04-17T05:53:23.308Z"
   },
   {
    "duration": 12,
    "start_time": "2022-04-17T05:53:23.318Z"
   },
   {
    "duration": 61,
    "start_time": "2022-04-17T05:53:23.332Z"
   },
   {
    "duration": 7,
    "start_time": "2022-04-17T05:53:23.394Z"
   },
   {
    "duration": 5,
    "start_time": "2022-04-17T05:53:23.403Z"
   },
   {
    "duration": 2,
    "start_time": "2022-04-17T05:53:23.410Z"
   },
   {
    "duration": 6,
    "start_time": "2022-04-17T05:53:23.414Z"
   },
   {
    "duration": 11,
    "start_time": "2022-04-17T05:53:23.422Z"
   },
   {
    "duration": 59,
    "start_time": "2022-04-17T05:53:23.434Z"
   },
   {
    "duration": 15,
    "start_time": "2022-04-17T05:53:23.494Z"
   },
   {
    "duration": 182,
    "start_time": "2022-04-17T05:53:23.511Z"
   },
   {
    "duration": 5,
    "start_time": "2022-04-17T05:53:23.695Z"
   },
   {
    "duration": 106,
    "start_time": "2022-04-17T05:53:23.701Z"
   },
   {
    "duration": 116,
    "start_time": "2022-04-17T05:53:23.809Z"
   },
   {
    "duration": 70,
    "start_time": "2022-04-17T05:53:23.926Z"
   },
   {
    "duration": 21,
    "start_time": "2022-04-17T05:53:23.998Z"
   },
   {
    "duration": 14,
    "start_time": "2022-04-17T05:53:24.020Z"
   },
   {
    "duration": 26,
    "start_time": "2022-04-17T05:53:24.035Z"
   },
   {
    "duration": 43,
    "start_time": "2022-04-17T05:53:24.062Z"
   },
   {
    "duration": 15,
    "start_time": "2022-04-17T05:53:24.107Z"
   },
   {
    "duration": 16,
    "start_time": "2022-04-17T05:53:24.123Z"
   },
   {
    "duration": 16,
    "start_time": "2022-04-17T05:53:24.141Z"
   },
   {
    "duration": 41,
    "start_time": "2022-04-17T05:53:24.158Z"
   },
   {
    "duration": 25,
    "start_time": "2022-04-17T05:53:24.201Z"
   },
   {
    "duration": 8,
    "start_time": "2022-04-17T05:53:24.230Z"
   },
   {
    "duration": 21,
    "start_time": "2022-04-17T05:53:24.239Z"
   },
   {
    "duration": 48,
    "start_time": "2022-04-17T05:53:24.261Z"
   },
   {
    "duration": 345,
    "start_time": "2022-04-17T05:53:24.310Z"
   },
   {
    "duration": 287,
    "start_time": "2022-04-17T05:53:24.657Z"
   },
   {
    "duration": 487,
    "start_time": "2022-04-17T05:53:24.946Z"
   },
   {
    "duration": 64,
    "start_time": "2022-04-17T05:53:25.435Z"
   },
   {
    "duration": 10,
    "start_time": "2022-04-17T05:53:25.501Z"
   },
   {
    "duration": 1820,
    "start_time": "2022-04-17T05:54:00.972Z"
   },
   {
    "duration": 1123,
    "start_time": "2022-04-17T05:54:51.613Z"
   },
   {
    "duration": 367,
    "start_time": "2022-04-17T05:54:52.738Z"
   },
   {
    "duration": 27,
    "start_time": "2022-04-17T05:54:53.106Z"
   },
   {
    "duration": 12,
    "start_time": "2022-04-17T05:54:53.134Z"
   },
   {
    "duration": 119,
    "start_time": "2022-04-17T05:54:53.148Z"
   },
   {
    "duration": 11,
    "start_time": "2022-04-17T05:54:53.269Z"
   },
   {
    "duration": 31,
    "start_time": "2022-04-17T05:54:53.282Z"
   },
   {
    "duration": 7,
    "start_time": "2022-04-17T05:54:53.315Z"
   },
   {
    "duration": 80,
    "start_time": "2022-04-17T05:54:53.324Z"
   },
   {
    "duration": 9,
    "start_time": "2022-04-17T05:54:53.405Z"
   },
   {
    "duration": 20,
    "start_time": "2022-04-17T05:54:53.415Z"
   },
   {
    "duration": 7,
    "start_time": "2022-04-17T05:54:53.436Z"
   },
   {
    "duration": 70,
    "start_time": "2022-04-17T05:54:53.445Z"
   },
   {
    "duration": 10,
    "start_time": "2022-04-17T05:54:53.519Z"
   },
   {
    "duration": 6,
    "start_time": "2022-04-17T05:54:53.531Z"
   },
   {
    "duration": 8,
    "start_time": "2022-04-17T05:54:53.539Z"
   },
   {
    "duration": 10,
    "start_time": "2022-04-17T05:54:53.549Z"
   },
   {
    "duration": 36,
    "start_time": "2022-04-17T05:54:53.561Z"
   },
   {
    "duration": 7,
    "start_time": "2022-04-17T05:54:53.599Z"
   },
   {
    "duration": 6,
    "start_time": "2022-04-17T05:54:53.608Z"
   },
   {
    "duration": 2,
    "start_time": "2022-04-17T05:54:53.615Z"
   },
   {
    "duration": 7,
    "start_time": "2022-04-17T05:54:53.619Z"
   },
   {
    "duration": 14,
    "start_time": "2022-04-17T05:54:53.628Z"
   },
   {
    "duration": 10,
    "start_time": "2022-04-17T05:54:53.644Z"
   },
   {
    "duration": 16,
    "start_time": "2022-04-17T05:54:53.655Z"
   },
   {
    "duration": 72,
    "start_time": "2022-04-17T05:54:53.693Z"
   },
   {
    "duration": 5,
    "start_time": "2022-04-17T05:54:53.767Z"
   },
   {
    "duration": 62,
    "start_time": "2022-04-17T05:54:53.773Z"
   },
   {
    "duration": 72,
    "start_time": "2022-04-17T05:54:53.837Z"
   },
   {
    "duration": 24,
    "start_time": "2022-04-17T05:54:53.911Z"
   },
   {
    "duration": 20,
    "start_time": "2022-04-17T05:54:53.937Z"
   },
   {
    "duration": 12,
    "start_time": "2022-04-17T05:54:53.958Z"
   },
   {
    "duration": 42,
    "start_time": "2022-04-17T05:54:53.972Z"
   },
   {
    "duration": 18,
    "start_time": "2022-04-17T05:54:54.015Z"
   },
   {
    "duration": 14,
    "start_time": "2022-04-17T05:54:54.035Z"
   },
   {
    "duration": 43,
    "start_time": "2022-04-17T05:54:54.050Z"
   },
   {
    "duration": 14,
    "start_time": "2022-04-17T05:54:54.094Z"
   },
   {
    "duration": 27,
    "start_time": "2022-04-17T05:54:54.109Z"
   },
   {
    "duration": 81,
    "start_time": "2022-04-17T05:54:54.138Z"
   },
   {
    "duration": 6,
    "start_time": "2022-04-17T05:54:54.221Z"
   },
   {
    "duration": 76,
    "start_time": "2022-04-17T05:54:54.231Z"
   },
   {
    "duration": 18,
    "start_time": "2022-04-17T05:54:54.309Z"
   },
   {
    "duration": 695,
    "start_time": "2022-04-17T05:54:54.329Z"
   },
   {
    "duration": 596,
    "start_time": "2022-04-17T05:54:55.026Z"
   },
   {
    "duration": 459,
    "start_time": "2022-04-17T05:54:55.624Z"
   },
   {
    "duration": 15,
    "start_time": "2022-04-17T05:54:56.085Z"
   },
   {
    "duration": 16,
    "start_time": "2022-04-17T05:54:56.102Z"
   },
   {
    "duration": 12,
    "start_time": "2022-04-17T05:55:28.067Z"
   },
   {
    "duration": 102,
    "start_time": "2022-04-17T05:56:34.665Z"
   },
   {
    "duration": 14,
    "start_time": "2022-04-17T05:56:56.318Z"
   },
   {
    "duration": 27,
    "start_time": "2022-04-17T05:57:02.056Z"
   },
   {
    "duration": 12,
    "start_time": "2022-04-17T05:57:40.845Z"
   },
   {
    "duration": 25,
    "start_time": "2022-04-17T05:57:42.342Z"
   },
   {
    "duration": 12,
    "start_time": "2022-04-17T05:58:15.871Z"
   },
   {
    "duration": 25,
    "start_time": "2022-04-17T05:58:20.893Z"
   },
   {
    "duration": 26,
    "start_time": "2022-04-17T05:59:44.437Z"
   },
   {
    "duration": 1161,
    "start_time": "2022-04-17T06:00:03.350Z"
   },
   {
    "duration": 464,
    "start_time": "2022-04-17T06:00:04.513Z"
   },
   {
    "duration": 26,
    "start_time": "2022-04-17T06:00:04.979Z"
   },
   {
    "duration": 10,
    "start_time": "2022-04-17T06:00:05.007Z"
   },
   {
    "duration": 121,
    "start_time": "2022-04-17T06:00:05.018Z"
   },
   {
    "duration": 9,
    "start_time": "2022-04-17T06:00:05.140Z"
   },
   {
    "duration": 20,
    "start_time": "2022-04-17T06:00:05.151Z"
   },
   {
    "duration": 25,
    "start_time": "2022-04-17T06:00:05.173Z"
   },
   {
    "duration": 69,
    "start_time": "2022-04-17T06:00:05.199Z"
   },
   {
    "duration": 8,
    "start_time": "2022-04-17T06:00:05.271Z"
   },
   {
    "duration": 19,
    "start_time": "2022-04-17T06:00:05.293Z"
   },
   {
    "duration": 7,
    "start_time": "2022-04-17T06:00:05.313Z"
   },
   {
    "duration": 47,
    "start_time": "2022-04-17T06:00:05.321Z"
   },
   {
    "duration": 29,
    "start_time": "2022-04-17T06:00:05.370Z"
   },
   {
    "duration": 11,
    "start_time": "2022-04-17T06:00:05.401Z"
   },
   {
    "duration": 9,
    "start_time": "2022-04-17T06:00:05.413Z"
   },
   {
    "duration": 11,
    "start_time": "2022-04-17T06:00:05.424Z"
   },
   {
    "duration": 22,
    "start_time": "2022-04-17T06:00:05.436Z"
   },
   {
    "duration": 8,
    "start_time": "2022-04-17T06:00:05.460Z"
   },
   {
    "duration": 23,
    "start_time": "2022-04-17T06:00:05.470Z"
   },
   {
    "duration": 3,
    "start_time": "2022-04-17T06:00:05.495Z"
   },
   {
    "duration": 13,
    "start_time": "2022-04-17T06:00:05.499Z"
   },
   {
    "duration": 15,
    "start_time": "2022-04-17T06:00:05.513Z"
   },
   {
    "duration": 10,
    "start_time": "2022-04-17T06:00:05.529Z"
   },
   {
    "duration": 15,
    "start_time": "2022-04-17T06:00:05.541Z"
   },
   {
    "duration": 91,
    "start_time": "2022-04-17T06:00:05.558Z"
   },
   {
    "duration": 5,
    "start_time": "2022-04-17T06:00:05.650Z"
   },
   {
    "duration": 64,
    "start_time": "2022-04-17T06:00:05.658Z"
   },
   {
    "duration": 69,
    "start_time": "2022-04-17T06:00:05.724Z"
   },
   {
    "duration": 25,
    "start_time": "2022-04-17T06:00:05.795Z"
   },
   {
    "duration": 20,
    "start_time": "2022-04-17T06:00:05.822Z"
   },
   {
    "duration": 13,
    "start_time": "2022-04-17T06:00:05.843Z"
   },
   {
    "duration": 48,
    "start_time": "2022-04-17T06:00:05.857Z"
   },
   {
    "duration": 18,
    "start_time": "2022-04-17T06:00:05.906Z"
   },
   {
    "duration": 13,
    "start_time": "2022-04-17T06:00:05.926Z"
   },
   {
    "duration": 22,
    "start_time": "2022-04-17T06:00:05.941Z"
   },
   {
    "duration": 34,
    "start_time": "2022-04-17T06:00:05.965Z"
   },
   {
    "duration": 24,
    "start_time": "2022-04-17T06:00:06.001Z"
   },
   {
    "duration": 31,
    "start_time": "2022-04-17T06:00:06.026Z"
   },
   {
    "duration": 5,
    "start_time": "2022-04-17T06:00:06.059Z"
   },
   {
    "duration": 36,
    "start_time": "2022-04-17T06:00:06.065Z"
   },
   {
    "duration": 17,
    "start_time": "2022-04-17T06:00:06.102Z"
   },
   {
    "duration": 343,
    "start_time": "2022-04-17T06:00:06.121Z"
   },
   {
    "duration": 306,
    "start_time": "2022-04-17T06:00:06.466Z"
   },
   {
    "duration": 338,
    "start_time": "2022-04-17T06:00:06.774Z"
   },
   {
    "duration": 11,
    "start_time": "2022-04-17T06:00:07.113Z"
   },
   {
    "duration": 30,
    "start_time": "2022-04-17T06:00:07.126Z"
   },
   {
    "duration": 24,
    "start_time": "2022-04-17T06:03:15.750Z"
   },
   {
    "duration": 1158,
    "start_time": "2022-04-17T06:04:37.759Z"
   },
   {
    "duration": 415,
    "start_time": "2022-04-17T06:04:38.919Z"
   },
   {
    "duration": 30,
    "start_time": "2022-04-17T06:04:39.336Z"
   },
   {
    "duration": 12,
    "start_time": "2022-04-17T06:04:39.369Z"
   },
   {
    "duration": 120,
    "start_time": "2022-04-17T06:04:39.382Z"
   },
   {
    "duration": 11,
    "start_time": "2022-04-17T06:04:39.504Z"
   },
   {
    "duration": 25,
    "start_time": "2022-04-17T06:04:39.517Z"
   },
   {
    "duration": 16,
    "start_time": "2022-04-17T06:04:39.544Z"
   },
   {
    "duration": 96,
    "start_time": "2022-04-17T06:04:39.562Z"
   },
   {
    "duration": 10,
    "start_time": "2022-04-17T06:04:39.663Z"
   },
   {
    "duration": 34,
    "start_time": "2022-04-17T06:04:39.675Z"
   },
   {
    "duration": 9,
    "start_time": "2022-04-17T06:04:39.711Z"
   },
   {
    "duration": 73,
    "start_time": "2022-04-17T06:04:39.722Z"
   },
   {
    "duration": 12,
    "start_time": "2022-04-17T06:04:39.797Z"
   },
   {
    "duration": 8,
    "start_time": "2022-04-17T06:04:39.811Z"
   },
   {
    "duration": 9,
    "start_time": "2022-04-17T06:04:39.821Z"
   },
   {
    "duration": 13,
    "start_time": "2022-04-17T06:04:39.833Z"
   },
   {
    "duration": 45,
    "start_time": "2022-04-17T06:04:39.848Z"
   },
   {
    "duration": 8,
    "start_time": "2022-04-17T06:04:39.895Z"
   },
   {
    "duration": 8,
    "start_time": "2022-04-17T06:04:39.905Z"
   },
   {
    "duration": 3,
    "start_time": "2022-04-17T06:04:39.915Z"
   },
   {
    "duration": 8,
    "start_time": "2022-04-17T06:04:39.920Z"
   },
   {
    "duration": 18,
    "start_time": "2022-04-17T06:04:39.930Z"
   },
   {
    "duration": 15,
    "start_time": "2022-04-17T06:04:39.950Z"
   },
   {
    "duration": 16,
    "start_time": "2022-04-17T06:04:39.993Z"
   },
   {
    "duration": 101,
    "start_time": "2022-04-17T06:04:40.011Z"
   },
   {
    "duration": 5,
    "start_time": "2022-04-17T06:04:40.114Z"
   },
   {
    "duration": 105,
    "start_time": "2022-04-17T06:04:40.122Z"
   },
   {
    "duration": 166,
    "start_time": "2022-04-17T06:04:40.229Z"
   },
   {
    "duration": 27,
    "start_time": "2022-04-17T06:04:40.397Z"
   },
   {
    "duration": 75,
    "start_time": "2022-04-17T06:04:40.425Z"
   },
   {
    "duration": 13,
    "start_time": "2022-04-17T06:04:40.502Z"
   },
   {
    "duration": 77,
    "start_time": "2022-04-17T06:04:40.517Z"
   },
   {
    "duration": 19,
    "start_time": "2022-04-17T06:04:40.596Z"
   },
   {
    "duration": 14,
    "start_time": "2022-04-17T06:04:40.617Z"
   },
   {
    "duration": 71,
    "start_time": "2022-04-17T06:04:40.633Z"
   },
   {
    "duration": 13,
    "start_time": "2022-04-17T06:04:40.706Z"
   },
   {
    "duration": 78,
    "start_time": "2022-04-17T06:04:40.721Z"
   },
   {
    "duration": 26,
    "start_time": "2022-04-17T06:04:40.800Z"
   },
   {
    "duration": 78,
    "start_time": "2022-04-17T06:04:40.828Z"
   },
   {
    "duration": 6,
    "start_time": "2022-04-17T06:04:40.908Z"
   },
   {
    "duration": 20,
    "start_time": "2022-04-17T06:04:40.916Z"
   },
   {
    "duration": 21,
    "start_time": "2022-04-17T06:04:40.993Z"
   },
   {
    "duration": 710,
    "start_time": "2022-04-17T06:04:41.016Z"
   },
   {
    "duration": 469,
    "start_time": "2022-04-17T06:04:41.727Z"
   },
   {
    "duration": 327,
    "start_time": "2022-04-17T06:04:42.198Z"
   },
   {
    "duration": 12,
    "start_time": "2022-04-17T06:04:42.526Z"
   },
   {
    "duration": 11,
    "start_time": "2022-04-17T06:04:42.539Z"
   },
   {
    "duration": 12,
    "start_time": "2022-04-17T06:05:21.651Z"
   },
   {
    "duration": 22,
    "start_time": "2022-04-17T06:05:23.256Z"
   },
   {
    "duration": 26,
    "start_time": "2022-04-17T06:11:56.618Z"
   },
   {
    "duration": 1096,
    "start_time": "2022-04-17T06:12:29.117Z"
   },
   {
    "duration": 375,
    "start_time": "2022-04-17T06:12:30.215Z"
   },
   {
    "duration": 27,
    "start_time": "2022-04-17T06:12:30.591Z"
   },
   {
    "duration": 11,
    "start_time": "2022-04-17T06:12:30.620Z"
   },
   {
    "duration": 128,
    "start_time": "2022-04-17T06:12:30.633Z"
   },
   {
    "duration": 10,
    "start_time": "2022-04-17T06:12:30.762Z"
   },
   {
    "duration": 35,
    "start_time": "2022-04-17T06:12:30.774Z"
   },
   {
    "duration": 8,
    "start_time": "2022-04-17T06:12:30.811Z"
   },
   {
    "duration": 81,
    "start_time": "2022-04-17T06:12:30.820Z"
   },
   {
    "duration": 9,
    "start_time": "2022-04-17T06:12:30.904Z"
   },
   {
    "duration": 29,
    "start_time": "2022-04-17T06:12:30.915Z"
   },
   {
    "duration": 34,
    "start_time": "2022-04-17T06:12:30.946Z"
   },
   {
    "duration": 70,
    "start_time": "2022-04-17T06:12:30.982Z"
   },
   {
    "duration": 11,
    "start_time": "2022-04-17T06:12:31.053Z"
   },
   {
    "duration": 18,
    "start_time": "2022-04-17T06:12:31.066Z"
   },
   {
    "duration": 22,
    "start_time": "2022-04-17T06:12:31.086Z"
   },
   {
    "duration": 20,
    "start_time": "2022-04-17T06:12:31.109Z"
   },
   {
    "duration": 25,
    "start_time": "2022-04-17T06:12:31.131Z"
   },
   {
    "duration": 10,
    "start_time": "2022-04-17T06:12:31.158Z"
   },
   {
    "duration": 23,
    "start_time": "2022-04-17T06:12:31.170Z"
   },
   {
    "duration": 4,
    "start_time": "2022-04-17T06:12:31.195Z"
   },
   {
    "duration": 24,
    "start_time": "2022-04-17T06:12:31.200Z"
   },
   {
    "duration": 26,
    "start_time": "2022-04-17T06:12:31.225Z"
   },
   {
    "duration": 13,
    "start_time": "2022-04-17T06:12:31.292Z"
   },
   {
    "duration": 36,
    "start_time": "2022-04-17T06:12:31.306Z"
   },
   {
    "duration": 173,
    "start_time": "2022-04-17T06:12:31.343Z"
   },
   {
    "duration": 5,
    "start_time": "2022-04-17T06:12:31.517Z"
   },
   {
    "duration": 109,
    "start_time": "2022-04-17T06:12:31.525Z"
   },
   {
    "duration": 165,
    "start_time": "2022-04-17T06:12:31.636Z"
   },
   {
    "duration": 27,
    "start_time": "2022-04-17T06:12:31.802Z"
   },
   {
    "duration": 74,
    "start_time": "2022-04-17T06:12:31.830Z"
   },
   {
    "duration": 13,
    "start_time": "2022-04-17T06:12:31.905Z"
   },
   {
    "duration": 104,
    "start_time": "2022-04-17T06:12:31.920Z"
   },
   {
    "duration": 0,
    "start_time": "2022-04-17T06:12:32.025Z"
   },
   {
    "duration": 0,
    "start_time": "2022-04-17T06:12:32.026Z"
   },
   {
    "duration": 0,
    "start_time": "2022-04-17T06:12:32.028Z"
   },
   {
    "duration": 0,
    "start_time": "2022-04-17T06:12:32.028Z"
   },
   {
    "duration": 0,
    "start_time": "2022-04-17T06:12:32.030Z"
   },
   {
    "duration": 0,
    "start_time": "2022-04-17T06:12:32.031Z"
   },
   {
    "duration": 0,
    "start_time": "2022-04-17T06:12:32.032Z"
   },
   {
    "duration": 0,
    "start_time": "2022-04-17T06:12:32.033Z"
   },
   {
    "duration": 0,
    "start_time": "2022-04-17T06:12:32.034Z"
   },
   {
    "duration": 0,
    "start_time": "2022-04-17T06:12:32.035Z"
   },
   {
    "duration": 0,
    "start_time": "2022-04-17T06:12:32.036Z"
   },
   {
    "duration": 0,
    "start_time": "2022-04-17T06:12:32.037Z"
   },
   {
    "duration": 0,
    "start_time": "2022-04-17T06:12:32.038Z"
   },
   {
    "duration": 0,
    "start_time": "2022-04-17T06:12:32.040Z"
   },
   {
    "duration": 0,
    "start_time": "2022-04-17T06:12:32.041Z"
   },
   {
    "duration": 25,
    "start_time": "2022-04-17T06:13:00.769Z"
   },
   {
    "duration": 36,
    "start_time": "2022-04-17T06:13:51.257Z"
   },
   {
    "duration": 26,
    "start_time": "2022-04-17T06:15:53.339Z"
   },
   {
    "duration": 26,
    "start_time": "2022-04-17T06:17:14.953Z"
   },
   {
    "duration": 28,
    "start_time": "2022-04-17T06:17:45.462Z"
   },
   {
    "duration": 7,
    "start_time": "2022-04-17T06:18:49.109Z"
   },
   {
    "duration": 108,
    "start_time": "2022-04-17T06:18:50.587Z"
   },
   {
    "duration": 15,
    "start_time": "2022-04-17T06:18:59.004Z"
   },
   {
    "duration": 14,
    "start_time": "2022-04-17T06:19:01.044Z"
   },
   {
    "duration": 20,
    "start_time": "2022-04-17T06:19:06.954Z"
   },
   {
    "duration": 6,
    "start_time": "2022-04-17T06:19:25.484Z"
   },
   {
    "duration": 13,
    "start_time": "2022-04-17T06:22:18.226Z"
   },
   {
    "duration": 5,
    "start_time": "2022-04-17T06:22:22.474Z"
   },
   {
    "duration": 6,
    "start_time": "2022-04-17T06:22:30.299Z"
   },
   {
    "duration": 1718,
    "start_time": "2022-04-17T06:23:38.829Z"
   },
   {
    "duration": 12,
    "start_time": "2022-04-17T06:23:55.657Z"
   },
   {
    "duration": 5,
    "start_time": "2022-04-17T06:23:57.535Z"
   },
   {
    "duration": 13,
    "start_time": "2022-04-17T06:24:22.522Z"
   },
   {
    "duration": 6,
    "start_time": "2022-04-17T06:24:23.938Z"
   },
   {
    "duration": 15,
    "start_time": "2022-04-17T06:24:30.951Z"
   },
   {
    "duration": 13,
    "start_time": "2022-04-17T06:24:43.348Z"
   },
   {
    "duration": 13,
    "start_time": "2022-04-17T06:25:00.930Z"
   },
   {
    "duration": 7,
    "start_time": "2022-04-17T06:25:02.793Z"
   },
   {
    "duration": 25,
    "start_time": "2022-04-17T06:25:18.125Z"
   },
   {
    "duration": 13,
    "start_time": "2022-04-17T06:26:00.494Z"
   },
   {
    "duration": 6,
    "start_time": "2022-04-17T06:26:02.967Z"
   },
   {
    "duration": 25,
    "start_time": "2022-04-17T06:26:10.015Z"
   },
   {
    "duration": 10,
    "start_time": "2022-04-17T06:26:37.810Z"
   },
   {
    "duration": 7,
    "start_time": "2022-04-17T06:26:38.600Z"
   },
   {
    "duration": 13,
    "start_time": "2022-04-17T06:26:43.121Z"
   },
   {
    "duration": 6,
    "start_time": "2022-04-17T06:26:44.533Z"
   },
   {
    "duration": 11,
    "start_time": "2022-04-17T06:28:04.749Z"
   },
   {
    "duration": 6,
    "start_time": "2022-04-17T06:28:06.086Z"
   },
   {
    "duration": 24,
    "start_time": "2022-04-17T06:28:10.890Z"
   },
   {
    "duration": 24,
    "start_time": "2022-04-17T06:28:21.732Z"
   },
   {
    "duration": 6,
    "start_time": "2022-04-17T06:28:29.739Z"
   },
   {
    "duration": 23,
    "start_time": "2022-04-17T06:31:17.553Z"
   },
   {
    "duration": 7,
    "start_time": "2022-04-17T06:31:24.390Z"
   },
   {
    "duration": 24,
    "start_time": "2022-04-17T06:31:46.145Z"
   },
   {
    "duration": 6,
    "start_time": "2022-04-17T06:31:56.600Z"
   },
   {
    "duration": 39,
    "start_time": "2022-04-17T06:32:20.276Z"
   },
   {
    "duration": 2186,
    "start_time": "2022-04-17T06:32:25.956Z"
   },
   {
    "duration": 24,
    "start_time": "2022-04-17T06:32:43.786Z"
   },
   {
    "duration": 6,
    "start_time": "2022-04-17T06:32:45.223Z"
   },
   {
    "duration": 21,
    "start_time": "2022-04-17T06:32:59.804Z"
   },
   {
    "duration": 24,
    "start_time": "2022-04-17T06:33:08.967Z"
   },
   {
    "duration": 21,
    "start_time": "2022-04-17T06:33:27.067Z"
   },
   {
    "duration": 18,
    "start_time": "2022-04-17T06:33:35.532Z"
   },
   {
    "duration": 366,
    "start_time": "2022-04-17T06:33:53.787Z"
   },
   {
    "duration": 299,
    "start_time": "2022-04-17T06:33:57.836Z"
   },
   {
    "duration": 378,
    "start_time": "2022-04-17T06:33:59.175Z"
   },
   {
    "duration": 322,
    "start_time": "2022-04-17T06:34:14.390Z"
   },
   {
    "duration": 101,
    "start_time": "2022-04-17T06:36:18.703Z"
   },
   {
    "duration": 104,
    "start_time": "2022-04-17T06:38:28.698Z"
   },
   {
    "duration": 11,
    "start_time": "2022-04-17T06:39:46.489Z"
   },
   {
    "duration": 12,
    "start_time": "2022-04-17T06:39:51.108Z"
   },
   {
    "duration": 13,
    "start_time": "2022-04-17T06:42:48.852Z"
   },
   {
    "duration": 21,
    "start_time": "2022-04-17T06:42:54.961Z"
   },
   {
    "duration": 2098,
    "start_time": "2022-04-17T16:23:17.668Z"
   },
   {
    "duration": 496,
    "start_time": "2022-04-17T16:23:19.769Z"
   },
   {
    "duration": 38,
    "start_time": "2022-04-17T16:23:20.267Z"
   },
   {
    "duration": 18,
    "start_time": "2022-04-17T16:23:20.309Z"
   },
   {
    "duration": 183,
    "start_time": "2022-04-17T16:23:20.329Z"
   },
   {
    "duration": 17,
    "start_time": "2022-04-17T16:23:20.515Z"
   },
   {
    "duration": 54,
    "start_time": "2022-04-17T16:23:20.535Z"
   },
   {
    "duration": 12,
    "start_time": "2022-04-17T16:23:20.592Z"
   },
   {
    "duration": 139,
    "start_time": "2022-04-17T16:23:20.607Z"
   },
   {
    "duration": 15,
    "start_time": "2022-04-17T16:23:20.752Z"
   },
   {
    "duration": 25,
    "start_time": "2022-04-17T16:23:20.783Z"
   },
   {
    "duration": 10,
    "start_time": "2022-04-17T16:23:20.810Z"
   },
   {
    "duration": 98,
    "start_time": "2022-04-17T16:23:20.821Z"
   },
   {
    "duration": 15,
    "start_time": "2022-04-17T16:23:20.921Z"
   },
   {
    "duration": 10,
    "start_time": "2022-04-17T16:23:20.938Z"
   },
   {
    "duration": 37,
    "start_time": "2022-04-17T16:23:20.950Z"
   },
   {
    "duration": 21,
    "start_time": "2022-04-17T16:23:20.989Z"
   },
   {
    "duration": 16,
    "start_time": "2022-04-17T16:23:21.012Z"
   },
   {
    "duration": 10,
    "start_time": "2022-04-17T16:23:21.030Z"
   },
   {
    "duration": 10,
    "start_time": "2022-04-17T16:23:21.042Z"
   },
   {
    "duration": 29,
    "start_time": "2022-04-17T16:23:21.054Z"
   },
   {
    "duration": 12,
    "start_time": "2022-04-17T16:23:21.085Z"
   },
   {
    "duration": 17,
    "start_time": "2022-04-17T16:23:21.099Z"
   },
   {
    "duration": 12,
    "start_time": "2022-04-17T16:23:21.118Z"
   },
   {
    "duration": 55,
    "start_time": "2022-04-17T16:23:21.132Z"
   },
   {
    "duration": 126,
    "start_time": "2022-04-17T16:23:21.189Z"
   },
   {
    "duration": 6,
    "start_time": "2022-04-17T16:23:21.317Z"
   },
   {
    "duration": 88,
    "start_time": "2022-04-17T16:23:21.329Z"
   },
   {
    "duration": 96,
    "start_time": "2022-04-17T16:23:21.419Z"
   },
   {
    "duration": 36,
    "start_time": "2022-04-17T16:23:21.518Z"
   },
   {
    "duration": 44,
    "start_time": "2022-04-17T16:23:21.557Z"
   },
   {
    "duration": 18,
    "start_time": "2022-04-17T16:23:21.604Z"
   },
   {
    "duration": 60,
    "start_time": "2022-04-17T16:23:21.625Z"
   },
   {
    "duration": 59,
    "start_time": "2022-04-17T16:23:21.687Z"
   },
   {
    "duration": 9,
    "start_time": "2022-04-17T16:23:21.749Z"
   },
   {
    "duration": 24,
    "start_time": "2022-04-17T16:23:21.781Z"
   },
   {
    "duration": 21,
    "start_time": "2022-04-17T16:23:21.807Z"
   },
   {
    "duration": 17,
    "start_time": "2022-04-17T16:23:21.830Z"
   },
   {
    "duration": 38,
    "start_time": "2022-04-17T16:23:21.882Z"
   },
   {
    "duration": 61,
    "start_time": "2022-04-17T16:23:21.922Z"
   },
   {
    "duration": 28,
    "start_time": "2022-04-17T16:23:21.985Z"
   },
   {
    "duration": 73,
    "start_time": "2022-04-17T16:23:22.015Z"
   },
   {
    "duration": 691,
    "start_time": "2022-04-17T16:23:22.090Z"
   },
   {
    "duration": 627,
    "start_time": "2022-04-17T16:23:22.784Z"
   },
   {
    "duration": 558,
    "start_time": "2022-04-17T16:23:23.414Z"
   },
   {
    "duration": 19,
    "start_time": "2022-04-17T16:23:23.982Z"
   },
   {
    "duration": 15,
    "start_time": "2022-04-17T16:23:24.004Z"
   },
   {
    "duration": 14,
    "start_time": "2022-04-17T16:26:10.905Z"
   },
   {
    "duration": 29,
    "start_time": "2022-04-17T16:29:25.458Z"
   },
   {
    "duration": 31,
    "start_time": "2022-04-17T16:30:21.958Z"
   },
   {
    "duration": 31,
    "start_time": "2022-04-17T16:32:08.021Z"
   }
  ],
  "colab": {
   "provenance": []
  },
  "kernelspec": {
   "display_name": "Python 3 (ipykernel)",
   "language": "python",
   "name": "python3"
  },
  "language_info": {
   "codemirror_mode": {
    "name": "ipython",
    "version": 3
   },
   "file_extension": ".py",
   "mimetype": "text/x-python",
   "name": "python",
   "nbconvert_exporter": "python",
   "pygments_lexer": "ipython3",
   "version": "3.9.13"
  },
  "toc": {
   "base_numbering": 1,
   "nav_menu": {
    "height": "369px",
    "width": "260px"
   },
   "number_sections": true,
   "sideBar": true,
   "skip_h1_title": true,
   "title_cell": "Table of Contents",
   "title_sidebar": "Contents",
   "toc_cell": false,
   "toc_position": {
    "height": "calc(100% - 180px)",
    "left": "10px",
    "top": "150px",
    "width": "366.391px"
   },
   "toc_section_display": true,
   "toc_window_display": true
  }
 },
 "nbformat": 4,
 "nbformat_minor": 1
}
