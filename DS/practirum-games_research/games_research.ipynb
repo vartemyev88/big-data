{
 "cells": [
  {
   "cell_type": "markdown",
   "metadata": {
    "id": "Ont5ARcxIMZr"
   },
   "source": [
    "# Project description\n",
    "\n",
    "As an employee of the online store \"Streamline,\" your main objective is to identify the key factors that determine a game's success using historical data on game sales, user and expert ratings, genres, and platforms (such as Xbox or PlayStation) available from open sources. This will allow you to make an informed decision on potentially popular products and plan effective advertising campaigns.\n",
    "\n",
    "Your data currently extends up to 2016, and assuming it's December 2016, you need to develop a consistent data processing approach for forecasting sales. Whether you forecast for 2017 based on 2016 data or for 2027 based on 2026 data, the approach should be the same.\n",
    "\n",
    "One significant abbreviation found in the dataset is ESRB (Entertainment Software Rating Board), an association responsible for determining the age rating of computer games. ESRB evaluates game content and assigns it an appropriate age category, such as \"Mature,\" \"Early Childhood,\" or \"Teen.\""
   ]
  },
  {
   "cell_type": "markdown",
   "metadata": {
    "id": "J5E7tg-7J53l"
   },
   "source": [
    "# Table of contents\n",
    "\n",
    "---\n",
    "\n",
    "1. [Data overview](#data-overview)\n",
    "    * [Conclusion](#overview-conclusion)\n",
    "2. [Data preparation](#data-preparation)\n",
    "    * [Conclusion](#preparation-conclusion)\n",
    "3. [Exploratory data analysis](#eda)\n",
    "    * [Conclusion](#eda-conclusion)\n",
    "4. [User portrait for each region](#portrait)\n",
    "    * [Conclusion](#portrait-conclusion)\n",
    "5. [Hypothesis testing](#hypothesis)\n",
    "    * [Hypothesis #1](#hypothesis-1)\n",
    "    * [Hypothesis #2](#hypothesis-2)\n",
    "6. [General conclusion](#conclusion)\n",
    "\n",
    "---"
   ]
  },
  {
   "cell_type": "markdown",
   "metadata": {
    "id": "d3DhuS6VIMZs"
   },
   "source": [
    "## Data overview <a class=\"anchor\" id=\"data-overview\"></a>\n",
    "\n",
    "**Importing libraries, reading data**"
   ]
  },
  {
   "cell_type": "code",
   "execution_count": 1,
   "metadata": {
    "id": "qoBW27u7IMZu"
   },
   "outputs": [],
   "source": [
    "import matplotlib.pyplot as plt\n",
    "import numpy as np\n",
    "import pandas as pd\n",
    "import seaborn as sns\n",
    "import warnings\n",
    "from scipy import stats as st"
   ]
  },
  {
   "cell_type": "code",
   "execution_count": 2,
   "metadata": {
    "colab": {
     "base_uri": "https://localhost:8080/",
     "height": 652
    },
    "id": "AkY6YcUoR3MG",
    "outputId": "7754a9fa-d2a0-4ed8-f5fd-8e47f5e271e8"
   },
   "outputs": [
    {
     "data": {
      "text/html": [
       "<div>\n",
       "<style scoped>\n",
       "    .dataframe tbody tr th:only-of-type {\n",
       "        vertical-align: middle;\n",
       "    }\n",
       "\n",
       "    .dataframe tbody tr th {\n",
       "        vertical-align: top;\n",
       "    }\n",
       "\n",
       "    .dataframe thead th {\n",
       "        text-align: right;\n",
       "    }\n",
       "</style>\n",
       "<table border=\"1\" class=\"dataframe\">\n",
       "  <thead>\n",
       "    <tr style=\"text-align: right;\">\n",
       "      <th></th>\n",
       "      <th>Name</th>\n",
       "      <th>Platform</th>\n",
       "      <th>Year_of_Release</th>\n",
       "      <th>Genre</th>\n",
       "      <th>NA_sales</th>\n",
       "      <th>EU_sales</th>\n",
       "      <th>JP_sales</th>\n",
       "      <th>Other_sales</th>\n",
       "      <th>Critic_Score</th>\n",
       "      <th>User_Score</th>\n",
       "      <th>Rating</th>\n",
       "    </tr>\n",
       "  </thead>\n",
       "  <tbody>\n",
       "    <tr>\n",
       "      <th>0</th>\n",
       "      <td>Wii Sports</td>\n",
       "      <td>Wii</td>\n",
       "      <td>2006.0</td>\n",
       "      <td>Sports</td>\n",
       "      <td>41.36</td>\n",
       "      <td>28.96</td>\n",
       "      <td>3.77</td>\n",
       "      <td>8.45</td>\n",
       "      <td>76.0</td>\n",
       "      <td>8</td>\n",
       "      <td>E</td>\n",
       "    </tr>\n",
       "    <tr>\n",
       "      <th>1</th>\n",
       "      <td>Super Mario Bros.</td>\n",
       "      <td>NES</td>\n",
       "      <td>1985.0</td>\n",
       "      <td>Platform</td>\n",
       "      <td>29.08</td>\n",
       "      <td>3.58</td>\n",
       "      <td>6.81</td>\n",
       "      <td>0.77</td>\n",
       "      <td>NaN</td>\n",
       "      <td>NaN</td>\n",
       "      <td>NaN</td>\n",
       "    </tr>\n",
       "    <tr>\n",
       "      <th>2</th>\n",
       "      <td>Mario Kart Wii</td>\n",
       "      <td>Wii</td>\n",
       "      <td>2008.0</td>\n",
       "      <td>Racing</td>\n",
       "      <td>15.68</td>\n",
       "      <td>12.76</td>\n",
       "      <td>3.79</td>\n",
       "      <td>3.29</td>\n",
       "      <td>82.0</td>\n",
       "      <td>8.3</td>\n",
       "      <td>E</td>\n",
       "    </tr>\n",
       "    <tr>\n",
       "      <th>3</th>\n",
       "      <td>Wii Sports Resort</td>\n",
       "      <td>Wii</td>\n",
       "      <td>2009.0</td>\n",
       "      <td>Sports</td>\n",
       "      <td>15.61</td>\n",
       "      <td>10.93</td>\n",
       "      <td>3.28</td>\n",
       "      <td>2.95</td>\n",
       "      <td>80.0</td>\n",
       "      <td>8</td>\n",
       "      <td>E</td>\n",
       "    </tr>\n",
       "    <tr>\n",
       "      <th>4</th>\n",
       "      <td>Pokemon Red/Pokemon Blue</td>\n",
       "      <td>GB</td>\n",
       "      <td>1996.0</td>\n",
       "      <td>Role-Playing</td>\n",
       "      <td>11.27</td>\n",
       "      <td>8.89</td>\n",
       "      <td>10.22</td>\n",
       "      <td>1.00</td>\n",
       "      <td>NaN</td>\n",
       "      <td>NaN</td>\n",
       "      <td>NaN</td>\n",
       "    </tr>\n",
       "  </tbody>\n",
       "</table>\n",
       "</div>"
      ],
      "text/plain": [
       "                       Name Platform  Year_of_Release         Genre  NA_sales  \\\n",
       "0                Wii Sports      Wii           2006.0        Sports     41.36   \n",
       "1         Super Mario Bros.      NES           1985.0      Platform     29.08   \n",
       "2            Mario Kart Wii      Wii           2008.0        Racing     15.68   \n",
       "3         Wii Sports Resort      Wii           2009.0        Sports     15.61   \n",
       "4  Pokemon Red/Pokemon Blue       GB           1996.0  Role-Playing     11.27   \n",
       "\n",
       "   EU_sales  JP_sales  Other_sales  Critic_Score User_Score Rating  \n",
       "0     28.96      3.77         8.45          76.0          8      E  \n",
       "1      3.58      6.81         0.77           NaN        NaN    NaN  \n",
       "2     12.76      3.79         3.29          82.0        8.3      E  \n",
       "3     10.93      3.28         2.95          80.0          8      E  \n",
       "4      8.89     10.22         1.00           NaN        NaN    NaN  "
      ]
     },
     "metadata": {},
     "output_type": "display_data"
    },
    {
     "name": "stdout",
     "output_type": "stream",
     "text": [
      "<class 'pandas.core.frame.DataFrame'>\n",
      "RangeIndex: 16715 entries, 0 to 16714\n",
      "Data columns (total 11 columns):\n",
      " #   Column           Non-Null Count  Dtype  \n",
      "---  ------           --------------  -----  \n",
      " 0   Name             16713 non-null  object \n",
      " 1   Platform         16715 non-null  object \n",
      " 2   Year_of_Release  16446 non-null  float64\n",
      " 3   Genre            16713 non-null  object \n",
      " 4   NA_sales         16715 non-null  float64\n",
      " 5   EU_sales         16715 non-null  float64\n",
      " 6   JP_sales         16715 non-null  float64\n",
      " 7   Other_sales      16715 non-null  float64\n",
      " 8   Critic_Score     8137 non-null   float64\n",
      " 9   User_Score       10014 non-null  object \n",
      " 10  Rating           9949 non-null   object \n",
      "dtypes: float64(6), object(5)\n",
      "memory usage: 1.4+ MB\n"
     ]
    }
   ],
   "source": [
    "\"\"\"\n",
    "Checking for CSV located in:\n",
    "    - Absolute path\n",
    "    - Relative path to the file in the same directory\n",
    "    - Windows-style path with a raw string (r) prefix\n",
    "\"\"\"\n",
    "try:\n",
    "    df = pd.read_csv(\"/datasets/games.csv\")\n",
    "except FileNotFoundError:\n",
    "    try:\n",
    "        df = pd.read_csv(\"games.csv\")\n",
    "    except FileNotFoundError:\n",
    "        try:\n",
    "            df = pd.read_csv(r\"games.csv\")\n",
    "        except FileNotFoundError:\n",
    "            print(\"File not found\")\n",
    "\n",
    "# Ignorig all warnings and displaying all columns in the DF:\n",
    "warnings.filterwarnings(\"ignore\")\n",
    "pd.set_option(\"display.max_columns\", None)\n",
    "\n",
    "# Settings for plots:\n",
    "sns.set(\n",
    "    rc = {\"figure.figsize\":(14,5)},\n",
    "    color_codes=True   \n",
    ")\n",
    "pal = sns.color_palette(\"tab10\", 50)\n",
    "\n",
    "display(df.head())\n",
    "df.info()"
   ]
  },
  {
   "cell_type": "markdown",
   "metadata": {
    "id": "4_nMc-WmIMZx"
   },
   "source": [
    "**Data description**\n",
    "\n",
    "- `Name`: name of the game\n",
    "- `Platform`: platform\n",
    "- `Year_of_Release`: year of release\n",
    "- `Genre`: game genre\n",
    "- `NA_sales`: sales in North America (millions of copies sold)\n",
    "- `EU_sales`: sales in Europe (millions of copies sold)\n",
    "- `JP_sales`: sales in Japan (millions of copies sold)\n",
    "- `Other_sales`: sales in other countries (millions of copies sold)\n",
    "- `Critic_Score`: critic score (maximum 100)\n",
    "- `User_Score`: user score (maximum 10)\n",
    "- `Rating`: rating from the Entertainment Software Rating Board (ESRB). This association determines the rating of computer games and assigns them an appropriate age category."
   ]
  },
  {
   "cell_type": "markdown",
   "metadata": {
    "id": "Wd8o29cqIMZz"
   },
   "source": [
    "### Conclusion <a class=\"anchor\" id=\"overview-conclusion\"></a>\n",
    "\n",
    "What needs to be done:\n",
    "\n",
    "- Rename the columns;\n",
    "- Convert the release date to an integer format;\n",
    "- Convert numerical data to the correct formats;\n",
    "- Handle missing values in columns with rating scores."
   ]
  },
  {
   "cell_type": "markdown",
   "metadata": {
    "id": "cBFdhyxnIMZ0"
   },
   "source": [
    "## Data preparation <a class=\"anchor\" id=\"data-preparation\"></a>\n",
    "\n",
    "**Column renaming**\n",
    "\n",
    "Rename the columns (convert to lowercase)."
   ]
  },
  {
   "cell_type": "code",
   "execution_count": 3,
   "metadata": {
    "id": "GGQAN1hwIMZ1"
   },
   "outputs": [],
   "source": [
    "df.columns = df.columns.str.lower()"
   ]
  },
  {
   "cell_type": "markdown",
   "metadata": {
    "id": "8DDKVOBBIMZ1"
   },
   "source": [
    "**Handling missing values**"
   ]
  },
  {
   "cell_type": "code",
   "execution_count": 4,
   "metadata": {
    "colab": {
     "base_uri": "https://localhost:8080/"
    },
    "id": "DCam0gf8IMZ2",
    "outputId": "3241437e-df8f-44bd-e1db-cfdb451acea3"
   },
   "outputs": [
    {
     "data": {
      "text/plain": [
       "name                0.011965\n",
       "platform            0.000000\n",
       "year_of_release     1.609333\n",
       "genre               0.011965\n",
       "na_sales            0.000000\n",
       "eu_sales            0.000000\n",
       "jp_sales            0.000000\n",
       "other_sales         0.000000\n",
       "critic_score       51.319174\n",
       "user_score         40.089740\n",
       "rating             40.478612\n",
       "dtype: float64"
      ]
     },
     "execution_count": 4,
     "metadata": {},
     "output_type": "execute_result"
    }
   ],
   "source": [
    "df.isna().mean() * 100"
   ]
  },
  {
   "cell_type": "markdown",
   "metadata": {
    "id": "BuZLdY-HIMZ3"
   },
   "source": [
    "Missing values in game titles (and genre) will be removed."
   ]
  },
  {
   "cell_type": "code",
   "execution_count": 5,
   "metadata": {
    "colab": {
     "base_uri": "https://localhost:8080/",
     "height": 176
    },
    "id": "Xr7_Oa_jIMZ3",
    "outputId": "8c000597-18e6-4365-fed9-bd589ebc6faa"
   },
   "outputs": [
    {
     "data": {
      "text/html": [
       "<div>\n",
       "<style scoped>\n",
       "    .dataframe tbody tr th:only-of-type {\n",
       "        vertical-align: middle;\n",
       "    }\n",
       "\n",
       "    .dataframe tbody tr th {\n",
       "        vertical-align: top;\n",
       "    }\n",
       "\n",
       "    .dataframe thead th {\n",
       "        text-align: right;\n",
       "    }\n",
       "</style>\n",
       "<table border=\"1\" class=\"dataframe\">\n",
       "  <thead>\n",
       "    <tr style=\"text-align: right;\">\n",
       "      <th></th>\n",
       "      <th>name</th>\n",
       "      <th>platform</th>\n",
       "      <th>year_of_release</th>\n",
       "      <th>genre</th>\n",
       "      <th>na_sales</th>\n",
       "      <th>eu_sales</th>\n",
       "      <th>jp_sales</th>\n",
       "      <th>other_sales</th>\n",
       "      <th>critic_score</th>\n",
       "      <th>user_score</th>\n",
       "      <th>rating</th>\n",
       "    </tr>\n",
       "  </thead>\n",
       "  <tbody>\n",
       "    <tr>\n",
       "      <th>659</th>\n",
       "      <td>NaN</td>\n",
       "      <td>GEN</td>\n",
       "      <td>1993.0</td>\n",
       "      <td>NaN</td>\n",
       "      <td>1.78</td>\n",
       "      <td>0.53</td>\n",
       "      <td>0.00</td>\n",
       "      <td>0.08</td>\n",
       "      <td>NaN</td>\n",
       "      <td>NaN</td>\n",
       "      <td>NaN</td>\n",
       "    </tr>\n",
       "    <tr>\n",
       "      <th>14244</th>\n",
       "      <td>NaN</td>\n",
       "      <td>GEN</td>\n",
       "      <td>1993.0</td>\n",
       "      <td>NaN</td>\n",
       "      <td>0.00</td>\n",
       "      <td>0.00</td>\n",
       "      <td>0.03</td>\n",
       "      <td>0.00</td>\n",
       "      <td>NaN</td>\n",
       "      <td>NaN</td>\n",
       "      <td>NaN</td>\n",
       "    </tr>\n",
       "  </tbody>\n",
       "</table>\n",
       "</div>"
      ],
      "text/plain": [
       "      name platform  year_of_release genre  na_sales  eu_sales  jp_sales  \\\n",
       "659    NaN      GEN           1993.0   NaN      1.78      0.53      0.00   \n",
       "14244  NaN      GEN           1993.0   NaN      0.00      0.00      0.03   \n",
       "\n",
       "       other_sales  critic_score user_score rating  \n",
       "659           0.08           NaN        NaN    NaN  \n",
       "14244         0.00           NaN        NaN    NaN  "
      ]
     },
     "execution_count": 5,
     "metadata": {},
     "output_type": "execute_result"
    }
   ],
   "source": [
    "df[df[\"name\"].isna() == True]"
   ]
  },
  {
   "cell_type": "code",
   "execution_count": 6,
   "metadata": {
    "id": "AYhPysBXIMZ3"
   },
   "outputs": [],
   "source": [
    "df.dropna(subset = [\"name\"], inplace=True)"
   ]
  },
  {
   "cell_type": "markdown",
   "metadata": {
    "id": "of3kHdMgIMZ4"
   },
   "source": [
    "I will delete the number of missing values in the release date."
   ]
  },
  {
   "cell_type": "code",
   "execution_count": 7,
   "metadata": {
    "colab": {
     "base_uri": "https://localhost:8080/"
    },
    "id": "LrM7YmHzIMZ4",
    "outputId": "1b69326c-0dd7-4ac8-8548-f0beae666b82"
   },
   "outputs": [
    {
     "data": {
      "text/plain": [
       "(16713, 11)"
      ]
     },
     "execution_count": 7,
     "metadata": {},
     "output_type": "execute_result"
    }
   ],
   "source": [
    "df.shape"
   ]
  },
  {
   "cell_type": "code",
   "execution_count": 8,
   "metadata": {
    "colab": {
     "base_uri": "https://localhost:8080/",
     "height": 696
    },
    "id": "dIl6WUfqIMZ5",
    "outputId": "97ca9399-94b3-4738-82c4-15705fcfb370"
   },
   "outputs": [
    {
     "data": {
      "text/html": [
       "<div>\n",
       "<style scoped>\n",
       "    .dataframe tbody tr th:only-of-type {\n",
       "        vertical-align: middle;\n",
       "    }\n",
       "\n",
       "    .dataframe tbody tr th {\n",
       "        vertical-align: top;\n",
       "    }\n",
       "\n",
       "    .dataframe thead th {\n",
       "        text-align: right;\n",
       "    }\n",
       "</style>\n",
       "<table border=\"1\" class=\"dataframe\">\n",
       "  <thead>\n",
       "    <tr style=\"text-align: right;\">\n",
       "      <th></th>\n",
       "      <th>name</th>\n",
       "      <th>platform</th>\n",
       "      <th>year_of_release</th>\n",
       "      <th>genre</th>\n",
       "      <th>na_sales</th>\n",
       "      <th>eu_sales</th>\n",
       "      <th>jp_sales</th>\n",
       "      <th>other_sales</th>\n",
       "      <th>critic_score</th>\n",
       "      <th>user_score</th>\n",
       "      <th>rating</th>\n",
       "    </tr>\n",
       "  </thead>\n",
       "  <tbody>\n",
       "    <tr>\n",
       "      <th>183</th>\n",
       "      <td>Madden NFL 2004</td>\n",
       "      <td>PS2</td>\n",
       "      <td>NaN</td>\n",
       "      <td>Sports</td>\n",
       "      <td>4.26</td>\n",
       "      <td>0.26</td>\n",
       "      <td>0.01</td>\n",
       "      <td>0.71</td>\n",
       "      <td>94.0</td>\n",
       "      <td>8.5</td>\n",
       "      <td>E</td>\n",
       "    </tr>\n",
       "    <tr>\n",
       "      <th>377</th>\n",
       "      <td>FIFA Soccer 2004</td>\n",
       "      <td>PS2</td>\n",
       "      <td>NaN</td>\n",
       "      <td>Sports</td>\n",
       "      <td>0.59</td>\n",
       "      <td>2.36</td>\n",
       "      <td>0.04</td>\n",
       "      <td>0.51</td>\n",
       "      <td>84.0</td>\n",
       "      <td>6.4</td>\n",
       "      <td>E</td>\n",
       "    </tr>\n",
       "    <tr>\n",
       "      <th>456</th>\n",
       "      <td>LEGO Batman: The Videogame</td>\n",
       "      <td>Wii</td>\n",
       "      <td>NaN</td>\n",
       "      <td>Action</td>\n",
       "      <td>1.80</td>\n",
       "      <td>0.97</td>\n",
       "      <td>0.00</td>\n",
       "      <td>0.29</td>\n",
       "      <td>74.0</td>\n",
       "      <td>7.9</td>\n",
       "      <td>E10+</td>\n",
       "    </tr>\n",
       "    <tr>\n",
       "      <th>475</th>\n",
       "      <td>wwe Smackdown vs. Raw 2006</td>\n",
       "      <td>PS2</td>\n",
       "      <td>NaN</td>\n",
       "      <td>Fighting</td>\n",
       "      <td>1.57</td>\n",
       "      <td>1.02</td>\n",
       "      <td>0.00</td>\n",
       "      <td>0.41</td>\n",
       "      <td>NaN</td>\n",
       "      <td>NaN</td>\n",
       "      <td>NaN</td>\n",
       "    </tr>\n",
       "    <tr>\n",
       "      <th>609</th>\n",
       "      <td>Space Invaders</td>\n",
       "      <td>2600</td>\n",
       "      <td>NaN</td>\n",
       "      <td>Shooter</td>\n",
       "      <td>2.36</td>\n",
       "      <td>0.14</td>\n",
       "      <td>0.00</td>\n",
       "      <td>0.03</td>\n",
       "      <td>NaN</td>\n",
       "      <td>NaN</td>\n",
       "      <td>NaN</td>\n",
       "    </tr>\n",
       "    <tr>\n",
       "      <th>...</th>\n",
       "      <td>...</td>\n",
       "      <td>...</td>\n",
       "      <td>...</td>\n",
       "      <td>...</td>\n",
       "      <td>...</td>\n",
       "      <td>...</td>\n",
       "      <td>...</td>\n",
       "      <td>...</td>\n",
       "      <td>...</td>\n",
       "      <td>...</td>\n",
       "      <td>...</td>\n",
       "    </tr>\n",
       "    <tr>\n",
       "      <th>16373</th>\n",
       "      <td>PDC World Championship Darts 2008</td>\n",
       "      <td>PSP</td>\n",
       "      <td>NaN</td>\n",
       "      <td>Sports</td>\n",
       "      <td>0.01</td>\n",
       "      <td>0.00</td>\n",
       "      <td>0.00</td>\n",
       "      <td>0.00</td>\n",
       "      <td>43.0</td>\n",
       "      <td>tbd</td>\n",
       "      <td>E10+</td>\n",
       "    </tr>\n",
       "    <tr>\n",
       "      <th>16405</th>\n",
       "      <td>Freaky Flyers</td>\n",
       "      <td>GC</td>\n",
       "      <td>NaN</td>\n",
       "      <td>Racing</td>\n",
       "      <td>0.01</td>\n",
       "      <td>0.00</td>\n",
       "      <td>0.00</td>\n",
       "      <td>0.00</td>\n",
       "      <td>69.0</td>\n",
       "      <td>6.5</td>\n",
       "      <td>T</td>\n",
       "    </tr>\n",
       "    <tr>\n",
       "      <th>16448</th>\n",
       "      <td>Inversion</td>\n",
       "      <td>PC</td>\n",
       "      <td>NaN</td>\n",
       "      <td>Shooter</td>\n",
       "      <td>0.01</td>\n",
       "      <td>0.00</td>\n",
       "      <td>0.00</td>\n",
       "      <td>0.00</td>\n",
       "      <td>59.0</td>\n",
       "      <td>6.7</td>\n",
       "      <td>M</td>\n",
       "    </tr>\n",
       "    <tr>\n",
       "      <th>16458</th>\n",
       "      <td>Hakuouki: Shinsengumi Kitan</td>\n",
       "      <td>PS3</td>\n",
       "      <td>NaN</td>\n",
       "      <td>Adventure</td>\n",
       "      <td>0.01</td>\n",
       "      <td>0.00</td>\n",
       "      <td>0.00</td>\n",
       "      <td>0.00</td>\n",
       "      <td>NaN</td>\n",
       "      <td>NaN</td>\n",
       "      <td>NaN</td>\n",
       "    </tr>\n",
       "    <tr>\n",
       "      <th>16522</th>\n",
       "      <td>Virtua Quest</td>\n",
       "      <td>GC</td>\n",
       "      <td>NaN</td>\n",
       "      <td>Role-Playing</td>\n",
       "      <td>0.01</td>\n",
       "      <td>0.00</td>\n",
       "      <td>0.00</td>\n",
       "      <td>0.00</td>\n",
       "      <td>55.0</td>\n",
       "      <td>5.5</td>\n",
       "      <td>T</td>\n",
       "    </tr>\n",
       "  </tbody>\n",
       "</table>\n",
       "<p>269 rows × 11 columns</p>\n",
       "</div>"
      ],
      "text/plain": [
       "                                    name platform  year_of_release  \\\n",
       "183                      Madden NFL 2004      PS2              NaN   \n",
       "377                     FIFA Soccer 2004      PS2              NaN   \n",
       "456           LEGO Batman: The Videogame      Wii              NaN   \n",
       "475           wwe Smackdown vs. Raw 2006      PS2              NaN   \n",
       "609                       Space Invaders     2600              NaN   \n",
       "...                                  ...      ...              ...   \n",
       "16373  PDC World Championship Darts 2008      PSP              NaN   \n",
       "16405                      Freaky Flyers       GC              NaN   \n",
       "16448                          Inversion       PC              NaN   \n",
       "16458        Hakuouki: Shinsengumi Kitan      PS3              NaN   \n",
       "16522                       Virtua Quest       GC              NaN   \n",
       "\n",
       "              genre  na_sales  eu_sales  jp_sales  other_sales  critic_score  \\\n",
       "183          Sports      4.26      0.26      0.01         0.71          94.0   \n",
       "377          Sports      0.59      2.36      0.04         0.51          84.0   \n",
       "456          Action      1.80      0.97      0.00         0.29          74.0   \n",
       "475        Fighting      1.57      1.02      0.00         0.41           NaN   \n",
       "609         Shooter      2.36      0.14      0.00         0.03           NaN   \n",
       "...             ...       ...       ...       ...          ...           ...   \n",
       "16373        Sports      0.01      0.00      0.00         0.00          43.0   \n",
       "16405        Racing      0.01      0.00      0.00         0.00          69.0   \n",
       "16448       Shooter      0.01      0.00      0.00         0.00          59.0   \n",
       "16458     Adventure      0.01      0.00      0.00         0.00           NaN   \n",
       "16522  Role-Playing      0.01      0.00      0.00         0.00          55.0   \n",
       "\n",
       "      user_score rating  \n",
       "183          8.5      E  \n",
       "377          6.4      E  \n",
       "456          7.9   E10+  \n",
       "475          NaN    NaN  \n",
       "609          NaN    NaN  \n",
       "...          ...    ...  \n",
       "16373        tbd   E10+  \n",
       "16405        6.5      T  \n",
       "16448        6.7      M  \n",
       "16458        NaN    NaN  \n",
       "16522        5.5      T  \n",
       "\n",
       "[269 rows x 11 columns]"
      ]
     },
     "execution_count": 8,
     "metadata": {},
     "output_type": "execute_result"
    }
   ],
   "source": [
    "df[df[\"year_of_release\"].isnull()]"
   ]
  },
  {
   "cell_type": "code",
   "execution_count": 9,
   "metadata": {
    "id": "_riThHlfIMZ6"
   },
   "outputs": [],
   "source": [
    "df.dropna(subset = [\"year_of_release\"], inplace=True)"
   ]
  },
  {
   "cell_type": "markdown",
   "metadata": {
    "id": "4I1viBDVIMZ-"
   },
   "source": [
    "Missing values in genres were removed along with missing values in game titles.\n",
    "\n",
    "Now let's move on to ratings from critics, users, and the ESRB rating.\n",
    "\n",
    "For the critic score, it appears to be a 100-point system without decimal points (which will be fixed in the next step). Missing values will be replaced with \"-100\" as they account for 51% of the column."
   ]
  },
  {
   "cell_type": "code",
   "execution_count": 10,
   "metadata": {
    "id": "3Vl0F9AcIMaA"
   },
   "outputs": [],
   "source": [
    "df[\"critic_score\"].fillna((-100), inplace=True)"
   ]
  },
  {
   "cell_type": "markdown",
   "metadata": {
    "id": "h9cIvZ9NIMaA"
   },
   "source": [
    "The user score is a 10-point system with decimal points. Missing values will be replaced with \"-10\" as they account for 40% of the column."
   ]
  },
  {
   "cell_type": "code",
   "execution_count": 11,
   "metadata": {
    "id": "51t_RbyLIMaB"
   },
   "outputs": [],
   "source": [
    "df[\"user_score\"].fillna((-10), inplace=True)\n",
    "df[\"user_score\"] = df[\"user_score\"].replace([\"tbd\"],-5)"
   ]
  },
  {
   "cell_type": "markdown",
   "metadata": {
    "id": "4e7Y0vuLIMaB"
   },
   "source": [
    "The value \"TBD\" (To Be Determined) in the user score indicates that the rating for the game was not fully formed at the time of data collection, such as not having enough ratings. These will be replaced with \"-5\"."
   ]
  },
  {
   "cell_type": "code",
   "execution_count": 12,
   "metadata": {
    "id": "vCoZ7hD4IMaD"
   },
   "outputs": [
    {
     "data": {
      "text/plain": [
       "-10    6605\n",
       "-5     2376\n",
       "7.8     322\n",
       "8       285\n",
       "8.2     276\n",
       "       ... \n",
       "0.7       2\n",
       "1.1       2\n",
       "9.6       2\n",
       "9.7       1\n",
       "0         1\n",
       "Name: user_score, Length: 97, dtype: int64"
      ]
     },
     "execution_count": 12,
     "metadata": {},
     "output_type": "execute_result"
    }
   ],
   "source": [
    "df[\"user_score\"].value_counts()"
   ]
  },
  {
   "cell_type": "markdown",
   "metadata": {
    "id": "SFgrDcEuIMaD"
   },
   "source": [
    "The rating column indicates the age category of the game and has 40% missing values. There is no need to replace these values as only the ESRB organization is authorized to assign a rating to a game."
   ]
  },
  {
   "cell_type": "code",
   "execution_count": 13,
   "metadata": {
    "id": "MBQrIJHrIMaE"
   },
   "outputs": [],
   "source": [
    "df[\"rating\"].fillna((\"No rating\"), inplace=True)"
   ]
  },
  {
   "cell_type": "markdown",
   "metadata": {
    "id": "k89dC6g1IMaF"
   },
   "source": [
    "The ratings are as follows:\n",
    "\n",
    "- \"EC\" (Early Childhood) - \"For young children\"\n",
    "- \"E\" (Everyone) - \"For everyone\" (including \"K-A\" (\"Kids to Adults\"))\n",
    "- \"E10+\" (Everyone 10 and older) - \"For everyone 10 and older\"\n",
    "- \"T\" (Teen) - \"For teenagers\"\n",
    "- \"M\" (Mature) - \"For adults\"\n",
    "- \"AO\" (Adults Only 18+) - \"For adults only\"\n",
    "- \"RP\" (Rating Pending) - \"Rating pending\""
   ]
  },
  {
   "cell_type": "markdown",
   "metadata": {
    "id": "86gRWtzYIMaF"
   },
   "source": [
    "**Data transformation:**"
   ]
  },
  {
   "cell_type": "code",
   "execution_count": 14,
   "metadata": {
    "id": "Q62fehdkIMaF"
   },
   "outputs": [],
   "source": [
    "# Release date:\n",
    "df[\"year_of_release\"] = df[\"year_of_release\"].astype(\"Int64\")\n",
    "\n",
    "# Critic scores:\n",
    "df[\"critic_score\"] = df[\"critic_score\"].astype(\"int\")\n",
    "\n",
    "# User scores:\n",
    "df[\"user_score\"] = df[\"user_score\"].astype(\"float\")"
   ]
  },
  {
   "cell_type": "markdown",
   "metadata": {
    "id": "qBhUQE46IMaF"
   },
   "source": [
    "**Calculation of total sales**"
   ]
  },
  {
   "cell_type": "code",
   "execution_count": 15,
   "metadata": {
    "id": "pJYlME5TIMaG"
   },
   "outputs": [],
   "source": [
    "df[\"total_sales\"] = df[\"na_sales\"] + df[\"eu_sales\"] + df[\"jp_sales\"] + df[\"other_sales\"]\n",
    "\n",
    "# Reordering:\n",
    "df = df[[\n",
    "    \"name\", \"platform\", \"year_of_release\", \"genre\", \"na_sales\", \"eu_sales\",\n",
    "    \"jp_sales\", \"other_sales\", \"total_sales\", \"critic_score\", \"user_score\", \"rating\"\n",
    "]]"
   ]
  },
  {
   "cell_type": "markdown",
   "metadata": {
    "id": "Leqx_stdhxYC"
   },
   "source": [
    "### Conclusion <a class=\"anchor\" id=\"preparation-conclusion\"></a>\n",
    "\n",
    "1. The data was transformed to the required types.\n",
    "2. The following columns were changed and for the following reasons:\n",
    "    - All column names were transformed to lowercase as per the task instructions.\n",
    "    - Missing values in game names might have been due to human error, with only two such values present. These were removed from the dataframe.\n",
    "    - Missing values in game release dates were removed, with only 1.6% of the data containing missing values.\n",
    "    - Missing values in game genres might have been due to human error, with only two such values present. These were removed from the dataframe.\n",
    "    - Missing values in critic scores constituted 51% of the data and were replaced with a placeholder value.\n",
    "    - Missing values in user scores constituted 40% of the data and were replaced with a placeholder value.\n",
    "    - Missing values in ESRB ratings constituted 40% of the data and required no changes since the ratings are assigned by an organization.\n",
    "\n",
    "3. During the data transformation, the following changes were made:\n",
    "    - Release dates were converted to integer values representing the year.\n",
    "    - Critic scores were converted to integer values with a range of 0 to 100 and no decimal places, which was the original range of the data.\n",
    "    - User scores were converted to float values with a range of 0 to 10 and one decimal place, which was the original range of the data.\n",
    "4. In order to calculate the total sales, the data from the four regions was combined and added to a new column called `total_sales`."
   ]
  },
  {
   "cell_type": "markdown",
   "metadata": {
    "id": "YkiUawKUIMaI"
   },
   "source": [
    "## Exploratory data analysis <a class=\"anchor\" id=\"eda\"></a>\n",
    "\n",
    "***Task #1***\n",
    "\n",
    "> First, let's take a look at how many games were released in different years. Are the data for all periods important?"
   ]
  },
  {
   "cell_type": "code",
   "execution_count": 16,
   "metadata": {},
   "outputs": [
    {
     "data": {
      "image/png": "[encoded data removed]",
      "text/plain": [
       "<Figure size 864x432 with 1 Axes>"
      ]
     },
     "metadata": {},
     "output_type": "display_data"
    }
   ],
   "source": [
    "# Group by year and plot graph\n",
    "df_years = df.groupby(\"year_of_release\")[\"name\"].count().reset_index()\n",
    "df_years = df_years.rename(columns={\n",
    "    \"year_of_release\": \"years\",\n",
    "    \"name\": \"games\"\n",
    "})\n",
    "\n",
    "plt.figure(figsize=(12, 6))\n",
    "sns.barplot(data=df_years, x=\"years\", y=\"games\", palette=pal)\n",
    "\n",
    "plt.title(\"Number of Released Games by Year\")\n",
    "plt.xlabel(\"Release Year\")\n",
    "plt.ylabel(\"Number of Games\")\n",
    "\n",
    "plt.xticks(rotation=45)\n",
    "plt.tight_layout()\n",
    "\n",
    "plt.show()"
   ]
  },
  {
   "cell_type": "markdown",
   "metadata": {
    "id": "HdwVi2fpIMaS"
   },
   "source": [
    "Before 1994, the gaming industry was not as popular, which is supported by the fact that in 1994, Sony introduced its new development - the PlayStation console."
   ]
  },
  {
   "cell_type": "code",
   "execution_count": 17,
   "metadata": {
    "colab": {
     "base_uri": "https://localhost:8080/",
     "height": 206
    },
    "id": "FpnVTqQkIMaS",
    "outputId": "73bf46d0-a26e-4a25-9163-3005f6170492"
   },
   "outputs": [
    {
     "data": {
      "text/html": [
       "<div>\n",
       "<style scoped>\n",
       "    .dataframe tbody tr th:only-of-type {\n",
       "        vertical-align: middle;\n",
       "    }\n",
       "\n",
       "    .dataframe tbody tr th {\n",
       "        vertical-align: top;\n",
       "    }\n",
       "\n",
       "    .dataframe thead th {\n",
       "        text-align: right;\n",
       "    }\n",
       "</style>\n",
       "<table border=\"1\" class=\"dataframe\">\n",
       "  <thead>\n",
       "    <tr style=\"text-align: right;\">\n",
       "      <th></th>\n",
       "      <th>years</th>\n",
       "      <th>games</th>\n",
       "    </tr>\n",
       "  </thead>\n",
       "  <tbody>\n",
       "    <tr>\n",
       "      <th>28</th>\n",
       "      <td>2008</td>\n",
       "      <td>1427</td>\n",
       "    </tr>\n",
       "    <tr>\n",
       "      <th>29</th>\n",
       "      <td>2009</td>\n",
       "      <td>1426</td>\n",
       "    </tr>\n",
       "    <tr>\n",
       "      <th>30</th>\n",
       "      <td>2010</td>\n",
       "      <td>1255</td>\n",
       "    </tr>\n",
       "    <tr>\n",
       "      <th>27</th>\n",
       "      <td>2007</td>\n",
       "      <td>1197</td>\n",
       "    </tr>\n",
       "    <tr>\n",
       "      <th>31</th>\n",
       "      <td>2011</td>\n",
       "      <td>1136</td>\n",
       "    </tr>\n",
       "  </tbody>\n",
       "</table>\n",
       "</div>"
      ],
      "text/plain": [
       "    years  games\n",
       "28   2008   1427\n",
       "29   2009   1426\n",
       "30   2010   1255\n",
       "27   2007   1197\n",
       "31   2011   1136"
      ]
     },
     "execution_count": 17,
     "metadata": {},
     "output_type": "execute_result"
    }
   ],
   "source": [
    "df_years.sort_values(by=\"games\", ascending=False).head()"
   ]
  },
  {
   "cell_type": "markdown",
   "metadata": {
    "id": "OQfu7VGfIMaV"
   },
   "source": [
    "***Task #2***\n",
    "\n",
    "> Look at how sales have changed across platforms. Choose platforms with the highest total sales and plot the distribution by year. Over what characteristic period do new platforms appear and old ones disappear? Take data from the corresponding current period. Determine the current period independently as a result of the study of previous questions. The main factor is that this data will help make a forecast for 2017. Do not consider data from previous years. Which platforms are leading in sales, growing or declining? Choose several potentially profitable platforms.\n",
    "\n",
    "**Popular platforms and their EOL**"
   ]
  },
  {
   "cell_type": "code",
   "execution_count": 18,
   "metadata": {
    "colab": {
     "base_uri": "https://localhost:8080/",
     "height": 394
    },
    "id": "Lxqgvo3iIMaW",
    "outputId": "fe485320-3439-4ae2-c775-22c28d3dcb81"
   },
   "outputs": [
    {
     "data": {
      "text/html": [
       "<div>\n",
       "<style scoped>\n",
       "    .dataframe tbody tr th:only-of-type {\n",
       "        vertical-align: middle;\n",
       "    }\n",
       "\n",
       "    .dataframe tbody tr th {\n",
       "        vertical-align: top;\n",
       "    }\n",
       "\n",
       "    .dataframe thead th {\n",
       "        text-align: right;\n",
       "    }\n",
       "</style>\n",
       "<table border=\"1\" class=\"dataframe\">\n",
       "  <thead>\n",
       "    <tr style=\"text-align: right;\">\n",
       "      <th></th>\n",
       "      <th>total_sales</th>\n",
       "    </tr>\n",
       "    <tr>\n",
       "      <th>platform</th>\n",
       "      <th></th>\n",
       "    </tr>\n",
       "  </thead>\n",
       "  <tbody>\n",
       "    <tr>\n",
       "      <th>PS2</th>\n",
       "      <td>1233.56</td>\n",
       "    </tr>\n",
       "    <tr>\n",
       "      <th>X360</th>\n",
       "      <td>961.24</td>\n",
       "    </tr>\n",
       "    <tr>\n",
       "      <th>PS3</th>\n",
       "      <td>931.34</td>\n",
       "    </tr>\n",
       "    <tr>\n",
       "      <th>Wii</th>\n",
       "      <td>891.18</td>\n",
       "    </tr>\n",
       "    <tr>\n",
       "      <th>DS</th>\n",
       "      <td>802.78</td>\n",
       "    </tr>\n",
       "    <tr>\n",
       "      <th>PS</th>\n",
       "      <td>727.58</td>\n",
       "    </tr>\n",
       "    <tr>\n",
       "      <th>PS4</th>\n",
       "      <td>314.14</td>\n",
       "    </tr>\n",
       "    <tr>\n",
       "      <th>GBA</th>\n",
       "      <td>312.88</td>\n",
       "    </tr>\n",
       "    <tr>\n",
       "      <th>PSP</th>\n",
       "      <td>289.53</td>\n",
       "    </tr>\n",
       "    <tr>\n",
       "      <th>3DS</th>\n",
       "      <td>257.81</td>\n",
       "    </tr>\n",
       "  </tbody>\n",
       "</table>\n",
       "</div>"
      ],
      "text/plain": [
       "          total_sales\n",
       "platform             \n",
       "PS2           1233.56\n",
       "X360           961.24\n",
       "PS3            931.34\n",
       "Wii            891.18\n",
       "DS             802.78\n",
       "PS             727.58\n",
       "PS4            314.14\n",
       "GBA            312.88\n",
       "PSP            289.53\n",
       "3DS            257.81"
      ]
     },
     "execution_count": 18,
     "metadata": {},
     "output_type": "execute_result"
    }
   ],
   "source": [
    "# Top 10 most popular platforms pivot:\n",
    "df_platforms = df.pivot_table(\n",
    "    index=\"platform\",\n",
    "    values=\"total_sales\",\n",
    "    aggfunc=sum\n",
    ").sort_values(\"total_sales\", ascending=False).head(10)\n",
    "df_platforms"
   ]
  },
  {
   "cell_type": "code",
   "execution_count": 19,
   "metadata": {
    "colab": {
     "base_uri": "https://localhost:8080/"
    },
    "id": "0UrUwaTAIMaW",
    "outputId": "693a6bf0-9653-4691-a18c-c976e8e440c2"
   },
   "outputs": [
    {
     "data": {
      "text/plain": [
       "['PS2', 'X360', 'PS3', 'Wii', 'DS', 'PS', 'PS4', 'GBA', 'PSP', '3DS']"
      ]
     },
     "execution_count": 19,
     "metadata": {},
     "output_type": "execute_result"
    }
   ],
   "source": [
    "top_platforms_list = df_platforms.index[:10].tolist()\n",
    "top_platforms_list"
   ]
  },
  {
   "cell_type": "code",
   "execution_count": 20,
   "metadata": {
    "colab": {
     "base_uri": "https://localhost:8080/",
     "height": 381
    },
    "id": "8HOTYLaWIMaY",
    "outputId": "c938067f-6d88-40ad-9167-af2e5f780ec7"
   },
   "outputs": [],
   "source": [
    "# Sales of the top 10 platforms for the period 1994-2005 pivot:\n",
    "top_platforms_2005 = df.query(\n",
    "    \"platform in @top_platforms_list & year_of_release > 1993 and year_of_release < 2006\"\n",
    ").pivot_table(\n",
    "    index=\"year_of_release\", columns=\"platform\", values=\"total_sales\", aggfunc=\"sum\"\n",
    ")"
   ]
  },
  {
   "cell_type": "code",
   "execution_count": 21,
   "metadata": {
    "id": "_c2vkRmpIMaZ"
   },
   "outputs": [],
   "source": [
    "# Sales of the top 10 platforms for the period 2006-2016 pivot:\n",
    "top_platforms_2016 = df.query(\n",
    "    \"platform in @top_platforms_list & year_of_release > 2005\"\n",
    ").pivot_table(\n",
    "    index=\"year_of_release\", columns=\"platform\", values=\"total_sales\", aggfunc=\"sum\"\n",
    ")"
   ]
  },
  {
   "cell_type": "code",
   "execution_count": 22,
   "metadata": {},
   "outputs": [
    {
     "data": {
      "image/png": "[encoded data removed]",
      "text/plain": [
       "<Figure size 1008x360 with 1 Axes>"
      ]
     },
     "metadata": {},
     "output_type": "display_data"
    },
    {
     "data": {
      "image/png": "[encoded data removed]",
      "text/plain": [
       "<Figure size 1008x360 with 1 Axes>"
      ]
     },
     "metadata": {},
     "output_type": "display_data"
    }
   ],
   "source": [
    "# Plotting the graphs:\n",
    "sns.lineplot(data=top_platforms_2005, markers=True)\n",
    "plt.xlabel(\"Years\")\n",
    "plt.ylabel(\"Sales\")\n",
    "plt.grid(True)\n",
    "plt.tight_layout()\n",
    "plt.show()\n",
    "\n",
    "sns.lineplot(data=top_platforms_2016, markers=True)\n",
    "plt.xlabel(\"Years\")\n",
    "plt.ylabel(\"Sales\")\n",
    "plt.grid(True)\n",
    "plt.tight_layout()\n",
    "plt.show()"
   ]
  },
  {
   "cell_type": "markdown",
   "metadata": {
    "id": "op5QYXPwIMab"
   },
   "source": [
    "It seems that from 1995-2006 Sony felt on top of the gaming industry until Microsoft with the X360 took over in 2006. The transition between generations PS-PS2-PS3-PS4 happened in a relatively uniform and wave-like manner, about once every 9 years. Let's look at the numbers:"
   ]
  },
  {
   "cell_type": "code",
   "execution_count": 23,
   "metadata": {
    "id": "QxeKEeC9IMab"
   },
   "outputs": [
    {
     "data": {
      "text/html": [
       "<div>\n",
       "<style scoped>\n",
       "    .dataframe tbody tr th:only-of-type {\n",
       "        vertical-align: middle;\n",
       "    }\n",
       "\n",
       "    .dataframe tbody tr th {\n",
       "        vertical-align: top;\n",
       "    }\n",
       "\n",
       "    .dataframe thead th {\n",
       "        text-align: right;\n",
       "    }\n",
       "</style>\n",
       "<table border=\"1\" class=\"dataframe\">\n",
       "  <thead>\n",
       "    <tr style=\"text-align: right;\">\n",
       "      <th></th>\n",
       "      <th>start</th>\n",
       "      <th>end</th>\n",
       "      <th>eol</th>\n",
       "    </tr>\n",
       "    <tr>\n",
       "      <th>platform</th>\n",
       "      <th></th>\n",
       "      <th></th>\n",
       "      <th></th>\n",
       "    </tr>\n",
       "  </thead>\n",
       "  <tbody>\n",
       "    <tr>\n",
       "      <th>PC</th>\n",
       "      <td>1985</td>\n",
       "      <td>2016</td>\n",
       "      <td>31</td>\n",
       "    </tr>\n",
       "    <tr>\n",
       "      <th>DS</th>\n",
       "      <td>1985</td>\n",
       "      <td>2013</td>\n",
       "      <td>28</td>\n",
       "    </tr>\n",
       "    <tr>\n",
       "      <th>GB</th>\n",
       "      <td>1988</td>\n",
       "      <td>2001</td>\n",
       "      <td>13</td>\n",
       "    </tr>\n",
       "    <tr>\n",
       "      <th>X360</th>\n",
       "      <td>2005</td>\n",
       "      <td>2016</td>\n",
       "      <td>11</td>\n",
       "    </tr>\n",
       "    <tr>\n",
       "      <th>PSP</th>\n",
       "      <td>2004</td>\n",
       "      <td>2015</td>\n",
       "      <td>11</td>\n",
       "    </tr>\n",
       "    <tr>\n",
       "      <th>PS2</th>\n",
       "      <td>2000</td>\n",
       "      <td>2011</td>\n",
       "      <td>11</td>\n",
       "    </tr>\n",
       "    <tr>\n",
       "      <th>NES</th>\n",
       "      <td>1983</td>\n",
       "      <td>1994</td>\n",
       "      <td>11</td>\n",
       "    </tr>\n",
       "    <tr>\n",
       "      <th>DC</th>\n",
       "      <td>1998</td>\n",
       "      <td>2008</td>\n",
       "      <td>10</td>\n",
       "    </tr>\n",
       "    <tr>\n",
       "      <th>Wii</th>\n",
       "      <td>2006</td>\n",
       "      <td>2016</td>\n",
       "      <td>10</td>\n",
       "    </tr>\n",
       "    <tr>\n",
       "      <th>PS3</th>\n",
       "      <td>2006</td>\n",
       "      <td>2016</td>\n",
       "      <td>10</td>\n",
       "    </tr>\n",
       "  </tbody>\n",
       "</table>\n",
       "</div>"
      ],
      "text/plain": [
       "          start   end  eol\n",
       "platform                  \n",
       "PC         1985  2016   31\n",
       "DS         1985  2013   28\n",
       "GB         1988  2001   13\n",
       "X360       2005  2016   11\n",
       "PSP        2004  2015   11\n",
       "PS2        2000  2011   11\n",
       "NES        1983  1994   11\n",
       "DC         1998  2008   10\n",
       "Wii        2006  2016   10\n",
       "PS3        2006  2016   10"
      ]
     },
     "execution_count": 23,
     "metadata": {},
     "output_type": "execute_result"
    }
   ],
   "source": [
    "# EOL cycle pivot:\n",
    "platforms_eol = df.pivot_table(\n",
    "    index=\"platform\",\n",
    "    values=\"year_of_release\",\n",
    "    aggfunc=[\"min\",\"max\"]\n",
    ")\n",
    "platforms_eol.columns = [\"start\", \"end\"]\n",
    "platforms_eol[\"eol\"] = platforms_eol[\"end\"] - platforms_eol[\"start\"]\n",
    "\n",
    "# EOL:\n",
    "platforms_eol.sort_values(\"eol\", ascending=False).head(10)"
   ]
  },
  {
   "cell_type": "code",
   "execution_count": 24,
   "metadata": {
    "id": "zT2_LlQIIMac"
   },
   "outputs": [
    {
     "data": {
      "text/plain": [
       "7.6"
      ]
     },
     "execution_count": 24,
     "metadata": {},
     "output_type": "execute_result"
    }
   ],
   "source": [
    "# Average EOL for each platform:\n",
    "platforms_eol[\"eol\"].mean().round(1)"
   ]
  },
  {
   "cell_type": "markdown",
   "metadata": {
    "id": "wA8tbortIMac"
   },
   "source": [
    "It's a conditional conclusion that the average lifespan of a platform is 7-8 years. There is no absolute connection between the release of a game and the EOL of a platform. Obviously, the support for that platform ends, and therefore its popularity/sales tend to zero.\n",
    "\n",
    "**Forecast for 2017**\n",
    "\n",
    "Let's agree that the relevant period starts in 2012 since new generations of platforms were developed and introduced to the market during 2011-2013. Table for sales since 2012."
   ]
  },
  {
   "cell_type": "code",
   "execution_count": 25,
   "metadata": {
    "id": "QVpiO5yWIMad"
   },
   "outputs": [
    {
     "data": {
      "text/html": [
       "<div>\n",
       "<style scoped>\n",
       "    .dataframe tbody tr th:only-of-type {\n",
       "        vertical-align: middle;\n",
       "    }\n",
       "\n",
       "    .dataframe tbody tr th {\n",
       "        vertical-align: top;\n",
       "    }\n",
       "\n",
       "    .dataframe thead th {\n",
       "        text-align: right;\n",
       "    }\n",
       "</style>\n",
       "<table border=\"1\" class=\"dataframe\">\n",
       "  <thead>\n",
       "    <tr style=\"text-align: right;\">\n",
       "      <th></th>\n",
       "      <th>total_sales</th>\n",
       "    </tr>\n",
       "    <tr>\n",
       "      <th>platform</th>\n",
       "      <th></th>\n",
       "    </tr>\n",
       "  </thead>\n",
       "  <tbody>\n",
       "    <tr>\n",
       "      <th>PS4</th>\n",
       "      <td>314.14</td>\n",
       "    </tr>\n",
       "    <tr>\n",
       "      <th>PS3</th>\n",
       "      <td>288.79</td>\n",
       "    </tr>\n",
       "    <tr>\n",
       "      <th>X360</th>\n",
       "      <td>236.54</td>\n",
       "    </tr>\n",
       "    <tr>\n",
       "      <th>3DS</th>\n",
       "      <td>194.61</td>\n",
       "    </tr>\n",
       "    <tr>\n",
       "      <th>XOne</th>\n",
       "      <td>159.32</td>\n",
       "    </tr>\n",
       "    <tr>\n",
       "      <th>WiiU</th>\n",
       "      <td>82.19</td>\n",
       "    </tr>\n",
       "    <tr>\n",
       "      <th>PC</th>\n",
       "      <td>62.65</td>\n",
       "    </tr>\n",
       "    <tr>\n",
       "      <th>PSV</th>\n",
       "      <td>49.18</td>\n",
       "    </tr>\n",
       "    <tr>\n",
       "      <th>Wii</th>\n",
       "      <td>35.37</td>\n",
       "    </tr>\n",
       "    <tr>\n",
       "      <th>DS</th>\n",
       "      <td>12.55</td>\n",
       "    </tr>\n",
       "    <tr>\n",
       "      <th>PSP</th>\n",
       "      <td>11.19</td>\n",
       "    </tr>\n",
       "  </tbody>\n",
       "</table>\n",
       "</div>"
      ],
      "text/plain": [
       "          total_sales\n",
       "platform             \n",
       "PS4            314.14\n",
       "PS3            288.79\n",
       "X360           236.54\n",
       "3DS            194.61\n",
       "XOne           159.32\n",
       "WiiU            82.19\n",
       "PC              62.65\n",
       "PSV             49.18\n",
       "Wii             35.37\n",
       "DS              12.55\n",
       "PSP             11.19"
      ]
     },
     "execution_count": 25,
     "metadata": {},
     "output_type": "execute_result"
    }
   ],
   "source": [
    "df_actual = df.query(\"year_of_release >= 2012\")\n",
    "\n",
    "# Data during the relevant period pivot:\n",
    "df_actual.pivot_table(\n",
    "    index=\"platform\",\n",
    "    values=\"total_sales\",\n",
    "    aggfunc=\"sum\"\n",
    ").sort_values(\"total_sales\", ascending=False)"
   ]
  },
  {
   "cell_type": "code",
   "execution_count": 26,
   "metadata": {
    "id": "vyZ4Wu5mIMae"
   },
   "outputs": [
    {
     "data": {
      "image/png": "[encoded data removed]",
      "text/plain": [
       "<Figure size 1008x360 with 1 Axes>"
      ]
     },
     "metadata": {},
     "output_type": "display_data"
    }
   ],
   "source": [
    "# Pivot for platforms, sales, and years:\n",
    "df_actual_summary = df_actual.pivot_table(\n",
    "    index=\"year_of_release\",\n",
    "    columns=\"platform\",\n",
    "    values=\"total_sales\",\n",
    "    aggfunc=\"sum\"\n",
    ")\n",
    "\n",
    "# Plotting the graph:\n",
    "df_actual_summary.plot(grid=True, kind=\"bar\").set(xlabel=\"Years\", ylabel=\"Sales\")\n",
    "plt.tight_layout()"
   ]
  },
  {
   "cell_type": "markdown",
   "metadata": {
    "id": "gE-Y2NcwIMae"
   },
   "source": [
    "The following platforms lose popularity during the period 2012-2016: PS3, X360, 3DS. The following platforms are practically lost to the market: DS, Wii, PC, and PSP. Based on this information, it can be assumed that in 2017, PS4 and XOne will still be popular. These platforms are also the most potential in 2017."
   ]
  },
  {
   "cell_type": "markdown",
   "metadata": {
    "id": "KwS9CXzDIMae"
   },
   "source": [
    "***Task #3***\n",
    "\n",
    "> Plot a boxplot for global game sales broken down by platform. Describe the result."
   ]
  },
  {
   "cell_type": "code",
   "execution_count": 27,
   "metadata": {
    "id": "P2lc4mApIMaf"
   },
   "outputs": [],
   "source": [
    "# Leading platforms:\n",
    "df_games_top = df_actual.pivot_table(\n",
    "    index=\"name\",\n",
    "    columns=\"platform\",\n",
    "    values=\"total_sales\",\n",
    "    aggfunc=\"sum\"\n",
    ")"
   ]
  },
  {
   "cell_type": "code",
   "execution_count": 28,
   "metadata": {
    "id": "wyniIf5-IMaf"
   },
   "outputs": [
    {
     "data": {
      "image/png": "[encoded data removed]",
      "text/plain": [
       "<Figure size 720x1440 with 1 Axes>"
      ]
     },
     "metadata": {},
     "output_type": "display_data"
    }
   ],
   "source": [
    "cols_1 = [0, 1, 2, 3, 4, 5]\n",
    "cols_2 = [6, 7, 8, 9, 10]\n",
    "df_games_top_1 = df_games_top.drop(df_games_top.columns[cols_2], axis=1)\n",
    "df_games_top_2 = df_games_top.drop(df_games_top.columns[cols_1], axis=1)\n",
    "\n",
    "# Settings for boxplot:\n",
    "sns.set(\n",
    "    rc = {\"figure.figsize\":(10, 20)},\n",
    "    color_codes=True\n",
    ")\n",
    "pal = sns.color_palette(\"tab10\", 50)\n",
    "\n",
    "sns.boxplot(data=df_games_top_1).set(xlabel=\"Platforms\", ylabel=\"Sales\")\n",
    "plt.tight_layout()"
   ]
  },
  {
   "cell_type": "code",
   "execution_count": 29,
   "metadata": {
    "id": "yvZMfUT2IMaf"
   },
   "outputs": [
    {
     "data": {
      "image/png": "[encoded data removed]",
      "text/plain": [
       "<Figure size 720x1440 with 1 Axes>"
      ]
     },
     "metadata": {},
     "output_type": "display_data"
    }
   ],
   "source": [
    "sns.boxplot(data=df_games_top_2).set(xlabel=\"Platforms\", ylabel=\"Sales\")\n",
    "plt.ylim([0, 15])\n",
    "plt.tight_layout()"
   ]
  },
  {
   "cell_type": "code",
   "execution_count": 30,
   "metadata": {
    "id": "PyVFReqVIMag"
   },
   "outputs": [
    {
     "data": {
      "text/html": [
       "<div>\n",
       "<style scoped>\n",
       "    .dataframe tbody tr th:only-of-type {\n",
       "        vertical-align: middle;\n",
       "    }\n",
       "\n",
       "    .dataframe tbody tr th {\n",
       "        vertical-align: top;\n",
       "    }\n",
       "\n",
       "    .dataframe thead th {\n",
       "        text-align: right;\n",
       "    }\n",
       "</style>\n",
       "<table border=\"1\" class=\"dataframe\">\n",
       "  <thead>\n",
       "    <tr style=\"text-align: right;\">\n",
       "      <th></th>\n",
       "      <th>name</th>\n",
       "      <th>platform</th>\n",
       "      <th>year_of_release</th>\n",
       "      <th>genre</th>\n",
       "      <th>na_sales</th>\n",
       "      <th>eu_sales</th>\n",
       "      <th>jp_sales</th>\n",
       "      <th>other_sales</th>\n",
       "      <th>total_sales</th>\n",
       "      <th>critic_score</th>\n",
       "      <th>user_score</th>\n",
       "      <th>rating</th>\n",
       "    </tr>\n",
       "  </thead>\n",
       "  <tbody>\n",
       "    <tr>\n",
       "      <th>16</th>\n",
       "      <td>Grand Theft Auto V</td>\n",
       "      <td>PS3</td>\n",
       "      <td>2013</td>\n",
       "      <td>Action</td>\n",
       "      <td>7.02</td>\n",
       "      <td>9.09</td>\n",
       "      <td>0.98</td>\n",
       "      <td>3.96</td>\n",
       "      <td>21.05</td>\n",
       "      <td>97</td>\n",
       "      <td>8.2</td>\n",
       "      <td>M</td>\n",
       "    </tr>\n",
       "    <tr>\n",
       "      <th>23</th>\n",
       "      <td>Grand Theft Auto V</td>\n",
       "      <td>X360</td>\n",
       "      <td>2013</td>\n",
       "      <td>Action</td>\n",
       "      <td>9.66</td>\n",
       "      <td>5.14</td>\n",
       "      <td>0.06</td>\n",
       "      <td>1.41</td>\n",
       "      <td>16.27</td>\n",
       "      <td>97</td>\n",
       "      <td>8.1</td>\n",
       "      <td>M</td>\n",
       "    </tr>\n",
       "    <tr>\n",
       "      <th>31</th>\n",
       "      <td>Call of Duty: Black Ops 3</td>\n",
       "      <td>PS4</td>\n",
       "      <td>2015</td>\n",
       "      <td>Shooter</td>\n",
       "      <td>6.03</td>\n",
       "      <td>5.86</td>\n",
       "      <td>0.36</td>\n",
       "      <td>2.38</td>\n",
       "      <td>14.63</td>\n",
       "      <td>-100</td>\n",
       "      <td>-10.0</td>\n",
       "      <td>No rating</td>\n",
       "    </tr>\n",
       "    <tr>\n",
       "      <th>33</th>\n",
       "      <td>Pokemon X/Pokemon Y</td>\n",
       "      <td>3DS</td>\n",
       "      <td>2013</td>\n",
       "      <td>Role-Playing</td>\n",
       "      <td>5.28</td>\n",
       "      <td>4.19</td>\n",
       "      <td>4.35</td>\n",
       "      <td>0.78</td>\n",
       "      <td>14.60</td>\n",
       "      <td>-100</td>\n",
       "      <td>-10.0</td>\n",
       "      <td>No rating</td>\n",
       "    </tr>\n",
       "    <tr>\n",
       "      <th>34</th>\n",
       "      <td>Call of Duty: Black Ops II</td>\n",
       "      <td>PS3</td>\n",
       "      <td>2012</td>\n",
       "      <td>Shooter</td>\n",
       "      <td>4.99</td>\n",
       "      <td>5.73</td>\n",
       "      <td>0.65</td>\n",
       "      <td>2.42</td>\n",
       "      <td>13.79</td>\n",
       "      <td>83</td>\n",
       "      <td>5.3</td>\n",
       "      <td>M</td>\n",
       "    </tr>\n",
       "  </tbody>\n",
       "</table>\n",
       "</div>"
      ],
      "text/plain": [
       "                          name platform  year_of_release         genre  \\\n",
       "16          Grand Theft Auto V      PS3             2013        Action   \n",
       "23          Grand Theft Auto V     X360             2013        Action   \n",
       "31   Call of Duty: Black Ops 3      PS4             2015       Shooter   \n",
       "33         Pokemon X/Pokemon Y      3DS             2013  Role-Playing   \n",
       "34  Call of Duty: Black Ops II      PS3             2012       Shooter   \n",
       "\n",
       "    na_sales  eu_sales  jp_sales  other_sales  total_sales  critic_score  \\\n",
       "16      7.02      9.09      0.98         3.96        21.05            97   \n",
       "23      9.66      5.14      0.06         1.41        16.27            97   \n",
       "31      6.03      5.86      0.36         2.38        14.63          -100   \n",
       "33      5.28      4.19      4.35         0.78        14.60          -100   \n",
       "34      4.99      5.73      0.65         2.42        13.79            83   \n",
       "\n",
       "    user_score     rating  \n",
       "16         8.2          M  \n",
       "23         8.1          M  \n",
       "31       -10.0  No rating  \n",
       "33       -10.0  No rating  \n",
       "34         5.3          M  "
      ]
     },
     "execution_count": 30,
     "metadata": {},
     "output_type": "execute_result"
    }
   ],
   "source": [
    "df_actual.head()"
   ]
  },
  {
   "cell_type": "code",
   "execution_count": 31,
   "metadata": {
    "id": "Z5wby9p3IMag"
   },
   "outputs": [
    {
     "data": {
      "image/png": "[encoded data removed]",
      "text/plain": [
       "<Figure size 1440x720 with 1 Axes>"
      ]
     },
     "metadata": {},
     "output_type": "display_data"
    }
   ],
   "source": [
    "plt.figure(figsize=(20, 10))\n",
    "\n",
    "sns.boxplot(x=\"platform\", y=\"total_sales\", data=df_actual)\n",
    "\n",
    "plt.title(\"Global game sales boxplots, with outliers\")\n",
    "plt.xlabel(\"Sales, million units\")\n",
    "plt.ylabel(\"Platforms\")\n",
    "\n",
    "plt.show()"
   ]
  },
  {
   "cell_type": "code",
   "execution_count": 32,
   "metadata": {
    "id": "9Y9Mc-47IMah"
   },
   "outputs": [
    {
     "data": {
      "image/png": "[encoded data removed]",
      "text/plain": [
       "<Figure size 1440x720 with 1 Axes>"
      ]
     },
     "metadata": {},
     "output_type": "display_data"
    }
   ],
   "source": [
    "plt.figure(figsize=(20, 10))\n",
    "\n",
    "sns.boxplot(x=\"platform\",y=\"total_sales\",data=df_actual)\n",
    "\n",
    "plt.ylim(0, .9)\n",
    "\n",
    "plt.title(\"Global game sales boxplots\")\n",
    "plt.xlabel(\"Sales, million units\")\n",
    "plt.ylabel(\"Platforms\")\n",
    "\n",
    "plt.show()"
   ]
  },
  {
   "cell_type": "markdown",
   "metadata": {
    "id": "7XLeW3Qjzou9"
   },
   "source": [
    "The three leading and promising platforms are:\n",
    "\n",
    "1. PS4 in 2013 replacing PS3\n",
    "2. XOne in 2013 replacing X360\n",
    "3. 3DS in 2011 replacing DS\n",
    "\n",
    "Then came the next generation updates:\n",
    "\n",
    "4. WiiU (2012) replacing Wii (2006)\n",
    "5. PSV (2011) replacing PSP (2004)\n",
    "\n",
    "Other platforms may exceed in absolute sales volume, but they are either obsolete generations or approaching obsolescence (for example X360, or Wii). The most durable and long-lived platform is expectedly PC. But despite the sales volumes of X360, Wii and PS3, it will be the three leading platforms that will consolidate the leadership in the gaming industry in 2017. A summary table will help assess the average sales."
   ]
  },
  {
   "cell_type": "code",
   "execution_count": 33,
   "metadata": {
    "id": "67pfMBzTIMah"
   },
   "outputs": [
    {
     "data": {
      "text/html": [
       "<div>\n",
       "<style scoped>\n",
       "    .dataframe tbody tr th:only-of-type {\n",
       "        vertical-align: middle;\n",
       "    }\n",
       "\n",
       "    .dataframe tbody tr th {\n",
       "        vertical-align: top;\n",
       "    }\n",
       "\n",
       "    .dataframe thead th {\n",
       "        text-align: right;\n",
       "    }\n",
       "</style>\n",
       "<table border=\"1\" class=\"dataframe\">\n",
       "  <thead>\n",
       "    <tr style=\"text-align: right;\">\n",
       "      <th></th>\n",
       "      <th>total_sales</th>\n",
       "    </tr>\n",
       "    <tr>\n",
       "      <th>platform</th>\n",
       "      <th></th>\n",
       "    </tr>\n",
       "  </thead>\n",
       "  <tbody>\n",
       "    <tr>\n",
       "      <th>X360</th>\n",
       "      <td>0.810068</td>\n",
       "    </tr>\n",
       "    <tr>\n",
       "      <th>PS4</th>\n",
       "      <td>0.801378</td>\n",
       "    </tr>\n",
       "    <tr>\n",
       "      <th>Wii</th>\n",
       "      <td>0.655000</td>\n",
       "    </tr>\n",
       "    <tr>\n",
       "      <th>XOne</th>\n",
       "      <td>0.645020</td>\n",
       "    </tr>\n",
       "    <tr>\n",
       "      <th>PS3</th>\n",
       "      <td>0.585781</td>\n",
       "    </tr>\n",
       "    <tr>\n",
       "      <th>WiiU</th>\n",
       "      <td>0.559116</td>\n",
       "    </tr>\n",
       "    <tr>\n",
       "      <th>3DS</th>\n",
       "      <td>0.491439</td>\n",
       "    </tr>\n",
       "    <tr>\n",
       "      <th>DS</th>\n",
       "      <td>0.404839</td>\n",
       "    </tr>\n",
       "    <tr>\n",
       "      <th>PC</th>\n",
       "      <td>0.250600</td>\n",
       "    </tr>\n",
       "    <tr>\n",
       "      <th>PSV</th>\n",
       "      <td>0.119659</td>\n",
       "    </tr>\n",
       "  </tbody>\n",
       "</table>\n",
       "</div>"
      ],
      "text/plain": [
       "          total_sales\n",
       "platform             \n",
       "X360         0.810068\n",
       "PS4          0.801378\n",
       "Wii          0.655000\n",
       "XOne         0.645020\n",
       "PS3          0.585781\n",
       "WiiU         0.559116\n",
       "3DS          0.491439\n",
       "DS           0.404839\n",
       "PC           0.250600\n",
       "PSV          0.119659"
      ]
     },
     "execution_count": 33,
     "metadata": {},
     "output_type": "execute_result"
    }
   ],
   "source": [
    "df_actual.pivot_table(\n",
    "    index=\"platform\",\n",
    "    values=\"total_sales\",\n",
    "    aggfunc=\"mean\"\n",
    ").sort_values(by = \"total_sales\", ascending = False).head(10)"
   ]
  },
  {
   "cell_type": "markdown",
   "metadata": {
    "id": "Z5qHhVbkIMan"
   },
   "source": [
    "***Task #4***\n",
    "\n",
    ">Take a look at how user and critic reviews affect sales on a single popular platform. Create a scatter plot and calculate the correlation between reviews and sales. Formulate your conclusions.\n",
    "\n",
    "For the popular platform, we will take PS4 (X360 is an outdated generation compared to XOne). Here are the pivot tables:"
   ]
  },
  {
   "cell_type": "code",
   "execution_count": 34,
   "metadata": {
    "id": "uvcDnnzAIMan"
   },
   "outputs": [
    {
     "data": {
      "text/html": [
       "<div>\n",
       "<style scoped>\n",
       "    .dataframe tbody tr th:only-of-type {\n",
       "        vertical-align: middle;\n",
       "    }\n",
       "\n",
       "    .dataframe tbody tr th {\n",
       "        vertical-align: top;\n",
       "    }\n",
       "\n",
       "    .dataframe thead th {\n",
       "        text-align: right;\n",
       "    }\n",
       "</style>\n",
       "<table border=\"1\" class=\"dataframe\">\n",
       "  <thead>\n",
       "    <tr style=\"text-align: right;\">\n",
       "      <th></th>\n",
       "      <th>total_sales</th>\n",
       "    </tr>\n",
       "    <tr>\n",
       "      <th>critic_score</th>\n",
       "      <th></th>\n",
       "    </tr>\n",
       "  </thead>\n",
       "  <tbody>\n",
       "    <tr>\n",
       "      <th>83</th>\n",
       "      <td>23.82</td>\n",
       "    </tr>\n",
       "    <tr>\n",
       "      <th>87</th>\n",
       "      <td>18.99</td>\n",
       "    </tr>\n",
       "    <tr>\n",
       "      <th>85</th>\n",
       "      <td>18.30</td>\n",
       "    </tr>\n",
       "    <tr>\n",
       "      <th>82</th>\n",
       "      <td>18.10</td>\n",
       "    </tr>\n",
       "    <tr>\n",
       "      <th>80</th>\n",
       "      <td>15.90</td>\n",
       "    </tr>\n",
       "    <tr>\n",
       "      <th>76</th>\n",
       "      <td>13.42</td>\n",
       "    </tr>\n",
       "    <tr>\n",
       "      <th>73</th>\n",
       "      <td>13.07</td>\n",
       "    </tr>\n",
       "    <tr>\n",
       "      <th>97</th>\n",
       "      <td>12.62</td>\n",
       "    </tr>\n",
       "    <tr>\n",
       "      <th>79</th>\n",
       "      <td>9.39</td>\n",
       "    </tr>\n",
       "    <tr>\n",
       "      <th>93</th>\n",
       "      <td>8.81</td>\n",
       "    </tr>\n",
       "  </tbody>\n",
       "</table>\n",
       "</div>"
      ],
      "text/plain": [
       "              total_sales\n",
       "critic_score             \n",
       "83                  23.82\n",
       "87                  18.99\n",
       "85                  18.30\n",
       "82                  18.10\n",
       "80                  15.90\n",
       "76                  13.42\n",
       "73                  13.07\n",
       "97                  12.62\n",
       "79                   9.39\n",
       "93                   8.81"
      ]
     },
     "execution_count": 34,
     "metadata": {},
     "output_type": "execute_result"
    }
   ],
   "source": [
    "# Critic reviews pivot:\n",
    "df_ps4_critic_score = df_actual.query(\n",
    "    \"platform in 'PS4' & critic_score > 0\"\n",
    ").pivot_table(\n",
    "    index=\"critic_score\",\n",
    "    values=\"total_sales\",\n",
    "    aggfunc=\"sum\"\n",
    ").sort_values(by = \"total_sales\", ascending=False)\n",
    "\n",
    "df_ps4_critic_score.head(10)"
   ]
  },
  {
   "cell_type": "code",
   "execution_count": 35,
   "metadata": {
    "id": "fPkk0RhZIMao"
   },
   "outputs": [
    {
     "data": {
      "text/html": [
       "<div>\n",
       "<style scoped>\n",
       "    .dataframe tbody tr th:only-of-type {\n",
       "        vertical-align: middle;\n",
       "    }\n",
       "\n",
       "    .dataframe tbody tr th {\n",
       "        vertical-align: top;\n",
       "    }\n",
       "\n",
       "    .dataframe thead th {\n",
       "        text-align: right;\n",
       "    }\n",
       "</style>\n",
       "<table border=\"1\" class=\"dataframe\">\n",
       "  <thead>\n",
       "    <tr style=\"text-align: right;\">\n",
       "      <th></th>\n",
       "      <th>total_sales</th>\n",
       "    </tr>\n",
       "    <tr>\n",
       "      <th>user_score</th>\n",
       "      <th></th>\n",
       "    </tr>\n",
       "  </thead>\n",
       "  <tbody>\n",
       "    <tr>\n",
       "      <th>5.7</th>\n",
       "      <td>14.09</td>\n",
       "    </tr>\n",
       "    <tr>\n",
       "      <th>6.1</th>\n",
       "      <td>13.45</td>\n",
       "    </tr>\n",
       "    <tr>\n",
       "      <th>8.3</th>\n",
       "      <td>13.05</td>\n",
       "    </tr>\n",
       "    <tr>\n",
       "      <th>6.5</th>\n",
       "      <td>12.73</td>\n",
       "    </tr>\n",
       "    <tr>\n",
       "      <th>7.7</th>\n",
       "      <td>12.34</td>\n",
       "    </tr>\n",
       "    <tr>\n",
       "      <th>8.1</th>\n",
       "      <td>12.05</td>\n",
       "    </tr>\n",
       "    <tr>\n",
       "      <th>7.9</th>\n",
       "      <td>10.92</td>\n",
       "    </tr>\n",
       "    <tr>\n",
       "      <th>6.3</th>\n",
       "      <td>10.80</td>\n",
       "    </tr>\n",
       "    <tr>\n",
       "      <th>5.0</th>\n",
       "      <td>9.71</td>\n",
       "    </tr>\n",
       "    <tr>\n",
       "      <th>4.3</th>\n",
       "      <td>9.55</td>\n",
       "    </tr>\n",
       "  </tbody>\n",
       "</table>\n",
       "</div>"
      ],
      "text/plain": [
       "            total_sales\n",
       "user_score             \n",
       "5.7               14.09\n",
       "6.1               13.45\n",
       "8.3               13.05\n",
       "6.5               12.73\n",
       "7.7               12.34\n",
       "8.1               12.05\n",
       "7.9               10.92\n",
       "6.3               10.80\n",
       "5.0                9.71\n",
       "4.3                9.55"
      ]
     },
     "execution_count": 35,
     "metadata": {},
     "output_type": "execute_result"
    }
   ],
   "source": [
    "# User reviews pivot:\n",
    "df_ps4_user_score = df_actual.query(\n",
    "    \"platform in 'PS4' & user_score > 0\"\n",
    ").pivot_table(\n",
    "    index=\"user_score\",\n",
    "    values=\"total_sales\",\n",
    "    aggfunc=\"sum\"\n",
    ").sort_values(by = \"total_sales\", ascending=False)\n",
    "\n",
    "df_ps4_user_score.head(10)"
   ]
  },
  {
   "cell_type": "code",
   "execution_count": 36,
   "metadata": {
    "id": "-KNPVhjXIMao"
   },
   "outputs": [
    {
     "data": {
      "image/png": "[encoded data removed]",
      "text/plain": [
       "<Figure size 864x864 with 12 Axes>"
      ]
     },
     "metadata": {},
     "output_type": "display_data"
    }
   ],
   "source": [
    "# Scatter plot:\n",
    "df_ps4_score = df_actual.query(\n",
    "    \"platform in 'PS4' & critic_score > 0 & user_score > 0\"\n",
    ").pivot_table(\n",
    "    index=\"name\",\n",
    "    values=[\"total_sales\", \"critic_score\", \"user_score\"]\n",
    ")\n",
    "sns.pairplot(df_ps4_score, height=4, palette=\"tab10\")\n",
    "plt.tight_layout()"
   ]
  },
  {
   "cell_type": "code",
   "execution_count": 37,
   "metadata": {
    "id": "oZxkL1opJNM6"
   },
   "outputs": [
    {
     "name": "stdout",
     "output_type": "stream",
     "text": [
      "Correlation between critic_score reviews and PS4 sales: 0.41\n",
      "Correlation between user_score reviews and PS4 sales: -0.03\n",
      "Correlation between critic_score reviews and XOne sales: 0.42\n",
      "Correlation between user_score reviews and XOne sales: -0.07\n",
      "Correlation between critic_score reviews and 3DS sales: 0.32\n",
      "Correlation between user_score reviews and 3DS sales: 0.20\n"
     ]
    }
   ],
   "source": [
    "def review_corr(df, platform, review_type):\n",
    "    \"\"\"\n",
    "    This function takes DF, platform name and type of review\n",
    "    and return correlation between sales and review scores\n",
    "    \"\"\"\n",
    "    mask = (df[\"platform\"] == platform) & (df[review_type] > 0)\n",
    "    corr = df_actual[mask][\"total_sales\"].corr(df[review_type])\n",
    "    return corr\n",
    "\n",
    "platforms = [\"PS4\", \"XOne\", \"3DS\"]\n",
    "review_types = [\"critic_score\", \"user_score\"]\n",
    "\n",
    "# Iterating between combination of platform and review type and printing results:\n",
    "for platform in platforms:\n",
    "    for review_type in review_types:\n",
    "        corr = review_corr(df, platform, review_type)\n",
    "        print(f\"Correlation between {review_type} reviews and {platform} sales: {corr:.2f}\")"
   ]
  },
  {
   "cell_type": "markdown",
   "metadata": {
    "id": "rg89ZTcgIMap"
   },
   "source": [
    "**Conclusion**:\n",
    "\n",
    "There is a direct correlation between critic reviews and high sales within the PS4 platform, while user reviews play almost no role. Similar behavior can be observed for the XOne and 3DS platforms."
   ]
  },
  {
   "cell_type": "markdown",
   "metadata": {
    "id": "6VYHKopHIMaq"
   },
   "source": [
    "***Task #5***\n",
    "\n",
    "> Look at the overall distribution of games by genre. What can be said about the most profitable genres? Are there genres with high and low sales?\n"
   ]
  },
  {
   "cell_type": "code",
   "execution_count": 38,
   "metadata": {
    "id": "aObLeI1RIMas"
   },
   "outputs": [
    {
     "data": {
      "image/png": "[encoded data removed]",
      "text/plain": [
       "<Figure size 1008x360 with 1 Axes>"
      ]
     },
     "metadata": {},
     "output_type": "display_data"
    }
   ],
   "source": [
    "df_games_top_genre = df_actual.pivot_table(\n",
    "    index=\"genre\",\n",
    "    values=\"total_sales\",\n",
    "    aggfunc={\"genre\":\"count\", \"total_sales\":\"sum\"}\n",
    ")\n",
    "\n",
    "# Settings for plots:\n",
    "sns.set(\n",
    "    rc = {\"figure.figsize\":(14,5)},\n",
    "    color_codes=True   \n",
    ")\n",
    "pal = sns.color_palette(\"tab10\", 50)\n",
    "\n",
    "df_games_top_genre.plot(grid=True, kind=\"bar\").set(xlabel=\"Genre\", ylabel=\"Sales\")\n",
    "plt.tight_layout()"
   ]
  },
  {
   "cell_type": "code",
   "execution_count": 39,
   "metadata": {
    "id": "a5DQlHZTIMau"
   },
   "outputs": [
    {
     "data": {
      "image/png": "[encoded data removed]",
      "text/plain": [
       "<Figure size 1008x360 with 1 Axes>"
      ]
     },
     "metadata": {},
     "output_type": "display_data"
    }
   ],
   "source": [
    "df_games_top_genre_platform = df_actual.pivot_table(\n",
    "    index=\"platform\",\n",
    "    columns=\"genre\",\n",
    "    values=\"total_sales\",\n",
    "    aggfunc=\"mean\"\n",
    ")\n",
    "df_games_top_genre_platform.plot(grid=True, kind=\"bar\").set(xlabel=\"Genre\", ylabel=\"Sales\")\n",
    "plt.tight_layout()"
   ]
  },
  {
   "cell_type": "markdown",
   "metadata": {
    "id": "BcCorG12IMaw"
   },
   "source": [
    "### Conclusion <a class=\"anchor\" id=\"eda-conclusion\"></a>\n",
    "\n",
    "1. ***Task #1:*** \n",
    "    - During the study, the number of games released in different years was considered. It was determined that before the release of Sony's PlayStation console in 1994, the gaming industry was not as developed and popular. This innovation gave a big boost to the development of the game market.\n",
    "2. ***Task #2:***\n",
    "     - In the period of 1994-2006, Sony held a leading position in the gaming industry, but with the arrival of Microsoft's X360 console in 2006, sales began to be divided between them. The Wii platform (at that time possessing innovative technologies) showed strong sales;\n",
    "     - The change of generations occurs cyclically, and on average, the end-of-life of a platform is 7.5 years. Support for an old platform is discontinued, and as a result, sales noticeably decline;\n",
    "     - In the period of 2012-2016, PS3, X360, and DS lost popularity. New generations of these consoles, PS4, XOne, and 3DS, replaced the outdated technologies. In 2017, these three platforms have the highest potential;\n",
    "3. ***Task #3:***\n",
    "    - Based on global sales by platform, 5 leaders can be identified, all of which are updates of generations:\n",
    "        1. PS4\n",
    "        2. XOne\n",
    "        3. 3DS\n",
    "        4. WiiU\n",
    "        5. PSV\n",
    "    - The most persistent and long-lived platform is the PC, because the PC is always one platform and regardless of the generation of components, it occupies its niche in the game market.\n",
    "4. ***Task #4:***\n",
    "    - To determine the relationship between reviews and sales, the PS4 platform was chosen. In the process of the study, the correlation between user ratings and sales was not confirmed, but the ratings of critics have a direct correlation with high sales, with correlation coefficients of -0.03 for user ratings and 0.4 for critic ratings. Additionally, coefficients were found for the XOne and 3DS platforms, and the results were similar to those for the PS4.\n",
    "5. ***Task #5:*** *What can be said about game genres?*\n",
    "    - Definitely, the most selling genres are Action, Sports, and Shooter. They also depend heavily on the platform, with the highest sales of these genres on the PS3, PS4, X360, XOne, and 3DS platforms.\n",
    "    - Adventure, Platform, Simulation, and Strategy sell the worst regardless of the platform.\n",
    "    - The separate genre Misc (short for miscellaneous) occupies a middle position across almost all platforms, but it is not possible to know exactly what genre it is.\n",
    "    - Against the backdrop of absolute unpopularity on most platforms, Role-Playing took a leading position on the 3DS platform."
   ]
  },
  {
   "cell_type": "markdown",
   "metadata": {
    "id": "qD0rLknHIMa1"
   },
   "source": [
    "## User portrait for each region <a class=\"anchor\" id=\"portrait\"></a>\n",
    "\n",
    "> Determine for the user in each region (NA, EU, JP):\n",
    "> * The most popular platforms (top 5). Describe the differences in sales shares.\n",
    "> * The most popular genres (top 5). Explain the differences.\n",
    "> * Does the ESRB rating affect sales in a particular region?"
   ]
  },
  {
   "cell_type": "markdown",
   "metadata": {
    "id": "KOG0gbiQIMa2"
   },
   "source": [
    "**The most popular platforms (top 5)**\n",
    "\n",
    "It is already known that globally the leaders in gaming platforms are PS4, XOne, 3DS, WiiU, and PSV. To determine the leaders in local markets, it is necessary to understand which products show which sales."
   ]
  },
  {
   "cell_type": "code",
   "execution_count": 40,
   "metadata": {
    "id": "8gpm5s0tIMa3"
   },
   "outputs": [
    {
     "data": {
      "text/html": [
       "<div>\n",
       "<style scoped>\n",
       "    .dataframe tbody tr th:only-of-type {\n",
       "        vertical-align: middle;\n",
       "    }\n",
       "\n",
       "    .dataframe tbody tr th {\n",
       "        vertical-align: top;\n",
       "    }\n",
       "\n",
       "    .dataframe thead th {\n",
       "        text-align: right;\n",
       "    }\n",
       "</style>\n",
       "<table border=\"1\" class=\"dataframe\">\n",
       "  <thead>\n",
       "    <tr style=\"text-align: right;\">\n",
       "      <th></th>\n",
       "      <th>eu_sales</th>\n",
       "      <th>jp_sales</th>\n",
       "      <th>na_sales</th>\n",
       "    </tr>\n",
       "    <tr>\n",
       "      <th>platform</th>\n",
       "      <th></th>\n",
       "      <th></th>\n",
       "      <th></th>\n",
       "    </tr>\n",
       "  </thead>\n",
       "  <tbody>\n",
       "    <tr>\n",
       "      <th>3DS</th>\n",
       "      <td>42.64</td>\n",
       "      <td>87.79</td>\n",
       "      <td>55.31</td>\n",
       "    </tr>\n",
       "    <tr>\n",
       "      <th>DS</th>\n",
       "      <td>3.53</td>\n",
       "      <td>3.72</td>\n",
       "      <td>4.59</td>\n",
       "    </tr>\n",
       "    <tr>\n",
       "      <th>PC</th>\n",
       "      <td>37.76</td>\n",
       "      <td>0.00</td>\n",
       "      <td>19.12</td>\n",
       "    </tr>\n",
       "    <tr>\n",
       "      <th>PS3</th>\n",
       "      <td>106.86</td>\n",
       "      <td>35.29</td>\n",
       "      <td>103.38</td>\n",
       "    </tr>\n",
       "    <tr>\n",
       "      <th>PS4</th>\n",
       "      <td>141.09</td>\n",
       "      <td>15.96</td>\n",
       "      <td>108.74</td>\n",
       "    </tr>\n",
       "    <tr>\n",
       "      <th>PSP</th>\n",
       "      <td>0.42</td>\n",
       "      <td>10.47</td>\n",
       "      <td>0.13</td>\n",
       "    </tr>\n",
       "    <tr>\n",
       "      <th>PSV</th>\n",
       "      <td>11.36</td>\n",
       "      <td>21.04</td>\n",
       "      <td>10.98</td>\n",
       "    </tr>\n",
       "    <tr>\n",
       "      <th>Wii</th>\n",
       "      <td>11.92</td>\n",
       "      <td>3.39</td>\n",
       "      <td>17.45</td>\n",
       "    </tr>\n",
       "    <tr>\n",
       "      <th>WiiU</th>\n",
       "      <td>25.13</td>\n",
       "      <td>13.01</td>\n",
       "      <td>38.10</td>\n",
       "    </tr>\n",
       "    <tr>\n",
       "      <th>X360</th>\n",
       "      <td>74.52</td>\n",
       "      <td>1.57</td>\n",
       "      <td>140.05</td>\n",
       "    </tr>\n",
       "    <tr>\n",
       "      <th>XOne</th>\n",
       "      <td>51.59</td>\n",
       "      <td>0.34</td>\n",
       "      <td>93.12</td>\n",
       "    </tr>\n",
       "  </tbody>\n",
       "</table>\n",
       "</div>"
      ],
      "text/plain": [
       "          eu_sales  jp_sales  na_sales\n",
       "platform                              \n",
       "3DS          42.64     87.79     55.31\n",
       "DS            3.53      3.72      4.59\n",
       "PC           37.76      0.00     19.12\n",
       "PS3         106.86     35.29    103.38\n",
       "PS4         141.09     15.96    108.74\n",
       "PSP           0.42     10.47      0.13\n",
       "PSV          11.36     21.04     10.98\n",
       "Wii          11.92      3.39     17.45\n",
       "WiiU         25.13     13.01     38.10\n",
       "X360         74.52      1.57    140.05\n",
       "XOne         51.59      0.34     93.12"
      ]
     },
     "execution_count": 40,
     "metadata": {},
     "output_type": "execute_result"
    }
   ],
   "source": [
    "# Sales by region pivot:\n",
    "df_pl_sales_regional = df_actual.pivot_table(\n",
    "    index=\"platform\",\n",
    "    values=[\"na_sales\",\"eu_sales\",\"jp_sales\"],\n",
    "    aggfunc=\"sum\"\n",
    ")\n",
    "df_pl_sales_regional"
   ]
  },
  {
   "cell_type": "markdown",
   "metadata": {
    "id": "0jCynEL2IMa3"
   },
   "source": [
    "Now, for individual markets (top 5)."
   ]
  },
  {
   "cell_type": "code",
   "execution_count": 41,
   "metadata": {},
   "outputs": [
    {
     "data": {
      "image/png": "[encoded data removed]",
      "text/plain": [
       "<Figure size 1080x360 with 3 Axes>"
      ]
     },
     "metadata": {},
     "output_type": "display_data"
    }
   ],
   "source": [
    "fig, axs = plt.subplots(nrows=1, ncols=3, figsize=(15, 5))\n",
    "\n",
    "# North America\n",
    "pl_sales_na = df_pl_sales_regional.sort_values(\"na_sales\", ascending=False)[\"na_sales\"].head(5)\n",
    "pl_sales_na.sort_index(inplace=True)\n",
    "sns.barplot(x=pl_sales_na.index, y=pl_sales_na, ax=axs[0])\n",
    "axs[0].set_title(\"North America\")\n",
    "axs[0].set_xlabel(\"Platform\")\n",
    "axs[0].set_ylabel(\"Sales\")\n",
    "\n",
    "# Europe\n",
    "pl_sales_eu = df_pl_sales_regional.sort_values(\"eu_sales\", ascending=False)[\"eu_sales\"].head(5)\n",
    "pl_sales_eu.sort_index(inplace=True)\n",
    "sns.barplot(x=pl_sales_eu.index, y=pl_sales_eu, ax=axs[1])\n",
    "axs[1].set_title(\"Europe\")\n",
    "axs[1].set_xlabel(\"Platform\")\n",
    "axs[1].set_ylabel(\"Sales\")\n",
    "\n",
    "# Japan\n",
    "pl_sales_jp = df_pl_sales_regional.sort_values(\"jp_sales\", ascending=False)[\"jp_sales\"].head(5)\n",
    "pl_sales_jp.sort_index(inplace=True)\n",
    "sns.barplot(x=pl_sales_jp.index, y=pl_sales_jp, ax=axs[2])\n",
    "axs[2].set_title(\"Japan\")\n",
    "axs[2].set_xlabel(\"Platform\")\n",
    "axs[2].set_ylabel(\"Sales\")\n",
    "\n",
    "plt.tight_layout()"
   ]
  },
  {
   "cell_type": "markdown",
   "metadata": {
    "id": "hOi_SfOWIMa7"
   },
   "source": [
    "For each market, the overall sales picture looks different (in descending order):\n",
    "- North America: X360, XOne, PS4, PS3, 3DS\n",
    "- Europe: PS4, PS3, X360, XOne, 3DS\n",
    "- Japan: 3DS, PS3, PSV, PS4, WiiU."
   ]
  },
  {
   "cell_type": "markdown",
   "metadata": {
    "id": "CXIgOdejIMa8"
   },
   "source": [
    "**Most popular genres (top 5)**\n",
    "\n",
    "From the previous section, it is known that the most popular genres are Action, Sports, and Shooter. Let's look at the top 5 genres in terms of global sales."
   ]
  },
  {
   "cell_type": "code",
   "execution_count": 42,
   "metadata": {
    "id": "mnk8_xizIMa8"
   },
   "outputs": [
    {
     "data": {
      "text/html": [
       "<div>\n",
       "<style scoped>\n",
       "    .dataframe tbody tr th:only-of-type {\n",
       "        vertical-align: middle;\n",
       "    }\n",
       "\n",
       "    .dataframe tbody tr th {\n",
       "        vertical-align: top;\n",
       "    }\n",
       "\n",
       "    .dataframe thead th {\n",
       "        text-align: right;\n",
       "    }\n",
       "</style>\n",
       "<table border=\"1\" class=\"dataframe\">\n",
       "  <thead>\n",
       "    <tr style=\"text-align: right;\">\n",
       "      <th></th>\n",
       "      <th>eu_sales</th>\n",
       "      <th>jp_sales</th>\n",
       "      <th>na_sales</th>\n",
       "    </tr>\n",
       "    <tr>\n",
       "      <th>genre</th>\n",
       "      <th></th>\n",
       "      <th></th>\n",
       "      <th></th>\n",
       "    </tr>\n",
       "  </thead>\n",
       "  <tbody>\n",
       "    <tr>\n",
       "      <th>Action</th>\n",
       "      <td>159.34</td>\n",
       "      <td>52.80</td>\n",
       "      <td>177.84</td>\n",
       "    </tr>\n",
       "    <tr>\n",
       "      <th>Adventure</th>\n",
       "      <td>9.46</td>\n",
       "      <td>8.24</td>\n",
       "      <td>8.92</td>\n",
       "    </tr>\n",
       "    <tr>\n",
       "      <th>Fighting</th>\n",
       "      <td>10.79</td>\n",
       "      <td>9.44</td>\n",
       "      <td>19.79</td>\n",
       "    </tr>\n",
       "    <tr>\n",
       "      <th>Misc</th>\n",
       "      <td>26.32</td>\n",
       "      <td>12.86</td>\n",
       "      <td>38.19</td>\n",
       "    </tr>\n",
       "    <tr>\n",
       "      <th>Platform</th>\n",
       "      <td>21.41</td>\n",
       "      <td>8.63</td>\n",
       "      <td>25.38</td>\n",
       "    </tr>\n",
       "    <tr>\n",
       "      <th>Puzzle</th>\n",
       "      <td>1.40</td>\n",
       "      <td>2.14</td>\n",
       "      <td>1.13</td>\n",
       "    </tr>\n",
       "    <tr>\n",
       "      <th>Racing</th>\n",
       "      <td>27.29</td>\n",
       "      <td>2.50</td>\n",
       "      <td>17.22</td>\n",
       "    </tr>\n",
       "    <tr>\n",
       "      <th>Role-Playing</th>\n",
       "      <td>48.53</td>\n",
       "      <td>65.44</td>\n",
       "      <td>64.00</td>\n",
       "    </tr>\n",
       "    <tr>\n",
       "      <th>Shooter</th>\n",
       "      <td>113.47</td>\n",
       "      <td>9.23</td>\n",
       "      <td>144.77</td>\n",
       "    </tr>\n",
       "    <tr>\n",
       "      <th>Simulation</th>\n",
       "      <td>14.55</td>\n",
       "      <td>10.41</td>\n",
       "      <td>7.97</td>\n",
       "    </tr>\n",
       "    <tr>\n",
       "      <th>Sports</th>\n",
       "      <td>69.09</td>\n",
       "      <td>8.01</td>\n",
       "      <td>81.53</td>\n",
       "    </tr>\n",
       "    <tr>\n",
       "      <th>Strategy</th>\n",
       "      <td>5.17</td>\n",
       "      <td>2.88</td>\n",
       "      <td>4.23</td>\n",
       "    </tr>\n",
       "  </tbody>\n",
       "</table>\n",
       "</div>"
      ],
      "text/plain": [
       "              eu_sales  jp_sales  na_sales\n",
       "genre                                     \n",
       "Action          159.34     52.80    177.84\n",
       "Adventure         9.46      8.24      8.92\n",
       "Fighting         10.79      9.44     19.79\n",
       "Misc             26.32     12.86     38.19\n",
       "Platform         21.41      8.63     25.38\n",
       "Puzzle            1.40      2.14      1.13\n",
       "Racing           27.29      2.50     17.22\n",
       "Role-Playing     48.53     65.44     64.00\n",
       "Shooter         113.47      9.23    144.77\n",
       "Simulation       14.55     10.41      7.97\n",
       "Sports           69.09      8.01     81.53\n",
       "Strategy          5.17      2.88      4.23"
      ]
     },
     "execution_count": 42,
     "metadata": {},
     "output_type": "execute_result"
    }
   ],
   "source": [
    "# Region sales by genre pivot:\n",
    "df_games_sales_regional = df_actual.pivot_table(\n",
    "    index=\"genre\",\n",
    "    values=[\"na_sales\",\"eu_sales\",\"jp_sales\"],\n",
    "    aggfunc=\"sum\"\n",
    ")\n",
    "df_games_sales_regional"
   ]
  },
  {
   "cell_type": "markdown",
   "metadata": {
    "id": "v5NCWq-BIMa9"
   },
   "source": [
    "For each market separately (top 5)."
   ]
  },
  {
   "cell_type": "code",
   "execution_count": 43,
   "metadata": {},
   "outputs": [
    {
     "data": {
      "image/png": "[encoded data removed]",
      "text/plain": [
       "<Figure size 1080x360 with 3 Axes>"
      ]
     },
     "metadata": {},
     "output_type": "display_data"
    }
   ],
   "source": [
    "fig, axs = plt.subplots(1, 3, figsize=(15, 5))\n",
    "\n",
    "# North America:\n",
    "games_na = df_games_sales_regional.sort_values(\"na_sales\", ascending=False)[\"na_sales\"].head(5)\n",
    "games_na.sort_index(inplace=True)\n",
    "sns.barplot(x=games_na.index, y=games_na, ax=axs[0])\n",
    "axs[0].set_title(\"North America\")\n",
    "axs[0].set_xlabel(\"Games\")\n",
    "axs[0].set_ylabel(\"Sales\")\n",
    "\n",
    "# Europe:\n",
    "games_eu = df_games_sales_regional.sort_values(\"eu_sales\", ascending=False)[\"eu_sales\"].head(5)\n",
    "games_eu.sort_index(inplace=True)\n",
    "sns.barplot(x=games_eu.index, y=games_eu, ax=axs[1])\n",
    "axs[1].set_title(\"Europe\")\n",
    "axs[1].set_xlabel(\"Games\")\n",
    "axs[1].set_ylabel(\"Sales\")\n",
    "\n",
    "# Japan:\n",
    "games_jp = df_games_sales_regional.sort_values(\"jp_sales\", ascending=False)[\"jp_sales\"].head(5)\n",
    "games_jp.sort_index(inplace=True)\n",
    "sns.barplot(x=games_jp.index, y=games_jp, ax=axs[2])\n",
    "axs[2].set_title(\"Japan\")\n",
    "axs[2].set_xlabel(\"Games\")\n",
    "axs[2].set_ylabel(\"Sales\")\n",
    "\n",
    "plt.tight_layout()\n"
   ]
  },
  {
   "cell_type": "markdown",
   "metadata": {
    "id": "iEFuPm1_IMbA"
   },
   "source": [
    "Popularity of genres (in descending order):\n",
    "\n",
    "- North America: Action, Shooter, Sports, RPG, Misc.\n",
    "- Europe: Action, Shooter, Sports, RPG, Racing.\n",
    "- Japan: RPG, Action, Misc, Simulation, Fighting.\n",
    "\n",
    "Overall, North America and Europe play similar genres, but Japan stands out for its RPG genre. This is due to the extremely high popularity of 3DS in Japan, as this platform was originally developed for role-playing games."
   ]
  },
  {
   "cell_type": "markdown",
   "metadata": {
    "id": "XUi8ZvF9IMbD"
   },
   "source": [
    "**Rating ESRB and sales**\n",
    "\n",
    "First, it's necessary to understand which ratings are leading in sales through tables."
   ]
  },
  {
   "cell_type": "code",
   "execution_count": 44,
   "metadata": {
    "id": "0REIl8fuIMbE"
   },
   "outputs": [
    {
     "data": {
      "text/html": [
       "<div>\n",
       "<style scoped>\n",
       "    .dataframe tbody tr th:only-of-type {\n",
       "        vertical-align: middle;\n",
       "    }\n",
       "\n",
       "    .dataframe tbody tr th {\n",
       "        vertical-align: top;\n",
       "    }\n",
       "\n",
       "    .dataframe thead th {\n",
       "        text-align: right;\n",
       "    }\n",
       "</style>\n",
       "<table border=\"1\" class=\"dataframe\">\n",
       "  <thead>\n",
       "    <tr style=\"text-align: right;\">\n",
       "      <th></th>\n",
       "      <th>eu_sales</th>\n",
       "      <th>jp_sales</th>\n",
       "      <th>na_sales</th>\n",
       "    </tr>\n",
       "    <tr>\n",
       "      <th>rating</th>\n",
       "      <th></th>\n",
       "      <th></th>\n",
       "      <th></th>\n",
       "    </tr>\n",
       "  </thead>\n",
       "  <tbody>\n",
       "    <tr>\n",
       "      <th>E</th>\n",
       "      <td>113.03</td>\n",
       "      <td>28.33</td>\n",
       "      <td>114.37</td>\n",
       "    </tr>\n",
       "    <tr>\n",
       "      <th>E10+</th>\n",
       "      <td>55.37</td>\n",
       "      <td>8.19</td>\n",
       "      <td>75.70</td>\n",
       "    </tr>\n",
       "    <tr>\n",
       "      <th>M</th>\n",
       "      <td>193.96</td>\n",
       "      <td>21.20</td>\n",
       "      <td>231.57</td>\n",
       "    </tr>\n",
       "    <tr>\n",
       "      <th>No rating</th>\n",
       "      <td>91.50</td>\n",
       "      <td>108.84</td>\n",
       "      <td>103.31</td>\n",
       "    </tr>\n",
       "    <tr>\n",
       "      <th>T</th>\n",
       "      <td>52.96</td>\n",
       "      <td>26.02</td>\n",
       "      <td>66.02</td>\n",
       "    </tr>\n",
       "  </tbody>\n",
       "</table>\n",
       "</div>"
      ],
      "text/plain": [
       "           eu_sales  jp_sales  na_sales\n",
       "rating                                 \n",
       "E            113.03     28.33    114.37\n",
       "E10+          55.37      8.19     75.70\n",
       "M            193.96     21.20    231.57\n",
       "No rating     91.50    108.84    103.31\n",
       "T             52.96     26.02     66.02"
      ]
     },
     "execution_count": 44,
     "metadata": {},
     "output_type": "execute_result"
    }
   ],
   "source": [
    "# Sales of games in each region pivot:\n",
    "df_rating_sales_regional = df_actual.pivot_table(\n",
    "    index=\"rating\",\n",
    "    values=[\"na_sales\",\"eu_sales\",\"jp_sales\"],\n",
    "    aggfunc=\"sum\",\n",
    "    dropna=False\n",
    ")\n",
    "df_rating_sales_regional"
   ]
  },
  {
   "cell_type": "code",
   "execution_count": 45,
   "metadata": {
    "id": "MGD-Bb9PIMbE"
   },
   "outputs": [
    {
     "data": {
      "text/html": [
       "<div>\n",
       "<style scoped>\n",
       "    .dataframe tbody tr th:only-of-type {\n",
       "        vertical-align: middle;\n",
       "    }\n",
       "\n",
       "    .dataframe tbody tr th {\n",
       "        vertical-align: top;\n",
       "    }\n",
       "\n",
       "    .dataframe thead th {\n",
       "        text-align: right;\n",
       "    }\n",
       "</style>\n",
       "<table border=\"1\" class=\"dataframe\">\n",
       "  <thead>\n",
       "    <tr style=\"text-align: right;\">\n",
       "      <th></th>\n",
       "      <th>name</th>\n",
       "      <th>platform</th>\n",
       "      <th>year_of_release</th>\n",
       "      <th>genre</th>\n",
       "      <th>na_sales</th>\n",
       "      <th>eu_sales</th>\n",
       "      <th>jp_sales</th>\n",
       "      <th>other_sales</th>\n",
       "      <th>total_sales</th>\n",
       "      <th>critic_score</th>\n",
       "      <th>user_score</th>\n",
       "      <th>rating</th>\n",
       "    </tr>\n",
       "  </thead>\n",
       "  <tbody>\n",
       "    <tr>\n",
       "      <th>9232</th>\n",
       "      <td>DmC: Devil May Cry</td>\n",
       "      <td>XOne</td>\n",
       "      <td>2015</td>\n",
       "      <td>Action</td>\n",
       "      <td>0.08</td>\n",
       "      <td>0.04</td>\n",
       "      <td>0.00</td>\n",
       "      <td>0.01</td>\n",
       "      <td>0.13</td>\n",
       "      <td>-100</td>\n",
       "      <td>-10.0</td>\n",
       "      <td>No rating</td>\n",
       "    </tr>\n",
       "    <tr>\n",
       "      <th>12590</th>\n",
       "      <td>Toriko: Gourmet Battle!</td>\n",
       "      <td>3DS</td>\n",
       "      <td>2013</td>\n",
       "      <td>Role-Playing</td>\n",
       "      <td>0.00</td>\n",
       "      <td>0.00</td>\n",
       "      <td>0.06</td>\n",
       "      <td>0.00</td>\n",
       "      <td>0.06</td>\n",
       "      <td>-100</td>\n",
       "      <td>-10.0</td>\n",
       "      <td>No rating</td>\n",
       "    </tr>\n",
       "    <tr>\n",
       "      <th>16187</th>\n",
       "      <td>Rewrite</td>\n",
       "      <td>PSV</td>\n",
       "      <td>2014</td>\n",
       "      <td>Adventure</td>\n",
       "      <td>0.00</td>\n",
       "      <td>0.00</td>\n",
       "      <td>0.01</td>\n",
       "      <td>0.00</td>\n",
       "      <td>0.01</td>\n",
       "      <td>-100</td>\n",
       "      <td>-10.0</td>\n",
       "      <td>No rating</td>\n",
       "    </tr>\n",
       "  </tbody>\n",
       "</table>\n",
       "</div>"
      ],
      "text/plain": [
       "                          name platform  year_of_release         genre  \\\n",
       "9232        DmC: Devil May Cry     XOne             2015        Action   \n",
       "12590  Toriko: Gourmet Battle!      3DS             2013  Role-Playing   \n",
       "16187                  Rewrite      PSV             2014     Adventure   \n",
       "\n",
       "       na_sales  eu_sales  jp_sales  other_sales  total_sales  critic_score  \\\n",
       "9232       0.08      0.04      0.00         0.01         0.13          -100   \n",
       "12590      0.00      0.00      0.06         0.00         0.06          -100   \n",
       "16187      0.00      0.00      0.01         0.00         0.01          -100   \n",
       "\n",
       "       user_score     rating  \n",
       "9232        -10.0  No rating  \n",
       "12590       -10.0  No rating  \n",
       "16187       -10.0  No rating  "
      ]
     },
     "execution_count": 45,
     "metadata": {},
     "output_type": "execute_result"
    }
   ],
   "source": [
    "df_actual[\"rating\"].value_counts(dropna=False)\n",
    "df_actual.loc[df[\"rating\"] == \"No rating\"].sample(3)"
   ]
  },
  {
   "cell_type": "markdown",
   "metadata": {
    "id": "4xiAWQAzIMbH"
   },
   "source": [
    "For each region:"
   ]
  },
  {
   "cell_type": "code",
   "execution_count": 46,
   "metadata": {},
   "outputs": [
    {
     "data": {
      "image/png": "[encoded data removed]",
      "text/plain": [
       "<Figure size 1080x360 with 3 Axes>"
      ]
     },
     "metadata": {},
     "output_type": "display_data"
    }
   ],
   "source": [
    "fig, axs = plt.subplots(nrows=1, ncols=3, figsize=(15,5))\n",
    "\n",
    "# North America:\n",
    "rating_na = df_rating_sales_regional.sort_values(\"na_sales\", ascending=False)[\"na_sales\"].head(5)\n",
    "rating_na.sort_index(inplace=True)\n",
    "sns.barplot(x=rating_na.index, y=rating_na, ax=axs[0])\n",
    "axs[0].set_title('North America')\n",
    "\n",
    "# Europe:\n",
    "rating_eu = df_rating_sales_regional.sort_values(\"eu_sales\", ascending=False)[\"eu_sales\"].head(5)\n",
    "rating_eu.sort_index(inplace=True)\n",
    "sns.barplot(x=rating_eu.index, y=rating_eu, ax=axs[1])\n",
    "axs[1].set_title('Europe')\n",
    "\n",
    "# Japan:\n",
    "rating_jp = df_rating_sales_regional.sort_values(\"jp_sales\", ascending=False)[\"jp_sales\"].head(5)\n",
    "rating_jp.sort_index(inplace=True)\n",
    "sns.barplot(x=rating_jp.index, y=rating_jp, ax=axs[2])\n",
    "axs[2].set_title('Japan')\n",
    "\n",
    "plt.tight_layout()"
   ]
  },
  {
   "cell_type": "markdown",
   "metadata": {
    "id": "GGoHlmWGIMbK"
   },
   "source": [
    "Rating description:\n",
    "\n",
    "- \"EC\" (\"Early Childhood\") - \"For early childhood\";\n",
    "- \"E\" (\"Everyone\") - \"For everyone\" (including \"K-A\" (\"Kids to Adults\"));\n",
    "- \"E10+\" (\"Everyone 10 and older\") - \"For everyone 10 and older\";\n",
    "- \"T\" (\"Teen\") - \"For teens\";\n",
    "- \"M\" (\"Mature\") - \"For adults\";\n",
    "- \"AO\" (\"Adults Only 18+\") - \"Only for adults\";\n",
    "- \"RP\" (\"Rating Pending\") - \"Rating is pending\"."
   ]
  },
  {
   "cell_type": "markdown",
   "metadata": {
    "id": "sv8aY8JdIMbL"
   },
   "source": [
    "### Conclusion <a class=\"anchor\" id=\"portrait-conclusion\"></a>\n",
    "\n",
    "In the tables below, popular platforms, games, and ESRB ratings are listed in descending order for each region:\n",
    "\n",
    "* **North America**\n",
    "\n",
    "| Platform | Genre | ESRB |\n",
    "|--|--|--|\n",
    "| X360 | Action | M |\n",
    "| XOne | Shooter | E |\n",
    "| PS4 | Sports | No rating |\n",
    "| PS3 | RPG | E10+ |\n",
    "| 3DS | Misc | T |\n",
    "\n",
    "- **Europe**\n",
    "\n",
    "| Platform | Genre | ESRB |\n",
    "|--|--|--|\n",
    "| PS4 | Action | M |\n",
    "| PS3 | Shooter | E |\n",
    "| X360 | Sports | No rating |\n",
    "| X360 | RPG | E10+ |\n",
    "| 3DS | Racing | T |\n",
    "\n",
    "- **Japan**\n",
    "\n",
    "| Platform | Genre | ESRB |\n",
    "|--|--|--|\n",
    "| 3DS | RPG | No rating |\n",
    "| PS3 | Action | E |\n",
    "| PSV | Misc | T |\n",
    "| PS4 | Simulation | M |\n",
    "| WiiU | Fighting | E10+ |"
   ]
  },
  {
   "cell_type": "markdown",
   "metadata": {
    "id": "VyHyJu20IMbM"
   },
   "source": [
    "- **North America**: a player on the X360 platform, with the favorite genre of Action, typically an adult;\n",
    "- **Europe**: a player on the PS4 platform, with the favorite genre of Action, typically an adult;\n",
    "- **Japan**: a player on the 3DS platform, with the favorite genre of RPG, it's difficult to determine the age criteria for ESRB rating. Most games are not rated by the organization. In second place, with a large gap, is the \"E\" (Everyone) rating."
   ]
  },
  {
   "cell_type": "markdown",
   "metadata": {
    "id": "w7tKcXyuIMbN"
   },
   "source": [
    "## Hypothesis testing <a class=\"anchor\" id=\"hypothesis\"></a>\n",
    "\n",
    "> - The average user ratings for Xbox One and PC platforms are the same;\n",
    "> - The average user ratings for Action and Sports genres are different.\n",
    ">\n",
    "> Set the threshold alpha value yourself. Explain:\n",
    "- How you formulated the null and alternative hypotheses;\n",
    "- Which test was used to verify the hypotheses and why.\n",
    "\n"
   ]
  },
  {
   "cell_type": "markdown",
   "metadata": {
    "id": "wVv3p_efWT4i"
   },
   "source": [
    "### Hypothesis #1 <a class=\"anchor\" id=\"hypothesis-1\"></a>\n",
    "\n",
    "Formulating the null hypothesis based on the available information:\n",
    "\n",
    "- H<sub>0</sub>: The average user ratings for Xbox One and PC platforms are the same;\n",
    "- H<sub>1</sub>: The average user ratings for Xbox One and PC platforms are different;\n",
    "\n",
    "Threshold value: 0.05."
   ]
  },
  {
   "cell_type": "code",
   "execution_count": 47,
   "metadata": {
    "id": "XZndYQ1-IMbO"
   },
   "outputs": [
    {
     "data": {
      "text/html": [
       "<div>\n",
       "<style scoped>\n",
       "    .dataframe tbody tr th:only-of-type {\n",
       "        vertical-align: middle;\n",
       "    }\n",
       "\n",
       "    .dataframe tbody tr th {\n",
       "        vertical-align: top;\n",
       "    }\n",
       "\n",
       "    .dataframe thead th {\n",
       "        text-align: right;\n",
       "    }\n",
       "</style>\n",
       "<table border=\"1\" class=\"dataframe\">\n",
       "  <thead>\n",
       "    <tr style=\"text-align: right;\">\n",
       "      <th></th>\n",
       "      <th>name</th>\n",
       "      <th>platform</th>\n",
       "      <th>year_of_release</th>\n",
       "      <th>genre</th>\n",
       "      <th>na_sales</th>\n",
       "      <th>eu_sales</th>\n",
       "      <th>jp_sales</th>\n",
       "      <th>other_sales</th>\n",
       "      <th>total_sales</th>\n",
       "      <th>critic_score</th>\n",
       "      <th>user_score</th>\n",
       "      <th>rating</th>\n",
       "    </tr>\n",
       "  </thead>\n",
       "  <tbody>\n",
       "    <tr>\n",
       "      <th>16</th>\n",
       "      <td>Grand Theft Auto V</td>\n",
       "      <td>PS3</td>\n",
       "      <td>2013</td>\n",
       "      <td>Action</td>\n",
       "      <td>7.02</td>\n",
       "      <td>9.09</td>\n",
       "      <td>0.98</td>\n",
       "      <td>3.96</td>\n",
       "      <td>21.05</td>\n",
       "      <td>97</td>\n",
       "      <td>8.2</td>\n",
       "      <td>M</td>\n",
       "    </tr>\n",
       "    <tr>\n",
       "      <th>23</th>\n",
       "      <td>Grand Theft Auto V</td>\n",
       "      <td>X360</td>\n",
       "      <td>2013</td>\n",
       "      <td>Action</td>\n",
       "      <td>9.66</td>\n",
       "      <td>5.14</td>\n",
       "      <td>0.06</td>\n",
       "      <td>1.41</td>\n",
       "      <td>16.27</td>\n",
       "      <td>97</td>\n",
       "      <td>8.1</td>\n",
       "      <td>M</td>\n",
       "    </tr>\n",
       "    <tr>\n",
       "      <th>34</th>\n",
       "      <td>Call of Duty: Black Ops II</td>\n",
       "      <td>PS3</td>\n",
       "      <td>2012</td>\n",
       "      <td>Shooter</td>\n",
       "      <td>4.99</td>\n",
       "      <td>5.73</td>\n",
       "      <td>0.65</td>\n",
       "      <td>2.42</td>\n",
       "      <td>13.79</td>\n",
       "      <td>83</td>\n",
       "      <td>5.3</td>\n",
       "      <td>M</td>\n",
       "    </tr>\n",
       "  </tbody>\n",
       "</table>\n",
       "</div>"
      ],
      "text/plain": [
       "                          name platform  year_of_release    genre  na_sales  \\\n",
       "16          Grand Theft Auto V      PS3             2013   Action      7.02   \n",
       "23          Grand Theft Auto V     X360             2013   Action      9.66   \n",
       "34  Call of Duty: Black Ops II      PS3             2012  Shooter      4.99   \n",
       "\n",
       "    eu_sales  jp_sales  other_sales  total_sales  critic_score  user_score  \\\n",
       "16      9.09      0.98         3.96        21.05            97         8.2   \n",
       "23      5.14      0.06         1.41        16.27            97         8.1   \n",
       "34      5.73      0.65         2.42        13.79            83         5.3   \n",
       "\n",
       "   rating  \n",
       "16      M  \n",
       "23      M  \n",
       "34      M  "
      ]
     },
     "execution_count": 47,
     "metadata": {},
     "output_type": "execute_result"
    }
   ],
   "source": [
    "# Cleaning the table from games without user ratings:\n",
    "df_cleaned = df_actual.query(\n",
    "    \"user_score > 0\"\n",
    ")\n",
    "df_cleaned.head(3)"
   ]
  },
  {
   "cell_type": "code",
   "execution_count": 48,
   "metadata": {
    "id": "XoFBtmKPIMbO"
   },
   "outputs": [
    {
     "data": {
      "text/html": [
       "<div>\n",
       "<style scoped>\n",
       "    .dataframe tbody tr th:only-of-type {\n",
       "        vertical-align: middle;\n",
       "    }\n",
       "\n",
       "    .dataframe tbody tr th {\n",
       "        vertical-align: top;\n",
       "    }\n",
       "\n",
       "    .dataframe thead th {\n",
       "        text-align: right;\n",
       "    }\n",
       "</style>\n",
       "<table border=\"1\" class=\"dataframe\">\n",
       "  <thead>\n",
       "    <tr style=\"text-align: right;\">\n",
       "      <th></th>\n",
       "      <th>user_score</th>\n",
       "    </tr>\n",
       "    <tr>\n",
       "      <th>platform</th>\n",
       "      <th></th>\n",
       "    </tr>\n",
       "  </thead>\n",
       "  <tbody>\n",
       "    <tr>\n",
       "      <th>PSV</th>\n",
       "      <td>7.410000</td>\n",
       "    </tr>\n",
       "    <tr>\n",
       "      <th>3DS</th>\n",
       "      <td>7.033333</td>\n",
       "    </tr>\n",
       "    <tr>\n",
       "      <th>DS</th>\n",
       "      <td>7.000000</td>\n",
       "    </tr>\n",
       "    <tr>\n",
       "      <th>WiiU</th>\n",
       "      <td>6.904000</td>\n",
       "    </tr>\n",
       "    <tr>\n",
       "      <th>PS4</th>\n",
       "      <td>6.748249</td>\n",
       "    </tr>\n",
       "  </tbody>\n",
       "</table>\n",
       "</div>"
      ],
      "text/plain": [
       "          user_score\n",
       "platform            \n",
       "PSV         7.410000\n",
       "3DS         7.033333\n",
       "DS          7.000000\n",
       "WiiU        6.904000\n",
       "PS4         6.748249"
      ]
     },
     "execution_count": 48,
     "metadata": {},
     "output_type": "execute_result"
    }
   ],
   "source": [
    "# Top 5 average ratings by platform:\n",
    "df_cleaned.pivot_table(\n",
    "    index=\"platform\",\n",
    "    values=\"user_score\",\n",
    "    aggfunc=\"mean\"\n",
    ").sort_values(\"user_score\", ascending=False).head(5)"
   ]
  },
  {
   "cell_type": "code",
   "execution_count": 49,
   "metadata": {
    "id": "0Jfww5IeIMbQ"
   },
   "outputs": [
    {
     "name": "stdout",
     "output_type": "stream",
     "text": [
      "Fail to reject the null hypothesis\n",
      "p-value: 0.5535080500643661\n"
     ]
    }
   ],
   "source": [
    "xone_user_score = df_cleaned.query(\"platform in 'XOne'\")[\"user_score\"]\n",
    "pc_user_score = df_cleaned.query(\"platform in 'PC'\")[\"user_score\"]\n",
    "alpha = 0.05\n",
    "\n",
    "results = st.ttest_ind(xone_user_score, pc_user_score)\n",
    "\n",
    "if (results.pvalue < alpha):\n",
    "    print(\"Reject the null hypothesis\")\n",
    "else:\n",
    "    print(\"Fail to reject the null hypothesis\")\n",
    "print(f\"p-value: {results.pvalue}\")"
   ]
  },
  {
   "cell_type": "markdown",
   "metadata": {
    "id": "xFs3KdL7IMbQ"
   },
   "source": [
    "### Hypothesis #2 <a class=\"anchor\" id=\"hypothesis-2\"></a>\n",
    "\n",
    "Formulating the null hypothesis based on the available information::\n",
    "- H<sub>0</sub>: The average user ratings for the Action and Sports genres are different;\n",
    "- H<sub>1</sub>: The average user ratings for the Action and Sports genres are the same;\n",
    "\n",
    "Threshold value: 0.05."
   ]
  },
  {
   "cell_type": "code",
   "execution_count": 50,
   "metadata": {
    "id": "3wKxTQ5sIMbR"
   },
   "outputs": [
    {
     "data": {
      "text/html": [
       "<div>\n",
       "<style scoped>\n",
       "    .dataframe tbody tr th:only-of-type {\n",
       "        vertical-align: middle;\n",
       "    }\n",
       "\n",
       "    .dataframe tbody tr th {\n",
       "        vertical-align: top;\n",
       "    }\n",
       "\n",
       "    .dataframe thead th {\n",
       "        text-align: right;\n",
       "    }\n",
       "</style>\n",
       "<table border=\"1\" class=\"dataframe\">\n",
       "  <thead>\n",
       "    <tr style=\"text-align: right;\">\n",
       "      <th></th>\n",
       "      <th>user_score</th>\n",
       "    </tr>\n",
       "    <tr>\n",
       "      <th>genre</th>\n",
       "      <th></th>\n",
       "    </tr>\n",
       "  </thead>\n",
       "  <tbody>\n",
       "    <tr>\n",
       "      <th>Puzzle</th>\n",
       "      <td>7.633333</td>\n",
       "    </tr>\n",
       "    <tr>\n",
       "      <th>Adventure</th>\n",
       "      <td>7.466667</td>\n",
       "    </tr>\n",
       "    <tr>\n",
       "      <th>Role-Playing</th>\n",
       "      <td>7.258480</td>\n",
       "    </tr>\n",
       "    <tr>\n",
       "      <th>Misc</th>\n",
       "      <td>6.938806</td>\n",
       "    </tr>\n",
       "    <tr>\n",
       "      <th>Fighting</th>\n",
       "      <td>6.895714</td>\n",
       "    </tr>\n",
       "  </tbody>\n",
       "</table>\n",
       "</div>"
      ],
      "text/plain": [
       "              user_score\n",
       "genre                   \n",
       "Puzzle          7.633333\n",
       "Adventure       7.466667\n",
       "Role-Playing    7.258480\n",
       "Misc            6.938806\n",
       "Fighting        6.895714"
      ]
     },
     "execution_count": 50,
     "metadata": {},
     "output_type": "execute_result"
    }
   ],
   "source": [
    "# Top 5 average ratings by game:\n",
    "df_cleaned.pivot_table(\n",
    "    index=\"genre\",\n",
    "    values=\"user_score\",\n",
    "    aggfunc=\"mean\"\n",
    ").sort_values(\"user_score\", ascending=False).head()"
   ]
  },
  {
   "cell_type": "code",
   "execution_count": 51,
   "metadata": {
    "id": "gNfOvkVVIMbR"
   },
   "outputs": [
    {
     "name": "stdout",
     "output_type": "stream",
     "text": [
      "Reject the null hypothesis\n",
      "p-value: 3.7163089460934874e-26\n"
     ]
    }
   ],
   "source": [
    "action_user_score = df_cleaned.query(\"genre in 'Action'\")[\"user_score\"]\n",
    "sports_user_score = df_cleaned.query(\"genre in 'Sports'\")[\"user_score\"]\n",
    "alpha = .05\n",
    "\n",
    "results = st.ttest_ind(action_user_score, sports_user_score)\n",
    "\n",
    "if (results.pvalue < alpha):\n",
    "    print(\"Reject the null hypothesis\")\n",
    "else:\n",
    "    print(\"Fail to reject the null hypothesis\")\n",
    "print(f\"p-value: {results.pvalue}\")"
   ]
  },
  {
   "cell_type": "markdown",
   "metadata": {
    "id": "7bZoDrSzIMbS"
   },
   "source": [
    "## General conclusion <a class=\"anchor\" id=\"conclusion\"></a>\n",
    "\n",
    "During the study of historical data of the gaming industry, the following was determined:\n",
    "1. From 1994 to 2006, Sony held a leading position in the gaming industry, but with the arrival of Microsoft's X360 console in 2006, sales began to be distributed between them. The Wii platform showed strong sales (at that time possessing innovative technologies);\n",
    "2. The shift of generations occurs cyclically, and on average the end-of-life of a platform is 7.5 years. Support for the old platform is discontinued, and as a result, sales noticeably decline;\n",
    "3. In the period of 2012-2016, PS3, X360, and DS lost their popularity. They were replaced by new generations of these consoles, namely PS4, XOne, and 3DS. In 2017, these three platforms have the highest potential;\n",
    "4. The most popular platforms are:\n",
    "    - X360 in North America;\n",
    "    - PS4 in Europe;\n",
    "    - 3DS in Japan.\n",
    "5. For each of the presented markets, the popularity of genres differs:\n",
    "    - North America: Action, Shooter, Sports, RPG, Misc;\n",
    "    - Europe: Action, Shooter, Sports, RPG, Racing;\n",
    "    - Japan: RPG, Action, Misc, Simulation, Fighting.\n",
    "6. ESRB ratings look as follows:\n",
    "    - In North America and Europe, games with the \"M\" (\"Mature\") rating - \"For Mature\" - prevail in sales;\n",
    "    - In Japan - \"E\" (\"Everyone\") - \"For Everyone\".\n",
    "7. Both hypotheses were tested with 95% accuracy and here are the results:\n",
    "    - The average user ratings for the Xbox One and PC platforms are the same;\n",
    "    - The average user ratings for the Action and Sports genres are the same."
   ]
  }
 ],
 "metadata": {
  "ExecuteTimeLog": [
   {
    "duration": 6,
    "start_time": "2022-04-17T17:16:01.029Z"
   },
   {
    "duration": 1680,
    "start_time": "2022-04-17T17:16:21.576Z"
   },
   {
    "duration": 152,
    "start_time": "2022-04-17T17:16:59.952Z"
   },
   {
    "duration": 35,
    "start_time": "2022-04-17T17:17:13.336Z"
   },
   {
    "duration": 15,
    "start_time": "2022-04-17T17:17:21.691Z"
   },
   {
    "duration": 32,
    "start_time": "2022-04-17T17:17:26.800Z"
   },
   {
    "duration": 7,
    "start_time": "2022-04-17T17:17:32.427Z"
   },
   {
    "duration": 3,
    "start_time": "2022-04-17T17:18:10.286Z"
   },
   {
    "duration": 4,
    "start_time": "2022-04-17T17:18:51.447Z"
   },
   {
    "duration": 27,
    "start_time": "2022-04-17T17:19:10.360Z"
   },
   {
    "duration": 13,
    "start_time": "2022-04-17T17:19:22.694Z"
   },
   {
    "duration": 9,
    "start_time": "2022-04-17T17:19:30.095Z"
   },
   {
    "duration": 7,
    "start_time": "2022-04-17T17:19:41.008Z"
   },
   {
    "duration": 7,
    "start_time": "2022-04-17T17:20:06.255Z"
   },
   {
    "duration": 8,
    "start_time": "2022-04-17T17:20:17.757Z"
   },
   {
    "duration": 5,
    "start_time": "2022-04-17T17:20:23.103Z"
   },
   {
    "duration": 174,
    "start_time": "2022-04-17T17:20:28.010Z"
   },
   {
    "duration": 17,
    "start_time": "2022-04-17T17:20:34.229Z"
   },
   {
    "duration": 3,
    "start_time": "2022-04-17T17:20:39.077Z"
   },
   {
    "duration": 7,
    "start_time": "2022-04-17T17:20:53.682Z"
   },
   {
    "duration": 4,
    "start_time": "2022-04-17T17:20:56.558Z"
   },
   {
    "duration": 8,
    "start_time": "2022-04-17T17:22:24.312Z"
   },
   {
    "duration": 10,
    "start_time": "2022-04-17T17:23:03.075Z"
   },
   {
    "duration": 5,
    "start_time": "2022-04-17T17:25:29.552Z"
   },
   {
    "duration": 735,
    "start_time": "2022-04-17T17:25:34.126Z"
   },
   {
    "duration": 10,
    "start_time": "2022-04-17T17:25:50.821Z"
   },
   {
    "duration": 22,
    "start_time": "2022-04-17T17:26:23.617Z"
   },
   {
    "duration": 5,
    "start_time": "2022-04-17T17:26:33.552Z"
   },
   {
    "duration": 30,
    "start_time": "2022-04-17T17:26:38.018Z"
   },
   {
    "duration": 25,
    "start_time": "2022-04-17T17:26:46.457Z"
   },
   {
    "duration": 1171,
    "start_time": "2022-04-17T17:26:52.218Z"
   },
   {
    "duration": 41,
    "start_time": "2022-04-17T17:27:11.754Z"
   },
   {
    "duration": 222,
    "start_time": "2022-04-17T17:27:22.444Z"
   },
   {
    "duration": 4,
    "start_time": "2022-04-17T17:27:46.829Z"
   },
   {
    "duration": 20,
    "start_time": "2022-04-17T17:28:19.775Z"
   },
   {
    "duration": 490,
    "start_time": "2022-04-17T17:28:27.184Z"
   },
   {
    "duration": 430,
    "start_time": "2022-04-17T17:28:59.675Z"
   },
   {
    "duration": 19,
    "start_time": "2022-04-17T17:29:14.381Z"
   },
   {
    "duration": 36,
    "start_time": "2022-04-17T17:29:34.321Z"
   },
   {
    "duration": 26,
    "start_time": "2022-04-17T17:29:45.634Z"
   },
   {
    "duration": 2078,
    "start_time": "2022-04-17T17:29:51.470Z"
   },
   {
    "duration": 24,
    "start_time": "2022-04-17T17:30:06.340Z"
   },
   {
    "duration": 30,
    "start_time": "2022-04-17T17:30:34.432Z"
   },
   {
    "duration": 420,
    "start_time": "2022-04-17T17:31:39.975Z"
   },
   {
    "duration": 711,
    "start_time": "2022-04-17T17:31:47.672Z"
   },
   {
    "duration": 1381,
    "start_time": "2022-04-17T17:33:21.695Z"
   },
   {
    "duration": 129,
    "start_time": "2022-04-17T17:33:23.078Z"
   },
   {
    "duration": 30,
    "start_time": "2022-04-17T17:33:23.209Z"
   },
   {
    "duration": 23,
    "start_time": "2022-04-17T17:33:23.242Z"
   },
   {
    "duration": 41,
    "start_time": "2022-04-17T17:33:23.273Z"
   },
   {
    "duration": 4,
    "start_time": "2022-04-17T17:33:23.316Z"
   },
   {
    "duration": 36,
    "start_time": "2022-04-17T17:33:23.323Z"
   },
   {
    "duration": 23,
    "start_time": "2022-04-17T17:33:23.361Z"
   },
   {
    "duration": 9,
    "start_time": "2022-04-17T17:33:23.387Z"
   },
   {
    "duration": 12,
    "start_time": "2022-04-17T17:33:23.400Z"
   },
   {
    "duration": 13,
    "start_time": "2022-04-17T17:33:23.414Z"
   },
   {
    "duration": 13,
    "start_time": "2022-04-17T17:33:23.430Z"
   },
   {
    "duration": 10,
    "start_time": "2022-04-17T17:33:23.446Z"
   },
   {
    "duration": 5,
    "start_time": "2022-04-17T17:33:23.459Z"
   },
   {
    "duration": 4,
    "start_time": "2022-04-17T17:33:23.466Z"
   },
   {
    "duration": 11,
    "start_time": "2022-04-17T17:33:23.472Z"
   },
   {
    "duration": 8,
    "start_time": "2022-04-17T17:33:23.485Z"
   },
   {
    "duration": 6,
    "start_time": "2022-04-17T17:33:23.495Z"
   },
   {
    "duration": 697,
    "start_time": "2022-04-17T17:33:23.503Z"
   },
   {
    "duration": 8,
    "start_time": "2022-04-17T17:33:24.202Z"
   },
   {
    "duration": 31,
    "start_time": "2022-04-17T17:33:24.212Z"
   },
   {
    "duration": 5,
    "start_time": "2022-04-17T17:33:24.246Z"
   },
   {
    "duration": 28,
    "start_time": "2022-04-17T17:33:24.253Z"
   },
   {
    "duration": 25,
    "start_time": "2022-04-17T17:33:24.284Z"
   },
   {
    "duration": 1018,
    "start_time": "2022-04-17T17:33:24.311Z"
   },
   {
    "duration": 61,
    "start_time": "2022-04-17T17:33:25.331Z"
   },
   {
    "duration": 5,
    "start_time": "2022-04-17T17:33:25.395Z"
   },
   {
    "duration": 17,
    "start_time": "2022-04-17T17:33:25.403Z"
   },
   {
    "duration": 583,
    "start_time": "2022-04-17T17:33:25.427Z"
   },
   {
    "duration": 449,
    "start_time": "2022-04-17T17:33:26.012Z"
   },
   {
    "duration": 23,
    "start_time": "2022-04-17T17:33:26.463Z"
   },
   {
    "duration": 17,
    "start_time": "2022-04-17T17:33:26.488Z"
   },
   {
    "duration": 51,
    "start_time": "2022-04-17T17:33:26.507Z"
   },
   {
    "duration": 2795,
    "start_time": "2022-04-17T17:33:26.560Z"
   },
   {
    "duration": 33,
    "start_time": "2022-04-17T17:33:29.357Z"
   },
   {
    "duration": 57,
    "start_time": "2022-04-17T17:33:29.393Z"
   },
   {
    "duration": 505,
    "start_time": "2022-04-17T17:33:29.451Z"
   },
   {
    "duration": 777,
    "start_time": "2022-04-17T17:33:29.958Z"
   },
   {
    "duration": 9,
    "start_time": "2022-04-17T17:56:26.428Z"
   },
   {
    "duration": 637,
    "start_time": "2022-04-17T17:56:45.271Z"
   },
   {
    "duration": 70,
    "start_time": "2022-04-21T07:00:15.333Z"
   },
   {
    "duration": 1774,
    "start_time": "2022-04-21T07:00:26.811Z"
   },
   {
    "duration": 111,
    "start_time": "2022-04-21T07:00:28.587Z"
   },
   {
    "duration": 7,
    "start_time": "2022-04-21T07:00:28.701Z"
   },
   {
    "duration": 26,
    "start_time": "2022-04-21T07:00:28.712Z"
   },
   {
    "duration": 22,
    "start_time": "2022-04-21T07:00:28.752Z"
   },
   {
    "duration": 5,
    "start_time": "2022-04-21T07:00:28.777Z"
   },
   {
    "duration": 17,
    "start_time": "2022-04-21T07:00:28.785Z"
   },
   {
    "duration": 61,
    "start_time": "2022-04-21T07:00:28.804Z"
   },
   {
    "duration": 10,
    "start_time": "2022-04-21T07:00:28.868Z"
   },
   {
    "duration": 10,
    "start_time": "2022-04-21T07:00:28.884Z"
   },
   {
    "duration": 5,
    "start_time": "2022-04-21T07:00:28.897Z"
   },
   {
    "duration": 50,
    "start_time": "2022-04-21T07:00:28.905Z"
   },
   {
    "duration": 15,
    "start_time": "2022-04-21T07:00:28.958Z"
   },
   {
    "duration": 10,
    "start_time": "2022-04-21T07:00:28.975Z"
   },
   {
    "duration": 6,
    "start_time": "2022-04-21T07:00:28.987Z"
   },
   {
    "duration": 15,
    "start_time": "2022-04-21T07:00:28.995Z"
   },
   {
    "duration": 9,
    "start_time": "2022-04-21T07:00:29.012Z"
   },
   {
    "duration": 985,
    "start_time": "2022-04-21T07:00:29.023Z"
   },
   {
    "duration": 11,
    "start_time": "2022-04-21T07:00:30.010Z"
   },
   {
    "duration": 43,
    "start_time": "2022-04-21T07:00:30.023Z"
   },
   {
    "duration": 11,
    "start_time": "2022-04-21T07:00:30.068Z"
   },
   {
    "duration": 44,
    "start_time": "2022-04-21T07:00:30.081Z"
   },
   {
    "duration": 27,
    "start_time": "2022-04-21T07:00:30.127Z"
   },
   {
    "duration": 1099,
    "start_time": "2022-04-21T07:00:30.156Z"
   },
   {
    "duration": 38,
    "start_time": "2022-04-21T07:00:31.258Z"
   },
   {
    "duration": 5,
    "start_time": "2022-04-21T07:00:31.298Z"
   },
   {
    "duration": 50,
    "start_time": "2022-04-21T07:00:31.305Z"
   },
   {
    "duration": 695,
    "start_time": "2022-04-21T07:00:31.360Z"
   },
   {
    "duration": 607,
    "start_time": "2022-04-21T07:00:32.057Z"
   },
   {
    "duration": 20,
    "start_time": "2022-04-21T07:00:32.666Z"
   },
   {
    "duration": 30,
    "start_time": "2022-04-21T07:00:32.688Z"
   },
   {
    "duration": 47,
    "start_time": "2022-04-21T07:00:32.721Z"
   },
   {
    "duration": 2801,
    "start_time": "2022-04-21T07:00:32.771Z"
   },
   {
    "duration": 23,
    "start_time": "2022-04-21T07:00:35.574Z"
   },
   {
    "duration": 67,
    "start_time": "2022-04-21T07:00:35.600Z"
   },
   {
    "duration": 624,
    "start_time": "2022-04-21T07:00:35.669Z"
   },
   {
    "duration": 988,
    "start_time": "2022-04-21T07:00:36.295Z"
   },
   {
    "duration": 25,
    "start_time": "2022-04-21T07:00:37.285Z"
   },
   {
    "duration": 26,
    "start_time": "2022-04-21T07:01:00.023Z"
   },
   {
    "duration": 136,
    "start_time": "2022-04-21T08:35:31.650Z"
   },
   {
    "duration": 5,
    "start_time": "2022-04-21T08:35:39.809Z"
   },
   {
    "duration": 8,
    "start_time": "2022-04-21T08:35:47.411Z"
   },
   {
    "duration": 9,
    "start_time": "2022-04-21T08:35:57.643Z"
   },
   {
    "duration": 9,
    "start_time": "2022-04-21T08:36:31.564Z"
   },
   {
    "duration": 8,
    "start_time": "2022-04-21T08:37:07.452Z"
   },
   {
    "duration": 9,
    "start_time": "2022-04-21T08:37:25.441Z"
   },
   {
    "duration": 174,
    "start_time": "2022-04-21T08:44:02.891Z"
   },
   {
    "duration": 10,
    "start_time": "2022-04-21T08:44:13.400Z"
   },
   {
    "duration": 18,
    "start_time": "2022-04-21T08:45:02.059Z"
   },
   {
    "duration": 19,
    "start_time": "2022-04-21T08:45:31.132Z"
   },
   {
    "duration": 18,
    "start_time": "2022-04-21T08:52:47.077Z"
   },
   {
    "duration": 16,
    "start_time": "2022-04-21T08:52:54.696Z"
   },
   {
    "duration": 6,
    "start_time": "2022-04-21T08:53:37.903Z"
   },
   {
    "duration": 5,
    "start_time": "2022-04-21T08:54:33.700Z"
   },
   {
    "duration": 5,
    "start_time": "2022-04-21T08:54:35.886Z"
   },
   {
    "duration": 5,
    "start_time": "2022-04-21T08:54:40.838Z"
   },
   {
    "duration": 9,
    "start_time": "2022-04-21T08:54:44.180Z"
   },
   {
    "duration": 17,
    "start_time": "2022-04-21T08:54:52.191Z"
   },
   {
    "duration": 11,
    "start_time": "2022-04-21T08:54:55.794Z"
   },
   {
    "duration": 7,
    "start_time": "2022-04-21T08:54:58.388Z"
   },
   {
    "duration": 18,
    "start_time": "2022-04-21T08:55:19.486Z"
   },
   {
    "duration": 12,
    "start_time": "2022-04-21T08:55:35.024Z"
   },
   {
    "duration": 12,
    "start_time": "2022-04-21T08:58:40.393Z"
   },
   {
    "duration": 421,
    "start_time": "2022-04-21T08:58:55.286Z"
   },
   {
    "duration": 11,
    "start_time": "2022-04-21T09:00:19.956Z"
   },
   {
    "duration": 17,
    "start_time": "2022-04-21T09:00:23.309Z"
   },
   {
    "duration": 17,
    "start_time": "2022-04-21T09:00:38.887Z"
   },
   {
    "duration": 437,
    "start_time": "2022-04-21T09:00:47.660Z"
   },
   {
    "duration": 19,
    "start_time": "2022-04-21T09:01:43.720Z"
   },
   {
    "duration": 7,
    "start_time": "2022-04-21T09:01:49.993Z"
   },
   {
    "duration": 11,
    "start_time": "2022-04-21T09:02:00.628Z"
   },
   {
    "duration": 28,
    "start_time": "2022-04-21T09:03:16.500Z"
   },
   {
    "duration": 13,
    "start_time": "2022-04-21T09:03:20.856Z"
   },
   {
    "duration": 19,
    "start_time": "2022-04-21T09:03:26.834Z"
   },
   {
    "duration": 18,
    "start_time": "2022-04-21T09:03:33.747Z"
   },
   {
    "duration": 21,
    "start_time": "2022-04-21T09:03:53.626Z"
   },
   {
    "duration": 20,
    "start_time": "2022-04-21T09:03:58.808Z"
   },
   {
    "duration": 499,
    "start_time": "2022-04-21T09:04:06.483Z"
   },
   {
    "duration": 29,
    "start_time": "2022-04-21T09:04:28.496Z"
   },
   {
    "duration": 445,
    "start_time": "2022-04-21T09:04:37.344Z"
   },
   {
    "duration": 17,
    "start_time": "2022-04-21T09:05:32.805Z"
   },
   {
    "duration": 18,
    "start_time": "2022-04-21T09:05:49.959Z"
   },
   {
    "duration": 358,
    "start_time": "2022-04-21T09:05:54.015Z"
   },
   {
    "duration": 7,
    "start_time": "2022-04-21T09:08:19.202Z"
   },
   {
    "duration": 9,
    "start_time": "2022-04-21T09:08:22.081Z"
   },
   {
    "duration": 356,
    "start_time": "2022-04-21T09:08:50.687Z"
   },
   {
    "duration": 409,
    "start_time": "2022-04-21T09:09:27.118Z"
   },
   {
    "duration": 409,
    "start_time": "2022-04-21T09:09:48.426Z"
   },
   {
    "duration": 306,
    "start_time": "2022-04-21T09:10:02.655Z"
   },
   {
    "duration": 247,
    "start_time": "2022-04-21T09:10:36.789Z"
   },
   {
    "duration": 426,
    "start_time": "2022-04-21T09:10:43.446Z"
   },
   {
    "duration": 447,
    "start_time": "2022-04-21T09:11:06.482Z"
   },
   {
    "duration": 403,
    "start_time": "2022-04-21T09:11:17.729Z"
   },
   {
    "duration": 14,
    "start_time": "2022-04-21T09:12:10.977Z"
   },
   {
    "duration": 412,
    "start_time": "2022-04-21T09:12:19.972Z"
   },
   {
    "duration": 477,
    "start_time": "2022-04-21T09:39:37.645Z"
   },
   {
    "duration": 387,
    "start_time": "2022-04-21T09:40:01.223Z"
   },
   {
    "duration": 368,
    "start_time": "2022-04-21T09:40:10.929Z"
   },
   {
    "duration": 25,
    "start_time": "2022-04-21T09:48:15.270Z"
   },
   {
    "duration": 432,
    "start_time": "2022-04-21T09:50:29.455Z"
   },
   {
    "duration": 428,
    "start_time": "2022-04-21T09:51:14.760Z"
   },
   {
    "duration": 390,
    "start_time": "2022-04-21T09:51:40.315Z"
   },
   {
    "duration": 382,
    "start_time": "2022-04-21T09:51:46.212Z"
   },
   {
    "duration": 69,
    "start_time": "2022-04-22T07:53:23.429Z"
   },
   {
    "duration": 2945,
    "start_time": "2022-04-22T07:53:28.762Z"
   },
   {
    "duration": 187,
    "start_time": "2022-04-22T07:53:31.711Z"
   },
   {
    "duration": 6,
    "start_time": "2022-04-22T07:53:31.900Z"
   },
   {
    "duration": 29,
    "start_time": "2022-04-22T07:53:31.909Z"
   },
   {
    "duration": 22,
    "start_time": "2022-04-22T07:53:31.992Z"
   },
   {
    "duration": 4,
    "start_time": "2022-04-22T07:53:32.017Z"
   },
   {
    "duration": 71,
    "start_time": "2022-04-22T07:53:32.023Z"
   },
   {
    "duration": 21,
    "start_time": "2022-04-22T07:53:32.096Z"
   },
   {
    "duration": 9,
    "start_time": "2022-04-22T07:53:32.119Z"
   },
   {
    "duration": 66,
    "start_time": "2022-04-22T07:53:32.133Z"
   },
   {
    "duration": 5,
    "start_time": "2022-04-22T07:53:32.202Z"
   },
   {
    "duration": 7,
    "start_time": "2022-04-22T07:53:32.209Z"
   },
   {
    "duration": 12,
    "start_time": "2022-04-22T07:53:32.218Z"
   },
   {
    "duration": 4,
    "start_time": "2022-04-22T07:53:32.232Z"
   },
   {
    "duration": 3,
    "start_time": "2022-04-22T07:53:32.294Z"
   },
   {
    "duration": 13,
    "start_time": "2022-04-22T07:53:32.299Z"
   },
   {
    "duration": 10,
    "start_time": "2022-04-22T07:53:32.315Z"
   },
   {
    "duration": 1095,
    "start_time": "2022-04-22T07:53:32.327Z"
   },
   {
    "duration": 10,
    "start_time": "2022-04-22T07:53:33.424Z"
   },
   {
    "duration": 25,
    "start_time": "2022-04-22T07:53:33.437Z"
   },
   {
    "duration": 3,
    "start_time": "2022-04-22T07:53:33.464Z"
   },
   {
    "duration": 51,
    "start_time": "2022-04-22T07:53:33.469Z"
   },
   {
    "duration": 35,
    "start_time": "2022-04-22T07:53:33.523Z"
   },
   {
    "duration": 1269,
    "start_time": "2022-04-22T07:53:33.561Z"
   },
   {
    "duration": 36,
    "start_time": "2022-04-22T07:53:34.832Z"
   },
   {
    "duration": 5,
    "start_time": "2022-04-22T07:53:34.870Z"
   },
   {
    "duration": 34,
    "start_time": "2022-04-22T07:53:34.877Z"
   },
   {
    "duration": 656,
    "start_time": "2022-04-22T07:53:34.916Z"
   },
   {
    "duration": 591,
    "start_time": "2022-04-22T07:53:35.574Z"
   },
   {
    "duration": 27,
    "start_time": "2022-04-22T07:53:36.168Z"
   },
   {
    "duration": 25,
    "start_time": "2022-04-22T07:53:36.198Z"
   },
   {
    "duration": 25,
    "start_time": "2022-04-22T07:53:36.225Z"
   },
   {
    "duration": 2721,
    "start_time": "2022-04-22T07:53:36.252Z"
   },
   {
    "duration": 38,
    "start_time": "2022-04-22T07:53:38.975Z"
   },
   {
    "duration": 86,
    "start_time": "2022-04-22T07:53:39.016Z"
   },
   {
    "duration": 562,
    "start_time": "2022-04-22T07:53:39.105Z"
   },
   {
    "duration": 1037,
    "start_time": "2022-04-22T07:53:39.670Z"
   },
   {
    "duration": 24,
    "start_time": "2022-04-22T07:53:40.710Z"
   },
   {
    "duration": 405,
    "start_time": "2022-04-22T07:53:40.736Z"
   },
   {
    "duration": 396,
    "start_time": "2022-04-22T07:53:41.143Z"
   },
   {
    "duration": 500,
    "start_time": "2022-04-22T07:53:41.541Z"
   },
   {
    "duration": 24,
    "start_time": "2022-04-22T07:53:42.044Z"
   },
   {
    "duration": 473,
    "start_time": "2022-04-22T07:53:42.071Z"
   },
   {
    "duration": 434,
    "start_time": "2022-04-22T07:53:42.546Z"
   },
   {
    "duration": 417,
    "start_time": "2022-04-22T07:53:42.982Z"
   },
   {
    "duration": 25,
    "start_time": "2022-04-22T07:53:43.401Z"
   },
   {
    "duration": 163,
    "start_time": "2022-04-22T07:54:17.957Z"
   },
   {
    "duration": 21,
    "start_time": "2022-04-22T07:54:32.667Z"
   },
   {
    "duration": 164,
    "start_time": "2022-04-22T07:54:56.288Z"
   },
   {
    "duration": 22,
    "start_time": "2022-04-22T07:55:02.237Z"
   },
   {
    "duration": 18,
    "start_time": "2022-04-22T07:55:32.128Z"
   },
   {
    "duration": 18,
    "start_time": "2022-04-22T07:56:11.226Z"
   },
   {
    "duration": 19,
    "start_time": "2022-04-22T07:56:35.274Z"
   },
   {
    "duration": 19,
    "start_time": "2022-04-22T07:58:44.551Z"
   },
   {
    "duration": 22,
    "start_time": "2022-04-22T07:58:57.534Z"
   },
   {
    "duration": 364,
    "start_time": "2022-04-22T08:00:16.266Z"
   },
   {
    "duration": 379,
    "start_time": "2022-04-22T08:01:15.959Z"
   },
   {
    "duration": 409,
    "start_time": "2022-04-22T08:01:53.130Z"
   },
   {
    "duration": 11,
    "start_time": "2022-04-22T08:36:07.441Z"
   },
   {
    "duration": 27,
    "start_time": "2022-04-22T08:40:04.229Z"
   },
   {
    "duration": 4,
    "start_time": "2022-04-22T08:40:31.095Z"
   },
   {
    "duration": 13,
    "start_time": "2022-04-22T08:40:34.263Z"
   },
   {
    "duration": 27,
    "start_time": "2022-04-22T08:41:13.091Z"
   },
   {
    "duration": 14,
    "start_time": "2022-04-22T08:41:26.555Z"
   },
   {
    "duration": 14,
    "start_time": "2022-04-22T08:42:11.755Z"
   },
   {
    "duration": 14,
    "start_time": "2022-04-22T08:44:05.096Z"
   },
   {
    "duration": 15,
    "start_time": "2022-04-22T08:44:13.081Z"
   },
   {
    "duration": 14,
    "start_time": "2022-04-22T08:45:31.794Z"
   },
   {
    "duration": 15,
    "start_time": "2022-04-22T08:45:44.790Z"
   },
   {
    "duration": 14,
    "start_time": "2022-04-22T08:45:49.509Z"
   },
   {
    "duration": 15,
    "start_time": "2022-04-22T08:45:51.720Z"
   },
   {
    "duration": 22,
    "start_time": "2022-04-22T08:47:06.178Z"
   },
   {
    "duration": 23,
    "start_time": "2022-04-22T08:47:30.461Z"
   },
   {
    "duration": 23,
    "start_time": "2022-04-22T08:48:15.461Z"
   },
   {
    "duration": 19,
    "start_time": "2022-04-22T08:49:05.113Z"
   },
   {
    "duration": 19,
    "start_time": "2022-04-22T08:49:30.433Z"
   },
   {
    "duration": 18,
    "start_time": "2022-04-22T08:49:34.653Z"
   },
   {
    "duration": 20,
    "start_time": "2022-04-22T08:50:23.664Z"
   },
   {
    "duration": 25,
    "start_time": "2022-04-22T08:51:02.532Z"
   },
   {
    "duration": 18,
    "start_time": "2022-04-22T08:51:16.551Z"
   },
   {
    "duration": 24,
    "start_time": "2022-04-22T08:51:28.517Z"
   },
   {
    "duration": 26,
    "start_time": "2022-04-22T08:51:32.963Z"
   },
   {
    "duration": 14,
    "start_time": "2022-04-22T08:56:26.744Z"
   },
   {
    "duration": 14,
    "start_time": "2022-04-22T08:56:32.180Z"
   },
   {
    "duration": 14,
    "start_time": "2022-04-22T08:56:39.405Z"
   },
   {
    "duration": 1672,
    "start_time": "2022-04-22T09:09:06.049Z"
   },
   {
    "duration": 158,
    "start_time": "2022-04-22T09:09:07.724Z"
   },
   {
    "duration": 6,
    "start_time": "2022-04-22T09:09:07.885Z"
   },
   {
    "duration": 34,
    "start_time": "2022-04-22T09:09:07.894Z"
   },
   {
    "duration": 22,
    "start_time": "2022-04-22T09:09:07.930Z"
   },
   {
    "duration": 5,
    "start_time": "2022-04-22T09:09:07.954Z"
   },
   {
    "duration": 40,
    "start_time": "2022-04-22T09:09:07.962Z"
   },
   {
    "duration": 29,
    "start_time": "2022-04-22T09:09:08.004Z"
   },
   {
    "duration": 14,
    "start_time": "2022-04-22T09:09:08.036Z"
   },
   {
    "duration": 44,
    "start_time": "2022-04-22T09:09:08.055Z"
   },
   {
    "duration": 6,
    "start_time": "2022-04-22T09:09:08.103Z"
   },
   {
    "duration": 13,
    "start_time": "2022-04-22T09:09:08.111Z"
   },
   {
    "duration": 14,
    "start_time": "2022-04-22T09:09:08.126Z"
   },
   {
    "duration": 16,
    "start_time": "2022-04-22T09:09:08.142Z"
   },
   {
    "duration": 13,
    "start_time": "2022-04-22T09:09:08.160Z"
   },
   {
    "duration": 30,
    "start_time": "2022-04-22T09:09:08.175Z"
   },
   {
    "duration": 12,
    "start_time": "2022-04-22T09:09:08.208Z"
   },
   {
    "duration": 908,
    "start_time": "2022-04-22T09:09:08.223Z"
   },
   {
    "duration": 13,
    "start_time": "2022-04-22T09:09:09.135Z"
   },
   {
    "duration": 45,
    "start_time": "2022-04-22T09:09:09.150Z"
   },
   {
    "duration": 4,
    "start_time": "2022-04-22T09:09:09.197Z"
   },
   {
    "duration": 35,
    "start_time": "2022-04-22T09:09:09.203Z"
   },
   {
    "duration": 26,
    "start_time": "2022-04-22T09:09:09.241Z"
   },
   {
    "duration": 1136,
    "start_time": "2022-04-22T09:09:09.270Z"
   },
   {
    "duration": 38,
    "start_time": "2022-04-22T09:09:10.408Z"
   },
   {
    "duration": 5,
    "start_time": "2022-04-22T09:09:10.449Z"
   },
   {
    "duration": 54,
    "start_time": "2022-04-22T09:09:10.457Z"
   },
   {
    "duration": 720,
    "start_time": "2022-04-22T09:09:10.517Z"
   },
   {
    "duration": 640,
    "start_time": "2022-04-22T09:09:11.240Z"
   },
   {
    "duration": 25,
    "start_time": "2022-04-22T09:09:11.882Z"
   },
   {
    "duration": 38,
    "start_time": "2022-04-22T09:09:11.909Z"
   },
   {
    "duration": 51,
    "start_time": "2022-04-22T09:09:11.949Z"
   },
   {
    "duration": 3564,
    "start_time": "2022-04-22T09:09:12.002Z"
   },
   {
    "duration": 44,
    "start_time": "2022-04-22T09:09:15.569Z"
   },
   {
    "duration": 88,
    "start_time": "2022-04-22T09:09:15.617Z"
   },
   {
    "duration": 789,
    "start_time": "2022-04-22T09:09:15.708Z"
   },
   {
    "duration": 1072,
    "start_time": "2022-04-22T09:09:16.500Z"
   },
   {
    "duration": 34,
    "start_time": "2022-04-22T09:09:17.575Z"
   },
   {
    "duration": 422,
    "start_time": "2022-04-22T09:09:17.612Z"
   },
   {
    "duration": 536,
    "start_time": "2022-04-22T09:09:18.036Z"
   },
   {
    "duration": 518,
    "start_time": "2022-04-22T09:09:18.575Z"
   },
   {
    "duration": 25,
    "start_time": "2022-04-22T09:09:19.096Z"
   },
   {
    "duration": 443,
    "start_time": "2022-04-22T09:09:19.123Z"
   },
   {
    "duration": 503,
    "start_time": "2022-04-22T09:09:19.568Z"
   },
   {
    "duration": 421,
    "start_time": "2022-04-22T09:09:20.074Z"
   },
   {
    "duration": 25,
    "start_time": "2022-04-22T09:09:20.498Z"
   },
   {
    "duration": 405,
    "start_time": "2022-04-22T09:09:20.525Z"
   },
   {
    "duration": 435,
    "start_time": "2022-04-22T09:09:20.933Z"
   },
   {
    "duration": 393,
    "start_time": "2022-04-22T09:09:21.371Z"
   },
   {
    "duration": 35,
    "start_time": "2022-04-22T09:09:21.767Z"
   },
   {
    "duration": 16,
    "start_time": "2022-04-22T09:09:21.804Z"
   },
   {
    "duration": 26,
    "start_time": "2022-04-22T09:09:21.823Z"
   },
   {
    "duration": 14,
    "start_time": "2022-04-22T09:09:21.893Z"
   },
   {
    "duration": 1472,
    "start_time": "2022-04-29T12:40:26.913Z"
   },
   {
    "duration": 100,
    "start_time": "2022-04-29T12:40:28.388Z"
   },
   {
    "duration": 6,
    "start_time": "2022-04-29T12:40:28.490Z"
   },
   {
    "duration": 29,
    "start_time": "2022-04-29T12:40:28.499Z"
   },
   {
    "duration": 35,
    "start_time": "2022-04-29T12:40:28.531Z"
   },
   {
    "duration": 4,
    "start_time": "2022-04-29T12:40:28.569Z"
   },
   {
    "duration": 16,
    "start_time": "2022-04-29T12:40:28.575Z"
   },
   {
    "duration": 19,
    "start_time": "2022-04-29T12:40:28.594Z"
   },
   {
    "duration": 48,
    "start_time": "2022-04-29T12:40:28.615Z"
   },
   {
    "duration": 10,
    "start_time": "2022-04-29T12:40:28.666Z"
   },
   {
    "duration": 6,
    "start_time": "2022-04-29T12:40:28.678Z"
   },
   {
    "duration": 10,
    "start_time": "2022-04-29T12:40:28.686Z"
   },
   {
    "duration": 18,
    "start_time": "2022-04-29T12:40:28.698Z"
   },
   {
    "duration": 5,
    "start_time": "2022-04-29T12:40:28.721Z"
   },
   {
    "duration": 28,
    "start_time": "2022-04-29T12:40:28.728Z"
   },
   {
    "duration": 19,
    "start_time": "2022-04-29T12:40:28.759Z"
   },
   {
    "duration": 9,
    "start_time": "2022-04-29T12:40:28.780Z"
   },
   {
    "duration": 900,
    "start_time": "2022-04-29T12:40:28.792Z"
   },
   {
    "duration": 10,
    "start_time": "2022-04-29T12:40:29.695Z"
   },
   {
    "duration": 25,
    "start_time": "2022-04-29T12:40:29.707Z"
   },
   {
    "duration": 13,
    "start_time": "2022-04-29T12:40:29.752Z"
   },
   {
    "duration": 33,
    "start_time": "2022-04-29T12:40:29.767Z"
   },
   {
    "duration": 23,
    "start_time": "2022-04-29T12:40:29.802Z"
   },
   {
    "duration": 1182,
    "start_time": "2022-04-29T12:40:29.827Z"
   },
   {
    "duration": 39,
    "start_time": "2022-04-29T12:40:31.011Z"
   },
   {
    "duration": 11,
    "start_time": "2022-04-29T12:40:31.054Z"
   },
   {
    "duration": 36,
    "start_time": "2022-04-29T12:40:31.068Z"
   },
   {
    "duration": 713,
    "start_time": "2022-04-29T12:40:31.107Z"
   },
   {
    "duration": 681,
    "start_time": "2022-04-29T12:40:31.823Z"
   },
   {
    "duration": 20,
    "start_time": "2022-04-29T12:40:32.507Z"
   },
   {
    "duration": 49,
    "start_time": "2022-04-29T12:40:32.530Z"
   },
   {
    "duration": 26,
    "start_time": "2022-04-29T12:40:32.582Z"
   },
   {
    "duration": 3157,
    "start_time": "2022-04-29T12:40:32.611Z"
   },
   {
    "duration": 29,
    "start_time": "2022-04-29T12:40:35.770Z"
   },
   {
    "duration": 75,
    "start_time": "2022-04-29T12:40:35.802Z"
   },
   {
    "duration": 612,
    "start_time": "2022-04-29T12:40:35.879Z"
   },
   {
    "duration": 1012,
    "start_time": "2022-04-29T12:40:36.494Z"
   },
   {
    "duration": 24,
    "start_time": "2022-04-29T12:40:37.508Z"
   },
   {
    "duration": 454,
    "start_time": "2022-04-29T12:40:37.534Z"
   },
   {
    "duration": 425,
    "start_time": "2022-04-29T12:40:37.991Z"
   },
   {
    "duration": 499,
    "start_time": "2022-04-29T12:40:38.424Z"
   },
   {
    "duration": 32,
    "start_time": "2022-04-29T12:40:38.926Z"
   },
   {
    "duration": 449,
    "start_time": "2022-04-29T12:40:38.961Z"
   },
   {
    "duration": 403,
    "start_time": "2022-04-29T12:40:39.413Z"
   },
   {
    "duration": 420,
    "start_time": "2022-04-29T12:40:39.818Z"
   },
   {
    "duration": 31,
    "start_time": "2022-04-29T12:40:40.240Z"
   },
   {
    "duration": 393,
    "start_time": "2022-04-29T12:40:40.273Z"
   },
   {
    "duration": 419,
    "start_time": "2022-04-29T12:40:40.668Z"
   },
   {
    "duration": 389,
    "start_time": "2022-04-29T12:40:41.089Z"
   },
   {
    "duration": 20,
    "start_time": "2022-04-29T12:40:41.480Z"
   },
   {
    "duration": 16,
    "start_time": "2022-04-29T12:40:41.502Z"
   },
   {
    "duration": 48,
    "start_time": "2022-04-29T12:40:41.520Z"
   },
   {
    "duration": 15,
    "start_time": "2022-04-29T12:40:41.570Z"
   },
   {
    "duration": 141,
    "start_time": "2022-04-29T12:48:37.098Z"
   },
   {
    "duration": 2008,
    "start_time": "2022-05-02T10:28:09.855Z"
   },
   {
    "duration": 111,
    "start_time": "2022-05-02T10:28:11.866Z"
   },
   {
    "duration": 6,
    "start_time": "2022-05-02T10:28:11.980Z"
   },
   {
    "duration": 31,
    "start_time": "2022-05-02T10:28:11.989Z"
   },
   {
    "duration": 22,
    "start_time": "2022-05-02T10:28:12.023Z"
   },
   {
    "duration": 3,
    "start_time": "2022-05-02T10:28:12.047Z"
   },
   {
    "duration": 39,
    "start_time": "2022-05-02T10:28:12.053Z"
   },
   {
    "duration": 27,
    "start_time": "2022-05-02T10:28:12.095Z"
   },
   {
    "duration": 11,
    "start_time": "2022-05-02T10:28:12.125Z"
   },
   {
    "duration": 11,
    "start_time": "2022-05-02T10:28:12.138Z"
   },
   {
    "duration": 32,
    "start_time": "2022-05-02T10:28:12.151Z"
   },
   {
    "duration": 9,
    "start_time": "2022-05-02T10:28:12.187Z"
   },
   {
    "duration": 13,
    "start_time": "2022-05-02T10:28:12.197Z"
   },
   {
    "duration": 3,
    "start_time": "2022-05-02T10:28:12.215Z"
   },
   {
    "duration": 12,
    "start_time": "2022-05-02T10:28:12.220Z"
   },
   {
    "duration": 13,
    "start_time": "2022-05-02T10:28:12.233Z"
   },
   {
    "duration": 39,
    "start_time": "2022-05-02T10:28:12.248Z"
   },
   {
    "duration": 1064,
    "start_time": "2022-05-02T10:28:12.290Z"
   },
   {
    "duration": 10,
    "start_time": "2022-05-02T10:28:13.356Z"
   },
   {
    "duration": 40,
    "start_time": "2022-05-02T10:28:13.368Z"
   },
   {
    "duration": 4,
    "start_time": "2022-05-02T10:28:13.410Z"
   },
   {
    "duration": 27,
    "start_time": "2022-05-02T10:28:13.416Z"
   },
   {
    "duration": 58,
    "start_time": "2022-05-02T10:28:13.445Z"
   },
   {
    "duration": 1250,
    "start_time": "2022-05-02T10:28:13.505Z"
   },
   {
    "duration": 41,
    "start_time": "2022-05-02T10:28:14.757Z"
   },
   {
    "duration": 5,
    "start_time": "2022-05-02T10:28:14.801Z"
   },
   {
    "duration": 29,
    "start_time": "2022-05-02T10:28:14.808Z"
   },
   {
    "duration": 801,
    "start_time": "2022-05-02T10:28:14.839Z"
   },
   {
    "duration": 624,
    "start_time": "2022-05-02T10:28:15.642Z"
   },
   {
    "duration": 32,
    "start_time": "2022-05-02T10:28:16.269Z"
   },
   {
    "duration": 25,
    "start_time": "2022-05-02T10:28:16.304Z"
   },
   {
    "duration": 55,
    "start_time": "2022-05-02T10:28:16.332Z"
   },
   {
    "duration": 3026,
    "start_time": "2022-05-02T10:28:16.389Z"
   },
   {
    "duration": 27,
    "start_time": "2022-05-02T10:28:19.418Z"
   },
   {
    "duration": 78,
    "start_time": "2022-05-02T10:28:19.447Z"
   },
   {
    "duration": 621,
    "start_time": "2022-05-02T10:28:19.527Z"
   },
   {
    "duration": 1006,
    "start_time": "2022-05-02T10:28:20.150Z"
   },
   {
    "duration": 39,
    "start_time": "2022-05-02T10:28:21.158Z"
   },
   {
    "duration": 434,
    "start_time": "2022-05-02T10:28:21.200Z"
   },
   {
    "duration": 408,
    "start_time": "2022-05-02T10:28:21.636Z"
   },
   {
    "duration": 515,
    "start_time": "2022-05-02T10:28:22.050Z"
   },
   {
    "duration": 32,
    "start_time": "2022-05-02T10:28:22.568Z"
   },
   {
    "duration": 434,
    "start_time": "2022-05-02T10:28:22.605Z"
   },
   {
    "duration": 426,
    "start_time": "2022-05-02T10:28:23.041Z"
   },
   {
    "duration": 527,
    "start_time": "2022-05-02T10:28:23.469Z"
   },
   {
    "duration": 22,
    "start_time": "2022-05-02T10:28:23.999Z"
   },
   {
    "duration": 407,
    "start_time": "2022-05-02T10:28:24.023Z"
   },
   {
    "duration": 415,
    "start_time": "2022-05-02T10:28:24.432Z"
   },
   {
    "duration": 375,
    "start_time": "2022-05-02T10:28:24.850Z"
   },
   {
    "duration": 20,
    "start_time": "2022-05-02T10:28:25.227Z"
   },
   {
    "duration": 14,
    "start_time": "2022-05-02T10:28:25.249Z"
   },
   {
    "duration": 23,
    "start_time": "2022-05-02T10:28:25.285Z"
   },
   {
    "duration": 21,
    "start_time": "2022-05-02T10:28:25.310Z"
   },
   {
    "duration": 1585,
    "start_time": "2022-05-02T10:29:57.848Z"
   },
   {
    "duration": 128,
    "start_time": "2022-05-02T10:30:00.274Z"
   },
   {
    "duration": 7,
    "start_time": "2022-05-02T10:30:02.279Z"
   },
   {
    "duration": 36,
    "start_time": "2022-05-02T10:30:04.267Z"
   },
   {
    "duration": 21,
    "start_time": "2022-05-02T10:30:06.123Z"
   },
   {
    "duration": 4,
    "start_time": "2022-05-02T10:30:08.537Z"
   },
   {
    "duration": 16,
    "start_time": "2022-05-02T10:30:10.047Z"
   },
   {
    "duration": 30,
    "start_time": "2022-05-02T10:30:11.885Z"
   },
   {
    "duration": 11,
    "start_time": "2022-05-02T10:30:13.188Z"
   },
   {
    "duration": 273,
    "start_time": "2022-05-02T10:30:21.261Z"
   },
   {
    "duration": 6,
    "start_time": "2022-05-02T10:30:23.737Z"
   },
   {
    "duration": 9,
    "start_time": "2022-05-02T10:31:05.017Z"
   },
   {
    "duration": 14,
    "start_time": "2022-05-02T10:31:08.884Z"
   },
   {
    "duration": 36,
    "start_time": "2022-05-02T10:35:15.221Z"
   },
   {
    "duration": 30,
    "start_time": "2022-05-02T10:35:35.197Z"
   },
   {
    "duration": 4,
    "start_time": "2022-05-02T10:41:38.027Z"
   },
   {
    "duration": 6,
    "start_time": "2022-05-02T10:41:39.581Z"
   },
   {
    "duration": 9,
    "start_time": "2022-05-02T10:41:40.478Z"
   },
   {
    "duration": 11,
    "start_time": "2022-05-02T10:41:44.050Z"
   },
   {
    "duration": 16,
    "start_time": "2022-05-02T10:41:45.577Z"
   },
   {
    "duration": 954,
    "start_time": "2022-05-02T10:41:56.871Z"
   },
   {
    "duration": 16,
    "start_time": "2022-05-02T10:44:25.238Z"
   },
   {
    "duration": 25,
    "start_time": "2022-05-02T10:44:28.595Z"
   },
   {
    "duration": 5,
    "start_time": "2022-05-02T10:44:44.282Z"
   },
   {
    "duration": 39,
    "start_time": "2022-05-02T10:44:46.709Z"
   },
   {
    "duration": 38,
    "start_time": "2022-05-02T10:44:49.477Z"
   },
   {
    "duration": 1146,
    "start_time": "2022-05-02T10:44:51.480Z"
   },
   {
    "duration": 39,
    "start_time": "2022-05-02T10:44:58.125Z"
   },
   {
    "duration": 6,
    "start_time": "2022-05-02T10:45:01.934Z"
   },
   {
    "duration": 34,
    "start_time": "2022-05-02T10:45:09.101Z"
   },
   {
    "duration": 773,
    "start_time": "2022-05-02T10:45:12.407Z"
   },
   {
    "duration": 620,
    "start_time": "2022-05-02T10:45:18.598Z"
   },
   {
    "duration": 26,
    "start_time": "2022-05-02T10:46:17.360Z"
   },
   {
    "duration": 22,
    "start_time": "2022-05-02T10:46:37.641Z"
   },
   {
    "duration": 20,
    "start_time": "2022-05-02T10:53:22.702Z"
   },
   {
    "duration": 14,
    "start_time": "2022-05-02T10:53:45.638Z"
   },
   {
    "duration": 5,
    "start_time": "2022-05-02T10:53:50.353Z"
   },
   {
    "duration": 29,
    "start_time": "2022-05-02T10:53:53.710Z"
   },
   {
    "duration": 23,
    "start_time": "2022-05-02T10:54:08.493Z"
   },
   {
    "duration": 15,
    "start_time": "2022-05-02T10:55:02.659Z"
   },
   {
    "duration": 24,
    "start_time": "2022-05-02T10:55:18.661Z"
   },
   {
    "duration": 27,
    "start_time": "2022-05-02T10:55:44.479Z"
   },
   {
    "duration": 24,
    "start_time": "2022-05-02T10:56:02.312Z"
   },
   {
    "duration": 22,
    "start_time": "2022-05-02T10:56:04.055Z"
   },
   {
    "duration": 443,
    "start_time": "2022-05-02T10:56:17.299Z"
   },
   {
    "duration": 383,
    "start_time": "2022-05-02T10:57:13.664Z"
   },
   {
    "duration": 527,
    "start_time": "2022-05-02T10:58:07.631Z"
   },
   {
    "duration": 335,
    "start_time": "2022-05-02T10:58:14.600Z"
   },
   {
    "duration": 475,
    "start_time": "2022-05-02T10:58:33.388Z"
   },
   {
    "duration": 552,
    "start_time": "2022-05-02T10:59:29.284Z"
   },
   {
    "duration": 9,
    "start_time": "2022-05-02T10:59:45.531Z"
   },
   {
    "duration": 640,
    "start_time": "2022-05-02T10:59:52.870Z"
   },
   {
    "duration": 8,
    "start_time": "2022-05-02T11:00:10.880Z"
   },
   {
    "duration": 614,
    "start_time": "2022-05-02T11:00:34.375Z"
   },
   {
    "duration": 947,
    "start_time": "2022-05-02T11:00:40.259Z"
   },
   {
    "duration": 28,
    "start_time": "2022-05-02T11:01:27.350Z"
   },
   {
    "duration": 27,
    "start_time": "2022-05-02T11:03:41.281Z"
   },
   {
    "duration": 37,
    "start_time": "2022-05-02T11:03:45.319Z"
   },
   {
    "duration": 2919,
    "start_time": "2022-05-02T11:03:47.102Z"
   },
   {
    "duration": 29,
    "start_time": "2022-05-02T11:03:57.462Z"
   },
   {
    "duration": 49,
    "start_time": "2022-05-02T11:04:00.266Z"
   },
   {
    "duration": 740,
    "start_time": "2022-05-02T11:04:02.159Z"
   },
   {
    "duration": 671,
    "start_time": "2022-05-02T11:04:18.135Z"
   },
   {
    "duration": 6,
    "start_time": "2022-05-02T11:04:30.737Z"
   },
   {
    "duration": 553,
    "start_time": "2022-05-02T11:04:33.603Z"
   },
   {
    "duration": 683,
    "start_time": "2022-05-02T11:04:54.162Z"
   },
   {
    "duration": 840,
    "start_time": "2022-05-02T11:05:15.180Z"
   },
   {
    "duration": 857,
    "start_time": "2022-05-02T11:05:28.259Z"
   },
   {
    "duration": 703,
    "start_time": "2022-05-02T11:05:33.066Z"
   },
   {
    "duration": 771,
    "start_time": "2022-05-02T11:05:54.303Z"
   },
   {
    "duration": 692,
    "start_time": "2022-05-02T11:06:13.520Z"
   },
   {
    "duration": 670,
    "start_time": "2022-05-02T11:06:18.565Z"
   },
   {
    "duration": 703,
    "start_time": "2022-05-02T11:06:56.767Z"
   },
   {
    "duration": 617,
    "start_time": "2022-05-02T11:07:04.019Z"
   },
   {
    "duration": 703,
    "start_time": "2022-05-02T11:07:12.710Z"
   },
   {
    "duration": 677,
    "start_time": "2022-05-02T11:10:55.231Z"
   },
   {
    "duration": 794,
    "start_time": "2022-05-02T11:10:58.102Z"
   },
   {
    "duration": 702,
    "start_time": "2022-05-02T11:11:05.341Z"
   },
   {
    "duration": 1272,
    "start_time": "2022-05-04T08:04:43.694Z"
   },
   {
    "duration": 1276,
    "start_time": "2022-05-04T08:05:02.273Z"
   },
   {
    "duration": 89,
    "start_time": "2022-05-04T08:05:03.551Z"
   },
   {
    "duration": 5,
    "start_time": "2022-05-04T08:05:03.642Z"
   },
   {
    "duration": 26,
    "start_time": "2022-05-04T08:05:03.649Z"
   },
   {
    "duration": 19,
    "start_time": "2022-05-04T08:05:03.677Z"
   },
   {
    "duration": 3,
    "start_time": "2022-05-04T08:05:03.698Z"
   },
   {
    "duration": 16,
    "start_time": "2022-05-04T08:05:03.703Z"
   },
   {
    "duration": 15,
    "start_time": "2022-05-04T08:05:03.721Z"
   },
   {
    "duration": 8,
    "start_time": "2022-05-04T08:05:03.738Z"
   },
   {
    "duration": 25,
    "start_time": "2022-05-04T08:05:03.749Z"
   },
   {
    "duration": 22,
    "start_time": "2022-05-04T08:05:03.776Z"
   },
   {
    "duration": 9,
    "start_time": "2022-05-04T08:05:03.800Z"
   },
   {
    "duration": 3,
    "start_time": "2022-05-04T08:05:03.811Z"
   },
   {
    "duration": 6,
    "start_time": "2022-05-04T08:05:03.816Z"
   },
   {
    "duration": 9,
    "start_time": "2022-05-04T08:05:03.824Z"
   },
   {
    "duration": 38,
    "start_time": "2022-05-04T08:05:03.835Z"
   },
   {
    "duration": 7,
    "start_time": "2022-05-04T08:05:03.875Z"
   },
   {
    "duration": 12,
    "start_time": "2022-05-04T08:05:03.884Z"
   },
   {
    "duration": 929,
    "start_time": "2022-05-04T08:05:03.898Z"
   },
   {
    "duration": 0,
    "start_time": "2022-05-04T08:05:04.830Z"
   },
   {
    "duration": 0,
    "start_time": "2022-05-04T08:05:04.832Z"
   },
   {
    "duration": 0,
    "start_time": "2022-05-04T08:05:04.834Z"
   },
   {
    "duration": 0,
    "start_time": "2022-05-04T08:05:04.836Z"
   },
   {
    "duration": 0,
    "start_time": "2022-05-04T08:05:04.837Z"
   },
   {
    "duration": 0,
    "start_time": "2022-05-04T08:05:04.839Z"
   },
   {
    "duration": 0,
    "start_time": "2022-05-04T08:05:04.841Z"
   },
   {
    "duration": 0,
    "start_time": "2022-05-04T08:05:04.842Z"
   },
   {
    "duration": 0,
    "start_time": "2022-05-04T08:05:04.844Z"
   },
   {
    "duration": 0,
    "start_time": "2022-05-04T08:05:04.846Z"
   },
   {
    "duration": 0,
    "start_time": "2022-05-04T08:05:04.847Z"
   },
   {
    "duration": 0,
    "start_time": "2022-05-04T08:05:04.849Z"
   },
   {
    "duration": 0,
    "start_time": "2022-05-04T08:05:04.874Z"
   },
   {
    "duration": 0,
    "start_time": "2022-05-04T08:05:04.875Z"
   },
   {
    "duration": 0,
    "start_time": "2022-05-04T08:05:04.877Z"
   },
   {
    "duration": 0,
    "start_time": "2022-05-04T08:05:04.879Z"
   },
   {
    "duration": 0,
    "start_time": "2022-05-04T08:05:04.880Z"
   },
   {
    "duration": 0,
    "start_time": "2022-05-04T08:05:04.882Z"
   },
   {
    "duration": 0,
    "start_time": "2022-05-04T08:05:04.883Z"
   },
   {
    "duration": 0,
    "start_time": "2022-05-04T08:05:04.885Z"
   },
   {
    "duration": 0,
    "start_time": "2022-05-04T08:05:04.887Z"
   },
   {
    "duration": 0,
    "start_time": "2022-05-04T08:05:04.888Z"
   },
   {
    "duration": 0,
    "start_time": "2022-05-04T08:05:04.890Z"
   },
   {
    "duration": 0,
    "start_time": "2022-05-04T08:05:04.891Z"
   },
   {
    "duration": 0,
    "start_time": "2022-05-04T08:05:04.893Z"
   },
   {
    "duration": 0,
    "start_time": "2022-05-04T08:05:04.894Z"
   },
   {
    "duration": 0,
    "start_time": "2022-05-04T08:05:04.896Z"
   },
   {
    "duration": 0,
    "start_time": "2022-05-04T08:05:04.897Z"
   },
   {
    "duration": 0,
    "start_time": "2022-05-04T08:05:04.899Z"
   },
   {
    "duration": 0,
    "start_time": "2022-05-04T08:05:04.900Z"
   },
   {
    "duration": 0,
    "start_time": "2022-05-04T08:05:04.902Z"
   },
   {
    "duration": 0,
    "start_time": "2022-05-04T08:05:04.904Z"
   },
   {
    "duration": 0,
    "start_time": "2022-05-04T08:05:04.905Z"
   },
   {
    "duration": 0,
    "start_time": "2022-05-04T08:05:04.907Z"
   },
   {
    "duration": 0,
    "start_time": "2022-05-04T08:05:04.908Z"
   },
   {
    "duration": 1,
    "start_time": "2022-05-04T08:05:04.909Z"
   },
   {
    "duration": 0,
    "start_time": "2022-05-04T08:05:04.911Z"
   },
   {
    "duration": 0,
    "start_time": "2022-05-04T08:05:04.912Z"
   },
   {
    "duration": 10,
    "start_time": "2022-05-04T08:05:12.937Z"
   },
   {
    "duration": 594,
    "start_time": "2022-05-04T08:05:18.645Z"
   },
   {
    "duration": 8,
    "start_time": "2022-05-04T08:05:22.052Z"
   },
   {
    "duration": 16,
    "start_time": "2022-05-04T08:05:23.721Z"
   },
   {
    "duration": 2,
    "start_time": "2022-05-04T08:07:09.464Z"
   },
   {
    "duration": 4,
    "start_time": "2022-05-04T08:07:13.788Z"
   },
   {
    "duration": 5,
    "start_time": "2022-05-04T08:07:18.693Z"
   },
   {
    "duration": 4,
    "start_time": "2022-05-04T08:07:21.596Z"
   },
   {
    "duration": 19,
    "start_time": "2022-05-04T08:08:22.288Z"
   },
   {
    "duration": 20,
    "start_time": "2022-05-04T08:08:24.595Z"
   },
   {
    "duration": 752,
    "start_time": "2022-05-04T08:08:26.957Z"
   },
   {
    "duration": 27,
    "start_time": "2022-05-04T08:08:38.748Z"
   },
   {
    "duration": 5,
    "start_time": "2022-05-04T08:08:41.485Z"
   },
   {
    "duration": 16,
    "start_time": "2022-05-04T08:09:19.240Z"
   },
   {
    "duration": 610,
    "start_time": "2022-05-04T08:09:34.344Z"
   },
   {
    "duration": 17,
    "start_time": "2022-05-04T08:10:04.585Z"
   },
   {
    "duration": 366,
    "start_time": "2022-05-04T08:10:06.857Z"
   },
   {
    "duration": 370,
    "start_time": "2022-05-04T08:11:28.133Z"
   },
   {
    "duration": 14,
    "start_time": "2022-05-04T08:11:57.019Z"
   },
   {
    "duration": 18,
    "start_time": "2022-05-04T08:12:15.126Z"
   },
   {
    "duration": 17,
    "start_time": "2022-05-04T08:12:29.216Z"
   },
   {
    "duration": 1663,
    "start_time": "2022-05-04T08:12:32.453Z"
   },
   {
    "duration": 17,
    "start_time": "2022-05-04T08:12:44.772Z"
   },
   {
    "duration": 25,
    "start_time": "2022-05-04T08:12:50.739Z"
   },
   {
    "duration": 394,
    "start_time": "2022-05-04T08:13:05.279Z"
   },
   {
    "duration": 502,
    "start_time": "2022-05-04T08:15:00.518Z"
   },
   {
    "duration": 659,
    "start_time": "2022-05-04T08:15:11.586Z"
   },
   {
    "duration": 382,
    "start_time": "2022-05-04T08:16:44.255Z"
   },
   {
    "duration": 377,
    "start_time": "2022-05-04T08:16:49.730Z"
   },
   {
    "duration": 378,
    "start_time": "2022-05-04T08:17:15.281Z"
   },
   {
    "duration": 21,
    "start_time": "2022-05-04T08:17:19.622Z"
   },
   {
    "duration": 22,
    "start_time": "2022-05-04T08:17:23.311Z"
   },
   {
    "duration": 22,
    "start_time": "2022-05-04T08:17:35.761Z"
   },
   {
    "duration": 16,
    "start_time": "2022-05-04T08:19:29.518Z"
   },
   {
    "duration": 17,
    "start_time": "2022-05-04T08:19:42.775Z"
   },
   {
    "duration": 20,
    "start_time": "2022-05-04T08:19:46.473Z"
   },
   {
    "duration": 17,
    "start_time": "2022-05-04T08:19:50.437Z"
   },
   {
    "duration": 17,
    "start_time": "2022-05-04T08:19:57.996Z"
   },
   {
    "duration": 414,
    "start_time": "2022-05-04T08:19:59.396Z"
   },
   {
    "duration": 18,
    "start_time": "2022-05-04T08:20:19.128Z"
   },
   {
    "duration": 356,
    "start_time": "2022-05-04T08:20:21.454Z"
   },
   {
    "duration": 625,
    "start_time": "2022-05-04T08:20:29.617Z"
   },
   {
    "duration": 26,
    "start_time": "2022-05-04T08:20:52.860Z"
   },
   {
    "duration": 29,
    "start_time": "2022-05-04T08:20:56.287Z"
   },
   {
    "duration": 744,
    "start_time": "2022-05-04T08:20:58.937Z"
   },
   {
    "duration": 650,
    "start_time": "2022-05-04T08:21:16.513Z"
   },
   {
    "duration": 21,
    "start_time": "2022-05-04T08:21:44.351Z"
   },
   {
    "duration": 601,
    "start_time": "2022-05-04T08:22:31.252Z"
   },
   {
    "duration": 17,
    "start_time": "2022-05-04T08:22:35.650Z"
   },
   {
    "duration": 644,
    "start_time": "2022-05-04T08:27:43.598Z"
   },
   {
    "duration": 767,
    "start_time": "2022-05-04T08:27:51.606Z"
   },
   {
    "duration": 3,
    "start_time": "2022-05-04T08:28:04.166Z"
   },
   {
    "duration": 13,
    "start_time": "2022-05-04T08:28:08.724Z"
   },
   {
    "duration": 18,
    "start_time": "2022-05-04T08:28:21.157Z"
   },
   {
    "duration": 298,
    "start_time": "2022-05-04T08:28:23.020Z"
   },
   {
    "duration": 236,
    "start_time": "2022-05-04T08:28:25.598Z"
   },
   {
    "duration": 259,
    "start_time": "2022-05-04T08:28:27.271Z"
   },
   {
    "duration": 17,
    "start_time": "2022-05-04T08:28:49.793Z"
   },
   {
    "duration": 287,
    "start_time": "2022-05-04T08:29:00.134Z"
   },
   {
    "duration": 276,
    "start_time": "2022-05-04T08:29:06.171Z"
   },
   {
    "duration": 262,
    "start_time": "2022-05-04T08:29:08.270Z"
   },
   {
    "duration": 22,
    "start_time": "2022-05-04T08:29:30.293Z"
   },
   {
    "duration": 7,
    "start_time": "2022-05-04T08:31:28.549Z"
   },
   {
    "duration": 7,
    "start_time": "2022-05-04T08:32:04.840Z"
   },
   {
    "duration": 19,
    "start_time": "2022-05-04T08:33:17.330Z"
   },
   {
    "duration": 7,
    "start_time": "2022-05-04T08:33:42.177Z"
   },
   {
    "duration": 7,
    "start_time": "2022-05-04T08:33:46.609Z"
   },
   {
    "duration": 6,
    "start_time": "2022-05-04T08:35:11.078Z"
   },
   {
    "duration": 15,
    "start_time": "2022-05-04T08:37:02.426Z"
   },
   {
    "duration": 17,
    "start_time": "2022-05-04T08:37:06.276Z"
   },
   {
    "duration": 20,
    "start_time": "2022-05-04T08:37:21.003Z"
   },
   {
    "duration": 3,
    "start_time": "2022-05-04T08:37:34.033Z"
   },
   {
    "duration": 23,
    "start_time": "2022-05-04T08:37:36.827Z"
   },
   {
    "duration": 21,
    "start_time": "2022-05-04T08:37:47.442Z"
   },
   {
    "duration": 6,
    "start_time": "2022-05-04T08:38:41.872Z"
   },
   {
    "duration": 1850,
    "start_time": "2022-05-04T08:39:07.467Z"
   },
   {
    "duration": 78,
    "start_time": "2022-05-04T08:39:09.319Z"
   },
   {
    "duration": 4,
    "start_time": "2022-05-04T08:39:09.399Z"
   },
   {
    "duration": 25,
    "start_time": "2022-05-04T08:39:09.405Z"
   },
   {
    "duration": 16,
    "start_time": "2022-05-04T08:39:09.432Z"
   },
   {
    "duration": 3,
    "start_time": "2022-05-04T08:39:09.450Z"
   },
   {
    "duration": 34,
    "start_time": "2022-05-04T08:39:09.455Z"
   },
   {
    "duration": 20,
    "start_time": "2022-05-04T08:39:09.491Z"
   },
   {
    "duration": 15,
    "start_time": "2022-05-04T08:39:09.513Z"
   },
   {
    "duration": 14,
    "start_time": "2022-05-04T08:39:09.530Z"
   },
   {
    "duration": 33,
    "start_time": "2022-05-04T08:39:09.545Z"
   },
   {
    "duration": 10,
    "start_time": "2022-05-04T08:39:09.579Z"
   },
   {
    "duration": 4,
    "start_time": "2022-05-04T08:39:09.591Z"
   },
   {
    "duration": 6,
    "start_time": "2022-05-04T08:39:09.597Z"
   },
   {
    "duration": 8,
    "start_time": "2022-05-04T08:39:09.605Z"
   },
   {
    "duration": 5,
    "start_time": "2022-05-04T08:39:09.614Z"
   },
   {
    "duration": 7,
    "start_time": "2022-05-04T08:39:09.620Z"
   },
   {
    "duration": 12,
    "start_time": "2022-05-04T08:39:09.628Z"
   },
   {
    "duration": 33,
    "start_time": "2022-05-04T08:39:09.642Z"
   },
   {
    "duration": 607,
    "start_time": "2022-05-04T08:39:09.677Z"
   },
   {
    "duration": 8,
    "start_time": "2022-05-04T08:39:10.286Z"
   },
   {
    "duration": 20,
    "start_time": "2022-05-04T08:39:10.296Z"
   },
   {
    "duration": 5,
    "start_time": "2022-05-04T08:39:10.318Z"
   },
   {
    "duration": 21,
    "start_time": "2022-05-04T08:39:10.324Z"
   },
   {
    "duration": 43,
    "start_time": "2022-05-04T08:39:10.346Z"
   },
   {
    "duration": 827,
    "start_time": "2022-05-04T08:39:10.391Z"
   },
   {
    "duration": 26,
    "start_time": "2022-05-04T08:39:11.220Z"
   },
   {
    "duration": 5,
    "start_time": "2022-05-04T08:39:11.247Z"
   },
   {
    "duration": 21,
    "start_time": "2022-05-04T08:39:11.253Z"
   },
   {
    "duration": 461,
    "start_time": "2022-05-04T08:39:11.276Z"
   },
   {
    "duration": 15,
    "start_time": "2022-05-04T08:39:11.740Z"
   },
   {
    "duration": 393,
    "start_time": "2022-05-04T08:39:11.757Z"
   },
   {
    "duration": 357,
    "start_time": "2022-05-04T08:39:12.151Z"
   },
   {
    "duration": 14,
    "start_time": "2022-05-04T08:39:12.510Z"
   },
   {
    "duration": 18,
    "start_time": "2022-05-04T08:39:12.525Z"
   },
   {
    "duration": 38,
    "start_time": "2022-05-04T08:39:12.544Z"
   },
   {
    "duration": 1802,
    "start_time": "2022-05-04T08:39:12.584Z"
   },
   {
    "duration": 17,
    "start_time": "2022-05-04T08:39:14.388Z"
   },
   {
    "duration": 26,
    "start_time": "2022-05-04T08:39:14.407Z"
   },
   {
    "duration": 49,
    "start_time": "2022-05-04T08:39:14.435Z"
   },
   {
    "duration": 430,
    "start_time": "2022-05-04T08:39:14.489Z"
   },
   {
    "duration": 648,
    "start_time": "2022-05-04T08:39:14.922Z"
   },
   {
    "duration": 3,
    "start_time": "2022-05-04T08:39:15.573Z"
   },
   {
    "duration": 20,
    "start_time": "2022-05-04T08:39:15.578Z"
   },
   {
    "duration": 318,
    "start_time": "2022-05-04T08:39:15.599Z"
   },
   {
    "duration": 310,
    "start_time": "2022-05-04T08:39:15.919Z"
   },
   {
    "duration": 387,
    "start_time": "2022-05-04T08:39:16.230Z"
   },
   {
    "duration": 19,
    "start_time": "2022-05-04T08:39:16.619Z"
   },
   {
    "duration": 296,
    "start_time": "2022-05-04T08:39:16.640Z"
   },
   {
    "duration": 300,
    "start_time": "2022-05-04T08:39:16.937Z"
   },
   {
    "duration": 301,
    "start_time": "2022-05-04T08:39:17.239Z"
   },
   {
    "duration": 87,
    "start_time": "2022-05-04T08:39:17.541Z"
   },
   {
    "duration": 0,
    "start_time": "2022-05-04T08:39:17.629Z"
   },
   {
    "duration": 0,
    "start_time": "2022-05-04T08:39:17.630Z"
   },
   {
    "duration": 0,
    "start_time": "2022-05-04T08:39:17.631Z"
   },
   {
    "duration": 0,
    "start_time": "2022-05-04T08:39:17.633Z"
   },
   {
    "duration": 0,
    "start_time": "2022-05-04T08:39:17.634Z"
   },
   {
    "duration": 0,
    "start_time": "2022-05-04T08:39:17.635Z"
   },
   {
    "duration": 0,
    "start_time": "2022-05-04T08:39:17.637Z"
   },
   {
    "duration": 0,
    "start_time": "2022-05-04T08:39:17.638Z"
   },
   {
    "duration": 0,
    "start_time": "2022-05-04T08:39:17.640Z"
   },
   {
    "duration": 6,
    "start_time": "2022-05-04T08:39:21.949Z"
   },
   {
    "duration": 8,
    "start_time": "2022-05-04T08:39:33.872Z"
   },
   {
    "duration": 8,
    "start_time": "2022-05-04T08:39:43.565Z"
   },
   {
    "duration": 17,
    "start_time": "2022-05-04T08:40:01.483Z"
   },
   {
    "duration": 8,
    "start_time": "2022-05-04T08:40:04.881Z"
   },
   {
    "duration": 4,
    "start_time": "2022-05-04T08:41:49.093Z"
   },
   {
    "duration": 6,
    "start_time": "2022-05-04T08:41:57.017Z"
   },
   {
    "duration": 12,
    "start_time": "2022-05-04T08:42:19.075Z"
   },
   {
    "duration": 275,
    "start_time": "2022-05-04T08:49:02.759Z"
   },
   {
    "duration": 239,
    "start_time": "2022-05-04T08:49:05.200Z"
   },
   {
    "duration": 219,
    "start_time": "2022-05-04T08:49:07.201Z"
   },
   {
    "duration": 25,
    "start_time": "2022-05-04T10:23:40.840Z"
   },
   {
    "duration": 17,
    "start_time": "2022-05-04T10:23:47.729Z"
   },
   {
    "duration": 15,
    "start_time": "2022-05-04T10:24:29.610Z"
   },
   {
    "duration": 8,
    "start_time": "2022-05-04T10:26:39.205Z"
   },
   {
    "duration": 8,
    "start_time": "2022-05-04T10:26:47.177Z"
   },
   {
    "duration": 9,
    "start_time": "2022-05-04T10:27:11.169Z"
   },
   {
    "duration": 13,
    "start_time": "2022-05-04T10:27:17.026Z"
   },
   {
    "duration": 7,
    "start_time": "2022-05-04T10:27:26.182Z"
   },
   {
    "duration": 14,
    "start_time": "2022-05-04T10:27:50.298Z"
   },
   {
    "duration": 13,
    "start_time": "2022-05-04T10:27:54.038Z"
   },
   {
    "duration": 7,
    "start_time": "2022-05-04T10:28:01.992Z"
   },
   {
    "duration": 179,
    "start_time": "2022-05-04T10:28:14.875Z"
   },
   {
    "duration": 1142,
    "start_time": "2022-05-04T10:28:19.691Z"
   },
   {
    "duration": 86,
    "start_time": "2022-05-04T10:28:20.835Z"
   },
   {
    "duration": 5,
    "start_time": "2022-05-04T10:28:20.923Z"
   },
   {
    "duration": 21,
    "start_time": "2022-05-04T10:28:20.930Z"
   },
   {
    "duration": 14,
    "start_time": "2022-05-04T10:28:20.953Z"
   },
   {
    "duration": 3,
    "start_time": "2022-05-04T10:28:20.969Z"
   },
   {
    "duration": 15,
    "start_time": "2022-05-04T10:28:20.974Z"
   },
   {
    "duration": 15,
    "start_time": "2022-05-04T10:28:20.991Z"
   },
   {
    "duration": 11,
    "start_time": "2022-05-04T10:28:21.007Z"
   },
   {
    "duration": 6,
    "start_time": "2022-05-04T10:28:21.021Z"
   },
   {
    "duration": 45,
    "start_time": "2022-05-04T10:28:21.028Z"
   },
   {
    "duration": 7,
    "start_time": "2022-05-04T10:28:21.075Z"
   },
   {
    "duration": 11,
    "start_time": "2022-05-04T10:28:21.084Z"
   },
   {
    "duration": 15,
    "start_time": "2022-05-04T10:28:21.097Z"
   },
   {
    "duration": 12,
    "start_time": "2022-05-04T10:28:21.113Z"
   },
   {
    "duration": 10,
    "start_time": "2022-05-04T10:28:21.126Z"
   },
   {
    "duration": 18,
    "start_time": "2022-05-04T10:28:21.137Z"
   },
   {
    "duration": 10,
    "start_time": "2022-05-04T10:28:21.157Z"
   },
   {
    "duration": 7,
    "start_time": "2022-05-04T10:28:21.169Z"
   },
   {
    "duration": 546,
    "start_time": "2022-05-04T10:28:21.177Z"
   },
   {
    "duration": 8,
    "start_time": "2022-05-04T10:28:21.725Z"
   },
   {
    "duration": 19,
    "start_time": "2022-05-04T10:28:21.734Z"
   },
   {
    "duration": 3,
    "start_time": "2022-05-04T10:28:21.755Z"
   },
   {
    "duration": 19,
    "start_time": "2022-05-04T10:28:21.772Z"
   },
   {
    "duration": 16,
    "start_time": "2022-05-04T10:28:21.793Z"
   },
   {
    "duration": 770,
    "start_time": "2022-05-04T10:28:21.811Z"
   },
   {
    "duration": 26,
    "start_time": "2022-05-04T10:28:22.583Z"
   },
   {
    "duration": 4,
    "start_time": "2022-05-04T10:28:22.613Z"
   },
   {
    "duration": 19,
    "start_time": "2022-05-04T10:28:22.619Z"
   },
   {
    "duration": 484,
    "start_time": "2022-05-04T10:28:22.640Z"
   },
   {
    "duration": 15,
    "start_time": "2022-05-04T10:28:23.126Z"
   },
   {
    "duration": 378,
    "start_time": "2022-05-04T10:28:23.142Z"
   },
   {
    "duration": 375,
    "start_time": "2022-05-04T10:28:23.522Z"
   },
   {
    "duration": 13,
    "start_time": "2022-05-04T10:28:23.899Z"
   },
   {
    "duration": 25,
    "start_time": "2022-05-04T10:28:23.914Z"
   },
   {
    "duration": 17,
    "start_time": "2022-05-04T10:28:23.941Z"
   },
   {
    "duration": 2333,
    "start_time": "2022-05-04T10:28:23.959Z"
   },
   {
    "duration": 17,
    "start_time": "2022-05-04T10:28:26.293Z"
   },
   {
    "duration": 85,
    "start_time": "2022-05-04T10:28:26.312Z"
   },
   {
    "duration": 11,
    "start_time": "2022-05-04T10:28:26.399Z"
   },
   {
    "duration": 579,
    "start_time": "2022-05-04T10:28:26.412Z"
   },
   {
    "duration": 617,
    "start_time": "2022-05-04T10:28:26.992Z"
   },
   {
    "duration": 2,
    "start_time": "2022-05-04T10:28:27.611Z"
   },
   {
    "duration": 20,
    "start_time": "2022-05-04T10:28:27.614Z"
   },
   {
    "duration": 288,
    "start_time": "2022-05-04T10:28:27.636Z"
   },
   {
    "duration": 294,
    "start_time": "2022-05-04T10:28:27.926Z"
   },
   {
    "duration": 396,
    "start_time": "2022-05-04T10:28:28.221Z"
   },
   {
    "duration": 16,
    "start_time": "2022-05-04T10:28:28.619Z"
   },
   {
    "duration": 301,
    "start_time": "2022-05-04T10:28:28.637Z"
   },
   {
    "duration": 291,
    "start_time": "2022-05-04T10:28:28.940Z"
   },
   {
    "duration": 295,
    "start_time": "2022-05-04T10:28:29.232Z"
   },
   {
    "duration": 14,
    "start_time": "2022-05-04T10:28:29.528Z"
   },
   {
    "duration": 32,
    "start_time": "2022-05-04T10:28:29.543Z"
   },
   {
    "duration": 9,
    "start_time": "2022-05-04T10:28:29.576Z"
   },
   {
    "duration": 131,
    "start_time": "2022-05-04T10:28:29.586Z"
   },
   {
    "duration": 0,
    "start_time": "2022-05-04T10:28:29.718Z"
   },
   {
    "duration": 0,
    "start_time": "2022-05-04T10:28:29.720Z"
   },
   {
    "duration": 0,
    "start_time": "2022-05-04T10:28:29.720Z"
   },
   {
    "duration": 0,
    "start_time": "2022-05-04T10:28:29.721Z"
   },
   {
    "duration": 0,
    "start_time": "2022-05-04T10:28:29.722Z"
   },
   {
    "duration": 1,
    "start_time": "2022-05-04T10:28:29.723Z"
   },
   {
    "duration": 0,
    "start_time": "2022-05-04T10:28:29.725Z"
   },
   {
    "duration": 6,
    "start_time": "2022-05-04T10:29:04.121Z"
   },
   {
    "duration": 109,
    "start_time": "2022-05-04T10:29:08.465Z"
   },
   {
    "duration": 5,
    "start_time": "2022-05-04T10:29:49.655Z"
   },
   {
    "duration": 90,
    "start_time": "2022-05-04T10:30:05.058Z"
   },
   {
    "duration": 1224,
    "start_time": "2022-05-04T10:30:09.598Z"
   },
   {
    "duration": 80,
    "start_time": "2022-05-04T10:30:10.824Z"
   },
   {
    "duration": 5,
    "start_time": "2022-05-04T10:30:10.905Z"
   },
   {
    "duration": 23,
    "start_time": "2022-05-04T10:30:10.912Z"
   },
   {
    "duration": 15,
    "start_time": "2022-05-04T10:30:10.936Z"
   },
   {
    "duration": 3,
    "start_time": "2022-05-04T10:30:10.953Z"
   },
   {
    "duration": 12,
    "start_time": "2022-05-04T10:30:10.973Z"
   },
   {
    "duration": 15,
    "start_time": "2022-05-04T10:30:10.986Z"
   },
   {
    "duration": 11,
    "start_time": "2022-05-04T10:30:11.003Z"
   },
   {
    "duration": 5,
    "start_time": "2022-05-04T10:30:11.017Z"
   },
   {
    "duration": 50,
    "start_time": "2022-05-04T10:30:11.024Z"
   },
   {
    "duration": 8,
    "start_time": "2022-05-04T10:30:11.077Z"
   },
   {
    "duration": 6,
    "start_time": "2022-05-04T10:30:11.087Z"
   },
   {
    "duration": 13,
    "start_time": "2022-05-04T10:30:11.095Z"
   },
   {
    "duration": 10,
    "start_time": "2022-05-04T10:30:11.110Z"
   },
   {
    "duration": 10,
    "start_time": "2022-05-04T10:30:11.122Z"
   },
   {
    "duration": 7,
    "start_time": "2022-05-04T10:30:11.134Z"
   },
   {
    "duration": 15,
    "start_time": "2022-05-04T10:30:11.143Z"
   },
   {
    "duration": 22,
    "start_time": "2022-05-04T10:30:11.159Z"
   },
   {
    "duration": 692,
    "start_time": "2022-05-04T10:30:11.183Z"
   },
   {
    "duration": 7,
    "start_time": "2022-05-04T10:30:11.878Z"
   },
   {
    "duration": 87,
    "start_time": "2022-05-04T10:30:11.887Z"
   },
   {
    "duration": 4,
    "start_time": "2022-05-04T10:30:11.976Z"
   },
   {
    "duration": 40,
    "start_time": "2022-05-04T10:30:11.981Z"
   },
   {
    "duration": 63,
    "start_time": "2022-05-04T10:30:12.023Z"
   },
   {
    "duration": 1262,
    "start_time": "2022-05-04T10:30:12.088Z"
   },
   {
    "duration": 41,
    "start_time": "2022-05-04T10:30:13.352Z"
   },
   {
    "duration": 4,
    "start_time": "2022-05-04T10:30:13.396Z"
   },
   {
    "duration": 18,
    "start_time": "2022-05-04T10:30:13.401Z"
   },
   {
    "duration": 483,
    "start_time": "2022-05-04T10:30:13.421Z"
   },
   {
    "duration": 16,
    "start_time": "2022-05-04T10:30:13.906Z"
   },
   {
    "duration": 391,
    "start_time": "2022-05-04T10:30:13.924Z"
   },
   {
    "duration": 384,
    "start_time": "2022-05-04T10:30:14.317Z"
   },
   {
    "duration": 13,
    "start_time": "2022-05-04T10:30:14.703Z"
   },
   {
    "duration": 18,
    "start_time": "2022-05-04T10:30:14.718Z"
   },
   {
    "duration": 17,
    "start_time": "2022-05-04T10:30:14.738Z"
   },
   {
    "duration": 1799,
    "start_time": "2022-05-04T10:30:14.757Z"
   },
   {
    "duration": 19,
    "start_time": "2022-05-04T10:30:16.558Z"
   },
   {
    "duration": 24,
    "start_time": "2022-05-04T10:30:16.579Z"
   },
   {
    "duration": 11,
    "start_time": "2022-05-04T10:30:16.604Z"
   },
   {
    "duration": 397,
    "start_time": "2022-05-04T10:30:16.617Z"
   },
   {
    "duration": 645,
    "start_time": "2022-05-04T10:30:17.016Z"
   },
   {
    "duration": 9,
    "start_time": "2022-05-04T10:30:17.664Z"
   },
   {
    "duration": 18,
    "start_time": "2022-05-04T10:30:17.675Z"
   },
   {
    "duration": 282,
    "start_time": "2022-05-04T10:30:17.695Z"
   },
   {
    "duration": 275,
    "start_time": "2022-05-04T10:30:17.979Z"
   },
   {
    "duration": 369,
    "start_time": "2022-05-04T10:30:18.256Z"
   },
   {
    "duration": 17,
    "start_time": "2022-05-04T10:30:18.626Z"
   },
   {
    "duration": 288,
    "start_time": "2022-05-04T10:30:18.645Z"
   },
   {
    "duration": 292,
    "start_time": "2022-05-04T10:30:18.935Z"
   },
   {
    "duration": 293,
    "start_time": "2022-05-04T10:30:19.229Z"
   },
   {
    "duration": 13,
    "start_time": "2022-05-04T10:30:19.523Z"
   },
   {
    "duration": 10,
    "start_time": "2022-05-04T10:30:19.537Z"
   },
   {
    "duration": 107,
    "start_time": "2022-05-04T10:30:19.548Z"
   },
   {
    "duration": 0,
    "start_time": "2022-05-04T10:30:19.656Z"
   },
   {
    "duration": 0,
    "start_time": "2022-05-04T10:30:19.658Z"
   },
   {
    "duration": 0,
    "start_time": "2022-05-04T10:30:19.659Z"
   },
   {
    "duration": 0,
    "start_time": "2022-05-04T10:30:19.660Z"
   },
   {
    "duration": 0,
    "start_time": "2022-05-04T10:30:19.661Z"
   },
   {
    "duration": 0,
    "start_time": "2022-05-04T10:30:19.662Z"
   },
   {
    "duration": 0,
    "start_time": "2022-05-04T10:30:19.663Z"
   },
   {
    "duration": 254,
    "start_time": "2022-05-04T10:30:27.866Z"
   },
   {
    "duration": 269,
    "start_time": "2022-05-04T10:32:19.247Z"
   },
   {
    "duration": 288,
    "start_time": "2022-05-04T10:32:20.405Z"
   },
   {
    "duration": 26,
    "start_time": "2022-05-04T10:34:43.832Z"
   },
   {
    "duration": 23,
    "start_time": "2022-05-04T10:34:53.369Z"
   },
   {
    "duration": 21,
    "start_time": "2022-05-04T10:34:56.985Z"
   },
   {
    "duration": 22,
    "start_time": "2022-05-04T10:35:34.999Z"
   },
   {
    "duration": 23,
    "start_time": "2022-05-04T10:35:41.566Z"
   },
   {
    "duration": 20,
    "start_time": "2022-05-04T10:35:43.207Z"
   },
   {
    "duration": 20,
    "start_time": "2022-05-04T10:36:51.635Z"
   },
   {
    "duration": 13,
    "start_time": "2022-05-04T10:45:47.389Z"
   },
   {
    "duration": 12,
    "start_time": "2022-05-04T12:59:16.911Z"
   },
   {
    "duration": 17,
    "start_time": "2022-05-04T12:59:22.510Z"
   },
   {
    "duration": 15,
    "start_time": "2022-05-04T12:59:46.182Z"
   },
   {
    "duration": 18,
    "start_time": "2022-05-04T13:00:02.300Z"
   },
   {
    "duration": 16,
    "start_time": "2022-05-04T13:00:25.350Z"
   },
   {
    "duration": 11,
    "start_time": "2022-05-04T13:00:50.679Z"
   },
   {
    "duration": 24,
    "start_time": "2022-05-04T13:01:16.177Z"
   },
   {
    "duration": 10,
    "start_time": "2022-05-04T13:01:23.155Z"
   },
   {
    "duration": 24,
    "start_time": "2022-05-04T13:02:09.599Z"
   },
   {
    "duration": 15,
    "start_time": "2022-05-04T13:02:19.155Z"
   },
   {
    "duration": 13,
    "start_time": "2022-05-04T13:02:25.486Z"
   },
   {
    "duration": 27,
    "start_time": "2022-05-04T13:03:01.112Z"
   },
   {
    "duration": 16,
    "start_time": "2022-05-04T13:03:16.480Z"
   },
   {
    "duration": 12,
    "start_time": "2022-05-04T13:03:24.660Z"
   },
   {
    "duration": 11,
    "start_time": "2022-05-04T13:14:40.228Z"
   },
   {
    "duration": 14,
    "start_time": "2022-05-04T13:14:42.620Z"
   },
   {
    "duration": 11,
    "start_time": "2022-05-04T13:14:44.890Z"
   },
   {
    "duration": 14,
    "start_time": "2022-05-04T13:14:52.175Z"
   },
   {
    "duration": 15,
    "start_time": "2022-05-04T13:14:59.454Z"
   },
   {
    "duration": 1252,
    "start_time": "2022-05-04T16:43:24.670Z"
   },
   {
    "duration": 95,
    "start_time": "2022-05-04T16:43:25.925Z"
   },
   {
    "duration": 5,
    "start_time": "2022-05-04T16:43:26.022Z"
   },
   {
    "duration": 25,
    "start_time": "2022-05-04T16:43:26.029Z"
   },
   {
    "duration": 27,
    "start_time": "2022-05-04T16:43:26.055Z"
   },
   {
    "duration": 6,
    "start_time": "2022-05-04T16:43:26.083Z"
   },
   {
    "duration": 25,
    "start_time": "2022-05-04T16:43:26.090Z"
   },
   {
    "duration": 20,
    "start_time": "2022-05-04T16:43:26.117Z"
   },
   {
    "duration": 22,
    "start_time": "2022-05-04T16:43:26.138Z"
   },
   {
    "duration": 19,
    "start_time": "2022-05-04T16:43:26.163Z"
   },
   {
    "duration": 24,
    "start_time": "2022-05-04T16:43:26.184Z"
   },
   {
    "duration": 29,
    "start_time": "2022-05-04T16:43:26.210Z"
   },
   {
    "duration": 12,
    "start_time": "2022-05-04T16:43:26.241Z"
   },
   {
    "duration": 20,
    "start_time": "2022-05-04T16:43:26.254Z"
   },
   {
    "duration": 11,
    "start_time": "2022-05-04T16:43:26.275Z"
   },
   {
    "duration": 11,
    "start_time": "2022-05-04T16:43:26.288Z"
   },
   {
    "duration": 22,
    "start_time": "2022-05-04T16:43:26.300Z"
   },
   {
    "duration": 21,
    "start_time": "2022-05-04T16:43:26.324Z"
   },
   {
    "duration": 15,
    "start_time": "2022-05-04T16:43:26.347Z"
   },
   {
    "duration": 631,
    "start_time": "2022-05-04T16:43:26.364Z"
   },
   {
    "duration": 607,
    "start_time": "2022-05-04T16:43:26.996Z"
   },
   {
    "duration": 8,
    "start_time": "2022-05-04T16:43:27.605Z"
   },
   {
    "duration": 26,
    "start_time": "2022-05-04T16:43:27.615Z"
   },
   {
    "duration": 10,
    "start_time": "2022-05-04T16:43:27.643Z"
   },
   {
    "duration": 25,
    "start_time": "2022-05-04T16:43:27.655Z"
   },
   {
    "duration": 26,
    "start_time": "2022-05-04T16:43:27.682Z"
   },
   {
    "duration": 803,
    "start_time": "2022-05-04T16:43:27.710Z"
   },
   {
    "duration": 25,
    "start_time": "2022-05-04T16:43:28.517Z"
   },
   {
    "duration": 4,
    "start_time": "2022-05-04T16:43:28.544Z"
   },
   {
    "duration": 38,
    "start_time": "2022-05-04T16:43:28.549Z"
   },
   {
    "duration": 466,
    "start_time": "2022-05-04T16:43:28.589Z"
   },
   {
    "duration": 21,
    "start_time": "2022-05-04T16:43:29.057Z"
   },
   {
    "duration": 414,
    "start_time": "2022-05-04T16:43:29.080Z"
   },
   {
    "duration": 499,
    "start_time": "2022-05-04T16:43:29.496Z"
   },
   {
    "duration": 18,
    "start_time": "2022-05-04T16:43:29.996Z"
   },
   {
    "duration": 49,
    "start_time": "2022-05-04T16:43:30.016Z"
   },
   {
    "duration": 90,
    "start_time": "2022-05-04T16:43:30.067Z"
   },
   {
    "duration": 1809,
    "start_time": "2022-05-04T16:43:30.158Z"
   },
   {
    "duration": 16,
    "start_time": "2022-05-04T16:43:31.974Z"
   },
   {
    "duration": 28,
    "start_time": "2022-05-04T16:43:31.992Z"
   },
   {
    "duration": 19,
    "start_time": "2022-05-04T16:43:32.022Z"
   },
   {
    "duration": 426,
    "start_time": "2022-05-04T16:43:32.042Z"
   },
   {
    "duration": 643,
    "start_time": "2022-05-04T16:43:32.473Z"
   },
   {
    "duration": 3,
    "start_time": "2022-05-04T16:43:33.117Z"
   },
   {
    "duration": 28,
    "start_time": "2022-05-04T16:43:33.122Z"
   },
   {
    "duration": 378,
    "start_time": "2022-05-04T16:43:33.151Z"
   },
   {
    "duration": 299,
    "start_time": "2022-05-04T16:43:33.531Z"
   },
   {
    "duration": 290,
    "start_time": "2022-05-04T16:43:33.832Z"
   },
   {
    "duration": 19,
    "start_time": "2022-05-04T16:43:34.125Z"
   },
   {
    "duration": 294,
    "start_time": "2022-05-04T16:43:34.146Z"
   },
   {
    "duration": 302,
    "start_time": "2022-05-04T16:43:34.442Z"
   },
   {
    "duration": 282,
    "start_time": "2022-05-04T16:43:34.745Z"
   },
   {
    "duration": 13,
    "start_time": "2022-05-04T16:43:35.030Z"
   },
   {
    "duration": 6,
    "start_time": "2022-05-04T16:43:35.045Z"
   },
   {
    "duration": 40,
    "start_time": "2022-05-04T16:43:35.053Z"
   },
   {
    "duration": 245,
    "start_time": "2022-05-04T16:43:35.095Z"
   },
   {
    "duration": 307,
    "start_time": "2022-05-04T16:43:35.342Z"
   },
   {
    "duration": 299,
    "start_time": "2022-05-04T16:43:35.651Z"
   },
   {
    "duration": 34,
    "start_time": "2022-05-04T16:43:35.951Z"
   },
   {
    "duration": 16,
    "start_time": "2022-05-04T16:43:35.987Z"
   },
   {
    "duration": 18,
    "start_time": "2022-05-04T16:43:36.004Z"
   },
   {
    "duration": 20,
    "start_time": "2022-05-04T16:43:36.024Z"
   },
   {
    "duration": 33,
    "start_time": "2022-05-04T16:43:36.045Z"
   },
   {
    "duration": 105,
    "start_time": "2022-05-04T16:54:33.514Z"
   },
   {
    "duration": 4,
    "start_time": "2022-05-04T16:55:25.508Z"
   },
   {
    "duration": 124,
    "start_time": "2022-05-04T16:55:25.514Z"
   },
   {
    "duration": 5,
    "start_time": "2022-05-04T16:55:25.639Z"
   },
   {
    "duration": 17,
    "start_time": "2022-05-04T16:55:25.646Z"
   },
   {
    "duration": 16,
    "start_time": "2022-05-04T16:55:25.665Z"
   },
   {
    "duration": 3,
    "start_time": "2022-05-04T16:55:25.682Z"
   },
   {
    "duration": 14,
    "start_time": "2022-05-04T16:55:25.687Z"
   },
   {
    "duration": 21,
    "start_time": "2022-05-04T16:55:25.702Z"
   },
   {
    "duration": 8,
    "start_time": "2022-05-04T16:55:25.726Z"
   },
   {
    "duration": 6,
    "start_time": "2022-05-04T16:55:25.735Z"
   },
   {
    "duration": 39,
    "start_time": "2022-05-04T16:55:25.742Z"
   },
   {
    "duration": 6,
    "start_time": "2022-05-04T16:55:25.783Z"
   },
   {
    "duration": 7,
    "start_time": "2022-05-04T16:55:25.791Z"
   },
   {
    "duration": 7,
    "start_time": "2022-05-04T16:55:25.800Z"
   },
   {
    "duration": 9,
    "start_time": "2022-05-04T16:55:25.808Z"
   },
   {
    "duration": 5,
    "start_time": "2022-05-04T16:55:25.818Z"
   },
   {
    "duration": 8,
    "start_time": "2022-05-04T16:55:25.825Z"
   },
   {
    "duration": 10,
    "start_time": "2022-05-04T16:55:25.835Z"
   },
   {
    "duration": 31,
    "start_time": "2022-05-04T16:55:25.847Z"
   },
   {
    "duration": 673,
    "start_time": "2022-05-04T16:55:25.880Z"
   },
   {
    "duration": 556,
    "start_time": "2022-05-04T16:55:26.555Z"
   },
   {
    "duration": 8,
    "start_time": "2022-05-04T16:55:27.113Z"
   },
   {
    "duration": 20,
    "start_time": "2022-05-04T16:55:27.123Z"
   },
   {
    "duration": 4,
    "start_time": "2022-05-04T16:55:27.146Z"
   },
   {
    "duration": 37,
    "start_time": "2022-05-04T16:55:27.151Z"
   },
   {
    "duration": 17,
    "start_time": "2022-05-04T16:55:27.190Z"
   },
   {
    "duration": 801,
    "start_time": "2022-05-04T16:55:27.209Z"
   },
   {
    "duration": 25,
    "start_time": "2022-05-04T16:55:28.012Z"
   },
   {
    "duration": 4,
    "start_time": "2022-05-04T16:55:28.039Z"
   },
   {
    "duration": 41,
    "start_time": "2022-05-04T16:55:28.044Z"
   },
   {
    "duration": 473,
    "start_time": "2022-05-04T16:55:28.087Z"
   },
   {
    "duration": 21,
    "start_time": "2022-05-04T16:55:28.562Z"
   },
   {
    "duration": 410,
    "start_time": "2022-05-04T16:55:28.585Z"
   },
   {
    "duration": 398,
    "start_time": "2022-05-04T16:55:28.997Z"
   },
   {
    "duration": 17,
    "start_time": "2022-05-04T16:55:29.397Z"
   },
   {
    "duration": 0,
    "start_time": "2022-05-04T16:55:29.416Z"
   },
   {
    "duration": 13,
    "start_time": "2022-05-04T16:55:41.133Z"
   },
   {
    "duration": 18,
    "start_time": "2022-05-04T16:56:15.235Z"
   },
   {
    "duration": 16,
    "start_time": "2022-05-04T16:56:37.314Z"
   },
   {
    "duration": 15,
    "start_time": "2022-05-04T16:56:56.930Z"
   },
   {
    "duration": 21,
    "start_time": "2022-05-04T16:57:13.946Z"
   },
   {
    "duration": 19,
    "start_time": "2022-05-04T16:57:21.970Z"
   },
   {
    "duration": 3,
    "start_time": "2022-05-04T16:57:35.838Z"
   },
   {
    "duration": 83,
    "start_time": "2022-05-04T16:57:35.843Z"
   },
   {
    "duration": 5,
    "start_time": "2022-05-04T16:57:35.928Z"
   },
   {
    "duration": 16,
    "start_time": "2022-05-04T16:57:35.935Z"
   },
   {
    "duration": 14,
    "start_time": "2022-05-04T16:57:35.953Z"
   },
   {
    "duration": 3,
    "start_time": "2022-05-04T16:57:35.969Z"
   },
   {
    "duration": 18,
    "start_time": "2022-05-04T16:57:35.973Z"
   },
   {
    "duration": 13,
    "start_time": "2022-05-04T16:57:35.993Z"
   },
   {
    "duration": 10,
    "start_time": "2022-05-04T16:57:36.009Z"
   },
   {
    "duration": 6,
    "start_time": "2022-05-04T16:57:36.021Z"
   },
   {
    "duration": 136,
    "start_time": "2022-05-04T16:57:36.029Z"
   },
   {
    "duration": 11,
    "start_time": "2022-05-04T16:57:36.167Z"
   },
   {
    "duration": 6,
    "start_time": "2022-05-04T16:57:36.179Z"
   },
   {
    "duration": 7,
    "start_time": "2022-05-04T16:57:36.186Z"
   },
   {
    "duration": 10,
    "start_time": "2022-05-04T16:57:36.194Z"
   },
   {
    "duration": 6,
    "start_time": "2022-05-04T16:57:36.206Z"
   },
   {
    "duration": 9,
    "start_time": "2022-05-04T16:57:36.213Z"
   },
   {
    "duration": 9,
    "start_time": "2022-05-04T16:57:36.223Z"
   },
   {
    "duration": 7,
    "start_time": "2022-05-04T16:57:36.234Z"
   },
   {
    "duration": 547,
    "start_time": "2022-05-04T16:57:36.243Z"
   },
   {
    "duration": 570,
    "start_time": "2022-05-04T16:57:36.792Z"
   },
   {
    "duration": 12,
    "start_time": "2022-05-04T16:57:37.364Z"
   },
   {
    "duration": 16,
    "start_time": "2022-05-04T16:57:37.378Z"
   },
   {
    "duration": 4,
    "start_time": "2022-05-04T16:57:37.397Z"
   },
   {
    "duration": 18,
    "start_time": "2022-05-04T16:57:37.402Z"
   },
   {
    "duration": 16,
    "start_time": "2022-05-04T16:57:37.421Z"
   },
   {
    "duration": 752,
    "start_time": "2022-05-04T16:57:37.438Z"
   },
   {
    "duration": 25,
    "start_time": "2022-05-04T16:57:38.192Z"
   },
   {
    "duration": 5,
    "start_time": "2022-05-04T16:57:38.219Z"
   },
   {
    "duration": 23,
    "start_time": "2022-05-04T16:57:38.225Z"
   },
   {
    "duration": 501,
    "start_time": "2022-05-04T16:57:38.250Z"
   },
   {
    "duration": 21,
    "start_time": "2022-05-04T16:57:38.753Z"
   },
   {
    "duration": 19,
    "start_time": "2022-05-04T16:57:42.560Z"
   },
   {
    "duration": 15,
    "start_time": "2022-05-04T16:58:06.980Z"
   },
   {
    "duration": 21,
    "start_time": "2022-05-04T16:58:24.225Z"
   },
   {
    "duration": 15,
    "start_time": "2022-05-04T16:58:33.674Z"
   },
   {
    "duration": 298,
    "start_time": "2022-05-04T16:58:44.395Z"
   },
   {
    "duration": 413,
    "start_time": "2022-05-04T16:59:12.774Z"
   },
   {
    "duration": 308,
    "start_time": "2022-05-04T16:59:18.034Z"
   },
   {
    "duration": 307,
    "start_time": "2022-05-04T16:59:21.570Z"
   },
   {
    "duration": 307,
    "start_time": "2022-05-04T17:01:56.511Z"
   },
   {
    "duration": 4,
    "start_time": "2022-05-04T17:02:03.589Z"
   },
   {
    "duration": 114,
    "start_time": "2022-05-04T17:02:03.594Z"
   },
   {
    "duration": 6,
    "start_time": "2022-05-04T17:02:03.710Z"
   },
   {
    "duration": 28,
    "start_time": "2022-05-04T17:02:03.718Z"
   },
   {
    "duration": 33,
    "start_time": "2022-05-04T17:02:03.748Z"
   },
   {
    "duration": 4,
    "start_time": "2022-05-04T17:02:03.783Z"
   },
   {
    "duration": 24,
    "start_time": "2022-05-04T17:02:03.788Z"
   },
   {
    "duration": 15,
    "start_time": "2022-05-04T17:02:03.814Z"
   },
   {
    "duration": 10,
    "start_time": "2022-05-04T17:02:03.830Z"
   },
   {
    "duration": 10,
    "start_time": "2022-05-04T17:02:03.843Z"
   },
   {
    "duration": 21,
    "start_time": "2022-05-04T17:02:03.874Z"
   },
   {
    "duration": 12,
    "start_time": "2022-05-04T17:02:03.897Z"
   },
   {
    "duration": 11,
    "start_time": "2022-05-04T17:02:03.911Z"
   },
   {
    "duration": 10,
    "start_time": "2022-05-04T17:02:03.924Z"
   },
   {
    "duration": 20,
    "start_time": "2022-05-04T17:02:03.936Z"
   },
   {
    "duration": 9,
    "start_time": "2022-05-04T17:02:03.958Z"
   },
   {
    "duration": 16,
    "start_time": "2022-05-04T17:02:03.969Z"
   },
   {
    "duration": 16,
    "start_time": "2022-05-04T17:02:03.986Z"
   },
   {
    "duration": 25,
    "start_time": "2022-05-04T17:02:04.003Z"
   },
   {
    "duration": 560,
    "start_time": "2022-05-04T17:02:04.030Z"
   },
   {
    "duration": 706,
    "start_time": "2022-05-04T17:02:04.592Z"
   },
   {
    "duration": 7,
    "start_time": "2022-05-04T17:02:05.300Z"
   },
   {
    "duration": 16,
    "start_time": "2022-05-04T17:02:05.309Z"
   },
   {
    "duration": 3,
    "start_time": "2022-05-04T17:02:05.327Z"
   },
   {
    "duration": 18,
    "start_time": "2022-05-04T17:02:05.332Z"
   },
   {
    "duration": 19,
    "start_time": "2022-05-04T17:02:05.374Z"
   },
   {
    "duration": 823,
    "start_time": "2022-05-04T17:02:05.394Z"
   },
   {
    "duration": 25,
    "start_time": "2022-05-04T17:02:06.223Z"
   },
   {
    "duration": 4,
    "start_time": "2022-05-04T17:02:06.250Z"
   },
   {
    "duration": 19,
    "start_time": "2022-05-04T17:02:06.274Z"
   },
   {
    "duration": 465,
    "start_time": "2022-05-04T17:02:06.295Z"
   },
   {
    "duration": 23,
    "start_time": "2022-05-04T17:02:06.762Z"
   },
   {
    "duration": 409,
    "start_time": "2022-05-04T17:02:06.788Z"
   },
   {
    "duration": 396,
    "start_time": "2022-05-04T17:02:07.199Z"
   },
   {
    "duration": 16,
    "start_time": "2022-05-04T17:02:07.597Z"
   },
   {
    "duration": 664,
    "start_time": "2022-05-04T17:02:07.614Z"
   },
   {
    "duration": 0,
    "start_time": "2022-05-04T17:02:08.280Z"
   },
   {
    "duration": 0,
    "start_time": "2022-05-04T17:02:08.281Z"
   },
   {
    "duration": 0,
    "start_time": "2022-05-04T17:02:08.282Z"
   },
   {
    "duration": 1,
    "start_time": "2022-05-04T17:02:08.283Z"
   },
   {
    "duration": 0,
    "start_time": "2022-05-04T17:02:08.284Z"
   },
   {
    "duration": 0,
    "start_time": "2022-05-04T17:02:08.285Z"
   },
   {
    "duration": 0,
    "start_time": "2022-05-04T17:02:08.286Z"
   },
   {
    "duration": 0,
    "start_time": "2022-05-04T17:02:08.287Z"
   },
   {
    "duration": 0,
    "start_time": "2022-05-04T17:02:08.288Z"
   },
   {
    "duration": 0,
    "start_time": "2022-05-04T17:02:08.289Z"
   },
   {
    "duration": 0,
    "start_time": "2022-05-04T17:02:08.290Z"
   },
   {
    "duration": 0,
    "start_time": "2022-05-04T17:02:08.291Z"
   },
   {
    "duration": 0,
    "start_time": "2022-05-04T17:02:08.292Z"
   },
   {
    "duration": 0,
    "start_time": "2022-05-04T17:02:08.293Z"
   },
   {
    "duration": 0,
    "start_time": "2022-05-04T17:02:08.294Z"
   },
   {
    "duration": 0,
    "start_time": "2022-05-04T17:02:08.295Z"
   },
   {
    "duration": 0,
    "start_time": "2022-05-04T17:02:08.296Z"
   },
   {
    "duration": 0,
    "start_time": "2022-05-04T17:02:08.297Z"
   },
   {
    "duration": 0,
    "start_time": "2022-05-04T17:02:08.298Z"
   },
   {
    "duration": 0,
    "start_time": "2022-05-04T17:02:08.299Z"
   },
   {
    "duration": 0,
    "start_time": "2022-05-04T17:02:08.300Z"
   },
   {
    "duration": 0,
    "start_time": "2022-05-04T17:02:08.302Z"
   },
   {
    "duration": 0,
    "start_time": "2022-05-04T17:02:08.302Z"
   },
   {
    "duration": 0,
    "start_time": "2022-05-04T17:02:08.304Z"
   },
   {
    "duration": 0,
    "start_time": "2022-05-04T17:02:08.305Z"
   },
   {
    "duration": 0,
    "start_time": "2022-05-04T17:02:08.307Z"
   },
   {
    "duration": 0,
    "start_time": "2022-05-04T17:02:08.308Z"
   },
   {
    "duration": 0,
    "start_time": "2022-05-04T17:02:08.309Z"
   },
   {
    "duration": 0,
    "start_time": "2022-05-04T17:02:08.311Z"
   },
   {
    "duration": 0,
    "start_time": "2022-05-04T17:02:08.374Z"
   },
   {
    "duration": 305,
    "start_time": "2022-05-04T17:02:40.428Z"
   },
   {
    "duration": 454,
    "start_time": "2022-05-04T17:03:02.070Z"
   },
   {
    "duration": 3,
    "start_time": "2022-05-04T17:03:19.002Z"
   },
   {
    "duration": 109,
    "start_time": "2022-05-04T17:03:19.007Z"
   },
   {
    "duration": 6,
    "start_time": "2022-05-04T17:03:19.118Z"
   },
   {
    "duration": 21,
    "start_time": "2022-05-04T17:03:19.126Z"
   },
   {
    "duration": 33,
    "start_time": "2022-05-04T17:03:19.149Z"
   },
   {
    "duration": 3,
    "start_time": "2022-05-04T17:03:19.184Z"
   },
   {
    "duration": 14,
    "start_time": "2022-05-04T17:03:19.188Z"
   },
   {
    "duration": 18,
    "start_time": "2022-05-04T17:03:19.203Z"
   },
   {
    "duration": 9,
    "start_time": "2022-05-04T17:03:19.224Z"
   },
   {
    "duration": 5,
    "start_time": "2022-05-04T17:03:19.234Z"
   },
   {
    "duration": 46,
    "start_time": "2022-05-04T17:03:19.241Z"
   },
   {
    "duration": 7,
    "start_time": "2022-05-04T17:03:19.289Z"
   },
   {
    "duration": 5,
    "start_time": "2022-05-04T17:03:19.298Z"
   },
   {
    "duration": 6,
    "start_time": "2022-05-04T17:03:19.304Z"
   },
   {
    "duration": 10,
    "start_time": "2022-05-04T17:03:19.311Z"
   },
   {
    "duration": 5,
    "start_time": "2022-05-04T17:03:19.322Z"
   },
   {
    "duration": 6,
    "start_time": "2022-05-04T17:03:19.329Z"
   },
   {
    "duration": 37,
    "start_time": "2022-05-04T17:03:19.337Z"
   },
   {
    "duration": 8,
    "start_time": "2022-05-04T17:03:19.376Z"
   },
   {
    "duration": 573,
    "start_time": "2022-05-04T17:03:19.386Z"
   },
   {
    "duration": 578,
    "start_time": "2022-05-04T17:03:19.962Z"
   },
   {
    "duration": 8,
    "start_time": "2022-05-04T17:03:20.542Z"
   },
   {
    "duration": 31,
    "start_time": "2022-05-04T17:03:20.552Z"
   },
   {
    "duration": 4,
    "start_time": "2022-05-04T17:03:20.588Z"
   },
   {
    "duration": 20,
    "start_time": "2022-05-04T17:03:20.594Z"
   },
   {
    "duration": 16,
    "start_time": "2022-05-04T17:03:20.616Z"
   },
   {
    "duration": 755,
    "start_time": "2022-05-04T17:03:20.634Z"
   },
   {
    "duration": 24,
    "start_time": "2022-05-04T17:03:21.390Z"
   },
   {
    "duration": 4,
    "start_time": "2022-05-04T17:03:21.416Z"
   },
   {
    "duration": 17,
    "start_time": "2022-05-04T17:03:21.421Z"
   },
   {
    "duration": 499,
    "start_time": "2022-05-04T17:03:21.440Z"
   },
   {
    "duration": 15,
    "start_time": "2022-05-04T17:03:21.941Z"
   },
   {
    "duration": 378,
    "start_time": "2022-05-04T17:03:21.958Z"
   },
   {
    "duration": 468,
    "start_time": "2022-05-04T17:03:22.337Z"
   },
   {
    "duration": 15,
    "start_time": "2022-05-04T17:03:22.807Z"
   },
   {
    "duration": 327,
    "start_time": "2022-05-04T17:03:22.823Z"
   },
   {
    "duration": 327,
    "start_time": "2022-05-04T17:03:23.151Z"
   },
   {
    "duration": 15,
    "start_time": "2022-05-04T17:03:23.480Z"
   },
   {
    "duration": 21,
    "start_time": "2022-05-04T17:03:23.497Z"
   },
   {
    "duration": 19,
    "start_time": "2022-05-04T17:03:23.520Z"
   },
   {
    "duration": 1744,
    "start_time": "2022-05-04T17:03:23.541Z"
   },
   {
    "duration": 18,
    "start_time": "2022-05-04T17:03:25.287Z"
   },
   {
    "duration": 28,
    "start_time": "2022-05-04T17:03:25.307Z"
   },
   {
    "duration": 12,
    "start_time": "2022-05-04T17:03:25.373Z"
   },
   {
    "duration": 502,
    "start_time": "2022-05-04T17:03:25.387Z"
   },
   {
    "duration": 640,
    "start_time": "2022-05-04T17:03:25.891Z"
   },
   {
    "duration": 3,
    "start_time": "2022-05-04T17:03:26.534Z"
   },
   {
    "duration": 22,
    "start_time": "2022-05-04T17:03:26.539Z"
   },
   {
    "duration": 267,
    "start_time": "2022-05-04T17:03:26.574Z"
   },
   {
    "duration": 283,
    "start_time": "2022-05-04T17:03:26.843Z"
   },
   {
    "duration": 291,
    "start_time": "2022-05-04T17:03:27.128Z"
   },
   {
    "duration": 16,
    "start_time": "2022-05-04T17:03:27.421Z"
   },
   {
    "duration": 314,
    "start_time": "2022-05-04T17:03:27.439Z"
   },
   {
    "duration": 286,
    "start_time": "2022-05-04T17:03:27.755Z"
   },
   {
    "duration": 282,
    "start_time": "2022-05-04T17:03:28.043Z"
   },
   {
    "duration": 13,
    "start_time": "2022-05-04T17:03:28.327Z"
   },
   {
    "duration": 9,
    "start_time": "2022-05-04T17:03:28.341Z"
   },
   {
    "duration": 33,
    "start_time": "2022-05-04T17:03:28.351Z"
   },
   {
    "duration": 247,
    "start_time": "2022-05-04T17:03:28.385Z"
   },
   {
    "duration": 391,
    "start_time": "2022-05-04T17:03:28.634Z"
   },
   {
    "duration": 285,
    "start_time": "2022-05-04T17:03:29.027Z"
   },
   {
    "duration": 24,
    "start_time": "2022-05-04T17:03:29.314Z"
   },
   {
    "duration": 34,
    "start_time": "2022-05-04T17:03:29.340Z"
   },
   {
    "duration": 11,
    "start_time": "2022-05-04T17:03:29.376Z"
   },
   {
    "duration": 17,
    "start_time": "2022-05-04T17:03:29.389Z"
   },
   {
    "duration": 12,
    "start_time": "2022-05-04T17:03:29.407Z"
   },
   {
    "duration": 17,
    "start_time": "2022-05-04T17:08:07.567Z"
   },
   {
    "duration": 8,
    "start_time": "2022-05-04T17:10:27.706Z"
   },
   {
    "duration": 9,
    "start_time": "2022-05-04T17:11:18.602Z"
   },
   {
    "duration": 8,
    "start_time": "2022-05-04T17:11:19.770Z"
   },
   {
    "duration": 8,
    "start_time": "2022-05-04T17:14:10.449Z"
   },
   {
    "duration": 8,
    "start_time": "2022-05-04T17:15:23.602Z"
   },
   {
    "duration": 1108,
    "start_time": "2023-02-21T06:06:40.956Z"
   },
   {
    "duration": 83,
    "start_time": "2023-02-21T06:06:42.067Z"
   },
   {
    "duration": 4,
    "start_time": "2023-02-21T06:06:42.152Z"
   },
   {
    "duration": 20,
    "start_time": "2023-02-21T06:06:42.159Z"
   },
   {
    "duration": 22,
    "start_time": "2023-02-21T06:06:42.181Z"
   },
   {
    "duration": 10,
    "start_time": "2023-02-21T06:06:42.204Z"
   },
   {
    "duration": 5,
    "start_time": "2023-02-21T06:06:42.215Z"
   },
   {
    "duration": 45,
    "start_time": "2023-02-21T06:06:42.222Z"
   },
   {
    "duration": 11,
    "start_time": "2023-02-21T06:06:42.269Z"
   },
   {
    "duration": 6,
    "start_time": "2023-02-21T06:06:42.284Z"
   },
   {
    "duration": 8,
    "start_time": "2023-02-21T06:06:42.292Z"
   },
   {
    "duration": 5,
    "start_time": "2023-02-21T06:06:42.302Z"
   },
   {
    "duration": 6,
    "start_time": "2023-02-21T06:06:42.309Z"
   },
   {
    "duration": 40,
    "start_time": "2023-02-21T06:06:42.317Z"
   },
   {
    "duration": 10,
    "start_time": "2023-02-21T06:06:42.359Z"
   },
   {
    "duration": 658,
    "start_time": "2023-02-21T06:06:42.371Z"
   },
   {
    "duration": 17,
    "start_time": "2023-02-21T06:06:43.031Z"
   },
   {
    "duration": 25,
    "start_time": "2023-02-21T06:06:43.050Z"
   },
   {
    "duration": 6,
    "start_time": "2023-02-21T06:06:43.077Z"
   },
   {
    "duration": 20,
    "start_time": "2023-02-21T06:06:43.085Z"
   },
   {
    "duration": 46,
    "start_time": "2023-02-21T06:06:43.107Z"
   },
   {
    "duration": 942,
    "start_time": "2023-02-21T06:06:43.155Z"
   },
   {
    "duration": 36,
    "start_time": "2023-02-21T06:06:44.099Z"
   },
   {
    "duration": 5,
    "start_time": "2023-02-21T06:06:44.137Z"
   },
   {
    "duration": 23,
    "start_time": "2023-02-21T06:06:44.144Z"
   },
   {
    "duration": 515,
    "start_time": "2023-02-21T06:06:44.169Z"
   },
   {
    "duration": 22,
    "start_time": "2023-02-21T06:06:44.686Z"
   },
   {
    "duration": 565,
    "start_time": "2023-02-21T06:06:44.713Z"
   },
   {
    "duration": 993,
    "start_time": "2023-02-21T06:06:45.280Z"
   },
   {
    "duration": 73,
    "start_time": "2023-02-21T06:06:46.275Z"
   },
   {
    "duration": 1101,
    "start_time": "2023-02-21T06:06:46.350Z"
   },
   {
    "duration": 356,
    "start_time": "2023-02-21T06:06:47.453Z"
   },
   {
    "duration": 17,
    "start_time": "2023-02-21T06:06:47.811Z"
   },
   {
    "duration": 31,
    "start_time": "2023-02-21T06:06:47.829Z"
   },
   {
    "duration": 25,
    "start_time": "2023-02-21T06:06:47.862Z"
   },
   {
    "duration": 1979,
    "start_time": "2023-02-21T06:06:47.889Z"
   },
   {
    "duration": 47,
    "start_time": "2023-02-21T06:06:49.870Z"
   },
   {
    "duration": 0,
    "start_time": "2023-02-21T06:06:49.919Z"
   },
   {
    "duration": 0,
    "start_time": "2023-02-21T06:06:49.920Z"
   },
   {
    "duration": 0,
    "start_time": "2023-02-21T06:06:49.922Z"
   },
   {
    "duration": 0,
    "start_time": "2023-02-21T06:06:49.923Z"
   },
   {
    "duration": 0,
    "start_time": "2023-02-21T06:06:49.924Z"
   },
   {
    "duration": 0,
    "start_time": "2023-02-21T06:06:49.926Z"
   },
   {
    "duration": 0,
    "start_time": "2023-02-21T06:06:49.927Z"
   },
   {
    "duration": 0,
    "start_time": "2023-02-21T06:06:49.929Z"
   },
   {
    "duration": 0,
    "start_time": "2023-02-21T06:06:49.930Z"
   },
   {
    "duration": 0,
    "start_time": "2023-02-21T06:06:49.932Z"
   },
   {
    "duration": 0,
    "start_time": "2023-02-21T06:06:49.933Z"
   },
   {
    "duration": 0,
    "start_time": "2023-02-21T06:06:49.935Z"
   },
   {
    "duration": 0,
    "start_time": "2023-02-21T06:06:49.936Z"
   },
   {
    "duration": 0,
    "start_time": "2023-02-21T06:06:49.939Z"
   },
   {
    "duration": 0,
    "start_time": "2023-02-21T06:06:49.940Z"
   },
   {
    "duration": 0,
    "start_time": "2023-02-21T06:06:49.943Z"
   },
   {
    "duration": 0,
    "start_time": "2023-02-21T06:06:49.948Z"
   },
   {
    "duration": 0,
    "start_time": "2023-02-21T06:06:49.949Z"
   },
   {
    "duration": 0,
    "start_time": "2023-02-21T06:06:49.951Z"
   },
   {
    "duration": 0,
    "start_time": "2023-02-21T06:06:49.953Z"
   },
   {
    "duration": 0,
    "start_time": "2023-02-21T06:06:49.954Z"
   },
   {
    "duration": 0,
    "start_time": "2023-02-21T06:06:49.955Z"
   },
   {
    "duration": 0,
    "start_time": "2023-02-21T06:06:49.956Z"
   },
   {
    "duration": 116,
    "start_time": "2023-02-21T06:16:24.989Z"
   },
   {
    "duration": 16,
    "start_time": "2023-02-21T06:17:10.765Z"
   },
   {
    "duration": 24,
    "start_time": "2023-02-21T06:17:48.425Z"
   },
   {
    "duration": 41,
    "start_time": "2023-02-21T06:17:54.597Z"
   },
   {
    "duration": 11,
    "start_time": "2023-02-21T06:18:09.363Z"
   },
   {
    "duration": 393,
    "start_time": "2023-02-21T06:18:11.296Z"
   },
   {
    "duration": 751,
    "start_time": "2023-02-21T06:18:16.030Z"
   },
   {
    "duration": 20,
    "start_time": "2023-02-21T06:18:24.944Z"
   },
   {
    "duration": 9,
    "start_time": "2023-02-21T06:19:02.516Z"
   },
   {
    "duration": 7,
    "start_time": "2023-02-21T06:19:28.725Z"
   },
   {
    "duration": 553,
    "start_time": "2023-02-21T06:21:54.439Z"
   },
   {
    "duration": 16,
    "start_time": "2023-02-21T06:25:41.862Z"
   },
   {
    "duration": 954,
    "start_time": "2023-02-21T06:27:23.371Z"
   },
   {
    "duration": 27,
    "start_time": "2023-02-21T06:29:22.182Z"
   },
   {
    "duration": 4,
    "start_time": "2023-02-21T06:29:57.041Z"
   },
   {
    "duration": 25,
    "start_time": "2023-02-21T06:36:33.163Z"
   },
   {
    "duration": 5,
    "start_time": "2023-02-21T06:36:38.771Z"
   },
   {
    "duration": 5,
    "start_time": "2023-02-21T06:37:06.268Z"
   },
   {
    "duration": 15,
    "start_time": "2023-02-21T06:37:24.420Z"
   },
   {
    "duration": 17,
    "start_time": "2023-02-21T06:38:36.397Z"
   },
   {
    "duration": 20,
    "start_time": "2023-02-21T06:39:33.115Z"
   },
   {
    "duration": 574,
    "start_time": "2023-02-21T06:39:43.014Z"
   },
   {
    "duration": 18,
    "start_time": "2023-02-21T06:39:47.208Z"
   },
   {
    "duration": 16,
    "start_time": "2023-02-21T06:41:07.599Z"
   },
   {
    "duration": 15,
    "start_time": "2023-02-21T06:41:27.220Z"
   },
   {
    "duration": 405,
    "start_time": "2023-02-21T06:41:30.608Z"
   },
   {
    "duration": 509,
    "start_time": "2023-02-21T06:41:37.281Z"
   },
   {
    "duration": 16,
    "start_time": "2023-02-21T06:41:51.474Z"
   },
   {
    "duration": 37,
    "start_time": "2023-02-21T06:41:54.834Z"
   },
   {
    "duration": 2234,
    "start_time": "2023-02-21T06:43:33.633Z"
   },
   {
    "duration": 443,
    "start_time": "2023-02-21T06:45:38.549Z"
   },
   {
    "duration": 427,
    "start_time": "2023-02-21T06:46:18.437Z"
   },
   {
    "duration": 477,
    "start_time": "2023-02-21T06:46:33.319Z"
   },
   {
    "duration": 28,
    "start_time": "2023-02-21T06:46:47.580Z"
   },
   {
    "duration": 1040,
    "start_time": "2023-02-21T06:47:13.594Z"
   },
   {
    "duration": 314,
    "start_time": "2023-02-21T06:47:43.731Z"
   },
   {
    "duration": 368,
    "start_time": "2023-02-21T06:47:46.533Z"
   },
   {
    "duration": 316,
    "start_time": "2023-02-21T06:47:48.915Z"
   },
   {
    "duration": 639,
    "start_time": "2023-02-21T06:49:27.128Z"
   },
   {
    "duration": 19,
    "start_time": "2023-02-21T06:50:25.279Z"
   },
   {
    "duration": 659,
    "start_time": "2023-02-21T06:52:29.552Z"
   },
   {
    "duration": 326,
    "start_time": "2023-02-21T06:52:36.288Z"
   },
   {
    "duration": 346,
    "start_time": "2023-02-21T06:52:38.680Z"
   },
   {
    "duration": 341,
    "start_time": "2023-02-21T06:52:40.478Z"
   },
   {
    "duration": 17,
    "start_time": "2023-02-21T06:53:29.275Z"
   },
   {
    "duration": 23,
    "start_time": "2023-02-21T06:53:37.476Z"
   },
   {
    "duration": 28,
    "start_time": "2023-02-21T06:53:43.643Z"
   },
   {
    "duration": 271,
    "start_time": "2023-02-21T06:54:42.789Z"
   },
   {
    "duration": 347,
    "start_time": "2023-02-21T06:54:44.227Z"
   },
   {
    "duration": 310,
    "start_time": "2023-02-21T06:54:45.675Z"
   },
   {
    "duration": 594,
    "start_time": "2023-02-21T06:55:04.187Z"
   },
   {
    "duration": 31,
    "start_time": "2023-02-21T06:55:40.644Z"
   },
   {
    "duration": 20,
    "start_time": "2023-02-21T06:55:45.473Z"
   },
   {
    "duration": 19,
    "start_time": "2023-02-21T06:55:49.780Z"
   },
   {
    "duration": 14,
    "start_time": "2023-02-21T06:55:55.611Z"
   },
   {
    "duration": 20,
    "start_time": "2023-02-21T06:56:06.688Z"
   },
   {
    "duration": 22,
    "start_time": "2023-02-21T06:56:10.947Z"
   },
   {
    "duration": 31,
    "start_time": "2023-02-21T06:56:20.739Z"
   },
   {
    "duration": 14,
    "start_time": "2023-02-21T06:56:25.833Z"
   },
   {
    "duration": 12,
    "start_time": "2023-02-21T06:56:28.077Z"
   },
   {
    "duration": 15,
    "start_time": "2023-02-21T06:56:47.828Z"
   },
   {
    "duration": 13,
    "start_time": "2023-02-21T06:56:51.093Z"
   },
   {
    "duration": 21,
    "start_time": "2023-02-21T06:56:54.747Z"
   },
   {
    "duration": 10,
    "start_time": "2023-02-21T06:57:03.300Z"
   },
   {
    "duration": 17,
    "start_time": "2023-02-21T06:57:15.949Z"
   },
   {
    "duration": 23,
    "start_time": "2023-02-21T06:57:17.945Z"
   },
   {
    "duration": 1279,
    "start_time": "2023-02-21T06:59:16.588Z"
   },
   {
    "duration": 116,
    "start_time": "2023-02-21T06:59:17.870Z"
   },
   {
    "duration": 3,
    "start_time": "2023-02-21T06:59:17.988Z"
   },
   {
    "duration": 14,
    "start_time": "2023-02-21T06:59:17.993Z"
   },
   {
    "duration": 13,
    "start_time": "2023-02-21T06:59:18.010Z"
   },
   {
    "duration": 9,
    "start_time": "2023-02-21T06:59:18.025Z"
   },
   {
    "duration": 19,
    "start_time": "2023-02-21T06:59:18.036Z"
   },
   {
    "duration": 31,
    "start_time": "2023-02-21T06:59:18.057Z"
   },
   {
    "duration": 9,
    "start_time": "2023-02-21T06:59:18.090Z"
   },
   {
    "duration": 6,
    "start_time": "2023-02-21T06:59:18.100Z"
   },
   {
    "duration": 9,
    "start_time": "2023-02-21T06:59:18.107Z"
   },
   {
    "duration": 8,
    "start_time": "2023-02-21T06:59:18.118Z"
   },
   {
    "duration": 23,
    "start_time": "2023-02-21T06:59:18.127Z"
   },
   {
    "duration": 36,
    "start_time": "2023-02-21T06:59:18.154Z"
   },
   {
    "duration": 8,
    "start_time": "2023-02-21T06:59:18.192Z"
   },
   {
    "duration": 674,
    "start_time": "2023-02-21T06:59:18.201Z"
   },
   {
    "duration": 121,
    "start_time": "2023-02-21T06:59:18.876Z"
   },
   {
    "duration": 0,
    "start_time": "2023-02-21T06:59:18.999Z"
   },
   {
    "duration": 0,
    "start_time": "2023-02-21T06:59:19.001Z"
   },
   {
    "duration": 0,
    "start_time": "2023-02-21T06:59:19.002Z"
   },
   {
    "duration": 0,
    "start_time": "2023-02-21T06:59:19.003Z"
   },
   {
    "duration": 0,
    "start_time": "2023-02-21T06:59:19.004Z"
   },
   {
    "duration": 0,
    "start_time": "2023-02-21T06:59:19.005Z"
   },
   {
    "duration": 0,
    "start_time": "2023-02-21T06:59:19.007Z"
   },
   {
    "duration": 0,
    "start_time": "2023-02-21T06:59:19.008Z"
   },
   {
    "duration": 0,
    "start_time": "2023-02-21T06:59:19.009Z"
   },
   {
    "duration": 0,
    "start_time": "2023-02-21T06:59:19.011Z"
   },
   {
    "duration": 0,
    "start_time": "2023-02-21T06:59:19.012Z"
   },
   {
    "duration": 0,
    "start_time": "2023-02-21T06:59:19.013Z"
   },
   {
    "duration": 0,
    "start_time": "2023-02-21T06:59:19.015Z"
   },
   {
    "duration": 0,
    "start_time": "2023-02-21T06:59:19.053Z"
   },
   {
    "duration": 0,
    "start_time": "2023-02-21T06:59:19.054Z"
   },
   {
    "duration": 0,
    "start_time": "2023-02-21T06:59:19.054Z"
   },
   {
    "duration": 0,
    "start_time": "2023-02-21T06:59:19.055Z"
   },
   {
    "duration": 0,
    "start_time": "2023-02-21T06:59:19.057Z"
   },
   {
    "duration": 0,
    "start_time": "2023-02-21T06:59:19.057Z"
   },
   {
    "duration": 0,
    "start_time": "2023-02-21T06:59:19.058Z"
   },
   {
    "duration": 0,
    "start_time": "2023-02-21T06:59:19.059Z"
   },
   {
    "duration": 0,
    "start_time": "2023-02-21T06:59:19.060Z"
   },
   {
    "duration": 0,
    "start_time": "2023-02-21T06:59:19.060Z"
   },
   {
    "duration": 0,
    "start_time": "2023-02-21T06:59:19.061Z"
   },
   {
    "duration": 0,
    "start_time": "2023-02-21T06:59:19.062Z"
   },
   {
    "duration": 0,
    "start_time": "2023-02-21T06:59:19.063Z"
   },
   {
    "duration": 0,
    "start_time": "2023-02-21T06:59:19.064Z"
   },
   {
    "duration": 0,
    "start_time": "2023-02-21T06:59:19.064Z"
   },
   {
    "duration": 0,
    "start_time": "2023-02-21T06:59:19.065Z"
   },
   {
    "duration": 0,
    "start_time": "2023-02-21T06:59:19.066Z"
   },
   {
    "duration": 0,
    "start_time": "2023-02-21T06:59:19.067Z"
   },
   {
    "duration": 0,
    "start_time": "2023-02-21T06:59:19.068Z"
   },
   {
    "duration": 0,
    "start_time": "2023-02-21T06:59:19.069Z"
   },
   {
    "duration": 0,
    "start_time": "2023-02-21T06:59:19.070Z"
   },
   {
    "duration": 19,
    "start_time": "2023-02-21T07:00:33.604Z"
   },
   {
    "duration": 1280,
    "start_time": "2023-02-21T07:01:11.558Z"
   },
   {
    "duration": 100,
    "start_time": "2023-02-21T07:01:12.841Z"
   },
   {
    "duration": 3,
    "start_time": "2023-02-21T07:01:12.943Z"
   },
   {
    "duration": 28,
    "start_time": "2023-02-21T07:01:12.948Z"
   },
   {
    "duration": 21,
    "start_time": "2023-02-21T07:01:12.980Z"
   },
   {
    "duration": 11,
    "start_time": "2023-02-21T07:01:13.002Z"
   },
   {
    "duration": 14,
    "start_time": "2023-02-21T07:01:13.014Z"
   },
   {
    "duration": 33,
    "start_time": "2023-02-21T07:01:13.030Z"
   },
   {
    "duration": 10,
    "start_time": "2023-02-21T07:01:13.065Z"
   },
   {
    "duration": 7,
    "start_time": "2023-02-21T07:01:13.076Z"
   },
   {
    "duration": 13,
    "start_time": "2023-02-21T07:01:13.084Z"
   },
   {
    "duration": 11,
    "start_time": "2023-02-21T07:01:13.098Z"
   },
   {
    "duration": 9,
    "start_time": "2023-02-21T07:01:13.111Z"
   },
   {
    "duration": 35,
    "start_time": "2023-02-21T07:01:13.123Z"
   },
   {
    "duration": 28,
    "start_time": "2023-02-21T07:01:13.160Z"
   },
   {
    "duration": 131,
    "start_time": "2023-02-21T07:01:13.190Z"
   },
   {
    "duration": 0,
    "start_time": "2023-02-21T07:01:13.323Z"
   },
   {
    "duration": 0,
    "start_time": "2023-02-21T07:01:13.324Z"
   },
   {
    "duration": 0,
    "start_time": "2023-02-21T07:01:13.326Z"
   },
   {
    "duration": 0,
    "start_time": "2023-02-21T07:01:13.327Z"
   },
   {
    "duration": 0,
    "start_time": "2023-02-21T07:01:13.329Z"
   },
   {
    "duration": 0,
    "start_time": "2023-02-21T07:01:13.330Z"
   },
   {
    "duration": 0,
    "start_time": "2023-02-21T07:01:13.332Z"
   },
   {
    "duration": 1,
    "start_time": "2023-02-21T07:01:13.350Z"
   },
   {
    "duration": 0,
    "start_time": "2023-02-21T07:01:13.352Z"
   },
   {
    "duration": 0,
    "start_time": "2023-02-21T07:01:13.354Z"
   },
   {
    "duration": 0,
    "start_time": "2023-02-21T07:01:13.355Z"
   },
   {
    "duration": 0,
    "start_time": "2023-02-21T07:01:13.356Z"
   },
   {
    "duration": 0,
    "start_time": "2023-02-21T07:01:13.357Z"
   },
   {
    "duration": 0,
    "start_time": "2023-02-21T07:01:13.358Z"
   },
   {
    "duration": 0,
    "start_time": "2023-02-21T07:01:13.359Z"
   },
   {
    "duration": 0,
    "start_time": "2023-02-21T07:01:13.360Z"
   },
   {
    "duration": 0,
    "start_time": "2023-02-21T07:01:13.361Z"
   },
   {
    "duration": 0,
    "start_time": "2023-02-21T07:01:13.363Z"
   },
   {
    "duration": 0,
    "start_time": "2023-02-21T07:01:13.364Z"
   },
   {
    "duration": 0,
    "start_time": "2023-02-21T07:01:13.365Z"
   },
   {
    "duration": 0,
    "start_time": "2023-02-21T07:01:13.366Z"
   },
   {
    "duration": 0,
    "start_time": "2023-02-21T07:01:13.367Z"
   },
   {
    "duration": 0,
    "start_time": "2023-02-21T07:01:13.368Z"
   },
   {
    "duration": 0,
    "start_time": "2023-02-21T07:01:13.370Z"
   },
   {
    "duration": 0,
    "start_time": "2023-02-21T07:01:13.371Z"
   },
   {
    "duration": 0,
    "start_time": "2023-02-21T07:01:13.372Z"
   },
   {
    "duration": 0,
    "start_time": "2023-02-21T07:01:13.373Z"
   },
   {
    "duration": 0,
    "start_time": "2023-02-21T07:01:13.374Z"
   },
   {
    "duration": 0,
    "start_time": "2023-02-21T07:01:13.375Z"
   },
   {
    "duration": 0,
    "start_time": "2023-02-21T07:01:13.378Z"
   },
   {
    "duration": 0,
    "start_time": "2023-02-21T07:01:13.379Z"
   },
   {
    "duration": 0,
    "start_time": "2023-02-21T07:01:13.380Z"
   },
   {
    "duration": 0,
    "start_time": "2023-02-21T07:01:13.381Z"
   },
   {
    "duration": 0,
    "start_time": "2023-02-21T07:01:13.382Z"
   },
   {
    "duration": 0,
    "start_time": "2023-02-21T07:01:13.385Z"
   },
   {
    "duration": 0,
    "start_time": "2023-02-21T07:01:13.386Z"
   },
   {
    "duration": 1349,
    "start_time": "2023-02-21T07:01:39.973Z"
   },
   {
    "duration": 123,
    "start_time": "2023-02-21T07:01:41.324Z"
   },
   {
    "duration": 14,
    "start_time": "2023-02-21T07:01:41.449Z"
   },
   {
    "duration": 51,
    "start_time": "2023-02-21T07:01:41.473Z"
   },
   {
    "duration": 31,
    "start_time": "2023-02-21T07:01:41.526Z"
   },
   {
    "duration": 44,
    "start_time": "2023-02-21T07:01:41.559Z"
   },
   {
    "duration": 17,
    "start_time": "2023-02-21T07:01:41.604Z"
   },
   {
    "duration": 45,
    "start_time": "2023-02-21T07:01:41.622Z"
   },
   {
    "duration": 41,
    "start_time": "2023-02-21T07:01:41.669Z"
   },
   {
    "duration": 6,
    "start_time": "2023-02-21T07:01:41.713Z"
   },
   {
    "duration": 10,
    "start_time": "2023-02-21T07:01:41.721Z"
   },
   {
    "duration": 10,
    "start_time": "2023-02-21T07:01:41.733Z"
   },
   {
    "duration": 44,
    "start_time": "2023-02-21T07:01:41.745Z"
   },
   {
    "duration": 14,
    "start_time": "2023-02-21T07:01:41.791Z"
   },
   {
    "duration": 8,
    "start_time": "2023-02-21T07:01:41.807Z"
   },
   {
    "duration": 1174,
    "start_time": "2023-02-21T07:01:41.816Z"
   },
   {
    "duration": 8,
    "start_time": "2023-02-21T07:01:42.992Z"
   },
   {
    "duration": 208,
    "start_time": "2023-02-21T07:01:43.050Z"
   },
   {
    "duration": 46,
    "start_time": "2023-02-21T07:01:43.260Z"
   },
   {
    "duration": 44,
    "start_time": "2023-02-21T07:01:43.308Z"
   },
   {
    "duration": 28,
    "start_time": "2023-02-21T07:01:43.354Z"
   },
   {
    "duration": 103,
    "start_time": "2023-02-21T07:01:43.385Z"
   },
   {
    "duration": 1710,
    "start_time": "2023-02-21T07:01:43.491Z"
   },
   {
    "duration": 38,
    "start_time": "2023-02-21T07:01:45.203Z"
   },
   {
    "duration": 14,
    "start_time": "2023-02-21T07:01:45.243Z"
   },
   {
    "duration": 45,
    "start_time": "2023-02-21T07:01:45.259Z"
   },
   {
    "duration": 593,
    "start_time": "2023-02-21T07:01:45.306Z"
   },
   {
    "duration": 15,
    "start_time": "2023-02-21T07:01:45.903Z"
   },
   {
    "duration": 512,
    "start_time": "2023-02-21T07:01:45.920Z"
   },
   {
    "duration": 501,
    "start_time": "2023-02-21T07:01:46.435Z"
   },
   {
    "duration": 37,
    "start_time": "2023-02-21T07:01:46.938Z"
   },
   {
    "duration": 495,
    "start_time": "2023-02-21T07:01:46.977Z"
   },
   {
    "duration": 430,
    "start_time": "2023-02-21T07:01:47.474Z"
   },
   {
    "duration": 22,
    "start_time": "2023-02-21T07:01:47.907Z"
   },
   {
    "duration": 46,
    "start_time": "2023-02-21T07:01:47.931Z"
   },
   {
    "duration": 75,
    "start_time": "2023-02-21T07:01:47.981Z"
   },
   {
    "duration": 2227,
    "start_time": "2023-02-21T07:01:48.062Z"
   },
   {
    "duration": 26,
    "start_time": "2023-02-21T07:01:50.291Z"
   },
   {
    "duration": 441,
    "start_time": "2023-02-21T07:01:50.318Z"
   },
   {
    "duration": 886,
    "start_time": "2023-02-21T07:01:50.761Z"
   },
   {
    "duration": 32,
    "start_time": "2023-02-21T07:01:51.650Z"
   },
   {
    "duration": 592,
    "start_time": "2023-02-21T07:01:51.684Z"
   },
   {
    "duration": 20,
    "start_time": "2023-02-21T07:01:52.280Z"
   },
   {
    "duration": 699,
    "start_time": "2023-02-21T07:01:52.302Z"
   },
   {
    "duration": 14,
    "start_time": "2023-02-21T07:01:53.003Z"
   },
   {
    "duration": 52,
    "start_time": "2023-02-21T07:01:53.019Z"
   },
   {
    "duration": 578,
    "start_time": "2023-02-21T07:01:53.077Z"
   },
   {
    "duration": 31,
    "start_time": "2023-02-21T07:01:53.657Z"
   },
   {
    "duration": 17,
    "start_time": "2023-02-21T07:01:53.690Z"
   },
   {
    "duration": 13,
    "start_time": "2023-02-21T07:01:53.709Z"
   },
   {
    "duration": 36,
    "start_time": "2023-02-21T07:01:53.724Z"
   },
   {
    "duration": 39,
    "start_time": "2023-02-21T07:01:53.763Z"
   },
   {
    "duration": 1257,
    "start_time": "2023-02-21T07:02:28.848Z"
   },
   {
    "duration": 97,
    "start_time": "2023-02-21T07:02:30.107Z"
   },
   {
    "duration": 3,
    "start_time": "2023-02-21T07:02:30.205Z"
   },
   {
    "duration": 27,
    "start_time": "2023-02-21T07:02:30.210Z"
   },
   {
    "duration": 27,
    "start_time": "2023-02-21T07:02:30.239Z"
   },
   {
    "duration": 35,
    "start_time": "2023-02-21T07:02:30.270Z"
   },
   {
    "duration": 24,
    "start_time": "2023-02-21T07:02:30.307Z"
   },
   {
    "duration": 40,
    "start_time": "2023-02-21T07:02:30.333Z"
   },
   {
    "duration": 25,
    "start_time": "2023-02-21T07:02:30.374Z"
   },
   {
    "duration": 17,
    "start_time": "2023-02-21T07:02:30.402Z"
   },
   {
    "duration": 14,
    "start_time": "2023-02-21T07:02:30.421Z"
   },
   {
    "duration": 20,
    "start_time": "2023-02-21T07:02:30.437Z"
   },
   {
    "duration": 34,
    "start_time": "2023-02-21T07:02:30.460Z"
   },
   {
    "duration": 12,
    "start_time": "2023-02-21T07:02:30.496Z"
   },
   {
    "duration": 28,
    "start_time": "2023-02-21T07:02:30.511Z"
   },
   {
    "duration": 735,
    "start_time": "2023-02-21T07:02:30.541Z"
   },
   {
    "duration": 7,
    "start_time": "2023-02-21T07:02:31.278Z"
   },
   {
    "duration": 32,
    "start_time": "2023-02-21T07:02:31.286Z"
   },
   {
    "duration": 23,
    "start_time": "2023-02-21T07:02:31.319Z"
   },
   {
    "duration": 60,
    "start_time": "2023-02-21T07:02:31.343Z"
   },
   {
    "duration": 46,
    "start_time": "2023-02-21T07:02:31.405Z"
   },
   {
    "duration": 1039,
    "start_time": "2023-02-21T07:02:31.457Z"
   },
   {
    "duration": 24,
    "start_time": "2023-02-21T07:02:32.498Z"
   },
   {
    "duration": 4,
    "start_time": "2023-02-21T07:02:32.524Z"
   },
   {
    "duration": 50,
    "start_time": "2023-02-21T07:02:32.530Z"
   },
   {
    "duration": 596,
    "start_time": "2023-02-21T07:02:32.583Z"
   },
   {
    "duration": 27,
    "start_time": "2023-02-21T07:02:33.180Z"
   },
   {
    "duration": 452,
    "start_time": "2023-02-21T07:02:33.210Z"
   },
   {
    "duration": 555,
    "start_time": "2023-02-21T07:02:33.664Z"
   },
   {
    "duration": 14,
    "start_time": "2023-02-21T07:02:34.221Z"
   },
   {
    "duration": 383,
    "start_time": "2023-02-21T07:02:34.249Z"
   },
   {
    "duration": 391,
    "start_time": "2023-02-21T07:02:34.634Z"
   },
   {
    "duration": 27,
    "start_time": "2023-02-21T07:02:35.027Z"
   },
   {
    "duration": 34,
    "start_time": "2023-02-21T07:02:35.060Z"
   },
   {
    "duration": 20,
    "start_time": "2023-02-21T07:02:35.096Z"
   },
   {
    "duration": 2379,
    "start_time": "2023-02-21T07:02:35.117Z"
   },
   {
    "duration": 26,
    "start_time": "2023-02-21T07:02:37.498Z"
   },
   {
    "duration": 599,
    "start_time": "2023-02-21T07:02:37.526Z"
   },
   {
    "duration": 756,
    "start_time": "2023-02-21T07:02:38.127Z"
   },
   {
    "duration": 18,
    "start_time": "2023-02-21T07:02:38.885Z"
   },
   {
    "duration": 628,
    "start_time": "2023-02-21T07:02:38.904Z"
   },
   {
    "duration": 37,
    "start_time": "2023-02-21T07:02:39.534Z"
   },
   {
    "duration": 565,
    "start_time": "2023-02-21T07:02:39.578Z"
   },
   {
    "duration": 33,
    "start_time": "2023-02-21T07:02:40.144Z"
   },
   {
    "duration": 23,
    "start_time": "2023-02-21T07:02:40.179Z"
   },
   {
    "duration": 578,
    "start_time": "2023-02-21T07:02:40.203Z"
   },
   {
    "duration": 18,
    "start_time": "2023-02-21T07:02:40.783Z"
   },
   {
    "duration": 17,
    "start_time": "2023-02-21T07:02:40.804Z"
   },
   {
    "duration": 33,
    "start_time": "2023-02-21T07:02:40.824Z"
   },
   {
    "duration": 23,
    "start_time": "2023-02-21T07:02:40.866Z"
   },
   {
    "duration": 13,
    "start_time": "2023-02-21T07:02:40.890Z"
   }
  ],
  "colab": {
   "provenance": []
  },
  "kernelspec": {
   "display_name": "Python 3 (ipykernel)",
   "language": "python",
   "name": "python3"
  },
  "language_info": {
   "codemirror_mode": {
    "name": "ipython",
    "version": 3
   },
   "file_extension": ".py",
   "mimetype": "text/x-python",
   "name": "python",
   "nbconvert_exporter": "python",
   "pygments_lexer": "ipython3",
   "version": "3.9.5"
  },
  "toc": {
   "base_numbering": 1,
   "nav_menu": {},
   "number_sections": true,
   "sideBar": true,
   "skip_h1_title": true,
   "title_cell": "Table of Contents",
   "title_sidebar": "Contents",
   "toc_cell": false,
   "toc_position": {
    "height": "calc(100% - 180px)",
    "left": "10px",
    "top": "150px",
    "width": "366.383px"
   },
   "toc_section_display": true,
   "toc_window_display": true
  }
 },
 "nbformat": 4,
 "nbformat_minor": 1
}
