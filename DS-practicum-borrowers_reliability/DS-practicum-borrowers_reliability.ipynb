{
  "cells": [
    {
      "cell_type": "markdown",
      "metadata": {
        "id": "zzu4fLX3jY3-"
      },
      "source": [
        "# Reliability of borrowers\n",
        "\n",
        "The credit department of a bank is the client for this project, and they are seeking to investigate the potential impact of a customer's marital status and number of children on their ability to repay loans promptly. The bank will utilize customer payment capability statistics as their input data.\n",
        "\n",
        "The findings of this research will be incorporated into the development of a **credit scoring** model, which is a specialized system designed to evaluate a potential borrower's ability to repay a loan to the bank."
      ]
    },
    {
      "cell_type": "markdown",
      "metadata": {
        "id": "NkOnEcpMjY4B"
      },
      "source": [
        "## Step 1. Open the dataset and review the info"
      ]
    },
    {
      "cell_type": "code",
      "execution_count": 1,
      "metadata": {
        "id": "wI9PZBRFjY4C",
        "colab": {
          "base_uri": "https://localhost:8080/"
        },
        "outputId": "8df0519d-79b4-4e47-81c8-26cebd952ace"
      },
      "outputs": [
        {
          "output_type": "stream",
          "name": "stderr",
          "text": [
            "Installing mystem to /root/.local/bin/mystem from http://download.cdn.yandex.net/mystem/mystem-3.1-linux-64bit.tar.gz\n"
          ]
        }
      ],
      "source": [
        "import matplotlib.pyplot as plt\n",
        "import numpy as np\n",
        "import pandas as pd\n",
        "from pymystem3 import Mystem\n",
        "from collections import Counter\n",
        "\n",
        "m = Mystem()"
      ]
    },
    {
      "cell_type": "code",
      "source": [
        "try:\n",
        "    df = pd.read_csv(\"/datasets/data.csv\")\n",
        "except FileNotFoundError:\n",
        "    try:\n",
        "        df = pd.read_csv(\"data.csv\")\n",
        "    except FileNotFoundError:\n",
        "        try:\n",
        "            df = pd.read_csv(r\"data.csv\")\n",
        "        except FileNotFoundError:\n",
        "            print(\"File not found\")"
      ],
      "metadata": {
        "id": "5gUrqmDl8tBb"
      },
      "execution_count": 2,
      "outputs": []
    },
    {
      "cell_type": "code",
      "source": [
        "print(\"Shape of dataframe: {}\\n\".format(df.shape))\n",
        "print(\"-\" * 26)\n",
        "print(\"Missing values:\\n\")\n",
        "print(df.isna().mean().sort_values())\n",
        "print(\"-\" * 26)\n",
        "print(\"Duplicates: {}\\n\".format(df.duplicated().sum()))\n",
        "print(\"-\" * 26)\n",
        "print(\"Data type:\\n\")\n",
        "print(df.dtypes)\n",
        "display(df.describe())\n",
        "display(df.head())"
      ],
      "metadata": {
        "id": "QYmeYhOsl5fw",
        "colab": {
          "base_uri": "https://localhost:8080/",
          "height": 1000
        },
        "outputId": "8c175d68-2917-4463-a685-fc34efa1b921"
      },
      "execution_count": 3,
      "outputs": [
        {
          "output_type": "stream",
          "name": "stdout",
          "text": [
            "Shape of dataframe: (21525, 12)\n",
            "\n",
            "--------------------------\n",
            "Missing values:\n",
            "\n",
            "children            0.000000\n",
            "dob_years           0.000000\n",
            "education           0.000000\n",
            "education_id        0.000000\n",
            "family_status       0.000000\n",
            "family_status_id    0.000000\n",
            "gender              0.000000\n",
            "income_type         0.000000\n",
            "debt                0.000000\n",
            "purpose             0.000000\n",
            "days_employed       0.100999\n",
            "total_income        0.100999\n",
            "dtype: float64\n",
            "--------------------------\n",
            "Duplicates: 54\n",
            "\n",
            "--------------------------\n",
            "Data type:\n",
            "\n",
            "children              int64\n",
            "days_employed       float64\n",
            "dob_years             int64\n",
            "education            object\n",
            "education_id          int64\n",
            "family_status        object\n",
            "family_status_id      int64\n",
            "gender               object\n",
            "income_type          object\n",
            "debt                  int64\n",
            "total_income        float64\n",
            "purpose              object\n",
            "dtype: object\n"
          ]
        },
        {
          "output_type": "display_data",
          "data": {
            "text/plain": [
              "           children  days_employed     dob_years  education_id  \\\n",
              "count  21525.000000   19351.000000  21525.000000  21525.000000   \n",
              "mean       0.538908   63046.497661     43.293380      0.817236   \n",
              "std        1.381587  140827.311974     12.574584      0.548138   \n",
              "min       -1.000000  -18388.949901      0.000000      0.000000   \n",
              "25%        0.000000   -2747.423625     33.000000      1.000000   \n",
              "50%        0.000000   -1203.369529     42.000000      1.000000   \n",
              "75%        1.000000    -291.095954     53.000000      1.000000   \n",
              "max       20.000000  401755.400475     75.000000      4.000000   \n",
              "\n",
              "       family_status_id          debt  total_income  \n",
              "count      21525.000000  21525.000000  1.935100e+04  \n",
              "mean           0.972544      0.080883  1.674223e+05  \n",
              "std            1.420324      0.272661  1.029716e+05  \n",
              "min            0.000000      0.000000  2.066726e+04  \n",
              "25%            0.000000      0.000000  1.030532e+05  \n",
              "50%            0.000000      0.000000  1.450179e+05  \n",
              "75%            1.000000      0.000000  2.034351e+05  \n",
              "max            4.000000      1.000000  2.265604e+06  "
            ],
            "text/html": [
              "\n",
              "  <div id=\"df-59aa306f-62f9-46c5-9c08-6d3170287b64\">\n",
              "    <div class=\"colab-df-container\">\n",
              "      <div>\n",
              "<style scoped>\n",
              "    .dataframe tbody tr th:only-of-type {\n",
              "        vertical-align: middle;\n",
              "    }\n",
              "\n",
              "    .dataframe tbody tr th {\n",
              "        vertical-align: top;\n",
              "    }\n",
              "\n",
              "    .dataframe thead th {\n",
              "        text-align: right;\n",
              "    }\n",
              "</style>\n",
              "<table border=\"1\" class=\"dataframe\">\n",
              "  <thead>\n",
              "    <tr style=\"text-align: right;\">\n",
              "      <th></th>\n",
              "      <th>children</th>\n",
              "      <th>days_employed</th>\n",
              "      <th>dob_years</th>\n",
              "      <th>education_id</th>\n",
              "      <th>family_status_id</th>\n",
              "      <th>debt</th>\n",
              "      <th>total_income</th>\n",
              "    </tr>\n",
              "  </thead>\n",
              "  <tbody>\n",
              "    <tr>\n",
              "      <th>count</th>\n",
              "      <td>21525.000000</td>\n",
              "      <td>19351.000000</td>\n",
              "      <td>21525.000000</td>\n",
              "      <td>21525.000000</td>\n",
              "      <td>21525.000000</td>\n",
              "      <td>21525.000000</td>\n",
              "      <td>1.935100e+04</td>\n",
              "    </tr>\n",
              "    <tr>\n",
              "      <th>mean</th>\n",
              "      <td>0.538908</td>\n",
              "      <td>63046.497661</td>\n",
              "      <td>43.293380</td>\n",
              "      <td>0.817236</td>\n",
              "      <td>0.972544</td>\n",
              "      <td>0.080883</td>\n",
              "      <td>1.674223e+05</td>\n",
              "    </tr>\n",
              "    <tr>\n",
              "      <th>std</th>\n",
              "      <td>1.381587</td>\n",
              "      <td>140827.311974</td>\n",
              "      <td>12.574584</td>\n",
              "      <td>0.548138</td>\n",
              "      <td>1.420324</td>\n",
              "      <td>0.272661</td>\n",
              "      <td>1.029716e+05</td>\n",
              "    </tr>\n",
              "    <tr>\n",
              "      <th>min</th>\n",
              "      <td>-1.000000</td>\n",
              "      <td>-18388.949901</td>\n",
              "      <td>0.000000</td>\n",
              "      <td>0.000000</td>\n",
              "      <td>0.000000</td>\n",
              "      <td>0.000000</td>\n",
              "      <td>2.066726e+04</td>\n",
              "    </tr>\n",
              "    <tr>\n",
              "      <th>25%</th>\n",
              "      <td>0.000000</td>\n",
              "      <td>-2747.423625</td>\n",
              "      <td>33.000000</td>\n",
              "      <td>1.000000</td>\n",
              "      <td>0.000000</td>\n",
              "      <td>0.000000</td>\n",
              "      <td>1.030532e+05</td>\n",
              "    </tr>\n",
              "    <tr>\n",
              "      <th>50%</th>\n",
              "      <td>0.000000</td>\n",
              "      <td>-1203.369529</td>\n",
              "      <td>42.000000</td>\n",
              "      <td>1.000000</td>\n",
              "      <td>0.000000</td>\n",
              "      <td>0.000000</td>\n",
              "      <td>1.450179e+05</td>\n",
              "    </tr>\n",
              "    <tr>\n",
              "      <th>75%</th>\n",
              "      <td>1.000000</td>\n",
              "      <td>-291.095954</td>\n",
              "      <td>53.000000</td>\n",
              "      <td>1.000000</td>\n",
              "      <td>1.000000</td>\n",
              "      <td>0.000000</td>\n",
              "      <td>2.034351e+05</td>\n",
              "    </tr>\n",
              "    <tr>\n",
              "      <th>max</th>\n",
              "      <td>20.000000</td>\n",
              "      <td>401755.400475</td>\n",
              "      <td>75.000000</td>\n",
              "      <td>4.000000</td>\n",
              "      <td>4.000000</td>\n",
              "      <td>1.000000</td>\n",
              "      <td>2.265604e+06</td>\n",
              "    </tr>\n",
              "  </tbody>\n",
              "</table>\n",
              "</div>\n",
              "      <button class=\"colab-df-convert\" onclick=\"convertToInteractive('df-59aa306f-62f9-46c5-9c08-6d3170287b64')\"\n",
              "              title=\"Convert this dataframe to an interactive table.\"\n",
              "              style=\"display:none;\">\n",
              "        \n",
              "  <svg xmlns=\"http://www.w3.org/2000/svg\" height=\"24px\"viewBox=\"0 0 24 24\"\n",
              "       width=\"24px\">\n",
              "    <path d=\"M0 0h24v24H0V0z\" fill=\"none\"/>\n",
              "    <path d=\"M18.56 5.44l.94 2.06.94-2.06 2.06-.94-2.06-.94-.94-2.06-.94 2.06-2.06.94zm-11 1L8.5 8.5l.94-2.06 2.06-.94-2.06-.94L8.5 2.5l-.94 2.06-2.06.94zm10 10l.94 2.06.94-2.06 2.06-.94-2.06-.94-.94-2.06-.94 2.06-2.06.94z\"/><path d=\"M17.41 7.96l-1.37-1.37c-.4-.4-.92-.59-1.43-.59-.52 0-1.04.2-1.43.59L10.3 9.45l-7.72 7.72c-.78.78-.78 2.05 0 2.83L4 21.41c.39.39.9.59 1.41.59.51 0 1.02-.2 1.41-.59l7.78-7.78 2.81-2.81c.8-.78.8-2.07 0-2.86zM5.41 20L4 18.59l7.72-7.72 1.47 1.35L5.41 20z\"/>\n",
              "  </svg>\n",
              "      </button>\n",
              "      \n",
              "  <style>\n",
              "    .colab-df-container {\n",
              "      display:flex;\n",
              "      flex-wrap:wrap;\n",
              "      gap: 12px;\n",
              "    }\n",
              "\n",
              "    .colab-df-convert {\n",
              "      background-color: #E8F0FE;\n",
              "      border: none;\n",
              "      border-radius: 50%;\n",
              "      cursor: pointer;\n",
              "      display: none;\n",
              "      fill: #1967D2;\n",
              "      height: 32px;\n",
              "      padding: 0 0 0 0;\n",
              "      width: 32px;\n",
              "    }\n",
              "\n",
              "    .colab-df-convert:hover {\n",
              "      background-color: #E2EBFA;\n",
              "      box-shadow: 0px 1px 2px rgba(60, 64, 67, 0.3), 0px 1px 3px 1px rgba(60, 64, 67, 0.15);\n",
              "      fill: #174EA6;\n",
              "    }\n",
              "\n",
              "    [theme=dark] .colab-df-convert {\n",
              "      background-color: #3B4455;\n",
              "      fill: #D2E3FC;\n",
              "    }\n",
              "\n",
              "    [theme=dark] .colab-df-convert:hover {\n",
              "      background-color: #434B5C;\n",
              "      box-shadow: 0px 1px 3px 1px rgba(0, 0, 0, 0.15);\n",
              "      filter: drop-shadow(0px 1px 2px rgba(0, 0, 0, 0.3));\n",
              "      fill: #FFFFFF;\n",
              "    }\n",
              "  </style>\n",
              "\n",
              "      <script>\n",
              "        const buttonEl =\n",
              "          document.querySelector('#df-59aa306f-62f9-46c5-9c08-6d3170287b64 button.colab-df-convert');\n",
              "        buttonEl.style.display =\n",
              "          google.colab.kernel.accessAllowed ? 'block' : 'none';\n",
              "\n",
              "        async function convertToInteractive(key) {\n",
              "          const element = document.querySelector('#df-59aa306f-62f9-46c5-9c08-6d3170287b64');\n",
              "          const dataTable =\n",
              "            await google.colab.kernel.invokeFunction('convertToInteractive',\n",
              "                                                     [key], {});\n",
              "          if (!dataTable) return;\n",
              "\n",
              "          const docLinkHtml = 'Like what you see? Visit the ' +\n",
              "            '<a target=\"_blank\" href=https://colab.research.google.com/notebooks/data_table.ipynb>data table notebook</a>'\n",
              "            + ' to learn more about interactive tables.';\n",
              "          element.innerHTML = '';\n",
              "          dataTable['output_type'] = 'display_data';\n",
              "          await google.colab.output.renderOutput(dataTable, element);\n",
              "          const docLink = document.createElement('div');\n",
              "          docLink.innerHTML = docLinkHtml;\n",
              "          element.appendChild(docLink);\n",
              "        }\n",
              "      </script>\n",
              "    </div>\n",
              "  </div>\n",
              "  "
            ]
          },
          "metadata": {}
        },
        {
          "output_type": "display_data",
          "data": {
            "text/plain": [
              "   children  days_employed  dob_years education  education_id  \\\n",
              "0         1   -8437.673028         42    высшее             0   \n",
              "1         1   -4024.803754         36   среднее             1   \n",
              "2         0   -5623.422610         33   Среднее             1   \n",
              "3         3   -4124.747207         32   среднее             1   \n",
              "4         0  340266.072047         53   среднее             1   \n",
              "\n",
              "      family_status  family_status_id gender income_type  debt   total_income  \\\n",
              "0   женат / замужем                 0      F   сотрудник     0  253875.639453   \n",
              "1   женат / замужем                 0      F   сотрудник     0  112080.014102   \n",
              "2   женат / замужем                 0      M   сотрудник     0  145885.952297   \n",
              "3   женат / замужем                 0      M   сотрудник     0  267628.550329   \n",
              "4  гражданский брак                 1      F   пенсионер     0  158616.077870   \n",
              "\n",
              "                      purpose  \n",
              "0               покупка жилья  \n",
              "1     приобретение автомобиля  \n",
              "2               покупка жилья  \n",
              "3  дополнительное образование  \n",
              "4             сыграть свадьбу  "
            ],
            "text/html": [
              "\n",
              "  <div id=\"df-a28af2c9-5129-4811-9e91-d62c6678e2cc\">\n",
              "    <div class=\"colab-df-container\">\n",
              "      <div>\n",
              "<style scoped>\n",
              "    .dataframe tbody tr th:only-of-type {\n",
              "        vertical-align: middle;\n",
              "    }\n",
              "\n",
              "    .dataframe tbody tr th {\n",
              "        vertical-align: top;\n",
              "    }\n",
              "\n",
              "    .dataframe thead th {\n",
              "        text-align: right;\n",
              "    }\n",
              "</style>\n",
              "<table border=\"1\" class=\"dataframe\">\n",
              "  <thead>\n",
              "    <tr style=\"text-align: right;\">\n",
              "      <th></th>\n",
              "      <th>children</th>\n",
              "      <th>days_employed</th>\n",
              "      <th>dob_years</th>\n",
              "      <th>education</th>\n",
              "      <th>education_id</th>\n",
              "      <th>family_status</th>\n",
              "      <th>family_status_id</th>\n",
              "      <th>gender</th>\n",
              "      <th>income_type</th>\n",
              "      <th>debt</th>\n",
              "      <th>total_income</th>\n",
              "      <th>purpose</th>\n",
              "    </tr>\n",
              "  </thead>\n",
              "  <tbody>\n",
              "    <tr>\n",
              "      <th>0</th>\n",
              "      <td>1</td>\n",
              "      <td>-8437.673028</td>\n",
              "      <td>42</td>\n",
              "      <td>высшее</td>\n",
              "      <td>0</td>\n",
              "      <td>женат / замужем</td>\n",
              "      <td>0</td>\n",
              "      <td>F</td>\n",
              "      <td>сотрудник</td>\n",
              "      <td>0</td>\n",
              "      <td>253875.639453</td>\n",
              "      <td>покупка жилья</td>\n",
              "    </tr>\n",
              "    <tr>\n",
              "      <th>1</th>\n",
              "      <td>1</td>\n",
              "      <td>-4024.803754</td>\n",
              "      <td>36</td>\n",
              "      <td>среднее</td>\n",
              "      <td>1</td>\n",
              "      <td>женат / замужем</td>\n",
              "      <td>0</td>\n",
              "      <td>F</td>\n",
              "      <td>сотрудник</td>\n",
              "      <td>0</td>\n",
              "      <td>112080.014102</td>\n",
              "      <td>приобретение автомобиля</td>\n",
              "    </tr>\n",
              "    <tr>\n",
              "      <th>2</th>\n",
              "      <td>0</td>\n",
              "      <td>-5623.422610</td>\n",
              "      <td>33</td>\n",
              "      <td>Среднее</td>\n",
              "      <td>1</td>\n",
              "      <td>женат / замужем</td>\n",
              "      <td>0</td>\n",
              "      <td>M</td>\n",
              "      <td>сотрудник</td>\n",
              "      <td>0</td>\n",
              "      <td>145885.952297</td>\n",
              "      <td>покупка жилья</td>\n",
              "    </tr>\n",
              "    <tr>\n",
              "      <th>3</th>\n",
              "      <td>3</td>\n",
              "      <td>-4124.747207</td>\n",
              "      <td>32</td>\n",
              "      <td>среднее</td>\n",
              "      <td>1</td>\n",
              "      <td>женат / замужем</td>\n",
              "      <td>0</td>\n",
              "      <td>M</td>\n",
              "      <td>сотрудник</td>\n",
              "      <td>0</td>\n",
              "      <td>267628.550329</td>\n",
              "      <td>дополнительное образование</td>\n",
              "    </tr>\n",
              "    <tr>\n",
              "      <th>4</th>\n",
              "      <td>0</td>\n",
              "      <td>340266.072047</td>\n",
              "      <td>53</td>\n",
              "      <td>среднее</td>\n",
              "      <td>1</td>\n",
              "      <td>гражданский брак</td>\n",
              "      <td>1</td>\n",
              "      <td>F</td>\n",
              "      <td>пенсионер</td>\n",
              "      <td>0</td>\n",
              "      <td>158616.077870</td>\n",
              "      <td>сыграть свадьбу</td>\n",
              "    </tr>\n",
              "  </tbody>\n",
              "</table>\n",
              "</div>\n",
              "      <button class=\"colab-df-convert\" onclick=\"convertToInteractive('df-a28af2c9-5129-4811-9e91-d62c6678e2cc')\"\n",
              "              title=\"Convert this dataframe to an interactive table.\"\n",
              "              style=\"display:none;\">\n",
              "        \n",
              "  <svg xmlns=\"http://www.w3.org/2000/svg\" height=\"24px\"viewBox=\"0 0 24 24\"\n",
              "       width=\"24px\">\n",
              "    <path d=\"M0 0h24v24H0V0z\" fill=\"none\"/>\n",
              "    <path d=\"M18.56 5.44l.94 2.06.94-2.06 2.06-.94-2.06-.94-.94-2.06-.94 2.06-2.06.94zm-11 1L8.5 8.5l.94-2.06 2.06-.94-2.06-.94L8.5 2.5l-.94 2.06-2.06.94zm10 10l.94 2.06.94-2.06 2.06-.94-2.06-.94-.94-2.06-.94 2.06-2.06.94z\"/><path d=\"M17.41 7.96l-1.37-1.37c-.4-.4-.92-.59-1.43-.59-.52 0-1.04.2-1.43.59L10.3 9.45l-7.72 7.72c-.78.78-.78 2.05 0 2.83L4 21.41c.39.39.9.59 1.41.59.51 0 1.02-.2 1.41-.59l7.78-7.78 2.81-2.81c.8-.78.8-2.07 0-2.86zM5.41 20L4 18.59l7.72-7.72 1.47 1.35L5.41 20z\"/>\n",
              "  </svg>\n",
              "      </button>\n",
              "      \n",
              "  <style>\n",
              "    .colab-df-container {\n",
              "      display:flex;\n",
              "      flex-wrap:wrap;\n",
              "      gap: 12px;\n",
              "    }\n",
              "\n",
              "    .colab-df-convert {\n",
              "      background-color: #E8F0FE;\n",
              "      border: none;\n",
              "      border-radius: 50%;\n",
              "      cursor: pointer;\n",
              "      display: none;\n",
              "      fill: #1967D2;\n",
              "      height: 32px;\n",
              "      padding: 0 0 0 0;\n",
              "      width: 32px;\n",
              "    }\n",
              "\n",
              "    .colab-df-convert:hover {\n",
              "      background-color: #E2EBFA;\n",
              "      box-shadow: 0px 1px 2px rgba(60, 64, 67, 0.3), 0px 1px 3px 1px rgba(60, 64, 67, 0.15);\n",
              "      fill: #174EA6;\n",
              "    }\n",
              "\n",
              "    [theme=dark] .colab-df-convert {\n",
              "      background-color: #3B4455;\n",
              "      fill: #D2E3FC;\n",
              "    }\n",
              "\n",
              "    [theme=dark] .colab-df-convert:hover {\n",
              "      background-color: #434B5C;\n",
              "      box-shadow: 0px 1px 3px 1px rgba(0, 0, 0, 0.15);\n",
              "      filter: drop-shadow(0px 1px 2px rgba(0, 0, 0, 0.3));\n",
              "      fill: #FFFFFF;\n",
              "    }\n",
              "  </style>\n",
              "\n",
              "      <script>\n",
              "        const buttonEl =\n",
              "          document.querySelector('#df-a28af2c9-5129-4811-9e91-d62c6678e2cc button.colab-df-convert');\n",
              "        buttonEl.style.display =\n",
              "          google.colab.kernel.accessAllowed ? 'block' : 'none';\n",
              "\n",
              "        async function convertToInteractive(key) {\n",
              "          const element = document.querySelector('#df-a28af2c9-5129-4811-9e91-d62c6678e2cc');\n",
              "          const dataTable =\n",
              "            await google.colab.kernel.invokeFunction('convertToInteractive',\n",
              "                                                     [key], {});\n",
              "          if (!dataTable) return;\n",
              "\n",
              "          const docLinkHtml = 'Like what you see? Visit the ' +\n",
              "            '<a target=\"_blank\" href=https://colab.research.google.com/notebooks/data_table.ipynb>data table notebook</a>'\n",
              "            + ' to learn more about interactive tables.';\n",
              "          element.innerHTML = '';\n",
              "          dataTable['output_type'] = 'display_data';\n",
              "          await google.colab.output.renderOutput(dataTable, element);\n",
              "          const docLink = document.createElement('div');\n",
              "          docLink.innerHTML = docLinkHtml;\n",
              "          element.appendChild(docLink);\n",
              "        }\n",
              "      </script>\n",
              "    </div>\n",
              "  </div>\n",
              "  "
            ]
          },
          "metadata": {}
        }
      ]
    },
    {
      "cell_type": "code",
      "execution_count": 4,
      "metadata": {
        "scrolled": true,
        "id": "F6TBDhPbjY4E",
        "outputId": "331fe811-4c20-4aaf-f45d-2afc137f7438",
        "colab": {
          "base_uri": "https://localhost:8080/"
        }
      },
      "outputs": [
        {
          "output_type": "stream",
          "name": "stdout",
          "text": [
            "Unique values in DOB: [ 0 19 20 21 22 23 24 25 26 27 28 29 30 31 32 33 34 35 36 37 38 39 40 41\n",
            " 42 43 44 45 46 47 48 49 50 51 52 53 54 55 56 57 58 59 60 61 62 63 64 65\n",
            " 66 67 68 69 70 71 72 73 74 75]\n"
          ]
        }
      ],
      "source": [
        "print(f\"Unique values in DOB: {np.array(sorted(df['dob_years'].unique()))}\")"
      ]
    },
    {
      "cell_type": "code",
      "execution_count": 5,
      "metadata": {
        "id": "Ep4KblAcjY4E",
        "outputId": "a5606272-1b39-4708-f18b-d189f5f614af",
        "colab": {
          "base_uri": "https://localhost:8080/"
        }
      },
      "outputs": [
        {
          "output_type": "execute_result",
          "data": {
            "text/plain": [
              "среднее                13750\n",
              "высшее                  4718\n",
              "СРЕДНЕЕ                  772\n",
              "Среднее                  711\n",
              "неоконченное высшее      668\n",
              "ВЫСШЕЕ                   274\n",
              "Высшее                   268\n",
              "начальное                250\n",
              "Неоконченное высшее       47\n",
              "НЕОКОНЧЕННОЕ ВЫСШЕЕ       29\n",
              "НАЧАЛЬНОЕ                 17\n",
              "Начальное                 15\n",
              "ученая степень             4\n",
              "Ученая степень             1\n",
              "УЧЕНАЯ СТЕПЕНЬ             1\n",
              "Name: education, dtype: int64"
            ]
          },
          "metadata": {},
          "execution_count": 5
        }
      ],
      "source": [
        "df[\"education\"].value_counts()"
      ]
    },
    {
      "cell_type": "code",
      "execution_count": 6,
      "metadata": {
        "id": "YZa6Yj1ujY4F",
        "outputId": "19330fe4-fe57-4471-ec40-22edbf07d9e8",
        "colab": {
          "base_uri": "https://localhost:8080/"
        }
      },
      "outputs": [
        {
          "output_type": "execute_result",
          "data": {
            "text/plain": [
              "F      14236\n",
              "M       7288\n",
              "XNA        1\n",
              "Name: gender, dtype: int64"
            ]
          },
          "metadata": {},
          "execution_count": 6
        }
      ],
      "source": [
        "df[\"gender\"].value_counts()"
      ]
    },
    {
      "cell_type": "markdown",
      "metadata": {
        "id": "782KrMnhjY4F"
      },
      "source": [
        "**Conclusion**\n",
        "\n",
        "- `children` and `days_employed` contains negative values.\n",
        "- `dob_years` contains \"0\" as values.\n",
        "- `gender` contains \"XNA\" value.\n",
        "- There's a different case in values in `education` column."
      ]
    },
    {
      "cell_type": "markdown",
      "metadata": {
        "id": "WDUsPMrqjY4F"
      },
      "source": [
        "## Step 2. Data preprocessing\n",
        "\n",
        "### Missing values processing"
      ]
    },
    {
      "cell_type": "markdown",
      "metadata": {
        "id": "KltV3ASCjY4G"
      },
      "source": [
        "Replacing NaN values in `days_employed` with \"0\":"
      ]
    },
    {
      "cell_type": "code",
      "execution_count": 7,
      "metadata": {
        "id": "mhMsZ-qvjY4G",
        "outputId": "288fdcf3-50cb-4ae9-b6a9-d47ecf4fbb43",
        "colab": {
          "base_uri": "https://localhost:8080/"
        }
      },
      "outputs": [
        {
          "output_type": "execute_result",
          "data": {
            "text/plain": [
              "0"
            ]
          },
          "metadata": {},
          "execution_count": 7
        }
      ],
      "source": [
        "df[\"days_employed\"].isna().sum()\n",
        "df[\"days_employed\"] = df[\"days_employed\"].fillna(0)\n",
        "df[\"days_employed\"].isna().sum()"
      ]
    },
    {
      "cell_type": "markdown",
      "metadata": {
        "id": "5LejdfUyjY4G"
      },
      "source": [
        "Checking the NaNs in `total_income` grouped by type of job:"
      ]
    },
    {
      "cell_type": "code",
      "execution_count": 8,
      "metadata": {
        "id": "-bv0YcMwjY4G",
        "outputId": "01bda7f9-961e-482e-eab1-afa8267a171c",
        "colab": {
          "base_uri": "https://localhost:8080/"
        }
      },
      "outputs": [
        {
          "output_type": "execute_result",
          "data": {
            "text/plain": [
              "сотрудник          1105\n",
              "компаньон           508\n",
              "пенсионер           413\n",
              "госслужащий         147\n",
              "предприниматель       1\n",
              "Name: income_type, dtype: int64"
            ]
          },
          "metadata": {},
          "execution_count": 8
        }
      ],
      "source": [
        "df_no_income = df[df[\"total_income\"].isna() == True]\n",
        "df_no_income[\"income_type\"].value_counts()"
      ]
    },
    {
      "cell_type": "markdown",
      "metadata": {
        "id": "__3DodCNjY4H"
      },
      "source": [
        "The amount of NaNs for `income_type` is defined for different type of job. Since there's no proved information about income, the NaNs will be filled with median value."
      ]
    },
    {
      "cell_type": "code",
      "execution_count": 9,
      "metadata": {
        "id": "4Zio41CwjY4H",
        "colab": {
          "base_uri": "https://localhost:8080/"
        },
        "outputId": "35917286-5266-4156-cfd7-9d2ca25ff07d"
      },
      "outputs": [
        {
          "output_type": "execute_result",
          "data": {
            "text/plain": [
              "children            0\n",
              "days_employed       0\n",
              "dob_years           0\n",
              "education           0\n",
              "education_id        0\n",
              "family_status       0\n",
              "family_status_id    0\n",
              "gender              0\n",
              "income_type         0\n",
              "debt                0\n",
              "total_income        0\n",
              "purpose             0\n",
              "dtype: int64"
            ]
          },
          "metadata": {},
          "execution_count": 9
        }
      ],
      "source": [
        "df[\"total_income\"] = df[\"total_income\"].fillna(\n",
        "    df.groupby(\"income_type\")[\"total_income\"].transform(\"median\")\n",
        ")\n",
        "df.isna().sum()"
      ]
    },
    {
      "cell_type": "markdown",
      "metadata": {
        "id": "QzgP2vxgjY4H"
      },
      "source": [
        "**Conclusion**\n",
        "\n",
        "There is no straight dependency between missing data in `days_employed` and `total_income`, but leaving 2174 rows with NaN values is not the solution. So missing values in `total_income` were replaced with median grouped by each type of job (`income_type` column)."
      ]
    },
    {
      "cell_type": "markdown",
      "metadata": {
        "id": "ernPyl03jY4H"
      },
      "source": [
        "### Data fixing\n",
        "\n",
        "Converting float to integer type. In my point of view, we can get rid of decimals in `total_income` this won't affect on result."
      ]
    },
    {
      "cell_type": "code",
      "execution_count": 10,
      "metadata": {
        "id": "EoeynYHSjY4I"
      },
      "outputs": [],
      "source": [
        "df[\"total_income\"] = df[\"total_income\"].astype(int)\n",
        "df[\"days_employed\"] = df[\"days_employed\"].astype(int)"
      ]
    },
    {
      "cell_type": "markdown",
      "metadata": {
        "id": "Xl0m7r1WjY4I"
      },
      "source": [
        "Also let's check the anomalies for negative values in `children` and `days_employed`, zeros in `dob_years` and \"XNA\" in `gender` columns."
      ]
    },
    {
      "cell_type": "markdown",
      "metadata": {
        "id": "DSTWeO_-jY4I"
      },
      "source": [
        "#### Children"
      ]
    },
    {
      "cell_type": "code",
      "execution_count": 11,
      "metadata": {
        "id": "cLN3OGkLjY4I",
        "outputId": "a48da851-df9d-444e-aa22-cf4c3c4d60b5",
        "colab": {
          "base_uri": "https://localhost:8080/"
        }
      },
      "outputs": [
        {
          "output_type": "execute_result",
          "data": {
            "text/plain": [
              "array([ 1,  0,  3,  2, -1,  4, 20,  5])"
            ]
          },
          "metadata": {},
          "execution_count": 11
        }
      ],
      "source": [
        "df[\"children\"].unique()"
      ]
    },
    {
      "cell_type": "markdown",
      "metadata": {
        "id": "fBduodyZjY4I"
      },
      "source": [
        "Amount of \"negative\" children:"
      ]
    },
    {
      "cell_type": "code",
      "execution_count": 12,
      "metadata": {
        "scrolled": true,
        "id": "kBgKfuzUjY4I",
        "outputId": "7646d838-3fa6-45c7-802b-78ced1e0f5bd",
        "colab": {
          "base_uri": "https://localhost:8080/"
        }
      },
      "outputs": [
        {
          "output_type": "execute_result",
          "data": {
            "text/plain": [
              "47"
            ]
          },
          "metadata": {},
          "execution_count": 12
        }
      ],
      "source": [
        "df[df[\"children\"] == -1][\"children\"].count()"
      ]
    },
    {
      "cell_type": "markdown",
      "metadata": {
        "id": "oeB76P6FjY4J"
      },
      "source": [
        "Highly likely that 20 kids is a typo, so fixing this too:"
      ]
    },
    {
      "cell_type": "code",
      "source": [
        "df[\"children\"] = df[\"children\"].replace([20, -1], [2, 1])\n",
        "df[\"children\"].value_counts()"
      ],
      "metadata": {
        "colab": {
          "base_uri": "https://localhost:8080/"
        },
        "id": "n6gx0Z3CAx48",
        "outputId": "392a6b77-f6f2-4667-bd10-e9f908cc471d"
      },
      "execution_count": 13,
      "outputs": [
        {
          "output_type": "execute_result",
          "data": {
            "text/plain": [
              "0    14149\n",
              "1     4865\n",
              "2     2131\n",
              "3      330\n",
              "4       41\n",
              "5        9\n",
              "Name: children, dtype: int64"
            ]
          },
          "metadata": {},
          "execution_count": 13
        }
      ]
    },
    {
      "cell_type": "markdown",
      "metadata": {
        "id": "ZhEysx8DjY4J"
      },
      "source": [
        "#### Days employed"
      ]
    },
    {
      "cell_type": "code",
      "execution_count": 14,
      "metadata": {
        "id": "ttvXMgBbjY4J",
        "outputId": "079ed0ff-54cb-485e-d82b-ca04dfe72c03",
        "colab": {
          "base_uri": "https://localhost:8080/"
        }
      },
      "outputs": [
        {
          "output_type": "execute_result",
          "data": {
            "text/plain": [
              "count     21525.000000\n",
              "mean      56679.163252\n",
              "std      134870.418456\n",
              "min      -18388.000000\n",
              "25%       -2518.000000\n",
              "50%        -982.000000\n",
              "75%           0.000000\n",
              "max      401755.000000\n",
              "Name: days_employed, dtype: float64"
            ]
          },
          "metadata": {},
          "execution_count": 14
        }
      ],
      "source": [
        "df[\"days_employed\"].describe()"
      ]
    },
    {
      "cell_type": "markdown",
      "metadata": {
        "id": "JQi6k25NjY4J"
      },
      "source": [
        "Max value of 401755 looks very suspicious, marking this as \"garbage in\" and leaving it until following steps to prevent \"garbage out\"."
      ]
    },
    {
      "cell_type": "markdown",
      "metadata": {
        "id": "wcwFapRejY4K"
      },
      "source": [
        "#### Age (in years)"
      ]
    },
    {
      "cell_type": "code",
      "execution_count": 15,
      "metadata": {
        "id": "0DIMEc9ZjY4K",
        "outputId": "48d9e7c5-536f-43c7-c0a5-d29896bebf70",
        "colab": {
          "base_uri": "https://localhost:8080/"
        }
      },
      "outputs": [
        {
          "output_type": "execute_result",
          "data": {
            "text/plain": [
              "count    21525.000000\n",
              "mean        43.293380\n",
              "std         12.574584\n",
              "min          0.000000\n",
              "25%         33.000000\n",
              "50%         42.000000\n",
              "75%         53.000000\n",
              "max         75.000000\n",
              "Name: dob_years, dtype: float64"
            ]
          },
          "metadata": {},
          "execution_count": 15
        }
      ],
      "source": [
        "df[\"dob_years\"].describe()"
      ]
    },
    {
      "cell_type": "markdown",
      "metadata": {
        "id": "ffBeys5CjY4K"
      },
      "source": [
        "There's a value of \"0\", I should check these:"
      ]
    },
    {
      "cell_type": "code",
      "execution_count": 16,
      "metadata": {
        "id": "3deMM2_NjY4K",
        "outputId": "7cff89d1-0496-4b0f-a619-4ac0a7a494d5",
        "colab": {
          "base_uri": "https://localhost:8080/",
          "height": 259
        }
      },
      "outputs": [
        {
          "output_type": "execute_result",
          "data": {
            "text/plain": [
              "       children  days_employed  dob_years education  education_id  \\\n",
              "14608         0          -1641          0   среднее             1   \n",
              "18732         2           -986          0    высшее             0   \n",
              "2941          2          -2161          0   среднее             1   \n",
              "\n",
              "          family_status  family_status_id gender income_type  debt  \\\n",
              "14608  гражданский брак                 1      M   сотрудник     1   \n",
              "18732  гражданский брак                 1      F   компаньон     0   \n",
              "2941    женат / замужем                 0      F   сотрудник     0   \n",
              "\n",
              "       total_income                purpose  \n",
              "14608        129945        сыграть свадьбу  \n",
              "18732        287328            образование  \n",
              "2941         199739  на покупку автомобиля  "
            ],
            "text/html": [
              "\n",
              "  <div id=\"df-9c808cf9-b320-473d-872c-1d022c71cbe7\">\n",
              "    <div class=\"colab-df-container\">\n",
              "      <div>\n",
              "<style scoped>\n",
              "    .dataframe tbody tr th:only-of-type {\n",
              "        vertical-align: middle;\n",
              "    }\n",
              "\n",
              "    .dataframe tbody tr th {\n",
              "        vertical-align: top;\n",
              "    }\n",
              "\n",
              "    .dataframe thead th {\n",
              "        text-align: right;\n",
              "    }\n",
              "</style>\n",
              "<table border=\"1\" class=\"dataframe\">\n",
              "  <thead>\n",
              "    <tr style=\"text-align: right;\">\n",
              "      <th></th>\n",
              "      <th>children</th>\n",
              "      <th>days_employed</th>\n",
              "      <th>dob_years</th>\n",
              "      <th>education</th>\n",
              "      <th>education_id</th>\n",
              "      <th>family_status</th>\n",
              "      <th>family_status_id</th>\n",
              "      <th>gender</th>\n",
              "      <th>income_type</th>\n",
              "      <th>debt</th>\n",
              "      <th>total_income</th>\n",
              "      <th>purpose</th>\n",
              "    </tr>\n",
              "  </thead>\n",
              "  <tbody>\n",
              "    <tr>\n",
              "      <th>14608</th>\n",
              "      <td>0</td>\n",
              "      <td>-1641</td>\n",
              "      <td>0</td>\n",
              "      <td>среднее</td>\n",
              "      <td>1</td>\n",
              "      <td>гражданский брак</td>\n",
              "      <td>1</td>\n",
              "      <td>M</td>\n",
              "      <td>сотрудник</td>\n",
              "      <td>1</td>\n",
              "      <td>129945</td>\n",
              "      <td>сыграть свадьбу</td>\n",
              "    </tr>\n",
              "    <tr>\n",
              "      <th>18732</th>\n",
              "      <td>2</td>\n",
              "      <td>-986</td>\n",
              "      <td>0</td>\n",
              "      <td>высшее</td>\n",
              "      <td>0</td>\n",
              "      <td>гражданский брак</td>\n",
              "      <td>1</td>\n",
              "      <td>F</td>\n",
              "      <td>компаньон</td>\n",
              "      <td>0</td>\n",
              "      <td>287328</td>\n",
              "      <td>образование</td>\n",
              "    </tr>\n",
              "    <tr>\n",
              "      <th>2941</th>\n",
              "      <td>2</td>\n",
              "      <td>-2161</td>\n",
              "      <td>0</td>\n",
              "      <td>среднее</td>\n",
              "      <td>1</td>\n",
              "      <td>женат / замужем</td>\n",
              "      <td>0</td>\n",
              "      <td>F</td>\n",
              "      <td>сотрудник</td>\n",
              "      <td>0</td>\n",
              "      <td>199739</td>\n",
              "      <td>на покупку автомобиля</td>\n",
              "    </tr>\n",
              "  </tbody>\n",
              "</table>\n",
              "</div>\n",
              "      <button class=\"colab-df-convert\" onclick=\"convertToInteractive('df-9c808cf9-b320-473d-872c-1d022c71cbe7')\"\n",
              "              title=\"Convert this dataframe to an interactive table.\"\n",
              "              style=\"display:none;\">\n",
              "        \n",
              "  <svg xmlns=\"http://www.w3.org/2000/svg\" height=\"24px\"viewBox=\"0 0 24 24\"\n",
              "       width=\"24px\">\n",
              "    <path d=\"M0 0h24v24H0V0z\" fill=\"none\"/>\n",
              "    <path d=\"M18.56 5.44l.94 2.06.94-2.06 2.06-.94-2.06-.94-.94-2.06-.94 2.06-2.06.94zm-11 1L8.5 8.5l.94-2.06 2.06-.94-2.06-.94L8.5 2.5l-.94 2.06-2.06.94zm10 10l.94 2.06.94-2.06 2.06-.94-2.06-.94-.94-2.06-.94 2.06-2.06.94z\"/><path d=\"M17.41 7.96l-1.37-1.37c-.4-.4-.92-.59-1.43-.59-.52 0-1.04.2-1.43.59L10.3 9.45l-7.72 7.72c-.78.78-.78 2.05 0 2.83L4 21.41c.39.39.9.59 1.41.59.51 0 1.02-.2 1.41-.59l7.78-7.78 2.81-2.81c.8-.78.8-2.07 0-2.86zM5.41 20L4 18.59l7.72-7.72 1.47 1.35L5.41 20z\"/>\n",
              "  </svg>\n",
              "      </button>\n",
              "      \n",
              "  <style>\n",
              "    .colab-df-container {\n",
              "      display:flex;\n",
              "      flex-wrap:wrap;\n",
              "      gap: 12px;\n",
              "    }\n",
              "\n",
              "    .colab-df-convert {\n",
              "      background-color: #E8F0FE;\n",
              "      border: none;\n",
              "      border-radius: 50%;\n",
              "      cursor: pointer;\n",
              "      display: none;\n",
              "      fill: #1967D2;\n",
              "      height: 32px;\n",
              "      padding: 0 0 0 0;\n",
              "      width: 32px;\n",
              "    }\n",
              "\n",
              "    .colab-df-convert:hover {\n",
              "      background-color: #E2EBFA;\n",
              "      box-shadow: 0px 1px 2px rgba(60, 64, 67, 0.3), 0px 1px 3px 1px rgba(60, 64, 67, 0.15);\n",
              "      fill: #174EA6;\n",
              "    }\n",
              "\n",
              "    [theme=dark] .colab-df-convert {\n",
              "      background-color: #3B4455;\n",
              "      fill: #D2E3FC;\n",
              "    }\n",
              "\n",
              "    [theme=dark] .colab-df-convert:hover {\n",
              "      background-color: #434B5C;\n",
              "      box-shadow: 0px 1px 3px 1px rgba(0, 0, 0, 0.15);\n",
              "      filter: drop-shadow(0px 1px 2px rgba(0, 0, 0, 0.3));\n",
              "      fill: #FFFFFF;\n",
              "    }\n",
              "  </style>\n",
              "\n",
              "      <script>\n",
              "        const buttonEl =\n",
              "          document.querySelector('#df-9c808cf9-b320-473d-872c-1d022c71cbe7 button.colab-df-convert');\n",
              "        buttonEl.style.display =\n",
              "          google.colab.kernel.accessAllowed ? 'block' : 'none';\n",
              "\n",
              "        async function convertToInteractive(key) {\n",
              "          const element = document.querySelector('#df-9c808cf9-b320-473d-872c-1d022c71cbe7');\n",
              "          const dataTable =\n",
              "            await google.colab.kernel.invokeFunction('convertToInteractive',\n",
              "                                                     [key], {});\n",
              "          if (!dataTable) return;\n",
              "\n",
              "          const docLinkHtml = 'Like what you see? Visit the ' +\n",
              "            '<a target=\"_blank\" href=https://colab.research.google.com/notebooks/data_table.ipynb>data table notebook</a>'\n",
              "            + ' to learn more about interactive tables.';\n",
              "          element.innerHTML = '';\n",
              "          dataTable['output_type'] = 'display_data';\n",
              "          await google.colab.output.renderOutput(dataTable, element);\n",
              "          const docLink = document.createElement('div');\n",
              "          docLink.innerHTML = docLinkHtml;\n",
              "          element.appendChild(docLink);\n",
              "        }\n",
              "      </script>\n",
              "    </div>\n",
              "  </div>\n",
              "  "
            ]
          },
          "metadata": {},
          "execution_count": 16
        }
      ],
      "source": [
        "df[df[\"dob_years\"] == 0][\"dob_years\"].count()\n",
        "df[df[\"dob_years\"] == 0].sample(3)"
      ]
    },
    {
      "cell_type": "markdown",
      "metadata": {
        "id": "lM3OZgH0jY4K"
      },
      "source": [
        "At this step, I have decided to leave the data \"as is\" and check back during the final step to determine whether it makes sense to replace the zeros with the mean value and group them based on income type, sex, or family status."
      ]
    },
    {
      "cell_type": "markdown",
      "metadata": {
        "id": "DSOz-GmOjY4K"
      },
      "source": [
        "#### Education\n",
        "\n",
        "Let's see how many unique values here:"
      ]
    },
    {
      "cell_type": "code",
      "execution_count": 17,
      "metadata": {
        "id": "1yb6unmcjY4L",
        "outputId": "9243205c-dcf3-4ff6-9fc8-6bea60efe360",
        "colab": {
          "base_uri": "https://localhost:8080/"
        }
      },
      "outputs": [
        {
          "output_type": "execute_result",
          "data": {
            "text/plain": [
              "15"
            ]
          },
          "metadata": {},
          "execution_count": 17
        }
      ],
      "source": [
        "len(df[\"education\"].unique())"
      ]
    },
    {
      "cell_type": "code",
      "execution_count": 18,
      "metadata": {
        "scrolled": true,
        "id": "dekYIQ2AjY4L",
        "outputId": "0125c85a-ad64-4b7b-9bbe-567ca19096a5",
        "colab": {
          "base_uri": "https://localhost:8080/"
        }
      },
      "outputs": [
        {
          "output_type": "execute_result",
          "data": {
            "text/plain": [
              "array(['высшее', 'среднее', 'неоконченное высшее', 'начальное',\n",
              "       'ученая степень'], dtype=object)"
            ]
          },
          "metadata": {},
          "execution_count": 18
        }
      ],
      "source": [
        "df[\"education\"] = df[\"education\"].str.lower()\n",
        "df[\"education\"].unique()"
      ]
    },
    {
      "cell_type": "code",
      "execution_count": 19,
      "metadata": {
        "id": "Paq7vxh7jY4L",
        "outputId": "34cce762-8c34-4f77-f54b-7780895c137c",
        "colab": {
          "base_uri": "https://localhost:8080/"
        }
      },
      "outputs": [
        {
          "output_type": "execute_result",
          "data": {
            "text/plain": [
              "array([0, 1, 2, 3, 4])"
            ]
          },
          "metadata": {},
          "execution_count": 19
        }
      ],
      "source": [
        "df[\"education_id\"].unique()"
      ]
    },
    {
      "cell_type": "markdown",
      "metadata": {
        "id": "eYaOmS1vjY4L"
      },
      "source": [
        "All entries were transferred to small case, and now we have 5 unique values, which amount is the same as amount in `education_id`."
      ]
    },
    {
      "cell_type": "markdown",
      "metadata": {
        "id": "JIbY_BPljY4L"
      },
      "source": [
        "#### Family status\n",
        "\n",
        "There's a capital letter in \"Не женат / не замужем\", let's fix this to small case:"
      ]
    },
    {
      "cell_type": "code",
      "execution_count": 20,
      "metadata": {
        "id": "BJRVEZIrjY4M",
        "outputId": "dcfa4dcf-83c3-430d-e913-25cf62f71830",
        "colab": {
          "base_uri": "https://localhost:8080/"
        }
      },
      "outputs": [
        {
          "output_type": "execute_result",
          "data": {
            "text/plain": [
              "array(['женат / замужем', 'гражданский брак', 'вдовец / вдова',\n",
              "       'в разводе', 'Не женат / не замужем'], dtype=object)"
            ]
          },
          "metadata": {},
          "execution_count": 20
        }
      ],
      "source": [
        "df[\"family_status\"].unique()"
      ]
    },
    {
      "cell_type": "code",
      "execution_count": 21,
      "metadata": {
        "id": "IxhiXUP8jY4M",
        "outputId": "37b40ba5-ec3c-4ff5-e241-9ed1f67b7732",
        "colab": {
          "base_uri": "https://localhost:8080/"
        }
      },
      "outputs": [
        {
          "output_type": "execute_result",
          "data": {
            "text/plain": [
              "array(['женат / замужем', 'гражданский брак', 'вдовец / вдова',\n",
              "       'в разводе', 'не женат / не замужем'], dtype=object)"
            ]
          },
          "metadata": {},
          "execution_count": 21
        }
      ],
      "source": [
        "df[\"family_status\"] = df[\"family_status\"].str.lower()\n",
        "df[\"family_status\"].unique()"
      ]
    },
    {
      "cell_type": "markdown",
      "metadata": {
        "id": "c5zmaURUjY4M"
      },
      "source": [
        "#### Gender\n",
        "\n",
        "It was defined that `gender` contains \"XNA\" let's locate the row:"
      ]
    },
    {
      "cell_type": "code",
      "source": [
        "df[df[\"gender\"] == \"XNA\"].squeeze()"
      ],
      "metadata": {
        "colab": {
          "base_uri": "https://localhost:8080/"
        },
        "id": "2buCunpLCgtm",
        "outputId": "6b07728d-8e7a-42b2-b193-cf6ca63c7767"
      },
      "execution_count": 22,
      "outputs": [
        {
          "output_type": "execute_result",
          "data": {
            "text/plain": [
              "children                               0\n",
              "days_employed                      -2358\n",
              "dob_years                             24\n",
              "education            неоконченное высшее\n",
              "education_id                           2\n",
              "family_status           гражданский брак\n",
              "family_status_id                       1\n",
              "gender                               XNA\n",
              "income_type                    компаньон\n",
              "debt                                   0\n",
              "total_income                      203905\n",
              "purpose             покупка недвижимости\n",
              "Name: 10701, dtype: object"
            ]
          },
          "metadata": {},
          "execution_count": 22
        }
      ]
    },
    {
      "cell_type": "markdown",
      "metadata": {
        "id": "cWYt0Dg-jY4M"
      },
      "source": [
        "### Duplicates"
      ]
    },
    {
      "cell_type": "markdown",
      "metadata": {
        "id": "NPqa_7b2jY4M"
      },
      "source": [
        "The amount of duplicates:"
      ]
    },
    {
      "cell_type": "code",
      "execution_count": 23,
      "metadata": {
        "id": "ptukgaoyjY4M",
        "outputId": "52ae223d-607f-4076-fac4-42fc9a052b9c",
        "colab": {
          "base_uri": "https://localhost:8080/"
        }
      },
      "outputs": [
        {
          "output_type": "execute_result",
          "data": {
            "text/plain": [
              "71"
            ]
          },
          "metadata": {},
          "execution_count": 23
        }
      ],
      "source": [
        "df.duplicated().sum()"
      ]
    },
    {
      "cell_type": "code",
      "execution_count": 24,
      "metadata": {
        "scrolled": false,
        "id": "3qILhjS8jY4N",
        "outputId": "057e53a4-fd4a-4a75-8987-073ba7a8c8af",
        "colab": {
          "base_uri": "https://localhost:8080/"
        }
      },
      "outputs": [
        {
          "output_type": "execute_result",
          "data": {
            "text/plain": [
              "0"
            ]
          },
          "metadata": {},
          "execution_count": 24
        }
      ],
      "source": [
        "df = df.drop_duplicates().reset_index(drop=True)\n",
        "df.duplicated().sum()"
      ]
    },
    {
      "cell_type": "markdown",
      "metadata": {
        "id": "rlMTxizmjY4N"
      },
      "source": [
        "**Conclusion**\n",
        "\n",
        "Possible reason of duplicates is mistakenly doubled data."
      ]
    },
    {
      "cell_type": "markdown",
      "metadata": {
        "id": "ItNFhmKvjY4N"
      },
      "source": [
        "### Lemmatization"
      ]
    },
    {
      "cell_type": "markdown",
      "metadata": {
        "id": "8x-ddSEpjY4N"
      },
      "source": [
        "Let's check how many unique purposes we have:"
      ]
    },
    {
      "cell_type": "code",
      "execution_count": 25,
      "metadata": {
        "id": "x_wv1yjcjY4N",
        "outputId": "2ac6a339-35d2-4dca-e047-cd787e98e4e0",
        "colab": {
          "base_uri": "https://localhost:8080/"
        }
      },
      "outputs": [
        {
          "output_type": "execute_result",
          "data": {
            "text/plain": [
              "38"
            ]
          },
          "metadata": {},
          "execution_count": 25
        }
      ],
      "source": [
        "df[\"purpose\"].nunique()"
      ]
    },
    {
      "cell_type": "code",
      "source": [
        "purpose_lemmas_join = \"; \".join(df[\"purpose\"].unique())\n",
        "purpose_lemmas_join"
      ],
      "metadata": {
        "colab": {
          "base_uri": "https://localhost:8080/",
          "height": 174
        },
        "id": "2jbzoCgADb8n",
        "outputId": "4aced0a8-a0c6-48c2-b239-3c89ab49788e"
      },
      "execution_count": 26,
      "outputs": [
        {
          "output_type": "execute_result",
          "data": {
            "text/plain": [
              "'покупка жилья; приобретение автомобиля; дополнительное образование; сыграть свадьбу; операции с жильем; образование; на проведение свадьбы; покупка жилья для семьи; покупка недвижимости; покупка коммерческой недвижимости; покупка жилой недвижимости; строительство собственной недвижимости; недвижимость; строительство недвижимости; на покупку подержанного автомобиля; на покупку своего автомобиля; операции с коммерческой недвижимостью; строительство жилой недвижимости; жилье; операции со своей недвижимостью; автомобили; заняться образованием; сделка с подержанным автомобилем; получение образования; автомобиль; свадьба; получение дополнительного образования; покупка своего жилья; операции с недвижимостью; получение высшего образования; свой автомобиль; сделка с автомобилем; профильное образование; высшее образование; покупка жилья для сдачи; на покупку автомобиля; ремонт жилью; заняться высшим образованием'"
            ],
            "application/vnd.google.colaboratory.intrinsic+json": {
              "type": "string"
            }
          },
          "metadata": {},
          "execution_count": 26
        }
      ]
    },
    {
      "cell_type": "code",
      "execution_count": 27,
      "metadata": {
        "id": "inS8eTrMjY4O",
        "outputId": "845355ff-7b6b-4658-a2ed-6211f124ec5e",
        "colab": {
          "base_uri": "https://localhost:8080/"
        }
      },
      "outputs": [
        {
          "output_type": "execute_result",
          "data": {
            "text/plain": [
              "Counter({'покупка': 10,\n",
              "         ' ': 59,\n",
              "         'жилье': 7,\n",
              "         '; ': 37,\n",
              "         'приобретение': 1,\n",
              "         'автомобиль': 9,\n",
              "         'дополнительный': 2,\n",
              "         'образование': 9,\n",
              "         'сыграть': 1,\n",
              "         'свадьба': 3,\n",
              "         'операция': 4,\n",
              "         'с': 5,\n",
              "         'на': 4,\n",
              "         'проведение': 1,\n",
              "         'для': 2,\n",
              "         'семья': 1,\n",
              "         'недвижимость': 10,\n",
              "         'коммерческий': 2,\n",
              "         'жилой': 2,\n",
              "         'строительство': 3,\n",
              "         'собственный': 1,\n",
              "         'подержать': 2,\n",
              "         'свой': 4,\n",
              "         'со': 1,\n",
              "         'заниматься': 2,\n",
              "         'сделка': 2,\n",
              "         'получение': 3,\n",
              "         'высокий': 3,\n",
              "         'профильный': 1,\n",
              "         'сдача': 1,\n",
              "         'ремонт': 1,\n",
              "         '\\n': 1})"
            ]
          },
          "metadata": {},
          "execution_count": 27
        }
      ],
      "source": [
        "lemmas = m.lemmatize(purpose_lemmas_join)\n",
        "Counter(lemmas)"
      ]
    },
    {
      "cell_type": "markdown",
      "metadata": {
        "id": "JoC3m4yvjY4O"
      },
      "source": [
        "Main purposes:\n",
        "- жилье/недвижимость (7/10);\n",
        "- автомобиль (9);\n",
        "- образование (9);\n",
        "- свадьба (3)"
      ]
    },
    {
      "cell_type": "code",
      "execution_count": 28,
      "metadata": {
        "id": "zPRpdzbnjY4O"
      },
      "outputs": [],
      "source": [
        "def purpose_category(row):\n",
        "    lem_purpose = m.lemmatize(row)\n",
        "    if \"автомобиль\" in lem_purpose:\n",
        "        return \"автомобиль\"\n",
        "    if (\"жилье\" in lem_purpose) or (\"недвижимость\" in lem_purpose):\n",
        "        return \"жильё, недвижимость\"\n",
        "    if \"образование\" in lem_purpose:\n",
        "        return \"образование\"\n",
        "    if \"свадьба\" in lem_purpose:\n",
        "        return \"свадьба\"\n",
        "    return \"иное\""
      ]
    },
    {
      "cell_type": "code",
      "execution_count": 29,
      "metadata": {
        "id": "dPa6Xoo2jY4O",
        "outputId": "1f76fddb-fff6-47fa-f8c9-0c3568711e7b",
        "colab": {
          "base_uri": "https://localhost:8080/",
          "height": 913
        }
      },
      "outputs": [
        {
          "output_type": "execute_result",
          "data": {
            "text/plain": [
              "       children  days_employed  dob_years            education  education_id  \\\n",
              "21439         2              0         28              среднее             1   \n",
              "21440         0           -612         29               высшее             0   \n",
              "21441         0           -165         26               высшее             0   \n",
              "21442         0          -1166         35              среднее             1   \n",
              "21443         0           -280         27  неоконченное высшее             2   \n",
              "21444         1           -467         28              среднее             1   \n",
              "21445         0           -914         42               высшее             0   \n",
              "21446         0           -404         42               высшее             0   \n",
              "21447         0         373995         59              среднее             1   \n",
              "21448         1          -2351         37       ученая степень             4   \n",
              "21449         1          -4529         43              среднее             1   \n",
              "21450         0         343937         67              среднее             1   \n",
              "21451         1          -2113         38              среднее             1   \n",
              "21452         3          -3112         38              среднее             1   \n",
              "21453         2          -1984         40              среднее             1   \n",
              "\n",
              "               family_status  family_status_id gender income_type  debt  \\\n",
              "21439        женат / замужем                 0      F   сотрудник     0   \n",
              "21440       гражданский брак                 1      F   сотрудник     1   \n",
              "21441  не женат / не замужем                 4      M   компаньон     0   \n",
              "21442        женат / замужем                 0      F   сотрудник     0   \n",
              "21443  не женат / не замужем                 4      M   компаньон     0   \n",
              "21444        женат / замужем                 0      F   сотрудник     1   \n",
              "21445        женат / замужем                 0      F   компаньон     0   \n",
              "21446       гражданский брак                 1      F   компаньон     0   \n",
              "21447        женат / замужем                 0      F   пенсионер     0   \n",
              "21448              в разводе                 3      M   сотрудник     0   \n",
              "21449       гражданский брак                 1      F   компаньон     0   \n",
              "21450        женат / замужем                 0      F   пенсионер     0   \n",
              "21451       гражданский брак                 1      M   сотрудник     1   \n",
              "21452        женат / замужем                 0      M   сотрудник     1   \n",
              "21453        женат / замужем                 0      F   сотрудник     0   \n",
              "\n",
              "       total_income                                purpose  \\\n",
              "21439        142594                приобретение автомобиля   \n",
              "21440        140068                покупка жилья для сдачи   \n",
              "21441        147301  получение дополнительного образования   \n",
              "21442        250986                          покупка жилья   \n",
              "21443        355988             строительство недвижимости   \n",
              "21444        109486                  заняться образованием   \n",
              "21445        322807                   покупка своего жилья   \n",
              "21446        178059           на покупку своего автомобиля   \n",
              "21447        153864                   сделка с автомобилем   \n",
              "21448        115949      покупка коммерческой недвижимости   \n",
              "21449        224791                      операции с жильем   \n",
              "21450        155999                   сделка с автомобилем   \n",
              "21451         89672                           недвижимость   \n",
              "21452        244093           на покупку своего автомобиля   \n",
              "21453         82047                  на покупку автомобиля   \n",
              "\n",
              "          purpose_category  \n",
              "21439           автомобиль  \n",
              "21440  жильё, недвижимость  \n",
              "21441          образование  \n",
              "21442  жильё, недвижимость  \n",
              "21443  жильё, недвижимость  \n",
              "21444          образование  \n",
              "21445  жильё, недвижимость  \n",
              "21446           автомобиль  \n",
              "21447           автомобиль  \n",
              "21448  жильё, недвижимость  \n",
              "21449  жильё, недвижимость  \n",
              "21450           автомобиль  \n",
              "21451  жильё, недвижимость  \n",
              "21452           автомобиль  \n",
              "21453           автомобиль  "
            ],
            "text/html": [
              "\n",
              "  <div id=\"df-17be1507-9aae-479b-9a08-6bec6a8be6ef\">\n",
              "    <div class=\"colab-df-container\">\n",
              "      <div>\n",
              "<style scoped>\n",
              "    .dataframe tbody tr th:only-of-type {\n",
              "        vertical-align: middle;\n",
              "    }\n",
              "\n",
              "    .dataframe tbody tr th {\n",
              "        vertical-align: top;\n",
              "    }\n",
              "\n",
              "    .dataframe thead th {\n",
              "        text-align: right;\n",
              "    }\n",
              "</style>\n",
              "<table border=\"1\" class=\"dataframe\">\n",
              "  <thead>\n",
              "    <tr style=\"text-align: right;\">\n",
              "      <th></th>\n",
              "      <th>children</th>\n",
              "      <th>days_employed</th>\n",
              "      <th>dob_years</th>\n",
              "      <th>education</th>\n",
              "      <th>education_id</th>\n",
              "      <th>family_status</th>\n",
              "      <th>family_status_id</th>\n",
              "      <th>gender</th>\n",
              "      <th>income_type</th>\n",
              "      <th>debt</th>\n",
              "      <th>total_income</th>\n",
              "      <th>purpose</th>\n",
              "      <th>purpose_category</th>\n",
              "    </tr>\n",
              "  </thead>\n",
              "  <tbody>\n",
              "    <tr>\n",
              "      <th>21439</th>\n",
              "      <td>2</td>\n",
              "      <td>0</td>\n",
              "      <td>28</td>\n",
              "      <td>среднее</td>\n",
              "      <td>1</td>\n",
              "      <td>женат / замужем</td>\n",
              "      <td>0</td>\n",
              "      <td>F</td>\n",
              "      <td>сотрудник</td>\n",
              "      <td>0</td>\n",
              "      <td>142594</td>\n",
              "      <td>приобретение автомобиля</td>\n",
              "      <td>автомобиль</td>\n",
              "    </tr>\n",
              "    <tr>\n",
              "      <th>21440</th>\n",
              "      <td>0</td>\n",
              "      <td>-612</td>\n",
              "      <td>29</td>\n",
              "      <td>высшее</td>\n",
              "      <td>0</td>\n",
              "      <td>гражданский брак</td>\n",
              "      <td>1</td>\n",
              "      <td>F</td>\n",
              "      <td>сотрудник</td>\n",
              "      <td>1</td>\n",
              "      <td>140068</td>\n",
              "      <td>покупка жилья для сдачи</td>\n",
              "      <td>жильё, недвижимость</td>\n",
              "    </tr>\n",
              "    <tr>\n",
              "      <th>21441</th>\n",
              "      <td>0</td>\n",
              "      <td>-165</td>\n",
              "      <td>26</td>\n",
              "      <td>высшее</td>\n",
              "      <td>0</td>\n",
              "      <td>не женат / не замужем</td>\n",
              "      <td>4</td>\n",
              "      <td>M</td>\n",
              "      <td>компаньон</td>\n",
              "      <td>0</td>\n",
              "      <td>147301</td>\n",
              "      <td>получение дополнительного образования</td>\n",
              "      <td>образование</td>\n",
              "    </tr>\n",
              "    <tr>\n",
              "      <th>21442</th>\n",
              "      <td>0</td>\n",
              "      <td>-1166</td>\n",
              "      <td>35</td>\n",
              "      <td>среднее</td>\n",
              "      <td>1</td>\n",
              "      <td>женат / замужем</td>\n",
              "      <td>0</td>\n",
              "      <td>F</td>\n",
              "      <td>сотрудник</td>\n",
              "      <td>0</td>\n",
              "      <td>250986</td>\n",
              "      <td>покупка жилья</td>\n",
              "      <td>жильё, недвижимость</td>\n",
              "    </tr>\n",
              "    <tr>\n",
              "      <th>21443</th>\n",
              "      <td>0</td>\n",
              "      <td>-280</td>\n",
              "      <td>27</td>\n",
              "      <td>неоконченное высшее</td>\n",
              "      <td>2</td>\n",
              "      <td>не женат / не замужем</td>\n",
              "      <td>4</td>\n",
              "      <td>M</td>\n",
              "      <td>компаньон</td>\n",
              "      <td>0</td>\n",
              "      <td>355988</td>\n",
              "      <td>строительство недвижимости</td>\n",
              "      <td>жильё, недвижимость</td>\n",
              "    </tr>\n",
              "    <tr>\n",
              "      <th>21444</th>\n",
              "      <td>1</td>\n",
              "      <td>-467</td>\n",
              "      <td>28</td>\n",
              "      <td>среднее</td>\n",
              "      <td>1</td>\n",
              "      <td>женат / замужем</td>\n",
              "      <td>0</td>\n",
              "      <td>F</td>\n",
              "      <td>сотрудник</td>\n",
              "      <td>1</td>\n",
              "      <td>109486</td>\n",
              "      <td>заняться образованием</td>\n",
              "      <td>образование</td>\n",
              "    </tr>\n",
              "    <tr>\n",
              "      <th>21445</th>\n",
              "      <td>0</td>\n",
              "      <td>-914</td>\n",
              "      <td>42</td>\n",
              "      <td>высшее</td>\n",
              "      <td>0</td>\n",
              "      <td>женат / замужем</td>\n",
              "      <td>0</td>\n",
              "      <td>F</td>\n",
              "      <td>компаньон</td>\n",
              "      <td>0</td>\n",
              "      <td>322807</td>\n",
              "      <td>покупка своего жилья</td>\n",
              "      <td>жильё, недвижимость</td>\n",
              "    </tr>\n",
              "    <tr>\n",
              "      <th>21446</th>\n",
              "      <td>0</td>\n",
              "      <td>-404</td>\n",
              "      <td>42</td>\n",
              "      <td>высшее</td>\n",
              "      <td>0</td>\n",
              "      <td>гражданский брак</td>\n",
              "      <td>1</td>\n",
              "      <td>F</td>\n",
              "      <td>компаньон</td>\n",
              "      <td>0</td>\n",
              "      <td>178059</td>\n",
              "      <td>на покупку своего автомобиля</td>\n",
              "      <td>автомобиль</td>\n",
              "    </tr>\n",
              "    <tr>\n",
              "      <th>21447</th>\n",
              "      <td>0</td>\n",
              "      <td>373995</td>\n",
              "      <td>59</td>\n",
              "      <td>среднее</td>\n",
              "      <td>1</td>\n",
              "      <td>женат / замужем</td>\n",
              "      <td>0</td>\n",
              "      <td>F</td>\n",
              "      <td>пенсионер</td>\n",
              "      <td>0</td>\n",
              "      <td>153864</td>\n",
              "      <td>сделка с автомобилем</td>\n",
              "      <td>автомобиль</td>\n",
              "    </tr>\n",
              "    <tr>\n",
              "      <th>21448</th>\n",
              "      <td>1</td>\n",
              "      <td>-2351</td>\n",
              "      <td>37</td>\n",
              "      <td>ученая степень</td>\n",
              "      <td>4</td>\n",
              "      <td>в разводе</td>\n",
              "      <td>3</td>\n",
              "      <td>M</td>\n",
              "      <td>сотрудник</td>\n",
              "      <td>0</td>\n",
              "      <td>115949</td>\n",
              "      <td>покупка коммерческой недвижимости</td>\n",
              "      <td>жильё, недвижимость</td>\n",
              "    </tr>\n",
              "    <tr>\n",
              "      <th>21449</th>\n",
              "      <td>1</td>\n",
              "      <td>-4529</td>\n",
              "      <td>43</td>\n",
              "      <td>среднее</td>\n",
              "      <td>1</td>\n",
              "      <td>гражданский брак</td>\n",
              "      <td>1</td>\n",
              "      <td>F</td>\n",
              "      <td>компаньон</td>\n",
              "      <td>0</td>\n",
              "      <td>224791</td>\n",
              "      <td>операции с жильем</td>\n",
              "      <td>жильё, недвижимость</td>\n",
              "    </tr>\n",
              "    <tr>\n",
              "      <th>21450</th>\n",
              "      <td>0</td>\n",
              "      <td>343937</td>\n",
              "      <td>67</td>\n",
              "      <td>среднее</td>\n",
              "      <td>1</td>\n",
              "      <td>женат / замужем</td>\n",
              "      <td>0</td>\n",
              "      <td>F</td>\n",
              "      <td>пенсионер</td>\n",
              "      <td>0</td>\n",
              "      <td>155999</td>\n",
              "      <td>сделка с автомобилем</td>\n",
              "      <td>автомобиль</td>\n",
              "    </tr>\n",
              "    <tr>\n",
              "      <th>21451</th>\n",
              "      <td>1</td>\n",
              "      <td>-2113</td>\n",
              "      <td>38</td>\n",
              "      <td>среднее</td>\n",
              "      <td>1</td>\n",
              "      <td>гражданский брак</td>\n",
              "      <td>1</td>\n",
              "      <td>M</td>\n",
              "      <td>сотрудник</td>\n",
              "      <td>1</td>\n",
              "      <td>89672</td>\n",
              "      <td>недвижимость</td>\n",
              "      <td>жильё, недвижимость</td>\n",
              "    </tr>\n",
              "    <tr>\n",
              "      <th>21452</th>\n",
              "      <td>3</td>\n",
              "      <td>-3112</td>\n",
              "      <td>38</td>\n",
              "      <td>среднее</td>\n",
              "      <td>1</td>\n",
              "      <td>женат / замужем</td>\n",
              "      <td>0</td>\n",
              "      <td>M</td>\n",
              "      <td>сотрудник</td>\n",
              "      <td>1</td>\n",
              "      <td>244093</td>\n",
              "      <td>на покупку своего автомобиля</td>\n",
              "      <td>автомобиль</td>\n",
              "    </tr>\n",
              "    <tr>\n",
              "      <th>21453</th>\n",
              "      <td>2</td>\n",
              "      <td>-1984</td>\n",
              "      <td>40</td>\n",
              "      <td>среднее</td>\n",
              "      <td>1</td>\n",
              "      <td>женат / замужем</td>\n",
              "      <td>0</td>\n",
              "      <td>F</td>\n",
              "      <td>сотрудник</td>\n",
              "      <td>0</td>\n",
              "      <td>82047</td>\n",
              "      <td>на покупку автомобиля</td>\n",
              "      <td>автомобиль</td>\n",
              "    </tr>\n",
              "  </tbody>\n",
              "</table>\n",
              "</div>\n",
              "      <button class=\"colab-df-convert\" onclick=\"convertToInteractive('df-17be1507-9aae-479b-9a08-6bec6a8be6ef')\"\n",
              "              title=\"Convert this dataframe to an interactive table.\"\n",
              "              style=\"display:none;\">\n",
              "        \n",
              "  <svg xmlns=\"http://www.w3.org/2000/svg\" height=\"24px\"viewBox=\"0 0 24 24\"\n",
              "       width=\"24px\">\n",
              "    <path d=\"M0 0h24v24H0V0z\" fill=\"none\"/>\n",
              "    <path d=\"M18.56 5.44l.94 2.06.94-2.06 2.06-.94-2.06-.94-.94-2.06-.94 2.06-2.06.94zm-11 1L8.5 8.5l.94-2.06 2.06-.94-2.06-.94L8.5 2.5l-.94 2.06-2.06.94zm10 10l.94 2.06.94-2.06 2.06-.94-2.06-.94-.94-2.06-.94 2.06-2.06.94z\"/><path d=\"M17.41 7.96l-1.37-1.37c-.4-.4-.92-.59-1.43-.59-.52 0-1.04.2-1.43.59L10.3 9.45l-7.72 7.72c-.78.78-.78 2.05 0 2.83L4 21.41c.39.39.9.59 1.41.59.51 0 1.02-.2 1.41-.59l7.78-7.78 2.81-2.81c.8-.78.8-2.07 0-2.86zM5.41 20L4 18.59l7.72-7.72 1.47 1.35L5.41 20z\"/>\n",
              "  </svg>\n",
              "      </button>\n",
              "      \n",
              "  <style>\n",
              "    .colab-df-container {\n",
              "      display:flex;\n",
              "      flex-wrap:wrap;\n",
              "      gap: 12px;\n",
              "    }\n",
              "\n",
              "    .colab-df-convert {\n",
              "      background-color: #E8F0FE;\n",
              "      border: none;\n",
              "      border-radius: 50%;\n",
              "      cursor: pointer;\n",
              "      display: none;\n",
              "      fill: #1967D2;\n",
              "      height: 32px;\n",
              "      padding: 0 0 0 0;\n",
              "      width: 32px;\n",
              "    }\n",
              "\n",
              "    .colab-df-convert:hover {\n",
              "      background-color: #E2EBFA;\n",
              "      box-shadow: 0px 1px 2px rgba(60, 64, 67, 0.3), 0px 1px 3px 1px rgba(60, 64, 67, 0.15);\n",
              "      fill: #174EA6;\n",
              "    }\n",
              "\n",
              "    [theme=dark] .colab-df-convert {\n",
              "      background-color: #3B4455;\n",
              "      fill: #D2E3FC;\n",
              "    }\n",
              "\n",
              "    [theme=dark] .colab-df-convert:hover {\n",
              "      background-color: #434B5C;\n",
              "      box-shadow: 0px 1px 3px 1px rgba(0, 0, 0, 0.15);\n",
              "      filter: drop-shadow(0px 1px 2px rgba(0, 0, 0, 0.3));\n",
              "      fill: #FFFFFF;\n",
              "    }\n",
              "  </style>\n",
              "\n",
              "      <script>\n",
              "        const buttonEl =\n",
              "          document.querySelector('#df-17be1507-9aae-479b-9a08-6bec6a8be6ef button.colab-df-convert');\n",
              "        buttonEl.style.display =\n",
              "          google.colab.kernel.accessAllowed ? 'block' : 'none';\n",
              "\n",
              "        async function convertToInteractive(key) {\n",
              "          const element = document.querySelector('#df-17be1507-9aae-479b-9a08-6bec6a8be6ef');\n",
              "          const dataTable =\n",
              "            await google.colab.kernel.invokeFunction('convertToInteractive',\n",
              "                                                     [key], {});\n",
              "          if (!dataTable) return;\n",
              "\n",
              "          const docLinkHtml = 'Like what you see? Visit the ' +\n",
              "            '<a target=\"_blank\" href=https://colab.research.google.com/notebooks/data_table.ipynb>data table notebook</a>'\n",
              "            + ' to learn more about interactive tables.';\n",
              "          element.innerHTML = '';\n",
              "          dataTable['output_type'] = 'display_data';\n",
              "          await google.colab.output.renderOutput(dataTable, element);\n",
              "          const docLink = document.createElement('div');\n",
              "          docLink.innerHTML = docLinkHtml;\n",
              "          element.appendChild(docLink);\n",
              "        }\n",
              "      </script>\n",
              "    </div>\n",
              "  </div>\n",
              "  "
            ]
          },
          "metadata": {},
          "execution_count": 29
        }
      ],
      "source": [
        "df[\"purpose_category\"] = df[\"purpose\"].apply(purpose_category)\n",
        "df.tail(15)"
      ]
    },
    {
      "cell_type": "markdown",
      "metadata": {
        "id": "OVgGbSujjY4O"
      },
      "source": [
        "**Conclusion**\n",
        "\n",
        "Lemmatization and categorization of data results four main categories for purposes:\n",
        "- Real estate (living and commercial)\n",
        "- Car purchasing\n",
        "- Educational loan\n",
        "- Wedding organizing"
      ]
    },
    {
      "cell_type": "markdown",
      "metadata": {
        "id": "R81PmzJcjY4O"
      },
      "source": [
        "### Categorization of data"
      ]
    },
    {
      "cell_type": "markdown",
      "metadata": {
        "id": "PG51ssQFjY4O"
      },
      "source": [
        "Data categorization by number of children:"
      ]
    },
    {
      "cell_type": "code",
      "execution_count": 30,
      "metadata": {
        "id": "HAw6RpYOjY4P"
      },
      "outputs": [],
      "source": [
        "def children_category(children):\n",
        "    \"\"\"Define if there's a children or not\"\"\"\n",
        "    if children < 1:\n",
        "        return \"детей нет\"\n",
        "    if children < 2:\n",
        "        return \"один ребенок\"\n",
        "    return \"многодетная семья\"\n",
        "\n",
        "\n",
        "df[\"children_category\"] = df[\"children\"].apply(children_category)"
      ]
    },
    {
      "cell_type": "code",
      "source": [
        "edu_cat = df.loc[1418:1427, [\"education\", \"education_id\"]]\n",
        "df[\"education\"].unique()"
      ],
      "metadata": {
        "colab": {
          "base_uri": "https://localhost:8080/"
        },
        "id": "hMqqBftuFA3l",
        "outputId": "1f08a782-9b3c-41a1-94ab-5f12ba6ea07d"
      },
      "execution_count": 31,
      "outputs": [
        {
          "output_type": "execute_result",
          "data": {
            "text/plain": [
              "array(['высшее', 'среднее', 'неоконченное высшее', 'начальное',\n",
              "       'ученая степень'], dtype=object)"
            ]
          },
          "metadata": {},
          "execution_count": 31
        }
      ]
    },
    {
      "cell_type": "code",
      "execution_count": 32,
      "metadata": {
        "id": "yYN07F30jY4Q",
        "outputId": "33469c0d-38c1-43f1-a455-590b817dacc4",
        "colab": {
          "base_uri": "https://localhost:8080/"
        }
      },
      "outputs": [
        {
          "output_type": "execute_result",
          "data": {
            "text/plain": [
              "array(['женат / замужем', 'гражданский брак', 'вдовец / вдова',\n",
              "       'в разводе', 'не женат / не замужем'], dtype=object)"
            ]
          },
          "metadata": {},
          "execution_count": 32
        }
      ],
      "source": [
        "fam_cat = df.loc[2000:2005, [\"family_status\", \"family_status_id\"]]\n",
        "df[\"family_status\"].unique()"
      ]
    },
    {
      "cell_type": "markdown",
      "metadata": {
        "id": "4JQAULs5jY4Q"
      },
      "source": [
        "Adding three categroies of income (low, middle and high income):"
      ]
    },
    {
      "cell_type": "code",
      "source": [
        "mean_total_income = df[\"total_income\"].mean()\n",
        "\n",
        "def total_income_category(total_income, mean_income):\n",
        "    \"\"\"Define category income\"\"\"\n",
        "    if total_income <= mean_income / 2:\n",
        "        return \"низкий уровень дохода\"\n",
        "    if total_income <= mean_income:\n",
        "        return \"средний уровень дохода\"\n",
        "    return \"высокий уровень дохода\"\n",
        "\n",
        "df[\"total_income_category\"] = df[\"total_income\"].apply(\n",
        "    total_income_category, mean_income=mean_total_income)"
      ],
      "metadata": {
        "id": "sxILUz1PFtpi"
      },
      "execution_count": 33,
      "outputs": []
    },
    {
      "cell_type": "markdown",
      "metadata": {
        "id": "4WuZcvN7jY4Q"
      },
      "source": [
        "Print out categories of clients who has loan:"
      ]
    },
    {
      "cell_type": "code",
      "source": [
        "debtors_income_type = df.groupby(\n",
        "    \"income_type\")[\"debt\"].mean().sort_values(ascending=False)\n",
        "debtors_income_type"
      ],
      "metadata": {
        "colab": {
          "base_uri": "https://localhost:8080/"
        },
        "id": "Ipwu0Ce9Gs8r",
        "outputId": "38f012a1-aba3-4e39-82a5-d205f1b5e6e4"
      },
      "execution_count": 34,
      "outputs": [
        {
          "output_type": "execute_result",
          "data": {
            "text/plain": [
              "income_type\n",
              "в декрете          1.000000\n",
              "безработный        0.500000\n",
              "сотрудник          0.095724\n",
              "компаньон          0.074045\n",
              "госслужащий        0.059025\n",
              "пенсионер          0.056412\n",
              "предприниматель    0.000000\n",
              "студент            0.000000\n",
              "Name: debt, dtype: float64"
            ]
          },
          "metadata": {},
          "execution_count": 34
        }
      ]
    },
    {
      "cell_type": "markdown",
      "metadata": {
        "id": "y-LDEZD1jY4R"
      },
      "source": [
        "**Conclusion**\n",
        "\n",
        "- It was found out that biggest debtors are those who are on maternity leave (в декрете) and unemployed clients (берзаботный). Least of all, the debts are retired (пенсионер), business owners (предприниматель) and students (студент).\n",
        "- I made the categorization by purpose of loans previously on step 2.4"
      ]
    },
    {
      "cell_type": "markdown",
      "metadata": {
        "id": "C5sCwu8BjY4R"
      },
      "source": [
        "## Step 3. Questions and answers"
      ]
    },
    {
      "cell_type": "markdown",
      "metadata": {
        "id": "wlOjxlPdjY4R"
      },
      "source": [
        "- Is there any relation between having a children and repayment of loan in time?\n",
        "\n",
        "Categorizing clients by number of children:"
      ]
    },
    {
      "cell_type": "code",
      "execution_count": 35,
      "metadata": {
        "id": "JI8EAI_IjY4R",
        "outputId": "36a98ee6-5003-4531-bf10-14480bd60bf7",
        "colab": {
          "base_uri": "https://localhost:8080/",
          "height": 174
        }
      },
      "outputs": [
        {
          "output_type": "execute_result",
          "data": {
            "text/plain": [
              "debt                   0     1  ratio\n",
              "children_category                    \n",
              "многодетная семья   2275   233  9.29%\n",
              "один ребенок        4410   445  9.17%\n",
              "детей нет          13028  1063  7.54%"
            ],
            "text/html": [
              "\n",
              "  <div id=\"df-5fe43896-e91f-48cc-9978-cf1d4e8c0aa9\">\n",
              "    <div class=\"colab-df-container\">\n",
              "      <div>\n",
              "<style scoped>\n",
              "    .dataframe tbody tr th:only-of-type {\n",
              "        vertical-align: middle;\n",
              "    }\n",
              "\n",
              "    .dataframe tbody tr th {\n",
              "        vertical-align: top;\n",
              "    }\n",
              "\n",
              "    .dataframe thead th {\n",
              "        text-align: right;\n",
              "    }\n",
              "</style>\n",
              "<table border=\"1\" class=\"dataframe\">\n",
              "  <thead>\n",
              "    <tr style=\"text-align: right;\">\n",
              "      <th>debt</th>\n",
              "      <th>0</th>\n",
              "      <th>1</th>\n",
              "      <th>ratio</th>\n",
              "    </tr>\n",
              "    <tr>\n",
              "      <th>children_category</th>\n",
              "      <th></th>\n",
              "      <th></th>\n",
              "      <th></th>\n",
              "    </tr>\n",
              "  </thead>\n",
              "  <tbody>\n",
              "    <tr>\n",
              "      <th>многодетная семья</th>\n",
              "      <td>2275</td>\n",
              "      <td>233</td>\n",
              "      <td>9.29%</td>\n",
              "    </tr>\n",
              "    <tr>\n",
              "      <th>один ребенок</th>\n",
              "      <td>4410</td>\n",
              "      <td>445</td>\n",
              "      <td>9.17%</td>\n",
              "    </tr>\n",
              "    <tr>\n",
              "      <th>детей нет</th>\n",
              "      <td>13028</td>\n",
              "      <td>1063</td>\n",
              "      <td>7.54%</td>\n",
              "    </tr>\n",
              "  </tbody>\n",
              "</table>\n",
              "</div>\n",
              "      <button class=\"colab-df-convert\" onclick=\"convertToInteractive('df-5fe43896-e91f-48cc-9978-cf1d4e8c0aa9')\"\n",
              "              title=\"Convert this dataframe to an interactive table.\"\n",
              "              style=\"display:none;\">\n",
              "        \n",
              "  <svg xmlns=\"http://www.w3.org/2000/svg\" height=\"24px\"viewBox=\"0 0 24 24\"\n",
              "       width=\"24px\">\n",
              "    <path d=\"M0 0h24v24H0V0z\" fill=\"none\"/>\n",
              "    <path d=\"M18.56 5.44l.94 2.06.94-2.06 2.06-.94-2.06-.94-.94-2.06-.94 2.06-2.06.94zm-11 1L8.5 8.5l.94-2.06 2.06-.94-2.06-.94L8.5 2.5l-.94 2.06-2.06.94zm10 10l.94 2.06.94-2.06 2.06-.94-2.06-.94-.94-2.06-.94 2.06-2.06.94z\"/><path d=\"M17.41 7.96l-1.37-1.37c-.4-.4-.92-.59-1.43-.59-.52 0-1.04.2-1.43.59L10.3 9.45l-7.72 7.72c-.78.78-.78 2.05 0 2.83L4 21.41c.39.39.9.59 1.41.59.51 0 1.02-.2 1.41-.59l7.78-7.78 2.81-2.81c.8-.78.8-2.07 0-2.86zM5.41 20L4 18.59l7.72-7.72 1.47 1.35L5.41 20z\"/>\n",
              "  </svg>\n",
              "      </button>\n",
              "      \n",
              "  <style>\n",
              "    .colab-df-container {\n",
              "      display:flex;\n",
              "      flex-wrap:wrap;\n",
              "      gap: 12px;\n",
              "    }\n",
              "\n",
              "    .colab-df-convert {\n",
              "      background-color: #E8F0FE;\n",
              "      border: none;\n",
              "      border-radius: 50%;\n",
              "      cursor: pointer;\n",
              "      display: none;\n",
              "      fill: #1967D2;\n",
              "      height: 32px;\n",
              "      padding: 0 0 0 0;\n",
              "      width: 32px;\n",
              "    }\n",
              "\n",
              "    .colab-df-convert:hover {\n",
              "      background-color: #E2EBFA;\n",
              "      box-shadow: 0px 1px 2px rgba(60, 64, 67, 0.3), 0px 1px 3px 1px rgba(60, 64, 67, 0.15);\n",
              "      fill: #174EA6;\n",
              "    }\n",
              "\n",
              "    [theme=dark] .colab-df-convert {\n",
              "      background-color: #3B4455;\n",
              "      fill: #D2E3FC;\n",
              "    }\n",
              "\n",
              "    [theme=dark] .colab-df-convert:hover {\n",
              "      background-color: #434B5C;\n",
              "      box-shadow: 0px 1px 3px 1px rgba(0, 0, 0, 0.15);\n",
              "      filter: drop-shadow(0px 1px 2px rgba(0, 0, 0, 0.3));\n",
              "      fill: #FFFFFF;\n",
              "    }\n",
              "  </style>\n",
              "\n",
              "      <script>\n",
              "        const buttonEl =\n",
              "          document.querySelector('#df-5fe43896-e91f-48cc-9978-cf1d4e8c0aa9 button.colab-df-convert');\n",
              "        buttonEl.style.display =\n",
              "          google.colab.kernel.accessAllowed ? 'block' : 'none';\n",
              "\n",
              "        async function convertToInteractive(key) {\n",
              "          const element = document.querySelector('#df-5fe43896-e91f-48cc-9978-cf1d4e8c0aa9');\n",
              "          const dataTable =\n",
              "            await google.colab.kernel.invokeFunction('convertToInteractive',\n",
              "                                                     [key], {});\n",
              "          if (!dataTable) return;\n",
              "\n",
              "          const docLinkHtml = 'Like what you see? Visit the ' +\n",
              "            '<a target=\"_blank\" href=https://colab.research.google.com/notebooks/data_table.ipynb>data table notebook</a>'\n",
              "            + ' to learn more about interactive tables.';\n",
              "          element.innerHTML = '';\n",
              "          dataTable['output_type'] = 'display_data';\n",
              "          await google.colab.output.renderOutput(dataTable, element);\n",
              "          const docLink = document.createElement('div');\n",
              "          docLink.innerHTML = docLinkHtml;\n",
              "          element.appendChild(docLink);\n",
              "        }\n",
              "      </script>\n",
              "    </div>\n",
              "  </div>\n",
              "  "
            ]
          },
          "metadata": {},
          "execution_count": 35
        }
      ],
      "source": [
        "children_pivot = df.pivot_table(\n",
        "    index=\"children_category\",\n",
        "    columns=\"debt\",\n",
        "    values=\"family_status_id\",\n",
        "    aggfunc=\"count\",\n",
        ")\n",
        "children_pivot[\"ratio\"] = (\n",
        "    children_pivot[1] / (children_pivot[0] + children_pivot[1])\n",
        ").apply(lambda x: \"{:.2%}\".format(x))\n",
        "children_pivot.sort_values(by=\"ratio\", ascending=False)"
      ]
    },
    {
      "cell_type": "markdown",
      "metadata": {
        "id": "LzL_VjFyjY4R"
      },
      "source": [
        "**Conclusion**\n",
        "\n",
        "The allocation between childless clients and large families showed the following relationship: the loan repayment rate for borrowers without children is higher than for clients from large families. Childless clients are 1.75% more reliable."
      ]
    },
    {
      "cell_type": "markdown",
      "metadata": {
        "id": "N9KubscPjY4S"
      },
      "source": [
        "- Is there a relation between marital status and repayment of loan during the term?\n",
        "\n",
        "Categorizing clients by family status:"
      ]
    },
    {
      "cell_type": "code",
      "execution_count": 36,
      "metadata": {
        "id": "Wc9T9CzfjY4S",
        "outputId": "436e41e4-0fde-4167-9901-65162bfd0e36",
        "colab": {
          "base_uri": "https://localhost:8080/",
          "height": 237
        }
      },
      "outputs": [
        {
          "output_type": "execute_result",
          "data": {
            "text/plain": [
              "debt                       0    1  ratio\n",
              "family_status                           \n",
              "не женат / не замужем   2536  274  9.75%\n",
              "гражданский брак        3763  388  9.35%\n",
              "женат / замужем        11408  931  7.55%\n",
              "в разводе               1110   85  7.11%\n",
              "вдовец / вдова           896   63  6.57%"
            ],
            "text/html": [
              "\n",
              "  <div id=\"df-5fae91ec-497b-4993-b672-c12c99baf7aa\">\n",
              "    <div class=\"colab-df-container\">\n",
              "      <div>\n",
              "<style scoped>\n",
              "    .dataframe tbody tr th:only-of-type {\n",
              "        vertical-align: middle;\n",
              "    }\n",
              "\n",
              "    .dataframe tbody tr th {\n",
              "        vertical-align: top;\n",
              "    }\n",
              "\n",
              "    .dataframe thead th {\n",
              "        text-align: right;\n",
              "    }\n",
              "</style>\n",
              "<table border=\"1\" class=\"dataframe\">\n",
              "  <thead>\n",
              "    <tr style=\"text-align: right;\">\n",
              "      <th>debt</th>\n",
              "      <th>0</th>\n",
              "      <th>1</th>\n",
              "      <th>ratio</th>\n",
              "    </tr>\n",
              "    <tr>\n",
              "      <th>family_status</th>\n",
              "      <th></th>\n",
              "      <th></th>\n",
              "      <th></th>\n",
              "    </tr>\n",
              "  </thead>\n",
              "  <tbody>\n",
              "    <tr>\n",
              "      <th>не женат / не замужем</th>\n",
              "      <td>2536</td>\n",
              "      <td>274</td>\n",
              "      <td>9.75%</td>\n",
              "    </tr>\n",
              "    <tr>\n",
              "      <th>гражданский брак</th>\n",
              "      <td>3763</td>\n",
              "      <td>388</td>\n",
              "      <td>9.35%</td>\n",
              "    </tr>\n",
              "    <tr>\n",
              "      <th>женат / замужем</th>\n",
              "      <td>11408</td>\n",
              "      <td>931</td>\n",
              "      <td>7.55%</td>\n",
              "    </tr>\n",
              "    <tr>\n",
              "      <th>в разводе</th>\n",
              "      <td>1110</td>\n",
              "      <td>85</td>\n",
              "      <td>7.11%</td>\n",
              "    </tr>\n",
              "    <tr>\n",
              "      <th>вдовец / вдова</th>\n",
              "      <td>896</td>\n",
              "      <td>63</td>\n",
              "      <td>6.57%</td>\n",
              "    </tr>\n",
              "  </tbody>\n",
              "</table>\n",
              "</div>\n",
              "      <button class=\"colab-df-convert\" onclick=\"convertToInteractive('df-5fae91ec-497b-4993-b672-c12c99baf7aa')\"\n",
              "              title=\"Convert this dataframe to an interactive table.\"\n",
              "              style=\"display:none;\">\n",
              "        \n",
              "  <svg xmlns=\"http://www.w3.org/2000/svg\" height=\"24px\"viewBox=\"0 0 24 24\"\n",
              "       width=\"24px\">\n",
              "    <path d=\"M0 0h24v24H0V0z\" fill=\"none\"/>\n",
              "    <path d=\"M18.56 5.44l.94 2.06.94-2.06 2.06-.94-2.06-.94-.94-2.06-.94 2.06-2.06.94zm-11 1L8.5 8.5l.94-2.06 2.06-.94-2.06-.94L8.5 2.5l-.94 2.06-2.06.94zm10 10l.94 2.06.94-2.06 2.06-.94-2.06-.94-.94-2.06-.94 2.06-2.06.94z\"/><path d=\"M17.41 7.96l-1.37-1.37c-.4-.4-.92-.59-1.43-.59-.52 0-1.04.2-1.43.59L10.3 9.45l-7.72 7.72c-.78.78-.78 2.05 0 2.83L4 21.41c.39.39.9.59 1.41.59.51 0 1.02-.2 1.41-.59l7.78-7.78 2.81-2.81c.8-.78.8-2.07 0-2.86zM5.41 20L4 18.59l7.72-7.72 1.47 1.35L5.41 20z\"/>\n",
              "  </svg>\n",
              "      </button>\n",
              "      \n",
              "  <style>\n",
              "    .colab-df-container {\n",
              "      display:flex;\n",
              "      flex-wrap:wrap;\n",
              "      gap: 12px;\n",
              "    }\n",
              "\n",
              "    .colab-df-convert {\n",
              "      background-color: #E8F0FE;\n",
              "      border: none;\n",
              "      border-radius: 50%;\n",
              "      cursor: pointer;\n",
              "      display: none;\n",
              "      fill: #1967D2;\n",
              "      height: 32px;\n",
              "      padding: 0 0 0 0;\n",
              "      width: 32px;\n",
              "    }\n",
              "\n",
              "    .colab-df-convert:hover {\n",
              "      background-color: #E2EBFA;\n",
              "      box-shadow: 0px 1px 2px rgba(60, 64, 67, 0.3), 0px 1px 3px 1px rgba(60, 64, 67, 0.15);\n",
              "      fill: #174EA6;\n",
              "    }\n",
              "\n",
              "    [theme=dark] .colab-df-convert {\n",
              "      background-color: #3B4455;\n",
              "      fill: #D2E3FC;\n",
              "    }\n",
              "\n",
              "    [theme=dark] .colab-df-convert:hover {\n",
              "      background-color: #434B5C;\n",
              "      box-shadow: 0px 1px 3px 1px rgba(0, 0, 0, 0.15);\n",
              "      filter: drop-shadow(0px 1px 2px rgba(0, 0, 0, 0.3));\n",
              "      fill: #FFFFFF;\n",
              "    }\n",
              "  </style>\n",
              "\n",
              "      <script>\n",
              "        const buttonEl =\n",
              "          document.querySelector('#df-5fae91ec-497b-4993-b672-c12c99baf7aa button.colab-df-convert');\n",
              "        buttonEl.style.display =\n",
              "          google.colab.kernel.accessAllowed ? 'block' : 'none';\n",
              "\n",
              "        async function convertToInteractive(key) {\n",
              "          const element = document.querySelector('#df-5fae91ec-497b-4993-b672-c12c99baf7aa');\n",
              "          const dataTable =\n",
              "            await google.colab.kernel.invokeFunction('convertToInteractive',\n",
              "                                                     [key], {});\n",
              "          if (!dataTable) return;\n",
              "\n",
              "          const docLinkHtml = 'Like what you see? Visit the ' +\n",
              "            '<a target=\"_blank\" href=https://colab.research.google.com/notebooks/data_table.ipynb>data table notebook</a>'\n",
              "            + ' to learn more about interactive tables.';\n",
              "          element.innerHTML = '';\n",
              "          dataTable['output_type'] = 'display_data';\n",
              "          await google.colab.output.renderOutput(dataTable, element);\n",
              "          const docLink = document.createElement('div');\n",
              "          docLink.innerHTML = docLinkHtml;\n",
              "          element.appendChild(docLink);\n",
              "        }\n",
              "      </script>\n",
              "    </div>\n",
              "  </div>\n",
              "  "
            ]
          },
          "metadata": {},
          "execution_count": 36
        }
      ],
      "source": [
        "family_pivot = df.pivot_table(\n",
        "    index=\"family_status\",\n",
        "    columns=\"debt\",\n",
        "    values=\"family_status_id\",\n",
        "    aggfunc=\"count\"\n",
        ")\n",
        "family_pivot[\"ratio\"] = (\n",
        "    family_pivot[1] / (family_pivot[0] + family_pivot[1])\n",
        ").apply(lambda x: \"{:.2%}\".format(x))\n",
        "family_pivot.sort_values(by=\"ratio\", ascending=False)"
      ]
    },
    {
      "cell_type": "markdown",
      "metadata": {
        "id": "Dro1A8knjY4S"
      },
      "source": [
        "**Conclusion**\n",
        "\n",
        "The pivot table above shows that the most unreliable borrowers are clients with a marital status of single (не женат / не замужем). In opposite, the most reliable are those who are divorced (в разводе) or have lost spouses (вдовец / вдова)."
      ]
    },
    {
      "cell_type": "markdown",
      "metadata": {
        "id": "R1iJeFXYjY4S"
      },
      "source": [
        "- Is there a relation between the type of income and repayment of the loan in time?\n",
        "\n",
        "Categorizing clients by income:"
      ]
    },
    {
      "cell_type": "code",
      "execution_count": 37,
      "metadata": {
        "id": "vT5R-kMSjY4S",
        "outputId": "a55da8e1-0ccb-4610-90f7-c34e04492afe",
        "colab": {
          "base_uri": "https://localhost:8080/",
          "height": 174
        }
      },
      "outputs": [
        {
          "output_type": "execute_result",
          "data": {
            "text/plain": [
              "debt                       0    1  ratio\n",
              "total_income_category                   \n",
              "средний уровень дохода  9804  920  8.58%\n",
              "низкий уровень дохода   2362  197  7.70%\n",
              "высокий уровень дохода  7547  624  7.64%"
            ],
            "text/html": [
              "\n",
              "  <div id=\"df-b1bc15bd-8abd-460d-bae7-8e7df43c4f25\">\n",
              "    <div class=\"colab-df-container\">\n",
              "      <div>\n",
              "<style scoped>\n",
              "    .dataframe tbody tr th:only-of-type {\n",
              "        vertical-align: middle;\n",
              "    }\n",
              "\n",
              "    .dataframe tbody tr th {\n",
              "        vertical-align: top;\n",
              "    }\n",
              "\n",
              "    .dataframe thead th {\n",
              "        text-align: right;\n",
              "    }\n",
              "</style>\n",
              "<table border=\"1\" class=\"dataframe\">\n",
              "  <thead>\n",
              "    <tr style=\"text-align: right;\">\n",
              "      <th>debt</th>\n",
              "      <th>0</th>\n",
              "      <th>1</th>\n",
              "      <th>ratio</th>\n",
              "    </tr>\n",
              "    <tr>\n",
              "      <th>total_income_category</th>\n",
              "      <th></th>\n",
              "      <th></th>\n",
              "      <th></th>\n",
              "    </tr>\n",
              "  </thead>\n",
              "  <tbody>\n",
              "    <tr>\n",
              "      <th>средний уровень дохода</th>\n",
              "      <td>9804</td>\n",
              "      <td>920</td>\n",
              "      <td>8.58%</td>\n",
              "    </tr>\n",
              "    <tr>\n",
              "      <th>низкий уровень дохода</th>\n",
              "      <td>2362</td>\n",
              "      <td>197</td>\n",
              "      <td>7.70%</td>\n",
              "    </tr>\n",
              "    <tr>\n",
              "      <th>высокий уровень дохода</th>\n",
              "      <td>7547</td>\n",
              "      <td>624</td>\n",
              "      <td>7.64%</td>\n",
              "    </tr>\n",
              "  </tbody>\n",
              "</table>\n",
              "</div>\n",
              "      <button class=\"colab-df-convert\" onclick=\"convertToInteractive('df-b1bc15bd-8abd-460d-bae7-8e7df43c4f25')\"\n",
              "              title=\"Convert this dataframe to an interactive table.\"\n",
              "              style=\"display:none;\">\n",
              "        \n",
              "  <svg xmlns=\"http://www.w3.org/2000/svg\" height=\"24px\"viewBox=\"0 0 24 24\"\n",
              "       width=\"24px\">\n",
              "    <path d=\"M0 0h24v24H0V0z\" fill=\"none\"/>\n",
              "    <path d=\"M18.56 5.44l.94 2.06.94-2.06 2.06-.94-2.06-.94-.94-2.06-.94 2.06-2.06.94zm-11 1L8.5 8.5l.94-2.06 2.06-.94-2.06-.94L8.5 2.5l-.94 2.06-2.06.94zm10 10l.94 2.06.94-2.06 2.06-.94-2.06-.94-.94-2.06-.94 2.06-2.06.94z\"/><path d=\"M17.41 7.96l-1.37-1.37c-.4-.4-.92-.59-1.43-.59-.52 0-1.04.2-1.43.59L10.3 9.45l-7.72 7.72c-.78.78-.78 2.05 0 2.83L4 21.41c.39.39.9.59 1.41.59.51 0 1.02-.2 1.41-.59l7.78-7.78 2.81-2.81c.8-.78.8-2.07 0-2.86zM5.41 20L4 18.59l7.72-7.72 1.47 1.35L5.41 20z\"/>\n",
              "  </svg>\n",
              "      </button>\n",
              "      \n",
              "  <style>\n",
              "    .colab-df-container {\n",
              "      display:flex;\n",
              "      flex-wrap:wrap;\n",
              "      gap: 12px;\n",
              "    }\n",
              "\n",
              "    .colab-df-convert {\n",
              "      background-color: #E8F0FE;\n",
              "      border: none;\n",
              "      border-radius: 50%;\n",
              "      cursor: pointer;\n",
              "      display: none;\n",
              "      fill: #1967D2;\n",
              "      height: 32px;\n",
              "      padding: 0 0 0 0;\n",
              "      width: 32px;\n",
              "    }\n",
              "\n",
              "    .colab-df-convert:hover {\n",
              "      background-color: #E2EBFA;\n",
              "      box-shadow: 0px 1px 2px rgba(60, 64, 67, 0.3), 0px 1px 3px 1px rgba(60, 64, 67, 0.15);\n",
              "      fill: #174EA6;\n",
              "    }\n",
              "\n",
              "    [theme=dark] .colab-df-convert {\n",
              "      background-color: #3B4455;\n",
              "      fill: #D2E3FC;\n",
              "    }\n",
              "\n",
              "    [theme=dark] .colab-df-convert:hover {\n",
              "      background-color: #434B5C;\n",
              "      box-shadow: 0px 1px 3px 1px rgba(0, 0, 0, 0.15);\n",
              "      filter: drop-shadow(0px 1px 2px rgba(0, 0, 0, 0.3));\n",
              "      fill: #FFFFFF;\n",
              "    }\n",
              "  </style>\n",
              "\n",
              "      <script>\n",
              "        const buttonEl =\n",
              "          document.querySelector('#df-b1bc15bd-8abd-460d-bae7-8e7df43c4f25 button.colab-df-convert');\n",
              "        buttonEl.style.display =\n",
              "          google.colab.kernel.accessAllowed ? 'block' : 'none';\n",
              "\n",
              "        async function convertToInteractive(key) {\n",
              "          const element = document.querySelector('#df-b1bc15bd-8abd-460d-bae7-8e7df43c4f25');\n",
              "          const dataTable =\n",
              "            await google.colab.kernel.invokeFunction('convertToInteractive',\n",
              "                                                     [key], {});\n",
              "          if (!dataTable) return;\n",
              "\n",
              "          const docLinkHtml = 'Like what you see? Visit the ' +\n",
              "            '<a target=\"_blank\" href=https://colab.research.google.com/notebooks/data_table.ipynb>data table notebook</a>'\n",
              "            + ' to learn more about interactive tables.';\n",
              "          element.innerHTML = '';\n",
              "          dataTable['output_type'] = 'display_data';\n",
              "          await google.colab.output.renderOutput(dataTable, element);\n",
              "          const docLink = document.createElement('div');\n",
              "          docLink.innerHTML = docLinkHtml;\n",
              "          element.appendChild(docLink);\n",
              "        }\n",
              "      </script>\n",
              "    </div>\n",
              "  </div>\n",
              "  "
            ]
          },
          "metadata": {},
          "execution_count": 37
        }
      ],
      "source": [
        "income_pivot = df.pivot_table(\n",
        "    index=\"total_income_category\",\n",
        "    columns=\"debt\",\n",
        "    values=\"purpose\",\n",
        "    aggfunc=\"count\"\n",
        ")\n",
        "income_pivot[\"ratio\"] = (\n",
        "    income_pivot[1] / (income_pivot[0] + income_pivot[1])\n",
        ").apply(lambda x: \"{:.2%}\".format(x))\n",
        "income_pivot.sort_values(by=\"ratio\", ascending=False)"
      ]
    },
    {
      "cell_type": "markdown",
      "metadata": {
        "id": "3SS9_n5QjY4S"
      },
      "source": [
        "**Conclusion**\n",
        "\n",
        "Clients with high-income (высокий уровень дохода) have the highest rate of loan fulfillment, clients with low-income (низкий уровень дохода) almost next to them. The most unreliable clients are \"middle class\" (средний уровень дохода)."
      ]
    },
    {
      "cell_type": "markdown",
      "metadata": {
        "id": "IcD-GERtjY4T"
      },
      "source": [
        "- How do different purposes of the loan affect its repayment in time?\n",
        "\n",
        "Categorizing purposes of loan:"
      ]
    },
    {
      "cell_type": "code",
      "execution_count": 38,
      "metadata": {
        "id": "h6s8V6T9jY4T",
        "outputId": "05bb57b1-58ea-4144-9d61-81aa6a662b5b",
        "colab": {
          "base_uri": "https://localhost:8080/",
          "height": 206
        }
      },
      "outputs": [
        {
          "output_type": "execute_result",
          "data": {
            "text/plain": [
              "debt                     0    1  ratio\n",
              "purpose_category                      \n",
              "автомобиль            3903  403  9.36%\n",
              "образование           3643  370  9.22%\n",
              "свадьба               2138  186  8.00%\n",
              "жильё, недвижимость  10029  782  7.23%"
            ],
            "text/html": [
              "\n",
              "  <div id=\"df-16ea0c93-104a-47a4-a22b-7983adeecf57\">\n",
              "    <div class=\"colab-df-container\">\n",
              "      <div>\n",
              "<style scoped>\n",
              "    .dataframe tbody tr th:only-of-type {\n",
              "        vertical-align: middle;\n",
              "    }\n",
              "\n",
              "    .dataframe tbody tr th {\n",
              "        vertical-align: top;\n",
              "    }\n",
              "\n",
              "    .dataframe thead th {\n",
              "        text-align: right;\n",
              "    }\n",
              "</style>\n",
              "<table border=\"1\" class=\"dataframe\">\n",
              "  <thead>\n",
              "    <tr style=\"text-align: right;\">\n",
              "      <th>debt</th>\n",
              "      <th>0</th>\n",
              "      <th>1</th>\n",
              "      <th>ratio</th>\n",
              "    </tr>\n",
              "    <tr>\n",
              "      <th>purpose_category</th>\n",
              "      <th></th>\n",
              "      <th></th>\n",
              "      <th></th>\n",
              "    </tr>\n",
              "  </thead>\n",
              "  <tbody>\n",
              "    <tr>\n",
              "      <th>автомобиль</th>\n",
              "      <td>3903</td>\n",
              "      <td>403</td>\n",
              "      <td>9.36%</td>\n",
              "    </tr>\n",
              "    <tr>\n",
              "      <th>образование</th>\n",
              "      <td>3643</td>\n",
              "      <td>370</td>\n",
              "      <td>9.22%</td>\n",
              "    </tr>\n",
              "    <tr>\n",
              "      <th>свадьба</th>\n",
              "      <td>2138</td>\n",
              "      <td>186</td>\n",
              "      <td>8.00%</td>\n",
              "    </tr>\n",
              "    <tr>\n",
              "      <th>жильё, недвижимость</th>\n",
              "      <td>10029</td>\n",
              "      <td>782</td>\n",
              "      <td>7.23%</td>\n",
              "    </tr>\n",
              "  </tbody>\n",
              "</table>\n",
              "</div>\n",
              "      <button class=\"colab-df-convert\" onclick=\"convertToInteractive('df-16ea0c93-104a-47a4-a22b-7983adeecf57')\"\n",
              "              title=\"Convert this dataframe to an interactive table.\"\n",
              "              style=\"display:none;\">\n",
              "        \n",
              "  <svg xmlns=\"http://www.w3.org/2000/svg\" height=\"24px\"viewBox=\"0 0 24 24\"\n",
              "       width=\"24px\">\n",
              "    <path d=\"M0 0h24v24H0V0z\" fill=\"none\"/>\n",
              "    <path d=\"M18.56 5.44l.94 2.06.94-2.06 2.06-.94-2.06-.94-.94-2.06-.94 2.06-2.06.94zm-11 1L8.5 8.5l.94-2.06 2.06-.94-2.06-.94L8.5 2.5l-.94 2.06-2.06.94zm10 10l.94 2.06.94-2.06 2.06-.94-2.06-.94-.94-2.06-.94 2.06-2.06.94z\"/><path d=\"M17.41 7.96l-1.37-1.37c-.4-.4-.92-.59-1.43-.59-.52 0-1.04.2-1.43.59L10.3 9.45l-7.72 7.72c-.78.78-.78 2.05 0 2.83L4 21.41c.39.39.9.59 1.41.59.51 0 1.02-.2 1.41-.59l7.78-7.78 2.81-2.81c.8-.78.8-2.07 0-2.86zM5.41 20L4 18.59l7.72-7.72 1.47 1.35L5.41 20z\"/>\n",
              "  </svg>\n",
              "      </button>\n",
              "      \n",
              "  <style>\n",
              "    .colab-df-container {\n",
              "      display:flex;\n",
              "      flex-wrap:wrap;\n",
              "      gap: 12px;\n",
              "    }\n",
              "\n",
              "    .colab-df-convert {\n",
              "      background-color: #E8F0FE;\n",
              "      border: none;\n",
              "      border-radius: 50%;\n",
              "      cursor: pointer;\n",
              "      display: none;\n",
              "      fill: #1967D2;\n",
              "      height: 32px;\n",
              "      padding: 0 0 0 0;\n",
              "      width: 32px;\n",
              "    }\n",
              "\n",
              "    .colab-df-convert:hover {\n",
              "      background-color: #E2EBFA;\n",
              "      box-shadow: 0px 1px 2px rgba(60, 64, 67, 0.3), 0px 1px 3px 1px rgba(60, 64, 67, 0.15);\n",
              "      fill: #174EA6;\n",
              "    }\n",
              "\n",
              "    [theme=dark] .colab-df-convert {\n",
              "      background-color: #3B4455;\n",
              "      fill: #D2E3FC;\n",
              "    }\n",
              "\n",
              "    [theme=dark] .colab-df-convert:hover {\n",
              "      background-color: #434B5C;\n",
              "      box-shadow: 0px 1px 3px 1px rgba(0, 0, 0, 0.15);\n",
              "      filter: drop-shadow(0px 1px 2px rgba(0, 0, 0, 0.3));\n",
              "      fill: #FFFFFF;\n",
              "    }\n",
              "  </style>\n",
              "\n",
              "      <script>\n",
              "        const buttonEl =\n",
              "          document.querySelector('#df-16ea0c93-104a-47a4-a22b-7983adeecf57 button.colab-df-convert');\n",
              "        buttonEl.style.display =\n",
              "          google.colab.kernel.accessAllowed ? 'block' : 'none';\n",
              "\n",
              "        async function convertToInteractive(key) {\n",
              "          const element = document.querySelector('#df-16ea0c93-104a-47a4-a22b-7983adeecf57');\n",
              "          const dataTable =\n",
              "            await google.colab.kernel.invokeFunction('convertToInteractive',\n",
              "                                                     [key], {});\n",
              "          if (!dataTable) return;\n",
              "\n",
              "          const docLinkHtml = 'Like what you see? Visit the ' +\n",
              "            '<a target=\"_blank\" href=https://colab.research.google.com/notebooks/data_table.ipynb>data table notebook</a>'\n",
              "            + ' to learn more about interactive tables.';\n",
              "          element.innerHTML = '';\n",
              "          dataTable['output_type'] = 'display_data';\n",
              "          await google.colab.output.renderOutput(dataTable, element);\n",
              "          const docLink = document.createElement('div');\n",
              "          docLink.innerHTML = docLinkHtml;\n",
              "          element.appendChild(docLink);\n",
              "        }\n",
              "      </script>\n",
              "    </div>\n",
              "  </div>\n",
              "  "
            ]
          },
          "metadata": {},
          "execution_count": 38
        }
      ],
      "source": [
        "purpose_pivot = df.pivot_table(\n",
        "    index=\"purpose_category\",\n",
        "    columns=\"debt\",\n",
        "    values=\"purpose\",\n",
        "    aggfunc=\"count\"\n",
        ")\n",
        "purpose_pivot[\"ratio\"] = (\n",
        "    purpose_pivot[1] / (purpose_pivot[0] + purpose_pivot[1])\n",
        ").apply(lambda x: \"{:.2%}\".format(x))\n",
        "purpose_pivot.sort_values(by=\"ratio\", ascending=False)"
      ]
    },
    {
      "cell_type": "markdown",
      "metadata": {
        "id": "xY4tn_g7jY4T"
      },
      "source": [
        "**Conclusion**\n",
        "\n",
        "Auto loan and car financing is the most risky type of loan. The difference between the most reliable category \"real estate\" (жильё, недвижимость) is 2.13%."
      ]
    },
    {
      "cell_type": "markdown",
      "metadata": {
        "id": "xUBgEOFQjY4T"
      },
      "source": [
        "## Step 4. General conclusion\n",
        "\n",
        "Putting together the previous conclusion, now we can describe three types of borrowers:\n",
        "1. Reliable borrower: childless widower/widow (or divorced), low or high income. The purpose of the loan is real estate.\n",
        "2. Unreliable borrower 1: a large family with an average income. The purpose of the loan is a car or education.\n",
        "3. Unreliable borrower 2: civil married clients with an average income. The purpose of the loan is the same as above."
      ]
    }
  ],
  "metadata": {
    "ExecuteTimeLog": [
      {
        "duration": 826,
        "start_time": "2022-01-23T07:56:42.481Z"
      },
      {
        "duration": 94,
        "start_time": "2022-01-23T07:57:06.779Z"
      },
      {
        "duration": 91,
        "start_time": "2022-01-23T07:57:18.601Z"
      },
      {
        "duration": 90,
        "start_time": "2022-01-23T07:57:26.236Z"
      },
      {
        "duration": 88,
        "start_time": "2022-01-23T07:57:32.917Z"
      },
      {
        "duration": 131,
        "start_time": "2022-01-23T07:59:06.200Z"
      },
      {
        "duration": 140,
        "start_time": "2022-01-23T07:59:27.602Z"
      },
      {
        "duration": 12,
        "start_time": "2022-01-23T08:27:44.804Z"
      },
      {
        "duration": 28,
        "start_time": "2022-01-23T09:23:49.171Z"
      },
      {
        "duration": 28,
        "start_time": "2022-01-23T09:25:33.854Z"
      },
      {
        "duration": 30,
        "start_time": "2022-01-23T09:25:42.241Z"
      },
      {
        "duration": 32,
        "start_time": "2022-01-23T09:26:28.672Z"
      },
      {
        "duration": 36,
        "start_time": "2022-01-23T09:28:26.414Z"
      },
      {
        "duration": 12,
        "start_time": "2022-01-23T09:34:10.366Z"
      },
      {
        "duration": 862,
        "start_time": "2022-01-23T11:35:46.000Z"
      },
      {
        "duration": 135,
        "start_time": "2022-01-23T11:35:59.377Z"
      },
      {
        "duration": 113,
        "start_time": "2022-01-23T11:36:29.128Z"
      },
      {
        "duration": 73,
        "start_time": "2022-01-23T11:40:45.688Z"
      },
      {
        "duration": 471,
        "start_time": "2022-01-23T11:43:24.439Z"
      },
      {
        "duration": 504,
        "start_time": "2022-01-23T11:43:32.454Z"
      },
      {
        "duration": 125,
        "start_time": "2022-01-23T11:43:57.721Z"
      },
      {
        "duration": 1387,
        "start_time": "2022-01-23T11:44:07.233Z"
      },
      {
        "duration": 466,
        "start_time": "2022-01-23T11:44:14.744Z"
      },
      {
        "duration": 81,
        "start_time": "2022-01-23T11:44:43.934Z"
      },
      {
        "duration": 7244,
        "start_time": "2022-01-23T11:45:29.069Z"
      },
      {
        "duration": 77,
        "start_time": "2022-01-23T11:45:39.632Z"
      },
      {
        "duration": 104,
        "start_time": "2022-01-23T11:45:45.662Z"
      },
      {
        "duration": 146,
        "start_time": "2022-01-23T11:46:19.180Z"
      },
      {
        "duration": 86,
        "start_time": "2022-01-23T11:46:28.197Z"
      },
      {
        "duration": 84,
        "start_time": "2022-01-23T11:46:36.206Z"
      },
      {
        "duration": 76,
        "start_time": "2022-01-23T11:46:49.290Z"
      },
      {
        "duration": 94,
        "start_time": "2022-01-23T11:47:13.649Z"
      },
      {
        "duration": 84,
        "start_time": "2022-01-23T11:47:52.160Z"
      },
      {
        "duration": 103,
        "start_time": "2022-01-23T11:48:35.219Z"
      },
      {
        "duration": 86,
        "start_time": "2022-01-23T11:48:57.837Z"
      },
      {
        "duration": 84,
        "start_time": "2022-01-23T11:49:37.773Z"
      },
      {
        "duration": 92,
        "start_time": "2022-01-23T11:50:05.938Z"
      },
      {
        "duration": 137,
        "start_time": "2022-01-23T11:50:20.538Z"
      },
      {
        "duration": 88,
        "start_time": "2022-01-23T11:51:24.532Z"
      },
      {
        "duration": 117,
        "start_time": "2022-01-23T11:52:03.848Z"
      },
      {
        "duration": 102,
        "start_time": "2022-01-23T11:52:30.686Z"
      },
      {
        "duration": 91,
        "start_time": "2022-01-23T11:54:09.788Z"
      },
      {
        "duration": 336,
        "start_time": "2022-01-23T11:54:35.849Z"
      },
      {
        "duration": 90,
        "start_time": "2022-01-23T11:55:52.984Z"
      },
      {
        "duration": 90,
        "start_time": "2022-01-23T11:56:06.542Z"
      },
      {
        "duration": 94,
        "start_time": "2022-01-23T11:56:35.606Z"
      },
      {
        "duration": 123,
        "start_time": "2022-01-23T11:58:09.165Z"
      },
      {
        "duration": 959,
        "start_time": "2022-01-23T12:03:15.447Z"
      },
      {
        "duration": 15,
        "start_time": "2022-01-23T12:06:11.658Z"
      },
      {
        "duration": 97,
        "start_time": "2022-01-23T13:03:05.328Z"
      },
      {
        "duration": 18,
        "start_time": "2022-01-23T13:06:42.875Z"
      },
      {
        "duration": 29,
        "start_time": "2022-01-23T13:06:46.726Z"
      },
      {
        "duration": 13,
        "start_time": "2022-01-23T13:07:07.441Z"
      },
      {
        "duration": 22,
        "start_time": "2022-01-23T13:07:24.415Z"
      },
      {
        "duration": 12,
        "start_time": "2022-01-23T13:11:19.787Z"
      },
      {
        "duration": 18,
        "start_time": "2022-01-23T13:11:22.017Z"
      },
      {
        "duration": 851,
        "start_time": "2022-01-23T13:11:44.956Z"
      },
      {
        "duration": 14,
        "start_time": "2022-01-23T13:11:45.810Z"
      },
      {
        "duration": 45,
        "start_time": "2022-01-23T13:11:45.828Z"
      },
      {
        "duration": 6,
        "start_time": "2022-01-23T13:13:23.663Z"
      },
      {
        "duration": 36,
        "start_time": "2022-01-23T13:17:58.906Z"
      },
      {
        "duration": 80,
        "start_time": "2022-01-23T13:18:06.396Z"
      },
      {
        "duration": 15,
        "start_time": "2022-01-23T13:18:10.491Z"
      },
      {
        "duration": 24,
        "start_time": "2022-01-23T13:18:49.826Z"
      },
      {
        "duration": 16,
        "start_time": "2022-01-23T13:18:54.355Z"
      },
      {
        "duration": 22,
        "start_time": "2022-01-23T13:19:56.397Z"
      },
      {
        "duration": 85,
        "start_time": "2022-01-23T13:20:56.103Z"
      },
      {
        "duration": 141,
        "start_time": "2022-01-23T13:21:04.277Z"
      },
      {
        "duration": 88,
        "start_time": "2022-01-23T13:21:07.994Z"
      },
      {
        "duration": 87,
        "start_time": "2022-01-23T13:21:12.905Z"
      },
      {
        "duration": 43,
        "start_time": "2022-01-23T13:21:21.207Z"
      },
      {
        "duration": 25,
        "start_time": "2022-01-23T13:28:55.726Z"
      },
      {
        "duration": 961,
        "start_time": "2022-01-23T13:29:24.340Z"
      },
      {
        "duration": 62,
        "start_time": "2022-01-23T13:29:25.305Z"
      },
      {
        "duration": 48,
        "start_time": "2022-01-23T13:29:25.370Z"
      },
      {
        "duration": 21,
        "start_time": "2022-01-23T13:34:17.298Z"
      },
      {
        "duration": 61,
        "start_time": "2022-01-23T13:34:56.946Z"
      },
      {
        "duration": 19,
        "start_time": "2022-01-23T13:37:05.387Z"
      },
      {
        "duration": 35,
        "start_time": "2022-01-23T13:37:12.696Z"
      },
      {
        "duration": 31,
        "start_time": "2022-01-23T13:37:17.803Z"
      },
      {
        "duration": 48,
        "start_time": "2022-01-23T13:37:21.198Z"
      },
      {
        "duration": 52,
        "start_time": "2022-01-23T13:37:41.087Z"
      },
      {
        "duration": 34,
        "start_time": "2022-01-23T13:37:53.473Z"
      },
      {
        "duration": 31,
        "start_time": "2022-01-23T13:38:00.089Z"
      },
      {
        "duration": 846,
        "start_time": "2022-01-23T13:38:10.568Z"
      },
      {
        "duration": 69,
        "start_time": "2022-01-23T13:38:11.418Z"
      },
      {
        "duration": 45,
        "start_time": "2022-01-23T13:38:11.491Z"
      },
      {
        "duration": 39,
        "start_time": "2022-01-23T13:38:24.724Z"
      },
      {
        "duration": 63,
        "start_time": "2022-01-23T13:39:06.004Z"
      },
      {
        "duration": 7,
        "start_time": "2022-01-23T13:46:47.507Z"
      },
      {
        "duration": 5,
        "start_time": "2022-01-23T13:51:14.511Z"
      },
      {
        "duration": 6,
        "start_time": "2022-01-23T13:51:18.650Z"
      },
      {
        "duration": 6,
        "start_time": "2022-01-23T13:51:20.360Z"
      },
      {
        "duration": 7,
        "start_time": "2022-01-23T13:51:20.596Z"
      },
      {
        "duration": 6,
        "start_time": "2022-01-23T13:51:20.756Z"
      },
      {
        "duration": 6,
        "start_time": "2022-01-23T13:51:20.900Z"
      },
      {
        "duration": 8,
        "start_time": "2022-01-23T13:53:39.262Z"
      },
      {
        "duration": 11,
        "start_time": "2022-01-23T13:54:54.042Z"
      },
      {
        "duration": 11,
        "start_time": "2022-01-23T13:57:51.634Z"
      },
      {
        "duration": 14,
        "start_time": "2022-01-23T14:00:17.410Z"
      },
      {
        "duration": 15,
        "start_time": "2022-01-23T14:00:46.672Z"
      },
      {
        "duration": 15,
        "start_time": "2022-01-23T14:01:44.796Z"
      },
      {
        "duration": 17,
        "start_time": "2022-01-23T14:02:36.150Z"
      },
      {
        "duration": 22,
        "start_time": "2022-01-23T14:04:37.173Z"
      },
      {
        "duration": 26,
        "start_time": "2022-01-23T14:10:00.321Z"
      },
      {
        "duration": 37,
        "start_time": "2022-01-23T14:13:14.404Z"
      },
      {
        "duration": 29,
        "start_time": "2022-01-23T14:17:29.448Z"
      },
      {
        "duration": 49,
        "start_time": "2022-01-23T14:26:24.120Z"
      },
      {
        "duration": 287,
        "start_time": "2022-01-25T10:01:11.294Z"
      },
      {
        "duration": 667,
        "start_time": "2022-01-25T10:01:20.922Z"
      },
      {
        "duration": 20,
        "start_time": "2022-01-25T10:01:21.590Z"
      },
      {
        "duration": 24,
        "start_time": "2022-01-25T10:01:21.612Z"
      },
      {
        "duration": 22,
        "start_time": "2022-01-25T10:01:33.239Z"
      },
      {
        "duration": 71,
        "start_time": "2022-01-25T10:02:53.680Z"
      },
      {
        "duration": 26,
        "start_time": "2022-01-25T10:03:09.477Z"
      },
      {
        "duration": 35,
        "start_time": "2022-01-25T10:03:14.930Z"
      },
      {
        "duration": 32,
        "start_time": "2022-01-25T10:03:20.817Z"
      },
      {
        "duration": 33,
        "start_time": "2022-01-25T10:04:13.411Z"
      },
      {
        "duration": 33,
        "start_time": "2022-01-25T10:04:44.604Z"
      },
      {
        "duration": 34,
        "start_time": "2022-01-25T10:06:15.708Z"
      },
      {
        "duration": 34,
        "start_time": "2022-01-25T10:06:54.733Z"
      },
      {
        "duration": 35,
        "start_time": "2022-01-25T10:07:09.992Z"
      },
      {
        "duration": 34,
        "start_time": "2022-01-25T10:07:13.573Z"
      },
      {
        "duration": 35,
        "start_time": "2022-01-25T10:09:33.853Z"
      },
      {
        "duration": 38,
        "start_time": "2022-01-25T10:10:10.704Z"
      },
      {
        "duration": 39,
        "start_time": "2022-01-25T10:11:14.482Z"
      },
      {
        "duration": 39,
        "start_time": "2022-01-25T10:13:15.443Z"
      },
      {
        "duration": 307,
        "start_time": "2022-01-25T10:13:49.634Z"
      },
      {
        "duration": 46,
        "start_time": "2022-01-25T10:13:52.990Z"
      },
      {
        "duration": 40,
        "start_time": "2022-01-25T10:14:47.105Z"
      },
      {
        "duration": 44,
        "start_time": "2022-01-25T10:20:12.278Z"
      },
      {
        "duration": 44,
        "start_time": "2022-01-25T10:20:38.331Z"
      },
      {
        "duration": 47,
        "start_time": "2022-01-25T10:21:17.169Z"
      },
      {
        "duration": 16,
        "start_time": "2022-01-25T10:22:00.087Z"
      },
      {
        "duration": 81,
        "start_time": "2022-01-25T10:22:26.216Z"
      },
      {
        "duration": 17,
        "start_time": "2022-01-25T10:23:12.056Z"
      },
      {
        "duration": 230,
        "start_time": "2022-01-25T10:25:34.297Z"
      },
      {
        "duration": 216,
        "start_time": "2022-01-25T10:25:39.259Z"
      },
      {
        "duration": 16,
        "start_time": "2022-01-25T10:25:49.392Z"
      },
      {
        "duration": 236,
        "start_time": "2022-01-25T10:25:55.330Z"
      },
      {
        "duration": 17,
        "start_time": "2022-01-25T10:26:14.095Z"
      },
      {
        "duration": 18,
        "start_time": "2022-01-25T10:26:26.136Z"
      },
      {
        "duration": 18,
        "start_time": "2022-01-25T10:26:43.031Z"
      },
      {
        "duration": 16,
        "start_time": "2022-01-25T10:26:59.147Z"
      },
      {
        "duration": 18,
        "start_time": "2022-01-25T10:27:18.398Z"
      },
      {
        "duration": 18,
        "start_time": "2022-01-25T10:27:21.544Z"
      },
      {
        "duration": 873,
        "start_time": "2022-01-25T10:27:25.921Z"
      },
      {
        "duration": 19,
        "start_time": "2022-01-25T10:27:29.693Z"
      },
      {
        "duration": 840,
        "start_time": "2022-01-25T10:28:16.314Z"
      },
      {
        "duration": 7,
        "start_time": "2022-01-25T10:28:38.027Z"
      },
      {
        "duration": 6,
        "start_time": "2022-01-25T10:31:07.942Z"
      },
      {
        "duration": 227,
        "start_time": "2022-01-25T10:31:20.068Z"
      },
      {
        "duration": 22,
        "start_time": "2022-01-25T10:32:25.275Z"
      },
      {
        "duration": 32,
        "start_time": "2022-01-25T10:32:48.560Z"
      },
      {
        "duration": 26,
        "start_time": "2022-01-25T10:33:32.113Z"
      },
      {
        "duration": 16,
        "start_time": "2022-01-25T10:33:45.013Z"
      },
      {
        "duration": 24,
        "start_time": "2022-01-25T10:33:48.520Z"
      },
      {
        "duration": 55,
        "start_time": "2022-01-25T10:34:37.662Z"
      },
      {
        "duration": 37,
        "start_time": "2022-01-25T10:35:13.146Z"
      },
      {
        "duration": 1151,
        "start_time": "2022-01-25T10:35:33.381Z"
      },
      {
        "duration": 18,
        "start_time": "2022-01-25T10:35:34.534Z"
      },
      {
        "duration": 74,
        "start_time": "2022-01-25T10:35:34.557Z"
      },
      {
        "duration": 54,
        "start_time": "2022-01-25T10:35:34.633Z"
      },
      {
        "duration": 43,
        "start_time": "2022-01-25T10:36:14.273Z"
      },
      {
        "duration": 50,
        "start_time": "2022-01-25T10:36:25.543Z"
      },
      {
        "duration": 26,
        "start_time": "2022-01-25T10:36:33.172Z"
      },
      {
        "duration": 668,
        "start_time": "2022-01-25T10:36:42.796Z"
      },
      {
        "duration": 17,
        "start_time": "2022-01-25T10:36:43.465Z"
      },
      {
        "duration": 48,
        "start_time": "2022-01-25T10:36:43.499Z"
      },
      {
        "duration": 25,
        "start_time": "2022-01-25T10:36:43.549Z"
      },
      {
        "duration": 15,
        "start_time": "2022-01-25T10:37:17.413Z"
      },
      {
        "duration": 42,
        "start_time": "2022-01-25T10:37:26.305Z"
      },
      {
        "duration": 26,
        "start_time": "2022-01-25T10:38:22.387Z"
      },
      {
        "duration": 42,
        "start_time": "2022-01-25T10:38:25.465Z"
      },
      {
        "duration": 15,
        "start_time": "2022-01-25T10:42:08.308Z"
      },
      {
        "duration": 16,
        "start_time": "2022-01-25T10:42:10.269Z"
      },
      {
        "duration": 685,
        "start_time": "2022-01-25T10:42:42.186Z"
      },
      {
        "duration": 17,
        "start_time": "2022-01-25T10:42:42.872Z"
      },
      {
        "duration": 59,
        "start_time": "2022-01-25T10:42:42.899Z"
      },
      {
        "duration": 17,
        "start_time": "2022-01-25T10:42:42.960Z"
      },
      {
        "duration": 39,
        "start_time": "2022-01-25T10:43:23.718Z"
      },
      {
        "duration": 659,
        "start_time": "2022-01-25T10:44:29.520Z"
      },
      {
        "duration": 30,
        "start_time": "2022-01-25T10:44:30.182Z"
      },
      {
        "duration": 5,
        "start_time": "2022-01-25T10:44:30.215Z"
      },
      {
        "duration": 64,
        "start_time": "2022-01-25T10:44:30.222Z"
      },
      {
        "duration": 16,
        "start_time": "2022-01-25T10:44:42.523Z"
      },
      {
        "duration": 43,
        "start_time": "2022-01-25T10:44:45.127Z"
      },
      {
        "duration": 15,
        "start_time": "2022-01-25T10:45:04.737Z"
      },
      {
        "duration": 637,
        "start_time": "2022-01-25T10:45:22.127Z"
      },
      {
        "duration": 34,
        "start_time": "2022-01-25T10:45:22.766Z"
      },
      {
        "duration": 15,
        "start_time": "2022-01-25T10:45:22.804Z"
      },
      {
        "duration": 15,
        "start_time": "2022-01-25T10:45:22.821Z"
      },
      {
        "duration": 662,
        "start_time": "2022-01-25T10:45:50.305Z"
      },
      {
        "duration": 30,
        "start_time": "2022-01-25T10:45:50.969Z"
      },
      {
        "duration": 23,
        "start_time": "2022-01-25T10:45:51.001Z"
      },
      {
        "duration": 25,
        "start_time": "2022-01-25T10:45:51.026Z"
      },
      {
        "duration": 743,
        "start_time": "2022-01-25T10:46:04.976Z"
      },
      {
        "duration": 19,
        "start_time": "2022-01-25T10:46:05.722Z"
      },
      {
        "duration": 66,
        "start_time": "2022-01-25T10:46:05.743Z"
      },
      {
        "duration": 16,
        "start_time": "2022-01-25T10:46:05.811Z"
      },
      {
        "duration": 642,
        "start_time": "2022-01-25T10:46:29.309Z"
      },
      {
        "duration": 18,
        "start_time": "2022-01-25T10:46:29.952Z"
      },
      {
        "duration": 58,
        "start_time": "2022-01-25T10:46:29.974Z"
      },
      {
        "duration": 16,
        "start_time": "2022-01-25T10:46:30.034Z"
      },
      {
        "duration": 27,
        "start_time": "2022-01-25T10:47:31.718Z"
      },
      {
        "duration": 40,
        "start_time": "2022-01-25T10:47:40.705Z"
      },
      {
        "duration": 24,
        "start_time": "2022-01-25T10:47:54.765Z"
      },
      {
        "duration": 39,
        "start_time": "2022-01-25T10:48:00.227Z"
      },
      {
        "duration": 663,
        "start_time": "2022-01-25T10:48:07.003Z"
      },
      {
        "duration": 17,
        "start_time": "2022-01-25T10:48:07.668Z"
      },
      {
        "duration": 44,
        "start_time": "2022-01-25T10:48:07.687Z"
      },
      {
        "duration": 50,
        "start_time": "2022-01-25T10:48:07.733Z"
      },
      {
        "duration": 15,
        "start_time": "2022-01-25T10:48:16.660Z"
      },
      {
        "duration": 14,
        "start_time": "2022-01-25T10:50:56.926Z"
      },
      {
        "duration": 663,
        "start_time": "2022-01-25T10:51:13.995Z"
      },
      {
        "duration": 17,
        "start_time": "2022-01-25T10:51:14.660Z"
      },
      {
        "duration": 36,
        "start_time": "2022-01-25T10:51:14.699Z"
      },
      {
        "duration": 15,
        "start_time": "2022-01-25T10:51:14.736Z"
      },
      {
        "duration": 662,
        "start_time": "2022-01-25T10:51:46.269Z"
      },
      {
        "duration": 16,
        "start_time": "2022-01-25T10:51:46.933Z"
      },
      {
        "duration": 75,
        "start_time": "2022-01-25T10:51:46.953Z"
      },
      {
        "duration": 17,
        "start_time": "2022-01-25T10:51:47.029Z"
      },
      {
        "duration": 55,
        "start_time": "2022-01-25T10:52:03.014Z"
      },
      {
        "duration": 48,
        "start_time": "2022-01-25T10:52:15.317Z"
      },
      {
        "duration": 49,
        "start_time": "2022-01-25T10:52:23.772Z"
      },
      {
        "duration": 635,
        "start_time": "2022-01-25T10:52:41.308Z"
      },
      {
        "duration": 17,
        "start_time": "2022-01-25T10:52:41.945Z"
      },
      {
        "duration": 69,
        "start_time": "2022-01-25T10:52:41.963Z"
      },
      {
        "duration": 17,
        "start_time": "2022-01-25T10:52:42.034Z"
      },
      {
        "duration": 310,
        "start_time": "2022-01-25T11:55:23.817Z"
      },
      {
        "duration": 42,
        "start_time": "2022-01-25T11:55:34.902Z"
      },
      {
        "duration": 631,
        "start_time": "2022-01-25T11:59:35.831Z"
      },
      {
        "duration": 36,
        "start_time": "2022-01-25T11:59:36.464Z"
      },
      {
        "duration": 60,
        "start_time": "2022-01-25T11:59:36.505Z"
      },
      {
        "duration": 67,
        "start_time": "2022-01-25T11:59:36.567Z"
      },
      {
        "duration": 68,
        "start_time": "2022-01-25T12:00:59.781Z"
      },
      {
        "duration": 640,
        "start_time": "2022-01-25T12:01:18.624Z"
      },
      {
        "duration": 33,
        "start_time": "2022-01-25T12:01:19.266Z"
      },
      {
        "duration": 59,
        "start_time": "2022-01-25T12:01:19.303Z"
      },
      {
        "duration": 62,
        "start_time": "2022-01-25T12:01:19.363Z"
      },
      {
        "duration": 73,
        "start_time": "2022-01-25T12:01:19.427Z"
      },
      {
        "duration": 656,
        "start_time": "2022-01-25T12:03:34.341Z"
      },
      {
        "duration": 6,
        "start_time": "2022-01-25T12:03:39.014Z"
      },
      {
        "duration": 310,
        "start_time": "2022-01-25T12:03:43.643Z"
      },
      {
        "duration": 6,
        "start_time": "2022-01-25T12:08:07.208Z"
      },
      {
        "duration": 215,
        "start_time": "2022-01-25T12:08:35.046Z"
      },
      {
        "duration": 5,
        "start_time": "2022-01-25T12:08:52.728Z"
      },
      {
        "duration": 243,
        "start_time": "2022-01-25T12:08:59.564Z"
      },
      {
        "duration": 428,
        "start_time": "2022-01-25T12:09:05.758Z"
      },
      {
        "duration": 6,
        "start_time": "2022-01-25T12:09:10.533Z"
      },
      {
        "duration": 245,
        "start_time": "2022-01-25T12:09:32.013Z"
      },
      {
        "duration": 8,
        "start_time": "2022-01-25T12:09:35.903Z"
      },
      {
        "duration": 227,
        "start_time": "2022-01-25T12:45:01.823Z"
      },
      {
        "duration": 2541,
        "start_time": "2022-01-25T12:47:36.830Z"
      },
      {
        "duration": 2637,
        "start_time": "2022-01-25T12:47:49.324Z"
      },
      {
        "duration": 2594,
        "start_time": "2022-01-25T12:49:53.280Z"
      },
      {
        "duration": 8,
        "start_time": "2022-01-25T12:51:18.975Z"
      },
      {
        "duration": 2679,
        "start_time": "2022-01-25T12:51:39.460Z"
      },
      {
        "duration": 2744,
        "start_time": "2022-01-25T12:51:43.810Z"
      },
      {
        "duration": 2582,
        "start_time": "2022-01-25T12:52:10.955Z"
      },
      {
        "duration": 247,
        "start_time": "2022-01-25T12:54:57.808Z"
      },
      {
        "duration": 670,
        "start_time": "2022-01-25T14:16:11.803Z"
      },
      {
        "duration": 28,
        "start_time": "2022-01-25T14:16:12.475Z"
      },
      {
        "duration": 60,
        "start_time": "2022-01-25T14:16:12.507Z"
      },
      {
        "duration": 65,
        "start_time": "2022-01-25T14:16:12.569Z"
      },
      {
        "duration": 3412,
        "start_time": "2022-01-25T14:16:12.636Z"
      },
      {
        "duration": 291,
        "start_time": "2022-01-25T15:42:18.158Z"
      },
      {
        "duration": 20,
        "start_time": "2022-01-25T15:42:42.931Z"
      },
      {
        "duration": 238,
        "start_time": "2022-01-25T15:42:48.379Z"
      },
      {
        "duration": 222,
        "start_time": "2022-01-25T15:43:04.318Z"
      },
      {
        "duration": 209,
        "start_time": "2022-01-25T15:43:17.197Z"
      },
      {
        "duration": 224,
        "start_time": "2022-01-25T15:43:22.403Z"
      },
      {
        "duration": 715,
        "start_time": "2022-01-25T15:43:33.206Z"
      },
      {
        "duration": 19,
        "start_time": "2022-01-25T15:43:33.923Z"
      },
      {
        "duration": 86,
        "start_time": "2022-01-25T15:43:33.945Z"
      },
      {
        "duration": 47,
        "start_time": "2022-01-25T15:43:34.033Z"
      },
      {
        "duration": 317,
        "start_time": "2022-01-25T15:43:34.082Z"
      },
      {
        "duration": 8,
        "start_time": "2022-01-25T15:44:44.363Z"
      },
      {
        "duration": 9,
        "start_time": "2022-01-25T15:45:02.940Z"
      },
      {
        "duration": 8,
        "start_time": "2022-01-25T15:45:05.473Z"
      },
      {
        "duration": 9,
        "start_time": "2022-01-25T15:45:30.405Z"
      },
      {
        "duration": 222,
        "start_time": "2022-01-25T15:46:29.195Z"
      },
      {
        "duration": 262,
        "start_time": "2022-01-25T15:46:39.847Z"
      },
      {
        "duration": 311,
        "start_time": "2022-01-25T15:48:21.839Z"
      },
      {
        "duration": 215,
        "start_time": "2022-01-25T15:48:26.596Z"
      },
      {
        "duration": 219,
        "start_time": "2022-01-25T15:48:40.860Z"
      },
      {
        "duration": 253,
        "start_time": "2022-01-25T15:48:58.141Z"
      },
      {
        "duration": 217,
        "start_time": "2022-01-25T15:49:17.891Z"
      },
      {
        "duration": 9,
        "start_time": "2022-01-25T15:49:30.657Z"
      },
      {
        "duration": 221,
        "start_time": "2022-01-25T15:49:36.449Z"
      },
      {
        "duration": 19,
        "start_time": "2022-01-25T15:49:41.877Z"
      },
      {
        "duration": 243,
        "start_time": "2022-01-25T15:49:58.002Z"
      },
      {
        "duration": 8,
        "start_time": "2022-01-25T15:50:06.609Z"
      },
      {
        "duration": 233,
        "start_time": "2022-01-25T15:50:11.049Z"
      },
      {
        "duration": 8,
        "start_time": "2022-01-25T15:50:14.773Z"
      },
      {
        "duration": 9,
        "start_time": "2022-01-25T15:50:20.783Z"
      },
      {
        "duration": 226,
        "start_time": "2022-01-25T15:50:29.465Z"
      },
      {
        "duration": 9,
        "start_time": "2022-01-25T15:50:35.699Z"
      },
      {
        "duration": 9,
        "start_time": "2022-01-25T15:50:39.877Z"
      },
      {
        "duration": 694,
        "start_time": "2022-01-25T15:51:43.311Z"
      },
      {
        "duration": 226,
        "start_time": "2022-01-25T15:51:55.563Z"
      },
      {
        "duration": 15,
        "start_time": "2022-01-25T15:52:01.804Z"
      },
      {
        "duration": 233,
        "start_time": "2022-01-25T15:52:22.363Z"
      },
      {
        "duration": 250,
        "start_time": "2022-01-25T15:52:25.749Z"
      },
      {
        "duration": 14,
        "start_time": "2022-01-25T15:52:28.523Z"
      },
      {
        "duration": 14,
        "start_time": "2022-01-25T15:52:40.369Z"
      },
      {
        "duration": 2641,
        "start_time": "2022-01-25T15:55:36.830Z"
      },
      {
        "duration": 9,
        "start_time": "2022-01-25T15:56:36.868Z"
      },
      {
        "duration": 2766,
        "start_time": "2022-01-25T15:57:23.662Z"
      },
      {
        "duration": 14,
        "start_time": "2022-01-25T15:59:18.299Z"
      },
      {
        "duration": 2691,
        "start_time": "2022-01-25T15:59:28.669Z"
      },
      {
        "duration": 93,
        "start_time": "2022-01-25T16:07:00.673Z"
      },
      {
        "duration": 629,
        "start_time": "2022-01-25T16:07:13.031Z"
      },
      {
        "duration": 17,
        "start_time": "2022-01-25T16:07:13.662Z"
      },
      {
        "duration": 68,
        "start_time": "2022-01-25T16:07:13.681Z"
      },
      {
        "duration": 55,
        "start_time": "2022-01-25T16:07:13.750Z"
      },
      {
        "duration": 3476,
        "start_time": "2022-01-25T16:07:13.806Z"
      },
      {
        "duration": 15,
        "start_time": "2022-01-25T16:16:58.543Z"
      },
      {
        "duration": 286,
        "start_time": "2022-01-25T16:17:09.241Z"
      },
      {
        "duration": 277,
        "start_time": "2022-01-25T16:17:18.055Z"
      },
      {
        "duration": 13,
        "start_time": "2022-01-25T16:17:27.319Z"
      },
      {
        "duration": 973,
        "start_time": "2022-01-25T16:18:05.287Z"
      },
      {
        "duration": 227,
        "start_time": "2022-01-25T16:18:13.865Z"
      },
      {
        "duration": 12,
        "start_time": "2022-01-25T16:18:49.597Z"
      },
      {
        "duration": 11,
        "start_time": "2022-01-25T16:19:02.855Z"
      },
      {
        "duration": 6,
        "start_time": "2022-01-25T16:19:24.542Z"
      },
      {
        "duration": 6,
        "start_time": "2022-01-25T16:19:42.175Z"
      },
      {
        "duration": 7,
        "start_time": "2022-01-25T16:19:51.242Z"
      },
      {
        "duration": 11,
        "start_time": "2022-01-25T16:20:06.302Z"
      },
      {
        "duration": 408,
        "start_time": "2022-01-25T16:26:36.641Z"
      },
      {
        "duration": 9,
        "start_time": "2022-01-25T16:28:02.420Z"
      },
      {
        "duration": 8,
        "start_time": "2022-01-25T16:28:36.804Z"
      },
      {
        "duration": 8,
        "start_time": "2022-01-25T16:28:55.929Z"
      },
      {
        "duration": 11,
        "start_time": "2022-01-25T16:29:12.479Z"
      },
      {
        "duration": 8,
        "start_time": "2022-01-25T16:29:32.140Z"
      },
      {
        "duration": 11,
        "start_time": "2022-01-25T16:30:29.794Z"
      },
      {
        "duration": 11,
        "start_time": "2022-01-25T16:30:51.779Z"
      },
      {
        "duration": 11,
        "start_time": "2022-01-25T16:31:02.565Z"
      },
      {
        "duration": 236,
        "start_time": "2022-01-25T16:36:34.560Z"
      },
      {
        "duration": 11,
        "start_time": "2022-01-25T16:37:02.257Z"
      },
      {
        "duration": 10,
        "start_time": "2022-01-25T16:37:12.787Z"
      },
      {
        "duration": 7,
        "start_time": "2022-01-25T16:37:32.323Z"
      },
      {
        "duration": 13,
        "start_time": "2022-01-25T16:37:37.066Z"
      },
      {
        "duration": 18,
        "start_time": "2022-01-25T16:38:30.427Z"
      },
      {
        "duration": 15,
        "start_time": "2022-01-25T16:40:44.201Z"
      },
      {
        "duration": 16,
        "start_time": "2022-01-25T16:40:56.899Z"
      },
      {
        "duration": 225,
        "start_time": "2022-01-25T16:42:49.153Z"
      },
      {
        "duration": 19,
        "start_time": "2022-01-25T16:42:53.514Z"
      },
      {
        "duration": 226,
        "start_time": "2022-01-25T16:43:10.398Z"
      },
      {
        "duration": 17,
        "start_time": "2022-01-25T16:43:15.612Z"
      },
      {
        "duration": 232,
        "start_time": "2022-01-25T16:43:23.979Z"
      },
      {
        "duration": 19,
        "start_time": "2022-01-25T16:43:26.606Z"
      },
      {
        "duration": 21,
        "start_time": "2022-01-25T16:44:37.372Z"
      },
      {
        "duration": 72,
        "start_time": "2022-01-25T16:46:03.390Z"
      },
      {
        "duration": 24,
        "start_time": "2022-01-25T16:46:07.516Z"
      },
      {
        "duration": 21,
        "start_time": "2022-01-25T16:46:14.016Z"
      },
      {
        "duration": 23,
        "start_time": "2022-01-25T16:46:19.274Z"
      },
      {
        "duration": 17,
        "start_time": "2022-01-25T16:47:04.086Z"
      },
      {
        "duration": 15,
        "start_time": "2022-01-25T16:47:11.845Z"
      },
      {
        "duration": 19,
        "start_time": "2022-01-25T16:47:15.755Z"
      },
      {
        "duration": 15,
        "start_time": "2022-01-25T16:48:56.450Z"
      },
      {
        "duration": 13,
        "start_time": "2022-01-25T16:48:58.941Z"
      },
      {
        "duration": 15,
        "start_time": "2022-01-25T16:49:01.390Z"
      },
      {
        "duration": 20,
        "start_time": "2022-01-25T16:49:11.120Z"
      },
      {
        "duration": 14,
        "start_time": "2022-01-25T16:49:20.601Z"
      },
      {
        "duration": 14,
        "start_time": "2022-01-25T16:49:25.010Z"
      },
      {
        "duration": 227,
        "start_time": "2022-01-25T16:50:31.821Z"
      },
      {
        "duration": 230,
        "start_time": "2022-01-25T16:50:44.214Z"
      },
      {
        "duration": -234,
        "start_time": "2022-01-25T16:51:28.746Z"
      },
      {
        "duration": -107,
        "start_time": "2022-01-25T16:51:37.702Z"
      },
      {
        "duration": 22,
        "start_time": "2022-01-25T16:51:39.467Z"
      },
      {
        "duration": 234,
        "start_time": "2022-01-25T16:51:57.219Z"
      },
      {
        "duration": 20,
        "start_time": "2022-01-25T16:52:30.248Z"
      },
      {
        "duration": 53,
        "start_time": "2022-01-25T16:53:14.050Z"
      },
      {
        "duration": 224,
        "start_time": "2022-01-25T16:53:24.214Z"
      },
      {
        "duration": 280,
        "start_time": "2022-01-25T16:53:36.097Z"
      },
      {
        "duration": 56,
        "start_time": "2022-01-25T16:53:58.040Z"
      },
      {
        "duration": 241,
        "start_time": "2022-01-25T16:55:16.000Z"
      },
      {
        "duration": 235,
        "start_time": "2022-01-25T16:55:39.884Z"
      },
      {
        "duration": 655,
        "start_time": "2022-01-25T16:55:47.918Z"
      },
      {
        "duration": 17,
        "start_time": "2022-01-25T16:55:48.574Z"
      },
      {
        "duration": 57,
        "start_time": "2022-01-25T16:55:48.593Z"
      },
      {
        "duration": 54,
        "start_time": "2022-01-25T16:55:48.652Z"
      },
      {
        "duration": 3260,
        "start_time": "2022-01-25T16:55:48.707Z"
      },
      {
        "duration": -83,
        "start_time": "2022-01-25T16:55:52.361Z"
      },
      {
        "duration": 239,
        "start_time": "2022-01-25T16:56:02.039Z"
      },
      {
        "duration": 99,
        "start_time": "2022-01-25T16:56:07.192Z"
      },
      {
        "duration": 24,
        "start_time": "2022-01-25T16:56:13.336Z"
      },
      {
        "duration": 635,
        "start_time": "2022-01-25T16:59:09.637Z"
      },
      {
        "duration": 18,
        "start_time": "2022-01-25T16:59:10.273Z"
      },
      {
        "duration": 57,
        "start_time": "2022-01-25T16:59:10.293Z"
      },
      {
        "duration": 54,
        "start_time": "2022-01-25T16:59:10.352Z"
      },
      {
        "duration": 3466,
        "start_time": "2022-01-25T16:59:10.407Z"
      },
      {
        "duration": 42,
        "start_time": "2022-01-25T16:59:13.876Z"
      },
      {
        "duration": 22,
        "start_time": "2022-01-25T16:59:57.649Z"
      },
      {
        "duration": 684,
        "start_time": "2022-01-25T17:00:06.163Z"
      },
      {
        "duration": 19,
        "start_time": "2022-01-25T17:00:06.848Z"
      },
      {
        "duration": 77,
        "start_time": "2022-01-25T17:00:06.869Z"
      },
      {
        "duration": 55,
        "start_time": "2022-01-25T17:00:06.948Z"
      },
      {
        "duration": 3418,
        "start_time": "2022-01-25T17:00:07.005Z"
      },
      {
        "duration": 27,
        "start_time": "2022-01-25T17:00:10.425Z"
      },
      {
        "duration": 324,
        "start_time": "2022-01-26T13:07:25.756Z"
      },
      {
        "duration": 646,
        "start_time": "2022-01-26T13:07:33.525Z"
      },
      {
        "duration": 18,
        "start_time": "2022-01-26T13:07:34.173Z"
      },
      {
        "duration": 71,
        "start_time": "2022-01-26T13:07:34.193Z"
      },
      {
        "duration": 66,
        "start_time": "2022-01-26T13:07:34.266Z"
      },
      {
        "duration": 3522,
        "start_time": "2022-01-26T13:07:34.333Z"
      },
      {
        "duration": 22,
        "start_time": "2022-01-26T13:07:37.857Z"
      },
      {
        "duration": 25,
        "start_time": "2022-01-26T13:08:03.687Z"
      },
      {
        "duration": 21,
        "start_time": "2022-01-26T13:09:05.903Z"
      },
      {
        "duration": 12,
        "start_time": "2022-01-26T13:09:14.484Z"
      },
      {
        "duration": 7,
        "start_time": "2022-01-26T13:11:54.082Z"
      },
      {
        "duration": 11,
        "start_time": "2022-01-26T13:12:35.228Z"
      },
      {
        "duration": 6,
        "start_time": "2022-01-26T13:12:57.608Z"
      },
      {
        "duration": 19,
        "start_time": "2022-01-26T13:21:09.518Z"
      },
      {
        "duration": 28,
        "start_time": "2022-01-26T13:21:20.589Z"
      },
      {
        "duration": 2412,
        "start_time": "2022-01-26T13:21:40.691Z"
      },
      {
        "duration": 4,
        "start_time": "2022-01-26T13:38:43.082Z"
      },
      {
        "duration": 6,
        "start_time": "2022-01-26T13:38:46.114Z"
      },
      {
        "duration": 7,
        "start_time": "2022-01-26T13:39:10.134Z"
      },
      {
        "duration": 6,
        "start_time": "2022-01-26T13:39:31.167Z"
      },
      {
        "duration": 4,
        "start_time": "2022-01-26T13:39:41.609Z"
      },
      {
        "duration": 7,
        "start_time": "2022-01-26T13:39:44.427Z"
      },
      {
        "duration": 8,
        "start_time": "2022-01-26T13:57:48.339Z"
      },
      {
        "duration": 7,
        "start_time": "2022-01-26T13:57:51.800Z"
      },
      {
        "duration": 10,
        "start_time": "2022-01-26T13:57:54.397Z"
      },
      {
        "duration": 21,
        "start_time": "2022-01-26T13:58:50.729Z"
      },
      {
        "duration": 8,
        "start_time": "2022-01-26T13:58:53.786Z"
      },
      {
        "duration": 8,
        "start_time": "2022-01-26T13:58:56.612Z"
      },
      {
        "duration": 7,
        "start_time": "2022-01-26T13:59:28.741Z"
      },
      {
        "duration": 7,
        "start_time": "2022-01-26T13:59:40.904Z"
      },
      {
        "duration": 7,
        "start_time": "2022-01-26T13:59:43.685Z"
      },
      {
        "duration": 15,
        "start_time": "2022-01-26T14:02:18.410Z"
      },
      {
        "duration": 17,
        "start_time": "2022-01-26T14:02:22.200Z"
      },
      {
        "duration": 14,
        "start_time": "2022-01-26T14:04:08.698Z"
      },
      {
        "duration": 19,
        "start_time": "2022-01-26T14:04:13.127Z"
      },
      {
        "duration": 19,
        "start_time": "2022-01-26T14:06:16.269Z"
      },
      {
        "duration": 18,
        "start_time": "2022-01-26T14:06:20.783Z"
      },
      {
        "duration": 20,
        "start_time": "2022-01-26T14:06:24.941Z"
      },
      {
        "duration": 18,
        "start_time": "2022-01-26T14:06:30.959Z"
      },
      {
        "duration": 20,
        "start_time": "2022-01-26T14:06:38.581Z"
      },
      {
        "duration": 19,
        "start_time": "2022-01-26T14:06:41.701Z"
      },
      {
        "duration": 21,
        "start_time": "2022-01-26T14:06:47.543Z"
      },
      {
        "duration": 19,
        "start_time": "2022-01-26T14:07:58.156Z"
      },
      {
        "duration": 14,
        "start_time": "2022-01-26T14:08:14.287Z"
      },
      {
        "duration": 20,
        "start_time": "2022-01-26T14:08:19.904Z"
      },
      {
        "duration": 18,
        "start_time": "2022-01-26T14:09:20.962Z"
      },
      {
        "duration": 22,
        "start_time": "2022-01-26T14:10:04.861Z"
      },
      {
        "duration": 20,
        "start_time": "2022-01-26T14:10:16.330Z"
      },
      {
        "duration": 20,
        "start_time": "2022-01-26T14:10:23.647Z"
      },
      {
        "duration": 20,
        "start_time": "2022-01-26T14:10:26.692Z"
      },
      {
        "duration": 22,
        "start_time": "2022-01-26T14:11:56.606Z"
      },
      {
        "duration": 1347,
        "start_time": "2022-01-26T14:23:56.339Z"
      },
      {
        "duration": 19,
        "start_time": "2022-01-26T14:23:57.689Z"
      },
      {
        "duration": 74,
        "start_time": "2022-01-26T14:23:57.710Z"
      },
      {
        "duration": 64,
        "start_time": "2022-01-26T14:23:57.786Z"
      },
      {
        "duration": 4014,
        "start_time": "2022-01-26T14:23:57.852Z"
      },
      {
        "duration": 23,
        "start_time": "2022-01-26T14:24:01.868Z"
      },
      {
        "duration": 36,
        "start_time": "2022-01-26T14:24:01.893Z"
      },
      {
        "duration": 21,
        "start_time": "2022-01-26T14:24:01.931Z"
      },
      {
        "duration": 156,
        "start_time": "2022-01-26T14:25:10.615Z"
      },
      {
        "duration": 20,
        "start_time": "2022-01-26T14:25:35.700Z"
      },
      {
        "duration": 154,
        "start_time": "2022-01-26T14:25:52.458Z"
      },
      {
        "duration": 151,
        "start_time": "2022-01-26T14:27:18.714Z"
      },
      {
        "duration": 564,
        "start_time": "2022-01-26T14:32:15.189Z"
      },
      {
        "duration": 416,
        "start_time": "2022-01-26T14:32:28.600Z"
      },
      {
        "duration": 93,
        "start_time": "2022-01-26T14:32:50.351Z"
      },
      {
        "duration": 328,
        "start_time": "2022-01-26T14:32:55.008Z"
      },
      {
        "duration": -118,
        "start_time": "2022-01-26T14:35:53.883Z"
      },
      {
        "duration": 1459,
        "start_time": "2022-01-26T14:36:00.146Z"
      },
      {
        "duration": 18,
        "start_time": "2022-01-26T14:36:01.606Z"
      },
      {
        "duration": 56,
        "start_time": "2022-01-26T14:36:01.628Z"
      },
      {
        "duration": 59,
        "start_time": "2022-01-26T14:36:01.686Z"
      },
      {
        "duration": 3336,
        "start_time": "2022-01-26T14:36:01.747Z"
      },
      {
        "duration": 24,
        "start_time": "2022-01-26T14:36:05.085Z"
      },
      {
        "duration": 174,
        "start_time": "2022-01-26T14:36:05.110Z"
      },
      {
        "duration": 162,
        "start_time": "2022-01-26T14:36:05.286Z"
      },
      {
        "duration": 167,
        "start_time": "2022-01-26T14:36:09.515Z"
      },
      {
        "duration": 159,
        "start_time": "2022-01-26T14:36:20.296Z"
      },
      {
        "duration": 158,
        "start_time": "2022-01-26T14:36:24.694Z"
      },
      {
        "duration": 256,
        "start_time": "2022-01-26T14:37:51.025Z"
      },
      {
        "duration": 675,
        "start_time": "2022-01-26T14:39:28.377Z"
      },
      {
        "duration": 1173,
        "start_time": "2022-01-26T14:41:58.130Z"
      },
      {
        "duration": 15,
        "start_time": "2022-01-26T14:41:59.305Z"
      },
      {
        "duration": 53,
        "start_time": "2022-01-26T14:41:59.322Z"
      },
      {
        "duration": 55,
        "start_time": "2022-01-26T14:41:59.377Z"
      },
      {
        "duration": 3483,
        "start_time": "2022-01-26T14:41:59.434Z"
      },
      {
        "duration": 29,
        "start_time": "2022-01-26T14:42:02.919Z"
      },
      {
        "duration": 178,
        "start_time": "2022-01-26T14:42:02.950Z"
      },
      {
        "duration": 312,
        "start_time": "2022-01-26T14:42:03.131Z"
      },
      {
        "duration": 299,
        "start_time": "2022-01-26T14:42:12.364Z"
      },
      {
        "duration": 165,
        "start_time": "2022-01-26T14:42:50.122Z"
      },
      {
        "duration": 292,
        "start_time": "2022-01-26T14:42:53.275Z"
      },
      {
        "duration": 366,
        "start_time": "2022-01-26T14:43:48.252Z"
      },
      {
        "duration": 266,
        "start_time": "2022-01-26T14:43:56.304Z"
      },
      {
        "duration": 303,
        "start_time": "2022-01-26T14:45:34.342Z"
      },
      {
        "duration": 372,
        "start_time": "2022-01-26T14:45:39.804Z"
      },
      {
        "duration": 310,
        "start_time": "2022-01-26T14:46:52.524Z"
      },
      {
        "duration": 278,
        "start_time": "2022-01-26T14:49:25.428Z"
      },
      {
        "duration": 283,
        "start_time": "2022-01-26T14:50:39.325Z"
      },
      {
        "duration": 230,
        "start_time": "2022-01-26T14:51:05.650Z"
      },
      {
        "duration": 284,
        "start_time": "2022-01-26T14:51:21.278Z"
      },
      {
        "duration": 304,
        "start_time": "2022-01-26T14:51:26.764Z"
      },
      {
        "duration": 311,
        "start_time": "2022-01-26T14:51:36.086Z"
      },
      {
        "duration": 249,
        "start_time": "2022-01-26T14:51:51.415Z"
      },
      {
        "duration": 1176,
        "start_time": "2022-01-26T14:52:27.801Z"
      },
      {
        "duration": 15,
        "start_time": "2022-01-26T14:52:28.979Z"
      },
      {
        "duration": 63,
        "start_time": "2022-01-26T14:52:28.995Z"
      },
      {
        "duration": 40,
        "start_time": "2022-01-26T14:52:29.060Z"
      },
      {
        "duration": 3517,
        "start_time": "2022-01-26T14:52:29.102Z"
      },
      {
        "duration": 23,
        "start_time": "2022-01-26T14:52:32.627Z"
      },
      {
        "duration": 163,
        "start_time": "2022-01-26T14:52:32.651Z"
      },
      {
        "duration": 7106,
        "start_time": "2022-01-26T14:52:32.816Z"
      },
      {
        "duration": 332,
        "start_time": "2022-01-26T14:52:53.766Z"
      },
      {
        "duration": 309,
        "start_time": "2022-01-26T14:53:01.180Z"
      },
      {
        "duration": 264,
        "start_time": "2022-01-26T14:53:11.031Z"
      },
      {
        "duration": 282,
        "start_time": "2022-01-26T14:53:16.313Z"
      },
      {
        "duration": 1577,
        "start_time": "2022-01-26T15:10:06.942Z"
      },
      {
        "duration": 1039,
        "start_time": "2022-01-26T15:10:15.658Z"
      },
      {
        "duration": 292,
        "start_time": "2022-01-26T15:10:24.689Z"
      },
      {
        "duration": 524,
        "start_time": "2022-01-26T15:10:46.157Z"
      },
      {
        "duration": 329,
        "start_time": "2022-01-26T15:10:56.462Z"
      },
      {
        "duration": 329,
        "start_time": "2022-01-26T15:13:49.771Z"
      },
      {
        "duration": 5,
        "start_time": "2022-01-26T15:15:47.470Z"
      },
      {
        "duration": 4,
        "start_time": "2022-01-26T15:16:17.900Z"
      },
      {
        "duration": 4,
        "start_time": "2022-01-26T15:16:28.553Z"
      },
      {
        "duration": 4,
        "start_time": "2022-01-26T15:16:54.906Z"
      },
      {
        "duration": 4,
        "start_time": "2022-01-26T15:17:00.397Z"
      },
      {
        "duration": 5,
        "start_time": "2022-01-26T15:22:42.006Z"
      },
      {
        "duration": 4,
        "start_time": "2022-01-26T15:22:44.857Z"
      },
      {
        "duration": 1200,
        "start_time": "2022-01-26T15:25:53.374Z"
      },
      {
        "duration": 16,
        "start_time": "2022-01-26T15:25:54.576Z"
      },
      {
        "duration": 65,
        "start_time": "2022-01-26T15:25:54.594Z"
      },
      {
        "duration": 41,
        "start_time": "2022-01-26T15:25:54.661Z"
      },
      {
        "duration": 3543,
        "start_time": "2022-01-26T15:25:54.704Z"
      },
      {
        "duration": 7697,
        "start_time": "2022-01-26T15:25:58.248Z"
      },
      {
        "duration": -123,
        "start_time": "2022-01-26T15:26:06.070Z"
      },
      {
        "duration": -124,
        "start_time": "2022-01-26T15:26:06.072Z"
      },
      {
        "duration": 314,
        "start_time": "2022-01-26T15:26:18.266Z"
      },
      {
        "duration": 2632,
        "start_time": "2022-01-26T15:26:48.379Z"
      },
      {
        "duration": 2579,
        "start_time": "2022-01-26T15:26:58.077Z"
      },
      {
        "duration": 3132,
        "start_time": "2022-01-26T15:27:33.369Z"
      },
      {
        "duration": 1125,
        "start_time": "2022-01-26T15:27:44.072Z"
      },
      {
        "duration": 16,
        "start_time": "2022-01-26T15:27:45.199Z"
      },
      {
        "duration": 56,
        "start_time": "2022-01-26T15:27:45.217Z"
      },
      {
        "duration": 40,
        "start_time": "2022-01-26T15:27:45.275Z"
      },
      {
        "duration": 3444,
        "start_time": "2022-01-26T15:27:45.316Z"
      },
      {
        "duration": 2605,
        "start_time": "2022-01-26T15:27:48.762Z"
      },
      {
        "duration": 163,
        "start_time": "2022-01-26T15:27:51.368Z"
      },
      {
        "duration": 299,
        "start_time": "2022-01-26T15:27:51.532Z"
      },
      {
        "duration": 457,
        "start_time": "2022-01-26T15:29:43.501Z"
      },
      {
        "duration": 192,
        "start_time": "2022-01-26T15:30:03.841Z"
      },
      {
        "duration": 327,
        "start_time": "2022-01-26T15:30:07.929Z"
      },
      {
        "duration": 418,
        "start_time": "2022-01-26T15:32:06.731Z"
      },
      {
        "duration": 275,
        "start_time": "2022-01-26T15:32:32.178Z"
      },
      {
        "duration": 483,
        "start_time": "2022-01-26T15:32:35.526Z"
      },
      {
        "duration": 550,
        "start_time": "2022-01-26T15:32:57.564Z"
      },
      {
        "duration": 269,
        "start_time": "2022-01-26T15:33:36.430Z"
      },
      {
        "duration": 137,
        "start_time": "2022-01-26T15:33:39.812Z"
      },
      {
        "duration": 290,
        "start_time": "2022-01-26T15:33:50.092Z"
      },
      {
        "duration": 157,
        "start_time": "2022-01-26T15:33:54.005Z"
      },
      {
        "duration": 340,
        "start_time": "2022-01-26T15:34:00.728Z"
      },
      {
        "duration": 153,
        "start_time": "2022-01-26T15:34:04.406Z"
      },
      {
        "duration": 154,
        "start_time": "2022-01-26T15:34:12.092Z"
      },
      {
        "duration": 144,
        "start_time": "2022-01-26T15:38:09.406Z"
      },
      {
        "duration": 140,
        "start_time": "2022-01-26T15:38:21.416Z"
      },
      {
        "duration": 138,
        "start_time": "2022-01-26T15:38:30.368Z"
      },
      {
        "duration": 154,
        "start_time": "2022-01-26T15:38:38.155Z"
      },
      {
        "duration": 204,
        "start_time": "2022-01-26T15:38:45.394Z"
      },
      {
        "duration": 154,
        "start_time": "2022-01-26T15:39:16.392Z"
      },
      {
        "duration": 143,
        "start_time": "2022-01-26T15:40:23.541Z"
      },
      {
        "duration": 142,
        "start_time": "2022-01-26T15:40:34.830Z"
      },
      {
        "duration": 139,
        "start_time": "2022-01-26T15:40:49.209Z"
      },
      {
        "duration": 141,
        "start_time": "2022-01-26T15:40:58.048Z"
      },
      {
        "duration": 152,
        "start_time": "2022-01-26T15:41:01.368Z"
      },
      {
        "duration": 140,
        "start_time": "2022-01-26T15:41:09.304Z"
      },
      {
        "duration": 369,
        "start_time": "2022-01-26T15:48:06.302Z"
      },
      {
        "duration": 145,
        "start_time": "2022-01-26T15:48:08.385Z"
      },
      {
        "duration": 154,
        "start_time": "2022-01-26T15:49:05.172Z"
      },
      {
        "duration": 175,
        "start_time": "2022-01-26T15:49:14.101Z"
      },
      {
        "duration": 19,
        "start_time": "2022-01-26T15:50:02.448Z"
      },
      {
        "duration": 144,
        "start_time": "2022-01-26T15:50:50.559Z"
      },
      {
        "duration": 158,
        "start_time": "2022-01-26T16:02:33.288Z"
      },
      {
        "duration": 160,
        "start_time": "2022-01-26T16:02:42.906Z"
      },
      {
        "duration": 140,
        "start_time": "2022-01-26T16:15:16.888Z"
      },
      {
        "duration": 1119,
        "start_time": "2022-01-26T16:15:22.768Z"
      },
      {
        "duration": 16,
        "start_time": "2022-01-26T16:15:23.889Z"
      },
      {
        "duration": 64,
        "start_time": "2022-01-26T16:15:23.907Z"
      },
      {
        "duration": 41,
        "start_time": "2022-01-26T16:15:23.973Z"
      },
      {
        "duration": 3646,
        "start_time": "2022-01-26T16:15:24.016Z"
      },
      {
        "duration": 2688,
        "start_time": "2022-01-26T16:15:27.664Z"
      },
      {
        "duration": 168,
        "start_time": "2022-01-26T16:15:30.353Z"
      },
      {
        "duration": 169,
        "start_time": "2022-01-26T16:15:30.523Z"
      },
      {
        "duration": 157,
        "start_time": "2022-01-26T16:15:30.694Z"
      },
      {
        "duration": 163,
        "start_time": "2022-01-26T16:15:30.853Z"
      },
      {
        "duration": 18,
        "start_time": "2022-01-26T16:16:56.886Z"
      },
      {
        "duration": 1588,
        "start_time": "2022-02-04T08:32:27.903Z"
      },
      {
        "duration": 38,
        "start_time": "2022-02-04T08:32:29.494Z"
      },
      {
        "duration": 80,
        "start_time": "2022-02-04T08:32:29.535Z"
      },
      {
        "duration": 76,
        "start_time": "2022-02-04T08:32:29.617Z"
      },
      {
        "duration": 4881,
        "start_time": "2022-02-04T08:32:29.696Z"
      },
      {
        "duration": 6245,
        "start_time": "2022-02-04T08:32:34.580Z"
      },
      {
        "duration": 295,
        "start_time": "2022-02-04T08:32:40.827Z"
      },
      {
        "duration": 302,
        "start_time": "2022-02-04T08:32:41.124Z"
      },
      {
        "duration": 268,
        "start_time": "2022-02-04T08:32:41.433Z"
      },
      {
        "duration": 286,
        "start_time": "2022-02-04T08:32:41.704Z"
      },
      {
        "duration": 53,
        "start_time": "2022-02-04T08:32:41.992Z"
      },
      {
        "duration": 296,
        "start_time": "2022-02-05T13:01:32.932Z"
      },
      {
        "duration": 1171,
        "start_time": "2022-02-05T13:01:43.327Z"
      },
      {
        "duration": 16,
        "start_time": "2022-02-05T13:01:45.654Z"
      },
      {
        "duration": 9,
        "start_time": "2022-02-05T13:01:47.616Z"
      },
      {
        "duration": 7,
        "start_time": "2022-02-05T13:02:46.407Z"
      },
      {
        "duration": 7,
        "start_time": "2022-02-05T13:02:58.989Z"
      },
      {
        "duration": 7,
        "start_time": "2022-02-05T13:03:14.704Z"
      },
      {
        "duration": 287,
        "start_time": "2022-02-05T13:04:23.976Z"
      },
      {
        "duration": 219,
        "start_time": "2022-02-05T13:04:55.213Z"
      },
      {
        "duration": 236,
        "start_time": "2022-02-05T13:05:10.619Z"
      },
      {
        "duration": 8,
        "start_time": "2022-02-05T13:05:14.593Z"
      },
      {
        "duration": 6,
        "start_time": "2022-02-05T13:06:11.970Z"
      },
      {
        "duration": 5,
        "start_time": "2022-02-05T13:06:24.068Z"
      },
      {
        "duration": 18,
        "start_time": "2022-02-05T13:15:05.175Z"
      },
      {
        "duration": 6,
        "start_time": "2022-02-05T13:15:06.885Z"
      },
      {
        "duration": 15,
        "start_time": "2022-02-05T13:15:17.814Z"
      },
      {
        "duration": 19,
        "start_time": "2022-02-05T13:15:27.857Z"
      },
      {
        "duration": 9,
        "start_time": "2022-02-05T13:15:45.956Z"
      },
      {
        "duration": 9,
        "start_time": "2022-02-05T13:17:04.176Z"
      },
      {
        "duration": 79,
        "start_time": "2022-02-05T13:17:18.825Z"
      },
      {
        "duration": 8,
        "start_time": "2022-02-05T13:17:23.724Z"
      },
      {
        "duration": 7,
        "start_time": "2022-02-05T13:17:33.828Z"
      },
      {
        "duration": 244,
        "start_time": "2022-02-05T13:17:42.701Z"
      },
      {
        "duration": 8,
        "start_time": "2022-02-05T13:17:46.566Z"
      },
      {
        "duration": 6,
        "start_time": "2022-02-05T13:17:55.020Z"
      },
      {
        "duration": 70,
        "start_time": "2022-02-05T13:18:09.644Z"
      },
      {
        "duration": 7,
        "start_time": "2022-02-05T13:18:17.228Z"
      },
      {
        "duration": 265,
        "start_time": "2022-02-05T13:18:31.191Z"
      },
      {
        "duration": 7,
        "start_time": "2022-02-05T13:18:34.591Z"
      },
      {
        "duration": 18,
        "start_time": "2022-02-05T13:18:46.298Z"
      },
      {
        "duration": 1242,
        "start_time": "2022-02-05T13:18:54.581Z"
      },
      {
        "duration": 15,
        "start_time": "2022-02-05T13:18:55.825Z"
      },
      {
        "duration": 4,
        "start_time": "2022-02-05T13:18:55.842Z"
      },
      {
        "duration": 330,
        "start_time": "2022-02-05T13:18:55.848Z"
      },
      {
        "duration": 393,
        "start_time": "2022-02-05T13:18:55.787Z"
      },
      {
        "duration": 392,
        "start_time": "2022-02-05T13:18:55.789Z"
      },
      {
        "duration": 391,
        "start_time": "2022-02-05T13:18:55.791Z"
      },
      {
        "duration": 384,
        "start_time": "2022-02-05T13:18:55.799Z"
      },
      {
        "duration": 383,
        "start_time": "2022-02-05T13:18:55.801Z"
      },
      {
        "duration": 382,
        "start_time": "2022-02-05T13:18:55.803Z"
      },
      {
        "duration": 381,
        "start_time": "2022-02-05T13:18:55.805Z"
      },
      {
        "duration": 380,
        "start_time": "2022-02-05T13:18:55.807Z"
      },
      {
        "duration": 1248,
        "start_time": "2022-02-05T13:19:43.913Z"
      },
      {
        "duration": 17,
        "start_time": "2022-02-05T13:19:45.163Z"
      },
      {
        "duration": 4,
        "start_time": "2022-02-05T13:19:45.182Z"
      },
      {
        "duration": 77,
        "start_time": "2022-02-05T13:19:45.188Z"
      },
      {
        "duration": 53,
        "start_time": "2022-02-05T13:19:45.267Z"
      },
      {
        "duration": 3524,
        "start_time": "2022-02-05T13:19:45.321Z"
      },
      {
        "duration": 2914,
        "start_time": "2022-02-05T13:19:48.847Z"
      },
      {
        "duration": 200,
        "start_time": "2022-02-05T13:19:51.764Z"
      },
      {
        "duration": 205,
        "start_time": "2022-02-05T13:19:51.966Z"
      },
      {
        "duration": 181,
        "start_time": "2022-02-05T13:19:52.173Z"
      },
      {
        "duration": 189,
        "start_time": "2022-02-05T13:19:52.356Z"
      },
      {
        "duration": 21,
        "start_time": "2022-02-05T13:19:52.547Z"
      },
      {
        "duration": 20,
        "start_time": "2022-02-05T13:20:07.288Z"
      },
      {
        "duration": 58,
        "start_time": "2022-02-05T13:20:09.294Z"
      },
      {
        "duration": 21,
        "start_time": "2022-02-05T13:20:21.402Z"
      },
      {
        "duration": 1246,
        "start_time": "2022-02-05T13:20:29.570Z"
      },
      {
        "duration": 23,
        "start_time": "2022-02-05T13:20:30.819Z"
      },
      {
        "duration": 6,
        "start_time": "2022-02-05T13:20:30.845Z"
      },
      {
        "duration": 659,
        "start_time": "2022-02-05T13:20:30.853Z"
      },
      {
        "duration": 396,
        "start_time": "2022-02-05T13:20:31.119Z"
      },
      {
        "duration": 395,
        "start_time": "2022-02-05T13:20:31.122Z"
      },
      {
        "duration": 394,
        "start_time": "2022-02-05T13:20:31.124Z"
      },
      {
        "duration": 395,
        "start_time": "2022-02-05T13:20:31.125Z"
      },
      {
        "duration": 394,
        "start_time": "2022-02-05T13:20:31.127Z"
      },
      {
        "duration": 394,
        "start_time": "2022-02-05T13:20:31.129Z"
      },
      {
        "duration": 386,
        "start_time": "2022-02-05T13:20:31.138Z"
      },
      {
        "duration": 386,
        "start_time": "2022-02-05T13:20:31.140Z"
      },
      {
        "duration": 9,
        "start_time": "2022-02-05T13:21:01.953Z"
      },
      {
        "duration": 1258,
        "start_time": "2022-02-05T13:29:59.866Z"
      },
      {
        "duration": 8,
        "start_time": "2022-02-05T13:30:24.843Z"
      },
      {
        "duration": 10,
        "start_time": "2022-02-05T13:31:23.687Z"
      },
      {
        "duration": 20,
        "start_time": "2022-02-05T13:44:37.355Z"
      },
      {
        "duration": 20,
        "start_time": "2022-02-05T13:44:57.262Z"
      },
      {
        "duration": 9,
        "start_time": "2022-02-05T13:45:03.195Z"
      },
      {
        "duration": 22,
        "start_time": "2022-02-05T13:45:26.380Z"
      },
      {
        "duration": 21,
        "start_time": "2022-02-05T13:45:28.060Z"
      },
      {
        "duration": 10,
        "start_time": "2022-02-05T13:45:29.911Z"
      },
      {
        "duration": 39,
        "start_time": "2022-02-05T13:46:22.903Z"
      },
      {
        "duration": 11,
        "start_time": "2022-02-05T13:46:24.444Z"
      },
      {
        "duration": 245,
        "start_time": "2022-02-05T13:46:42.602Z"
      },
      {
        "duration": 1175,
        "start_time": "2022-02-05T13:47:06.142Z"
      },
      {
        "duration": 17,
        "start_time": "2022-02-05T13:47:07.319Z"
      },
      {
        "duration": 7,
        "start_time": "2022-02-05T13:47:07.338Z"
      },
      {
        "duration": 34,
        "start_time": "2022-02-05T13:47:07.346Z"
      },
      {
        "duration": 39,
        "start_time": "2022-02-05T13:47:07.381Z"
      },
      {
        "duration": 58,
        "start_time": "2022-02-05T13:47:07.422Z"
      },
      {
        "duration": 67,
        "start_time": "2022-02-05T13:47:07.482Z"
      },
      {
        "duration": 3417,
        "start_time": "2022-02-05T13:47:07.552Z"
      },
      {
        "duration": 3097,
        "start_time": "2022-02-05T13:47:10.971Z"
      },
      {
        "duration": 195,
        "start_time": "2022-02-05T13:47:14.070Z"
      },
      {
        "duration": 202,
        "start_time": "2022-02-05T13:47:14.267Z"
      },
      {
        "duration": 183,
        "start_time": "2022-02-05T13:47:14.471Z"
      },
      {
        "duration": 186,
        "start_time": "2022-02-05T13:47:14.655Z"
      },
      {
        "duration": 20,
        "start_time": "2022-02-05T13:47:14.843Z"
      },
      {
        "duration": 78,
        "start_time": "2022-02-05T13:50:15.886Z"
      },
      {
        "duration": 86,
        "start_time": "2022-02-05T13:51:06.260Z"
      },
      {
        "duration": 98,
        "start_time": "2022-02-05T13:51:20.867Z"
      },
      {
        "duration": 4,
        "start_time": "2022-02-05T13:59:22.330Z"
      },
      {
        "duration": 31,
        "start_time": "2022-02-05T13:59:36.671Z"
      },
      {
        "duration": 5,
        "start_time": "2022-02-05T14:00:25.754Z"
      },
      {
        "duration": 11,
        "start_time": "2022-02-05T14:00:30.940Z"
      },
      {
        "duration": 9,
        "start_time": "2022-02-05T14:01:13.477Z"
      },
      {
        "duration": 11,
        "start_time": "2022-02-05T14:01:17.876Z"
      },
      {
        "duration": 25,
        "start_time": "2022-02-05T14:01:58.216Z"
      },
      {
        "duration": 1157,
        "start_time": "2022-02-05T14:02:20.079Z"
      },
      {
        "duration": 16,
        "start_time": "2022-02-05T14:02:21.237Z"
      },
      {
        "duration": 7,
        "start_time": "2022-02-05T14:02:21.255Z"
      },
      {
        "duration": 58,
        "start_time": "2022-02-05T14:02:21.264Z"
      },
      {
        "duration": 9,
        "start_time": "2022-02-05T14:02:21.323Z"
      },
      {
        "duration": 20,
        "start_time": "2022-02-05T14:02:21.334Z"
      },
      {
        "duration": 4,
        "start_time": "2022-02-05T14:02:21.356Z"
      },
      {
        "duration": 18,
        "start_time": "2022-02-05T14:02:21.361Z"
      },
      {
        "duration": 32,
        "start_time": "2022-02-05T14:02:21.381Z"
      },
      {
        "duration": 23,
        "start_time": "2022-02-05T14:02:21.415Z"
      },
      {
        "duration": 40,
        "start_time": "2022-02-05T14:02:21.440Z"
      },
      {
        "duration": 72,
        "start_time": "2022-02-05T14:02:21.482Z"
      },
      {
        "duration": 3316,
        "start_time": "2022-02-05T14:02:21.556Z"
      },
      {
        "duration": 2920,
        "start_time": "2022-02-05T14:02:24.873Z"
      },
      {
        "duration": 195,
        "start_time": "2022-02-05T14:02:27.794Z"
      },
      {
        "duration": 202,
        "start_time": "2022-02-05T14:02:27.991Z"
      },
      {
        "duration": 178,
        "start_time": "2022-02-05T14:02:28.195Z"
      },
      {
        "duration": 187,
        "start_time": "2022-02-05T14:02:28.375Z"
      },
      {
        "duration": 19,
        "start_time": "2022-02-05T14:02:28.564Z"
      },
      {
        "duration": 4,
        "start_time": "2022-02-05T14:05:59.301Z"
      },
      {
        "duration": 1158,
        "start_time": "2022-02-05T14:06:07.235Z"
      },
      {
        "duration": 17,
        "start_time": "2022-02-05T14:06:08.395Z"
      },
      {
        "duration": 8,
        "start_time": "2022-02-05T14:06:08.416Z"
      },
      {
        "duration": 34,
        "start_time": "2022-02-05T14:06:08.425Z"
      },
      {
        "duration": 9,
        "start_time": "2022-02-05T14:06:08.460Z"
      },
      {
        "duration": 48,
        "start_time": "2022-02-05T14:06:08.471Z"
      },
      {
        "duration": 4,
        "start_time": "2022-02-05T14:06:08.521Z"
      },
      {
        "duration": 4,
        "start_time": "2022-02-05T14:06:08.528Z"
      },
      {
        "duration": 11,
        "start_time": "2022-02-05T14:06:08.533Z"
      },
      {
        "duration": 8,
        "start_time": "2022-02-05T14:06:08.545Z"
      },
      {
        "duration": 21,
        "start_time": "2022-02-05T14:06:08.554Z"
      },
      {
        "duration": 72,
        "start_time": "2022-02-05T14:06:08.577Z"
      },
      {
        "duration": 42,
        "start_time": "2022-02-05T14:06:08.651Z"
      },
      {
        "duration": 3401,
        "start_time": "2022-02-05T14:06:08.694Z"
      },
      {
        "duration": 2946,
        "start_time": "2022-02-05T14:06:12.097Z"
      },
      {
        "duration": 192,
        "start_time": "2022-02-05T14:06:15.045Z"
      },
      {
        "duration": 198,
        "start_time": "2022-02-05T14:06:15.239Z"
      },
      {
        "duration": 179,
        "start_time": "2022-02-05T14:06:15.439Z"
      },
      {
        "duration": 184,
        "start_time": "2022-02-05T14:06:15.620Z"
      },
      {
        "duration": 24,
        "start_time": "2022-02-05T14:06:15.806Z"
      },
      {
        "duration": 1218,
        "start_time": "2022-02-05T14:07:24.579Z"
      },
      {
        "duration": 17,
        "start_time": "2022-02-05T14:07:25.799Z"
      },
      {
        "duration": 7,
        "start_time": "2022-02-05T14:07:25.818Z"
      },
      {
        "duration": 35,
        "start_time": "2022-02-05T14:07:25.827Z"
      },
      {
        "duration": 9,
        "start_time": "2022-02-05T14:07:25.864Z"
      },
      {
        "duration": 49,
        "start_time": "2022-02-05T14:07:25.875Z"
      },
      {
        "duration": 4,
        "start_time": "2022-02-05T14:07:25.926Z"
      },
      {
        "duration": 7,
        "start_time": "2022-02-05T14:07:25.932Z"
      },
      {
        "duration": 8,
        "start_time": "2022-02-05T14:07:25.941Z"
      },
      {
        "duration": 8,
        "start_time": "2022-02-05T14:07:25.951Z"
      },
      {
        "duration": 8,
        "start_time": "2022-02-05T14:07:25.961Z"
      },
      {
        "duration": 59,
        "start_time": "2022-02-05T14:07:25.970Z"
      },
      {
        "duration": 40,
        "start_time": "2022-02-05T14:07:26.031Z"
      },
      {
        "duration": 66,
        "start_time": "2022-02-05T14:07:26.073Z"
      },
      {
        "duration": 3335,
        "start_time": "2022-02-05T14:07:26.141Z"
      },
      {
        "duration": 3235,
        "start_time": "2022-02-05T14:07:29.478Z"
      },
      {
        "duration": 199,
        "start_time": "2022-02-05T14:07:32.714Z"
      },
      {
        "duration": 197,
        "start_time": "2022-02-05T14:07:32.915Z"
      },
      {
        "duration": 179,
        "start_time": "2022-02-05T14:07:33.113Z"
      },
      {
        "duration": 183,
        "start_time": "2022-02-05T14:07:33.294Z"
      },
      {
        "duration": 19,
        "start_time": "2022-02-05T14:07:33.478Z"
      },
      {
        "duration": 5,
        "start_time": "2022-02-05T14:09:11.115Z"
      },
      {
        "duration": 1153,
        "start_time": "2022-02-05T14:09:42.040Z"
      },
      {
        "duration": 19,
        "start_time": "2022-02-05T14:09:43.194Z"
      },
      {
        "duration": 7,
        "start_time": "2022-02-05T14:09:43.215Z"
      },
      {
        "duration": 33,
        "start_time": "2022-02-05T14:09:43.224Z"
      },
      {
        "duration": 10,
        "start_time": "2022-02-05T14:09:43.258Z"
      },
      {
        "duration": 49,
        "start_time": "2022-02-05T14:09:43.269Z"
      },
      {
        "duration": 4,
        "start_time": "2022-02-05T14:09:43.320Z"
      },
      {
        "duration": 4,
        "start_time": "2022-02-05T14:09:43.327Z"
      },
      {
        "duration": 6,
        "start_time": "2022-02-05T14:09:43.333Z"
      },
      {
        "duration": 5,
        "start_time": "2022-02-05T14:09:43.341Z"
      },
      {
        "duration": 6,
        "start_time": "2022-02-05T14:09:43.347Z"
      },
      {
        "duration": 7,
        "start_time": "2022-02-05T14:09:43.355Z"
      },
      {
        "duration": 65,
        "start_time": "2022-02-05T14:09:43.364Z"
      },
      {
        "duration": 38,
        "start_time": "2022-02-05T14:09:43.431Z"
      },
      {
        "duration": 57,
        "start_time": "2022-02-05T14:09:43.471Z"
      },
      {
        "duration": 3218,
        "start_time": "2022-02-05T14:09:43.530Z"
      },
      {
        "duration": 2954,
        "start_time": "2022-02-05T14:09:46.750Z"
      },
      {
        "duration": 184,
        "start_time": "2022-02-05T14:09:49.705Z"
      },
      {
        "duration": 193,
        "start_time": "2022-02-05T14:09:49.891Z"
      },
      {
        "duration": 174,
        "start_time": "2022-02-05T14:09:50.086Z"
      },
      {
        "duration": 175,
        "start_time": "2022-02-05T14:09:50.262Z"
      },
      {
        "duration": 19,
        "start_time": "2022-02-05T14:09:50.438Z"
      },
      {
        "duration": 9,
        "start_time": "2022-02-05T14:10:02.781Z"
      },
      {
        "duration": 9,
        "start_time": "2022-02-05T14:12:55.629Z"
      },
      {
        "duration": 23,
        "start_time": "2022-02-05T14:12:58.397Z"
      },
      {
        "duration": 20,
        "start_time": "2022-02-05T14:15:02.370Z"
      },
      {
        "duration": 6,
        "start_time": "2022-02-05T14:15:14.152Z"
      },
      {
        "duration": 17,
        "start_time": "2022-02-05T14:16:21.957Z"
      },
      {
        "duration": 1138,
        "start_time": "2022-02-05T14:18:10.372Z"
      },
      {
        "duration": 16,
        "start_time": "2022-02-05T14:18:11.511Z"
      },
      {
        "duration": 8,
        "start_time": "2022-02-05T14:18:11.529Z"
      },
      {
        "duration": 33,
        "start_time": "2022-02-05T14:18:11.538Z"
      },
      {
        "duration": 8,
        "start_time": "2022-02-05T14:18:11.573Z"
      },
      {
        "duration": 47,
        "start_time": "2022-02-05T14:18:11.582Z"
      },
      {
        "duration": 4,
        "start_time": "2022-02-05T14:18:11.631Z"
      },
      {
        "duration": 33,
        "start_time": "2022-02-05T14:18:11.637Z"
      },
      {
        "duration": 9,
        "start_time": "2022-02-05T14:18:11.673Z"
      },
      {
        "duration": 6,
        "start_time": "2022-02-05T14:18:11.684Z"
      },
      {
        "duration": 11,
        "start_time": "2022-02-05T14:18:11.691Z"
      },
      {
        "duration": 15,
        "start_time": "2022-02-05T14:18:11.703Z"
      },
      {
        "duration": 8,
        "start_time": "2022-02-05T14:18:11.720Z"
      },
      {
        "duration": 21,
        "start_time": "2022-02-05T14:18:11.729Z"
      },
      {
        "duration": 5,
        "start_time": "2022-02-05T14:18:11.752Z"
      },
      {
        "duration": 16,
        "start_time": "2022-02-05T14:18:11.758Z"
      },
      {
        "duration": 60,
        "start_time": "2022-02-05T14:18:11.776Z"
      },
      {
        "duration": 42,
        "start_time": "2022-02-05T14:18:11.838Z"
      },
      {
        "duration": 3337,
        "start_time": "2022-02-05T14:18:11.882Z"
      },
      {
        "duration": 2949,
        "start_time": "2022-02-05T14:18:15.220Z"
      },
      {
        "duration": 195,
        "start_time": "2022-02-05T14:18:18.170Z"
      },
      {
        "duration": 195,
        "start_time": "2022-02-05T14:18:18.366Z"
      },
      {
        "duration": 186,
        "start_time": "2022-02-05T14:18:18.563Z"
      },
      {
        "duration": 183,
        "start_time": "2022-02-05T14:18:18.751Z"
      },
      {
        "duration": 19,
        "start_time": "2022-02-05T14:18:18.936Z"
      },
      {
        "duration": 16,
        "start_time": "2022-02-05T14:18:39.285Z"
      },
      {
        "duration": 18,
        "start_time": "2022-02-05T14:19:38.551Z"
      },
      {
        "duration": 9,
        "start_time": "2022-02-05T14:20:54.985Z"
      },
      {
        "duration": 1201,
        "start_time": "2022-02-05T14:21:48.297Z"
      },
      {
        "duration": 17,
        "start_time": "2022-02-05T14:21:49.499Z"
      },
      {
        "duration": 8,
        "start_time": "2022-02-05T14:21:49.518Z"
      },
      {
        "duration": 32,
        "start_time": "2022-02-05T14:21:49.527Z"
      },
      {
        "duration": 8,
        "start_time": "2022-02-05T14:21:49.561Z"
      },
      {
        "duration": 49,
        "start_time": "2022-02-05T14:21:49.571Z"
      },
      {
        "duration": 4,
        "start_time": "2022-02-05T14:21:49.622Z"
      },
      {
        "duration": 4,
        "start_time": "2022-02-05T14:21:49.629Z"
      },
      {
        "duration": 7,
        "start_time": "2022-02-05T14:21:49.635Z"
      },
      {
        "duration": 5,
        "start_time": "2022-02-05T14:21:49.644Z"
      },
      {
        "duration": 6,
        "start_time": "2022-02-05T14:21:49.650Z"
      },
      {
        "duration": 8,
        "start_time": "2022-02-05T14:21:49.658Z"
      },
      {
        "duration": 48,
        "start_time": "2022-02-05T14:21:49.667Z"
      },
      {
        "duration": 19,
        "start_time": "2022-02-05T14:21:49.717Z"
      },
      {
        "duration": 4,
        "start_time": "2022-02-05T14:21:49.738Z"
      },
      {
        "duration": 17,
        "start_time": "2022-02-05T14:21:49.744Z"
      },
      {
        "duration": 14,
        "start_time": "2022-02-05T14:21:49.763Z"
      },
      {
        "duration": 41,
        "start_time": "2022-02-05T14:21:49.778Z"
      },
      {
        "duration": 12,
        "start_time": "2022-02-05T14:21:49.821Z"
      },
      {
        "duration": 46,
        "start_time": "2022-02-05T14:21:49.834Z"
      },
      {
        "duration": 3399,
        "start_time": "2022-02-05T14:21:49.881Z"
      },
      {
        "duration": 2938,
        "start_time": "2022-02-05T14:21:53.282Z"
      },
      {
        "duration": 211,
        "start_time": "2022-02-05T14:21:56.223Z"
      },
      {
        "duration": 206,
        "start_time": "2022-02-05T14:21:56.436Z"
      },
      {
        "duration": 188,
        "start_time": "2022-02-05T14:21:56.644Z"
      },
      {
        "duration": 193,
        "start_time": "2022-02-05T14:21:56.834Z"
      },
      {
        "duration": 20,
        "start_time": "2022-02-05T14:21:57.028Z"
      },
      {
        "duration": 9,
        "start_time": "2022-02-05T14:23:18.581Z"
      },
      {
        "duration": 21,
        "start_time": "2022-02-05T14:24:16.732Z"
      },
      {
        "duration": 1204,
        "start_time": "2022-02-05T14:24:23.010Z"
      },
      {
        "duration": 17,
        "start_time": "2022-02-05T14:24:24.216Z"
      },
      {
        "duration": 9,
        "start_time": "2022-02-05T14:24:24.235Z"
      },
      {
        "duration": 66,
        "start_time": "2022-02-05T14:24:24.246Z"
      },
      {
        "duration": 12,
        "start_time": "2022-02-05T14:24:24.314Z"
      },
      {
        "duration": 23,
        "start_time": "2022-02-05T14:24:24.328Z"
      },
      {
        "duration": 5,
        "start_time": "2022-02-05T14:24:24.353Z"
      },
      {
        "duration": 6,
        "start_time": "2022-02-05T14:24:24.361Z"
      },
      {
        "duration": 44,
        "start_time": "2022-02-05T14:24:24.369Z"
      },
      {
        "duration": 5,
        "start_time": "2022-02-05T14:24:24.414Z"
      },
      {
        "duration": 9,
        "start_time": "2022-02-05T14:24:24.421Z"
      },
      {
        "duration": 9,
        "start_time": "2022-02-05T14:24:24.431Z"
      },
      {
        "duration": 7,
        "start_time": "2022-02-05T14:24:24.442Z"
      },
      {
        "duration": 21,
        "start_time": "2022-02-05T14:24:24.450Z"
      },
      {
        "duration": 40,
        "start_time": "2022-02-05T14:24:24.472Z"
      },
      {
        "duration": 17,
        "start_time": "2022-02-05T14:24:24.514Z"
      },
      {
        "duration": 17,
        "start_time": "2022-02-05T14:24:24.533Z"
      },
      {
        "duration": 10,
        "start_time": "2022-02-05T14:24:24.551Z"
      },
      {
        "duration": 49,
        "start_time": "2022-02-05T14:24:24.563Z"
      },
      {
        "duration": 21,
        "start_time": "2022-02-05T14:24:24.614Z"
      },
      {
        "duration": 3392,
        "start_time": "2022-02-05T14:24:24.637Z"
      },
      {
        "duration": 2927,
        "start_time": "2022-02-05T14:24:28.031Z"
      },
      {
        "duration": 206,
        "start_time": "2022-02-05T14:24:30.960Z"
      },
      {
        "duration": 201,
        "start_time": "2022-02-05T14:24:31.168Z"
      },
      {
        "duration": 182,
        "start_time": "2022-02-05T14:24:31.371Z"
      },
      {
        "duration": 187,
        "start_time": "2022-02-05T14:24:31.554Z"
      },
      {
        "duration": 19,
        "start_time": "2022-02-05T14:24:31.743Z"
      },
      {
        "duration": 56,
        "start_time": "2022-02-05T14:24:40.079Z"
      },
      {
        "duration": 1162,
        "start_time": "2022-02-05T14:24:54.737Z"
      },
      {
        "duration": 17,
        "start_time": "2022-02-05T14:24:55.901Z"
      },
      {
        "duration": 9,
        "start_time": "2022-02-05T14:24:55.920Z"
      },
      {
        "duration": 36,
        "start_time": "2022-02-05T14:24:55.931Z"
      },
      {
        "duration": 11,
        "start_time": "2022-02-05T14:24:55.968Z"
      },
      {
        "duration": 50,
        "start_time": "2022-02-05T14:24:55.981Z"
      },
      {
        "duration": 4,
        "start_time": "2022-02-05T14:24:56.033Z"
      },
      {
        "duration": 5,
        "start_time": "2022-02-05T14:24:56.039Z"
      },
      {
        "duration": 6,
        "start_time": "2022-02-05T14:24:56.046Z"
      },
      {
        "duration": 5,
        "start_time": "2022-02-05T14:24:56.054Z"
      },
      {
        "duration": 8,
        "start_time": "2022-02-05T14:24:56.061Z"
      },
      {
        "duration": 49,
        "start_time": "2022-02-05T14:24:56.070Z"
      },
      {
        "duration": 8,
        "start_time": "2022-02-05T14:24:56.121Z"
      },
      {
        "duration": 19,
        "start_time": "2022-02-05T14:24:56.131Z"
      },
      {
        "duration": 5,
        "start_time": "2022-02-05T14:24:56.151Z"
      },
      {
        "duration": 57,
        "start_time": "2022-02-05T14:24:56.157Z"
      },
      {
        "duration": 13,
        "start_time": "2022-02-05T14:24:56.216Z"
      },
      {
        "duration": 7,
        "start_time": "2022-02-05T14:24:56.231Z"
      },
      {
        "duration": 12,
        "start_time": "2022-02-05T14:24:56.240Z"
      },
      {
        "duration": 67,
        "start_time": "2022-02-05T14:24:56.253Z"
      },
      {
        "duration": 3419,
        "start_time": "2022-02-05T14:24:56.322Z"
      },
      {
        "duration": 2938,
        "start_time": "2022-02-05T14:24:59.743Z"
      },
      {
        "duration": 194,
        "start_time": "2022-02-05T14:25:02.685Z"
      },
      {
        "duration": 213,
        "start_time": "2022-02-05T14:25:02.882Z"
      },
      {
        "duration": 194,
        "start_time": "2022-02-05T14:25:03.097Z"
      },
      {
        "duration": 193,
        "start_time": "2022-02-05T14:25:03.293Z"
      },
      {
        "duration": 29,
        "start_time": "2022-02-05T14:25:03.488Z"
      },
      {
        "duration": 8,
        "start_time": "2022-02-05T14:25:50.922Z"
      },
      {
        "duration": 10,
        "start_time": "2022-02-05T14:25:52.384Z"
      },
      {
        "duration": 22,
        "start_time": "2022-02-05T14:28:06.071Z"
      },
      {
        "duration": 21,
        "start_time": "2022-02-05T14:29:40.540Z"
      },
      {
        "duration": 23,
        "start_time": "2022-02-05T14:29:42.408Z"
      },
      {
        "duration": 23,
        "start_time": "2022-02-05T14:29:48.269Z"
      },
      {
        "duration": 21,
        "start_time": "2022-02-05T14:29:57.379Z"
      },
      {
        "duration": 22,
        "start_time": "2022-02-05T14:31:16.291Z"
      },
      {
        "duration": 20,
        "start_time": "2022-02-05T14:31:24.972Z"
      },
      {
        "duration": 23,
        "start_time": "2022-02-05T14:31:32.165Z"
      },
      {
        "duration": 22,
        "start_time": "2022-02-05T14:32:05.864Z"
      },
      {
        "duration": 22,
        "start_time": "2022-02-05T14:32:54.488Z"
      },
      {
        "duration": 22,
        "start_time": "2022-02-05T14:33:15.782Z"
      },
      {
        "duration": 23,
        "start_time": "2022-02-05T14:39:37.099Z"
      },
      {
        "duration": 22,
        "start_time": "2022-02-05T14:40:00.572Z"
      },
      {
        "duration": 22,
        "start_time": "2022-02-05T14:40:49.343Z"
      },
      {
        "duration": 22,
        "start_time": "2022-02-05T14:41:09.859Z"
      },
      {
        "duration": 22,
        "start_time": "2022-02-05T14:41:17.556Z"
      },
      {
        "duration": 22,
        "start_time": "2022-02-05T14:41:35.834Z"
      },
      {
        "duration": 351,
        "start_time": "2022-02-05T14:41:48.081Z"
      },
      {
        "duration": 22,
        "start_time": "2022-02-05T14:41:52.862Z"
      },
      {
        "duration": 22,
        "start_time": "2022-02-05T14:41:56.099Z"
      },
      {
        "duration": 186,
        "start_time": "2022-02-05T14:42:32.278Z"
      },
      {
        "duration": 24,
        "start_time": "2022-02-05T14:42:41.422Z"
      },
      {
        "duration": 236,
        "start_time": "2022-02-05T15:11:34.302Z"
      },
      {
        "duration": 1212,
        "start_time": "2022-02-05T15:11:56.302Z"
      },
      {
        "duration": 17,
        "start_time": "2022-02-05T15:11:57.516Z"
      },
      {
        "duration": 8,
        "start_time": "2022-02-05T15:11:57.535Z"
      },
      {
        "duration": 35,
        "start_time": "2022-02-05T15:11:57.545Z"
      },
      {
        "duration": 34,
        "start_time": "2022-02-05T15:11:57.581Z"
      },
      {
        "duration": 23,
        "start_time": "2022-02-05T15:11:57.617Z"
      },
      {
        "duration": 3,
        "start_time": "2022-02-05T15:11:57.642Z"
      },
      {
        "duration": 4,
        "start_time": "2022-02-05T15:11:57.648Z"
      },
      {
        "duration": 7,
        "start_time": "2022-02-05T15:11:57.654Z"
      },
      {
        "duration": 5,
        "start_time": "2022-02-05T15:11:57.662Z"
      },
      {
        "duration": 7,
        "start_time": "2022-02-05T15:11:57.668Z"
      },
      {
        "duration": 8,
        "start_time": "2022-02-05T15:11:57.713Z"
      },
      {
        "duration": 8,
        "start_time": "2022-02-05T15:11:57.723Z"
      },
      {
        "duration": 21,
        "start_time": "2022-02-05T15:11:57.732Z"
      },
      {
        "duration": 5,
        "start_time": "2022-02-05T15:11:57.754Z"
      },
      {
        "duration": 54,
        "start_time": "2022-02-05T15:11:57.761Z"
      },
      {
        "duration": 15,
        "start_time": "2022-02-05T15:11:57.817Z"
      },
      {
        "duration": 8,
        "start_time": "2022-02-05T15:11:57.833Z"
      },
      {
        "duration": 12,
        "start_time": "2022-02-05T15:11:57.843Z"
      },
      {
        "duration": 73,
        "start_time": "2022-02-05T15:11:57.857Z"
      },
      {
        "duration": 3439,
        "start_time": "2022-02-05T15:11:57.932Z"
      },
      {
        "duration": 312,
        "start_time": "2022-02-05T15:12:01.374Z"
      },
      {
        "duration": 387,
        "start_time": "2022-02-05T15:12:01.302Z"
      },
      {
        "duration": 385,
        "start_time": "2022-02-05T15:12:01.305Z"
      },
      {
        "duration": 380,
        "start_time": "2022-02-05T15:12:01.312Z"
      },
      {
        "duration": 379,
        "start_time": "2022-02-05T15:12:01.314Z"
      },
      {
        "duration": 378,
        "start_time": "2022-02-05T15:12:01.317Z"
      },
      {
        "duration": 377,
        "start_time": "2022-02-05T15:12:01.319Z"
      },
      {
        "duration": 377,
        "start_time": "2022-02-05T15:12:01.321Z"
      },
      {
        "duration": 376,
        "start_time": "2022-02-05T15:12:01.323Z"
      },
      {
        "duration": 7,
        "start_time": "2022-02-05T15:12:11.791Z"
      },
      {
        "duration": 1191,
        "start_time": "2022-02-05T15:12:25.248Z"
      },
      {
        "duration": 17,
        "start_time": "2022-02-05T15:12:26.440Z"
      },
      {
        "duration": 8,
        "start_time": "2022-02-05T15:12:26.459Z"
      },
      {
        "duration": 65,
        "start_time": "2022-02-05T15:12:26.468Z"
      },
      {
        "duration": 10,
        "start_time": "2022-02-05T15:12:26.534Z"
      },
      {
        "duration": 28,
        "start_time": "2022-02-05T15:12:26.545Z"
      },
      {
        "duration": 4,
        "start_time": "2022-02-05T15:12:26.574Z"
      },
      {
        "duration": 4,
        "start_time": "2022-02-05T15:12:26.581Z"
      },
      {
        "duration": 29,
        "start_time": "2022-02-05T15:12:26.587Z"
      },
      {
        "duration": 5,
        "start_time": "2022-02-05T15:12:26.618Z"
      },
      {
        "duration": 6,
        "start_time": "2022-02-05T15:12:26.625Z"
      },
      {
        "duration": 7,
        "start_time": "2022-02-05T15:12:26.633Z"
      },
      {
        "duration": 7,
        "start_time": "2022-02-05T15:12:26.642Z"
      },
      {
        "duration": 21,
        "start_time": "2022-02-05T15:12:26.651Z"
      },
      {
        "duration": 5,
        "start_time": "2022-02-05T15:12:26.713Z"
      },
      {
        "duration": 18,
        "start_time": "2022-02-05T15:12:26.720Z"
      },
      {
        "duration": 14,
        "start_time": "2022-02-05T15:12:26.740Z"
      },
      {
        "duration": 9,
        "start_time": "2022-02-05T15:12:26.756Z"
      },
      {
        "duration": 12,
        "start_time": "2022-02-05T15:12:26.766Z"
      },
      {
        "duration": 46,
        "start_time": "2022-02-05T15:12:26.813Z"
      },
      {
        "duration": 3504,
        "start_time": "2022-02-05T15:12:26.861Z"
      },
      {
        "duration": 8,
        "start_time": "2022-02-05T15:12:30.367Z"
      },
      {
        "duration": 31,
        "start_time": "2022-02-05T15:12:30.378Z"
      },
      {
        "duration": 12,
        "start_time": "2022-02-05T15:12:30.413Z"
      },
      {
        "duration": 3016,
        "start_time": "2022-02-05T15:12:30.427Z"
      },
      {
        "duration": 23,
        "start_time": "2022-02-05T15:12:33.445Z"
      },
      {
        "duration": 43,
        "start_time": "2022-02-05T15:12:33.470Z"
      },
      {
        "duration": 24,
        "start_time": "2022-02-05T15:12:33.515Z"
      },
      {
        "duration": 22,
        "start_time": "2022-02-05T15:12:33.540Z"
      },
      {
        "duration": 20,
        "start_time": "2022-02-05T15:12:33.563Z"
      },
      {
        "duration": 1235,
        "start_time": "2022-02-05T15:14:18.021Z"
      },
      {
        "duration": 18,
        "start_time": "2022-02-05T15:14:19.258Z"
      },
      {
        "duration": 33,
        "start_time": "2022-02-05T15:14:19.280Z"
      },
      {
        "duration": 36,
        "start_time": "2022-02-05T15:14:19.315Z"
      },
      {
        "duration": 10,
        "start_time": "2022-02-05T15:14:19.352Z"
      },
      {
        "duration": 48,
        "start_time": "2022-02-05T15:14:19.364Z"
      },
      {
        "duration": 5,
        "start_time": "2022-02-05T15:14:19.414Z"
      },
      {
        "duration": 4,
        "start_time": "2022-02-05T15:14:19.422Z"
      },
      {
        "duration": 8,
        "start_time": "2022-02-05T15:14:19.429Z"
      },
      {
        "duration": 5,
        "start_time": "2022-02-05T15:14:19.439Z"
      },
      {
        "duration": 7,
        "start_time": "2022-02-05T15:14:19.446Z"
      },
      {
        "duration": 9,
        "start_time": "2022-02-05T15:14:19.455Z"
      },
      {
        "duration": 10,
        "start_time": "2022-02-05T15:14:19.513Z"
      },
      {
        "duration": 22,
        "start_time": "2022-02-05T15:14:19.525Z"
      },
      {
        "duration": 6,
        "start_time": "2022-02-05T15:14:19.549Z"
      },
      {
        "duration": 18,
        "start_time": "2022-02-05T15:14:19.557Z"
      },
      {
        "duration": 16,
        "start_time": "2022-02-05T15:14:19.613Z"
      },
      {
        "duration": 8,
        "start_time": "2022-02-05T15:14:19.630Z"
      },
      {
        "duration": 14,
        "start_time": "2022-02-05T15:14:19.640Z"
      },
      {
        "duration": 67,
        "start_time": "2022-02-05T15:14:19.656Z"
      },
      {
        "duration": 3625,
        "start_time": "2022-02-05T15:14:19.725Z"
      },
      {
        "duration": 8,
        "start_time": "2022-02-05T15:14:23.352Z"
      },
      {
        "duration": 15,
        "start_time": "2022-02-05T15:14:23.361Z"
      },
      {
        "duration": 7,
        "start_time": "2022-02-05T15:14:23.378Z"
      },
      {
        "duration": 3286,
        "start_time": "2022-02-05T15:14:23.387Z"
      },
      {
        "duration": 36,
        "start_time": "2022-02-05T15:14:26.676Z"
      },
      {
        "duration": 23,
        "start_time": "2022-02-05T15:14:26.714Z"
      },
      {
        "duration": 23,
        "start_time": "2022-02-05T15:14:26.739Z"
      },
      {
        "duration": 49,
        "start_time": "2022-02-05T15:14:26.764Z"
      },
      {
        "duration": 21,
        "start_time": "2022-02-05T15:14:26.815Z"
      },
      {
        "duration": 8,
        "start_time": "2022-02-05T15:14:46.039Z"
      },
      {
        "duration": 25,
        "start_time": "2022-02-05T15:17:34.535Z"
      },
      {
        "duration": 22,
        "start_time": "2022-02-05T15:17:40.901Z"
      },
      {
        "duration": 21,
        "start_time": "2022-02-05T15:18:49.682Z"
      },
      {
        "duration": 22,
        "start_time": "2022-02-05T15:19:20.462Z"
      },
      {
        "duration": 22,
        "start_time": "2022-02-05T15:19:24.552Z"
      },
      {
        "duration": 755,
        "start_time": "2022-02-05T15:20:45.709Z"
      },
      {
        "duration": 21,
        "start_time": "2022-02-05T15:20:57.155Z"
      },
      {
        "duration": 22,
        "start_time": "2022-02-05T15:21:45.854Z"
      },
      {
        "duration": 22,
        "start_time": "2022-02-05T15:21:51.744Z"
      },
      {
        "duration": 21,
        "start_time": "2022-02-05T15:22:02.391Z"
      },
      {
        "duration": 21,
        "start_time": "2022-02-05T15:22:23.988Z"
      },
      {
        "duration": 23,
        "start_time": "2022-02-05T15:28:42.879Z"
      },
      {
        "duration": 327,
        "start_time": "2022-02-05T15:29:05.176Z"
      },
      {
        "duration": 24,
        "start_time": "2022-02-05T15:29:06.347Z"
      },
      {
        "duration": 22,
        "start_time": "2022-02-05T15:29:23.841Z"
      },
      {
        "duration": 24,
        "start_time": "2022-02-05T15:29:54.340Z"
      },
      {
        "duration": 23,
        "start_time": "2022-02-05T15:44:46.650Z"
      },
      {
        "duration": 22,
        "start_time": "2022-02-05T15:48:46.354Z"
      },
      {
        "duration": 1195,
        "start_time": "2022-02-05T16:16:09.208Z"
      },
      {
        "duration": 16,
        "start_time": "2022-02-05T16:16:10.404Z"
      },
      {
        "duration": 8,
        "start_time": "2022-02-05T16:16:10.424Z"
      },
      {
        "duration": 45,
        "start_time": "2022-02-05T16:16:10.433Z"
      },
      {
        "duration": 8,
        "start_time": "2022-02-05T16:16:10.480Z"
      },
      {
        "duration": 37,
        "start_time": "2022-02-05T16:16:10.490Z"
      },
      {
        "duration": 4,
        "start_time": "2022-02-05T16:16:10.529Z"
      },
      {
        "duration": 5,
        "start_time": "2022-02-05T16:16:10.535Z"
      },
      {
        "duration": 8,
        "start_time": "2022-02-05T16:16:10.542Z"
      },
      {
        "duration": 7,
        "start_time": "2022-02-05T16:16:10.551Z"
      },
      {
        "duration": 7,
        "start_time": "2022-02-05T16:16:10.560Z"
      },
      {
        "duration": 10,
        "start_time": "2022-02-05T16:16:10.613Z"
      },
      {
        "duration": 9,
        "start_time": "2022-02-05T16:16:10.625Z"
      },
      {
        "duration": 26,
        "start_time": "2022-02-05T16:16:10.636Z"
      },
      {
        "duration": 11,
        "start_time": "2022-02-05T16:16:10.665Z"
      },
      {
        "duration": 46,
        "start_time": "2022-02-05T16:16:10.678Z"
      },
      {
        "duration": 25,
        "start_time": "2022-02-05T16:16:10.727Z"
      },
      {
        "duration": 27,
        "start_time": "2022-02-05T16:16:10.754Z"
      },
      {
        "duration": 17,
        "start_time": "2022-02-05T16:16:10.783Z"
      },
      {
        "duration": 63,
        "start_time": "2022-02-05T16:16:10.802Z"
      },
      {
        "duration": 3735,
        "start_time": "2022-02-05T16:16:10.867Z"
      },
      {
        "duration": 8,
        "start_time": "2022-02-05T16:16:14.613Z"
      },
      {
        "duration": 12,
        "start_time": "2022-02-05T16:16:14.623Z"
      },
      {
        "duration": 7,
        "start_time": "2022-02-05T16:16:14.637Z"
      },
      {
        "duration": 3084,
        "start_time": "2022-02-05T16:16:14.645Z"
      },
      {
        "duration": 327,
        "start_time": "2022-02-05T16:16:17.731Z"
      },
      {
        "duration": 367,
        "start_time": "2022-02-05T16:16:17.694Z"
      },
      {
        "duration": 366,
        "start_time": "2022-02-05T16:16:17.696Z"
      },
      {
        "duration": 364,
        "start_time": "2022-02-05T16:16:17.698Z"
      },
      {
        "duration": 363,
        "start_time": "2022-02-05T16:16:17.700Z"
      },
      {
        "duration": 3042,
        "start_time": "2022-02-05T16:22:23.331Z"
      },
      {
        "duration": 15,
        "start_time": "2022-02-05T16:22:26.462Z"
      },
      {
        "duration": 223,
        "start_time": "2022-02-05T16:23:26.722Z"
      },
      {
        "duration": 1389,
        "start_time": "2022-02-05T16:23:54.296Z"
      },
      {
        "duration": 28,
        "start_time": "2022-02-05T16:23:55.688Z"
      },
      {
        "duration": 15,
        "start_time": "2022-02-05T16:23:55.719Z"
      },
      {
        "duration": 43,
        "start_time": "2022-02-05T16:23:55.737Z"
      },
      {
        "duration": 34,
        "start_time": "2022-02-05T16:23:55.782Z"
      },
      {
        "duration": 36,
        "start_time": "2022-02-05T16:23:55.818Z"
      },
      {
        "duration": 4,
        "start_time": "2022-02-05T16:23:55.856Z"
      },
      {
        "duration": 7,
        "start_time": "2022-02-05T16:23:55.864Z"
      },
      {
        "duration": 48,
        "start_time": "2022-02-05T16:23:55.873Z"
      },
      {
        "duration": 7,
        "start_time": "2022-02-05T16:23:55.924Z"
      },
      {
        "duration": 11,
        "start_time": "2022-02-05T16:23:55.934Z"
      },
      {
        "duration": 10,
        "start_time": "2022-02-05T16:23:55.947Z"
      },
      {
        "duration": 9,
        "start_time": "2022-02-05T16:23:55.959Z"
      },
      {
        "duration": 71,
        "start_time": "2022-02-05T16:23:55.970Z"
      },
      {
        "duration": 7,
        "start_time": "2022-02-05T16:23:56.044Z"
      },
      {
        "duration": 26,
        "start_time": "2022-02-05T16:23:56.053Z"
      },
      {
        "duration": 50,
        "start_time": "2022-02-05T16:23:56.082Z"
      },
      {
        "duration": 12,
        "start_time": "2022-02-05T16:23:56.135Z"
      },
      {
        "duration": 17,
        "start_time": "2022-02-05T16:23:56.149Z"
      },
      {
        "duration": 105,
        "start_time": "2022-02-05T16:23:56.168Z"
      },
      {
        "duration": 3992,
        "start_time": "2022-02-05T16:23:56.275Z"
      },
      {
        "duration": 8,
        "start_time": "2022-02-05T16:24:00.269Z"
      },
      {
        "duration": 36,
        "start_time": "2022-02-05T16:24:00.280Z"
      },
      {
        "duration": 7,
        "start_time": "2022-02-05T16:24:00.319Z"
      },
      {
        "duration": 3045,
        "start_time": "2022-02-05T16:24:00.328Z"
      },
      {
        "duration": 20,
        "start_time": "2022-02-05T16:24:03.375Z"
      },
      {
        "duration": 336,
        "start_time": "2022-02-05T16:24:03.397Z"
      },
      {
        "duration": 362,
        "start_time": "2022-02-05T16:24:03.373Z"
      },
      {
        "duration": 361,
        "start_time": "2022-02-05T16:24:03.376Z"
      },
      {
        "duration": 359,
        "start_time": "2022-02-05T16:24:03.378Z"
      },
      {
        "duration": 358,
        "start_time": "2022-02-05T16:24:03.380Z"
      },
      {
        "duration": 25,
        "start_time": "2022-02-05T16:24:27.476Z"
      },
      {
        "duration": 1217,
        "start_time": "2022-02-05T16:24:37.896Z"
      },
      {
        "duration": 20,
        "start_time": "2022-02-05T16:24:39.115Z"
      },
      {
        "duration": 8,
        "start_time": "2022-02-05T16:24:39.136Z"
      },
      {
        "duration": 35,
        "start_time": "2022-02-05T16:24:39.146Z"
      },
      {
        "duration": 34,
        "start_time": "2022-02-05T16:24:39.183Z"
      },
      {
        "duration": 20,
        "start_time": "2022-02-05T16:24:39.219Z"
      },
      {
        "duration": 5,
        "start_time": "2022-02-05T16:24:39.241Z"
      },
      {
        "duration": 5,
        "start_time": "2022-02-05T16:24:39.249Z"
      },
      {
        "duration": 7,
        "start_time": "2022-02-05T16:24:39.257Z"
      },
      {
        "duration": 48,
        "start_time": "2022-02-05T16:24:39.265Z"
      },
      {
        "duration": 7,
        "start_time": "2022-02-05T16:24:39.315Z"
      },
      {
        "duration": 8,
        "start_time": "2022-02-05T16:24:39.323Z"
      },
      {
        "duration": 7,
        "start_time": "2022-02-05T16:24:39.333Z"
      },
      {
        "duration": 19,
        "start_time": "2022-02-05T16:24:39.341Z"
      },
      {
        "duration": 4,
        "start_time": "2022-02-05T16:24:39.362Z"
      },
      {
        "duration": 60,
        "start_time": "2022-02-05T16:24:39.367Z"
      },
      {
        "duration": 14,
        "start_time": "2022-02-05T16:24:39.428Z"
      },
      {
        "duration": 8,
        "start_time": "2022-02-05T16:24:39.444Z"
      },
      {
        "duration": 18,
        "start_time": "2022-02-05T16:24:39.454Z"
      },
      {
        "duration": 92,
        "start_time": "2022-02-05T16:24:39.474Z"
      },
      {
        "duration": 3586,
        "start_time": "2022-02-05T16:24:39.568Z"
      },
      {
        "duration": 9,
        "start_time": "2022-02-05T16:24:43.156Z"
      },
      {
        "duration": 15,
        "start_time": "2022-02-05T16:24:43.168Z"
      },
      {
        "duration": 28,
        "start_time": "2022-02-05T16:24:43.185Z"
      },
      {
        "duration": 3081,
        "start_time": "2022-02-05T16:24:43.215Z"
      },
      {
        "duration": 24,
        "start_time": "2022-02-05T16:24:46.297Z"
      },
      {
        "duration": 23,
        "start_time": "2022-02-05T16:24:46.322Z"
      },
      {
        "duration": 23,
        "start_time": "2022-02-05T16:24:46.347Z"
      },
      {
        "duration": 55,
        "start_time": "2022-02-05T16:24:46.371Z"
      },
      {
        "duration": 22,
        "start_time": "2022-02-05T16:24:46.427Z"
      },
      {
        "duration": 20,
        "start_time": "2022-02-05T16:24:46.451Z"
      },
      {
        "duration": 20,
        "start_time": "2022-02-05T16:25:37.231Z"
      },
      {
        "duration": 23,
        "start_time": "2022-02-05T16:25:56.481Z"
      },
      {
        "duration": 21,
        "start_time": "2022-02-05T16:26:05.938Z"
      },
      {
        "duration": 24,
        "start_time": "2022-02-05T16:27:35.675Z"
      },
      {
        "duration": 1226,
        "start_time": "2022-02-05T16:28:04.339Z"
      },
      {
        "duration": 16,
        "start_time": "2022-02-05T16:28:05.570Z"
      },
      {
        "duration": 7,
        "start_time": "2022-02-05T16:28:05.588Z"
      },
      {
        "duration": 39,
        "start_time": "2022-02-05T16:28:05.597Z"
      },
      {
        "duration": 9,
        "start_time": "2022-02-05T16:28:05.638Z"
      },
      {
        "duration": 21,
        "start_time": "2022-02-05T16:28:05.649Z"
      },
      {
        "duration": 4,
        "start_time": "2022-02-05T16:28:05.672Z"
      },
      {
        "duration": 8,
        "start_time": "2022-02-05T16:28:05.678Z"
      },
      {
        "duration": 8,
        "start_time": "2022-02-05T16:28:05.688Z"
      },
      {
        "duration": 5,
        "start_time": "2022-02-05T16:28:05.698Z"
      },
      {
        "duration": 9,
        "start_time": "2022-02-05T16:28:05.712Z"
      },
      {
        "duration": 10,
        "start_time": "2022-02-05T16:28:05.723Z"
      },
      {
        "duration": 10,
        "start_time": "2022-02-05T16:28:05.735Z"
      },
      {
        "duration": 85,
        "start_time": "2022-02-05T16:28:05.747Z"
      },
      {
        "duration": 6,
        "start_time": "2022-02-05T16:28:05.834Z"
      },
      {
        "duration": 27,
        "start_time": "2022-02-05T16:28:05.842Z"
      },
      {
        "duration": 15,
        "start_time": "2022-02-05T16:28:05.871Z"
      },
      {
        "duration": 31,
        "start_time": "2022-02-05T16:28:05.887Z"
      },
      {
        "duration": 14,
        "start_time": "2022-02-05T16:28:05.919Z"
      },
      {
        "duration": 78,
        "start_time": "2022-02-05T16:28:05.934Z"
      },
      {
        "duration": 3600,
        "start_time": "2022-02-05T16:28:06.014Z"
      },
      {
        "duration": 8,
        "start_time": "2022-02-05T16:28:09.618Z"
      },
      {
        "duration": 14,
        "start_time": "2022-02-05T16:28:09.628Z"
      },
      {
        "duration": 8,
        "start_time": "2022-02-05T16:28:09.643Z"
      },
      {
        "duration": 3054,
        "start_time": "2022-02-05T16:28:09.653Z"
      },
      {
        "duration": 21,
        "start_time": "2022-02-05T16:28:12.712Z"
      },
      {
        "duration": 25,
        "start_time": "2022-02-05T16:28:12.735Z"
      },
      {
        "duration": 22,
        "start_time": "2022-02-05T16:28:12.762Z"
      },
      {
        "duration": 23,
        "start_time": "2022-02-05T16:28:12.813Z"
      },
      {
        "duration": 23,
        "start_time": "2022-02-05T16:28:12.838Z"
      },
      {
        "duration": 20,
        "start_time": "2022-02-05T16:28:12.862Z"
      },
      {
        "duration": 98,
        "start_time": "2022-02-05T16:30:09.855Z"
      },
      {
        "duration": 11,
        "start_time": "2022-02-05T16:30:30.074Z"
      },
      {
        "duration": 67,
        "start_time": "2022-02-05T16:30:52.554Z"
      },
      {
        "duration": 1176,
        "start_time": "2022-02-05T16:33:36.637Z"
      },
      {
        "duration": 17,
        "start_time": "2022-02-05T16:33:37.815Z"
      },
      {
        "duration": 9,
        "start_time": "2022-02-05T16:33:37.834Z"
      },
      {
        "duration": 39,
        "start_time": "2022-02-05T16:33:37.845Z"
      },
      {
        "duration": 31,
        "start_time": "2022-02-05T16:33:37.886Z"
      },
      {
        "duration": 23,
        "start_time": "2022-02-05T16:33:37.918Z"
      },
      {
        "duration": 5,
        "start_time": "2022-02-05T16:33:37.943Z"
      },
      {
        "duration": 5,
        "start_time": "2022-02-05T16:33:37.949Z"
      },
      {
        "duration": 7,
        "start_time": "2022-02-05T16:33:37.958Z"
      },
      {
        "duration": 6,
        "start_time": "2022-02-05T16:33:38.012Z"
      },
      {
        "duration": 8,
        "start_time": "2022-02-05T16:33:38.021Z"
      },
      {
        "duration": 9,
        "start_time": "2022-02-05T16:33:38.031Z"
      },
      {
        "duration": 9,
        "start_time": "2022-02-05T16:33:38.042Z"
      },
      {
        "duration": 62,
        "start_time": "2022-02-05T16:33:38.053Z"
      },
      {
        "duration": 6,
        "start_time": "2022-02-05T16:33:38.117Z"
      },
      {
        "duration": 18,
        "start_time": "2022-02-05T16:33:38.124Z"
      },
      {
        "duration": 15,
        "start_time": "2022-02-05T16:33:38.144Z"
      },
      {
        "duration": 8,
        "start_time": "2022-02-05T16:33:38.160Z"
      },
      {
        "duration": 45,
        "start_time": "2022-02-05T16:33:38.169Z"
      },
      {
        "duration": 46,
        "start_time": "2022-02-05T16:33:38.216Z"
      },
      {
        "duration": 3653,
        "start_time": "2022-02-05T16:33:38.264Z"
      },
      {
        "duration": 8,
        "start_time": "2022-02-05T16:33:41.919Z"
      },
      {
        "duration": 15,
        "start_time": "2022-02-05T16:33:41.929Z"
      },
      {
        "duration": 7,
        "start_time": "2022-02-05T16:33:41.946Z"
      },
      {
        "duration": 3252,
        "start_time": "2022-02-05T16:33:41.955Z"
      },
      {
        "duration": 22,
        "start_time": "2022-02-05T16:33:45.209Z"
      },
      {
        "duration": 23,
        "start_time": "2022-02-05T16:33:45.235Z"
      },
      {
        "duration": 23,
        "start_time": "2022-02-05T16:33:45.260Z"
      },
      {
        "duration": 23,
        "start_time": "2022-02-05T16:33:45.313Z"
      },
      {
        "duration": 22,
        "start_time": "2022-02-05T16:33:45.338Z"
      },
      {
        "duration": 52,
        "start_time": "2022-02-05T16:33:45.362Z"
      },
      {
        "duration": 336,
        "start_time": "2022-02-06T14:59:34.997Z"
      },
      {
        "duration": 271,
        "start_time": "2022-02-06T14:59:43.426Z"
      },
      {
        "duration": 1451,
        "start_time": "2022-02-06T14:59:48.669Z"
      },
      {
        "duration": 21,
        "start_time": "2022-02-06T14:59:50.123Z"
      },
      {
        "duration": 11,
        "start_time": "2022-02-06T14:59:50.160Z"
      },
      {
        "duration": 46,
        "start_time": "2022-02-06T14:59:50.174Z"
      },
      {
        "duration": 11,
        "start_time": "2022-02-06T14:59:50.223Z"
      },
      {
        "duration": 20,
        "start_time": "2022-02-06T14:59:50.260Z"
      },
      {
        "duration": 31,
        "start_time": "2022-02-06T14:59:50.282Z"
      },
      {
        "duration": 43,
        "start_time": "2022-02-06T14:59:50.316Z"
      },
      {
        "duration": 10,
        "start_time": "2022-02-06T14:59:50.363Z"
      },
      {
        "duration": 12,
        "start_time": "2022-02-06T14:59:50.375Z"
      },
      {
        "duration": 10,
        "start_time": "2022-02-06T14:59:50.390Z"
      },
      {
        "duration": 11,
        "start_time": "2022-02-06T14:59:50.402Z"
      },
      {
        "duration": 52,
        "start_time": "2022-02-06T14:59:50.416Z"
      },
      {
        "duration": 12,
        "start_time": "2022-02-06T14:59:50.471Z"
      },
      {
        "duration": 33,
        "start_time": "2022-02-06T14:59:50.485Z"
      },
      {
        "duration": 40,
        "start_time": "2022-02-06T14:59:50.521Z"
      },
      {
        "duration": 24,
        "start_time": "2022-02-06T14:59:50.564Z"
      },
      {
        "duration": 20,
        "start_time": "2022-02-06T14:59:50.591Z"
      },
      {
        "duration": 52,
        "start_time": "2022-02-06T14:59:50.614Z"
      },
      {
        "duration": 22,
        "start_time": "2022-02-06T14:59:50.668Z"
      },
      {
        "duration": 103,
        "start_time": "2022-02-06T14:59:50.693Z"
      },
      {
        "duration": 5653,
        "start_time": "2022-02-06T14:59:50.799Z"
      },
      {
        "duration": 11,
        "start_time": "2022-02-06T14:59:56.462Z"
      },
      {
        "duration": 17,
        "start_time": "2022-02-06T14:59:56.476Z"
      },
      {
        "duration": 10,
        "start_time": "2022-02-06T14:59:56.496Z"
      },
      {
        "duration": 6875,
        "start_time": "2022-02-06T14:59:56.508Z"
      },
      {
        "duration": 40,
        "start_time": "2022-02-06T15:00:03.386Z"
      },
      {
        "duration": 58,
        "start_time": "2022-02-06T15:00:03.428Z"
      },
      {
        "duration": 33,
        "start_time": "2022-02-06T15:00:03.488Z"
      },
      {
        "duration": 58,
        "start_time": "2022-02-06T15:00:03.523Z"
      },
      {
        "duration": 34,
        "start_time": "2022-02-06T15:00:03.584Z"
      },
      {
        "duration": 62,
        "start_time": "2022-02-06T15:00:03.620Z"
      }
    ],
    "kernelspec": {
      "display_name": "Python 3 (ipykernel)",
      "language": "python",
      "name": "python3"
    },
    "language_info": {
      "codemirror_mode": {
        "name": "ipython",
        "version": 3
      },
      "file_extension": ".py",
      "mimetype": "text/x-python",
      "name": "python",
      "nbconvert_exporter": "python",
      "pygments_lexer": "ipython3",
      "version": "3.10.6"
    },
    "toc": {
      "base_numbering": 1,
      "nav_menu": {},
      "number_sections": true,
      "sideBar": true,
      "skip_h1_title": true,
      "title_cell": "Table of Contents",
      "title_sidebar": "Contents",
      "toc_cell": false,
      "toc_position": {},
      "toc_section_display": true,
      "toc_window_display": true
    },
    "colab": {
      "provenance": []
    }
  },
  "nbformat": 4,
  "nbformat_minor": 0
}